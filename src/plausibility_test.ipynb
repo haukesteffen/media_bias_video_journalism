{
 "cells": [
  {
   "cell_type": "code",
   "execution_count": 28,
   "metadata": {},
   "outputs": [],
   "source": [
    "import pandas as pd\n",
    "from sklearn.metrics import confusion_matrix\n",
    "import disarray\n",
    "import seaborn as sns\n",
    "import matplotlib.pyplot as plt\n",
    "import numpy as np"
   ]
  },
  {
   "cell_type": "code",
   "execution_count": 29,
   "metadata": {},
   "outputs": [],
   "source": [
    "party_classifications = pd.read_pickle('../data/sentiment/party_sentiment_classifications.pkl')\n",
    "politician_classifications = pd.read_pickle('../data/sentiment/politician_sentiment_classifications.pkl')\n",
    "party_mentions = pd.read_pickle('../data/sentiment/party_mentions.pkl')\n",
    "politician_mentions = pd.read_pickle('../data/sentiment/politician_mentions.pkl')\n",
    "party_classifications_without_trump = party_classifications.loc[party_classifications['party'] != 'trump']"
   ]
  },
  {
   "cell_type": "code",
   "execution_count": 30,
   "metadata": {},
   "outputs": [],
   "source": [
    "sent_sample_reemt = party_classifications_without_trump.sample(random_state=44, n=100).reset_index()\n",
    "sent_sample_reemt.to_pickle('../data/plausibility_tests/reemt_sentiment_2.pkl')\n",
    "sent_sample_reemt['extracted_string'].to_csv('../data/plausibility_tests/reemt_sentiment_2.csv')"
   ]
  },
  {
   "cell_type": "code",
   "execution_count": 31,
   "metadata": {},
   "outputs": [],
   "source": [
    "sent_sample_hauke = party_classifications_without_trump.sample(random_state=45, n=100).reset_index()\n",
    "sent_sample_hauke.to_pickle('../data/plausibility_tests/hauke_sentiment_2.pkl')\n",
    "sent_sample_hauke['extracted_string'].to_csv('../data/plausibility_tests/hauke_sentiment_2.csv')"
   ]
  },
  {
   "cell_type": "code",
   "execution_count": 32,
   "metadata": {},
   "outputs": [],
   "source": [
    "for party in ['linke', 'grüne', 'spd', 'fdp', 'cdu', 'csu', 'afd']:\n",
    "    politician_sample_reemt = politician_classifications[politician_classifications['party'] == party].sample(random_state=46,n=50)\n",
    "    party_sample_reemt = party_classifications[party_classifications['party'] == party].sample(random_state=47,n=50)\n",
    "    politician_sample_hauke = politician_classifications[politician_classifications['party'] == party].sample(random_state=48,n=50)\n",
    "    party_sample_hauke = party_classifications[party_classifications['party'] == party].sample(random_state=49,n=50)\n",
    "\n",
    "    politician_sample_reemt.extracted_string.to_csv(f'../data/plausibility_tests/reemt_politician_{party}_2.csv')\n",
    "    party_sample_reemt.extracted_string.to_csv(f'../data/plausibility_tests/reemt_party_{party}_2.csv')\n",
    "    politician_sample_hauke.extracted_string.to_csv(f'../data/plausibility_tests/hauke_politician_{party}_2.csv')\n",
    "    party_sample_hauke.extracted_string.to_csv(f'../data/plausibility_tests/hauke_party_{party}_2.csv')\n",
    "\n",
    "    politician_sample_reemt.to_pickle(f'../data/plausibility_tests/reemt_politician_{party}_2.pkl')\n",
    "    party_sample_reemt.to_pickle(f'../data/plausibility_tests/reemt_party_{party}_2.pkl')\n",
    "    politician_sample_hauke.to_pickle(f'../data/plausibility_tests/hauke_politician_{party}_2.pkl')\n",
    "    party_sample_hauke.to_pickle(f'../data/plausibility_tests/hauke_party_{party}_2.pkl')\n",
    "    "
   ]
  },
  {
   "cell_type": "code",
   "execution_count": 33,
   "metadata": {},
   "outputs": [],
   "source": [
    "test123 = sent_sample_hauke['extracted_string']"
   ]
  },
  {
   "cell_type": "code",
   "execution_count": 34,
   "metadata": {},
   "outputs": [],
   "source": [
    "plausibility_test = [\n",
    "    'neg',#0\n",
    "    'neu',#1\n",
    "    'neu',#2\n",
    "    'neg',#3\n",
    "    'neg',#4\n",
    "    'pos',#5\n",
    "    'pos',#6\n",
    "    'pos',#7\n",
    "    'neg',#8\n",
    "    'neu',#9\n",
    "    'pos',#10\n",
    "    'neu',#11\n",
    "    'pos',#12\n",
    "    'neg',#13\n",
    "    'neu',#14\n",
    "    'neg',#15\n",
    "    'neg',#16\n",
    "    'neu',#17\n",
    "    'neu',#18\n",
    "    'neg',#19\n",
    "    'neu',#20\n",
    "    'neu',#21\n",
    "    'neg',#22\n",
    "    'pos',#23\n",
    "    'neg',#24\n",
    "    'neg',#25\n",
    "    'pos',#26\n",
    "    'neu',#27\n",
    "    'neu',#28\n",
    "    'neu',#29\n",
    "    'neg',#30\n",
    "    'neg',#31\n",
    "    'neg',#32\n",
    "    'neu',#33\n",
    "    'neu',#34\n",
    "    'neg',#35\n",
    "    'neu',#36\n",
    "    'neu',#37\n",
    "    'neu',#38\n",
    "    'neu',#39\n",
    "    'neg',#40\n",
    "    'neg',#41\n",
    "    'neg',#42\n",
    "    'neg',#43\n",
    "    'neu',#44\n",
    "    'neu',#45\n",
    "    'neu',#46\n",
    "    'neu',#47\n",
    "    'neg',#48\n",
    "    'neg',#49\n",
    "    'neu',#50\n",
    "    'neu',#51\n",
    "    'neu',#52\n",
    "    'pos',#53\n",
    "    'neg',#54\n",
    "    'neu',#55\n",
    "    'neg',#56\n",
    "    'neu',#57\n",
    "    'neu',#58\n",
    "    'neu',#59\n",
    "    'neu',#60\n",
    "    'neu',#61\n",
    "    'neg',#62\n",
    "    'pos',#63\n",
    "    'neu',#64\n",
    "    'neg',#65\n",
    "    'neu',#66\n",
    "    'pos',#67\n",
    "    'neg',#68\n",
    "    'pos',#69\n",
    "    'neu',#70\n",
    "    'neg',#71\n",
    "    'neg',#72\n",
    "    'neg',#73\n",
    "    'neg',#74\n",
    "    'neu',#75\n",
    "    'neu',#76\n",
    "    'neg',#77\n",
    "    'pos',#78\n",
    "    'neu',#79\n",
    "    'neu',#80\n",
    "    'neu',#81\n",
    "    'neg',#82\n",
    "    'neu',#83\n",
    "    'neu',#84\n",
    "    'pos',#85\n",
    "    'neg',#86\n",
    "    'pos',#87\n",
    "    'neu',#88\n",
    "    'neu',#89\n",
    "    'neg',#90\n",
    "    'neg',#91\n",
    "    'neu',#92\n",
    "    'neg',#93\n",
    "    'neg',#94\n",
    "    'neu',#95\n",
    "    'neg',#96\n",
    "    'pos',#97\n",
    "    'neu',#98\n",
    "    'neu',#99\n",
    "]"
   ]
  },
  {
   "cell_type": "code",
   "execution_count": 35,
   "metadata": {},
   "outputs": [],
   "source": [
    "sent_sample_hauke['manual'] = plausibility_test\n",
    "renaming = {'positive':'pos','neutral':'neu','negative':'neg'}\n",
    "sent_sample_hauke['automatic'] = sent_sample_hauke[['positive', 'neutral', 'negative']].idxmax(axis=1).apply(lambda x: renaming[x])\n",
    "sent_sample_hauke['match'] = sent_sample_hauke['manual'] == sent_sample_hauke['automatic']"
   ]
  },
  {
   "cell_type": "code",
   "execution_count": 36,
   "metadata": {},
   "outputs": [
    {
     "data": {
      "text/plain": [
       "59"
      ]
     },
     "execution_count": 36,
     "metadata": {},
     "output_type": "execute_result"
    }
   ],
   "source": [
    "sent_sample_hauke['match'].sum()"
   ]
  },
  {
   "cell_type": "code",
   "execution_count": 37,
   "metadata": {},
   "outputs": [
    {
     "data": {
      "text/plain": [
       "array([[ 6,  6,  3],\n",
       "       [ 4, 23, 20],\n",
       "       [ 1,  7, 30]])"
      ]
     },
     "execution_count": 37,
     "metadata": {},
     "output_type": "execute_result"
    }
   ],
   "source": [
    "confmat_hauke = confusion_matrix(sent_sample_hauke['manual'], sent_sample_hauke['automatic'], labels=['pos', 'neu', 'neg'])\n",
    "confmat_hauke"
   ]
  },
  {
   "cell_type": "code",
   "execution_count": 38,
   "metadata": {},
   "outputs": [],
   "source": [
    "old_confmat = np.array([[11, 8, 8],\n",
    "                    [17, 55, 34],\n",
    "                    [1, 11, 55]])"
   ]
  },
  {
   "cell_type": "code",
   "execution_count": 39,
   "metadata": {},
   "outputs": [],
   "source": [
    "sent_sample_reemt_nachtrag = party_classifications_without_trump.sample(random_state=50, n=2).reset_index()\n",
    "sent_sample_reemt_nachtrag.to_pickle('../data/plausibility_tests/reemt_sentiment_2.pkl')\n",
    "sent_sample_reemt_nachtrag['extracted_string'].to_csv('../data/plausibility_tests/reemt_sentiment_2.csv')"
   ]
  },
  {
   "cell_type": "code",
   "execution_count": 40,
   "metadata": {},
   "outputs": [],
   "source": [
    "sent_sample_reemt_ausgewertet = pd.read_csv('../data/plausibility_tests/ausgewertet/reemt_sentiment_2.csv')\n",
    "sent_sample_reemt_nachtrag_ausgewertet = pd.read_csv('../data/plausibility_tests/ausgewertet/reemt_sentiment_2_nachtrag.csv')"
   ]
  },
  {
   "cell_type": "code",
   "execution_count": 41,
   "metadata": {},
   "outputs": [],
   "source": [
    "sent_sample_reemt['manual'] = sent_sample_reemt_ausgewertet['Unnamed: 2']\n",
    "sent_sample_reemt_nachtrag['manual'] = sent_sample_reemt_nachtrag_ausgewertet['Unnamed: 2']\n",
    "sent_sample_reemt = pd.concat([sent_sample_reemt, sent_sample_reemt_nachtrag])\n",
    "sent_sample_reemt.dropna(subset=['manual'], inplace=True)\n",
    "renaming = {'positive':'pos','neutral':'neu','negative':'neg'}\n",
    "sent_sample_reemt['automatic'] = sent_sample_reemt[['positive', 'neutral', 'negative']].idxmax(axis=1).apply(lambda x: renaming[x])\n",
    "sent_sample_reemt['match'] = sent_sample_reemt['manual'] == sent_sample_reemt['automatic']"
   ]
  },
  {
   "cell_type": "code",
   "execution_count": 42,
   "metadata": {},
   "outputs": [
    {
     "data": {
      "text/plain": [
       "51"
      ]
     },
     "execution_count": 42,
     "metadata": {},
     "output_type": "execute_result"
    }
   ],
   "source": [
    "sent_sample_reemt['match'].sum()"
   ]
  },
  {
   "cell_type": "code",
   "execution_count": 43,
   "metadata": {},
   "outputs": [
    {
     "data": {
      "text/plain": [
       "array([[ 7,  3, 11],\n",
       "       [ 3, 21, 13],\n",
       "       [ 5, 14, 23]])"
      ]
     },
     "execution_count": 43,
     "metadata": {},
     "output_type": "execute_result"
    }
   ],
   "source": [
    "confmat_reemt = confusion_matrix(sent_sample_reemt['manual'], sent_sample_reemt['automatic'], labels=['pos', 'neu', 'neg'])\n",
    "confmat_reemt"
   ]
  },
  {
   "cell_type": "code",
   "execution_count": 44,
   "metadata": {},
   "outputs": [],
   "source": [
    "new_confmat = old_confmat+confmat_hauke+confmat_reemt"
   ]
  },
  {
   "cell_type": "code",
   "execution_count": 45,
   "metadata": {},
   "outputs": [
    {
     "data": {
      "text/html": [
       "<div>\n",
       "<style scoped>\n",
       "    .dataframe tbody tr th:only-of-type {\n",
       "        vertical-align: middle;\n",
       "    }\n",
       "\n",
       "    .dataframe tbody tr th {\n",
       "        vertical-align: top;\n",
       "    }\n",
       "\n",
       "    .dataframe thead th {\n",
       "        text-align: right;\n",
       "    }\n",
       "</style>\n",
       "<table border=\"1\" class=\"dataframe\">\n",
       "  <thead>\n",
       "    <tr style=\"text-align: right;\">\n",
       "      <th></th>\n",
       "      <th>pos</th>\n",
       "      <th>neu</th>\n",
       "      <th>neg</th>\n",
       "      <th>micro-average</th>\n",
       "    </tr>\n",
       "  </thead>\n",
       "  <tbody>\n",
       "    <tr>\n",
       "      <th>accuracy</th>\n",
       "      <td>0.825000</td>\n",
       "      <td>0.650000</td>\n",
       "      <td>0.680000</td>\n",
       "      <td>0.718333</td>\n",
       "    </tr>\n",
       "    <tr>\n",
       "      <th>f1</th>\n",
       "      <td>0.406780</td>\n",
       "      <td>0.585799</td>\n",
       "      <td>0.627907</td>\n",
       "      <td>0.577500</td>\n",
       "    </tr>\n",
       "    <tr>\n",
       "      <th>false_discovery_rate</th>\n",
       "      <td>0.563636</td>\n",
       "      <td>0.331081</td>\n",
       "      <td>0.451777</td>\n",
       "      <td>0.422500</td>\n",
       "    </tr>\n",
       "    <tr>\n",
       "      <th>false_negative_rate</th>\n",
       "      <td>0.619048</td>\n",
       "      <td>0.478947</td>\n",
       "      <td>0.265306</td>\n",
       "      <td>0.422500</td>\n",
       "    </tr>\n",
       "    <tr>\n",
       "      <th>false_positive_rate</th>\n",
       "      <td>0.091988</td>\n",
       "      <td>0.233333</td>\n",
       "      <td>0.351779</td>\n",
       "      <td>0.211250</td>\n",
       "    </tr>\n",
       "    <tr>\n",
       "      <th>negative_predictive_value</th>\n",
       "      <td>0.886957</td>\n",
       "      <td>0.638889</td>\n",
       "      <td>0.807882</td>\n",
       "      <td>0.788750</td>\n",
       "    </tr>\n",
       "    <tr>\n",
       "      <th>positive_predictive_value</th>\n",
       "      <td>0.436364</td>\n",
       "      <td>0.668919</td>\n",
       "      <td>0.548223</td>\n",
       "      <td>0.577500</td>\n",
       "    </tr>\n",
       "    <tr>\n",
       "      <th>precision</th>\n",
       "      <td>0.436364</td>\n",
       "      <td>0.668919</td>\n",
       "      <td>0.548223</td>\n",
       "      <td>0.577500</td>\n",
       "    </tr>\n",
       "    <tr>\n",
       "      <th>recall</th>\n",
       "      <td>0.380952</td>\n",
       "      <td>0.521053</td>\n",
       "      <td>0.734694</td>\n",
       "      <td>0.577500</td>\n",
       "    </tr>\n",
       "    <tr>\n",
       "      <th>sensitivity</th>\n",
       "      <td>0.380952</td>\n",
       "      <td>0.521053</td>\n",
       "      <td>0.734694</td>\n",
       "      <td>0.577500</td>\n",
       "    </tr>\n",
       "    <tr>\n",
       "      <th>specificity</th>\n",
       "      <td>0.908012</td>\n",
       "      <td>0.766667</td>\n",
       "      <td>0.648221</td>\n",
       "      <td>0.788750</td>\n",
       "    </tr>\n",
       "    <tr>\n",
       "      <th>true_negative_rate</th>\n",
       "      <td>0.908012</td>\n",
       "      <td>0.766667</td>\n",
       "      <td>0.648221</td>\n",
       "      <td>0.788750</td>\n",
       "    </tr>\n",
       "    <tr>\n",
       "      <th>true_positive_rate</th>\n",
       "      <td>0.380952</td>\n",
       "      <td>0.521053</td>\n",
       "      <td>0.734694</td>\n",
       "      <td>0.577500</td>\n",
       "    </tr>\n",
       "  </tbody>\n",
       "</table>\n",
       "</div>"
      ],
      "text/plain": [
       "                                pos       neu       neg  micro-average\n",
       "accuracy                   0.825000  0.650000  0.680000       0.718333\n",
       "f1                         0.406780  0.585799  0.627907       0.577500\n",
       "false_discovery_rate       0.563636  0.331081  0.451777       0.422500\n",
       "false_negative_rate        0.619048  0.478947  0.265306       0.422500\n",
       "false_positive_rate        0.091988  0.233333  0.351779       0.211250\n",
       "negative_predictive_value  0.886957  0.638889  0.807882       0.788750\n",
       "positive_predictive_value  0.436364  0.668919  0.548223       0.577500\n",
       "precision                  0.436364  0.668919  0.548223       0.577500\n",
       "recall                     0.380952  0.521053  0.734694       0.577500\n",
       "sensitivity                0.380952  0.521053  0.734694       0.577500\n",
       "specificity                0.908012  0.766667  0.648221       0.788750\n",
       "true_negative_rate         0.908012  0.766667  0.648221       0.788750\n",
       "true_positive_rate         0.380952  0.521053  0.734694       0.577500"
      ]
     },
     "execution_count": 45,
     "metadata": {},
     "output_type": "execute_result"
    }
   ],
   "source": [
    "new_confmat_df = pd.DataFrame(new_confmat, index= ['pos','neu','neg'], columns=['pos','neu','neg'])\n",
    "new_confmat_df.da.export_metrics()"
   ]
  },
  {
   "cell_type": "code",
   "execution_count": 46,
   "metadata": {},
   "outputs": [],
   "source": [
    "new_confmat = new_confmat.T"
   ]
  },
  {
   "cell_type": "code",
   "execution_count": 47,
   "metadata": {},
   "outputs": [
    {
     "name": "stderr",
     "output_type": "stream",
     "text": [
      "/var/folders/k5/jm1h82sn2vd8d4f_0f1091r00000gn/T/ipykernel_41014/3845287348.py:20: UserWarning: cmr10 font should ideally be used with mathtext, set axes.formatter.use_mathtext to True\n",
      "  f, ax = plt.subplots(figsize=(9, 8))\n"
     ]
    }
   ],
   "source": [
    "from pathlib import Path\n",
    "import matplotlib as mpl\n",
    "import matplotlib.font_manager as fm\n",
    "import matplotlib.pyplot as plt\n",
    "mpl.use('pdf')\n",
    "\n",
    "fpath = Path(mpl.get_data_path(), \"fonts/ttf/cmu_serif_roman.ttf\")\n",
    "fprop = fm.FontProperties(fname=fpath)\n",
    "\n",
    "width = 6.2 #inches\n",
    "height = width\n",
    "\n",
    "font = {'family':'serif', 'serif': ['cmr10'], 'size':12}\n",
    "plt.rc('font',**font)\n",
    "plt.rcParams['axes.unicode_minus'] = False\n",
    "plt.rc('axes', titlesize=12)\n",
    "plt.rc('xtick', labelsize=12)\n",
    "plt.rc('ytick', labelsize=12)\n",
    "\n",
    "f, ax = plt.subplots(figsize=(9, 8))\n",
    "f.subplots_adjust(left=0.08, bottom=.15, right=.95, top=.93)\n",
    "sns.heatmap(new_confmat.T, ax=ax, fmt=\"3g\", annot=True, linewidths=.5, cbar=False, cmap=sns.light_palette(\"seagreen\", as_cmap=True))\n",
    "ax.set_xlabel('Automatic', fontsize=12, font=fpath, color='black')\n",
    "ax.set_ylabel('Manual', fontsize=12, font=fpath, color='black')\n",
    "ax.set_title('Confusion Matrix of Manual Verification for german-news-sentiment-bert', fontsize=12, font=fpath, color='black')\n",
    "ax.set_xticklabels(['Positive', 'Neutral', 'Negative'], size=12, font=fpath, color='black')\n",
    "ax.set_yticklabels(['Positive', 'Neutral', 'Negative'], size=12, font=fpath, color='black')\n",
    "\n",
    "f.set_size_inches(width, height*11/21)\n",
    "f.savefig('../results/englisch/confusion_matrix_plausability_sentiment.pdf')"
   ]
  },
  {
   "cell_type": "code",
   "execution_count": 48,
   "metadata": {},
   "outputs": [
    {
     "data": {
      "text/plain": [
       "400"
      ]
     },
     "execution_count": 48,
     "metadata": {},
     "output_type": "execute_result"
    }
   ],
   "source": [
    "new_confmat.sum(axis=None)"
   ]
  },
  {
   "cell_type": "code",
   "execution_count": 49,
   "metadata": {},
   "outputs": [
    {
     "data": {
      "text/plain": [
       "array([0.1575, 0.475 , 0.3675])"
      ]
     },
     "execution_count": 49,
     "metadata": {},
     "output_type": "execute_result"
    }
   ],
   "source": [
    "#manual\n",
    "new_confmat.sum(axis=0)/400"
   ]
  },
  {
   "cell_type": "code",
   "execution_count": 50,
   "metadata": {},
   "outputs": [
    {
     "data": {
      "text/plain": [
       "array([0.1375, 0.37  , 0.4925])"
      ]
     },
     "execution_count": 50,
     "metadata": {},
     "output_type": "execute_result"
    }
   ],
   "source": [
    "#automatic\n",
    "new_confmat.sum(axis=1)/400"
   ]
  },
  {
   "cell_type": "code",
   "execution_count": 51,
   "metadata": {},
   "outputs": [],
   "source": [
    "afd_incorrect = 0\n",
    "cdu_incorrect = 0\n",
    "csu_incorrect = 0\n",
    "fdp_incorrect = 2\n",
    "#der eigenen inneren stimme zu folgen sven ole müller und nicole bauer beide amateur radrennfahrer aus thüringen hatten da erstmal keinen zugang\n",
    "#gescheitert absolut gescheitert dann wird darüber lustig gemacht dass die fdp fordert deutsch soll im grundgesetz stehen unabhängig davon wer das\n",
    "grüne_incorrect = 2\n",
    "#es gibt im meldung aus der ausbremst da müssen sich die grünen besorgen musste johnny depp hingegen sei da zu sein es\n",
    "#ja ich weiß es nicht also entweder einer von reifen die grünen ideen habe ich würde ich dann will ich wirklich der\n",
    "linke_incorrect = 7\n",
    "#auslösen wie das andreas baader verbreitet hatte man wollte und die linke szene für die für den aufstand zu zu animieren zu\n",
    "#gestern hat für uns in anfangsphase brutalen betrieb gemacht über die linke seite weil immer wieder an spielbar zwar für leverkusen ganz\n",
    "#geschnappt formel hingeben und mit meinem körper versucht zu schützen die linke hand nach oben gestreckt und so wir dann einige steine\n",
    "#die rechte vorkammer hier die rechte hauptkammer während also hier die linke kammern wo eben die ausschluss bahnverhältnisse sich eben kaum zusammenzieht\n",
    "#wurden beschädigt acht beamte leicht verletzt für heute abend hat die linke szene in leipzig neue kundgebungen angemeldet jetzt ein ganz anderes\n",
    "#seit jahren ist es zur mode der scheinheiligen rechten geworden die linke als buchstäblich korrupt darzustellen wie hier in recoleta haben eine\n",
    "#und ist eine riesige projektionsfläche einmal konservative die irgendwie glauben die linke sei stärker als sie eigentlich ist und weshalb habe die\n",
    "spd_incorrect = 0"
   ]
  }
 ],
 "metadata": {
  "kernelspec": {
   "display_name": "base",
   "language": "python",
   "name": "python3"
  },
  "language_info": {
   "codemirror_mode": {
    "name": "ipython",
    "version": 3
   },
   "file_extension": ".py",
   "mimetype": "text/x-python",
   "name": "python",
   "nbconvert_exporter": "python",
   "pygments_lexer": "ipython3",
   "version": "3.9.10 | packaged by conda-forge | (main, Feb  1 2022, 21:27:43) \n[Clang 11.1.0 ]"
  },
  "orig_nbformat": 4,
  "vscode": {
   "interpreter": {
    "hash": "9ae7ae13804f56b6812076ff88d4c743516b7c995d69dd5984882be015e04ad2"
   }
  }
 },
 "nbformat": 4,
 "nbformat_minor": 2
}
