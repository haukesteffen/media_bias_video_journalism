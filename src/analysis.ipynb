{
 "cells": [
  {
   "cell_type": "code",
   "execution_count": 1,
   "metadata": {},
   "outputs": [],
   "source": [
    "import pandas as pd\n",
    "import re"
   ]
  },
  {
   "cell_type": "code",
   "execution_count": 2,
   "metadata": {},
   "outputs": [],
   "source": [
    "search_terms = {'die linke':'linke',\n",
    "                'linkspartei':'linke',\n",
    "                'die grünen':'grüne',\n",
    "                'spd':'spd',\n",
    "                'freien demokraten':'fdp',\n",
    "                'fdp':'fdp',\n",
    "                'cdu':'cdu',\n",
    "                'csu':'csu',\n",
    "                'alternative für deutschland':'afd',\n",
    "                'afd':'afd', \n",
    "                'afg':'afd'}"
   ]
  },
  {
   "cell_type": "code",
   "execution_count": 3,
   "metadata": {},
   "outputs": [],
   "source": [
    "# read data, merge zdf, drop irrelevant media\n",
    "media_to_consider = ['NachDenkSeiten', 'taz', 'DER SPIEGEL', 'ARD', 'ZDF', 'Bayerischer Rundfunk', 'ntv Nachrichten', 'faz', 'WELT', 'BILD', 'COMPACTTV']\n",
    "df = pd.read_pickle('../data/combined.pkl')\n",
    "df.loc[df['medium'] == 'ZDFinfo Dokus & Reportagen', 'medium'] = 'ZDF'\n",
    "df.loc[df['medium'] == 'ZDFheute Nachrichten', 'medium'] = 'ZDF'\n",
    "df = df[df['medium'].isin(media_to_consider)]"
   ]
  },
  {
   "cell_type": "code",
   "execution_count": 4,
   "metadata": {},
   "outputs": [],
   "source": [
    "mention_df = pd.DataFrame(columns=['medium', 'id', 'title', 'minute', 'transcript', 'search_term', 'extracted_string'])"
   ]
  },
  {
   "cell_type": "code",
   "execution_count": 5,
   "metadata": {},
   "outputs": [],
   "source": [
    "def extract_string(transcript, search_term):\n",
    "  # Use a regular expression to find all occurrences of the search term in the transcript\n",
    "  pattern = r\"(?i)\\b\" + re.escape(search_term) + r\"\\b\"\n",
    "  matches = re.finditer(pattern, transcript)\n",
    "\n",
    "  # For each occurrence, extract a 21 word long string with the search term in the middle\n",
    "  extracted_strings = []\n",
    "  for match in matches:\n",
    "    start_index = match.start()\n",
    "    end_index = match.end()\n",
    "\n",
    "    # Split the transcript into words\n",
    "    words_before = transcript[:start_index].split()\n",
    "    words_after = transcript[end_index:].split()\n",
    "    if len(words_before) < 10:\n",
    "      return\n",
    "    if len(words_after) < 10:\n",
    "      return\n",
    "\n",
    "\n",
    "    # Extract the 21 word long string\n",
    "    string = ' '.join(words_before[-10:] + [search_term] + words_after[:10])\n",
    "    extracted_strings.append(string)\n",
    "\n",
    "  return extracted_strings\n",
    "\n",
    "\n",
    "# Create an empty list to store the rows of the new DataFrame\n",
    "rows = []\n",
    "\n",
    "# Iterate over the rows of the original DataFrame\n",
    "for _, row in df.iterrows():\n",
    "  medium = row['medium']\n",
    "  id = row['id']\n",
    "  title = row['title']\n",
    "  minute = row['minute']\n",
    "  transcript = row['transcript']\n",
    "\n",
    "\n",
    "  # For each search term, extract the relevant strings and add a row to the new DataFrame for each occurrence\n",
    "  for term in search_terms.keys():\n",
    "    extracted_strings = extract_string(transcript, term)\n",
    "    if extracted_strings:\n",
    "      for extracted_string in extracted_strings:\n",
    "        rows.append({'medium': medium, 'id': id, 'title': title, 'minute': minute, 'search_term': term, 'extracted_string': extracted_string})\n",
    "\n",
    "# Create the new DataFrame from the list of rows\n",
    "new_df = pd.DataFrame(rows, columns=['medium', 'id', 'search_term', 'extracted_string'])"
   ]
  },
  {
   "cell_type": "code",
   "execution_count": 6,
   "metadata": {},
   "outputs": [
    {
     "data": {
      "text/plain": [
       "spd                            28808\n",
       "cdu                            28157\n",
       "fdp                            19041\n",
       "csu                            10641\n",
       "die grünen                     10225\n",
       "afg                             7003\n",
       "afd                             3920\n",
       "die linke                       3072\n",
       "linkspartei                     1817\n",
       "freien demokraten                335\n",
       "alternative für deutschland      135\n",
       "Name: search_term, dtype: int64"
      ]
     },
     "execution_count": 6,
     "metadata": {},
     "output_type": "execute_result"
    }
   ],
   "source": [
    "new_df.search_term.value_counts()"
   ]
  },
  {
   "cell_type": "code",
   "execution_count": 14,
   "metadata": {},
   "outputs": [],
   "source": [
    "test = new_df.loc[new_df['search_term'] == 'die grünen', 'extracted_string'].sample(50)"
   ]
  },
  {
   "cell_type": "code",
   "execution_count": null,
   "metadata": {},
   "outputs": [],
   "source": []
  }
 ],
 "metadata": {
  "kernelspec": {
   "display_name": "base",
   "language": "python",
   "name": "python3"
  },
  "language_info": {
   "codemirror_mode": {
    "name": "ipython",
    "version": 3
   },
   "file_extension": ".py",
   "mimetype": "text/x-python",
   "name": "python",
   "nbconvert_exporter": "python",
   "pygments_lexer": "ipython3",
   "version": "3.9.10"
  },
  "orig_nbformat": 4,
  "vscode": {
   "interpreter": {
    "hash": "9ae7ae13804f56b6812076ff88d4c743516b7c995d69dd5984882be015e04ad2"
   }
  }
 },
 "nbformat": 4,
 "nbformat_minor": 2
}
