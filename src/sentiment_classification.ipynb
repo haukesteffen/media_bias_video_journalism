{
 "cells": [
  {
   "cell_type": "code",
   "execution_count": 15,
   "metadata": {},
   "outputs": [],
   "source": [
    "import pandas as pd\n",
    "from transformers import AutoTokenizer, AutoModelForSequenceClassification, pipeline\n",
    "from sklearn.preprocessing import StandardScaler\n",
    "from tqdm import tqdm\n",
    "tqdm.pandas()\n",
    "\n",
    "tokenizer = AutoTokenizer.from_pretrained(\"mdraw/german-news-sentiment-bert\")\n",
    "model = AutoModelForSequenceClassification.from_pretrained(\"mdraw/german-news-sentiment-bert\")\n",
    "classifier = pipeline(\"sentiment-analysis\", model=model, tokenizer=tokenizer)\n",
    "scaler = StandardScaler()"
   ]
  },
  {
   "cell_type": "code",
   "execution_count": 30,
   "metadata": {},
   "outputs": [],
   "source": [
    "party_df = pd.read_pickle('../data/mentions/party_mentions.pkl')\n",
    "politician_df = pd.read_pickle('../data/mentions/politician_mentions.pkl')"
   ]
  },
  {
   "cell_type": "code",
   "execution_count": 17,
   "metadata": {},
   "outputs": [],
   "source": [
    "def extract_sentiment_df(input_df):\n",
    "    input_df['sentiment'] = input_df['extracted_string'].progress_apply(classifier)\n",
    "    input_df['positive'] = [True if sent[0]['label']=='positive' else False for sent in input_df['sentiment']]\n",
    "    input_df['neutral'] = [True if sent[0]['label']=='neutral' else False for sent in input_df['sentiment']]\n",
    "    input_df['negative'] = [True if sent[0]['label']=='negative' else False for sent in input_df['sentiment']]\n",
    "    input_df['score'] = [sent[0]['score'] for sent in input_df['sentiment']]\n",
    "    input_df.drop(columns=['sentiment'], inplace=True)\n",
    "    return input_df"
   ]
  },
  {
   "cell_type": "code",
   "execution_count": null,
   "metadata": {},
   "outputs": [],
   "source": [
    "sentiment_classified_party_df = extract_sentiment_df(party_df)\n",
    "sentiment_classified_party_df.to_pickle('../data/sentiment/party_sentiment_classifications.pkl')"
   ]
  },
  {
   "cell_type": "code",
   "execution_count": 31,
   "metadata": {},
   "outputs": [
    {
     "name": "stderr",
     "output_type": "stream",
     "text": [
      "100%|██████████| 56850/56850 [54:29<00:00, 17.39it/s]  \n"
     ]
    }
   ],
   "source": [
    "sentiment_classified_politician_df = extract_sentiment_df(politician_df)\n",
    "sentiment_classified_politician_df.to_pickle('../data/sentiment/politician_sentiment_classifications.pkl')"
   ]
  }
 ],
 "metadata": {
  "kernelspec": {
   "display_name": "base",
   "language": "python",
   "name": "python3"
  },
  "language_info": {
   "codemirror_mode": {
    "name": "ipython",
    "version": 3
   },
   "file_extension": ".py",
   "mimetype": "text/x-python",
   "name": "python",
   "nbconvert_exporter": "python",
   "pygments_lexer": "ipython3",
   "version": "3.9.10"
  },
  "orig_nbformat": 4,
  "vscode": {
   "interpreter": {
    "hash": "9ae7ae13804f56b6812076ff88d4c743516b7c995d69dd5984882be015e04ad2"
   }
  }
 },
 "nbformat": 4,
 "nbformat_minor": 2
}
