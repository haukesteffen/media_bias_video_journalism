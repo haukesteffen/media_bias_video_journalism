{
 "cells": [
  {
   "cell_type": "code",
   "execution_count": 55,
   "metadata": {},
   "outputs": [
    {
     "name": "stdout",
     "output_type": "stream",
     "text": [
      "INFO: Pandarallel will run on 8 workers.\n",
      "INFO: Pandarallel will use standard multiprocessing data transfer (pipe) to transfer data between the main process and workers.\n"
     ]
    }
   ],
   "source": [
    "from transformers import AutoTokenizer, AutoModelForSequenceClassification, pipeline\n",
    "import pandas as pd\n",
    "import numpy as np\n",
    "from pandarallel import pandarallel\n",
    "pandarallel.initialize(progress_bar=False)\n",
    "from tqdm import tqdm\n",
    "tqdm.pandas()\n",
    "from sklearn.preprocessing import StandardScaler\n",
    "import seaborn as sns\n",
    "import matplotlib.pyplot as plt\n",
    "from pathlib import Path\n",
    "import matplotlib.font_manager as fm\n",
    "import matplotlib.ticker as mtick\n",
    "import matplotlib.patches as mpatches\n",
    "import matplotlib as mpl\n",
    "mpl.use('pdf')\n",
    "fpath = Path(mpl.get_data_path(), \"fonts/ttf/cmu_serif_roman.ttf\")\n",
    "fprop = fm.FontProperties(fname=fpath)\n",
    "\n",
    "width = 12.4 #inches\n",
    "height = width/2.4\n",
    "\n",
    "font = {'family':'serif', 'serif': ['cmr10']}\n",
    "plt.rc('font',**font)\n",
    "plt.rcParams['axes.unicode_minus'] = False\n",
    "plt.rc('axes', titlesize=12)\n",
    "plt.rc('xtick', labelsize=12)\n",
    "plt.rc('ytick', labelsize=12)\n",
    "\n",
    "media = [\n",
    "    'ARD_Monitor',\n",
    "    'ARD_Hart aber fair',\n",
    "    'ARD_Maischberger', \n",
    "    'ARD_Tagesthemen',\n",
    "    'ARD_Anne Will',\n",
    "    'ARD_youtube',\n",
    "    'ZDF_maybrit illner', \n",
    "    'ZDF_Markus Lanz', \n",
    "    'ZDF_Frontal 21', \n",
    "    'ZDF_frontal', \n",
    "    'ZDF_youtube',\n",
    "    'ZDFh_youtube',\n",
    "    'rest'\n",
    "]\n",
    "\n",
    "search_terms = {\n",
    "    'cdu':['cdu', 'union'],\n",
    "    'csu':['csu', 'union'],\n",
    "    'fdp':['fdp', 'freien demokraten'],\n",
    "    'grüne':['grünen'],\n",
    "    'linke':['linke', 'linkspartei'],\n",
    "    'afd':['afd', 'afg'],\n",
    "    'spd':['spd', 'sozialdemokraten'],\n",
    "}"
   ]
  },
  {
   "cell_type": "code",
   "execution_count": 2,
   "metadata": {},
   "outputs": [],
   "source": [
    "def extract_party_mentions(input_string, party_strings, n_words=10):\n",
    "    input_string = input_string.lower()\n",
    "    party_boolean = [False for i in input_string.split()]\n",
    "    for p in party_strings:\n",
    "        temp = [string.__contains__(p) for string in input_string.split()]\n",
    "        party_boolean = [party_boolean|temp for (party_boolean,temp) in zip(party_boolean, temp)]\n",
    "    party_index = np.where(party_boolean)[0]\n",
    "    output_strings = ['' for _ in range(len(party_index))]\n",
    "    for i in range(len(party_index)):\n",
    "        lower_bound = party_index[i]-n_words\n",
    "        upper_bound = party_index[i]+n_words\n",
    "        if lower_bound < 0:\n",
    "            lower_bound = 0\n",
    "        if upper_bound > len(input_string.split()):\n",
    "            upper_bound = len(input_string.split())\n",
    "        output_strings[i] = \" \".join(input_string.split()[lower_bound:upper_bound])\n",
    "    return output_strings\n",
    "\n",
    "def extract_mention_df(party):\n",
    "    subset = 'contains_' + party\n",
    "    res_series = df['transcript'].loc[df[subset]].parallel_apply(lambda transcript: extract_party_mentions(input_string=transcript, party_strings=search_terms[party], n_words=10))\n",
    "    temp = {'medium': df['medium'].loc[df[subset]], 'transcript':res_series}\n",
    "    res_df = pd.DataFrame(temp).explode(column='transcript')\n",
    "    res_df.reset_index(inplace=True)\n",
    "    res_df.dropna(inplace=True)\n",
    "    res_df.drop(res_df.index[res_df['transcript'] == ''], inplace=True)\n",
    "    return res_df\n",
    "\n",
    "def extract_sentiment_df(input_df):\n",
    "    input_df['sentiment'] = input_df['transcript'].progress_apply(classifier)\n",
    "    input_df['positive'] = [True if sent[0]['label']=='positive' else False for sent in input_df['sentiment']]\n",
    "    input_df['neutral'] = [True if sent[0]['label']=='neutral' else False for sent in input_df['sentiment']]\n",
    "    input_df['negative'] = [True if sent[0]['label']=='negative' else False for sent in input_df['sentiment']]\n",
    "    input_df['score'] = [sent[0]['score'] for sent in input_df['sentiment']]\n",
    "    return input_df\n",
    "\n",
    "def extract_sentiment_counts_df(input_df):\n",
    "    count_pos = input_df[input_df['positive']].groupby(['medium'])['positive'].sum()\n",
    "    count_neu = input_df[input_df['neutral']].groupby(['medium'])['neutral'].sum()\n",
    "    count_neg = input_df[input_df['negative']].groupby(['medium'])['negative'].sum()\n",
    "    output_df = pd.DataFrame(data={'count_pos':count_pos, 'count_neu':count_neu, 'count_neg':count_neg})\n",
    "    return output_df\n",
    "\n",
    "def get_party_sentiment_counts(party):\n",
    "    df = extract_mention_df(party)\n",
    "    df = extract_sentiment_df(df)\n",
    "    df = extract_sentiment_counts_df(df)\n",
    "    return df['count_pos'], df['count_neu'], df['count_neg']\n",
    "\n",
    "def standardize_df(input_df):\n",
    "    df = input_df.copy()\n",
    "    for party in search_terms.keys():\n",
    "        df[party] -= df[party].mean()\n",
    "    return df.round(3)"
   ]
  },
  {
   "cell_type": "code",
   "execution_count": 3,
   "metadata": {},
   "outputs": [],
   "source": [
    "skip_computation = True\n",
    "\n",
    "zdf_df = pd.read_pickle('../data/youtube_data.pkl')\n",
    "zdf_df = zdf_df[zdf_df['medium'] == 'ZDF']\n",
    "zdf_df['medium'] = 'ZDF_youtube'\n",
    "\n",
    "zdfh_df = pd.read_pickle('../data/youtube_data.pkl')\n",
    "zdfh_df = zdfh_df[zdfh_df['medium'] == 'ZDFheute Nachrichten']\n",
    "zdfh_df['medium'] = 'ZDFh_youtube'\n",
    "\n",
    "ard_df = pd.read_pickle('../data/youtube_data.pkl')\n",
    "ard_df = ard_df[ard_df['medium'] == 'ARD']\n",
    "ard_df['medium'] = 'ARD_youtube'\n",
    "\n",
    "#rest_df = pd.read_pickle('../data/topics_combined.pkl')\n",
    "rest_df = pd.read_pickle('../data/youtube_data.pkl')\n",
    "rest_df = rest_df[rest_df['medium'] != 'ARD']\n",
    "rest_df = rest_df[rest_df['medium'] != 'ZDF']\n",
    "rest_df = rest_df[rest_df['medium'] != 'ZDFheute Nachrichten']\n",
    "rest_df['medium'] = 'rest'\n",
    "\n",
    "df = pd.read_pickle('../data/mediathek_data.pkl')\n",
    "df['medium'] = df['medium']+'_'+df['id']\n",
    "df = pd.concat([df, zdf_df])\n",
    "df = pd.concat([df, zdfh_df])\n",
    "df = pd.concat([df, ard_df])\n",
    "df = pd.concat([df, rest_df])\n",
    "for party in search_terms.keys():\n",
    "    df['contains_'+party] = [False for _ in range(len(df.index))]\n",
    "    for term in search_terms[party]:\n",
    "        df['contains_'+party] = df['contains_'+party] | df['preprocessed'].str.contains(term)\n",
    "\n",
    "\n",
    "\n",
    "tokenizer = AutoTokenizer.from_pretrained(\"mdraw/german-news-sentiment-bert\")\n",
    "model = AutoModelForSequenceClassification.from_pretrained(\"mdraw/german-news-sentiment-bert\")\n",
    "classifier = pipeline(\"sentiment-analysis\", model=model, tokenizer=tokenizer)\n",
    "scaler = StandardScaler()"
   ]
  },
  {
   "cell_type": "code",
   "execution_count": 4,
   "metadata": {},
   "outputs": [],
   "source": [
    "if skip_computation:\n",
    "    pos_counts_df = pd.read_pickle('../data/sentiment/pos_counts_mediathek_df.pkl')\n",
    "    neu_counts_df = pd.read_pickle('../data/sentiment/neu_counts_mediathek_df.pkl')\n",
    "    neg_counts_df = pd.read_pickle('../data/sentiment/neg_counts_mediathek_df.pkl')\n",
    "else:\n",
    "    pos_counts_dict = {}\n",
    "    neu_counts_dict = {}\n",
    "    neg_counts_dict = {}\n",
    "    for party in search_terms.keys():\n",
    "        pos_counts_dict[party], neu_counts_dict[party], neg_counts_dict[party] = get_party_sentiment_counts(party)\n",
    "\n",
    "    pos_counts_df = pd.DataFrame(pos_counts_dict)\n",
    "    pos_counts_df = pos_counts_df.loc[media]\n",
    "    pos_counts_df = pos_counts_df[['linke', 'grüne', 'spd', 'cdu', 'csu', 'fdp', 'afd']]\n",
    "    neu_counts_df = pd.DataFrame(neu_counts_dict)\n",
    "    neu_counts_df = neu_counts_df.loc[media]\n",
    "    neu_counts_df = neu_counts_df[['linke', 'grüne', 'spd', 'cdu', 'csu', 'fdp', 'afd']]\n",
    "    neg_counts_df = pd.DataFrame(neg_counts_dict)\n",
    "    neg_counts_df = neg_counts_df.loc[media]\n",
    "    neg_counts_df = neg_counts_df[['linke', 'grüne', 'spd', 'cdu', 'csu', 'fdp', 'afd']]\n",
    "\n",
    "    pos_counts_df.to_pickle('../data/sentiment/pos_counts_mediathek_df.pkl')\n",
    "    neu_counts_df.to_pickle('../data/sentiment/neu_counts_mediathek_df.pkl')\n",
    "    neg_counts_df.to_pickle('../data/sentiment/neg_counts_mediathek_df.pkl')"
   ]
  },
  {
   "cell_type": "code",
   "execution_count": 5,
   "metadata": {},
   "outputs": [
    {
     "data": {
      "text/plain": [
       "\"pos_counts_df = pd.read_pickle('../data/sentiment/pos_counts_mediathek_df.pkl')\\n\\npos_counts_zdfheute = pd.read_pickle('../data/sentiment/pos_counts_df.pkl').loc[['ZDFheute Nachrichten']].rename({'ZDFheute Nachrichten':'ZDFh_youtube'})\\npos_counts_df = pd.concat([pos_counts_df, pos_counts_zdfheute])\\n\\npos_counts_yt = pd.read_pickle('../data/sentiment/pos_counts_df.pkl')\\npos_counts_yt = pos_counts_yt[pos_counts_yt.index != 'ARD']\\npos_counts_yt = pos_counts_yt[pos_counts_yt.index != 'ZDF']\\npos_counts_yt = pos_counts_yt[pos_counts_yt.index != 'ZDFheute Nachrichten']\\npos_counts_yt = pd.DataFrame({'rest': pos_counts_yt.sum(axis=0)}).transpose()\\npos_counts_df = pd.concat([pos_counts_df, pos_counts_yt])\""
      ]
     },
     "execution_count": 5,
     "metadata": {},
     "output_type": "execute_result"
    }
   ],
   "source": [
    "'''pos_counts_df = pd.read_pickle('../data/sentiment/pos_counts_mediathek_df.pkl')\n",
    "\n",
    "pos_counts_zdfheute = pd.read_pickle('../data/sentiment/pos_counts_df.pkl').loc[['ZDFheute Nachrichten']].rename({'ZDFheute Nachrichten':'ZDFh_youtube'})\n",
    "pos_counts_df = pd.concat([pos_counts_df, pos_counts_zdfheute])\n",
    "\n",
    "pos_counts_yt = pd.read_pickle('../data/sentiment/pos_counts_df.pkl')\n",
    "pos_counts_yt = pos_counts_yt[pos_counts_yt.index != 'ARD']\n",
    "pos_counts_yt = pos_counts_yt[pos_counts_yt.index != 'ZDF']\n",
    "pos_counts_yt = pos_counts_yt[pos_counts_yt.index != 'ZDFheute Nachrichten']\n",
    "pos_counts_yt = pd.DataFrame({'rest': pos_counts_yt.sum(axis=0)}).transpose()\n",
    "pos_counts_df = pd.concat([pos_counts_df, pos_counts_yt])'''"
   ]
  },
  {
   "cell_type": "code",
   "execution_count": 6,
   "metadata": {},
   "outputs": [],
   "source": [
    "pos = pos_counts_df.copy()\n",
    "\n",
    "for party in search_terms.keys():\n",
    "    temp_df = extract_mention_df(party)['medium'].value_counts().to_dict()\n",
    "    for medium in media:\n",
    "        pos.loc[medium, party] /= temp_df[medium]"
   ]
  },
  {
   "cell_type": "code",
   "execution_count": 25,
   "metadata": {},
   "outputs": [
    {
     "name": "stderr",
     "output_type": "stream",
     "text": [
      "/var/folders/k5/jm1h82sn2vd8d4f_0f1091r00000gn/T/ipykernel_11817/1508579390.py:1: UserWarning: cmr10 font should ideally be used with mathtext, set axes.formatter.use_mathtext to True\n",
      "  f, ax = plt.subplots(figsize=(9, 8))\n",
      "/Users/hs/miniforge3/lib/python3.9/site-packages/seaborn/utils.py:95: UserWarning: Glyph 252 (\\N{LATIN SMALL LETTER U WITH DIAERESIS}) missing from current font.\n",
      "  fig.canvas.draw()\n"
     ]
    },
    {
     "data": {
      "text/plain": [
       "'f, ax = plt.subplots(figsize=(9, 8))\\nsns.heatmap(standardize_df(pos), annot=True, linewidths=.5, ax=ax, fmt=\".1%\", center=np.nanmean(standardize_df(pos)), cmap=sns.diverging_palette(145, 20, as_cmap=True).reversed(), cbar=False)\\nax.set(xlabel=\\'party\\', ylabel=\\'medium\\', title=\\'positive sentiment proportions by medium and party, standardized\\')'"
      ]
     },
     "execution_count": 25,
     "metadata": {},
     "output_type": "execute_result"
    }
   ],
   "source": [
    "f, ax = plt.subplots(figsize=(9, 8))\n",
    "sns.heatmap(pos, annot=True, linewidths=.5, ax=ax, fmt=\".1%\", center=np.nanmean(pos), cmap=sns.diverging_palette(145, 20, as_cmap=True).reversed(), cbar=False)\n",
    "ax.set(xlabel='Party', ylabel='Medium', title='Positive Sentiment Proportions by Medium and Party')\n",
    "f.subplots_adjust(left=0.27, bottom=.08, right=.99, top=.94)\n",
    "ax.set_xticklabels(['Linke', 'Grüne', 'SPD', 'FDP', 'CDU', 'CSU', 'AfD'], size=12, font=fpath, color='black')\n",
    "ax.set_yticklabels(['ARD: Monitor', 'ARD: Hart aber fair', 'ARD: Maischberger', 'ARD: Tagesthemen', 'ARD: Anne Will', 'ARD: YouTube', 'ZDF: Maybrit Illner', 'ZDF: Markus Lanz', 'ZDF: Frontal 21', 'ZDF: Frontal', 'ZDF: YouTube', 'ZDFheute: YouTube', 'Rest'], size=12, font=fpath, color='black')\n",
    "    \n",
    "f.set_size_inches(width, height)\n",
    "f.savefig('../results/englisch/sentiment_mediathek_positiv.pdf')\n",
    "\n",
    "\n",
    "'''f, ax = plt.subplots(figsize=(9, 8))\n",
    "sns.heatmap(standardize_df(pos), annot=True, linewidths=.5, ax=ax, fmt=\".1%\", center=np.nanmean(standardize_df(pos)), cmap=sns.diverging_palette(145, 20, as_cmap=True).reversed(), cbar=False)\n",
    "ax.set(xlabel='party', ylabel='medium', title='positive sentiment proportions by medium and party, standardized')'''"
   ]
  },
  {
   "cell_type": "code",
   "execution_count": 8,
   "metadata": {},
   "outputs": [],
   "source": [
    "# POSITIVE SENTIMENT\n",
    "# Party &       Linke &         Grüne &         SPD &       CDU &       CSU &       FDP &           AfD\\\\\n",
    "# Mean &        10,8\\,\\% &      13,9\\,\\% &      14,8\\,\\% &  11,1\\,\\% &  9,7\\,\\% &   14,1\\,\\% &     10,1\\,\\% \\\\"
   ]
  },
  {
   "cell_type": "code",
   "execution_count": 9,
   "metadata": {},
   "outputs": [
    {
     "name": "stdout",
     "output_type": "stream",
     "text": [
      "positive sentiment means:\n",
      "linke    0.131601\n",
      "grüne    0.146594\n",
      "spd      0.145944\n",
      "cdu      0.119486\n",
      "csu      0.095537\n",
      "fdp      0.167217\n",
      "afd      0.091264\n",
      "dtype: float64\n",
      "\n",
      "positive sentiment standard deviation:\n",
      "linke    0.056031\n",
      "grüne    0.058258\n",
      "spd      0.020368\n",
      "cdu      0.032881\n",
      "csu      0.046497\n",
      "fdp      0.081451\n",
      "afd      0.037815\n",
      "dtype: float64\n"
     ]
    }
   ],
   "source": [
    "print(f\"positive sentiment means:\\n{pos.mean()}\\n\\npositive sentiment standard deviation:\\n{pos.std()}\")"
   ]
  },
  {
   "cell_type": "code",
   "execution_count": 10,
   "metadata": {},
   "outputs": [],
   "source": [
    "neu = neu_counts_df.copy()\n",
    "\n",
    "for party in search_terms.keys():\n",
    "    temp_df = extract_mention_df(party)['medium'].value_counts().to_dict()\n",
    "    for medium in media:\n",
    "        neu.loc[medium, party] /= temp_df[medium]"
   ]
  },
  {
   "cell_type": "code",
   "execution_count": 26,
   "metadata": {},
   "outputs": [
    {
     "name": "stderr",
     "output_type": "stream",
     "text": [
      "/var/folders/k5/jm1h82sn2vd8d4f_0f1091r00000gn/T/ipykernel_11817/1791873117.py:1: UserWarning: cmr10 font should ideally be used with mathtext, set axes.formatter.use_mathtext to True\n",
      "  f, ax = plt.subplots(figsize=(9, 8))\n",
      "/Users/hs/miniforge3/lib/python3.9/site-packages/seaborn/utils.py:95: UserWarning: Glyph 252 (\\N{LATIN SMALL LETTER U WITH DIAERESIS}) missing from current font.\n",
      "  fig.canvas.draw()\n"
     ]
    },
    {
     "data": {
      "text/plain": [
       "'f, ax = plt.subplots(figsize=(9, 8))\\nsns.heatmap(standardize_df(neu), annot=True, linewidths=.5, ax=ax, fmt=\".1%\", center=np.nanmean(standardize_df(neu)), cmap=sns.diverging_palette(145, 20, as_cmap=True).reversed(), cbar=False)\\nax.set(xlabel=\\'party\\', ylabel=\\'medium\\', title=\\'neutral sentiment proportions by medium and party, standardized\\')'"
      ]
     },
     "execution_count": 26,
     "metadata": {},
     "output_type": "execute_result"
    }
   ],
   "source": [
    "f, ax = plt.subplots(figsize=(9, 8))\n",
    "sns.heatmap(neu, annot=True, linewidths=.5, ax=ax, fmt=\".1%\", center=np.nanmean(neu), cmap=sns.diverging_palette(145, 20, as_cmap=True).reversed(), cbar=False)\n",
    "ax.set(xlabel='Party', ylabel='Medium', title='Neutral Sentiment Proportions by Medium and Party')\n",
    "f.subplots_adjust(left=0.27, bottom=.08, right=.99, top=.94)\n",
    "ax.set_xticklabels(['Linke', 'Grüne', 'SPD', 'FDP', 'CDU', 'CSU', 'AfD'], size=12, font=fpath, color='black')\n",
    "ax.set_yticklabels(['ARD: Monitor', 'ARD: Hart aber fair', 'ARD: Maischberger', 'ARD: Tagesthemen', 'ARD: Anne Will', 'ARD: YouTube', 'ZDF: Maybrit Illner', 'ZDF: Markus Lanz', 'ZDF: Frontal 21', 'ZDF: Frontal', 'ZDF: YouTube', 'ZDFheute: YouTube', 'Rest'], size=12, font=fpath, color='black')\n",
    "    \n",
    "f.set_size_inches(width, height)\n",
    "f.savefig('../results/englisch/sentiment_mediathek_neutral.pdf')\n",
    "\n",
    "\n",
    "'''f, ax = plt.subplots(figsize=(9, 8))\n",
    "sns.heatmap(standardize_df(neu), annot=True, linewidths=.5, ax=ax, fmt=\".1%\", center=np.nanmean(standardize_df(neu)), cmap=sns.diverging_palette(145, 20, as_cmap=True).reversed(), cbar=False)\n",
    "ax.set(xlabel='party', ylabel='medium', title='neutral sentiment proportions by medium and party, standardized')'''"
   ]
  },
  {
   "cell_type": "code",
   "execution_count": 12,
   "metadata": {},
   "outputs": [],
   "source": [
    "# NEUTRAL SENTIMENT\n",
    "# Party &       Linke &         Grüne &         SPD &       CDU &       CSU &       FDP &            AfD\\\\\n",
    "# Mean &        48,9\\,\\% &      44,6\\,\\% &      36,3\\,\\% &  46,7\\,\\% &  49,5\\,\\% &  38,8\\,\\% &   41,8\\,\\% \\\\"
   ]
  },
  {
   "cell_type": "code",
   "execution_count": 13,
   "metadata": {},
   "outputs": [
    {
     "name": "stdout",
     "output_type": "stream",
     "text": [
      "neutral sentiment means:\n",
      "linke    0.370739\n",
      "grüne    0.343380\n",
      "spd      0.318958\n",
      "cdu      0.320537\n",
      "csu      0.310060\n",
      "fdp      0.298638\n",
      "afd      0.281212\n",
      "dtype: float64\n",
      "\n",
      "neutral sentiment standard deviation:\n",
      "linke    0.169658\n",
      "grüne    0.056035\n",
      "spd      0.037241\n",
      "cdu      0.084640\n",
      "csu      0.113812\n",
      "fdp      0.060665\n",
      "afd      0.095126\n",
      "dtype: float64\n"
     ]
    }
   ],
   "source": [
    "print(f\"neutral sentiment means:\\n{neu.mean()}\\n\\nneutral sentiment standard deviation:\\n{neu.std()}\")"
   ]
  },
  {
   "cell_type": "code",
   "execution_count": 14,
   "metadata": {},
   "outputs": [],
   "source": [
    "neg = neg_counts_df.copy()\n",
    "\n",
    "for party in search_terms.keys():\n",
    "    temp_df = extract_mention_df(party)['medium'].value_counts().to_dict()\n",
    "    for medium in media:\n",
    "        neg.loc[medium, party] /= temp_df[medium]"
   ]
  },
  {
   "cell_type": "code",
   "execution_count": 27,
   "metadata": {},
   "outputs": [
    {
     "name": "stderr",
     "output_type": "stream",
     "text": [
      "/var/folders/k5/jm1h82sn2vd8d4f_0f1091r00000gn/T/ipykernel_11817/1161707883.py:1: UserWarning: cmr10 font should ideally be used with mathtext, set axes.formatter.use_mathtext to True\n",
      "  f, ax = plt.subplots(figsize=(9, 8))\n",
      "/Users/hs/miniforge3/lib/python3.9/site-packages/seaborn/utils.py:95: UserWarning: Glyph 252 (\\N{LATIN SMALL LETTER U WITH DIAERESIS}) missing from current font.\n",
      "  fig.canvas.draw()\n"
     ]
    },
    {
     "data": {
      "text/plain": [
       "'f, ax = plt.subplots(figsize=(9, 8))\\nsns.heatmap(standardize_df(neg), annot=True, linewidths=.5, ax=ax, fmt=\".1%\", center=np.nanmean(standardize_df(neg)), cmap=sns.diverging_palette(145, 20, as_cmap=True).reversed(), cbar=False)\\nax.set(xlabel=\\'party\\', ylabel=\\'medium\\', title=\\'negative sentiment proportions by medium and party, standardized\\')'"
      ]
     },
     "execution_count": 27,
     "metadata": {},
     "output_type": "execute_result"
    }
   ],
   "source": [
    "f, ax = plt.subplots(figsize=(9, 8))\n",
    "sns.heatmap(neg, annot=True, linewidths=.5, ax=ax, fmt=\".1%\", center=np.nanmean(neg), cmap=sns.diverging_palette(145, 20, as_cmap=True).reversed(), cbar=False)\n",
    "ax.set(xlabel='Party', ylabel='Medium', title='Negative Sentiment Proportions by Medium and Party')\n",
    "f.subplots_adjust(left=0.27, bottom=.08, right=.99, top=.94)\n",
    "ax.set_xticklabels(['Linke', 'Grüne', 'SPD', 'FDP', 'CDU', 'CSU', 'AfD'], size=12, font=fpath, color='black')\n",
    "ax.set_yticklabels(['ARD: Monitor', 'ARD: Hart aber fair', 'ARD: Maischberger', 'ARD: Tagesthemen', 'ARD: Anne Will', 'ARD: YouTube', 'ZDF: Maybrit Illner', 'ZDF: Markus Lanz', 'ZDF: Frontal 21', 'ZDF: Frontal', 'ZDF: YouTube', 'ZDFheute: YouTube', 'Rest'], size=12, font=fpath, color='black')\n",
    "\n",
    "\n",
    "f.set_size_inches(width, height)\n",
    "f.savefig('../results/englisch/sentiment_mediathek_negativ.pdf')\n",
    "\n",
    "\n",
    "'''f, ax = plt.subplots(figsize=(9, 8))\n",
    "sns.heatmap(standardize_df(neg), annot=True, linewidths=.5, ax=ax, fmt=\".1%\", center=np.nanmean(standardize_df(neg)), cmap=sns.diverging_palette(145, 20, as_cmap=True).reversed(), cbar=False)\n",
    "ax.set(xlabel='party', ylabel='medium', title='negative sentiment proportions by medium and party, standardized')'''"
   ]
  },
  {
   "cell_type": "code",
   "execution_count": 16,
   "metadata": {},
   "outputs": [],
   "source": [
    "# NEGATIVE SENTIMENT\n",
    "# Party &       Linke &         Grüne &         SPD &       CDU &       CSU &       FDP &        AfD\n",
    "# Mittelwert &  40,3\\,\\% &      41,4\\,\\% &      48,8\\,\\% &  42,2\\,\\% &  41,2\\,\\% &  47,1\\,\\% &   48,6\\,\\% \\\\"
   ]
  },
  {
   "cell_type": "code",
   "execution_count": 17,
   "metadata": {},
   "outputs": [
    {
     "name": "stdout",
     "output_type": "stream",
     "text": [
      "negative sentiment means:\n",
      "linke    0.432273\n",
      "grüne    0.486119\n",
      "spd      0.508868\n",
      "cdu      0.466374\n",
      "csu      0.468397\n",
      "fdp      0.523781\n",
      "afd      0.541177\n",
      "dtype: float64\n",
      "\n",
      "negative sentiment standard deviation:\n",
      "linke    0.176676\n",
      "grüne    0.080369\n",
      "spd      0.060617\n",
      "cdu      0.141505\n",
      "csu      0.182130\n",
      "fdp      0.073821\n",
      "afd      0.163852\n",
      "dtype: float64\n"
     ]
    }
   ],
   "source": [
    "print(f\"negative sentiment means:\\n{neg.mean()}\\n\\nnegative sentiment standard deviation:\\n{neg.std()}\")"
   ]
  },
  {
   "cell_type": "code",
   "execution_count": 64,
   "metadata": {},
   "outputs": [
    {
     "name": "stderr",
     "output_type": "stream",
     "text": [
      "/var/folders/k5/jm1h82sn2vd8d4f_0f1091r00000gn/T/ipykernel_11817/407719994.py:1: UserWarning: cmr10 font should ideally be used with mathtext, set axes.formatter.use_mathtext to True\n",
      "  f, axs = plt.subplots(1,3,sharey=True)\n",
      "/Users/hs/miniforge3/lib/python3.9/site-packages/seaborn/utils.py:95: UserWarning: Glyph 252 (\\N{LATIN SMALL LETTER U WITH DIAERESIS}) missing from current font.\n",
      "  fig.canvas.draw()\n"
     ]
    }
   ],
   "source": [
    "f, axs = plt.subplots(1,3,sharey=True)\n",
    "f.subplots_adjust(left=0.16, bottom=.15, right=.98, top=.95)\n",
    "\n",
    "sns.heatmap(pos, annot=True, linewidths=.5, ax=axs[0], fmt=\".1%\", center=np.nanmean(pos), cmap=sns.diverging_palette(145, 20, as_cmap=True).reversed(), cbar=False)\n",
    "sns.heatmap(neu, annot=True, linewidths=.5, ax=axs[1], fmt=\".1%\", center=np.nanmean(neu), cmap=sns.diverging_palette(145, 20, as_cmap=True).reversed(), cbar=False)\n",
    "sns.heatmap(neg, annot=True, linewidths=.5, ax=axs[2], fmt=\".1%\", center=np.nanmean(neg), cmap=sns.diverging_palette(145, 20, as_cmap=True).reversed(), cbar=False)\n",
    "axs[0].set_ylabel('Medium', size=12, font=fpath, color='black')\n",
    "axs[0].set_title('Positive Sentiment', size=12, font=fpath, color='black')\n",
    "axs[1].set_xlabel('Party', size=12, font=fpath, color='black')\n",
    "axs[1].set_title('Neutral Sentiment', size=12, font=fpath, color='black')\n",
    "axs[2].set_title('Negative Sentiment')\n",
    "axs[0].set_xticklabels(['Linke', 'Grüne', 'SPD', 'FDP', 'CDU', 'CSU', 'AfD'], size=12, font=fpath, color='black', rotation=45)\n",
    "axs[1].set_xticklabels(['Linke', 'Grüne', 'SPD', 'FDP', 'CDU', 'CSU', 'AfD'], size=12, font=fpath, color='black', rotation=45)\n",
    "axs[2].set_xticklabels(['Linke', 'Grüne', 'SPD', 'FDP', 'CDU', 'CSU', 'AfD'], size=12, font=fpath, color='black', rotation=45)\n",
    "axs[0].set_yticklabels(['ARD: Monitor', 'ARD: Hart aber fair', 'ARD: Maischberger', 'ARD: Tagesthemen', 'ARD: Anne Will', 'ARD: YouTube', 'ZDF: Maybrit Illner', 'ZDF: Markus Lanz', 'ZDF: Frontal 21', 'ZDF: Frontal', 'ZDF: YouTube', 'ZDFheute: YouTube', 'Non Public Broadcast'], size=12, font=fpath, color='black')\n",
    "f.set_size_inches(width, height)\n",
    "f.savefig('../results/englisch/sentiment_mediathek.pdf')\n"
   ]
  }
 ],
 "metadata": {
  "kernelspec": {
   "display_name": "Python 3.9.10 ('base')",
   "language": "python",
   "name": "python3"
  },
  "language_info": {
   "codemirror_mode": {
    "name": "ipython",
    "version": 3
   },
   "file_extension": ".py",
   "mimetype": "text/x-python",
   "name": "python",
   "nbconvert_exporter": "python",
   "pygments_lexer": "ipython3",
   "version": "3.9.10"
  },
  "orig_nbformat": 4,
  "vscode": {
   "interpreter": {
    "hash": "9ae7ae13804f56b6812076ff88d4c743516b7c995d69dd5984882be015e04ad2"
   }
  }
 },
 "nbformat": 4,
 "nbformat_minor": 2
}
