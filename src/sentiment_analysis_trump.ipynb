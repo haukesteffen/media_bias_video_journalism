{
 "cells": [
  {
   "cell_type": "code",
   "execution_count": 2,
   "metadata": {},
   "outputs": [],
   "source": [
    "import pandas as pd"
   ]
  },
  {
   "cell_type": "code",
   "execution_count": 3,
   "metadata": {},
   "outputs": [],
   "source": [
    "party_classifications = pd.read_pickle('../data/sentiment/party_sentiment_classifications.pkl')\n",
    "trump_classifications = party_classifications[party_classifications['party'] == 'trump']\n",
    "trump_classifications_100_days = trump_classifications.loc[(trump_classifications['date'] >= '2017-01-20') & (trump_classifications['date'] < '2017-04-29')]"
   ]
  },
  {
   "cell_type": "code",
   "execution_count": 25,
   "metadata": {},
   "outputs": [
    {
     "name": "stdout",
     "output_type": "stream",
     "text": [
      "Mentions of Trump in complete dataset: 13655\n",
      "Mentions of Trump in first 100 days: 200\n",
      "\n",
      "Mentions of Trump in first 100 days with positive sentiment: 18, or 9.0%\n",
      "Mentions of Trump in first 100 days with neutral sentiment: 107, or 53.5%\n",
      "Mentions of Trump in first 100 days with negative sentiment: 75, or 37.5%\n",
      "\n",
      "Mentions of Trump in complete dataset with positive sentiment: 865, or 6.335%\n",
      "Mentions of Trump in complete dataset with neutral sentiment: 8681, or 63.574%\n",
      "Mentions of Trump in complete dataset with negative sentiment: 4109, or 30.092%\n"
     ]
    }
   ],
   "source": [
    "n_mentions = len(trump_classifications.index)\n",
    "print(f'Mentions of Trump in complete dataset: {n_mentions}')\n",
    "\n",
    "n_mentions_100_days = len(trump_classifications_100_days.index)\n",
    "print(f'Mentions of Trump in first 100 days: {n_mentions_100_days}\\n')\n",
    "\n",
    "n_mentions_by_sent_100_days = {}\n",
    "for sent in ['positive', 'neutral', 'negative']:\n",
    "    n_mentions_by_sent_100_days[sent] = len(trump_classifications_100_days[trump_classifications_100_days[sent]].index)\n",
    "    print(f'Mentions of Trump in first 100 days with {sent} sentiment: {n_mentions_by_sent_100_days[sent]}, or {round(100*n_mentions_by_sent_100_days[sent]/n_mentions_100_days,2)}%')\n",
    "\n",
    "print('')\n",
    "n_mentions_by_sent = {}\n",
    "for sent in ['positive', 'neutral', 'negative']:\n",
    "    n_mentions_by_sent[sent] = len(trump_classifications[trump_classifications[sent]].index)\n",
    "    print(f'Mentions of Trump in complete dataset with {sent} sentiment: {n_mentions_by_sent[sent]}, or {round(100*n_mentions_by_sent[sent]/n_mentions,3)}%')"
   ]
  },
  {
   "cell_type": "code",
   "execution_count": 28,
   "metadata": {},
   "outputs": [
    {
     "data": {
      "text/plain": [
       "0.8064516129032258"
      ]
     },
     "execution_count": 28,
     "metadata": {},
     "output_type": "execute_result"
    }
   ],
   "source": [
    "75/(75+18)"
   ]
  },
  {
   "cell_type": "code",
   "execution_count": 30,
   "metadata": {},
   "outputs": [
    {
     "data": {
      "text/plain": [
       "0.8260956976276639"
      ]
     },
     "execution_count": 30,
     "metadata": {},
     "output_type": "execute_result"
    }
   ],
   "source": [
    "4109/(865+4109)"
   ]
  }
 ],
 "metadata": {
  "kernelspec": {
   "display_name": "base",
   "language": "python",
   "name": "python3"
  },
  "language_info": {
   "codemirror_mode": {
    "name": "ipython",
    "version": 3
   },
   "file_extension": ".py",
   "mimetype": "text/x-python",
   "name": "python",
   "nbconvert_exporter": "python",
   "pygments_lexer": "ipython3",
   "version": "3.9.10 | packaged by conda-forge | (main, Feb  1 2022, 21:27:43) \n[Clang 11.1.0 ]"
  },
  "orig_nbformat": 4,
  "vscode": {
   "interpreter": {
    "hash": "9ae7ae13804f56b6812076ff88d4c743516b7c995d69dd5984882be015e04ad2"
   }
  }
 },
 "nbformat": 4,
 "nbformat_minor": 2
}
