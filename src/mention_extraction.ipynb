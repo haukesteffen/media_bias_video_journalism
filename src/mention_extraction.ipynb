{
 "cells": [
  {
   "cell_type": "code",
   "execution_count": 2,
   "metadata": {},
   "outputs": [],
   "source": [
    "import pandas as pd\n",
    "import re\n",
    "from tqdm import tqdm\n",
    "from dateutil.parser import parse"
   ]
  },
  {
   "cell_type": "code",
   "execution_count": 3,
   "metadata": {},
   "outputs": [],
   "source": [
    "bt = pd.read_pickle('../assets/bundestag.pkl')\n",
    "bt.drop(columns=['Geburts-jahr', 'Land', 'Listen-platz', 'Erst-stimmen-anteil', 'Listen-platz', 'Wahlkreis', 'BeruflicherHintergrund', 'MdBseit', 'Bemerkungen'], inplace=True)\n",
    "party_blacklist = [\n",
    "    'fraktionslos(SSW)',\n",
    "    'fraktionslos (Zentrum)',\n",
    "    'fraktionslos (AfD)',\n",
    "    'fraktionslos (ehemals AfD)',\n",
    "]\n",
    "bt = bt[bt['Fraktion(Partei)'].isin(party_blacklist) == False]\n",
    "bt.loc[bt['Fraktion(Partei)'] == 'CDU/CSU (CDU)', 'Fraktion(Partei)'] = 'cdu'\n",
    "bt.loc[bt['Fraktion(Partei)'] == 'CDU/CSU (CSU)', 'Fraktion(Partei)'] = 'csu'\n",
    "politician_dict = bt.set_index('Name').to_dict()['Fraktion(Partei)']\n",
    "politicians = {\n",
    "    politician.lower():politician_dict[politician].lower() for politician in list(politician_dict.keys())\n",
    "}"
   ]
  },
  {
   "cell_type": "code",
   "execution_count": 4,
   "metadata": {},
   "outputs": [],
   "source": [
    "search_terms = {'die linke':'linke',\n",
    "                'linkspartei':'linke',\n",
    "                'die grünen':'grüne',\n",
    "                'spd':'spd',\n",
    "                'freien demokraten':'fdp',\n",
    "                'fdp':'fdp',\n",
    "                'cdu':'cdu',\n",
    "                'csu':'csu',\n",
    "                'alternative für deutschland':'afd',\n",
    "                'afd':'afd', \n",
    "                'afg':'afd',\n",
    "                'trump':'trump',\n",
    "                }"
   ]
  },
  {
   "cell_type": "code",
   "execution_count": 6,
   "metadata": {},
   "outputs": [],
   "source": [
    "# read data, merge zdf, drop irrelevant media\n",
    "media_to_consider = ['NachDenkSeiten', 'taz', 'DER SPIEGEL', 'ARD', 'ZDF', 'Bayerischer Rundfunk', 'ntv Nachrichten', 'faz', 'WELT', 'BILD', 'COMPACTTV']\n",
    "df = pd.read_pickle('../data/topics_combined.pkl')\n",
    "df.loc[df['medium'] == 'ZDFinfo Dokus & Reportagen', 'medium'] = 'ZDF'\n",
    "df.loc[df['medium'] == 'ZDFheute Nachrichten', 'medium'] = 'ZDF'\n",
    "df = df[df['medium'].isin(media_to_consider)]"
   ]
  },
  {
   "cell_type": "code",
   "execution_count": 7,
   "metadata": {},
   "outputs": [],
   "source": [
    "mention_df = pd.DataFrame(columns=['medium', 'id', 'title', 'minute', 'transcript', 'date', 'search_term', 'extracted_string'])"
   ]
  },
  {
   "cell_type": "code",
   "execution_count": 8,
   "metadata": {},
   "outputs": [
    {
     "name": "stderr",
     "output_type": "stream",
     "text": [
      "100%|██████████| 868694/868694 [02:05<00:00, 6931.48it/s]\n"
     ]
    }
   ],
   "source": [
    "def extract_string(transcript, search_term):\n",
    "  # Use a regular expression to find all occurrences of the search term in the transcript\n",
    "  pattern = r\"(?i)\\b\" + re.escape(search_term) + r\"\\b\"\n",
    "  matches = re.finditer(pattern, transcript)\n",
    "\n",
    "  # For each occurrence, extract a 21 word long string with the search term in the middle\n",
    "  extracted_strings = []\n",
    "  for match in matches:\n",
    "    start_index = match.start()\n",
    "    end_index = match.end()\n",
    "\n",
    "    # Split the transcript into words\n",
    "    words_before = transcript[:start_index].split()\n",
    "    words_after = transcript[end_index:].split()\n",
    "    if len(words_before) < 10:\n",
    "      return\n",
    "    if len(words_after) < 10:\n",
    "      return\n",
    "\n",
    "\n",
    "    # Extract the 21 word long string\n",
    "    string = ' '.join(words_before[-10:] + [search_term] + words_after[:10])\n",
    "    extracted_strings.append(string)\n",
    "\n",
    "  return extracted_strings\n",
    "\n",
    "\n",
    "# Create an empty list to store the rows of the new DataFrame\n",
    "rows = []\n",
    "\n",
    "# Iterate over the rows of the original DataFrame\n",
    "for _, row in tqdm(df.iterrows(), total=df.shape[0]):\n",
    "  medium = row['medium']\n",
    "  id = row['id']\n",
    "  title = row['title']\n",
    "  minute = row['minute']\n",
    "  transcript = row['transcript']\n",
    "  date = row['date']\n",
    "\n",
    "\n",
    "  # For each search term, extract the relevant strings and add a row to the new DataFrame for each occurrence\n",
    "  for term in search_terms.keys():\n",
    "    extracted_strings = extract_string(transcript, term)\n",
    "    if extracted_strings:\n",
    "      for extracted_string in extracted_strings:\n",
    "        rows.append({'medium': medium, 'id': id, 'title': title, 'minute': minute, 'date': date, 'search_term': term, 'extracted_string': extracted_string})\n",
    "\n",
    "# Create the new DataFrame from the list of rows\n",
    "party_df = pd.DataFrame(rows, columns=['medium', 'id', 'title', 'minute', 'date', 'search_term', 'extracted_string'])"
   ]
  },
  {
   "cell_type": "code",
   "execution_count": 9,
   "metadata": {},
   "outputs": [],
   "source": [
    "party_df['party'] = party_df['search_term'].apply(lambda x: search_terms[x])"
   ]
  },
  {
   "cell_type": "code",
   "execution_count": 10,
   "metadata": {},
   "outputs": [],
   "source": [
    "party_df['date'] = party_df.date.apply(parse)"
   ]
  },
  {
   "cell_type": "code",
   "execution_count": 13,
   "metadata": {},
   "outputs": [
    {
     "data": {
      "text/plain": [
       "spd                            28808\n",
       "cdu                            28157\n",
       "fdp                            19041\n",
       "trump                          13655\n",
       "csu                            10641\n",
       "die grünen                     10225\n",
       "afg                             7003\n",
       "afd                             3920\n",
       "die linke                       3072\n",
       "linkspartei                     1817\n",
       "freien demokraten                335\n",
       "alternative für deutschland      135\n",
       "Name: search_term, dtype: int64"
      ]
     },
     "execution_count": 13,
     "metadata": {},
     "output_type": "execute_result"
    }
   ],
   "source": [
    "party_df.search_term.value_counts()"
   ]
  },
  {
   "cell_type": "code",
   "execution_count": 14,
   "metadata": {},
   "outputs": [],
   "source": [
    "party_df.to_pickle('../data/mentions/party_mentions.pkl')"
   ]
  },
  {
   "cell_type": "code",
   "execution_count": 15,
   "metadata": {},
   "outputs": [
    {
     "name": "stderr",
     "output_type": "stream",
     "text": [
      "100%|██████████| 868694/868694 [6:10:37<00:00, 39.06it/s]   \n"
     ]
    }
   ],
   "source": [
    "# Create an empty list to store the rows of the new DataFrame\n",
    "rows = []\n",
    "\n",
    "# Iterate over the rows of the original DataFrame\n",
    "for _, row in tqdm(df.iterrows(), total=df.shape[0]):\n",
    "  medium = row['medium']\n",
    "  id = row['id']\n",
    "  title = row['title']\n",
    "  minute = row['minute']\n",
    "  transcript = row['transcript']\n",
    "  date = row['date']\n",
    "\n",
    "\n",
    "  # For each search term, extract the relevant strings and add a row to the new DataFrame for each occurrence\n",
    "  for politician in politicians.keys():\n",
    "    extracted_strings = extract_string(transcript, politician)\n",
    "    if extracted_strings:\n",
    "      for extracted_string in extracted_strings:\n",
    "        rows.append({'medium': medium, 'id': id, 'title': title, 'minute': minute, 'date': date, 'search_term': politician, 'extracted_string': extracted_string})\n",
    "\n",
    "# Create the new DataFrame from the list of rows\n",
    "politician_df = pd.DataFrame(rows, columns=['medium', 'id', 'title', 'minute', 'date', 'search_term', 'extracted_string'])"
   ]
  },
  {
   "cell_type": "code",
   "execution_count": 16,
   "metadata": {},
   "outputs": [],
   "source": [
    "politician_df['party'] = politician_df['search_term'].apply(lambda x: politicians[x])"
   ]
  },
  {
   "cell_type": "code",
   "execution_count": 19,
   "metadata": {},
   "outputs": [],
   "source": [
    "politician_df['date'] = politician_df.date.apply(parse)"
   ]
  },
  {
   "cell_type": "code",
   "execution_count": 20,
   "metadata": {},
   "outputs": [
    {
     "data": {
      "text/html": [
       "<div>\n",
       "<style scoped>\n",
       "    .dataframe tbody tr th:only-of-type {\n",
       "        vertical-align: middle;\n",
       "    }\n",
       "\n",
       "    .dataframe tbody tr th {\n",
       "        vertical-align: top;\n",
       "    }\n",
       "\n",
       "    .dataframe thead th {\n",
       "        text-align: right;\n",
       "    }\n",
       "</style>\n",
       "<table border=\"1\" class=\"dataframe\">\n",
       "  <thead>\n",
       "    <tr style=\"text-align: right;\">\n",
       "      <th></th>\n",
       "      <th>medium</th>\n",
       "      <th>id</th>\n",
       "      <th>title</th>\n",
       "      <th>minute</th>\n",
       "      <th>date</th>\n",
       "      <th>search_term</th>\n",
       "      <th>extracted_string</th>\n",
       "      <th>party</th>\n",
       "    </tr>\n",
       "  </thead>\n",
       "  <tbody>\n",
       "    <tr>\n",
       "      <th>0</th>\n",
       "      <td>ARD</td>\n",
       "      <td>Monitor</td>\n",
       "      <td>studioM: Grüne Kompromisse - Hauptsache Macht?</td>\n",
       "      <td>1</td>\n",
       "      <td>2021-02-12</td>\n",
       "      <td>lisa badum</td>\n",
       "      <td>diskutieren wir heute natürlich auch mit einer...</td>\n",
       "      <td>grüne</td>\n",
       "    </tr>\n",
       "    <tr>\n",
       "      <th>1</th>\n",
       "      <td>ARD</td>\n",
       "      <td>Monitor</td>\n",
       "      <td>studioM: Grüne Kompromisse - Hauptsache Macht?</td>\n",
       "      <td>5</td>\n",
       "      <td>2021-02-12</td>\n",
       "      <td>annalena baerbock</td>\n",
       "      <td>ist. Und es steht außer Frage, dass die Grünen...</td>\n",
       "      <td>grüne</td>\n",
       "    </tr>\n",
       "    <tr>\n",
       "      <th>2</th>\n",
       "      <td>ARD</td>\n",
       "      <td>Monitor</td>\n",
       "      <td>studioM: Grüne Kompromisse - Hauptsache Macht?</td>\n",
       "      <td>14</td>\n",
       "      <td>2021-02-12</td>\n",
       "      <td>robert habeck</td>\n",
       "      <td>sein. Auf der Pressekonferenz, wo der Koalitio...</td>\n",
       "      <td>grüne</td>\n",
       "    </tr>\n",
       "    <tr>\n",
       "      <th>3</th>\n",
       "      <td>ARD</td>\n",
       "      <td>Monitor</td>\n",
       "      <td>studioM: Grüne Kompromisse - Hauptsache Macht?</td>\n",
       "      <td>25</td>\n",
       "      <td>2021-02-12</td>\n",
       "      <td>annalena baerbock</td>\n",
       "      <td>der Außengrenze an der EU-Außengrenze zu rügen...</td>\n",
       "      <td>grüne</td>\n",
       "    </tr>\n",
       "    <tr>\n",
       "      <th>4</th>\n",
       "      <td>ARD</td>\n",
       "      <td>Monitor</td>\n",
       "      <td>studioM: Grüne Kompromisse - Hauptsache Macht?</td>\n",
       "      <td>31</td>\n",
       "      <td>2021-02-12</td>\n",
       "      <td>paul ziemiak</td>\n",
       "      <td>so, dass in einigen Bereichen da durchaus Verb...</td>\n",
       "      <td>cdu</td>\n",
       "    </tr>\n",
       "    <tr>\n",
       "      <th>...</th>\n",
       "      <td>...</td>\n",
       "      <td>...</td>\n",
       "      <td>...</td>\n",
       "      <td>...</td>\n",
       "      <td>...</td>\n",
       "      <td>...</td>\n",
       "      <td>...</td>\n",
       "      <td>...</td>\n",
       "    </tr>\n",
       "    <tr>\n",
       "      <th>56845</th>\n",
       "      <td>BILD</td>\n",
       "      <td>bXREDY4a63w</td>\n",
       "      <td>HSV: Timo Kraus bleibt weiterhin verschwunden ...</td>\n",
       "      <td>3</td>\n",
       "      <td>2017-01-27</td>\n",
       "      <td>michael kruse</td>\n",
       "      <td>auschwitz birkenau haben heute holocaust-überl...</td>\n",
       "      <td>fdp</td>\n",
       "    </tr>\n",
       "    <tr>\n",
       "      <th>56846</th>\n",
       "      <td>BILD</td>\n",
       "      <td>jhrEur2n-_E</td>\n",
       "      <td>Pressekonferenz zum Rücktritt Gabriels - BILD-...</td>\n",
       "      <td>3</td>\n",
       "      <td>2017-01-24</td>\n",
       "      <td>olaf scholz</td>\n",
       "      <td>das präsidium einstimmig meinem vorschlag gefo...</td>\n",
       "      <td>spd</td>\n",
       "    </tr>\n",
       "    <tr>\n",
       "      <th>56847</th>\n",
       "      <td>BILD</td>\n",
       "      <td>F1cNhUoIF38</td>\n",
       "      <td>Donald Trump hat ein falsches Bild von der EU ...</td>\n",
       "      <td>5</td>\n",
       "      <td>2017-01-16</td>\n",
       "      <td>jens spahn</td>\n",
       "      <td>wirklich über twitter kommuniziert wieder zu m...</td>\n",
       "      <td>cdu</td>\n",
       "    </tr>\n",
       "    <tr>\n",
       "      <th>56848</th>\n",
       "      <td>BILD</td>\n",
       "      <td>sYWsBZvjtUc</td>\n",
       "      <td>Flüchtlingen in Belgrad droht der Kältetod - B...</td>\n",
       "      <td>15</td>\n",
       "      <td>2017-01-11</td>\n",
       "      <td>olaf scholz</td>\n",
       "      <td>anderem unser bundespräsident herr gauck ist d...</td>\n",
       "      <td>spd</td>\n",
       "    </tr>\n",
       "    <tr>\n",
       "      <th>56849</th>\n",
       "      <td>BILD</td>\n",
       "      <td>BwnxlZgh_7E</td>\n",
       "      <td>Terror in Berlin: Angela Merkel äußert sich zu...</td>\n",
       "      <td>1</td>\n",
       "      <td>2016-12-22</td>\n",
       "      <td>heiko maas</td>\n",
       "      <td>angela merkel auf den innenminister thomas de ...</td>\n",
       "      <td>spd</td>\n",
       "    </tr>\n",
       "  </tbody>\n",
       "</table>\n",
       "<p>56850 rows × 8 columns</p>\n",
       "</div>"
      ],
      "text/plain": [
       "      medium           id                                              title  \\\n",
       "0        ARD      Monitor     studioM: Grüne Kompromisse - Hauptsache Macht?   \n",
       "1        ARD      Monitor     studioM: Grüne Kompromisse - Hauptsache Macht?   \n",
       "2        ARD      Monitor     studioM: Grüne Kompromisse - Hauptsache Macht?   \n",
       "3        ARD      Monitor     studioM: Grüne Kompromisse - Hauptsache Macht?   \n",
       "4        ARD      Monitor     studioM: Grüne Kompromisse - Hauptsache Macht?   \n",
       "...      ...          ...                                                ...   \n",
       "56845   BILD  bXREDY4a63w  HSV: Timo Kraus bleibt weiterhin verschwunden ...   \n",
       "56846   BILD  jhrEur2n-_E  Pressekonferenz zum Rücktritt Gabriels - BILD-...   \n",
       "56847   BILD  F1cNhUoIF38  Donald Trump hat ein falsches Bild von der EU ...   \n",
       "56848   BILD  sYWsBZvjtUc  Flüchtlingen in Belgrad droht der Kältetod - B...   \n",
       "56849   BILD  BwnxlZgh_7E  Terror in Berlin: Angela Merkel äußert sich zu...   \n",
       "\n",
       "       minute       date        search_term  \\\n",
       "0           1 2021-02-12         lisa badum   \n",
       "1           5 2021-02-12  annalena baerbock   \n",
       "2          14 2021-02-12      robert habeck   \n",
       "3          25 2021-02-12  annalena baerbock   \n",
       "4          31 2021-02-12       paul ziemiak   \n",
       "...       ...        ...                ...   \n",
       "56845       3 2017-01-27      michael kruse   \n",
       "56846       3 2017-01-24        olaf scholz   \n",
       "56847       5 2017-01-16         jens spahn   \n",
       "56848      15 2017-01-11        olaf scholz   \n",
       "56849       1 2016-12-22         heiko maas   \n",
       "\n",
       "                                        extracted_string  party  \n",
       "0      diskutieren wir heute natürlich auch mit einer...  grüne  \n",
       "1      ist. Und es steht außer Frage, dass die Grünen...  grüne  \n",
       "2      sein. Auf der Pressekonferenz, wo der Koalitio...  grüne  \n",
       "3      der Außengrenze an der EU-Außengrenze zu rügen...  grüne  \n",
       "4      so, dass in einigen Bereichen da durchaus Verb...    cdu  \n",
       "...                                                  ...    ...  \n",
       "56845  auschwitz birkenau haben heute holocaust-überl...    fdp  \n",
       "56846  das präsidium einstimmig meinem vorschlag gefo...    spd  \n",
       "56847  wirklich über twitter kommuniziert wieder zu m...    cdu  \n",
       "56848  anderem unser bundespräsident herr gauck ist d...    spd  \n",
       "56849  angela merkel auf den innenminister thomas de ...    spd  \n",
       "\n",
       "[56850 rows x 8 columns]"
      ]
     },
     "execution_count": 20,
     "metadata": {},
     "output_type": "execute_result"
    }
   ],
   "source": [
    "politician_df"
   ]
  },
  {
   "cell_type": "code",
   "execution_count": 21,
   "metadata": {},
   "outputs": [
    {
     "data": {
      "text/plain": [
       "olaf scholz          13114\n",
       "armin laschet         7175\n",
       "friedrich merz        4250\n",
       "annalena baerbock     4040\n",
       "karl lauterbach       3197\n",
       "                     ...  \n",
       "ralph edelhäußer         1\n",
       "leon eckert              1\n",
       "jan dieren               1\n",
       "anna christmann          1\n",
       "heike brehmer            1\n",
       "Name: search_term, Length: 477, dtype: int64"
      ]
     },
     "execution_count": 21,
     "metadata": {},
     "output_type": "execute_result"
    }
   ],
   "source": [
    "politician_df.search_term.value_counts()"
   ]
  },
  {
   "cell_type": "code",
   "execution_count": null,
   "metadata": {},
   "outputs": [],
   "source": [
    "politician_df.to_pickle('../data/mentions/politician_mentions.pkl')"
   ]
  },
  {
   "cell_type": "code",
   "execution_count": 17,
   "metadata": {},
   "outputs": [],
   "source": [
    "politician_df.groupby(['search_term', 'medium', 'id', 'title','date', 'party']).size().reset_index(name='mention_count').to_pickle('../data/mentions/politician_mentions_unique.pkl')"
   ]
  },
  {
   "cell_type": "code",
   "execution_count": 23,
   "metadata": {},
   "outputs": [],
   "source": [
    "'''mention_count = politician_df.groupby(['search_term', 'medium', 'id', 'title']).size()\n",
    "mention_count = mention_count.reset_index(name='mention_count')\n",
    "unique_politician_df = mention_count.drop(columns=['id', 'title']).groupby(['medium', 'search_term']).count().sort_values('mention_count', ascending=False).reset_index()\n",
    "unique_politician_df['party'] = unique_politician_df['search_term'].apply(lambda x: politicians[x])'''"
   ]
  },
  {
   "cell_type": "code",
   "execution_count": 24,
   "metadata": {},
   "outputs": [
    {
     "data": {
      "text/html": [
       "<div>\n",
       "<style scoped>\n",
       "    .dataframe tbody tr th:only-of-type {\n",
       "        vertical-align: middle;\n",
       "    }\n",
       "\n",
       "    .dataframe tbody tr th {\n",
       "        vertical-align: top;\n",
       "    }\n",
       "\n",
       "    .dataframe thead th {\n",
       "        text-align: right;\n",
       "    }\n",
       "</style>\n",
       "<table border=\"1\" class=\"dataframe\">\n",
       "  <thead>\n",
       "    <tr style=\"text-align: right;\">\n",
       "      <th></th>\n",
       "      <th>medium</th>\n",
       "      <th>search_term</th>\n",
       "      <th>mention_count</th>\n",
       "      <th>party</th>\n",
       "    </tr>\n",
       "  </thead>\n",
       "  <tbody>\n",
       "    <tr>\n",
       "      <th>0</th>\n",
       "      <td>WELT</td>\n",
       "      <td>olaf scholz</td>\n",
       "      <td>1057</td>\n",
       "      <td>spd</td>\n",
       "    </tr>\n",
       "    <tr>\n",
       "      <th>1</th>\n",
       "      <td>BILD</td>\n",
       "      <td>olaf scholz</td>\n",
       "      <td>766</td>\n",
       "      <td>spd</td>\n",
       "    </tr>\n",
       "    <tr>\n",
       "      <th>2</th>\n",
       "      <td>ZDF</td>\n",
       "      <td>olaf scholz</td>\n",
       "      <td>708</td>\n",
       "      <td>spd</td>\n",
       "    </tr>\n",
       "    <tr>\n",
       "      <th>3</th>\n",
       "      <td>WELT</td>\n",
       "      <td>armin laschet</td>\n",
       "      <td>634</td>\n",
       "      <td>cdu</td>\n",
       "    </tr>\n",
       "    <tr>\n",
       "      <th>4</th>\n",
       "      <td>BILD</td>\n",
       "      <td>armin laschet</td>\n",
       "      <td>485</td>\n",
       "      <td>cdu</td>\n",
       "    </tr>\n",
       "    <tr>\n",
       "      <th>...</th>\n",
       "      <td>...</td>\n",
       "      <td>...</td>\n",
       "      <td>...</td>\n",
       "      <td>...</td>\n",
       "    </tr>\n",
       "    <tr>\n",
       "      <th>1651</th>\n",
       "      <td>ZDF</td>\n",
       "      <td>falko droßmann</td>\n",
       "      <td>1</td>\n",
       "      <td>spd</td>\n",
       "    </tr>\n",
       "    <tr>\n",
       "      <th>1652</th>\n",
       "      <td>ZDF</td>\n",
       "      <td>florian müller</td>\n",
       "      <td>1</td>\n",
       "      <td>cdu</td>\n",
       "    </tr>\n",
       "    <tr>\n",
       "      <th>1653</th>\n",
       "      <td>ZDF</td>\n",
       "      <td>frank bsirske</td>\n",
       "      <td>1</td>\n",
       "      <td>grüne</td>\n",
       "    </tr>\n",
       "    <tr>\n",
       "      <th>1654</th>\n",
       "      <td>DER SPIEGEL</td>\n",
       "      <td>carsten linnemann</td>\n",
       "      <td>1</td>\n",
       "      <td>cdu</td>\n",
       "    </tr>\n",
       "    <tr>\n",
       "      <th>1655</th>\n",
       "      <td>WELT</td>\n",
       "      <td>hagen reinhold</td>\n",
       "      <td>1</td>\n",
       "      <td>fdp</td>\n",
       "    </tr>\n",
       "  </tbody>\n",
       "</table>\n",
       "<p>1656 rows × 4 columns</p>\n",
       "</div>"
      ],
      "text/plain": [
       "           medium        search_term  mention_count  party\n",
       "0            WELT        olaf scholz           1057    spd\n",
       "1            BILD        olaf scholz            766    spd\n",
       "2             ZDF        olaf scholz            708    spd\n",
       "3            WELT      armin laschet            634    cdu\n",
       "4            BILD      armin laschet            485    cdu\n",
       "...           ...                ...            ...    ...\n",
       "1651          ZDF     falko droßmann              1    spd\n",
       "1652          ZDF     florian müller              1    cdu\n",
       "1653          ZDF      frank bsirske              1  grüne\n",
       "1654  DER SPIEGEL  carsten linnemann              1    cdu\n",
       "1655         WELT     hagen reinhold              1    fdp\n",
       "\n",
       "[1656 rows x 4 columns]"
      ]
     },
     "execution_count": 24,
     "metadata": {},
     "output_type": "execute_result"
    }
   ],
   "source": [
    "unique_politician_df"
   ]
  },
  {
   "cell_type": "code",
   "execution_count": 25,
   "metadata": {},
   "outputs": [],
   "source": [
    "unique_politician_df.to_pickle('../data/mentions/politician_mentions_unique.pkl')"
   ]
  },
  {
   "cell_type": "code",
   "execution_count": 3,
   "metadata": {},
   "outputs": [],
   "source": [
    "party_df = pd.read_pickle('../data/mentions/party_mentions.pkl')"
   ]
  },
  {
   "cell_type": "code",
   "execution_count": null,
   "metadata": {},
   "outputs": [],
   "source": [
    "party_df.groupby(['search_term', 'medium', 'id', 'title','date', 'party']).size().reset_index(name='mention_count').to_pickle('../data/mentions/party_mentions_unique.pkl')"
   ]
  }
 ],
 "metadata": {
  "kernelspec": {
   "display_name": "base",
   "language": "python",
   "name": "python3"
  },
  "language_info": {
   "codemirror_mode": {
    "name": "ipython",
    "version": 3
   },
   "file_extension": ".py",
   "mimetype": "text/x-python",
   "name": "python",
   "nbconvert_exporter": "python",
   "pygments_lexer": "ipython3",
   "version": "3.9.10 | packaged by conda-forge | (main, Feb  1 2022, 21:27:43) \n[Clang 11.1.0 ]"
  },
  "orig_nbformat": 4,
  "vscode": {
   "interpreter": {
    "hash": "9ae7ae13804f56b6812076ff88d4c743516b7c995d69dd5984882be015e04ad2"
   }
  }
 },
 "nbformat": 4,
 "nbformat_minor": 2
}
