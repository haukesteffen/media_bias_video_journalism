{
 "cells": [
  {
   "cell_type": "code",
   "execution_count": null,
   "metadata": {},
   "outputs": [],
   "source": [
    "import pandas as pd\n",
    "import numpy as np\n",
    "from sklearn.preprocessing import StandardScaler\n",
    "from tqdm import tqdm\n",
    "import spacy\n",
    "import seaborn as sns\n",
    "import matplotlib.pyplot as plt\n",
    "nlp = spacy.load('de_core_news_sm')\n",
    "\n",
    "parties = [\n",
    "    'linke',\n",
    "    'grüne',\n",
    "    'spd',\n",
    "    'fdp',\n",
    "    'cdu_csu',\n",
    "    'afd',\n",
    "]\n",
    "\n",
    "media = [\n",
    "    'junge Welt',\n",
    "    \"NachDenkSeiten\",\n",
    "    'taz',\n",
    "    'Süddeutsche Zeitung',\n",
    "    'stern TV',\n",
    "    \"DER SPIEGEL\",\n",
    "    'ZEIT ONLINE',\n",
    "    'Der Tagesspiegel',\n",
    "    'ARD',\n",
    "    #'tagesschau',\n",
    "    'ZDF',\n",
    "    \"ZDFheute Nachrichten\",\n",
    "    'Bayerischer Rundfunk',\n",
    "    'ntv Nachrichten',\n",
    "    'RTL',\n",
    "    'FOCUS Online',\n",
    "    'faz',\n",
    "    'WELT',\n",
    "    \"BILD\",\n",
    "    'NZZ Neue Zürcher Zeitung',\n",
    "    \"Junge Freiheit\",\n",
    "    'COMPACTTV'\n",
    "]\n",
    "\n",
    "search_terms = {\n",
    "    'cdu':['cdu', 'union'],\n",
    "    'csu':['csu', 'union'],\n",
    "    'fdp':['fdp', 'freien demokraten'],\n",
    "    'grüne':['grünen'],\n",
    "    'linke':['linke', 'linkspartei'],\n",
    "    'afd':['afd', 'afg'],\n",
    "    'spd':['spd', 'sozialdemokraten'],\n",
    "}\n",
    "\n",
    "df = pd.read_pickle('../data/topics_combined.pkl')\n",
    "for party in search_terms.keys():\n",
    "    df['contains_'+party] = [False for _ in range(len(df.index))]\n",
    "    for term in search_terms[party]:\n",
    "        df['contains_'+party] = df['contains_'+party] | df['preprocessed'].str.contains(term)\n",
    "df['contains_party'] = df['contains_cdu'] | df['contains_csu'] | df['contains_fdp'] | df['contains_grüne'] | df['contains_linke'] | df['contains_afd'] | df['contains_spd'] \n",
    "\n",
    "bt = pd.read_pickle('../assets/bundestag.pkl')\n",
    "bt.drop(columns=['Geburts-jahr', 'Land', 'Listen-platz', 'Erst-stimmen-anteil', 'Listen-platz', 'Wahlkreis', 'BeruflicherHintergrund', 'MdBseit', 'Bemerkungen'], inplace=True)\n",
    "party_blacklist = [\n",
    "    'fraktionslos(SSW)',\n",
    "    'fraktionslos (Zentrum)',\n",
    "    'fraktionslos (AfD)',\n",
    "    'fraktionslos (ehemals AfD)',\n",
    "]\n",
    "bt = bt[bt['Fraktion(Partei)'].isin(party_blacklist) == False]\n",
    "bt.loc[bt['Fraktion(Partei)'] == 'CDU/CSU (CDU)', 'Fraktion(Partei)'] = 'cdu'\n",
    "bt.loc[bt['Fraktion(Partei)'] == 'CDU/CSU (CSU)', 'Fraktion(Partei)'] = 'csu'\n",
    "politician_dict = bt.set_index('Name').to_dict()['Fraktion(Partei)']\n",
    "politicians = {\n",
    "    politician.lower():politician_dict[politician].lower() for politician in list(politician_dict.keys())\n",
    "}"
   ]
  },
  {
   "cell_type": "code",
   "execution_count": null,
   "metadata": {},
   "outputs": [],
   "source": [
    "def standardize_df(input_df):\n",
    "    df = input_df.copy()\n",
    "    for party in df.columns:\n",
    "        df[party] -= df[party].mean()\n",
    "    return df.round(3)\n",
    "\n",
    "def columnwise_percentage(input_df):\n",
    "    df = input_df.copy()\n",
    "    for medium in df.columns:\n",
    "        df[medium] /= df[medium].sum()\n",
    "    return df.round(3)"
   ]
  },
  {
   "cell_type": "code",
   "execution_count": null,
   "metadata": {},
   "outputs": [],
   "source": [
    "mentions_by_media = df.groupby(['medium'])[['contains_linke', 'contains_grüne', 'contains_spd', 'contains_fdp', 'contains_csu', 'contains_cdu', 'contains_afd']].sum()\n",
    "mentions_by_media = mentions_by_media.loc[media].transpose()\n",
    "mentions_by_media.index = [['linke', 'grüne', 'spd', 'fdp', 'csu', 'cdu', 'afd']]"
   ]
  },
  {
   "cell_type": "code",
   "execution_count": null,
   "metadata": {},
   "outputs": [],
   "source": [
    "df_to_plot = columnwise_percentage(mentions_by_media).transpose()\n",
    "f, ax = plt.subplots(figsize=(9, 8))\n",
    "sns.heatmap(df_to_plot, annot=True, fmt=\".1%\", linewidths=.5, ax=ax, center=np.nanmean(df_to_plot))\n",
    "ax.set(xlabel='party', ylabel='medium', title='percentage of mentions by medium y\\nthat are about party x')\n",
    "\n",
    "df_to_plot = standardize_df(columnwise_percentage(mentions_by_media).transpose())\n",
    "f, ax = plt.subplots(figsize=(9, 8))\n",
    "sns.heatmap(df_to_plot, annot=True, fmt=\".1%\", linewidths=.5, ax=ax, center=np.nanmean(df_to_plot))\n",
    "ax.set(xlabel='party', ylabel='medium', title='percentage of mentions by medium y\\nthat are about party x\\nstandardized across media')"
   ]
  },
  {
   "cell_type": "code",
   "execution_count": null,
   "metadata": {},
   "outputs": [],
   "source": [
    "stats_df = columnwise_percentage(mentions_by_media).transpose()\n",
    "print(f\"party mentions means:\\n{stats_df.mean()}\\n\\nparty mentions standard deviation:\\n{stats_df.std()}\")"
   ]
  },
  {
   "cell_type": "code",
   "execution_count": null,
   "metadata": {},
   "outputs": [],
   "source": [
    "for party in list(set(politicians.values())):\n",
    "    df['politician_count_'+party] = [0 for _ in range(df.shape[0])]\n",
    "\n",
    "for politician in tqdm(politicians.keys()):\n",
    "    df['politician_count_'+politicians[politician]] += df['preprocessed'].str.contains(politician)\n",
    "\n",
    "politician_mentions_by_media = df.groupby(['medium'])[['politician_count_linke', 'politician_count_grüne', 'politician_count_spd', 'politician_count_fdp', 'politician_count_csu', 'politician_count_cdu', 'politician_count_afd']].sum()\n",
    "politician_mentions_by_media = politician_mentions_by_media.loc[media].transpose()\n",
    "politician_mentions_by_media.index = [['linke', 'grüne', 'spd', 'fdp', 'csu', 'cdu', 'afd']]"
   ]
  },
  {
   "cell_type": "code",
   "execution_count": null,
   "metadata": {},
   "outputs": [],
   "source": [
    "df_to_plot = columnwise_percentage(politician_mentions_by_media).transpose()\n",
    "f, ax = plt.subplots(figsize=(9, 8))\n",
    "sns.heatmap(df_to_plot, annot=True, fmt=\".1%\", linewidths=.5, ax=ax, center=np.nanmean(df_to_plot))\n",
    "ax.set(xlabel='party', ylabel='medium', title='percentage of mentions by medium y\\nthat are about politicians of party x')\n",
    "\n",
    "df_to_plot = standardize_df(columnwise_percentage(politician_mentions_by_media).transpose())\n",
    "f, ax = plt.subplots(figsize=(9, 8))\n",
    "sns.heatmap(df_to_plot, annot=True, fmt=\".1%\", linewidths=.5, ax=ax, center=np.nanmean(df_to_plot))\n",
    "ax.set(xlabel='party', ylabel='medium', title='percentage of mentions by medium y\\nthat are about politicians of party x\\nstandardized across media')"
   ]
  },
  {
   "cell_type": "code",
   "execution_count": null,
   "metadata": {},
   "outputs": [],
   "source": [
    "stats_df = columnwise_percentage(politician_mentions_by_media).transpose()\n",
    "print(f\"politician mentions means:\\n{stats_df.mean()}\\n\\npolitician mentions standard deviation:\\n{stats_df.std()}\")"
   ]
  },
  {
   "cell_type": "code",
   "execution_count": null,
   "metadata": {},
   "outputs": [],
   "source": [
    "columnwise_percentage(mentions_by_media.loc[['linke', 'grüne', 'spd', 'fdp', 'cdu', 'csu', 'afd']]).transpose().loc[media].to_pickle('../data/mentions/party.pkl')\n",
    "standardize_df(columnwise_percentage(mentions_by_media.loc[['linke', 'grüne', 'spd', 'fdp', 'cdu', 'csu', 'afd']]).transpose().loc[media]).to_pickle('../data/mentions/party_standardized.pkl')\n",
    "columnwise_percentage(politician_mentions_by_media.loc[['linke', 'grüne', 'spd', 'fdp', 'cdu', 'csu', 'afd']]).transpose().loc[media].to_pickle('../data/mentions/politician.pkl')\n",
    "standardize_df(columnwise_percentage(politician_mentions_by_media.loc[['linke', 'grüne', 'spd', 'fdp', 'cdu', 'csu', 'afd']]).transpose().loc[media]).to_pickle('../data/mentions/politician_standardized.pkl')"
   ]
  }
 ],
 "metadata": {
  "kernelspec": {
   "display_name": "Python 3.9.10 ('base')",
   "language": "python",
   "name": "python3"
  },
  "language_info": {
   "codemirror_mode": {
    "name": "ipython",
    "version": 3
   },
   "file_extension": ".py",
   "mimetype": "text/x-python",
   "name": "python",
   "nbconvert_exporter": "python",
   "pygments_lexer": "ipython3",
   "version": "3.9.10 | packaged by conda-forge | (main, Feb  1 2022, 21:27:43) \n[Clang 11.1.0 ]"
  },
  "orig_nbformat": 4,
  "vscode": {
   "interpreter": {
    "hash": "9ae7ae13804f56b6812076ff88d4c743516b7c995d69dd5984882be015e04ad2"
   }
  }
 },
 "nbformat": 4,
 "nbformat_minor": 2
}
