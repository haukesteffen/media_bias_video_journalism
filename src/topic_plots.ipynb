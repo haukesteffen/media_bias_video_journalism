{
 "cells": [
  {
   "cell_type": "code",
   "execution_count": null,
   "metadata": {},
   "outputs": [],
   "source": [
    "import pandas as pd\n",
    "import numpy as np\n",
    "from pathlib import Path\n",
    "import matplotlib.font_manager as fm\n",
    "import matplotlib.ticker as mtick\n",
    "import matplotlib.patches as mpatches\n",
    "import matplotlib.pyplot as plt\n",
    "import matplotlib as mpl\n",
    "mpl.use('pdf')\n",
    "\n",
    "media = [\n",
    "    'junge Welt',\n",
    "    \"NachDenkSeiten\",\n",
    "    'taz',\n",
    "    'Süddeutsche Zeitung',\n",
    "    'stern TV',\n",
    "    \"DER SPIEGEL\",\n",
    "    'Der Tagesspiegel',\n",
    "    'ARD',\n",
    "    'ZDF',\n",
    "    \"ZDFheute Nachrichten\",\n",
    "    'Bayerischer Rundfunk',\n",
    "    'ntv Nachrichten',\n",
    "    'RTL',\n",
    "    'FOCUS Online',\n",
    "    'ZEIT ONLINE',\n",
    "    'faz',\n",
    "    'WELT',\n",
    "    \"BILD\",\n",
    "    'NZZ Neue Zürcher Zeitung',\n",
    "    \"Junge Freiheit\",\n",
    "    'COMPACTTV'\n",
    "]\n",
    "shorts = ['JW', 'NDS', 'taz', 'SZ', 'St', 'Sp', 'TS', 'ARD', 'ZDF', 'ZDFh', 'BR', 'ntv', 'RTL', 'FOCUS', 'ZEIT', 'faz', 'WELT', 'BILD', 'NZZ', 'JF', 'CTV']\n",
    "\n",
    "fpath = Path(mpl.get_data_path(), \"fonts/ttf/cmu_serif_roman.ttf\")\n",
    "fprop = fm.FontProperties(fname=fpath)\n",
    "\n",
    "width = 6.2 #inches\n",
    "height = width/1.614\n",
    "\n",
    "font = {'family':'serif', 'serif': ['cmr10']}\n",
    "plt.rc('font',**font)\n",
    "plt.rcParams['axes.unicode_minus'] = False\n",
    "plt.rc('axes', titlesize=12)\n",
    "plt.rc('xtick', labelsize=12)\n",
    "plt.rc('ytick', labelsize=12)"
   ]
  },
  {
   "cell_type": "code",
   "execution_count": null,
   "metadata": {},
   "outputs": [],
   "source": [
    "df = pd.read_pickle('../data/topics_combined.pkl')\n",
    "df['date'] = pd.to_datetime(df['date'])"
   ]
  },
  {
   "cell_type": "code",
   "execution_count": null,
   "metadata": {},
   "outputs": [],
   "source": [
    "flucht_over_time = df[df['topic'] == '7_flüchtlinge_menschen_ukraine_grenze']\n",
    "flucht_over_time = flucht_over_time[flucht_over_time['minute'] == 0]\n",
    "flucht_over_time = flucht_over_time.groupby('date').size()\n",
    "\n",
    "klima_over_time = df[df['topic'] == '10_co2_klimaschutz_klima_energien']\n",
    "klima_over_time = klima_over_time[klima_over_time['minute'] == 0]\n",
    "klima_over_time = klima_over_time.groupby('date').size()\n",
    "\n",
    "justiz_over_time = df[df['topic'] == '3_polizei_polizisten_täter_beamten']\n",
    "justiz_over_time = justiz_over_time[justiz_over_time['minute'] == 0]\n",
    "justiz_over_time = justiz_over_time.groupby('date').size()\n",
    "\n",
    "flucht_minutes = df[df['topic'] == '7_flüchtlinge_menschen_ukraine_grenze'].groupby('date').size().sum()\n",
    "klima_minutes = df[df['topic'] == '10_co2_klimaschutz_klima_energien'].groupby('date').size().sum()\n",
    "justiz_minutes = df[df['topic'] == '3_polizei_polizisten_täter_beamten'].groupby('date').size().sum()"
   ]
  },
  {
   "cell_type": "code",
   "execution_count": null,
   "metadata": {},
   "outputs": [],
   "source": [
    "fig, axs = plt.subplots(3, 1, sharex=True)\n",
    "fig.subplots_adjust(left=.09, bottom=.13, right=.98, top=.92)\n",
    "\n",
    "axs[0].bar(flucht_over_time.index, flucht_over_time.values, color='red', width = 5.0)\n",
    "axs[1].bar(klima_over_time.index, klima_over_time.values, color='green', width = 5.0)\n",
    "axs[2].bar(justiz_over_time.index, justiz_over_time.values, color='blue', width = 5.0)\n",
    "\n",
    "axs[0].set_title(f'Veröffentlichungen pro Tag und Themenbereich im Zeitverlauf', fontsize=12, font=fpath)\n",
    "axs[0].grid(b=True, which='major', color='k', linestyle='--', alpha=0.5)\n",
    "axs[1].set_ylabel('Anzahl der veröffentlichten Videos pro Tag', fontsize=12, font=fpath)\n",
    "axs[1].grid(b=True, which='major', color='k', linestyle='--', alpha=0.5)\n",
    "axs[2].set_xlabel('Zeitpunkt der Veröffentlichung', fontsize=12, font=fpath)\n",
    "axs[2].grid(b=True, which='major', color='k', linestyle='--', alpha=0.5)\n",
    "\n",
    "\n",
    "leg1 = mpatches.Patch(color='red')\n",
    "leg2 = mpatches.Patch(color='green')\n",
    "leg3 = mpatches.Patch(color='blue')\n",
    "labels = ['Flucht', 'Klima', 'Justiz']\n",
    "fig.legend(handles=[leg1, leg2, leg3], labels=labels, loc=\"upper left\", title='Themenbereich', bbox_to_anchor=(0.084, 0.928),)\n",
    "\n",
    "fig.set_size_inches(width, height)\n",
    "fig.savefig('../results/themenbereiche_zeitverlauf.pdf')"
   ]
  },
  {
   "cell_type": "code",
   "execution_count": null,
   "metadata": {},
   "outputs": [],
   "source": [
    "print(f'Flucht count: {flucht_over_time.sum()} videos\\nKlima count: {klima_over_time.sum()} videos\\nJustiz count: {justiz_over_time.sum()} videos\\n\\n')\n",
    "print(f'Flucht minutes: {flucht_minutes}\\nKlima minutes: {klima_minutes}\\nJustiz minutes: {justiz_minutes}\\n')"
   ]
  },
  {
   "cell_type": "code",
   "execution_count": null,
   "metadata": {},
   "outputs": [],
   "source": [
    "topics_of_interest = {\n",
    "    'Flucht':'7_flüchtlinge_menschen_ukraine_grenze',\n",
    "    'Klima':'10_co2_klimaschutz_klima_energien',\n",
    "    'Justiz':'3_polizei_polizisten_täter_beamten',\n",
    "}\n",
    "topic_percentage_df = pd.DataFrame(columns=media, index=topics_of_interest.keys())\n",
    "for medium in media:\n",
    "    n_videos = len(df[(df['medium']==medium) & (df['minute']==0)])\n",
    "    for topic, topic_string in topics_of_interest.items():\n",
    "        n_topic_videos = len(df[(df['medium']==medium) & (df['minute']==0) & (df['topic'] == topic_string)])\n",
    "        topic_percentage_df.loc[topic, medium] = n_topic_videos/n_videos\n"
   ]
  },
  {
   "cell_type": "code",
   "execution_count": null,
   "metadata": {},
   "outputs": [],
   "source": [
    "X = np.arange(len(media))\n",
    "barwidth = 0.25\n",
    "\n",
    "fig, ax = plt.subplots()\n",
    "fig.subplots_adjust(left=.11, bottom=.23, right=.99, top=.92)\n",
    "\n",
    "plt.bar(X - 0.5*barwidth, topic_percentage_df.loc['Flucht'].values*100, color = 'r', width = barwidth, edgecolor = 'black', label='Flucht')\n",
    "plt.bar(X + 0.5*barwidth, topic_percentage_df.loc['Klima'].values*100, color = 'g', width = barwidth, edgecolor = 'black', label='Klima')\n",
    "plt.bar(X + 1.5*barwidth, topic_percentage_df.loc['Justiz'].values*100, color = 'b', width = barwidth, edgecolor = 'black', label='Justiz')\n",
    "\n",
    "plt.xticks(X + barwidth/2, shorts, rotation=55, font=fpath, fontsize=12, color='grey')\n",
    "plt.gca().get_xticklabels()[1].set_color('black') \n",
    "plt.gca().get_xticklabels()[2].set_color('black') \n",
    "plt.gca().get_xticklabels()[5].set_color('black') \n",
    "plt.gca().get_xticklabels()[7].set_color('black') \n",
    "plt.gca().get_xticklabels()[8].set_color('black') \n",
    "plt.gca().get_xticklabels()[9].set_color('black') \n",
    "plt.gca().get_xticklabels()[10].set_color('black') \n",
    "plt.gca().get_xticklabels()[11].set_color('black') \n",
    "plt.gca().get_xticklabels()[13].set_color('black') \n",
    "plt.gca().get_xticklabels()[15].set_color('black') \n",
    "plt.gca().get_xticklabels()[16].set_color('black') \n",
    "plt.gca().get_xticklabels()[17].set_color('black') \n",
    "plt.gca().get_xticklabels()[20].set_color('black') \n",
    "\n",
    "plt.yticks(font=fpath, fontsize=12)\n",
    "ax.yaxis.set_major_formatter(mtick.PercentFormatter())\n",
    "plt.legend(title='Themenbereich', prop=fpath, fontsize=12)\n",
    "ax.grid(b=True, which='major', color='k', linestyle='--', alpha=0.5)\n",
    "ax.set_title(f'Veröffentlichungen pro Medium und Themenbereich', fontsize=12, font=fpath)\n",
    "ax.set_ylabel('Prozentualer Anteil des Themenbereichs', fontsize=12, font=fpath)\n",
    "ax.set_xlabel('Medium', fontsize=12, font=fpath)\n",
    "\n",
    "fig.set_size_inches(width, height)\n",
    "fig.savefig('../results/themenbereiche_prozentual.pdf')"
   ]
  }
 ],
 "metadata": {
  "kernelspec": {
   "display_name": "Python 3.9.10 ('base')",
   "language": "python",
   "name": "python3"
  },
  "language_info": {
   "codemirror_mode": {
    "name": "ipython",
    "version": 3
   },
   "file_extension": ".py",
   "mimetype": "text/x-python",
   "name": "python",
   "nbconvert_exporter": "python",
   "pygments_lexer": "ipython3",
   "version": "3.9.10"
  },
  "orig_nbformat": 4,
  "vscode": {
   "interpreter": {
    "hash": "9ae7ae13804f56b6812076ff88d4c743516b7c995d69dd5984882be015e04ad2"
   }
  }
 },
 "nbformat": 4,
 "nbformat_minor": 2
}
