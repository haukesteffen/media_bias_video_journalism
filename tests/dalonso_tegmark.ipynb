{
 "cells": [
  {
   "cell_type": "code",
   "execution_count": 154,
   "metadata": {},
   "outputs": [],
   "source": [
    "import warnings\n",
    "\n",
    "warnings.filterwarnings('ignore')\n",
    "\n",
    "import pandas as pd\n",
    "import numpy as np\n",
    "import seaborn as sns\n",
    "import matplotlib.pyplot as plt\n",
    "import spacy\n",
    "import glob\n",
    "from tqdm import tqdm\n",
    "from sklearn.utils import shuffle\n",
    "from scipy.optimize import minimize\n",
    "from scipy.stats import poisson\n",
    "from sklearn.decomposition import TruncatedSVD\n",
    "from sklearn.feature_extraction.text import CountVectorizer\n",
    "\n",
    "\n",
    "def get_N_matrix(topic, verbose=True, drop_subsumed=True):\n",
    "    MEDIA = ['NachDenkSeiten', 'DER SPIEGEL', 'ZDFheute Nachrichten', 'BILD', 'Junge Freiheit']\n",
    "    cv = CountVectorizer(max_df=0.9, min_df=10, max_features=10000, ngram_range=(1,3))\n",
    "\n",
    "    df = pd.read_csv('../data/sorted/'+topic+'.csv', index_col=0)\n",
    "    cv.fit(df['preprocessed'])\n",
    "\n",
    "    df['preprocessed'] = df['preprocessed'] + ' '\n",
    "    df = df[['medium', 'preprocessed', 'dominant topic']]\n",
    "    df_grouped = df.groupby(['medium', 'dominant topic']).sum()\n",
    "\n",
    "    df = pd.DataFrame(index=MEDIA, columns=['preprocessed'])\n",
    "    for medium in MEDIA:\n",
    "        df.loc[medium] = df_grouped.loc[medium].loc[topic]['preprocessed']\n",
    "\n",
    "    \n",
    "    N_matrix = cv.transform(df['preprocessed'].values)\n",
    "\n",
    "    N_df = pd.DataFrame(data=N_matrix.toarray().transpose(),\n",
    "                        columns=df.index,\n",
    "                        index=cv.get_feature_names_out())\n",
    "\n",
    "    if drop_subsumed:\n",
    "        N_df = N_df.reset_index().rename(columns={'index':'phrase'})\n",
    "        N_df['n_gram'] = N_df['phrase'].apply(str.split).apply(len)\n",
    "        N_df['count'] = N_df[['NachDenkSeiten', 'DER SPIEGEL', 'ZDFheute Nachrichten', 'BILD', 'Junge Freiheit']].sum(axis=1)\n",
    "\n",
    "        monograms = N_df[N_df['n_gram'] == 1]\n",
    "        bigrams = N_df[N_df['n_gram'] == 2]\n",
    "        trigrams = N_df[N_df['n_gram'] == 3]\n",
    "\n",
    "        bigram_words = list(set([word for bigram_sublist in bigrams['phrase'].apply(str.split).tolist() for word in bigram_sublist]))\n",
    "        trigram_words = list(set([word for trigram_sublist in trigrams['phrase'].apply(str.split).tolist() for word in trigram_sublist]))\n",
    "\n",
    "        monograms_in_bigrams = monograms[monograms['phrase'].isin(bigram_words)]\n",
    "        monograms_in_trigrams = monograms[monograms['phrase'].isin(trigram_words)]\n",
    "\n",
    "        bigrams_in_trigrams_words = list(set([bigram_word for bigram_word in bigram_words if bigram_word in trigram_words]))\n",
    "        bigrams_in_trigrams_mask = bigrams['phrase'].apply(lambda bigram: True if bigram.split()[0] in bigrams_in_trigrams_words or bigram.split()[1] in bigrams_in_trigrams_words else False)\n",
    "        bigrams_in_trigrams = bigrams[bigrams_in_trigrams_mask]\n",
    "\n",
    "        threshold = 0.7\n",
    "        monograms_in_bigrams_above_threshold = list(set([monogram['phrase'] for _, monogram in monograms_in_bigrams.iterrows() for _, bigram in bigrams.iterrows() if monogram['phrase'] in bigram['phrase'].split() and bigram['count'] > threshold*monogram['count']]))\n",
    "        monograms_in_trigrams_above_threshold = list(set([monogram['phrase'] for _, monogram in monograms_in_trigrams.iterrows() for _, trigram in trigrams.iterrows() if monogram['phrase'] in trigram['phrase'].split() and trigram['count'] > threshold*monogram['count']]))\n",
    "        bigrams_in_trigrams_above_threshold = list(set([bigram['phrase'] for _, bigram in bigrams_in_trigrams.iterrows() for _, trigram in trigrams.iterrows() if (bigram['phrase'] in \" \".join(trigram['phrase'].split()[:2]) or bigram['phrase'] in \" \".join(trigram['phrase'].split()[-2:])) and trigram['count'] > threshold*bigram['count']]))\n",
    "        n_grams_above_threshold = list(set(np.append(np.append(monograms_in_bigrams_above_threshold, monograms_in_trigrams_above_threshold), bigrams_in_trigrams_above_threshold)))\n",
    "\n",
    "        N_df.drop(N_df[N_f['phrase'].isin(n_grams_above_threshold)].index, inplace = True)\n",
    "        N_df.set_index('phrase').drop(columns=['n_gram', 'count'])\n",
    "\n",
    "    return N_df"
   ]
  },
  {
   "cell_type": "code",
   "execution_count": 8,
   "metadata": {},
   "outputs": [],
   "source": [
    "n = 20000\n",
    "\n",
    "N_df, cv = get_N_matrix('Ukrainekonflikt')\n",
    "N_df['sum'] = N_df.sum(axis=1)\n",
    "N_df.sort_values(by=['sum'], inplace=True)\n",
    "N_df.drop(columns=['sum'], inplace=True)\n",
    "N_df = N_df.iloc[:n]\n"
   ]
  },
  {
   "cell_type": "code",
   "execution_count": null,
   "metadata": {},
   "outputs": [],
   "source": [
    "def relu(x):\n",
    "    return np.maximum(0.0, x)\n",
    "\n",
    "def convert_x_to_uvw(x):\n",
    "    u = np.reshape(x[:u_guess.size], u_shape)\n",
    "    v = np.reshape(x[u_guess.size:u_guess.size+v_guess.size], v_shape)\n",
    "    w = np.diag(x[u_guess.size+v_guess.size:])\n",
    "    return u, v, w\n",
    "\n",
    "def convert_uvw_to_x(u, v, w):\n",
    "    u = u[:,:r].flatten()\n",
    "    w = [w[i, i] for i in range(r)]\n",
    "    v = v[:r, :].flatten()\n",
    "    return np.append(np.append(u, v), w)\n",
    "\n",
    "def objective(x):\n",
    "    global N_df\n",
    "    #u, v, w = convert_x_to_uvw(x)\n",
    "    #mu = u.dot(w).dot(v)\n",
    "    x = x.reshape(len(N_df.index), len(N_df.columns))\n",
    "    #svd.fit_transform(N_df)\n",
    "    fitted = svd.fit_transform(x)\n",
    "    mu = relu(svd.inverse_transform(fitted))\n",
    "    P_matrix = poisson.pmf(k=N_df.values, mu=mu)\n",
    "    loss_function = -1.0*np.log(np.product(P_matrix, axis=None))\n",
    "    return loss_function\n",
    "\n",
    "def constraint_1(x):\n",
    "    u, v, w = convert_x_to_uvw(x)\n",
    "    v = np.zeros(v.shape)\n",
    "    w = np.zeros(w.shape)\n",
    "    u_unitary = u.dot(u.transpose())# - np.diag(np.ones(u_shape[0]))\n",
    "    if np.allclose(u_unitary, np.diag(np.ones(u_shape[0]))):\n",
    "        return 0\n",
    "    else:\n",
    "        return 1\n",
    "    #return np.sum(u, axis=0) #convert_uvw_to_x(u, v, w) \n",
    "\n",
    "def constraint_2(x):\n",
    "    u, v, w = convert_x_to_uvw(x)\n",
    "    u = np.zeros(u.shape)\n",
    "    w = np.zeros(w.shape)\n",
    "    v_unitary = v.dot(v.transpose())# - np.diag(np.ones(v_shape[0]))\n",
    "    if np.allclose(v_unitary, np.diag(np.ones(v_shape[0]))):\n",
    "        return 0\n",
    "    else:\n",
    "        return 1\n",
    "    #return np.sum(v, axis=0) #convert_uvw_to_x(u, v, w)\n",
    "\n",
    "\n",
    "r = 3\n",
    "svd = TruncatedSVD(n_components=r)\n",
    "\n",
    "u_shape = (len(N_df.index), r)\n",
    "v_shape = (r, len(N_df.columns))\n",
    "w_shape = (r)\n",
    "\n",
    "u_guess = np.zeros(u_shape[0]*u_shape[1])\n",
    "v_guess = np.zeros(v_shape[0]*v_shape[1])\n",
    "w_guess = np.zeros(w_shape)\n",
    "\n",
    "#x0 = np.append(np.append(u_guess, v_guess), w_guess)\n",
    "np.random.seed(42)\n",
    "x0 = np.random.rand(len(N_df.index)*len(N_df.columns))\n",
    "#bounds = [(0, None) if i>=u_shape[0]*u_shape[1]+v_shape[0]+v_shape[1] else (None, None) for i in range(x0.size)]\n",
    "bounds = [(0, 10*len(N_df.index)) for i in x0]\n",
    "con1 = {'type':'eq', 'fun':constraint_1}\n",
    "con2 = {'type':'eq', 'fun':constraint_2}\n",
    "cons = [con1, con2]\n",
    "\n",
    "sol = minimize(fun=objective, x0=x0, bounds=bounds)#, constraints=cons)\n",
    "#u, v, w = convert_x_to_uvw(sol.x)\n",
    "#lambda_matrix = u.dot(w.dot(v))\n"
   ]
  },
  {
   "cell_type": "code",
   "execution_count": 5,
   "metadata": {},
   "outputs": [
    {
     "data": {
      "image/png": "[encoded data removed]",
      "text/plain": [
       "<Figure size 432x288 with 1 Axes>"
      ]
     },
     "metadata": {},
     "output_type": "display_data"
    }
   ],
   "source": [
    "r=3\n",
    "\n",
    "model = TruncatedSVD(n_components=r)\n",
    "N_df_trunc = model.fit_transform(N_df.values)\n",
    "\n",
    "sns.set(palette='RdBu', style='whitegrid')\n",
    "sns.scatterplot(svd.components_[1], svd.components_[2], hue=['NachDenkSeiten', 'DER SPIEGEL', 'ZDFheute Nachrichten', 'BILD', 'Junge Freiheit'])\n",
    "plt.show()"
   ]
  },
  {
   "cell_type": "code",
   "execution_count": 253,
   "metadata": {},
   "outputs": [],
   "source": [
    "topic = 'Ukrainekonflikt'\n",
    "N = get_N_matrix(topic=topic)\n",
    "N = N.reset_index().rename(columns={'index':'phrase'})\n",
    "N['n_gram'] = N['phrase'].apply(str.split).apply(len)\n",
    "\n",
    "N['count'] = N[['NachDenkSeiten', 'DER SPIEGEL', 'ZDFheute Nachrichten', 'BILD', 'Junge Freiheit']].sum(axis=1)\n",
    "\n",
    "monograms = N[N['n_gram'] == 1]\n",
    "bigrams = N[N['n_gram'] == 2]\n",
    "trigrams = N[N['n_gram'] == 3]\n"
   ]
  },
  {
   "cell_type": "code",
   "execution_count": 254,
   "metadata": {},
   "outputs": [
    {
     "name": "stdout",
     "output_type": "stream",
     "text": [
      "1311\n"
     ]
    }
   ],
   "source": [
    "bigram_words = [word for bigram_sublist in bigrams['phrase'].apply(str.split).tolist() for word in bigram_sublist]\n",
    "bigram_words = list(set(bigram_words))\n",
    "print(len(bigram_words))"
   ]
  },
  {
   "cell_type": "code",
   "execution_count": 255,
   "metadata": {},
   "outputs": [
    {
     "name": "stdout",
     "output_type": "stream",
     "text": [
      "873\n"
     ]
    }
   ],
   "source": [
    "trigram_words = [word for trigram_sublist in trigrams['phrase'].apply(str.split).tolist() for word in trigram_sublist]\n",
    "bigram_words = list(set(trigram_words))\n",
    "print(len(trigram_words))"
   ]
  },
  {
   "cell_type": "code",
   "execution_count": 256,
   "metadata": {},
   "outputs": [],
   "source": [
    "monograms_in_bigrams = monograms[monograms['phrase'].isin(bigram_words)]\n",
    "monograms_in_trigrams = monograms[monograms['phrase'].isin(trigram_words)]"
   ]
  },
  {
   "cell_type": "code",
   "execution_count": 257,
   "metadata": {},
   "outputs": [
    {
     "name": "stdout",
     "output_type": "stream",
     "text": [
      "                  phrase  NachDenkSeiten  DER SPIEGEL  ZDFheute Nachrichten  \\\n",
      "6            abend abend               0            0                    38   \n",
      "7             abend herr               0            0                    41   \n",
      "8         abend herzlich               0            0                    23   \n",
      "9            abend schön               0            0                    26   \n",
      "20        abgeben freuen              97            0                     0   \n",
      "...                  ...             ...          ...                   ...   \n",
      "9893  zweitgrößten stadt               0            1                    11   \n",
      "9932              öl gas               3            1                    80   \n",
      "9933            öl kohle               0            0                    28   \n",
      "9934         öl russland               0            1                     9   \n",
      "9947    überfall ukraine               0            3                    21   \n",
      "\n",
      "      BILD  Junge Freiheit  n_gram  count  \n",
      "6        7               0       2     45  \n",
      "7       11               0       2     52  \n",
      "8        7               0       2     30  \n",
      "9        4               0       2     30  \n",
      "20       0               0       2     97  \n",
      "...    ...             ...     ...    ...  \n",
      "9893    57               0       2     69  \n",
      "9932   163               0       2    247  \n",
      "9933    30               0       2     58  \n",
      "9934    17               0       2     27  \n",
      "9947    69               0       2     93  \n",
      "\n",
      "[2286 rows x 8 columns]\n"
     ]
    }
   ],
   "source": [
    "bigrams_in_trigrams_words = list(set([bigram_word for bigram_word in bigram_words if bigram_word in trigram_words]))\n",
    "bigrams_in_trigrams_mask = bigrams['phrase'].apply(lambda bigram: True if bigram.split()[0] in bigrams_in_trigrams_words or bigram.split()[1] in bigrams_in_trigrams_words else False)\n",
    "bigrams_in_trigrams = bigrams[bigrams_in_trigrams_mask]\n",
    "print(bigrams_in_trigrams)"
   ]
  },
  {
   "cell_type": "code",
   "execution_count": 258,
   "metadata": {},
   "outputs": [],
   "source": [
    "threshold = 0.7\n",
    "monograms_in_bigrams_above_threshold = list(set([monogram['phrase'] for _, monogram in monograms_in_bigrams.iterrows() for _, bigram in bigrams.iterrows() if monogram['phrase'] in bigram['phrase'].split() and bigram['count'] > threshold*monogram['count']]))\n",
    "monograms_in_trigrams_above_threshold = list(set([monogram['phrase'] for _, monogram in monograms_in_trigrams.iterrows() for _, trigram in trigrams.iterrows() if monogram['phrase'] in trigram['phrase'].split() and trigram['count'] > threshold*monogram['count']]))\n",
    "bigrams_in_trigrams_above_threshold = list(set([bigram['phrase'] for _, bigram in bigrams_in_trigrams.iterrows() for _, trigram in trigrams.iterrows() if (bigram['phrase'] in \" \".join(trigram['phrase'].split()[:2]) or bigram['phrase'] in \" \".join(trigram['phrase'].split()[-2:])) and trigram['count'] > threshold*bigram['count']]))"
   ]
  },
  {
   "cell_type": "code",
   "execution_count": 259,
   "metadata": {},
   "outputs": [
    {
     "name": "stdout",
     "output_type": "stream",
     "text": [
      "['ursula', 'york', 'joe', 'mario', 'weiterverbreitung', 'times', 'abonnieren', 'olaf', 'petersburg', 'annalena', 'ronzheimer', 'weltmeistertitel', 'notre', 'rändern', 'bauernebel', 'aktionsbündnis', 'vereinigen', 'gerhard', 'leserinnen', 'meinungen', 'walter', 'watch', 'zweitgrößten', 'andrej', 'pen', 'sievers', 'nothilfe', 'kommissionspräsidenten', 'nord', 'baerbock', 'ost', 'gratis', 'bewertung', 'rights', 'herren', 'governor', 'angela', 'biden', 'klicken', 'potthoff', 'thiede', 'baltisch', 'prengel', 'habeck', 'damen', 'stream', 'pohl', 'usual', 'vereinen', 'felix', 'highlight', 'wladimir', 'inhalte', 'melik', 'zuschauerinnen', 'le', 'bürgerinnen', 'köpfe', 'tiede', 'hellen', 'audio', 'lambsdorff', 'sonntags', 'human', 'soundcloud', 'katastrophenhilfe', 'itunes', 'new']\n",
      "['weiterverbreitung', 'times', 'abonnieren', 'weltmeistertitel', 'notre', 'rändern', 'aktionsbündnis', 'watch', 'walter', 'leserinnen', 'zweitgrößten', 'nothilfe', 'gratis', 'rights', 'bewertung', 'governor', 'klicken', 'usual', 'highlight', 'inhalte', 'audio', 'soundcloud', 'itunes']\n",
      "['weiterverbreitung inhalte', 'live kathedrale', 'schröder wladimir', 'spenden unterstützen', 'sendung präsentieren', 'neuinfektionen binnen', 'all hinbringen', 'tschechien slowenien', 'blutig angriffskrieg', 'nothilfe ukraine', 'dame stehen', 'russland reporter', 'berichte ukrainisch', 'fragen dienstag', 'ronzheimer paul', 'potthoff sprechen', 'kilometer polnisch', 'präsident wladimir', 'charta vereinen', 'korrespondenten peter', 'rändern brennen', 'ukraine wladimir', 'freitag reif', 'russisch angriffs', 'leserinnen fördern', 'stunden woche', 'of poker', 'operation geschichte', 'ronzheimer live', 'kampf israel', 'brennen stellen', 'gratis poker', 'luft lande', 'ronzheimer reporter', 'business as', 'schauen juli', 'gefährlich operation', 'live deutschland', 'zuschauerinnen zuschauer', 'bundeskanzler olaf', 'highlight live', 'stiftung wissenschaft', 'aktionsbündnis katastrophenhilfe', 'live live', 'institut melden', 'freitag live', 'kinder opfern', 'minute anrichten', 'land putin', 'pipeline nord', 'bilder mario', 'sonntag fragen', 'fluchen verlieren', 'spenden aktionsbündnis', 'märz sendung', 'lemberg westen', 'hören gerne', 'dienstag donnerstag', 'wahrheit ukraine', 'krieg wladimir', 'unterstützen klicken', 'verlieren zuhause', 'sturm weltmeistertitel', 'kathedrale notre', 'gaspipeline nord', 'positiv bewertung', 'button website', 'präsentieren governor', 'live rändern', 'leser leserinnen', 'lande operation', 'bauernebel new', 'audio entstehen', 'rede wladimir', 'präsident joe', 'robert koch', 'york herbert', 'klitschko bürgermeister', 'entstehen zahlreiche', 'york times', 'as usual', 'millionen erfolgreich', 'raketen jed', 'zweitgrößten stadt', 'kiew kriegs', 'chefreporter peter', 'kiew vitali', 'stichwort nothilfe', 'botschafter deutschland', 'stadt kiew', 'fragen montag', 'dorf zerstören', 'live box', 'militärisch ziel', 'schock sonntags', 'treffen viertel', 'schauen mario', 'thiede moskau', 'köpfe meinungen', 'donnerstag montag', 'medien treffen', 'youtube hören', 'scholz bundeskanzler', 'poker gratis', 'zweitgrößte stadt', 'katastrophenhilfe stichwort', 'rights watch', 'präsidenten selensky', 'pohl menschen', 'präsidenten wladimir', 'youtube millionen', 'wirtschaftsminister robert', 'kanal abonnieren', 'krieg ost', 'poker app', 'notre dame', 'donnerstag viertel', 'boxnacht märz', 'situation schwer', 'glauben wladimir', 'emotionen erleben', 'botschafter andrej', 'ukrainisch präsident', 'kiew krieg', 'abgeben freuen', 'tiede peter', 'menschen mario', 'koch institut', 'integrität ukraine', 'lieb zuschauerinnen', 'bürgermeister vitali', 'netz entscheiden', 'reif live', 'zahlreiche leser', 'amerikaner video', 'greifen ukraine', 'land krieg', 'außenministerin annalena', 'ukraine journalisten', 'kaufen medien', 'wissenschaft politik', 'thiede russland', 'geschichte bundeswehr', 'video reichen', 'willkommen wetter', 'stadt mario', 'passieren situation', 'deutschland putins', 'hellen live', 'bewertung abgeben', 'abzug russisch', 'ronzheimer ort', 'schwer beschreiben', 'infos spenden', 'human rights', 'eu kommissionspräsident', 'erfolgreich netz', 'verehren damen', 'wild sonntags', 'live felix', 'ronzheimer zugeschaltet', 'deutschland putin', 'fördern spenden', 'israel willkommen', 'chef jan', 'all infos', 'pohl hafenstadt', 'vize paul', 'medikamente dach', 'weltmeistertitel kampf', 'nebel new', 'governor of', 'stadt milito', 'entscheiden ard', 'kiew peter', 'box highlight', 'unterstützung weiterverbreitung', 'abonnieren positiv', 'regierungschefs polen', 'ronzheimer kiew', 'bundeskanzlerin angela', 'website itunes', 'staaten polen', 'anrichten krieg', 'live zerstören', 'freitag vierteln', 'gerne kanal', 'soundcloud youtube', 'hinbringen zeigen', 'pohl stadt', 'hafenstadt mario', 'klicken button', 'reporter paul', 'tiede moskau', 'schutz nahrung', 'nahrung medikamente', 'kommissionspräsidenten ursula', 'kanzler olaf', 'stunden nächst', 'pohl russische', 'seelen ski', 'itunes soundcloud', 'reporter freunde', 'marine le', 'ronzheimer sprechen', 'freitag viertel', 'kiew entfernen', 'reichen kaufen', 'spenden herz', 'viertel montag', 'hilfe ukraine', 'freuen unterstützung', 'staaten amerika', 'journalisten hause', 'alexander graf', 'korrespondenten herbert', 'app handy', 'russland wladimir', 'hause passieren', 'eu kommission', 'kiew reporter', 'präsident seelen', 'frank walter', 'vitali wladimir', 'walter steinmeier', 'todesfälle hinzu', 'polnisch ukrainisch', 'moskau sinken', 'präsident see', 'viertel köpfe', 'jan schäfer']\n"
     ]
    }
   ],
   "source": [
    "print(monograms_in_bigrams_above_threshold)\n",
    "print(monograms_in_trigrams_above_threshold)\n",
    "print(bigrams_in_trigrams_above_threshold)"
   ]
  },
  {
   "cell_type": "code",
   "execution_count": 248,
   "metadata": {},
   "outputs": [
    {
     "ename": "AttributeError",
     "evalue": "'NoneType' object has no attribute 'append'",
     "output_type": "error",
     "traceback": [
      "\u001b[0;31m---------------------------------------------------------------------------\u001b[0m",
      "\u001b[0;31mAttributeError\u001b[0m                            Traceback (most recent call last)",
      "\u001b[1;32m/Users/hs/GitHub/media_bias_video_journalism/tests/dalonso_tegmark.ipynb Cell 12'\u001b[0m in \u001b[0;36m<cell line: 1>\u001b[0;34m()\u001b[0m\n\u001b[0;32m----> <a href='vscode-notebook-cell:/Users/hs/GitHub/media_bias_video_journalism/tests/dalonso_tegmark.ipynb#ch0000011?line=0'>1</a>\u001b[0m n_grams_above_threshold \u001b[39m=\u001b[39m monograms_in_bigrams_above_threshold\u001b[39m.\u001b[39;49mappend(monograms_in_trigrams_above_threshold)\u001b[39m.\u001b[39;49mappend(bigrams_in_trigrams_above_threshold)\n\u001b[1;32m      <a href='vscode-notebook-cell:/Users/hs/GitHub/media_bias_video_journalism/tests/dalonso_tegmark.ipynb#ch0000011?line=1'>2</a>\u001b[0m n_grams_above_threshold\n",
      "\u001b[0;31mAttributeError\u001b[0m: 'NoneType' object has no attribute 'append'"
     ]
    }
   ],
   "source": [
    "n_grams_above_threshold = monograms_in_bigrams_above_threshold.append(monograms_in_trigrams_above_threshold).append(bigrams_in_trigrams_above_threshold)\n",
    "n_grams_above_threshold"
   ]
  },
  {
   "cell_type": "code",
   "execution_count": 269,
   "metadata": {},
   "outputs": [],
   "source": [
    "n_grams_above_threshold = list(set(np.append(np.append(monograms_in_bigrams_above_threshold, monograms_in_trigrams_above_threshold), bigrams_in_trigrams_above_threshold)))"
   ]
  },
  {
   "cell_type": "code",
   "execution_count": 282,
   "metadata": {},
   "outputs": [],
   "source": [
    "N.drop(N[N['phrase'].isin(n_grams_above_threshold)].index, inplace = True)"
   ]
  },
  {
   "cell_type": "code",
   "execution_count": 283,
   "metadata": {},
   "outputs": [
    {
     "data": {
      "text/plain": [
       "0"
      ]
     },
     "execution_count": 283,
     "metadata": {},
     "output_type": "execute_result"
    }
   ],
   "source": [
    "N['phrase'].isin(n_grams_above_threshold).sum()"
   ]
  },
  {
   "cell_type": "code",
   "execution_count": 286,
   "metadata": {},
   "outputs": [
    {
     "data": {
      "text/html": [
       "<div>\n",
       "<style scoped>\n",
       "    .dataframe tbody tr th:only-of-type {\n",
       "        vertical-align: middle;\n",
       "    }\n",
       "\n",
       "    .dataframe tbody tr th {\n",
       "        vertical-align: top;\n",
       "    }\n",
       "\n",
       "    .dataframe thead th {\n",
       "        text-align: right;\n",
       "    }\n",
       "</style>\n",
       "<table border=\"1\" class=\"dataframe\">\n",
       "  <thead>\n",
       "    <tr style=\"text-align: right;\">\n",
       "      <th></th>\n",
       "      <th>NachDenkSeiten</th>\n",
       "      <th>DER SPIEGEL</th>\n",
       "      <th>ZDFheute Nachrichten</th>\n",
       "      <th>BILD</th>\n",
       "      <th>Junge Freiheit</th>\n",
       "    </tr>\n",
       "    <tr>\n",
       "      <th>phrase</th>\n",
       "      <th></th>\n",
       "      <th></th>\n",
       "      <th></th>\n",
       "      <th></th>\n",
       "      <th></th>\n",
       "    </tr>\n",
       "  </thead>\n",
       "  <tbody>\n",
       "    <tr>\n",
       "      <th>aartal</th>\n",
       "      <td>0</td>\n",
       "      <td>0</td>\n",
       "      <td>11</td>\n",
       "      <td>46</td>\n",
       "      <td>0</td>\n",
       "    </tr>\n",
       "    <tr>\n",
       "      <th>abbauen</th>\n",
       "      <td>4</td>\n",
       "      <td>3</td>\n",
       "      <td>17</td>\n",
       "      <td>40</td>\n",
       "      <td>0</td>\n",
       "    </tr>\n",
       "    <tr>\n",
       "      <th>abbrechen</th>\n",
       "      <td>6</td>\n",
       "      <td>1</td>\n",
       "      <td>21</td>\n",
       "      <td>67</td>\n",
       "      <td>0</td>\n",
       "    </tr>\n",
       "    <tr>\n",
       "      <th>abbringen</th>\n",
       "      <td>1</td>\n",
       "      <td>2</td>\n",
       "      <td>11</td>\n",
       "      <td>16</td>\n",
       "      <td>0</td>\n",
       "    </tr>\n",
       "    <tr>\n",
       "      <th>abdrehen</th>\n",
       "      <td>1</td>\n",
       "      <td>1</td>\n",
       "      <td>5</td>\n",
       "      <td>56</td>\n",
       "      <td>1</td>\n",
       "    </tr>\n",
       "    <tr>\n",
       "      <th>...</th>\n",
       "      <td>...</td>\n",
       "      <td>...</td>\n",
       "      <td>...</td>\n",
       "      <td>...</td>\n",
       "      <td>...</td>\n",
       "    </tr>\n",
       "    <tr>\n",
       "      <th>überzeugung</th>\n",
       "      <td>3</td>\n",
       "      <td>2</td>\n",
       "      <td>44</td>\n",
       "      <td>64</td>\n",
       "      <td>0</td>\n",
       "    </tr>\n",
       "    <tr>\n",
       "      <th>überziehen</th>\n",
       "      <td>3</td>\n",
       "      <td>1</td>\n",
       "      <td>2</td>\n",
       "      <td>25</td>\n",
       "      <td>0</td>\n",
       "    </tr>\n",
       "    <tr>\n",
       "      <th>üblich</th>\n",
       "      <td>15</td>\n",
       "      <td>3</td>\n",
       "      <td>14</td>\n",
       "      <td>85</td>\n",
       "      <td>1</td>\n",
       "    </tr>\n",
       "    <tr>\n",
       "      <th>übung</th>\n",
       "      <td>4</td>\n",
       "      <td>11</td>\n",
       "      <td>29</td>\n",
       "      <td>45</td>\n",
       "      <td>0</td>\n",
       "    </tr>\n",
       "    <tr>\n",
       "      <th>übungen</th>\n",
       "      <td>1</td>\n",
       "      <td>1</td>\n",
       "      <td>20</td>\n",
       "      <td>19</td>\n",
       "      <td>0</td>\n",
       "    </tr>\n",
       "  </tbody>\n",
       "</table>\n",
       "<p>9701 rows × 5 columns</p>\n",
       "</div>"
      ],
      "text/plain": [
       "             NachDenkSeiten  DER SPIEGEL  ZDFheute Nachrichten  BILD  \\\n",
       "phrase                                                                 \n",
       "aartal                    0            0                    11    46   \n",
       "abbauen                   4            3                    17    40   \n",
       "abbrechen                 6            1                    21    67   \n",
       "abbringen                 1            2                    11    16   \n",
       "abdrehen                  1            1                     5    56   \n",
       "...                     ...          ...                   ...   ...   \n",
       "überzeugung               3            2                    44    64   \n",
       "überziehen                3            1                     2    25   \n",
       "üblich                   15            3                    14    85   \n",
       "übung                     4           11                    29    45   \n",
       "übungen                   1            1                    20    19   \n",
       "\n",
       "             Junge Freiheit  \n",
       "phrase                       \n",
       "aartal                    0  \n",
       "abbauen                   0  \n",
       "abbrechen                 0  \n",
       "abbringen                 0  \n",
       "abdrehen                  1  \n",
       "...                     ...  \n",
       "überzeugung               0  \n",
       "überziehen                0  \n",
       "üblich                    1  \n",
       "übung                     0  \n",
       "übungen                   0  \n",
       "\n",
       "[9701 rows x 5 columns]"
      ]
     },
     "execution_count": 286,
     "metadata": {},
     "output_type": "execute_result"
    }
   ],
   "source": [
    "N.set_index('phrase').drop(columns=['n_gram', 'count'])"
   ]
  }
 ],
 "metadata": {
  "interpreter": {
   "hash": "72a455e608f17fa766b2cd98175d031ccf19aaf9f63c199be6fd112f594438bb"
  },
  "kernelspec": {
   "display_name": "Python 3.9.7 ('venv': venv)",
   "language": "python",
   "name": "python3"
  },
  "language_info": {
   "codemirror_mode": {
    "name": "ipython",
    "version": 3
   },
   "file_extension": ".py",
   "mimetype": "text/x-python",
   "name": "python",
   "nbconvert_exporter": "python",
   "pygments_lexer": "ipython3",
   "version": "3.8.9"
  },
  "orig_nbformat": 4
 },
 "nbformat": 4,
 "nbformat_minor": 2
}
