{
 "cells": [
  {
   "cell_type": "code",
   "execution_count": 1,
   "metadata": {},
   "outputs": [],
   "source": [
    "import pandas as pd\n",
    "import numpy as np\n",
    "import spacy\n",
    "import glob\n",
    "from sklearn.utils import shuffle\n",
    "from scipy.optimize import minimize"
   ]
  },
  {
   "cell_type": "code",
   "execution_count": 57,
   "metadata": {},
   "outputs": [],
   "source": [
    "from sklearn.feature_extraction.text import CountVectorizer\n",
    "sample_complete = pd.read_csv('data\\\\labeled300.csv', index_col=0)\n",
    "sample_complete['transcript'] = sample_complete['transcript'] + ' '\n",
    "sample = sample_complete.drop(columns=['id'])\n",
    "sample = sample.drop(columns=sample_complete.loc[:, '0':'24'].columns)\n",
    "sample = sample.groupby(['medium', 'dominant topic']).sum()\n",
    "#sample = sample.loc[['NachDenkSeiten', 'Spiegel', 'ZDFheute', 'BILD', 'Junge Freiheit']]\n",
    "\n",
    "\n",
    "TOPIC = 'Parteienpolitik'\n",
    "MEDIA = ['NachDenkSeiten', 'Spiegel', 'ZDFheute', 'BILD', 'Junge Freiheit']\n",
    "sample_grouped = sample\n",
    "sample = pd.DataFrame(index=MEDIA, columns=['transcript'])\n",
    "for medium in MEDIA:\n",
    "    sample.loc[medium] = sample_grouped.loc[medium].loc[TOPIC]['transcript']\n",
    "\n",
    "\n",
    "cv = CountVectorizer(ngram_range=(1,1))\n",
    "N_matrix = cv.fit_transform(sample['transcript'].values)\n",
    "N_df = pd.DataFrame(data=N_matrix.toarray().transpose(),\n",
    "                    columns=sample.index,\n",
    "                    index=cv.get_feature_names_out())"
   ]
  },
  {
   "cell_type": "code",
   "execution_count": 80,
   "metadata": {},
   "outputs": [],
   "source": [
    "from scipy.stats import poisson\n",
    "from sklearn.decomposition import TruncatedSVD\n",
    "\n",
    "def convert_x_to_uvw(x):\n",
    "    u = np.reshape(x[:u_guess.size], u_shape)\n",
    "    v = np.reshape(x[u_guess.size:u_guess.size+v_guess.size], v_shape)\n",
    "    w = np.diag(x[u_guess.size+v_guess.size:])\n",
    "    return u, v, w\n",
    "\n",
    "def convert_uvw_to_x(u, v, w):\n",
    "    u = u[:,:r].flatten()\n",
    "    w = [w[i, i] for i in range(r)]\n",
    "    v = v[:r, :].flatten()\n",
    "    return np.append(np.append(u, v), w)\n",
    "\n",
    "def objective(x):\n",
    "    global N_df\n",
    "    #u, v, w = convert_x_to_uvw(x)\n",
    "    #mu = u.dot(w).dot(v)\n",
    "    x = x.reshape(20, r)\n",
    "    svd.fit_transform(N_df)\n",
    "    mu = svd.inverse_transform(x)\n",
    "    P_matrix = poisson.pmf(k=N_df.values, mu=mu)\n",
    "    P_matrix[P_matrix == 0] = 1e-12\n",
    "    loss_function = -1.0* np.log(np.product(P_matrix, axis=None))\n",
    "    return loss_function\n",
    "\n",
    "def constraint_1(x):\n",
    "    u, v, w = convert_x_to_uvw(x)\n",
    "    v = np.zeros(v.shape)\n",
    "    w = np.zeros(w.shape)\n",
    "    u_unitary = u.dot(u.transpose())# - np.diag(np.ones(u_shape[0]))\n",
    "    if np.allclose(u_unitary, np.diag(np.ones(u_shape[0]))):\n",
    "        return 0\n",
    "    else:\n",
    "        return 1\n",
    "    #return np.sum(u, axis=0) #convert_uvw_to_x(u, v, w) \n",
    "\n",
    "def constraint_2(x):\n",
    "    u, v, w = convert_x_to_uvw(x)\n",
    "    u = np.zeros(u.shape)\n",
    "    w = np.zeros(w.shape)\n",
    "    v_unitary = v.dot(v.transpose())# - np.diag(np.ones(v_shape[0]))\n",
    "    if np.allclose(v_unitary, np.diag(np.ones(v_shape[0]))):\n",
    "        return 0\n",
    "    else:\n",
    "        return 1\n",
    "    #return np.sum(v, axis=0) #convert_uvw_to_x(u, v, w)\n",
    "\n",
    "\n",
    "r = 2\n",
    "N_df = N_df.iloc[:20]\n",
    "\n",
    "svd = TruncatedSVD(n_components=r)\n",
    "\n",
    "u_shape = (len(N_df.index), r)\n",
    "v_shape = (r, len(N_df.columns))\n",
    "w_shape = (r)\n",
    "\n",
    "u_guess = np.ones(u_shape[0]*u_shape[1])\n",
    "v_guess = np.ones(v_shape[0]*v_shape[1])\n",
    "w_guess = np.ones(w_shape)\n",
    "\n",
    "#x0 = np.append(np.append(u_guess, v_guess), w_guess)\n",
    "x0 = np.ones(20*r)\n",
    "#bounds = [(0, None) if i>=u_shape[0]*u_shape[1]+v_shape[0]+v_shape[1] else (None, None) for i in range(x0.size)]\n",
    "bounds = [(0, None) for i in x0]\n",
    "con1 = {'type':'eq', 'fun':constraint_1}\n",
    "con2 = {'type':'eq', 'fun':constraint_2}\n",
    "cons = [con1, con2]\n",
    "\n",
    "sol = minimize(fun=objective, x0=x0, bounds=bounds)#, constraints=cons)\n",
    "#u, v, w = convert_x_to_uvw(sol.x)\n",
    "#lambda_matrix = u.dot(w.dot(v))\n"
   ]
  },
  {
   "cell_type": "code",
   "execution_count": 94,
   "metadata": {},
   "outputs": [
    {
     "data": {
      "image/png": "[encoded data removed]",
      "text/plain": [
       "<Figure size 432x288 with 1 Axes>"
      ]
     },
     "metadata": {
      "needs_background": "light"
     },
     "output_type": "display_data"
    },
    {
     "data": {
      "text/plain": [
       "array([[0.75537578, 1.26909284],\n",
       "       [1.09870076, 0.61254136],\n",
       "       [1.65399599, 0.71754359],\n",
       "       [0.75537763, 1.26909209],\n",
       "       [1.06304938, 0.64807357],\n",
       "       [0.7553794 , 1.2690878 ],\n",
       "       [0.67171897, 1.06438403],\n",
       "       [0.67171626, 1.06438442],\n",
       "       [0.59858439, 0.8381399 ],\n",
       "       [1.36191934, 0.57902619],\n",
       "       [1.09870041, 0.61254206],\n",
       "       [0.67171608, 1.06438788],\n",
       "       [4.55263422, 1.59767132],\n",
       "       [1.06304868, 0.64807379],\n",
       "       [1.46242139, 1.57145703],\n",
       "       [1.09870198, 0.6125409 ],\n",
       "       [0.67171966, 1.06438584],\n",
       "       [0.67171769, 1.06438772],\n",
       "       [0.75538266, 1.26909138],\n",
       "       [0.67171775, 1.06438387]])"
      ]
     },
     "execution_count": 94,
     "metadata": {},
     "output_type": "execute_result"
    }
   ],
   "source": [
    "import matplotlib.pyplot as plt\n",
    "plt.scatter(sol.x.reshape(20, r)[0], sol.x.reshape(20, r)[1])\n",
    "plt.show()\n",
    "sol.x.reshape(20, r)"
   ]
  },
  {
   "cell_type": "code",
   "execution_count": 110,
   "metadata": {},
   "outputs": [
    {
     "data": {
      "text/plain": [
       "<matplotlib.collections.PathCollection at 0x1e62c9a9760>"
      ]
     },
     "execution_count": 110,
     "metadata": {},
     "output_type": "execute_result"
    },
    {
     "data": {
      "image/png": "[encoded data removed]",
      "text/plain": [
       "<Figure size 432x288 with 1 Axes>"
      ]
     },
     "metadata": {
      "needs_background": "light"
     },
     "output_type": "display_data"
    }
   ],
   "source": [
    "temp = svd.fit_transform(N_df.values.transpose())\n",
    "plt.scatter(temp.transpose()[0], temp.transpose()[1])\n",
    "\n",
    "svd.fit_transform(N_df)\n",
    "plt.scatter(svd.components_[0], svd.components_[1])"
   ]
  }
 ],
 "metadata": {
  "interpreter": {
   "hash": "72a455e608f17fa766b2cd98175d031ccf19aaf9f63c199be6fd112f594438bb"
  },
  "kernelspec": {
   "display_name": "Python 3.9.7 ('venv': venv)",
   "language": "python",
   "name": "python3"
  },
  "language_info": {
   "codemirror_mode": {
    "name": "ipython",
    "version": 3
   },
   "file_extension": ".py",
   "mimetype": "text/x-python",
   "name": "python",
   "nbconvert_exporter": "python",
   "pygments_lexer": "ipython3",
   "version": "3.9.7"
  },
  "orig_nbformat": 4
 },
 "nbformat": 4,
 "nbformat_minor": 2
}
