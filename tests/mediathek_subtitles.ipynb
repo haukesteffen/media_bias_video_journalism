{
 "cells": [
  {
   "cell_type": "code",
   "execution_count": 252,
   "metadata": {},
   "outputs": [],
   "source": [
    "import pysrt\n",
    "import re\n",
    "import os\n",
    "import glob\n",
    "import pandas as pd\n",
    "\n",
    "clean_pattern = re.compile(r\"<font color=\\\"#[0123456789ABCDEF]{6}\\\">|</font>\", re.DOTALL)\n",
    "date_pattern = re.compile(r\"Datum:\\s+([0123][0123456789].[01][0123456789].20[012][0123456789])(?=\\n)\", re.DOTALL)\n",
    "description_pattern = re.compile(r\"(?:.m3u8\\n\\n|.mp4\\n\\n)(.*)(?=\\n\\n|\\n)\", re.DOTALL)\n",
    "title_pattern = re.compile(r\"Titel:\\s+(.*)(?=\\n\\nDatum)\", re.DOTALL)\n",
    "duration_pattern = re.compile(r\"Dauer:\\s+(.*)(?=\\n\\nTitel|\\n\\n\\nWebsite|\\nGröße)\", re.DOTALL)\n",
    "channel_pattern = re.compile(r\"Sender:\\s+([AZ][RD][DF](?=\\n))\", re.DOTALL)"
   ]
  },
  {
   "cell_type": "code",
   "execution_count": 253,
   "metadata": {},
   "outputs": [],
   "source": [
    "mediathek_dict = {\n",
    "    'medium':[],\n",
    "    'id':[],\n",
    "    'title':[],\n",
    "    'description':[],\n",
    "    'duration':[],\n",
    "    'date':[],\n",
    "    'category':[],\n",
    "}\n",
    "folder_list = os.listdir('../assets/mediathek_subtitles/')\n",
    "if '.DS_Store' in folder_list:\n",
    "    folder_list.remove('.DS_Store')\n",
    "for folder in folder_list:\n",
    "    for txtfile in glob.glob(\"../assets/mediathek_subtitles/\"+folder+\"/*.txt\"):\n",
    "        with open(txtfile) as f:\n",
    "            txt = f.read()\n",
    "        mediathek_dict['medium'].append(re.findall(channel_pattern, txt)[0])\n",
    "        mediathek_dict['id'].append(None)\n",
    "        mediathek_dict['title'].append(re.findall(title_pattern, txt)[0])\n",
    "        mediathek_dict['description'].append(re.findall(description_pattern, txt)[0].replace(\"\\n\", \" \"))\n",
    "        mediathek_dict['duration'].append(re.findall(duration_pattern, txt)[0])\n",
    "        mediathek_dict['date'].append(re.findall(date_pattern, txt)[0])\n",
    "        mediathek_dict['category'].append(\"News & Politics\")"
   ]
  },
  {
   "cell_type": "code",
   "execution_count": 254,
   "metadata": {},
   "outputs": [
    {
     "data": {
      "text/html": [
       "<div>\n",
       "<style scoped>\n",
       "    .dataframe tbody tr th:only-of-type {\n",
       "        vertical-align: middle;\n",
       "    }\n",
       "\n",
       "    .dataframe tbody tr th {\n",
       "        vertical-align: top;\n",
       "    }\n",
       "\n",
       "    .dataframe thead th {\n",
       "        text-align: right;\n",
       "    }\n",
       "</style>\n",
       "<table border=\"1\" class=\"dataframe\">\n",
       "  <thead>\n",
       "    <tr style=\"text-align: right;\">\n",
       "      <th></th>\n",
       "      <th>medium</th>\n",
       "      <th>id</th>\n",
       "      <th>title</th>\n",
       "      <th>description</th>\n",
       "      <th>duration</th>\n",
       "      <th>date</th>\n",
       "      <th>category</th>\n",
       "    </tr>\n",
       "  </thead>\n",
       "  <tbody>\n",
       "    <tr>\n",
       "      <th>0</th>\n",
       "      <td>ARD</td>\n",
       "      <td>None</td>\n",
       "      <td>studioM - Corona-Demos: Alles Verschwörung?</td>\n",
       "      <td>Monitor-Chef Georg Restle diskutiert in studio...</td>\n",
       "      <td>00:57:08</td>\n",
       "      <td>27.05.2020</td>\n",
       "      <td>News &amp; Politics</td>\n",
       "    </tr>\n",
       "    <tr>\n",
       "      <th>1</th>\n",
       "      <td>ARD</td>\n",
       "      <td>None</td>\n",
       "      <td>Monitor vom 02.04.2020</td>\n",
       "      <td>Themen: Am Rand der Gesellschaft: Wie die Coro...</td>\n",
       "      <td>00:29:47</td>\n",
       "      <td>02.04.2020</td>\n",
       "      <td>News &amp; Politics</td>\n",
       "    </tr>\n",
       "    <tr>\n",
       "      <th>2</th>\n",
       "      <td>ARD</td>\n",
       "      <td>None</td>\n",
       "      <td>MONITOR vom 08.08.2019</td>\n",
       "      <td>Aufruhr im Freibad: Vom Jugendstreich zum Terr...</td>\n",
       "      <td>00:29:51</td>\n",
       "      <td>08.08.2019</td>\n",
       "      <td>News &amp; Politics</td>\n",
       "    </tr>\n",
       "    <tr>\n",
       "      <th>3</th>\n",
       "      <td>ARD</td>\n",
       "      <td>None</td>\n",
       "      <td>Monitor vom 22.10.2020</td>\n",
       "      <td>Themen: Corona: Falsche Strategie zur Eindämmu...</td>\n",
       "      <td>00:29:45</td>\n",
       "      <td>22.10.2020</td>\n",
       "      <td>News &amp; Politics</td>\n",
       "    </tr>\n",
       "    <tr>\n",
       "      <th>4</th>\n",
       "      <td>ARD</td>\n",
       "      <td>None</td>\n",
       "      <td>studioM: Grüne Kompromisse - Hauptsache Macht?</td>\n",
       "      <td>Eine radikal andere Politik haben die Grünen i...</td>\n",
       "      <td>00:43:23</td>\n",
       "      <td>02.12.2021</td>\n",
       "      <td>News &amp; Politics</td>\n",
       "    </tr>\n",
       "  </tbody>\n",
       "</table>\n",
       "</div>"
      ],
      "text/plain": [
       "  medium    id                                           title  \\\n",
       "0    ARD  None     studioM - Corona-Demos: Alles Verschwörung?   \n",
       "1    ARD  None                          Monitor vom 02.04.2020   \n",
       "2    ARD  None                          MONITOR vom 08.08.2019   \n",
       "3    ARD  None                          Monitor vom 22.10.2020   \n",
       "4    ARD  None  studioM: Grüne Kompromisse - Hauptsache Macht?   \n",
       "\n",
       "                                         description  duration        date  \\\n",
       "0  Monitor-Chef Georg Restle diskutiert in studio...  00:57:08  27.05.2020   \n",
       "1  Themen: Am Rand der Gesellschaft: Wie die Coro...  00:29:47  02.04.2020   \n",
       "2  Aufruhr im Freibad: Vom Jugendstreich zum Terr...  00:29:51  08.08.2019   \n",
       "3  Themen: Corona: Falsche Strategie zur Eindämmu...  00:29:45  22.10.2020   \n",
       "4  Eine radikal andere Politik haben die Grünen i...  00:43:23  02.12.2021   \n",
       "\n",
       "          category  \n",
       "0  News & Politics  \n",
       "1  News & Politics  \n",
       "2  News & Politics  \n",
       "3  News & Politics  \n",
       "4  News & Politics  "
      ]
     },
     "execution_count": 254,
     "metadata": {},
     "output_type": "execute_result"
    }
   ],
   "source": [
    "df = pd.DataFrame(mediathek_dict)\n",
    "df.head()"
   ]
  },
  {
   "cell_type": "code",
   "execution_count": 235,
   "metadata": {},
   "outputs": [],
   "source": [
    "with open(\"../assets/mediathek_subtitles/Anne Will/Anne_Will-\\\"Impfpflicht_und_Lockdown_für_Ungeimpfte_-_gewinnen_Bund_und_Länder_so_die_Kontrolle_zurück?\\\"-1084680197.txt\") as f:\n",
    "    txt = f.read()\n"
   ]
  },
  {
   "cell_type": "code",
   "execution_count": 236,
   "metadata": {},
   "outputs": [
    {
     "data": {
      "text/plain": [
       "'Sender:      ARD\\nThema:       Anne Will\\n\\nTitel:       \"Impfpflicht und Lockdown für Ungeimpfte - gewinnen Bund und Länder so die Kontrolle zurück?\"\\n\\nDatum:       05.12.2021\\nZeit:        21:45:00\\nDauer:       00:59:29\\nGröße:       350,6 MiB\\n\\nWebsite\\nhttps://www.ardmediathek.de/video/Y3JpZDovL25kci5kZS9lMTUwMGU1ZS03YjA0LTRhNTgtOWRlMC1lODYyY2ZhZTIwNDI\\n\\nURL\\nhttps://mediandr-a.akamaihd.net/progressive/2021/1205/TV-20211205-2306-1000.ln.mp4\\n\\nAnne Will diskutiert mit Markus Söder, Karl Lauterbach,\\nKonstantin Kuhle, Carola Holzner und Cerstin Gammelin.\\n'"
      ]
     },
     "execution_count": 236,
     "metadata": {},
     "output_type": "execute_result"
    }
   ],
   "source": [
    "txt"
   ]
  },
  {
   "cell_type": "code",
   "execution_count": 222,
   "metadata": {},
   "outputs": [
    {
     "data": {
      "text/plain": [
       "[]"
      ]
     },
     "execution_count": 222,
     "metadata": {},
     "output_type": "execute_result"
    }
   ],
   "source": [
    "re.findall(duration_pattern, txt)"
   ]
  },
  {
   "cell_type": "code",
   "execution_count": null,
   "metadata": {},
   "outputs": [],
   "source": [
    "subtitle_dict = {}\n",
    "\n",
    "\n",
    "    for file in os.listdir('../assets/mediathek_subtitles/'+folder):"
   ]
  },
  {
   "cell_type": "code",
   "execution_count": 257,
   "metadata": {},
   "outputs": [],
   "source": [
    "subs = pysrt.open('../assets/mediathek_subtitles/Anne Will/Anne_Will-\\\"Impfpflicht_und_Lockdown_für_Ungeimpfte_-_gewinnen_Bund_und_Länder_so_die_Kontrolle_zurück?\\\"-1084680197.srt')"
   ]
  },
  {
   "cell_type": "code",
   "execution_count": 271,
   "metadata": {},
   "outputs": [
    {
     "name": "stdout",
     "output_type": "stream",
     "text": [
      "Minute: 1 - Text: Diese Sendung wurde vom NDR live untertitelt (05.12.2021) Am vergangenen Sonntag wollten wir hier herausbekommen, wann das nächste Bund-Länder-Treffen stattfinden würde. Donnerstag war es da. Beschlossen ist für Ungeimpfte ein de-facto-Lockdown. Fast überall gilt 2G. Bis Jahresende soll es noch 30 Millionen Impfungen geben. Eine allgemeine Impf-Pflicht soll doch eingeführt werden. Gewinnen Bund und Länder die Kontrolle zurück? Bei uns sind: Markus Söder von der CSU, Ministerpräsident von Bayern Karl Lauterbach von der SPD, Bundestagsabgeordneter Konstantin Kuhle von der FDP, Mitglied im Bundesvorstand Carola Holzner, Fachärztin für Intensivmedizin \n",
      "Minute: 2 - Text: Cerstin Gammelin von der \"Süddeutschen Zeitung\". Herzlich willkommen. Frau Holzner, Sie sind leitende Oberärztin. In Duisburg. Können Sie allen Patienten ein Intensivbett anbieten? Da sind wir schon mittendrin. Wir haben ständig Betrieb. Ich schildere einen Fall aus dem letzten Dienst. Wir haben 90 Minuten telefoniert für ein Intensivbett. Alle sind voll. Das betrifft nicht nur Covid-Patienten. Die Notfälle gehen weiter: Schlaganfälle, Herzinfarkte. \n",
      "Minute: 3 - Text: Was haben Sie gemacht? Wir telefonieren. Und die Zeit läuft. Es gibt ein zentrales System. Wir machen das über die Feuerwehr-Leitstelle. Wir telefonieren im näheren Umkreis, im weiteren Umkreis. Dann landet man in Duisburg, Düsseldorf oder Wuppertal. Sie müssen die Patienten dorthin transportieren. Wertvolle Zeit geht verloren. Auf Ihrer Intensivstation, wer liegt da? Wir haben auch Patienten ohne Covid. Wir haben nicht die Zustände wie im Süden oder Osten Deutschlands. \n",
      "Minute: 4 - Text: Mir als Ärztin ist es egal, welche Krankheit jemand hat. Ich muss ein Bett finden. Sie haben darauf gehofft, dass Bund und Ländermaßnahmen verabreden. Damit die Situation auf den Intensivstationen sich entspannt. Ich bin prinzipiell zufrieden, wenn Maßnahmen diskutiert und beschlossen werden. Was ich mich aber frage, wenn ich auf die Kontaktbeschränkungen eingehe: Wie will man kontrollieren, wer sich zu Hause hinter geschlossenen Türen trifft? Ich frage mich: \n",
      "Minute: 5 - Text: Wie wollen Sie das machen? An der Haustür klingeln? Wer soll das machen? Ich frage mich, wie das umgesetzt werden soll. Was hätten Sie gut gefunden? Ich bin nicht dafür, eine Impfpflicht zu machen. Ich glaube, dass ich neun von zehn Leuten überzeugen konnte. Aber wir müssen darüber reden. Wir nehmen die Leute nicht mit. Wir erreichen sie nicht. Wir können nur mit Maßnahmen umgehen, die wir auch kontrollieren können. Vielleicht ist ein harter Lockdown besser zu kontrollieren. \n",
      "Minute: 6 - Text: Das müsste Herr Söder erklären können. Das haben die die Länder mit den Behörden umzusetzen. Oder kann man an der Tür klingeln, wenn laute Musik läuft? Die Beschlüsse waren notwendig. In Bayern haben wir eher gehandelt. Es zeigen sich vorsichtig erste Wirkungen. Wir haben eine Reduktion der Inzidenz. Wir haben 3000 Neuinfektionen täglich weniger. Wir haben außer der harten Notbremse in den Regionen ... Da hat sich die Inzidenz reduziert. Das spricht das an, was gesagt wurde. Wir haben Bars, Diskotheken und Clubs generell geschlossen. \n",
      "Minute: 7 - Text: Und die Sperrstunde ist um 22 Uhr. Das ist eine Reduktion an Kontakten. Wir haben die Weihnachtsmärkte abgesagt. Es gibt Geisterspiele beim Fußball. Bei der umfassenden Kontaktreduktion durch Mobilität haben wir einen Schritt gemacht. Und es gab viele Booster-Impfungen. Das wirkt. Das antwortet nicht auf die Frage von Frau Holzner. Die Kontaktbeschränkungen sind das Schwerste. Da stimme ich zu. Wir machen keine Hausbesuche. Die Kontrollen zu erhöhen, ist wichtig. 3G wurde angesagt. Viele haben sich nicht daran gehalten. \n",
      "Minute: 8 - Text: Ein Wirt sagte: Das ist gebraut, gezapft, getrunken. Das sind so kleine Dinge. Das Verfassungsgericht hat Ausgangsbeschränkungen als rechtens anerkannt. Aber die Bevölkerung muss mitmachen. Bars und Diskotheken sind die effektivste Maßnahme. Das ist die Ansteckung vermeintlich am höchsten. Der Beschluss ist so: Ein Ungeimpfter kann eine Party mit zehn Geimpften sprengen. Das ist ein Signal. Frau Gammelin: Nehmen die alte und die neue Bundesregierung die Pandemiebekämpfung ernst? Herr Scholz saß da ja in Vertretung der neuen Bundesregierung. \n",
      "Minute: 9 - Text: Es hat zwei Monate gegeben, da hat niemand das ernst genommen. Auch in Bayern nicht. Da wurde die Maskenpflicht in Schulen abgeschafft. Die wurde wieder eingeführt. Bei Olaf Scholz ist aufgefallen: In der alten Regierung hat er die Notbremse mitverhandelt. Mit der Ampel hat er sie abgeschafft. Das war ein Widerspruch. Ich komme gerade aus Thüringen. Die Leute verstehen das nicht mehr. Wie man eine Bundesnotbremse aushandelt und sie wieder abschafft. Da geht sehr viel durcheinander. Und die Kontaktbeschränkungen sind nicht zu kontrollieren. Da brauchen wir uns nichts vormachen. Das steht drin als Beschluss. \n",
      "Minute: 10 - Text: Aber es gibt keine Kontrolle. Wäre Ihnen auch ein harter Lockdown lieber? Nein. Klar nein. Es wurde seit über einem Jahr geworben, dass die Leute sich impfen lassen. Wir haben jetzt 70 Prozent. Wenn es jetzt einen Lockdown für alle gibt, werden sich Geimpfte fragen: Wir machen alles, was gefragt wird, aber müssen in den Lockdown? Eine knifflige Situation. Die Geimpften ärgern sich immer mehr. Sie sind geimpft und kriegen trotzdem Restriktionen. Und auf die Ungeimpften wird geschimpft. Da hat die neue Regierung kein Konzept. \n",
      "Minute: 11 - Text: Wir haben schon kontrollierbare Maßnahmen beschlossen: 3G am Arbeitsplatz. Wir haben 3G im öffentlichen Verkehr. Ich bin oft Bahn gefahren. Ich bin nie kontrolliert worden. Die Kontrollen müssen natürlich stattfinden. Sie führen aber zu etwas: Es werden Kontaktbeschränkungen stattfinden. Weihnachtsfeiern werden abgesagt. Das geschieht, weil die Leute merken, dass die Situation ernst ist. Bestimmte Fragen entziehen sich staatlicher Kontrolle. Menschen, die lange isoliert waren, \n",
      "Minute: 12 - Text: möchten vielleicht wieder andere Menschen treffen. Da müssen wir an das persönliche Verantwortungsbewusstsein bei den Menschen appellieren. Aber es geht auch ums Impfen. Wir haben zwei Jahre gebraucht für mehr Pragmatismus. Im März 2020 hat Angela Merkel gesagt: Das ist die schlimmste Krise seit dem Zweiten Weltkrieg. Und erst jetzt dürfen Zahnärzte und Apotheker impfen! Warum haben wir erst jetzt den Pragmatismus? Herr Lauterbach, können Sie versprechen: Kommen wir ohne Lockdown durch den Winter? Ohne dass das Gesundheitssystem zusammenbricht? \n",
      "Minute: 13 - Text: Ohne die Triage? Wir brauchen keinen Lockdown. Das glaube ich. Das kann ich aber nicht versprechen. Jetzt haben wir Omikron. Auch Geimpfte und Genesene könnten damit angesteckt werden. Es ist halt eine neue Variante. Deshalb dürfen wir nichts versprechen. Das wäre unseriös. Ich lese Studien über Omikron im Stundentakt. Trotzdem kann man nicht sicher sagen. Wenn Omikron nicht käme, es bliebe bei der Delta-Variante ... Was heißt nicht käme? Nicht die bestimmende Variante würde? \n",
      "Minute: 14 - Text: Genau. In zwei Ländern sehen wir derzeit die Daten. In Israel und Großbritannien setzt sich Omikron schneller durch. Das können wir feststellen. In anderen Ländern können wir das nicht gut bewerten. Die Daten sind schlecht. Aber in Großbritannien und Israel sind die Daten fantastisch. Wir können genau erkennen, wie schnell sich Omikron bei den Geimpften verbreitet. Wir müssen so schnell wie möglich das Boostern einsetzen. \n",
      "Minute: 15 - Text: Die Wahrscheinlichkeit ist gering, dass Omikron sich dort durchsetzen kann. Bei den einfachen Geimpften dürfte Omikron sich durchsetzen können. Wir impfen gegen die Zeit. Das ist das Wichtigste. Wir können den Lockdown vermeiden. Ist das die Meinung des Epidemiologen? Des SPD-Politikers oder die des künftigen Gesundheitsministers? Das ist eine wissenschaftliche Antwort gewesen. Die Frage war auch wissenschaftlich. Es geht darum, wie schnell sich Omikron ausdehnt. Da sehen wir eine Verdoppelung. \n",
      "Minute: 16 - Text: Aber den Hintergrund der Frage haben Sie verstanden. Ich komme noch auf den Hintergrund. Ich habe in der Kombination gesprochen als Wissenschaftler und als Abgeordneter. Als Minister kann ich nicht sprechen, weil das nicht feststeht. Die SPD hat eine Reihe von Leuten. Hat Olaf Scholz Sie angerufen in Sachen Gesundheitsminister? Er hat mich in vielerlei Hinsicht angerufen. Aber beim Amt gibt es noch keine Entscheidung. Da bitte ich um Verständnis. Ich bin froh, dass die SPD dieses Ressort hat. Und wir haben gute Leute. Das wird gut besetzt werden. \n",
      "Minute: 17 - Text: Darf ich was sagen? Ich kenne viele Kollegen, die sich sehr freuen würden. Viele wollen Sie als Gesundheitsminister. Sie sind vom Fach. Wir fänden es gut. Niemand könnte es so kompetent ausführen.  Danke. (Gammelin) Hoffentlich guckt Olaf Scholz. Wäre Lauterbach der Beste? Normalerweise mischt man sich da nicht ein. Aber eines kann ich sagen: Wir brauchen keine Minister, der Einarbeitungszeit braucht. Der neue Minister hätte keine zehn Minuten. Herr Lauterbach kann das. Ich würde das begrüßen. Ich hoffe, ich schade ihm jetzt nicht. \n",
      "Minute: 18 - Text: Auch Ihre Sendung in der letzten Woche hat viel bewirkt. Danke. Wir werden immer wieder von der Realität eingeholt. Es kommen neue Mutationen. Irgendetwas kommt immer. Und dann werden Reaktionen erwartet. Lauterbach und ich kommen von unterschiedlichen Polen. Aber wir haben ähnliche Positionen. Sie verlieren manchmal den Kompass. Auch Sie fordern schnell neue Dinge. Manche Maßnahmen wurden noch gar nicht ausreichend ausprobiert. Diesen Eindruck haben viele. Sie wollten die Bundesnotbremse. Das sagten Sie im Vorfeld des Bund-Länder-Treffens. \n",
      "Minute: 19 - Text: Das Verfassungsgericht hat gesagt: Alles ist verfassungsgemäß gewesen. Sie kriegen die Bundesnotbremse nicht. Trotzdem sind Sie ganz zufrieden. War es Ihnen gar nicht so ernst? Oder warum brauchen wir das nicht mehr? Wir sind ja weit gekommen. Die Situation hat sich weiter entwickelt. Vor zehn Tagen gab es noch große Zurückhaltung. Aber es hat sich viel bewegt. Ich sage das ohne Schuldzuweisungen: Wir haben ein Paket beschlossen, dass vieles nach vorne gebracht hat. Beim Fußball hätte ich mir mehr Einheitlichkeit gewünscht. \n",
      "Minute: 20 - Text: Aber das war ein Schritt voraus. Und das Wichtigste: Länder, die stärker betroffen sind, bekommen mehr Möglichkeiten. Uns hat es sehr geholfen. Wir haben den Lockdown gemacht in sehr betroffenen Landkreisen, das waren Landkreisen mit geringer Impfquote. Unsere Maßnahmen helfen. Die Maßnahmen bei der Notbremse machen ja keinen Spaß. Das widerspricht unserem liberalen Grundverständnis. Aber manchmal geht es nicht anders. Wir können damit Kontakte reduzieren. Wir müssen die Überlastung in den Krankenhäusern bekämpfen. \n",
      "Minute: 21 - Text: Ich bedanke mich auch bei anderen Bundesländern. Es wurden zusätzliche Betten reaktiviert. Sie waren einer der Beschwerdeführer, Herr Kuhle. Gegen die Notbremse hatte die FDP hatte geklagt. Sie sind gescheitert vor dem Verfassungsgericht. Sind Sie immer noch nicht überzeugt von diesen Maßnahmen? Lehnen Sie deshalb einen kurzen Lockdown ab? Auch wenn Sie nicht genau wissen, ob die Maßnahmen jetzt den Intensivstation helfen. Die Situation dort müssen wir verbessern. Deshalb sind die Kontaktbeschränkungen ausreichend. \n",
      "Minute: 22 - Text: Wäre es nicht so, müssten wir mehr machen. Wir haben vor dem Verfassungsgericht verloren. Aber es gibt massive Einschränkungen der Grundrechte. Da muss sich gerichtlich gegen die Maßnahmen wehren. In Bayern durfte man nicht alleine auf einer Parkbank sitzen. Die haben geklagt und gewonnen vor dem Verwaltungsgericht in Bayern. Wir haben auch dagegen protestiert. Eine liberale Partei wird immer vors Verfassungsgericht ziehen, wenn wir in eine solche Situation kommen. Niemand kann sich hinter dem Gericht verstecken. Wir als Abgeordnete müssen uns entscheiden: Wollen wir das oder wollen wir das nicht? \n",
      "Minute: 23 - Text: Als neue Koalition wollen wir das nicht. Es besteht die Gefahr von häuslicher Gewalt. Es besteht die Gefahr von psychischen Krankheiten. Der Verödung der Innenstädte. Es besteht die Gefahr von Betriebsschließungen. Das muss man auch abwägen. Deshalb gibt es keinen Lockdown mit der Ampel. Das versprechen Sie? Der Gesundheitsminister hat gesagt: Ich schließe die Impfpflicht aus. Jens Spahn wurde gefragt, ob er sein Wort bricht. Er will sein Wort halten und stimmt gegen die Impfpflicht. Es geht um den Modus: Können Politiker solche Sachen versprechen? Wo vor zwei Wochen niemand über Omikron sprach? Das sollten wir nicht tun. \n",
      "Minute: 24 - Text: Aber wir können alles tun, um einen Lockdown zu verzichten. Können Sie denn die Kontrolle versprechen? Ich kriege viele Nachrichten. Im Osten werden viele gar nicht gefragt nach Zertifikaten. Wie wollen wir denn was kontrollieren? Mit der Situation in den Bahnen bin ich nicht zufrieden. 3G muss kontrolliert werden. Sie sind dafür verantwortlich. Die FDP hat sich hinter dem Verfassungsgericht versteckt. \n",
      "Minute: 25 - Text: Ständig werden Dinge beschlossen, und jemand sagt, das sei verfassungswidrig. Das Gericht hat ja geurteilt. Und Sie haben sich hinter dem Gericht versteckt. Wir müssen nach vorne schauen. Es ist gut, dass das Gericht Klarheit geschaffen hat. Ich würde die Sache einfach abräumen. Sicherheiten kann es nicht gehen. Die Kontrolldefizite müssen wir angehen. Das ist einfach ganz wichtig. Ich finde es vollkommen unakzeptabel, dass Parksünder kontrolliert werden. Das war am Anfang der Pandemie. \n",
      "Minute: 26 - Text: Die Polizei muss jetzt, Ordnungsämter und Polizei, Corona-Maßnahmen kontrollieren. Nicht das Parkticket. In den Krankenhäuser haben wir den Medizinischen Dienst der Krankenkassen. Die Leute können wir alle nutzen. Wir müssen kollektiv alle rausbringen zur Kontrolle und zum Impfen. Wenn wir das machen und auch mit Strafen argumentieren, können wir es schaffen. Wir müssen vor die Welle kommen. Die nächsten vier Wochen sind entscheidend. Frau Gammelin, Sie haben einen sehr guten Kommentar geschrieben in der \"Süddeutschen Zeitung\". Sie schreiben: Als Vizekanzler hat Olaf Scholz die Bundesnotbremse mitverhandelt. \n",
      "Minute: 27 - Text: Er hat stundenlang an den Regeln gefeilt. Das Gericht hat bestätigt, dass er rechtens handelte. Er macht aber nichts draus. Hat Olaf Scholz nicht die Durchsetzungskraft, um den Schwung der Beschlüsse zu nutzen? Wir haben bei Herrn Scholz gesehen, dass er die FDP in die Koalition mit hineinziehen wollte. Deshalb hat er sich distanziert von dem, was er beschlossen hatte. Das merken die Bürger. Erst nachdem das Verfassungsgericht das für rechtens befunden hat, ist es ihm gelungen, Lindner auf den Weg zu bringen: Zu den Maßnahmen, die Herr Söder lobt. \n",
      "Minute: 28 - Text: Die hatten wir am Sonntag schon entwickelt. Das Urteil war noch nicht bekannt. Das ist für die Leute draußen unverständlich. Bevor wir darüber reden ... Lassen Sie sie ausreden. Das ist unverständlich. Jemand erfindet die Maßnahmen und distanziert sich davon. Und jetzt werden sie weitergeführt. Es ist Zeit verloren gegangen. Ich will folgendes Missverständnis weghaben. Olaf Scholz hat gesehen, so entscheidet das Gericht: So war das nicht. Am Sonntag zuvor hatten wir aufgrund von Berechnungen überlegt: Was kann wie stark wirken? Das war die Grundlage der Beschlüsse vom Dienstag. \n",
      "Minute: 29 - Text: Das hatte mit dem Urteil nichts zu tun. Das war vorher entwickelt. Natürlich entsteht der Eindruck, den Sie beschreiben. Dass das Urteil keinen Einfluss hatte ... Der Beschluss der Bund-Länder-Konferenz ... Die Kinder sollten Masken tragen. Dafür brauchen Sie keine Notbremse. Kontaktbeschränkungen für Ungeimpfte. 2G in den Geschäften. Ich hatte für richtig befunden, dass man das unabhängig von der Inzidenz gemacht hätte. Jetzt ist es bei 350. Das waren Ideen vor dem Sonntag. Olaf Scholz war intensiv beteiligt. \n",
      "Minute: 30 - Text: Stimmt das? Ich kann nur sagen, es hat das Urteil gegeben. Wir wollten eine normale Bund-Länder-Konferenz. Das wurde uns verweigert. Dann gab am Dienstag die Einladung. Am Nachmittag hat Olaf Scholz eine Reihe von Maßnahmen andiskutiert. Das fand ich richtig. Das hilft uns weiter. Bei Clubs und Discos haben wir sie in Bayern generell geschlossen. Fußball und Weihnachtsmärkte, da tun wir uns schwer. Es wurde am Nachmittag vorgeschlagen. Mein Eindruck ist: Das Verfassungsgericht war richtig. \n",
      "Minute: 31 - Text: Es ging nicht nur darum, ob eine Maßnahme verfassungsgemäß ist. Der Tenor der Begründung war: Es können Beschlüsse gefasst werden, die in die Grundrechte eingreifen. Herr Kubicki hat ständig gesagt: Impfen ist eine persönliche Sache. Dabei hat es auch mit den anderen zu tun. Der Termin am Dienstag bei der Verkündigung hat geholfen, den ein oder anderen zu überzeugen in der FDP, mitzumachen. Wir hoffen, dass das umgesetzt wird. \n",
      "Minute: 32 - Text: Für die Bahn ist der neue Verkehrsminister zuständig. Das war bei der Anfangswelle der entscheidende Vorteil: Wir haben alle an einem Strang gezogen. Wir hatten ein Ziel: gemeinsam Corona zu bekämpfen. Corona ist es wurscht, wer an der Regierung ist. Corona-Patienten aus Bayern werden von der Bundeswehr in andere Bundesländer ausgeflogen. Die Hospitalisierungsrate bei 100.000 Einwohner: \n",
      "Minute: 33 - Text: Das ist in Deutschland der viertschlechteste Wert. Die Sterberate im Freistaat auf 100.000 Einwohner: Das ist in Deutschland die vierthöchste Rate. Auch bei Neuinfektionen steht Bayern nicht gut da. Es hat die fünfthöchste Inzidenz. Bei der Impfquote liegt das Land unter dem Durchschnitt. Das ist Platz elf von 16 Ländern. Herr Söder, sie haben eben gesagt: Die Inzidenzen sind besser geworden. Aber die Zahl der Schwerstkranken ist gestiegen. Wenn Sie selbstkritisch daran gehen: Welchen Anteil haben Sie? Wir haben auch den Anteil, dass es nach unten geht. \n",
      "Minute: 34 - Text: Wir hatten einen steilen Anstieg. Der hat sich aus zwei Gründen ergeben. Zwei Dinge in der Kombination sind stark gewesen. Die haben uns überrascht. Zum einen das Nicht-Vorankommen mit der Impfquote. Und dann die Impfdurchbrüche. Wir haben traditionell niedrige Impfquoten - auch bei Masern und Windpocken. Das gilt auch für Baden-Württemberg, Sachsen und Thüringen. Das hat nicht nur mit Querdenkern zu tun. Das hat zu tun mit traditioneller Impf-Skepsis. Das hat auch mit Esoterik zu tun. Und die Hälfte der Heilpraktiker sind in Bayern. \n",
      "Minute: 35 - Text: Wir sind hart in die Eisen gestiegen. Wir haben ein umfangreiches Paket beschlossen. Das zeigt auch Wirkung. Das vergangene Mal haben Sie das auch erklärt. Es ist interessant, dass im Süden die Impfverweigerer sind. Sie kennen die Bayern gut. Man müsste Wege finden, wie man an sie rankommt. Bremen ist das leuchtende Vorbild. Sie haben 67,2 Prozent. Bremen hat 80,4 Prozent. Das ist Wahnsinn. Die haben Briefe geschrieben: \"Ihr müsst zum Impfen.\" \n",
      "Minute: 36 - Text: Die sind mit Bussen zum Weserstadion gefahren. Pragmatische Sachen, wie Herr Kuhle sie meinte. Man darf nicht vergessen: Bremen hat 500.000 Einwohner. Bayern hat 13 Millionen. Mit Winfried Kretschmann habe ich das oft überlegt. Wir sind in der gleichen Situation. Es ist schwer verständlich, warum sich manche Leute nicht impfen lassen. Die Landräte rennen den Leuten hinterher. Jetzt klappt das Boostern sehr gut - aber nicht so gut wie Erst- und Zweitimpfungen. Winfried Kretschmann und ich glauben: \n",
      "Minute: 37 - Text: Die Impf-Pflicht ist die einzige Chance, aus dieser Endlosschleife herauszukommen. So schwer es fällt ... Schauen wir uns das an. Die Impfpflicht haben alle abgelehnt. Der Gesundheitsminister hat sein Wort gegeben. Es wird in dieser Pandemie keine Impfpflicht geben. Keine Impfpflicht. Auch kein Impfdruck. Wir wollen keine Impfpflicht einführen. Karl Lauterbach twitterte im März: \n",
      "Minute: 38 - Text: Darf man in der Krise die Dinge ausschließen? Wenn die Situation es erfordert, muss man die Position ändern. Man bleibt nicht stur dabei. Wir haben jetzt bald die Omikron-Variante. Mit den Varianten und der geringen Impfbereitschaft schaffen wir es nicht ohne Impfpflicht. Sie wollen erst die Impf-Pflicht, die einrichtungsbezogen ist. Selbst das würde langfristig nicht helfen. \n",
      "Minute: 39 - Text: Auch die Bürger in Bremen verlieren nach einiger Zeit den Impfschutz. Was man bedenken muss, sind drei Parameter. Wie ansteckend ist das Virus? Wie lange wirken die Impfstoffe? Wie hoch ist die Impfquote? Wir haben jetzt ein hochansteckendes Virus. Die Impfstoffe verlieren einen Teil des Schutzes: Nach vier Monaten. Wir müssen von sechs Monaten nach vier Monaten vorrücken. So lese ich die Studien. \n",
      "Minute: 40 - Text: Ohne Impf-Pflicht kommen wir immer wieder in die Welle. Die Bereitschaft wird zurückgehen, das mitzumachen. Ich würde das gerne zu Ende bringen. Ohne Impf-Pflicht ist das nicht möglich. Das sah im März anders aus. Erwischen wir dann jeden? Es kommt auf die Umsetzung an. Jemand, der nicht geimpft ist, muss dann Strafe bezahlen. Bei einer Impf-Pflicht muss man mitmachen. Da darf keiner sagen: Ich mach nicht mit. Es muss dann Konventionalstrafen geben. \n",
      "Minute: 41 - Text: Es wird niemand zum Impfen vorgeführt. Aber ohne Pflicht wird es nicht gehen. Wir sind in einem Hamsterrad. Wir kommen sonst nicht raus. Es ist der Fehler gewesen, die Impf-Pflicht vorher kategorisch auszuschließen. Darauf haben sich die Leute eingestellt. Da haben dann vielleicht viele gedacht: So wichtig kann es nicht sein. Bei den Masern ist es so: Die Impfung muss ich nachweisen. \n",
      "Minute: 42 - Text: Sonst könnte ich nicht arbeiten. Die Frage ist ja: Gewinnen wir das Vertrauen zurück? Wenn ich mich hinstelle und sage: Es gibt keine Impf-Pflicht. Und wenn ich nicht sage: E läuft nicht gut. Dann fühlt der Bürger sich irgendwann nicht ernst genommen. Er weiß nicht, was er glauben soll. Ich bin bei Herrn Lauterbach. \n",
      "Minute: 43 - Text: Wir werden dich um die Impf-Pflicht rumkommen. Das Problem ist hausgemacht. Ich kann auch nicht sagen, ob ich dafür sein werde. Warum?  Es gibt kein Konzept. Herr Lindner ist offen für eine Diskussion. Wir werden aber mitmachen. Aber Sie wollen sich erst mal anschauen, wie der Gesetzesentwurf aussieht. In den nächsten Tagen wird der Bundestag eine einrichtungsbezogene Impf-Pflicht beschließen. \n",
      "Minute: 44 - Text: Das wird kommen. Ich hätte gerne den Praxistest. Bestimmte Einrichtungen müssen sich impfen lassen. Aber Pflegekräfte sind knapp. Die werden doch dort kündigen, wo geimpft wird. Das muss nicht sein. Aber von diesen Leuten geht eine Gefahr aus. Sie arbeiten mit vulnerablen Gruppen. Die Impf-Pflicht ist kein Selbstzweck. Ich möchte wissen, ob ich den Impfstoff aussuchen kann. \n",
      "Minute: 45 - Text: Wie wird das gemacht? Portugal hat eine höhere Impfquote als wir. Wir können uns also steigern. Und das ist der Zweck für die Impf-Pflicht: Die Steigerung der Impfquote. Wir müssen mehr Leute zum Impfen kriegen. Ich mach mal den Spielverderber. Immer wieder wird diskutiert. Die Leute stehen jetzt in den Notaufnahmen. Sie kriegen jetzt kein Intensivbett. Die Krankenhäuser sind voll. \n",
      "Minute: 46 - Text: Mich hat gerade ein Patient angefleht: Impfen Sie mich jetzt. Er hatte es verschludert. Wir haben keine Zeit mehr für Briefe und Mails. Ich stehe vor den Patienten und muss Antworten finden. Wie lange wollen wir noch debattieren? Es wird nicht lange debattiert. Nächste Woche kommt die Impf-Pflicht für Einrichtung. Ich halte diese konkrete Frage für sehr berechtigt. Wie schnell geht es? Es wird extrem schnell gehen. Es wird so schnell gehen, wie wir ein Gesetz machen können. Ich habe etwas vom März gehört. \n",
      "Minute: 47 - Text: Die allgemeine Impf-Pflicht kann im nächsten Jahr beginnen. Die einrichtungsbezogene Impf-Pflicht muss schneller kommen. Das werden wir in dieser Woche machen. Die Impf-Pflicht ist nicht die Lösung für Intensivstationen. Die Beschlüsse vom Donnerstag müssen kontrolliert werden. Und zwar jetzt ... Die allgemeine Impf-Pflicht wird wirken, weil jetzt klar ist, dass sie demnächst kommt. Viele denken jetzt noch, sie kommen am Impfen vorbei. Aber das wird nicht klappen. \n",
      "Minute: 48 - Text: Es gab den Fackelaufzug in Sachsen. Auch Sie sind gefährdet. Die Aggressivität nimmt zu. Es gab Übergriffe auf Journalisten. Der Vorsitzende der Innenministerkonferenz warnt vor einer Radikalisierung bei einer Impf-Pflicht. Könnte eine Impf-Pflicht die Aggressivität verstärken? Muss man das in Kauf nehmen? \n",
      "Minute: 49 - Text: Es werden sich viele Menschen impfen lassen. Der Staat darf sich nicht erpressen lassen. Das ist die andere Seite. Wenn der Bundestag sagt: Wir brauchen die Impf-Pflicht. Dann muss der Staat das durchsetzen. Er kann dann keine Rücksicht auf Querdenker nehmen. Wir müssen die Bürger schützen. Aber es ist indiskutabel, wenn wir Abstriche an der Gesetzeskompetenz machen. Und das nur aufgrund der Straße ... Sie haben eine Impf-Pflicht für Kinder ins Gespräch gebracht. \n",
      "Minute: 50 - Text: Warum kommen Sie mit dem nächsten Vorschlag? Wie würde die allgemeine Pflicht aussehen? Darüber wird man diskutieren müssen. Auch der Ethikrat wird eine Einschätzung abgeben. Es geht ja auch um Säuglinge. Aber die Impf-Pflicht wir auch bewirken: Ein Teil der Gesellschaft wird in Wallung versetzt. Wir dürfen uns nicht unter Druck setzen lassen. Ein Teil der Querdenker muss beobachtet werden - \n",
      "Minute: 51 - Text: vom Verfassungsschutz. Es gibt einen Chat der AfD, in dem vom Bürgerkrieg gesprochen wird. Fackelzüge erinnern an schlimmste Zeiten. Der Staat muss wehrhaft bleiben. Aber viele werden am Ende sehen, dass die Impfung gar nicht so schlimm ist. Es wird keinen Zwang geben. Aber wer seiner Verpflichtung nicht nachkommt, wird mit Bußgeldern rechnen müssen. Es hat immer schon Ärger bei Pflichten gegeben. Aber am Ende haben sich viele daran gewöhnt. \n",
      "Minute: 52 - Text: Auch mir wird oft vorgeworfen, dass ich vorpresche. Andere sagen, dass ich zu wenig tue. Aber wichtig ist nur eines: Wir müssen die Menschen beschützen. Ich respektiere jeden mit anderer Meinung. Aber ich glaube, dass nur die allgemeine Impf-Pflicht hilft. Wir sind in der größten Krise seit dem Zweiten Weltkrieg - nicht nur wir, die ganze Welt. Es gibt gegen das Impfen abenteuerliche Begründungen. Deshalb müssen wir neue Wege gehen. Es geht um den Schutz des Lebens. \n",
      "Minute: 53 - Text: Wie geht denn die Erklärung, dass Deutschland mit Österreich das einzige Land mit Pflicht ist? Welche Erklärung gibt es? Wenn wir das so genau wüssten ... Ich habe in die Geschichte geguckt. Das Alpenland ist besonders intensiv. Als in Bayern die Pockenimpfung eingeführt wurde, gab es auch Probleme. Da gibt es leider eine Tradition mit dem Thema. Das hilft uns nichts. Ich denke manchmal: Warum geht es uns so gut? \n",
      "Minute: 54 - Text: Bei den Pocken haben andere Generationen die Last getragen. Wir können uns nicht rausstellen mit der Erklärung des Individuums. Wir müssen mutig sein und verantwortungsbewusst sein. Wir müssen das ausdiskutieren. Da der Kollege der FDP recht. Könnte eine Erklärung darin liegen, dass wir nicht gut regiert wurden? Bayern ist in Deutschland eines der reichsten Länder. Es hat eine hohe Bildungsrate. \n",
      "Minute: 55 - Text: Bei den Tests ist Bayern immer vorne. Warum ist Bayern bei der Impfquote so weit hinten? Die Bedingungen sind dort die besten. Warum erreicht man die Menschen nicht? Warum gelingt es in Ostdeutschland nicht? Mich ärgert es selber. Wir reden uns den Mund fusselig. Wir bieten Bratwürste an. Die katholische Kirche könnte in Bayern impfen. In abgelegenen Gegenden spielt die Kirche eine große Rolle. Sie könnten das Impfen fördern. \n",
      "Minute: 56 - Text: Das ist ähnlich in Sachsen - im Erzgebirgskreis. Das sind religiöse Gebiete. In Sachsen gibt es ein anderes Problem. Traditionell sind die Leute skeptisch. Aus der DDR-Zeit kommt der Widerstand gegen die Obrigkeit. Da gibt es wilde Geschichten. Bauern stehen an der Gülle und sagen: Das riecht gar nicht mehr. Die haben Corona. Was richtet da die allgemeine Impfpflicht aus? Ich halte nichts von der Spaltung der Gesellschaft. Aber was spaltet mehr - die Impfpflicht oder nicht? Generell würde die Einführung weniger spalten als die Debatte. \n",
      "Minute: 57 - Text: Aber in bestimmten Gegenden sind die Impfquoten niedrig. Da hat das Ganze großes Konfliktpotenzial. Wir müssen diese Gegenden im Blick behalten. Da müssen Politiker und Ärzte hinkommen. Pfarrer müssen mitmachen. Eine gesellschaftliche Anstrengung muss es sein. Sie bilden sich ein, Sie würden neun von zehn überreden. Ich versuche es gerne. Ein Vieraugen-Gespräch wie in der Notaufnahme ... \"Du hast die Wahl. Du kannst dich infizieren oder dich impfen lassen. \n",
      "Minute: 58 - Text: Wenn du nicht geimpft bist, ist die Wahrscheinlichkeit höher, auf der Intensivstation zu landen. Dann schauen die Leute auf die Nebenwirkungen. Das stimmt nicht. Wenn ich mich infizierte, sind Risiken viel größer auf eine Herzmuskelentzündung. Sie haben das Wort im Zusammenhang mit Impfen gehört. Die Wahrscheinlichkeit ist höher, wenn du mit Covid infiziert bist. Auch bei Thrombosen .... Das muss man erklären. Man bekommt nichts gespritzt. \n",
      "Minute: 59 - Text: Du bekommst nur einen Code gespritzt. Dann kann der Körper ein Oberflächen-Protein herstellen. Das mit der mRNA macht der Körper tausendfach pro Tag. Dann kriege ich den einen oder anderen. Das ist ein schönes Ende. Danke an die Runde. Die Tagesthemen machen weiter. Wir schauen auf ein Land, das überrascht mit seinen Erfolgen im Kampf gegen Corona. Ausgerechnet Brasilien. Dort gibt es niedrige Inzidenten. Sie haben aufgeholt beim Impfen. Es wird Karneval geben in Rio. Auf Wiedersehen. \n"
     ]
    }
   ],
   "source": [
    "idx = 0\n",
    "for minute in range(subs[-1].start.minutes):\n",
    "    text = \"\"\n",
    "    while subs[idx].start.minutes == minute:\n",
    "        text += re.sub(clean_pattern, \"\", subs[idx].text).replace(\"\\n\",\" \") + \" \"\n",
    "        idx += 1\n",
    "    \n",
    "    print(f\"Minute: {subs[idx].start.minutes} - Text: {text}\")"
   ]
  }
 ],
 "metadata": {
  "kernelspec": {
   "display_name": "Python 3.9.10 ('base')",
   "language": "python",
   "name": "python3"
  },
  "language_info": {
   "codemirror_mode": {
    "name": "ipython",
    "version": 3
   },
   "file_extension": ".py",
   "mimetype": "text/x-python",
   "name": "python",
   "nbconvert_exporter": "python",
   "pygments_lexer": "ipython3",
   "version": "3.9.10"
  },
  "orig_nbformat": 4,
  "vscode": {
   "interpreter": {
    "hash": "9ae7ae13804f56b6812076ff88d4c743516b7c995d69dd5984882be015e04ad2"
   }
  }
 },
 "nbformat": 4,
 "nbformat_minor": 2
}
