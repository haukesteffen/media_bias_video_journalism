{
 "cells": [
  {
   "cell_type": "code",
   "execution_count": 328,
   "metadata": {},
   "outputs": [],
   "source": [
    "import pysrt\n",
    "import re\n",
    "import os\n",
    "import glob\n",
    "import pandas as pd\n",
    "from tqdm import tqdm\n",
    "import spacy\n",
    "from pandarallel import pandarallel\n",
    "\n",
    "clean_pattern = re.compile(r\"<font color=\\\"#[0123456789ABCDEF]{6}\\\">|</font>\", re.DOTALL)\n",
    "date_pattern = re.compile(r\"Datum:\\s+([0123][0123456789].[01][0123456789].20[012][0123456789])(?=\\n)\", re.DOTALL)\n",
    "description_pattern = re.compile(r\"(?:.m3u8\\n\\n|.mp4\\n\\n)(.*)(?=\\n\\n|\\n)\", re.DOTALL)\n",
    "title_pattern = re.compile(r\"Titel:\\s+(.*)(?=\\n\\nDatum)\", re.DOTALL)\n",
    "duration_pattern = re.compile(r\"Dauer:\\s+(.*)(?=\\n\\nTitel|\\n\\n\\nWebsite|\\nGröße)\", re.DOTALL)\n",
    "channel_pattern = re.compile(r\"Sender:\\s+([AZ][RD][DF](?=\\n))\", re.DOTALL)"
   ]
  },
  {
   "cell_type": "code",
   "execution_count": 329,
   "metadata": {},
   "outputs": [],
   "source": [
    "def define_print(verbose=True):\n",
    "    if verbose:\n",
    "        verboseprint = print\n",
    "    else:\n",
    "        verboseprint = lambda *args: None\n",
    "    return verboseprint\n",
    "\n",
    "def load_filter():\n",
    "    nlp = spacy.load(\"de_core_news_sm\")\n",
    "    filterwords = spacy.lang.de.stop_words.STOP_WORDS\n",
    "    with open(\"../docs/filterwords.txt\", encoding=\"utf-8\", errors=\"ignore\") as d:\n",
    "        filterwords.update(d.read().split())\n",
    "    with open(\"../docs/german_stopwords_full.txt\", encoding=\"utf-8\", errors=\"ignore\") as d:\n",
    "        filterwords.update(d.read().split()[53:])\n",
    "    return list(set(filterwords))\n",
    "\n",
    "def lemmatize(text, nlp, filterwords):\n",
    "    \"\"\"\n",
    "    tokenizes and lemmatizes german input text\n",
    "    :param text: raw input text (german)\n",
    "    :return: list of lemmatized tokens from input text\n",
    "    \"\"\"\n",
    "\n",
    "    with nlp.select_pipes(enable=\"lemmatizer\"):\n",
    "        doc = nlp(text)\n",
    "    lemmas = [token.lemma_.lower() for token in doc]\n",
    "    lemmas = [lemma for lemma in lemmas if lemma.isalpha() and lemma not in filterwords]\n",
    "    return \" \".join(lemmas)\n",
    "\n",
    "def preprocess(df, to_csv=False, to_pickle=False, verbose=True):\n",
    "    verboseprint = define_print(verbose=verbose)\n",
    "    pandarallel.initialize(progress_bar=True)\n",
    "    filterwords = load_filter()\n",
    "    nlp = spacy.load(\"de_core_news_sm\")\n",
    "\n",
    "    verboseprint(f\"lemmatizing transcript data of {len(df.index)} videos...\")\n",
    "    df[\"preprocessed\"] = df[\"transcript\"].parallel_apply(\n",
    "        lemmatize, args=(nlp, filterwords)\n",
    "    )\n",
    "\n",
    "    if to_csv:\n",
    "        df.to_csv(\"data/preprocessed/\" + df.iloc[0][\"medium\"] + \"_preprocessed.csv\")\n",
    "\n",
    "    if to_pickle:\n",
    "        df.to_pickle(\"data/preprocessed/\" + df.iloc[0][\"medium\"] + \"_preprocessed.pkl\")\n",
    "    return df"
   ]
  },
  {
   "cell_type": "code",
   "execution_count": 330,
   "metadata": {},
   "outputs": [
    {
     "name": "stderr",
     "output_type": "stream",
     "text": [
      "100%|██████████| 9/9 [00:16<00:00,  1.83s/it]"
     ]
    },
    {
     "name": "stdout",
     "output_type": "stream",
     "text": [
      "successfully created dataframe with 24284 minutes of transcript data.\n"
     ]
    },
    {
     "name": "stderr",
     "output_type": "stream",
     "text": [
      "\n"
     ]
    }
   ],
   "source": [
    "failcounter = 0\n",
    "mediathek_dict = {\n",
    "    'medium':[],\n",
    "    'id':[],\n",
    "    'title':[],\n",
    "    'description':[],\n",
    "    'duration':[],\n",
    "    'date':[],\n",
    "    'category':[],\n",
    "    'minute':[],\n",
    "    'transcript':[],\n",
    "}\n",
    "\n",
    "folder_list = os.listdir('../assets/mediathek_subtitles/')\n",
    "if '.DS_Store' in folder_list:\n",
    "    folder_list.remove('.DS_Store')\n",
    "\n",
    "for folder in tqdm(folder_list):\n",
    "    for txtfile in glob.glob(\"../assets/mediathek_subtitles/\"+folder+\"/*.txt\"):\n",
    "        try:\n",
    "            with open(txtfile) as f:\n",
    "                txt = f.read()\n",
    "            subs = pysrt.open(txtfile.replace('.txt', '.srt'))\n",
    "        except:\n",
    "            failcounter += 1\n",
    "            continue\n",
    "        \n",
    "        idx = 1\n",
    "        max_minute = max([subs[i].start.minutes for i in range(len(subs))])\n",
    "        \n",
    "        for minute in range(max_minute):\n",
    "            text = \"\"\n",
    "            while subs[idx].start.minutes == minute:\n",
    "                text += re.sub(clean_pattern, \"\", subs[idx].text).replace(\"\\n\",\" \") + \" \"\n",
    "                idx += 1\n",
    "            mediathek_dict['medium'].append(re.findall(channel_pattern, txt)[0])\n",
    "            mediathek_dict['id'].append(None)\n",
    "            mediathek_dict['title'].append(re.findall(title_pattern, txt)[0])\n",
    "            mediathek_dict['description'].append(re.findall(description_pattern, txt)[0].replace(\"\\n\", \" \"))\n",
    "            mediathek_dict['duration'].append(re.findall(duration_pattern, txt)[0])\n",
    "            mediathek_dict['date'].append(re.findall(date_pattern, txt)[0])\n",
    "            mediathek_dict['category'].append(\"News & Politics\")\n",
    "            mediathek_dict['minute'].append(minute)\n",
    "            mediathek_dict['transcript'].append(text)\n",
    "\n",
    "df = pd.DataFrame(mediathek_dict)\n",
    "print(f\"successfully created dataframe with {len(df.index)} minutes of transcript data.\")"
   ]
  },
  {
   "cell_type": "code",
   "execution_count": 331,
   "metadata": {},
   "outputs": [
    {
     "name": "stdout",
     "output_type": "stream",
     "text": [
      "INFO: Pandarallel will run on 8 workers.\n",
      "INFO: Pandarallel will use standard multiprocessing data transfer (pipe) to transfer data between the main process and workers.\n",
      "lemmatizing transcript data of 24284 videos...\n"
     ]
    },
    {
     "data": {
      "application/vnd.jupyter.widget-view+json": {
       "model_id": "5f314ebcfdb24fe88540001bb935ad2e",
       "version_major": 2,
       "version_minor": 0
      },
      "text/plain": [
       "VBox(children=(HBox(children=(IntProgress(value=0, description='0.00%', max=3036), Label(value='0 / 3036'))), …"
      ]
     },
     "metadata": {},
     "output_type": "display_data"
    }
   ],
   "source": [
    "filterwords = load_filter()\n",
    "df = preprocess(df)"
   ]
  },
  {
   "cell_type": "code",
   "execution_count": 332,
   "metadata": {},
   "outputs": [],
   "source": [
    "df.to_pickle('../data/mediathek_data.pkl')"
   ]
  },
  {
   "cell_type": "code",
   "execution_count": 333,
   "metadata": {},
   "outputs": [
    {
     "data": {
      "text/html": [
       "<div>\n",
       "<style scoped>\n",
       "    .dataframe tbody tr th:only-of-type {\n",
       "        vertical-align: middle;\n",
       "    }\n",
       "\n",
       "    .dataframe tbody tr th {\n",
       "        vertical-align: top;\n",
       "    }\n",
       "\n",
       "    .dataframe thead th {\n",
       "        text-align: right;\n",
       "    }\n",
       "</style>\n",
       "<table border=\"1\" class=\"dataframe\">\n",
       "  <thead>\n",
       "    <tr style=\"text-align: right;\">\n",
       "      <th></th>\n",
       "      <th>medium</th>\n",
       "      <th>id</th>\n",
       "      <th>title</th>\n",
       "      <th>description</th>\n",
       "      <th>duration</th>\n",
       "      <th>date</th>\n",
       "      <th>category</th>\n",
       "      <th>minute</th>\n",
       "      <th>transcript</th>\n",
       "      <th>preprocessed</th>\n",
       "    </tr>\n",
       "  </thead>\n",
       "  <tbody>\n",
       "    <tr>\n",
       "      <th>0</th>\n",
       "      <td>ARD</td>\n",
       "      <td>None</td>\n",
       "      <td>studioM - Corona-Demos: Alles Verschwörung?</td>\n",
       "      <td>Monitor-Chef Georg Restle diskutiert in studio...</td>\n",
       "      <td>00:57:08</td>\n",
       "      <td>27.05.2020</td>\n",
       "      <td>News &amp; Politics</td>\n",
       "      <td>0</td>\n",
       "      <td>Hallo und willkommen zur 7. Ausgabe von studio...</td>\n",
       "      <td>willkommen ausgabe befassen protesten fragen d...</td>\n",
       "    </tr>\n",
       "    <tr>\n",
       "      <th>1</th>\n",
       "      <td>ARD</td>\n",
       "      <td>None</td>\n",
       "      <td>studioM - Corona-Demos: Alles Verschwörung?</td>\n",
       "      <td>Monitor-Chef Georg Restle diskutiert in studio...</td>\n",
       "      <td>00:57:08</td>\n",
       "      <td>27.05.2020</td>\n",
       "      <td>News &amp; Politics</td>\n",
       "      <td>1</td>\n",
       "      <td>oder Verschwörungserzählungen befasst hat. Hal...</td>\n",
       "      <td>verschwörungserzählungen befasst nocun grüße f...</td>\n",
       "    </tr>\n",
       "    <tr>\n",
       "      <th>2</th>\n",
       "      <td>ARD</td>\n",
       "      <td>None</td>\n",
       "      <td>studioM - Corona-Demos: Alles Verschwörung?</td>\n",
       "      <td>Monitor-Chef Georg Restle diskutiert in studio...</td>\n",
       "      <td>00:57:08</td>\n",
       "      <td>27.05.2020</td>\n",
       "      <td>News &amp; Politics</td>\n",
       "      <td>2</td>\n",
       "      <td>D.h. es muss möglich sein zu beweisen, dass si...</td>\n",
       "      <td>beweisen falsch wissenschaftler gezeigt theori...</td>\n",
       "    </tr>\n",
       "    <tr>\n",
       "      <th>3</th>\n",
       "      <td>ARD</td>\n",
       "      <td>None</td>\n",
       "      <td>studioM - Corona-Demos: Alles Verschwörung?</td>\n",
       "      <td>Monitor-Chef Georg Restle diskutiert in studio...</td>\n",
       "      <td>00:57:08</td>\n",
       "      <td>27.05.2020</td>\n",
       "      <td>News &amp; Politics</td>\n",
       "      <td>3</td>\n",
       "      <td>Wir sehen, dass online sehr viele Gruppen derz...</td>\n",
       "      <td>gruppen proteste mobilisieren erzählungen verb...</td>\n",
       "    </tr>\n",
       "    <tr>\n",
       "      <th>4</th>\n",
       "      <td>ARD</td>\n",
       "      <td>None</td>\n",
       "      <td>studioM - Corona-Demos: Alles Verschwörung?</td>\n",
       "      <td>Monitor-Chef Georg Restle diskutiert in studio...</td>\n",
       "      <td>00:57:08</td>\n",
       "      <td>27.05.2020</td>\n",
       "      <td>News &amp; Politics</td>\n",
       "      <td>4</td>\n",
       "      <td>die auf diesen Demos sind, Verschwörungsideolo...</td>\n",
       "      <td>demos verschwörungsideologen demonstrationen a...</td>\n",
       "    </tr>\n",
       "  </tbody>\n",
       "</table>\n",
       "</div>"
      ],
      "text/plain": [
       "  medium    id                                        title  \\\n",
       "0    ARD  None  studioM - Corona-Demos: Alles Verschwörung?   \n",
       "1    ARD  None  studioM - Corona-Demos: Alles Verschwörung?   \n",
       "2    ARD  None  studioM - Corona-Demos: Alles Verschwörung?   \n",
       "3    ARD  None  studioM - Corona-Demos: Alles Verschwörung?   \n",
       "4    ARD  None  studioM - Corona-Demos: Alles Verschwörung?   \n",
       "\n",
       "                                         description  duration        date  \\\n",
       "0  Monitor-Chef Georg Restle diskutiert in studio...  00:57:08  27.05.2020   \n",
       "1  Monitor-Chef Georg Restle diskutiert in studio...  00:57:08  27.05.2020   \n",
       "2  Monitor-Chef Georg Restle diskutiert in studio...  00:57:08  27.05.2020   \n",
       "3  Monitor-Chef Georg Restle diskutiert in studio...  00:57:08  27.05.2020   \n",
       "4  Monitor-Chef Georg Restle diskutiert in studio...  00:57:08  27.05.2020   \n",
       "\n",
       "          category  minute                                         transcript  \\\n",
       "0  News & Politics       0  Hallo und willkommen zur 7. Ausgabe von studio...   \n",
       "1  News & Politics       1  oder Verschwörungserzählungen befasst hat. Hal...   \n",
       "2  News & Politics       2  D.h. es muss möglich sein zu beweisen, dass si...   \n",
       "3  News & Politics       3  Wir sehen, dass online sehr viele Gruppen derz...   \n",
       "4  News & Politics       4  die auf diesen Demos sind, Verschwörungsideolo...   \n",
       "\n",
       "                                        preprocessed  \n",
       "0  willkommen ausgabe befassen protesten fragen d...  \n",
       "1  verschwörungserzählungen befasst nocun grüße f...  \n",
       "2  beweisen falsch wissenschaftler gezeigt theori...  \n",
       "3  gruppen proteste mobilisieren erzählungen verb...  \n",
       "4  demos verschwörungsideologen demonstrationen a...  "
      ]
     },
     "execution_count": 333,
     "metadata": {},
     "output_type": "execute_result"
    }
   ],
   "source": [
    "aksdhja = pd.read_pickle('../data/mediathek_data.pkl')\n",
    "aksdhja.head()"
   ]
  }
 ],
 "metadata": {
  "kernelspec": {
   "display_name": "Python 3.9.10 ('base')",
   "language": "python",
   "name": "python3"
  },
  "language_info": {
   "codemirror_mode": {
    "name": "ipython",
    "version": 3
   },
   "file_extension": ".py",
   "mimetype": "text/x-python",
   "name": "python",
   "nbconvert_exporter": "python",
   "pygments_lexer": "ipython3",
   "version": "3.9.10"
  },
  "orig_nbformat": 4,
  "vscode": {
   "interpreter": {
    "hash": "9ae7ae13804f56b6812076ff88d4c743516b7c995d69dd5984882be015e04ad2"
   }
  }
 },
 "nbformat": 4,
 "nbformat_minor": 2
}
