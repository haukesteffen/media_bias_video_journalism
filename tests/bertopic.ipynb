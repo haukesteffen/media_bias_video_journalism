{
 "cells": [
  {
   "cell_type": "code",
   "execution_count": 1,
   "metadata": {},
   "outputs": [],
   "source": [
    "import pandas as pd\n",
    "import numpy as np\n",
    "from bertopic import BERTopic\n",
    "from sklearn.feature_extraction.text import CountVectorizer\n",
    "import spacy\n",
    "\n",
    "def load_filter():\n",
    "    nlp = spacy.load(\"de_core_news_sm\")\n",
    "    filterwords = spacy.lang.de.stop_words.STOP_WORDS\n",
    "    with open(\"../docs/filterwords.txt\", encoding=\"utf-8\", errors=\"ignore\") as d:\n",
    "        filterwords.update(d.read().split())\n",
    "    with open(\"../docs/german_stopwords_full.txt\", encoding=\"utf-8\", errors=\"ignore\") as d:\n",
    "        filterwords.update(d.read().split()[53:])\n",
    "    return list(set(filterwords))\n",
    "\n",
    "stop_words = frozenset(load_filter())"
   ]
  },
  {
   "cell_type": "code",
   "execution_count": 2,
   "metadata": {},
   "outputs": [],
   "source": [
    "df = pd.read_csv('../data/preprocessed/concat.csv', index_col=0)\n",
    "df.dropna(subset=['transcript'], inplace=True)\n",
    "docs = df['transcript'].to_numpy()"
   ]
  },
  {
   "cell_type": "code",
   "execution_count": 3,
   "metadata": {},
   "outputs": [],
   "source": [
    "vectorizer_model = CountVectorizer(stop_words=stop_words, ngram_range=(1,2))"
   ]
  },
  {
   "cell_type": "code",
   "execution_count": 4,
   "metadata": {},
   "outputs": [
    {
     "data": {
      "application/vnd.jupyter.widget-view+json": {
       "model_id": "a24c04e8d3f5438cab742ecbd160a9c8",
       "version_major": 2,
       "version_minor": 0
      },
      "text/plain": [
       "Batches:   0%|          | 0/2460 [00:00<?, ?it/s]"
      ]
     },
     "metadata": {},
     "output_type": "display_data"
    },
    {
     "name": "stderr",
     "output_type": "stream",
     "text": [
      "2022-05-16 19:03:56,511 - BERTopic - Transformed documents to Embeddings\n",
      "2022-05-16 19:04:15,645 - BERTopic - Reduced dimensionality with UMAP\n"
     ]
    },
    {
     "name": "stdout",
     "output_type": "stream",
     "text": [
      "huggingface/tokenizers: The current process just got forked, after parallelism has already been used. Disabling parallelism to avoid deadlocks...\n",
      "To disable this warning, you can either:\n",
      "\t- Avoid using `tokenizers` before the fork if possible\n",
      "\t- Explicitly set the environment variable TOKENIZERS_PARALLELISM=(true | false)\n",
      "huggingface/tokenizers: The current process just got forked, after parallelism has already been used. Disabling parallelism to avoid deadlocks...\n",
      "To disable this warning, you can either:\n",
      "\t- Avoid using `tokenizers` before the fork if possible\n",
      "\t- Explicitly set the environment variable TOKENIZERS_PARALLELISM=(true | false)\n",
      "huggingface/tokenizers: The current process just got forked, after parallelism has already been used. Disabling parallelism to avoid deadlocks...\n",
      "To disable this warning, you can either:\n",
      "\t- Avoid using `tokenizers` before the fork if possible\n",
      "\t- Explicitly set the environment variable TOKENIZERS_PARALLELISM=(true | false)\n",
      "huggingface/tokenizers: The current process just got forked, after parallelism has already been used. Disabling parallelism to avoid deadlocks...\n",
      "To disable this warning, you can either:\n",
      "\t- Avoid using `tokenizers` before the fork if possible\n",
      "\t- Explicitly set the environment variable TOKENIZERS_PARALLELISM=(true | false)\n",
      "huggingface/tokenizers: The current process just got forked, after parallelism has already been used. Disabling parallelism to avoid deadlocks...\n",
      "To disable this warning, you can either:\n",
      "\t- Avoid using `tokenizers` before the fork if possible\n",
      "\t- Explicitly set the environment variable TOKENIZERS_PARALLELISM=(true | false)\n"
     ]
    },
    {
     "name": "stderr",
     "output_type": "stream",
     "text": [
      "2022-05-16 19:04:21,423 - BERTopic - Clustered UMAP embeddings with HDBSCAN\n"
     ]
    }
   ],
   "source": [
    "topic_model = BERTopic(vectorizer_model = vectorizer_model, verbose=1, language='German', min_topic_size=100)\n",
    "topics, probs = topic_model.fit_transform(docs)"
   ]
  },
  {
   "cell_type": "code",
   "execution_count": 5,
   "metadata": {},
   "outputs": [],
   "source": [
    "#topic_model = BERTopic.load('bertopic_model')\n",
    "#topics, probs = topic_model.transform(docs)"
   ]
  },
  {
   "cell_type": "code",
   "execution_count": 6,
   "metadata": {},
   "outputs": [],
   "source": [
    "topic_info = topic_model.get_topic_info()"
   ]
  },
  {
   "cell_type": "code",
   "execution_count": 7,
   "metadata": {},
   "outputs": [],
   "source": [
    "#topic_model.visualize_topics()"
   ]
  },
  {
   "cell_type": "code",
   "execution_count": 8,
   "metadata": {},
   "outputs": [
    {
     "data": {
      "application/vnd.plotly.v1+json": {
       "config": {
        "plotlyServerURL": "https://plot.ly"
       },
       "data": [
        {
         "marker": {
          "color": "#D55E00"
         },
         "orientation": "h",
         "type": "bar",
         "x": [
          0.004627183522753486,
          0.00497383507909524,
          0.004976409778480945,
          0.005669503592332632,
          0.0069480386525579045
         ],
         "xaxis": "x",
         "y": [
          "menschen  ",
          "glaube  ",
          "deutschland  ",
          "cdu  ",
          "frage  "
         ],
         "yaxis": "y"
        },
        {
         "marker": {
          "color": "#0072B2"
         },
         "orientation": "h",
         "type": "bar",
         "x": [
          0.008148865538951795,
          0.00930222437923426,
          0.009526795638514485,
          0.010297922837643516,
          0.017022481272335074
         ],
         "xaxis": "x2",
         "y": [
          "krieg  ",
          "russischen  ",
          "putin  ",
          "russland  ",
          "ukraine  "
         ],
         "yaxis": "y2"
        },
        {
         "marker": {
          "color": "#CC79A7"
         },
         "orientation": "h",
         "type": "bar",
         "x": [
          0.004562543287903596,
          0.004943103552053137,
          0.005473656834708299,
          0.009129796165236239,
          0.014733202459829786
         ],
         "xaxis": "x3",
         "y": [
          "staatsanwaltschaft  ",
          "opfer  ",
          "polizisten  ",
          "täter  ",
          "polizei  "
         ],
         "yaxis": "y3"
        },
        {
         "marker": {
          "color": "#E69F00"
         },
         "orientation": "h",
         "type": "bar",
         "x": [
          0.007117272585486821,
          0.010134336446825225,
          0.011521432754657888,
          0.011737987837875984,
          0.011881789629681191
         ],
         "xaxis": "x4",
         "y": [
          "trainer  ",
          "fußball  ",
          "spieler  ",
          "spiel  ",
          "mannschaft  "
         ],
         "yaxis": "y4"
        },
        {
         "marker": {
          "color": "#56B4E9"
         },
         "orientation": "h",
         "type": "bar",
         "x": [
          0.0044343284660517904,
          0.004439630083460248,
          0.004661118787442968,
          0.005060596491665593,
          0.010511884885109212
         ],
         "xaxis": "x5",
         "y": [
          "pflanzen  ",
          "tier  ",
          "wald  ",
          "fleisch  ",
          "tiere  "
         ],
         "yaxis": "y5"
        },
        {
         "marker": {
          "color": "#009E73"
         },
         "orientation": "h",
         "type": "bar",
         "x": [
          0.008173400139030378,
          0.010726451315066648,
          0.011402539760550575,
          0.0114955158750916,
          0.016888033715892876
         ],
         "xaxis": "x6",
         "y": [
          "geimpft  ",
          "impfen  ",
          "impfpflicht  ",
          "impfung  ",
          "impfstoff  "
         ],
         "yaxis": "y6"
        },
        {
         "marker": {
          "color": "#F0E442"
         },
         "orientation": "h",
         "type": "bar",
         "x": [
          0.014396664044819582,
          0.014957608845741335,
          0.018553831156096094,
          0.019210914631551283,
          0.028562765522172302
         ],
         "xaxis": "x7",
         "y": [
          "joe  ",
          "biden  ",
          "donald trump  ",
          "donald  ",
          "trump  "
         ],
         "yaxis": "y7"
        },
        {
         "marker": {
          "color": "#D55E00"
         },
         "orientation": "h",
         "type": "bar",
         "x": [
          0.00480342858164416,
          0.004861618799614425,
          0.005399076906790326,
          0.005480247691608685,
          0.005887243646898647
         ],
         "xaxis": "x8",
         "y": [
          "schön  ",
          "leute  ",
          "halt  ",
          "leben  ",
          "glaube  "
         ],
         "yaxis": "y8"
        }
       ],
       "layout": {
        "annotations": [
         {
          "font": {
           "size": 16
          },
          "showarrow": false,
          "text": "Topic 0",
          "x": 0.0875,
          "xanchor": "center",
          "xref": "paper",
          "y": 1,
          "yanchor": "bottom",
          "yref": "paper"
         },
         {
          "font": {
           "size": 16
          },
          "showarrow": false,
          "text": "Topic 1",
          "x": 0.36250000000000004,
          "xanchor": "center",
          "xref": "paper",
          "y": 1,
          "yanchor": "bottom",
          "yref": "paper"
         },
         {
          "font": {
           "size": 16
          },
          "showarrow": false,
          "text": "Topic 2",
          "x": 0.6375000000000001,
          "xanchor": "center",
          "xref": "paper",
          "y": 1,
          "yanchor": "bottom",
          "yref": "paper"
         },
         {
          "font": {
           "size": 16
          },
          "showarrow": false,
          "text": "Topic 3",
          "x": 0.9125,
          "xanchor": "center",
          "xref": "paper",
          "y": 1,
          "yanchor": "bottom",
          "yref": "paper"
         },
         {
          "font": {
           "size": 16
          },
          "showarrow": false,
          "text": "Topic 4",
          "x": 0.0875,
          "xanchor": "center",
          "xref": "paper",
          "y": 0.4,
          "yanchor": "bottom",
          "yref": "paper"
         },
         {
          "font": {
           "size": 16
          },
          "showarrow": false,
          "text": "Topic 5",
          "x": 0.36250000000000004,
          "xanchor": "center",
          "xref": "paper",
          "y": 0.4,
          "yanchor": "bottom",
          "yref": "paper"
         },
         {
          "font": {
           "size": 16
          },
          "showarrow": false,
          "text": "Topic 6",
          "x": 0.6375000000000001,
          "xanchor": "center",
          "xref": "paper",
          "y": 0.4,
          "yanchor": "bottom",
          "yref": "paper"
         },
         {
          "font": {
           "size": 16
          },
          "showarrow": false,
          "text": "Topic 7",
          "x": 0.9125,
          "xanchor": "center",
          "xref": "paper",
          "y": 0.4,
          "yanchor": "bottom",
          "yref": "paper"
         }
        ],
        "height": 500,
        "hoverlabel": {
         "bgcolor": "white",
         "font": {
          "family": "Rockwell",
          "size": 16
         }
        },
        "showlegend": false,
        "template": {
         "data": {
          "bar": [
           {
            "error_x": {
             "color": "#2a3f5f"
            },
            "error_y": {
             "color": "#2a3f5f"
            },
            "marker": {
             "line": {
              "color": "white",
              "width": 0.5
             },
             "pattern": {
              "fillmode": "overlay",
              "size": 10,
              "solidity": 0.2
             }
            },
            "type": "bar"
           }
          ],
          "barpolar": [
           {
            "marker": {
             "line": {
              "color": "white",
              "width": 0.5
             },
             "pattern": {
              "fillmode": "overlay",
              "size": 10,
              "solidity": 0.2
             }
            },
            "type": "barpolar"
           }
          ],
          "carpet": [
           {
            "aaxis": {
             "endlinecolor": "#2a3f5f",
             "gridcolor": "#C8D4E3",
             "linecolor": "#C8D4E3",
             "minorgridcolor": "#C8D4E3",
             "startlinecolor": "#2a3f5f"
            },
            "baxis": {
             "endlinecolor": "#2a3f5f",
             "gridcolor": "#C8D4E3",
             "linecolor": "#C8D4E3",
             "minorgridcolor": "#C8D4E3",
             "startlinecolor": "#2a3f5f"
            },
            "type": "carpet"
           }
          ],
          "choropleth": [
           {
            "colorbar": {
             "outlinewidth": 0,
             "ticks": ""
            },
            "type": "choropleth"
           }
          ],
          "contour": [
           {
            "colorbar": {
             "outlinewidth": 0,
             "ticks": ""
            },
            "colorscale": [
             [
              0,
              "#0d0887"
             ],
             [
              0.1111111111111111,
              "#46039f"
             ],
             [
              0.2222222222222222,
              "#7201a8"
             ],
             [
              0.3333333333333333,
              "#9c179e"
             ],
             [
              0.4444444444444444,
              "#bd3786"
             ],
             [
              0.5555555555555556,
              "#d8576b"
             ],
             [
              0.6666666666666666,
              "#ed7953"
             ],
             [
              0.7777777777777778,
              "#fb9f3a"
             ],
             [
              0.8888888888888888,
              "#fdca26"
             ],
             [
              1,
              "#f0f921"
             ]
            ],
            "type": "contour"
           }
          ],
          "contourcarpet": [
           {
            "colorbar": {
             "outlinewidth": 0,
             "ticks": ""
            },
            "type": "contourcarpet"
           }
          ],
          "heatmap": [
           {
            "colorbar": {
             "outlinewidth": 0,
             "ticks": ""
            },
            "colorscale": [
             [
              0,
              "#0d0887"
             ],
             [
              0.1111111111111111,
              "#46039f"
             ],
             [
              0.2222222222222222,
              "#7201a8"
             ],
             [
              0.3333333333333333,
              "#9c179e"
             ],
             [
              0.4444444444444444,
              "#bd3786"
             ],
             [
              0.5555555555555556,
              "#d8576b"
             ],
             [
              0.6666666666666666,
              "#ed7953"
             ],
             [
              0.7777777777777778,
              "#fb9f3a"
             ],
             [
              0.8888888888888888,
              "#fdca26"
             ],
             [
              1,
              "#f0f921"
             ]
            ],
            "type": "heatmap"
           }
          ],
          "heatmapgl": [
           {
            "colorbar": {
             "outlinewidth": 0,
             "ticks": ""
            },
            "colorscale": [
             [
              0,
              "#0d0887"
             ],
             [
              0.1111111111111111,
              "#46039f"
             ],
             [
              0.2222222222222222,
              "#7201a8"
             ],
             [
              0.3333333333333333,
              "#9c179e"
             ],
             [
              0.4444444444444444,
              "#bd3786"
             ],
             [
              0.5555555555555556,
              "#d8576b"
             ],
             [
              0.6666666666666666,
              "#ed7953"
             ],
             [
              0.7777777777777778,
              "#fb9f3a"
             ],
             [
              0.8888888888888888,
              "#fdca26"
             ],
             [
              1,
              "#f0f921"
             ]
            ],
            "type": "heatmapgl"
           }
          ],
          "histogram": [
           {
            "marker": {
             "pattern": {
              "fillmode": "overlay",
              "size": 10,
              "solidity": 0.2
             }
            },
            "type": "histogram"
           }
          ],
          "histogram2d": [
           {
            "colorbar": {
             "outlinewidth": 0,
             "ticks": ""
            },
            "colorscale": [
             [
              0,
              "#0d0887"
             ],
             [
              0.1111111111111111,
              "#46039f"
             ],
             [
              0.2222222222222222,
              "#7201a8"
             ],
             [
              0.3333333333333333,
              "#9c179e"
             ],
             [
              0.4444444444444444,
              "#bd3786"
             ],
             [
              0.5555555555555556,
              "#d8576b"
             ],
             [
              0.6666666666666666,
              "#ed7953"
             ],
             [
              0.7777777777777778,
              "#fb9f3a"
             ],
             [
              0.8888888888888888,
              "#fdca26"
             ],
             [
              1,
              "#f0f921"
             ]
            ],
            "type": "histogram2d"
           }
          ],
          "histogram2dcontour": [
           {
            "colorbar": {
             "outlinewidth": 0,
             "ticks": ""
            },
            "colorscale": [
             [
              0,
              "#0d0887"
             ],
             [
              0.1111111111111111,
              "#46039f"
             ],
             [
              0.2222222222222222,
              "#7201a8"
             ],
             [
              0.3333333333333333,
              "#9c179e"
             ],
             [
              0.4444444444444444,
              "#bd3786"
             ],
             [
              0.5555555555555556,
              "#d8576b"
             ],
             [
              0.6666666666666666,
              "#ed7953"
             ],
             [
              0.7777777777777778,
              "#fb9f3a"
             ],
             [
              0.8888888888888888,
              "#fdca26"
             ],
             [
              1,
              "#f0f921"
             ]
            ],
            "type": "histogram2dcontour"
           }
          ],
          "mesh3d": [
           {
            "colorbar": {
             "outlinewidth": 0,
             "ticks": ""
            },
            "type": "mesh3d"
           }
          ],
          "parcoords": [
           {
            "line": {
             "colorbar": {
              "outlinewidth": 0,
              "ticks": ""
             }
            },
            "type": "parcoords"
           }
          ],
          "pie": [
           {
            "automargin": true,
            "type": "pie"
           }
          ],
          "scatter": [
           {
            "marker": {
             "colorbar": {
              "outlinewidth": 0,
              "ticks": ""
             }
            },
            "type": "scatter"
           }
          ],
          "scatter3d": [
           {
            "line": {
             "colorbar": {
              "outlinewidth": 0,
              "ticks": ""
             }
            },
            "marker": {
             "colorbar": {
              "outlinewidth": 0,
              "ticks": ""
             }
            },
            "type": "scatter3d"
           }
          ],
          "scattercarpet": [
           {
            "marker": {
             "colorbar": {
              "outlinewidth": 0,
              "ticks": ""
             }
            },
            "type": "scattercarpet"
           }
          ],
          "scattergeo": [
           {
            "marker": {
             "colorbar": {
              "outlinewidth": 0,
              "ticks": ""
             }
            },
            "type": "scattergeo"
           }
          ],
          "scattergl": [
           {
            "marker": {
             "colorbar": {
              "outlinewidth": 0,
              "ticks": ""
             }
            },
            "type": "scattergl"
           }
          ],
          "scattermapbox": [
           {
            "marker": {
             "colorbar": {
              "outlinewidth": 0,
              "ticks": ""
             }
            },
            "type": "scattermapbox"
           }
          ],
          "scatterpolar": [
           {
            "marker": {
             "colorbar": {
              "outlinewidth": 0,
              "ticks": ""
             }
            },
            "type": "scatterpolar"
           }
          ],
          "scatterpolargl": [
           {
            "marker": {
             "colorbar": {
              "outlinewidth": 0,
              "ticks": ""
             }
            },
            "type": "scatterpolargl"
           }
          ],
          "scatterternary": [
           {
            "marker": {
             "colorbar": {
              "outlinewidth": 0,
              "ticks": ""
             }
            },
            "type": "scatterternary"
           }
          ],
          "surface": [
           {
            "colorbar": {
             "outlinewidth": 0,
             "ticks": ""
            },
            "colorscale": [
             [
              0,
              "#0d0887"
             ],
             [
              0.1111111111111111,
              "#46039f"
             ],
             [
              0.2222222222222222,
              "#7201a8"
             ],
             [
              0.3333333333333333,
              "#9c179e"
             ],
             [
              0.4444444444444444,
              "#bd3786"
             ],
             [
              0.5555555555555556,
              "#d8576b"
             ],
             [
              0.6666666666666666,
              "#ed7953"
             ],
             [
              0.7777777777777778,
              "#fb9f3a"
             ],
             [
              0.8888888888888888,
              "#fdca26"
             ],
             [
              1,
              "#f0f921"
             ]
            ],
            "type": "surface"
           }
          ],
          "table": [
           {
            "cells": {
             "fill": {
              "color": "#EBF0F8"
             },
             "line": {
              "color": "white"
             }
            },
            "header": {
             "fill": {
              "color": "#C8D4E3"
             },
             "line": {
              "color": "white"
             }
            },
            "type": "table"
           }
          ]
         },
         "layout": {
          "annotationdefaults": {
           "arrowcolor": "#2a3f5f",
           "arrowhead": 0,
           "arrowwidth": 1
          },
          "autotypenumbers": "strict",
          "coloraxis": {
           "colorbar": {
            "outlinewidth": 0,
            "ticks": ""
           }
          },
          "colorscale": {
           "diverging": [
            [
             0,
             "#8e0152"
            ],
            [
             0.1,
             "#c51b7d"
            ],
            [
             0.2,
             "#de77ae"
            ],
            [
             0.3,
             "#f1b6da"
            ],
            [
             0.4,
             "#fde0ef"
            ],
            [
             0.5,
             "#f7f7f7"
            ],
            [
             0.6,
             "#e6f5d0"
            ],
            [
             0.7,
             "#b8e186"
            ],
            [
             0.8,
             "#7fbc41"
            ],
            [
             0.9,
             "#4d9221"
            ],
            [
             1,
             "#276419"
            ]
           ],
           "sequential": [
            [
             0,
             "#0d0887"
            ],
            [
             0.1111111111111111,
             "#46039f"
            ],
            [
             0.2222222222222222,
             "#7201a8"
            ],
            [
             0.3333333333333333,
             "#9c179e"
            ],
            [
             0.4444444444444444,
             "#bd3786"
            ],
            [
             0.5555555555555556,
             "#d8576b"
            ],
            [
             0.6666666666666666,
             "#ed7953"
            ],
            [
             0.7777777777777778,
             "#fb9f3a"
            ],
            [
             0.8888888888888888,
             "#fdca26"
            ],
            [
             1,
             "#f0f921"
            ]
           ],
           "sequentialminus": [
            [
             0,
             "#0d0887"
            ],
            [
             0.1111111111111111,
             "#46039f"
            ],
            [
             0.2222222222222222,
             "#7201a8"
            ],
            [
             0.3333333333333333,
             "#9c179e"
            ],
            [
             0.4444444444444444,
             "#bd3786"
            ],
            [
             0.5555555555555556,
             "#d8576b"
            ],
            [
             0.6666666666666666,
             "#ed7953"
            ],
            [
             0.7777777777777778,
             "#fb9f3a"
            ],
            [
             0.8888888888888888,
             "#fdca26"
            ],
            [
             1,
             "#f0f921"
            ]
           ]
          },
          "colorway": [
           "#636efa",
           "#EF553B",
           "#00cc96",
           "#ab63fa",
           "#FFA15A",
           "#19d3f3",
           "#FF6692",
           "#B6E880",
           "#FF97FF",
           "#FECB52"
          ],
          "font": {
           "color": "#2a3f5f"
          },
          "geo": {
           "bgcolor": "white",
           "lakecolor": "white",
           "landcolor": "white",
           "showlakes": true,
           "showland": true,
           "subunitcolor": "#C8D4E3"
          },
          "hoverlabel": {
           "align": "left"
          },
          "hovermode": "closest",
          "mapbox": {
           "style": "light"
          },
          "paper_bgcolor": "white",
          "plot_bgcolor": "white",
          "polar": {
           "angularaxis": {
            "gridcolor": "#EBF0F8",
            "linecolor": "#EBF0F8",
            "ticks": ""
           },
           "bgcolor": "white",
           "radialaxis": {
            "gridcolor": "#EBF0F8",
            "linecolor": "#EBF0F8",
            "ticks": ""
           }
          },
          "scene": {
           "xaxis": {
            "backgroundcolor": "white",
            "gridcolor": "#DFE8F3",
            "gridwidth": 2,
            "linecolor": "#EBF0F8",
            "showbackground": true,
            "ticks": "",
            "zerolinecolor": "#EBF0F8"
           },
           "yaxis": {
            "backgroundcolor": "white",
            "gridcolor": "#DFE8F3",
            "gridwidth": 2,
            "linecolor": "#EBF0F8",
            "showbackground": true,
            "ticks": "",
            "zerolinecolor": "#EBF0F8"
           },
           "zaxis": {
            "backgroundcolor": "white",
            "gridcolor": "#DFE8F3",
            "gridwidth": 2,
            "linecolor": "#EBF0F8",
            "showbackground": true,
            "ticks": "",
            "zerolinecolor": "#EBF0F8"
           }
          },
          "shapedefaults": {
           "line": {
            "color": "#2a3f5f"
           }
          },
          "ternary": {
           "aaxis": {
            "gridcolor": "#DFE8F3",
            "linecolor": "#A2B1C6",
            "ticks": ""
           },
           "baxis": {
            "gridcolor": "#DFE8F3",
            "linecolor": "#A2B1C6",
            "ticks": ""
           },
           "bgcolor": "white",
           "caxis": {
            "gridcolor": "#DFE8F3",
            "linecolor": "#A2B1C6",
            "ticks": ""
           }
          },
          "title": {
           "x": 0.05
          },
          "xaxis": {
           "automargin": true,
           "gridcolor": "#EBF0F8",
           "linecolor": "#EBF0F8",
           "ticks": "",
           "title": {
            "standoff": 15
           },
           "zerolinecolor": "#EBF0F8",
           "zerolinewidth": 2
          },
          "yaxis": {
           "automargin": true,
           "gridcolor": "#EBF0F8",
           "linecolor": "#EBF0F8",
           "ticks": "",
           "title": {
            "standoff": 15
           },
           "zerolinecolor": "#EBF0F8",
           "zerolinewidth": 2
          }
         }
        },
        "title": {
         "font": {
          "color": "Black",
          "size": 22
         },
         "text": "<b>Topic Word Scores",
         "x": 0.5,
         "xanchor": "center",
         "yanchor": "top"
        },
        "width": 1000,
        "xaxis": {
         "anchor": "y",
         "domain": [
          0,
          0.175
         ],
         "showgrid": true
        },
        "xaxis2": {
         "anchor": "y2",
         "domain": [
          0.275,
          0.45
         ],
         "showgrid": true
        },
        "xaxis3": {
         "anchor": "y3",
         "domain": [
          0.55,
          0.7250000000000001
         ],
         "showgrid": true
        },
        "xaxis4": {
         "anchor": "y4",
         "domain": [
          0.825,
          1
         ],
         "showgrid": true
        },
        "xaxis5": {
         "anchor": "y5",
         "domain": [
          0,
          0.175
         ],
         "showgrid": true
        },
        "xaxis6": {
         "anchor": "y6",
         "domain": [
          0.275,
          0.45
         ],
         "showgrid": true
        },
        "xaxis7": {
         "anchor": "y7",
         "domain": [
          0.55,
          0.7250000000000001
         ],
         "showgrid": true
        },
        "xaxis8": {
         "anchor": "y8",
         "domain": [
          0.825,
          1
         ],
         "showgrid": true
        },
        "yaxis": {
         "anchor": "x",
         "domain": [
          0.6000000000000001,
          1
         ],
         "showgrid": true
        },
        "yaxis2": {
         "anchor": "x2",
         "domain": [
          0.6000000000000001,
          1
         ],
         "showgrid": true
        },
        "yaxis3": {
         "anchor": "x3",
         "domain": [
          0.6000000000000001,
          1
         ],
         "showgrid": true
        },
        "yaxis4": {
         "anchor": "x4",
         "domain": [
          0.6000000000000001,
          1
         ],
         "showgrid": true
        },
        "yaxis5": {
         "anchor": "x5",
         "domain": [
          0,
          0.4
         ],
         "showgrid": true
        },
        "yaxis6": {
         "anchor": "x6",
         "domain": [
          0,
          0.4
         ],
         "showgrid": true
        },
        "yaxis7": {
         "anchor": "x7",
         "domain": [
          0,
          0.4
         ],
         "showgrid": true
        },
        "yaxis8": {
         "anchor": "x8",
         "domain": [
          0,
          0.4
         ],
         "showgrid": true
        }
       }
      }
     },
     "metadata": {},
     "output_type": "display_data"
    }
   ],
   "source": [
    "topic_model.visualize_barchart()"
   ]
  },
  {
   "cell_type": "code",
   "execution_count": 9,
   "metadata": {},
   "outputs": [
    {
     "data": {
      "application/vnd.plotly.v1+json": {
       "config": {
        "plotlyServerURL": "https://plot.ly"
       },
       "data": [
        {
         "hoverinfo": "text",
         "marker": {
          "color": "rgb(61,153,112)"
         },
         "mode": "lines",
         "type": "scatter",
         "x": [
          0,
          0.9672809555682894,
          0.9672809555682894,
          0
         ],
         "xaxis": "x",
         "y": [
          -15,
          -15,
          -25,
          -25
         ],
         "yaxis": "y"
        },
        {
         "hoverinfo": "text",
         "marker": {
          "color": "rgb(0,116,217)"
         },
         "mode": "lines",
         "type": "scatter",
         "x": [
          0,
          1.1120276304849972,
          1.1120276304849972,
          0.9672809555682894
         ],
         "xaxis": "x",
         "y": [
          -5,
          -5,
          -20,
          -20
         ],
         "yaxis": "y"
        },
        {
         "hoverinfo": "text",
         "marker": {
          "color": "rgb(255,65,54)"
         },
         "mode": "lines",
         "type": "scatter",
         "x": [
          0,
          0.9431385144363584,
          0.9431385144363584,
          0
         ],
         "xaxis": "x",
         "y": [
          -35,
          -35,
          -45,
          -45
         ],
         "yaxis": "y"
        },
        {
         "hoverinfo": "text",
         "marker": {
          "color": "rgb(35,205,205)"
         },
         "mode": "lines",
         "type": "scatter",
         "x": [
          0,
          0.9710266701662454,
          0.9710266701662454,
          0
         ],
         "xaxis": "x",
         "y": [
          -55,
          -55,
          -65,
          -65
         ],
         "yaxis": "y"
        },
        {
         "hoverinfo": "text",
         "marker": {
          "color": "rgb(0,116,217)"
         },
         "mode": "lines",
         "type": "scatter",
         "x": [
          0.9431385144363584,
          1.157942257529093,
          1.157942257529093,
          0.9710266701662454
         ],
         "xaxis": "x",
         "y": [
          -40,
          -40,
          -60,
          -60
         ],
         "yaxis": "y"
        },
        {
         "hoverinfo": "text",
         "marker": {
          "color": "rgb(0,116,217)"
         },
         "mode": "lines",
         "type": "scatter",
         "x": [
          1.1120276304849972,
          1.455376734254469,
          1.455376734254469,
          1.157942257529093
         ],
         "xaxis": "x",
         "y": [
          -12.5,
          -12.5,
          -50,
          -50
         ],
         "yaxis": "y"
        },
        {
         "hoverinfo": "text",
         "marker": {
          "color": "rgb(133,20,75)"
         },
         "mode": "lines",
         "type": "scatter",
         "x": [
          0,
          0.5332356712295027,
          0.5332356712295027,
          0
         ],
         "xaxis": "x",
         "y": [
          -75,
          -75,
          -85,
          -85
         ],
         "yaxis": "y"
        },
        {
         "hoverinfo": "text",
         "marker": {
          "color": "rgb(255,220,0)"
         },
         "mode": "lines",
         "type": "scatter",
         "x": [
          0,
          0.8086582527547352,
          0.8086582527547352,
          0
         ],
         "xaxis": "x",
         "y": [
          -95,
          -95,
          -105,
          -105
         ],
         "yaxis": "y"
        },
        {
         "hoverinfo": "text",
         "marker": {
          "color": "rgb(0,116,217)"
         },
         "mode": "lines",
         "type": "scatter",
         "x": [
          0.5332356712295027,
          1.0254143919903913,
          1.0254143919903913,
          0.8086582527547352
         ],
         "xaxis": "x",
         "y": [
          -80,
          -80,
          -100,
          -100
         ],
         "yaxis": "y"
        },
        {
         "hoverinfo": "text",
         "marker": {
          "color": "rgb(40,35,35)"
         },
         "mode": "lines",
         "type": "scatter",
         "x": [
          0,
          0.7469304335932895,
          0.7469304335932895,
          0
         ],
         "xaxis": "x",
         "y": [
          -115,
          -115,
          -125,
          -125
         ],
         "yaxis": "y"
        },
        {
         "hoverinfo": "text",
         "marker": {
          "color": "rgb(61,153,112)"
         },
         "mode": "lines",
         "type": "scatter",
         "x": [
          0,
          0.9197338551912932,
          0.9197338551912932,
          0
         ],
         "xaxis": "x",
         "y": [
          -135,
          -135,
          -145,
          -145
         ],
         "yaxis": "y"
        },
        {
         "hoverinfo": "text",
         "marker": {
          "color": "rgb(0,116,217)"
         },
         "mode": "lines",
         "type": "scatter",
         "x": [
          0.7469304335932895,
          1.1474207794396472,
          1.1474207794396472,
          0.9197338551912932
         ],
         "xaxis": "x",
         "y": [
          -120,
          -120,
          -140,
          -140
         ],
         "yaxis": "y"
        },
        {
         "hoverinfo": "text",
         "marker": {
          "color": "rgb(0,116,217)"
         },
         "mode": "lines",
         "type": "scatter",
         "x": [
          1.0254143919903913,
          1.3685582651429002,
          1.3685582651429002,
          1.1474207794396472
         ],
         "xaxis": "x",
         "y": [
          -90,
          -90,
          -130,
          -130
         ],
         "yaxis": "y"
        },
        {
         "hoverinfo": "text",
         "marker": {
          "color": "rgb(255,65,54)"
         },
         "mode": "lines",
         "type": "scatter",
         "x": [
          0,
          0.5928663835520686,
          0.5928663835520686,
          0
         ],
         "xaxis": "x",
         "y": [
          -155,
          -155,
          -165,
          -165
         ],
         "yaxis": "y"
        },
        {
         "hoverinfo": "text",
         "marker": {
          "color": "rgb(35,205,205)"
         },
         "mode": "lines",
         "type": "scatter",
         "x": [
          0,
          0.5548765279585584,
          0.5548765279585584,
          0
         ],
         "xaxis": "x",
         "y": [
          -185,
          -185,
          -195,
          -195
         ],
         "yaxis": "y"
        },
        {
         "hoverinfo": "text",
         "marker": {
          "color": "rgb(35,205,205)"
         },
         "mode": "lines",
         "type": "scatter",
         "x": [
          0,
          0.6638576574110878,
          0.6638576574110878,
          0.5548765279585584
         ],
         "xaxis": "x",
         "y": [
          -175,
          -175,
          -190,
          -190
         ],
         "yaxis": "y"
        },
        {
         "hoverinfo": "text",
         "marker": {
          "color": "rgb(0,116,217)"
         },
         "mode": "lines",
         "type": "scatter",
         "x": [
          0.5928663835520686,
          1.5646482224198701,
          1.5646482224198701,
          0.6638576574110878
         ],
         "xaxis": "x",
         "y": [
          -160,
          -160,
          -182.5,
          -182.5
         ],
         "yaxis": "y"
        },
        {
         "hoverinfo": "text",
         "marker": {
          "color": "rgb(0,116,217)"
         },
         "mode": "lines",
         "type": "scatter",
         "x": [
          1.3685582651429002,
          2.1286707760405665,
          2.1286707760405665,
          1.5646482224198701
         ],
         "xaxis": "x",
         "y": [
          -110,
          -110,
          -171.25,
          -171.25
         ],
         "yaxis": "y"
        },
        {
         "hoverinfo": "text",
         "marker": {
          "color": "rgb(0,116,217)"
         },
         "mode": "lines",
         "type": "scatter",
         "x": [
          1.455376734254469,
          2.2931974297846676,
          2.2931974297846676,
          2.1286707760405665
         ],
         "xaxis": "x",
         "y": [
          -31.25,
          -31.25,
          -140.625,
          -140.625
         ],
         "yaxis": "y"
        },
        {
         "hoverinfo": "text",
         "marker": {
          "color": "rgb(61,153,112)"
         },
         "mode": "lines",
         "type": "scatter",
         "x": [
          0,
          0.38305487356164264,
          0.38305487356164264,
          0
         ],
         "xaxis": "x",
         "y": [
          -225,
          -225,
          -235,
          -235
         ],
         "yaxis": "y"
        },
        {
         "hoverinfo": "text",
         "marker": {
          "color": "rgb(61,153,112)"
         },
         "mode": "lines",
         "type": "scatter",
         "x": [
          0,
          0.4359360886190561,
          0.4359360886190561,
          0.38305487356164264
         ],
         "xaxis": "x",
         "y": [
          -215,
          -215,
          -230,
          -230
         ],
         "yaxis": "y"
        },
        {
         "hoverinfo": "text",
         "marker": {
          "color": "rgb(61,153,112)"
         },
         "mode": "lines",
         "type": "scatter",
         "x": [
          0,
          0.47268171285321237,
          0.47268171285321237,
          0.4359360886190561
         ],
         "xaxis": "x",
         "y": [
          -205,
          -205,
          -222.5,
          -222.5
         ],
         "yaxis": "y"
        },
        {
         "hoverinfo": "text",
         "marker": {
          "color": "rgb(61,153,112)"
         },
         "mode": "lines",
         "type": "scatter",
         "x": [
          0,
          0.47576330580968423,
          0.47576330580968423,
          0
         ],
         "xaxis": "x",
         "y": [
          -245,
          -245,
          -255,
          -255
         ],
         "yaxis": "y"
        },
        {
         "hoverinfo": "text",
         "marker": {
          "color": "rgb(61,153,112)"
         },
         "mode": "lines",
         "type": "scatter",
         "x": [
          0.47268171285321237,
          0.6465562045844335,
          0.6465562045844335,
          0.47576330580968423
         ],
         "xaxis": "x",
         "y": [
          -213.75,
          -213.75,
          -250,
          -250
         ],
         "yaxis": "y"
        },
        {
         "hoverinfo": "text",
         "marker": {
          "color": "rgb(255,65,54)"
         },
         "mode": "lines",
         "type": "scatter",
         "x": [
          0,
          0.49668582622046786,
          0.49668582622046786,
          0
         ],
         "xaxis": "x",
         "y": [
          -265,
          -265,
          -275,
          -275
         ],
         "yaxis": "y"
        },
        {
         "hoverinfo": "text",
         "marker": {
          "color": "rgb(255,65,54)"
         },
         "mode": "lines",
         "type": "scatter",
         "x": [
          0,
          0.2805168417392293,
          0.2805168417392293,
          0
         ],
         "xaxis": "x",
         "y": [
          -285,
          -285,
          -295,
          -295
         ],
         "yaxis": "y"
        },
        {
         "hoverinfo": "text",
         "marker": {
          "color": "rgb(255,65,54)"
         },
         "mode": "lines",
         "type": "scatter",
         "x": [
          0,
          0.26383602737393846,
          0.26383602737393846,
          0
         ],
         "xaxis": "x",
         "y": [
          -305,
          -305,
          -315,
          -315
         ],
         "yaxis": "y"
        },
        {
         "hoverinfo": "text",
         "marker": {
          "color": "rgb(255,65,54)"
         },
         "mode": "lines",
         "type": "scatter",
         "x": [
          0,
          0.3681280857364378,
          0.3681280857364378,
          0
         ],
         "xaxis": "x",
         "y": [
          -325,
          -325,
          -335,
          -335
         ],
         "yaxis": "y"
        },
        {
         "hoverinfo": "text",
         "marker": {
          "color": "rgb(255,65,54)"
         },
         "mode": "lines",
         "type": "scatter",
         "x": [
          0.26383602737393846,
          0.3883054402022204,
          0.3883054402022204,
          0.3681280857364378
         ],
         "xaxis": "x",
         "y": [
          -310,
          -310,
          -330,
          -330
         ],
         "yaxis": "y"
        },
        {
         "hoverinfo": "text",
         "marker": {
          "color": "rgb(255,65,54)"
         },
         "mode": "lines",
         "type": "scatter",
         "x": [
          0.2805168417392293,
          0.48654301247373594,
          0.48654301247373594,
          0.3883054402022204
         ],
         "xaxis": "x",
         "y": [
          -290,
          -290,
          -320,
          -320
         ],
         "yaxis": "y"
        },
        {
         "hoverinfo": "text",
         "marker": {
          "color": "rgb(255,65,54)"
         },
         "mode": "lines",
         "type": "scatter",
         "x": [
          0,
          0.19509689387881682,
          0.19509689387881682,
          0
         ],
         "xaxis": "x",
         "y": [
          -355,
          -355,
          -365,
          -365
         ],
         "yaxis": "y"
        },
        {
         "hoverinfo": "text",
         "marker": {
          "color": "rgb(255,65,54)"
         },
         "mode": "lines",
         "type": "scatter",
         "x": [
          0,
          0.31658485385124674,
          0.31658485385124674,
          0
         ],
         "xaxis": "x",
         "y": [
          -375,
          -375,
          -385,
          -385
         ],
         "yaxis": "y"
        },
        {
         "hoverinfo": "text",
         "marker": {
          "color": "rgb(255,65,54)"
         },
         "mode": "lines",
         "type": "scatter",
         "x": [
          0.19509689387881682,
          0.43345774979164836,
          0.43345774979164836,
          0.31658485385124674
         ],
         "xaxis": "x",
         "y": [
          -360,
          -360,
          -380,
          -380
         ],
         "yaxis": "y"
        },
        {
         "hoverinfo": "text",
         "marker": {
          "color": "rgb(255,65,54)"
         },
         "mode": "lines",
         "type": "scatter",
         "x": [
          0,
          0.503418446866917,
          0.503418446866917,
          0.43345774979164836
         ],
         "xaxis": "x",
         "y": [
          -345,
          -345,
          -370,
          -370
         ],
         "yaxis": "y"
        },
        {
         "hoverinfo": "text",
         "marker": {
          "color": "rgb(255,65,54)"
         },
         "mode": "lines",
         "type": "scatter",
         "x": [
          0.48654301247373594,
          0.7663632575068495,
          0.7663632575068495,
          0.503418446866917
         ],
         "xaxis": "x",
         "y": [
          -305,
          -305,
          -357.5,
          -357.5
         ],
         "yaxis": "y"
        },
        {
         "hoverinfo": "text",
         "marker": {
          "color": "rgb(255,65,54)"
         },
         "mode": "lines",
         "type": "scatter",
         "x": [
          0.49668582622046786,
          0.8268171923010988,
          0.8268171923010988,
          0.7663632575068495
         ],
         "xaxis": "x",
         "y": [
          -270,
          -270,
          -331.25,
          -331.25
         ],
         "yaxis": "y"
        },
        {
         "hoverinfo": "text",
         "marker": {
          "color": "rgb(0,116,217)"
         },
         "mode": "lines",
         "type": "scatter",
         "x": [
          0.6465562045844335,
          1.0810694147033573,
          1.0810694147033573,
          0.8268171923010988
         ],
         "xaxis": "x",
         "y": [
          -231.875,
          -231.875,
          -300.625,
          -300.625
         ],
         "yaxis": "y"
        },
        {
         "hoverinfo": "text",
         "marker": {
          "color": "rgb(35,205,205)"
         },
         "mode": "lines",
         "type": "scatter",
         "x": [
          0,
          0.33259762526791853,
          0.33259762526791853,
          0
         ],
         "xaxis": "x",
         "y": [
          -405,
          -405,
          -415,
          -415
         ],
         "yaxis": "y"
        },
        {
         "hoverinfo": "text",
         "marker": {
          "color": "rgb(35,205,205)"
         },
         "mode": "lines",
         "type": "scatter",
         "x": [
          0,
          0.4246357696468734,
          0.4246357696468734,
          0.33259762526791853
         ],
         "xaxis": "x",
         "y": [
          -395,
          -395,
          -410,
          -410
         ],
         "yaxis": "y"
        },
        {
         "hoverinfo": "text",
         "marker": {
          "color": "rgb(133,20,75)"
         },
         "mode": "lines",
         "type": "scatter",
         "x": [
          0,
          0.44403118154192334,
          0.44403118154192334,
          0
         ],
         "xaxis": "x",
         "y": [
          -455,
          -455,
          -465,
          -465
         ],
         "yaxis": "y"
        },
        {
         "hoverinfo": "text",
         "marker": {
          "color": "rgb(133,20,75)"
         },
         "mode": "lines",
         "type": "scatter",
         "x": [
          0,
          0.5266624739177078,
          0.5266624739177078,
          0.44403118154192334
         ],
         "xaxis": "x",
         "y": [
          -445,
          -445,
          -460,
          -460
         ],
         "yaxis": "y"
        },
        {
         "hoverinfo": "text",
         "marker": {
          "color": "rgb(133,20,75)"
         },
         "mode": "lines",
         "type": "scatter",
         "x": [
          0,
          0.5799602285089439,
          0.5799602285089439,
          0.5266624739177078
         ],
         "xaxis": "x",
         "y": [
          -435,
          -435,
          -452.5,
          -452.5
         ],
         "yaxis": "y"
        },
        {
         "hoverinfo": "text",
         "marker": {
          "color": "rgb(133,20,75)"
         },
         "mode": "lines",
         "type": "scatter",
         "x": [
          0,
          0.6949639071506734,
          0.6949639071506734,
          0.5799602285089439
         ],
         "xaxis": "x",
         "y": [
          -425,
          -425,
          -443.75,
          -443.75
         ],
         "yaxis": "y"
        },
        {
         "hoverinfo": "text",
         "marker": {
          "color": "rgb(0,116,217)"
         },
         "mode": "lines",
         "type": "scatter",
         "x": [
          0.4246357696468734,
          1.1611370595249855,
          1.1611370595249855,
          0.6949639071506734
         ],
         "xaxis": "x",
         "y": [
          -402.5,
          -402.5,
          -434.375,
          -434.375
         ],
         "yaxis": "y"
        },
        {
         "hoverinfo": "text",
         "marker": {
          "color": "rgb(255,220,0)"
         },
         "mode": "lines",
         "type": "scatter",
         "x": [
          0,
          0.3469656892344666,
          0.3469656892344666,
          0
         ],
         "xaxis": "x",
         "y": [
          -485,
          -485,
          -495,
          -495
         ],
         "yaxis": "y"
        },
        {
         "hoverinfo": "text",
         "marker": {
          "color": "rgb(255,220,0)"
         },
         "mode": "lines",
         "type": "scatter",
         "x": [
          0,
          0.4390178546053501,
          0.4390178546053501,
          0.3469656892344666
         ],
         "xaxis": "x",
         "y": [
          -475,
          -475,
          -490,
          -490
         ],
         "yaxis": "y"
        },
        {
         "hoverinfo": "text",
         "marker": {
          "color": "rgb(40,35,35)"
         },
         "mode": "lines",
         "type": "scatter",
         "x": [
          0,
          0.1960668962105948,
          0.1960668962105948,
          0
         ],
         "xaxis": "x",
         "y": [
          -505,
          -505,
          -515,
          -515
         ],
         "yaxis": "y"
        },
        {
         "hoverinfo": "text",
         "marker": {
          "color": "rgb(40,35,35)"
         },
         "mode": "lines",
         "type": "scatter",
         "x": [
          0,
          0.4796455734529173,
          0.4796455734529173,
          0
         ],
         "xaxis": "x",
         "y": [
          -525,
          -525,
          -535,
          -535
         ],
         "yaxis": "y"
        },
        {
         "hoverinfo": "text",
         "marker": {
          "color": "rgb(40,35,35)"
         },
         "mode": "lines",
         "type": "scatter",
         "x": [
          0,
          0.3844857857716028,
          0.3844857857716028,
          0
         ],
         "xaxis": "x",
         "y": [
          -545,
          -545,
          -555,
          -555
         ],
         "yaxis": "y"
        },
        {
         "hoverinfo": "text",
         "marker": {
          "color": "rgb(40,35,35)"
         },
         "mode": "lines",
         "type": "scatter",
         "x": [
          0,
          0.4931898392342581,
          0.4931898392342581,
          0
         ],
         "xaxis": "x",
         "y": [
          -565,
          -565,
          -575,
          -575
         ],
         "yaxis": "y"
        },
        {
         "hoverinfo": "text",
         "marker": {
          "color": "rgb(40,35,35)"
         },
         "mode": "lines",
         "type": "scatter",
         "x": [
          0,
          0.5530705075874777,
          0.5530705075874777,
          0
         ],
         "xaxis": "x",
         "y": [
          -585,
          -585,
          -595,
          -595
         ],
         "yaxis": "y"
        },
        {
         "hoverinfo": "text",
         "marker": {
          "color": "rgb(40,35,35)"
         },
         "mode": "lines",
         "type": "scatter",
         "x": [
          0.4931898392342581,
          0.5840520630409609,
          0.5840520630409609,
          0.5530705075874777
         ],
         "xaxis": "x",
         "y": [
          -570,
          -570,
          -590,
          -590
         ],
         "yaxis": "y"
        },
        {
         "hoverinfo": "text",
         "marker": {
          "color": "rgb(40,35,35)"
         },
         "mode": "lines",
         "type": "scatter",
         "x": [
          0.3844857857716028,
          0.6941149438875656,
          0.6941149438875656,
          0.5840520630409609
         ],
         "xaxis": "x",
         "y": [
          -550,
          -550,
          -580,
          -580
         ],
         "yaxis": "y"
        },
        {
         "hoverinfo": "text",
         "marker": {
          "color": "rgb(40,35,35)"
         },
         "mode": "lines",
         "type": "scatter",
         "x": [
          0.4796455734529173,
          0.8683617937230887,
          0.8683617937230887,
          0.6941149438875656
         ],
         "xaxis": "x",
         "y": [
          -530,
          -530,
          -565,
          -565
         ],
         "yaxis": "y"
        },
        {
         "hoverinfo": "text",
         "marker": {
          "color": "rgb(40,35,35)"
         },
         "mode": "lines",
         "type": "scatter",
         "x": [
          0.1960668962105948,
          0.9935662827873529,
          0.9935662827873529,
          0.8683617937230887
         ],
         "xaxis": "x",
         "y": [
          -510,
          -510,
          -547.5,
          -547.5
         ],
         "yaxis": "y"
        },
        {
         "hoverinfo": "text",
         "marker": {
          "color": "rgb(61,153,112)"
         },
         "mode": "lines",
         "type": "scatter",
         "x": [
          0,
          0.49621871684223334,
          0.49621871684223334,
          0
         ],
         "xaxis": "x",
         "y": [
          -605,
          -605,
          -615,
          -615
         ],
         "yaxis": "y"
        },
        {
         "hoverinfo": "text",
         "marker": {
          "color": "rgb(255,65,54)"
         },
         "mode": "lines",
         "type": "scatter",
         "x": [
          0,
          0.7198218068968278,
          0.7198218068968278,
          0
         ],
         "xaxis": "x",
         "y": [
          -635,
          -635,
          -645,
          -645
         ],
         "yaxis": "y"
        },
        {
         "hoverinfo": "text",
         "marker": {
          "color": "rgb(255,65,54)"
         },
         "mode": "lines",
         "type": "scatter",
         "x": [
          0,
          0.8298730506459108,
          0.8298730506459108,
          0.7198218068968278
         ],
         "xaxis": "x",
         "y": [
          -625,
          -625,
          -640,
          -640
         ],
         "yaxis": "y"
        },
        {
         "hoverinfo": "text",
         "marker": {
          "color": "rgb(0,116,217)"
         },
         "mode": "lines",
         "type": "scatter",
         "x": [
          0.49621871684223334,
          1.0726326479820298,
          1.0726326479820298,
          0.8298730506459108
         ],
         "xaxis": "x",
         "y": [
          -610,
          -610,
          -632.5,
          -632.5
         ],
         "yaxis": "y"
        },
        {
         "hoverinfo": "text",
         "marker": {
          "color": "rgb(35,205,205)"
         },
         "mode": "lines",
         "type": "scatter",
         "x": [
          0,
          0.6123234523391226,
          0.6123234523391226,
          0
         ],
         "xaxis": "x",
         "y": [
          -655,
          -655,
          -665,
          -665
         ],
         "yaxis": "y"
        },
        {
         "hoverinfo": "text",
         "marker": {
          "color": "rgb(61,153,112)"
         },
         "mode": "lines",
         "type": "scatter",
         "x": [
          0,
          0.35112302377142723,
          0.35112302377142723,
          0
         ],
         "xaxis": "x",
         "y": [
          -685,
          -685,
          -695,
          -695
         ],
         "yaxis": "y"
        },
        {
         "hoverinfo": "text",
         "marker": {
          "color": "rgb(61,153,112)"
         },
         "mode": "lines",
         "type": "scatter",
         "x": [
          0,
          0.726766619467657,
          0.726766619467657,
          0.35112302377142723
         ],
         "xaxis": "x",
         "y": [
          -675,
          -675,
          -690,
          -690
         ],
         "yaxis": "y"
        },
        {
         "hoverinfo": "text",
         "marker": {
          "color": "rgb(255,65,54)"
         },
         "mode": "lines",
         "type": "scatter",
         "x": [
          0,
          0.5641326708665547,
          0.5641326708665547,
          0
         ],
         "xaxis": "x",
         "y": [
          -715,
          -715,
          -725,
          -725
         ],
         "yaxis": "y"
        },
        {
         "hoverinfo": "text",
         "marker": {
          "color": "rgb(255,65,54)"
         },
         "mode": "lines",
         "type": "scatter",
         "x": [
          0,
          0.7744830095930161,
          0.7744830095930161,
          0.5641326708665547
         ],
         "xaxis": "x",
         "y": [
          -705,
          -705,
          -720,
          -720
         ],
         "yaxis": "y"
        },
        {
         "hoverinfo": "text",
         "marker": {
          "color": "rgb(0,116,217)"
         },
         "mode": "lines",
         "type": "scatter",
         "x": [
          0.726766619467657,
          1.0084766421772426,
          1.0084766421772426,
          0.7744830095930161
         ],
         "xaxis": "x",
         "y": [
          -682.5,
          -682.5,
          -712.5,
          -712.5
         ],
         "yaxis": "y"
        },
        {
         "hoverinfo": "text",
         "marker": {
          "color": "rgb(0,116,217)"
         },
         "mode": "lines",
         "type": "scatter",
         "x": [
          0.6123234523391226,
          1.2079012189520448,
          1.2079012189520448,
          1.0084766421772426
         ],
         "xaxis": "x",
         "y": [
          -660,
          -660,
          -697.5,
          -697.5
         ],
         "yaxis": "y"
        },
        {
         "hoverinfo": "text",
         "marker": {
          "color": "rgb(0,116,217)"
         },
         "mode": "lines",
         "type": "scatter",
         "x": [
          1.0726326479820298,
          1.2417861857406893,
          1.2417861857406893,
          1.2079012189520448
         ],
         "xaxis": "x",
         "y": [
          -621.25,
          -621.25,
          -678.75,
          -678.75
         ],
         "yaxis": "y"
        },
        {
         "hoverinfo": "text",
         "marker": {
          "color": "rgb(0,116,217)"
         },
         "mode": "lines",
         "type": "scatter",
         "x": [
          0.9935662827873529,
          1.5276853073567427,
          1.5276853073567427,
          1.2417861857406893
         ],
         "xaxis": "x",
         "y": [
          -528.75,
          -528.75,
          -650,
          -650
         ],
         "yaxis": "y"
        },
        {
         "hoverinfo": "text",
         "marker": {
          "color": "rgb(0,116,217)"
         },
         "mode": "lines",
         "type": "scatter",
         "x": [
          0.4390178546053501,
          1.5450113866914967,
          1.5450113866914967,
          1.5276853073567427
         ],
         "xaxis": "x",
         "y": [
          -482.5,
          -482.5,
          -589.375,
          -589.375
         ],
         "yaxis": "y"
        },
        {
         "hoverinfo": "text",
         "marker": {
          "color": "rgb(0,116,217)"
         },
         "mode": "lines",
         "type": "scatter",
         "x": [
          1.1611370595249855,
          2.566135651788194,
          2.566135651788194,
          1.5450113866914967
         ],
         "xaxis": "x",
         "y": [
          -418.4375,
          -418.4375,
          -535.9375,
          -535.9375
         ],
         "yaxis": "y"
        },
        {
         "hoverinfo": "text",
         "marker": {
          "color": "rgb(0,116,217)"
         },
         "mode": "lines",
         "type": "scatter",
         "x": [
          1.0810694147033573,
          3.433629104100121,
          3.433629104100121,
          2.566135651788194
         ],
         "xaxis": "x",
         "y": [
          -266.25,
          -266.25,
          -477.1875,
          -477.1875
         ],
         "yaxis": "y"
        },
        {
         "hoverinfo": "text",
         "marker": {
          "color": "rgb(0,116,217)"
         },
         "mode": "lines",
         "type": "scatter",
         "x": [
          2.2931974297846676,
          6.734855465741071,
          6.734855465741071,
          3.433629104100121
         ],
         "xaxis": "x",
         "y": [
          -85.9375,
          -85.9375,
          -371.71875,
          -371.71875
         ],
         "yaxis": "y"
        }
       ],
       "layout": {
        "autosize": false,
        "height": 1295,
        "hoverlabel": {
         "bgcolor": "white",
         "font": {
          "family": "Rockwell",
          "size": 16
         }
        },
        "hovermode": "closest",
        "plot_bgcolor": "#ECEFF1",
        "showlegend": false,
        "template": {
         "data": {
          "bar": [
           {
            "error_x": {
             "color": "#2a3f5f"
            },
            "error_y": {
             "color": "#2a3f5f"
            },
            "marker": {
             "line": {
              "color": "white",
              "width": 0.5
             },
             "pattern": {
              "fillmode": "overlay",
              "size": 10,
              "solidity": 0.2
             }
            },
            "type": "bar"
           }
          ],
          "barpolar": [
           {
            "marker": {
             "line": {
              "color": "white",
              "width": 0.5
             },
             "pattern": {
              "fillmode": "overlay",
              "size": 10,
              "solidity": 0.2
             }
            },
            "type": "barpolar"
           }
          ],
          "carpet": [
           {
            "aaxis": {
             "endlinecolor": "#2a3f5f",
             "gridcolor": "#C8D4E3",
             "linecolor": "#C8D4E3",
             "minorgridcolor": "#C8D4E3",
             "startlinecolor": "#2a3f5f"
            },
            "baxis": {
             "endlinecolor": "#2a3f5f",
             "gridcolor": "#C8D4E3",
             "linecolor": "#C8D4E3",
             "minorgridcolor": "#C8D4E3",
             "startlinecolor": "#2a3f5f"
            },
            "type": "carpet"
           }
          ],
          "choropleth": [
           {
            "colorbar": {
             "outlinewidth": 0,
             "ticks": ""
            },
            "type": "choropleth"
           }
          ],
          "contour": [
           {
            "colorbar": {
             "outlinewidth": 0,
             "ticks": ""
            },
            "colorscale": [
             [
              0,
              "#0d0887"
             ],
             [
              0.1111111111111111,
              "#46039f"
             ],
             [
              0.2222222222222222,
              "#7201a8"
             ],
             [
              0.3333333333333333,
              "#9c179e"
             ],
             [
              0.4444444444444444,
              "#bd3786"
             ],
             [
              0.5555555555555556,
              "#d8576b"
             ],
             [
              0.6666666666666666,
              "#ed7953"
             ],
             [
              0.7777777777777778,
              "#fb9f3a"
             ],
             [
              0.8888888888888888,
              "#fdca26"
             ],
             [
              1,
              "#f0f921"
             ]
            ],
            "type": "contour"
           }
          ],
          "contourcarpet": [
           {
            "colorbar": {
             "outlinewidth": 0,
             "ticks": ""
            },
            "type": "contourcarpet"
           }
          ],
          "heatmap": [
           {
            "colorbar": {
             "outlinewidth": 0,
             "ticks": ""
            },
            "colorscale": [
             [
              0,
              "#0d0887"
             ],
             [
              0.1111111111111111,
              "#46039f"
             ],
             [
              0.2222222222222222,
              "#7201a8"
             ],
             [
              0.3333333333333333,
              "#9c179e"
             ],
             [
              0.4444444444444444,
              "#bd3786"
             ],
             [
              0.5555555555555556,
              "#d8576b"
             ],
             [
              0.6666666666666666,
              "#ed7953"
             ],
             [
              0.7777777777777778,
              "#fb9f3a"
             ],
             [
              0.8888888888888888,
              "#fdca26"
             ],
             [
              1,
              "#f0f921"
             ]
            ],
            "type": "heatmap"
           }
          ],
          "heatmapgl": [
           {
            "colorbar": {
             "outlinewidth": 0,
             "ticks": ""
            },
            "colorscale": [
             [
              0,
              "#0d0887"
             ],
             [
              0.1111111111111111,
              "#46039f"
             ],
             [
              0.2222222222222222,
              "#7201a8"
             ],
             [
              0.3333333333333333,
              "#9c179e"
             ],
             [
              0.4444444444444444,
              "#bd3786"
             ],
             [
              0.5555555555555556,
              "#d8576b"
             ],
             [
              0.6666666666666666,
              "#ed7953"
             ],
             [
              0.7777777777777778,
              "#fb9f3a"
             ],
             [
              0.8888888888888888,
              "#fdca26"
             ],
             [
              1,
              "#f0f921"
             ]
            ],
            "type": "heatmapgl"
           }
          ],
          "histogram": [
           {
            "marker": {
             "pattern": {
              "fillmode": "overlay",
              "size": 10,
              "solidity": 0.2
             }
            },
            "type": "histogram"
           }
          ],
          "histogram2d": [
           {
            "colorbar": {
             "outlinewidth": 0,
             "ticks": ""
            },
            "colorscale": [
             [
              0,
              "#0d0887"
             ],
             [
              0.1111111111111111,
              "#46039f"
             ],
             [
              0.2222222222222222,
              "#7201a8"
             ],
             [
              0.3333333333333333,
              "#9c179e"
             ],
             [
              0.4444444444444444,
              "#bd3786"
             ],
             [
              0.5555555555555556,
              "#d8576b"
             ],
             [
              0.6666666666666666,
              "#ed7953"
             ],
             [
              0.7777777777777778,
              "#fb9f3a"
             ],
             [
              0.8888888888888888,
              "#fdca26"
             ],
             [
              1,
              "#f0f921"
             ]
            ],
            "type": "histogram2d"
           }
          ],
          "histogram2dcontour": [
           {
            "colorbar": {
             "outlinewidth": 0,
             "ticks": ""
            },
            "colorscale": [
             [
              0,
              "#0d0887"
             ],
             [
              0.1111111111111111,
              "#46039f"
             ],
             [
              0.2222222222222222,
              "#7201a8"
             ],
             [
              0.3333333333333333,
              "#9c179e"
             ],
             [
              0.4444444444444444,
              "#bd3786"
             ],
             [
              0.5555555555555556,
              "#d8576b"
             ],
             [
              0.6666666666666666,
              "#ed7953"
             ],
             [
              0.7777777777777778,
              "#fb9f3a"
             ],
             [
              0.8888888888888888,
              "#fdca26"
             ],
             [
              1,
              "#f0f921"
             ]
            ],
            "type": "histogram2dcontour"
           }
          ],
          "mesh3d": [
           {
            "colorbar": {
             "outlinewidth": 0,
             "ticks": ""
            },
            "type": "mesh3d"
           }
          ],
          "parcoords": [
           {
            "line": {
             "colorbar": {
              "outlinewidth": 0,
              "ticks": ""
             }
            },
            "type": "parcoords"
           }
          ],
          "pie": [
           {
            "automargin": true,
            "type": "pie"
           }
          ],
          "scatter": [
           {
            "marker": {
             "colorbar": {
              "outlinewidth": 0,
              "ticks": ""
             }
            },
            "type": "scatter"
           }
          ],
          "scatter3d": [
           {
            "line": {
             "colorbar": {
              "outlinewidth": 0,
              "ticks": ""
             }
            },
            "marker": {
             "colorbar": {
              "outlinewidth": 0,
              "ticks": ""
             }
            },
            "type": "scatter3d"
           }
          ],
          "scattercarpet": [
           {
            "marker": {
             "colorbar": {
              "outlinewidth": 0,
              "ticks": ""
             }
            },
            "type": "scattercarpet"
           }
          ],
          "scattergeo": [
           {
            "marker": {
             "colorbar": {
              "outlinewidth": 0,
              "ticks": ""
             }
            },
            "type": "scattergeo"
           }
          ],
          "scattergl": [
           {
            "marker": {
             "colorbar": {
              "outlinewidth": 0,
              "ticks": ""
             }
            },
            "type": "scattergl"
           }
          ],
          "scattermapbox": [
           {
            "marker": {
             "colorbar": {
              "outlinewidth": 0,
              "ticks": ""
             }
            },
            "type": "scattermapbox"
           }
          ],
          "scatterpolar": [
           {
            "marker": {
             "colorbar": {
              "outlinewidth": 0,
              "ticks": ""
             }
            },
            "type": "scatterpolar"
           }
          ],
          "scatterpolargl": [
           {
            "marker": {
             "colorbar": {
              "outlinewidth": 0,
              "ticks": ""
             }
            },
            "type": "scatterpolargl"
           }
          ],
          "scatterternary": [
           {
            "marker": {
             "colorbar": {
              "outlinewidth": 0,
              "ticks": ""
             }
            },
            "type": "scatterternary"
           }
          ],
          "surface": [
           {
            "colorbar": {
             "outlinewidth": 0,
             "ticks": ""
            },
            "colorscale": [
             [
              0,
              "#0d0887"
             ],
             [
              0.1111111111111111,
              "#46039f"
             ],
             [
              0.2222222222222222,
              "#7201a8"
             ],
             [
              0.3333333333333333,
              "#9c179e"
             ],
             [
              0.4444444444444444,
              "#bd3786"
             ],
             [
              0.5555555555555556,
              "#d8576b"
             ],
             [
              0.6666666666666666,
              "#ed7953"
             ],
             [
              0.7777777777777778,
              "#fb9f3a"
             ],
             [
              0.8888888888888888,
              "#fdca26"
             ],
             [
              1,
              "#f0f921"
             ]
            ],
            "type": "surface"
           }
          ],
          "table": [
           {
            "cells": {
             "fill": {
              "color": "#EBF0F8"
             },
             "line": {
              "color": "white"
             }
            },
            "header": {
             "fill": {
              "color": "#C8D4E3"
             },
             "line": {
              "color": "white"
             }
            },
            "type": "table"
           }
          ]
         },
         "layout": {
          "annotationdefaults": {
           "arrowcolor": "#2a3f5f",
           "arrowhead": 0,
           "arrowwidth": 1
          },
          "autotypenumbers": "strict",
          "coloraxis": {
           "colorbar": {
            "outlinewidth": 0,
            "ticks": ""
           }
          },
          "colorscale": {
           "diverging": [
            [
             0,
             "#8e0152"
            ],
            [
             0.1,
             "#c51b7d"
            ],
            [
             0.2,
             "#de77ae"
            ],
            [
             0.3,
             "#f1b6da"
            ],
            [
             0.4,
             "#fde0ef"
            ],
            [
             0.5,
             "#f7f7f7"
            ],
            [
             0.6,
             "#e6f5d0"
            ],
            [
             0.7,
             "#b8e186"
            ],
            [
             0.8,
             "#7fbc41"
            ],
            [
             0.9,
             "#4d9221"
            ],
            [
             1,
             "#276419"
            ]
           ],
           "sequential": [
            [
             0,
             "#0d0887"
            ],
            [
             0.1111111111111111,
             "#46039f"
            ],
            [
             0.2222222222222222,
             "#7201a8"
            ],
            [
             0.3333333333333333,
             "#9c179e"
            ],
            [
             0.4444444444444444,
             "#bd3786"
            ],
            [
             0.5555555555555556,
             "#d8576b"
            ],
            [
             0.6666666666666666,
             "#ed7953"
            ],
            [
             0.7777777777777778,
             "#fb9f3a"
            ],
            [
             0.8888888888888888,
             "#fdca26"
            ],
            [
             1,
             "#f0f921"
            ]
           ],
           "sequentialminus": [
            [
             0,
             "#0d0887"
            ],
            [
             0.1111111111111111,
             "#46039f"
            ],
            [
             0.2222222222222222,
             "#7201a8"
            ],
            [
             0.3333333333333333,
             "#9c179e"
            ],
            [
             0.4444444444444444,
             "#bd3786"
            ],
            [
             0.5555555555555556,
             "#d8576b"
            ],
            [
             0.6666666666666666,
             "#ed7953"
            ],
            [
             0.7777777777777778,
             "#fb9f3a"
            ],
            [
             0.8888888888888888,
             "#fdca26"
            ],
            [
             1,
             "#f0f921"
            ]
           ]
          },
          "colorway": [
           "#636efa",
           "#EF553B",
           "#00cc96",
           "#ab63fa",
           "#FFA15A",
           "#19d3f3",
           "#FF6692",
           "#B6E880",
           "#FF97FF",
           "#FECB52"
          ],
          "font": {
           "color": "#2a3f5f"
          },
          "geo": {
           "bgcolor": "white",
           "lakecolor": "white",
           "landcolor": "white",
           "showlakes": true,
           "showland": true,
           "subunitcolor": "#C8D4E3"
          },
          "hoverlabel": {
           "align": "left"
          },
          "hovermode": "closest",
          "mapbox": {
           "style": "light"
          },
          "paper_bgcolor": "white",
          "plot_bgcolor": "white",
          "polar": {
           "angularaxis": {
            "gridcolor": "#EBF0F8",
            "linecolor": "#EBF0F8",
            "ticks": ""
           },
           "bgcolor": "white",
           "radialaxis": {
            "gridcolor": "#EBF0F8",
            "linecolor": "#EBF0F8",
            "ticks": ""
           }
          },
          "scene": {
           "xaxis": {
            "backgroundcolor": "white",
            "gridcolor": "#DFE8F3",
            "gridwidth": 2,
            "linecolor": "#EBF0F8",
            "showbackground": true,
            "ticks": "",
            "zerolinecolor": "#EBF0F8"
           },
           "yaxis": {
            "backgroundcolor": "white",
            "gridcolor": "#DFE8F3",
            "gridwidth": 2,
            "linecolor": "#EBF0F8",
            "showbackground": true,
            "ticks": "",
            "zerolinecolor": "#EBF0F8"
           },
           "zaxis": {
            "backgroundcolor": "white",
            "gridcolor": "#DFE8F3",
            "gridwidth": 2,
            "linecolor": "#EBF0F8",
            "showbackground": true,
            "ticks": "",
            "zerolinecolor": "#EBF0F8"
           }
          },
          "shapedefaults": {
           "line": {
            "color": "#2a3f5f"
           }
          },
          "ternary": {
           "aaxis": {
            "gridcolor": "#DFE8F3",
            "linecolor": "#A2B1C6",
            "ticks": ""
           },
           "baxis": {
            "gridcolor": "#DFE8F3",
            "linecolor": "#A2B1C6",
            "ticks": ""
           },
           "bgcolor": "white",
           "caxis": {
            "gridcolor": "#DFE8F3",
            "linecolor": "#A2B1C6",
            "ticks": ""
           }
          },
          "title": {
           "x": 0.05
          },
          "xaxis": {
           "automargin": true,
           "gridcolor": "#EBF0F8",
           "linecolor": "#EBF0F8",
           "ticks": "",
           "title": {
            "standoff": 15
           },
           "zerolinecolor": "#EBF0F8",
           "zerolinewidth": 2
          },
          "yaxis": {
           "automargin": true,
           "gridcolor": "#EBF0F8",
           "linecolor": "#EBF0F8",
           "ticks": "",
           "title": {
            "standoff": 15
           },
           "zerolinecolor": "#EBF0F8",
           "zerolinewidth": 2
          }
         }
        },
        "title": {
         "font": {
          "color": "Black",
          "size": 22
         },
         "text": "<b>Hierarchical Clustering",
         "x": 0.5,
         "xanchor": "center",
         "yanchor": "top"
        },
        "width": 1000,
        "xaxis": {
         "mirror": "allticks",
         "rangemode": "tozero",
         "showgrid": false,
         "showline": true,
         "showticklabels": true,
         "ticks": "outside",
         "type": "linear",
         "zeroline": false
        },
        "yaxis": {
         "mirror": "allticks",
         "range": [
          -730,
          0
         ],
         "rangemode": "tozero",
         "showgrid": false,
         "showline": true,
         "showticklabels": true,
         "tickmode": "array",
         "ticks": "outside",
         "ticktext": [
          "32_china_hongkong_chinesisc...",
          "37_iphone_apple_gerät",
          "65_elefanten_panda_tiere",
          "5_impfstoff_impfung_impfpfl...",
          "22_patienten_ärzte_arzt",
          "66_kokain_drogen_crystal",
          "68_test_tests_testen",
          "31_feuerwehr_feuer_brand",
          "46_feuer_flammen_waldbrände",
          "16_polizei_demonstranten_me...",
          "39_masken_maske_pflicht",
          "6_trump_donald_donald trump",
          "60_facebook_unternehmen_zuc...",
          "12_flughafen_flugzeug_lufth...",
          "70_roboter_computer_maschine",
          "26_israel_hamas_palästinenser",
          "34_juden_antisemitismus_isr...",
          "53_türkei_erdogan_türkische",
          "21_taliban_afghanistan_kabul",
          "51_syrien_iran_us",
          "23_erde_astronauten_mars",
          "28_schiff_bord_hafen",
          "4_tiere_fleisch_wald",
          "35_vorwochenvergleich_fälle...",
          "11_urlaub_corona_mallorca",
          "54_berg_gipfel_klettern",
          "40_pandemie_virus_maßnahmen",
          "45_russland_zitat_medien",
          "-1_menschen_deutschland_gla...",
          "25_menschen_glaube_deutschl...",
          "0_frage_cdu_deutschland",
          "24_buch_glaube_geld",
          "13_stück_jahrhundert_euro",
          "47_kohl_willi_willi herren",
          "33_eu_johnson_großbritannien",
          "7_glaube_leben_halt",
          "48_halt_sozusagen_glaube",
          "14_zitat_medien_website",
          "71_unternehmen_sozusagen_da...",
          "19_ukraine_russischen_russl...",
          "1_ukraine_russland_putin",
          "59_gas_russland_russischen",
          "67_ukraine_atomkraftwerk_pu...",
          "9_flüchtlinge_menschen_grenze",
          "42_deutschland_russland_emb...",
          "41_navalny_lukaschenko_russ...",
          "56_bundeswehr_soldaten_ukra...",
          "30_bahn_fahren_auto",
          "17_fahrer_unfall_auto",
          "20_auto_autos_tesla",
          "38_koch institut_robert koc...",
          "61_putin_koch institut_robe...",
          "50_instagram_model_stars",
          "55_film_filme_kino",
          "43_karneval_leute_feiern",
          "63_weihnachten_geschenke_we...",
          "18_kinder_schulen_schule",
          "58_frauen_gender_männer",
          "2_polizei_täter_polizisten",
          "3_mannschaft_spiel_spieler",
          "27_zitat_venezuela_maduro",
          "62_libyen_demonstranten_reg...",
          "52_virus_china_corona",
          "49_nordkorea_kim_kim jong",
          "69_olympischen_spiele_china",
          "29_kirche_papst_gutachten",
          "44_prinz_queen_harry",
          "57_vulkan_lava_la palma",
          "15_wasser_menschen_häuser",
          "36_hai_wasser_tiere",
          "10_co2_klima_klimaschutz",
          "8_euro_prozent_geld",
          "64_neuinfektionen_schauen_z..."
         ],
         "tickvals": [
          -5,
          -15,
          -25,
          -35,
          -45,
          -55,
          -65,
          -75,
          -85,
          -95,
          -105,
          -115,
          -125,
          -135,
          -145,
          -155,
          -165,
          -175,
          -185,
          -195,
          -205,
          -215,
          -225,
          -235,
          -245,
          -255,
          -265,
          -275,
          -285,
          -295,
          -305,
          -315,
          -325,
          -335,
          -345,
          -355,
          -365,
          -375,
          -385,
          -395,
          -405,
          -415,
          -425,
          -435,
          -445,
          -455,
          -465,
          -475,
          -485,
          -495,
          -505,
          -515,
          -525,
          -535,
          -545,
          -555,
          -565,
          -575,
          -585,
          -595,
          -605,
          -615,
          -625,
          -635,
          -645,
          -655,
          -665,
          -675,
          -685,
          -695,
          -705,
          -715,
          -725
         ],
         "type": "linear",
         "zeroline": false
        }
       }
      }
     },
     "metadata": {},
     "output_type": "display_data"
    }
   ],
   "source": [
    "topic_model.visualize_hierarchy()"
   ]
  },
  {
   "cell_type": "code",
   "execution_count": 10,
   "metadata": {},
   "outputs": [
    {
     "data": {
      "text/plain": [
       "[('kinder', 0.017071077008798518),\n",
       " ('schulen', 0.014411696093810092),\n",
       " ('schule', 0.013734932244874138),\n",
       " ('schüler', 0.010440799442536248),\n",
       " ('eltern', 0.008192032285833428),\n",
       " ('unterricht', 0.007919721825034127),\n",
       " ('lehrer', 0.007689679186696009),\n",
       " ('kindern', 0.006538844850000691),\n",
       " ('glaube', 0.005084049350508146),\n",
       " ('corona', 0.00491073948588948)]"
      ]
     },
     "execution_count": 10,
     "metadata": {},
     "output_type": "execute_result"
    }
   ],
   "source": [
    "tmp = topic_model.find_topics('schule')\n",
    "topic_model.get_topic(topic=tmp[0][0])\n",
    "#topic_model.get_representative_docs(topic=tmp[0][0])"
   ]
  },
  {
   "cell_type": "code",
   "execution_count": 11,
   "metadata": {},
   "outputs": [
    {
     "data": {
      "text/plain": [
       "{'calculate_probabilities': False,\n",
       " 'diversity': None,\n",
       " 'embedding_model': <bertopic.backend._sentencetransformers.SentenceTransformerBackend at 0x17a3f51c0>,\n",
       " 'hdbscan_model': HDBSCAN(min_cluster_size=100, prediction_data=True),\n",
       " 'language': 'German',\n",
       " 'low_memory': False,\n",
       " 'min_topic_size': 100,\n",
       " 'n_gram_range': (1, 1),\n",
       " 'nr_topics': None,\n",
       " 'seed_topic_list': None,\n",
       " 'top_n_words': 10,\n",
       " 'umap_model': UMAP(angular_rp_forest=True, low_memory=False, metric='cosine', min_dist=0.0, n_components=5, tqdm_kwds={'bar_format': '{desc}: {percentage:3.0f}%| {bar} {n_fmt}/{total_fmt} [{elapsed}]', 'desc': 'Epochs completed', 'disable': True}),\n",
       " 'vectorizer_model': CountVectorizer(ngram_range=(1, 2),\n",
       "                 stop_words=frozenset({'Dat', 'Inf.', 'a', 'ab', 'aber',\n",
       "                                       'abermaliges', 'abermals', 'abgerufen',\n",
       "                                       'abgerufene', 'abgerufener',\n",
       "                                       'abgerufenes', 'abgesehen', 'ach', 'acht',\n",
       "                                       'achte', 'achten', 'achter', 'achtes',\n",
       "                                       'aehnlich', 'aehnliche', 'aehnlichem',\n",
       "                                       'aehnlichen', 'aehnlicher', 'aehnliches',\n",
       "                                       'aehnlichste', 'aehnlichstem',\n",
       "                                       'aehnlichsten', 'aehnlichster',\n",
       "                                       'aehnlichstes', 'aeusserst', ...})),\n",
       " 'verbose': 1}"
      ]
     },
     "execution_count": 11,
     "metadata": {},
     "output_type": "execute_result"
    }
   ],
   "source": [
    "topic_model.get_params()"
   ]
  },
  {
   "cell_type": "code",
   "execution_count": 12,
   "metadata": {},
   "outputs": [],
   "source": [
    "#topic_model.save('bertopic_model')"
   ]
  },
  {
   "cell_type": "code",
   "execution_count": 13,
   "metadata": {},
   "outputs": [
    {
     "name": "stderr",
     "output_type": "stream",
     "text": [
      "23it [08:14, 21.50s/it]\n"
     ]
    },
    {
     "data": {
      "application/vnd.plotly.v1+json": {
       "config": {
        "plotlyServerURL": "https://plot.ly"
       },
       "data": [
        {
         "hoverinfo": "text",
         "hovertext": [
          "<b>Topic 0</b><br>Words: frage, partei, cdu, deutschland, glaube",
          "<b>Topic 0</b><br>Words: menschen, glaube, frage, deutschland, wissen",
          "<b>Topic 0</b><br>Words: partei, svp, parlament, parteien, europäischen",
          "<b>Topic 0</b><br>Words: frage, cdu, glaube, deutschland, menschen",
          "<b>Topic 0</b><br>Words: frage, deutschland, cdu, menschen, glaube",
          "<b>Topic 0</b><br>Words: frage, glaube, sozusagen, cdu, menschen",
          "<b>Topic 0</b><br>Words: partei, macron, bundestag, le, tagesschau",
          "<b>Topic 0</b><br>Words: cdu, partei, afg, frage, glaube",
          "<b>Topic 0</b><br>Words: grünen, partei, glaube, frage, cdu",
          "<b>Topic 0</b><br>Words: osten, partei, menschen, politik, spd",
          "<b>Topic 0</b><br>Words: grünen, frage, cdu, partei, deutschland",
          "<b>Topic 0</b><br>Words: partei, frage, menschen, csu, politik",
          "<b>Topic 0</b><br>Words: laschet, frankreich, cdu, union, partei",
          "<b>Topic 0</b><br>Words: frage, pflege, menschen, glaube, personal",
          "<b>Topic 0</b><br>Words: kolonialismus, frage, friedensbewegung, partei, deutschland",
          "<b>Topic 0</b><br>Words: nationalismus, patriotismus, nation, wählen, 18",
          "<b>Topic 0</b><br>Words: cdu, partei, spd, grünen, prozent",
          "<b>Topic 0</b><br>Words: afd, fdp, cdu, corona, partei",
          "<b>Topic 0</b><br>Words: laschet, cdu, prozent, frage, armin",
          "<b>Topic 0</b><br>Words: frage, cdu, glaube, deutschland, menschen",
          "<b>Topic 0</b><br>Words: stimme, kreuzweise, gewählt, stimme stimme, politiker sitzen",
          "<b>Topic 0</b><br>Words: frage, cdu, deutschland, glaube, menschen",
          "<b>Topic 0</b><br>Words: frage, spd, glaube, deutschland, cdu"
         ],
         "marker": {
          "color": "#E69F00"
         },
         "name": "0_frage_cdu_deutschland_glaube",
         "orientation": "h",
         "type": "bar",
         "visible": true,
         "x": [
          116,
          11,
          21,
          465,
          2002,
          73,
          32,
          56,
          51,
          5,
          55,
          70,
          22,
          10,
          8,
          2,
          1100,
          25,
          116,
          896,
          22,
          580,
          440
         ],
         "y": [
          "COMPACTTV",
          "stern TV",
          "NZZ Neue Zürcher Zeitung",
          "ZDFheute Nachrichten",
          "WELT",
          "taz",
          "tagesschau",
          "Junge Freiheit",
          "ZEIT ONLINE",
          "ZDF",
          "NachDenkSeiten",
          "Bayerischer Rundfunk",
          "Süddeutsche Zeitung",
          "Der Tagesspiegel",
          "junge Welt",
          "ZDFinfo Dokus & Reportagen",
          "faz",
          "ARD",
          "FOCUS Online",
          "BILD",
          "RTL",
          "ntv Nachrichten",
          "DER SPIEGEL"
         ]
        },
        {
         "hoverinfo": "text",
         "hovertext": [
          "<b>Topic 1</b><br>Words: ukraine, russland, krieg, putin, russischen",
          "<b>Topic 1</b><br>Words: ukraine, grenze, menschen, krieg, sophia meyer",
          "<b>Topic 1</b><br>Words: ukraine, putin, russland, russischen, nawalny",
          "<b>Topic 1</b><br>Words: ukraine, russland, putin, krieg, russischen",
          "<b>Topic 1</b><br>Words: ukraine, russland, russischen, putin, russische",
          "<b>Topic 1</b><br>Words: ukraine, russland, russischen, putin, krieg",
          "<b>Topic 1</b><br>Words: ukraine, russland, osze, russischen, krieg",
          "<b>Topic 1</b><br>Words: ukraine, russland, putin, krieg, polen",
          "<b>Topic 1</b><br>Words: ukraine, mexikaner, russland, mexiko, russischen",
          "<b>Topic 1</b><br>Words: ukraine, russland, russischen, putin, krieg",
          "<b>Topic 1</b><br>Words: sicherheitskonferenz, ukraine, russland, putin, krieg",
          "<b>Topic 1</b><br>Words: ukraine, russland, putin, krieg, russische",
          "<b>Topic 1</b><br>Words: ukraine, staudamm, menschen, berlin, projekt",
          "<b>Topic 1</b><br>Words: ukraine, russland, imperialismus, kapital, putin",
          "<b>Topic 1</b><br>Words: ukraine, sowjetunion, russland, koroljow, russischen",
          "<b>Topic 1</b><br>Words: ukraine, russland, russischen, putin, russische",
          "<b>Topic 1</b><br>Words: prigoschin, bwa, afanasyeva, afric, yulia afanasyeva",
          "<b>Topic 1</b><br>Words: ukraine, prozent, russland, krieg, russischen",
          "<b>Topic 1</b><br>Words: ukraine, putin, russland, krieg, russischen",
          "<b>Topic 1</b><br>Words: ukraine, russland, putin, seehund, milliarden",
          "<b>Topic 1</b><br>Words: ukraine, russland, nato, putin, russischen",
          "<b>Topic 1</b><br>Words: ukraine, putin, russland, russischen, krieg"
         ],
         "marker": {
          "color": "#56B4E9"
         },
         "name": "1_ukraine_russland_putin_russischen",
         "orientation": "h",
         "type": "bar",
         "visible": "legendonly",
         "x": [
          55,
          5,
          12,
          266,
          1435,
          11,
          4,
          8,
          49,
          16,
          15,
          13,
          5,
          6,
          5,
          473,
          3,
          29,
          530,
          3,
          90,
          178
         ],
         "y": [
          "COMPACTTV",
          "stern TV",
          "NZZ Neue Zürcher Zeitung",
          "ZDFheute Nachrichten",
          "WELT",
          "taz",
          "tagesschau",
          "Junge Freiheit",
          "ZEIT ONLINE",
          "NachDenkSeiten",
          "Bayerischer Rundfunk",
          "Süddeutsche Zeitung",
          "Der Tagesspiegel",
          "junge Welt",
          "ZDFinfo Dokus & Reportagen",
          "faz",
          "ARD",
          "FOCUS Online",
          "BILD",
          "RTL",
          "ntv Nachrichten",
          "DER SPIEGEL"
         ]
        },
        {
         "hoverinfo": "text",
         "hovertext": [
          "<b>Topic 2</b><br>Words: polizei, chemnitz, kompakt, täter, polizisten",
          "<b>Topic 2</b><br>Words: polizei, täter, jasmin, ritter, polizisten",
          "<b>Topic 2</b><br>Words: true crime, paris, true, crime, anschlägen",
          "<b>Topic 2</b><br>Words: polizei, täter, kinder, menschen, gewalt",
          "<b>Topic 2</b><br>Words: polizei, täter, polizisten, staatsanwaltschaft, opfer",
          "<b>Topic 2</b><br>Words: polizei, gewalt, opfer, thema, täter",
          "<b>Topic 2</b><br>Words: zuwanderer, todesstrafe, islamisten, wenden todesstrafe, haftbefehle islamisten",
          "<b>Topic 2</b><br>Words: dna, polizei, spuren, kaddor, täter",
          "<b>Topic 2</b><br>Words: polizisten, polizei, täter, unfallfahrer, bürgerrechtsorganisationen",
          "<b>Topic 2</b><br>Words: martinez, jugendämter, täter, familien, staatsanwaltschaft",
          "<b>Topic 2</b><br>Words: johnson, johnson johnson, polizei, duisburg, zitat",
          "<b>Topic 2</b><br>Words: polizei, täter, mobbing, opfer, domspatzen",
          "<b>Topic 2</b><br>Words: unschuldsvermutung, truman, demokratie, donald trump, donald",
          "<b>Topic 2</b><br>Words: gefängnis, mumia, polizei, abu jamal, mumia abu",
          "<b>Topic 2</b><br>Words: polizei, leiche, ermittler, sonja, manuela",
          "<b>Topic 2</b><br>Words: polizei, täter, staatsanwaltschaft, gericht, ermittlungen",
          "<b>Topic 2</b><br>Words: polizei, stephan, stutthof, täter, irmgard",
          "<b>Topic 2</b><br>Words: kinder, kind, eltern, polizei, bilder",
          "<b>Topic 2</b><br>Words: polizei, täter, polizisten, opfer, beamten",
          "<b>Topic 2</b><br>Words: staffelfinale, marcel, autoritäten, 20 15, typen besetzt",
          "<b>Topic 2</b><br>Words: polizei, täter, gewalt, opfer, ermittlungen",
          "<b>Topic 2</b><br>Words: polizei, täter, polizisten, opfer, ermittler"
         ],
         "marker": {
          "color": "#009E73"
         },
         "name": "2_polizei_täter_polizisten_opfer",
         "orientation": "h",
         "type": "bar",
         "visible": "legendonly",
         "x": [
          9,
          38,
          4,
          47,
          572,
          6,
          3,
          2,
          9,
          4,
          3,
          36,
          3,
          3,
          7,
          446,
          12,
          14,
          1187,
          6,
          68,
          256
         ],
         "y": [
          "COMPACTTV",
          "stern TV",
          "NZZ Neue Zürcher Zeitung",
          "ZDFheute Nachrichten",
          "WELT",
          "taz",
          "tagesschau",
          "Junge Freiheit",
          "ZEIT ONLINE",
          "ZDF",
          "NachDenkSeiten",
          "Bayerischer Rundfunk",
          "Süddeutsche Zeitung",
          "junge Welt",
          "ZDFinfo Dokus & Reportagen",
          "faz",
          "ARD",
          "FOCUS Online",
          "BILD",
          "RTL",
          "ntv Nachrichten",
          "DER SPIEGEL"
         ]
        },
        {
         "hoverinfo": "text",
         "hovertext": [
          "<b>Topic 3</b><br>Words: kopftuch, seehofer, erdogan, mädchen, berliner",
          "<b>Topic 3</b><br>Words: fußball, hannes, spiel, mannschaft, fans",
          "<b>Topic 3</b><br>Words: parcours, fussball, vita parcours, infantino, frauen",
          "<b>Topic 3</b><br>Words: fußball, spiel, spieler, mannschaft, glaube",
          "<b>Topic 3</b><br>Words: mannschaft, spieler, spiel, fußball, glaube",
          "<b>Topic 3</b><br>Words: fußball, spiel, glaube, mannschaft, freundschaft",
          "<b>Topic 3</b><br>Words: uefa, nations league, nations, 50 regel, uefa nations",
          "<b>Topic 3</b><br>Words: europa, seehofer, frankreich, kerber, eu",
          "<b>Topic 3</b><br>Words: roller derby, backflip, derby, roller, rückwärtssalto",
          "<b>Topic 3</b><br>Words: spiel, fußball, spieler, verletzung, witze",
          "<b>Topic 3</b><br>Words: leyen, ezb, weidmann, personalie leyen, merkel",
          "<b>Topic 3</b><br>Words: spieler, fußball, mannschaft, spiel, sport",
          "<b>Topic 3</b><br>Words: turnerinnen, deutschen turnerinnen, england, hurra patriotismus, kleidervorschriften",
          "<b>Topic 3</b><br>Words: paralympics zeitung, paralympischen, paralympics, halt, zeitung",
          "<b>Topic 3</b><br>Words: hooligans, spartak, zska, bilbao, fans",
          "<b>Topic 3</b><br>Words: spiel, mannschaft, spieler, fußball, trainer",
          "<b>Topic 3</b><br>Words: leiharbeitnehmer, adidas, leiharbeiter, ähm, 18 monate",
          "<b>Topic 3</b><br>Words: mannschaft, spiel, spieler, fußball, glaube",
          "<b>Topic 3</b><br>Words: spiel, spieler, mannschaft, fußball, glaube",
          "<b>Topic 3</b><br>Words: ninja, finale, spiel, parcours, glaube",
          "<b>Topic 3</b><br>Words: spieler, mannschaft, spiel, turnier, fußball",
          "<b>Topic 3</b><br>Words: mannschaft, spiel, spieler, fußball, trainer"
         ],
         "marker": {
          "color": "#F0E442"
         },
         "name": "3_mannschaft_spiel_spieler_fußball",
         "orientation": "h",
         "type": "bar",
         "visible": "legendonly",
         "x": [
          1,
          16,
          10,
          53,
          455,
          33,
          2,
          1,
          5,
          4,
          1,
          105,
          2,
          3,
          1,
          463,
          3,
          78,
          401,
          154,
          36,
          739
         ],
         "y": [
          "COMPACTTV",
          "stern TV",
          "NZZ Neue Zürcher Zeitung",
          "ZDFheute Nachrichten",
          "WELT",
          "taz",
          "tagesschau",
          "Junge Freiheit",
          "ZEIT ONLINE",
          "ZDF",
          "NachDenkSeiten",
          "Bayerischer Rundfunk",
          "Süddeutsche Zeitung",
          "Der Tagesspiegel",
          "ZDFinfo Dokus & Reportagen",
          "faz",
          "ARD",
          "FOCUS Online",
          "BILD",
          "RTL",
          "ntv Nachrichten",
          "DER SPIEGEL"
         ]
        },
        {
         "hoverinfo": "text",
         "hovertext": [
          "<b>Topic 4</b><br>Words: tiere, tier, hunde, tierschützer, fleisch",
          "<b>Topic 4</b><br>Words: spargel, tiere, fleisch, schweizer, kaviar",
          "<b>Topic 4</b><br>Words: tiere, fleisch, wald, bio, tier",
          "<b>Topic 4</b><br>Words: tiere, tier, fleisch, wasser, wald",
          "<b>Topic 4</b><br>Words: tiere, pflanzen steine, lied sag, alte fdj, deutschland wahlprogramme",
          "<b>Topic 4</b><br>Words: bio, wölfe, mikroplastik, bio lebensmittel, bio produkte",
          "<b>Topic 4</b><br>Words: schmeckt, süß, minus, riecht, cola",
          "<b>Topic 4</b><br>Words: tiere, ameisen, hund, mulesing, mehrwegquote",
          "<b>Topic 4</b><br>Words: synthetische pestizide, natur, synthetische, pestizide, synthetischen pestiziden",
          "<b>Topic 4</b><br>Words: tiere, pflanzen, wald, wasser, fleisch",
          "<b>Topic 4</b><br>Words: fleisch, möwen, mensch, affen, tiere",
          "<b>Topic 4</b><br>Words: essen, gramm co2, co2, portion, co2 portion",
          "<b>Topic 4</b><br>Words: tiere, plastik, tier, pflanzen, fleisch",
          "<b>Topic 4</b><br>Words: tiere, palmöl, wasser, fleisch, soja",
          "<b>Topic 4</b><br>Words: fleisch, tiere, zucker, wasser, hund",
          "<b>Topic 4</b><br>Words: tiere, hund, tier, fleisch, schön",
          "<b>Topic 4</b><br>Words: ingolf, tiere, parcours, zucker, hund",
          "<b>Topic 4</b><br>Words: plastik, tiere, produkte, zucker, pflanzen",
          "<b>Topic 4</b><br>Words: tiere, hund, tier, fleisch, katzen"
         ],
         "marker": {
          "color": "#D55E00"
         },
         "name": "4_tiere_fleisch_wald_tier",
         "orientation": "h",
         "type": "bar",
         "visible": "legendonly",
         "x": [
          41,
          22,
          39,
          233,
          17,
          4,
          38,
          11,
          2,
          874,
          6,
          4,
          329,
          29,
          129,
          479,
          24,
          106,
          163
         ],
         "y": [
          "stern TV",
          "NZZ Neue Zürcher Zeitung",
          "ZDFheute Nachrichten",
          "WELT",
          "taz",
          "tagesschau",
          "ZEIT ONLINE",
          "ZDF",
          "NachDenkSeiten",
          "Bayerischer Rundfunk",
          "Süddeutsche Zeitung",
          "Der Tagesspiegel",
          "faz",
          "ARD",
          "FOCUS Online",
          "BILD",
          "RTL",
          "ntv Nachrichten",
          "DER SPIEGEL"
         ]
        },
        {
         "hoverinfo": "text",
         "hovertext": [
          "<b>Topic 5</b><br>Words: impfstoff, impfpflicht, impfung, impfen, corona",
          "<b>Topic 5</b><br>Words: impfstoff, impfung, impfen, impfpflicht, geimpft",
          "<b>Topic 5</b><br>Words: virus, impfstoffe, impfstoff, impfstoff generation, protein",
          "<b>Topic 5</b><br>Words: impfstoff, impfen, impfung, impfpflicht, geimpft",
          "<b>Topic 5</b><br>Words: impfstoff, impfpflicht, impfung, impfen, geimpft",
          "<b>Topic 5</b><br>Words: andock, impfung, andock stelle, impfungen, andock stellen",
          "<b>Topic 5</b><br>Words: mrna, impfstoffe, impfung, pille, proteine",
          "<b>Topic 5</b><br>Words: masern, impfen, impfpflicht, geimpft, nebenwirkungen",
          "<b>Topic 5</b><br>Words: impfstoff, impfung, impfpflicht, impfen, virus",
          "<b>Topic 5</b><br>Words: impfstoff, antikörper, impfung, impfstoffe, virus",
          "<b>Topic 5</b><br>Words: impfung, impfstoff, impfstoffe, astrazeneca, impfungen",
          "<b>Topic 5</b><br>Words: impfstoff, impfung, impfen, impfungen, impfpflicht",
          "<b>Topic 5</b><br>Words: impfstoff, impfung, geimpft, impfen, astrazeneca",
          "<b>Topic 5</b><br>Words: impfstoff, impfung, impfstoffe, antikörper, menschen",
          "<b>Topic 5</b><br>Words: impfstoff, impfpflicht, impfen, impfung, geimpft",
          "<b>Topic 5</b><br>Words: pille, männer, killer 3000, romantik, frauen",
          "<b>Topic 5</b><br>Words: impfstoff, impfung, impfen, impfpflicht, frage",
          "<b>Topic 5</b><br>Words: impfstoff, impfpflicht, impfung, impfen, geimpft"
         ],
         "marker": {
          "color": "#0072B2"
         },
         "name": "5_impfstoff_impfung_impfpflicht_impfen",
         "orientation": "h",
         "type": "bar",
         "visible": "legendonly",
         "x": [
          20,
          11,
          2,
          133,
          982,
          2,
          6,
          2,
          20,
          20,
          28,
          347,
          12,
          30,
          280,
          2,
          73,
          32
         ],
         "y": [
          "COMPACTTV",
          "stern TV",
          "NZZ Neue Zürcher Zeitung",
          "ZDFheute Nachrichten",
          "WELT",
          "tagesschau",
          "ZEIT ONLINE",
          "ZDF",
          "NachDenkSeiten",
          "Bayerischer Rundfunk",
          "Süddeutsche Zeitung",
          "faz",
          "ARD",
          "FOCUS Online",
          "BILD",
          "RTL",
          "ntv Nachrichten",
          "DER SPIEGEL"
         ]
        },
        {
         "hoverinfo": "text",
         "hovertext": [
          "<b>Topic 6</b><br>Words: trump, clinton, donald, donald trump, usa",
          "<b>Topic 6</b><br>Words: trump, donald, donald trump, demokraten, biden",
          "<b>Topic 6</b><br>Words: trump, donald, donald trump, biden, joe",
          "<b>Topic 6</b><br>Words: trump, donald, donald trump, biden, joe",
          "<b>Topic 6</b><br>Words: spitzenkandidaten überprüft, nachgewiesen barack, obama richtiger, amerikaner kommunistischer, kommunistischer moslem",
          "<b>Topic 6</b><br>Words: konsequent transpazifischen, transpazifischen handelsabkommen, trump, handelsabkommen, transpazifischen",
          "<b>Topic 6</b><br>Words: trump, donald, donald trump, partei, biden",
          "<b>Topic 6</b><br>Words: trump, wahl, biden, donald, donald trump",
          "<b>Topic 6</b><br>Words: trump, donald, donald trump, präsidenten, us",
          "<b>Topic 6</b><br>Words: trump, donald, donald trump, usa, präsident",
          "<b>Topic 6</b><br>Words: trump, harris, biden, joe biden, joe",
          "<b>Topic 6</b><br>Words: kennedy, trump, kennedys, wahlmänner, usa",
          "<b>Topic 6</b><br>Words: trump, us, donald, donald trump, präsident",
          "<b>Topic 6</b><br>Words: trump, briefwahl, biden, afd, donald",
          "<b>Topic 6</b><br>Words: trump, donald, donald trump, biden, joe",
          "<b>Topic 6</b><br>Words: trump, donald, donald trump, biden, joe",
          "<b>Topic 6</b><br>Words: toi, handynutzung, mikrofon, twitter twitter, duell",
          "<b>Topic 6</b><br>Words: trump, donald, biden, donald trump, joe",
          "<b>Topic 6</b><br>Words: trump, donald, donald trump, präsident, biden"
         ],
         "marker": {
          "color": "#CC79A7"
         },
         "name": "6_trump_donald_donald trump_biden",
         "orientation": "h",
         "type": "bar",
         "visible": "legendonly",
         "x": [
          2,
          19,
          72,
          490,
          4,
          2,
          4,
          11,
          5,
          5,
          12,
          2,
          574,
          5,
          39,
          207,
          2,
          37,
          174
         ],
         "y": [
          "COMPACTTV",
          "NZZ Neue Zürcher Zeitung",
          "ZDFheute Nachrichten",
          "WELT",
          "taz",
          "tagesschau",
          "Junge Freiheit",
          "ZEIT ONLINE",
          "NachDenkSeiten",
          "Bayerischer Rundfunk",
          "Süddeutsche Zeitung",
          "ZDFinfo Dokus & Reportagen",
          "faz",
          "ARD",
          "FOCUS Online",
          "BILD",
          "RTL",
          "ntv Nachrichten",
          "DER SPIEGEL"
         ]
        },
        {
         "hoverinfo": "text",
         "hovertext": [
          "<b>Topic 7</b><br>Words: liebe, liebe freunde, freunde, partei, afd",
          "<b>Topic 7</b><br>Words: leben, methadon, halt, kinder, glaube",
          "<b>Topic 7</b><br>Words: kreativ, kreativität, trekkies, kreative, schaut",
          "<b>Topic 7</b><br>Words: halt, leben, glaube, menschen, leute",
          "<b>Topic 7</b><br>Words: glaube, leben, angst, frage, menschen",
          "<b>Topic 7</b><br>Words: glaube, taz, leute, leben, männer",
          "<b>Topic 7</b><br>Words: vater, familie, sucht, liebe, alkohol",
          "<b>Topic 7</b><br>Words: afg, bottrop, partei, landesgruppe, sarrazin",
          "<b>Topic 7</b><br>Words: haare, haar, halt, glaube, leute",
          "<b>Topic 7</b><br>Words: liebe, glaube, halt, ordnung, leute",
          "<b>Topic 7</b><br>Words: spotify, band, künstler, euro, einnahmen",
          "<b>Topic 7</b><br>Words: leben, schön, halt, glaube, leute",
          "<b>Topic 7</b><br>Words: beziehung, angst, ebay, regeln, begriff",
          "<b>Topic 7</b><br>Words: papa, klimakrise, kommst, hbw, klimakrise bewältigen",
          "<b>Topic 7</b><br>Words: unbekannt, legale offene, erklärt vorlauf, verwüstet freund, person untersuchung",
          "<b>Topic 7</b><br>Words: kassette, polaroid, kassetten, bandsalat, abspielen kassette",
          "<b>Topic 7</b><br>Words: halt, glaube, buch, leben, leute",
          "<b>Topic 7</b><br>Words: louis, ne, mutter, leute, oh",
          "<b>Topic 7</b><br>Words: schön, oberschenkel, körper, menschen, leben",
          "<b>Topic 7</b><br>Words: halt, glaube, leute, leben, schön",
          "<b>Topic 7</b><br>Words: glaube, okay, schön, dance, let dance",
          "<b>Topic 7</b><br>Words: formel, kultur, menschen, glaube, klima",
          "<b>Topic 7</b><br>Words: halt, leute, glaube, leben, schön"
         ],
         "marker": {
          "color": "#E69F00"
         },
         "name": "7_glaube_leben_halt_leute",
         "orientation": "h",
         "type": "bar",
         "visible": "legendonly",
         "x": [
          4,
          24,
          4,
          22,
          52,
          35,
          1,
          2,
          24,
          11,
          2,
          329,
          3,
          5,
          1,
          1,
          104,
          18,
          16,
          536,
          303,
          15,
          75
         ],
         "y": [
          "COMPACTTV",
          "stern TV",
          "NZZ Neue Zürcher Zeitung",
          "ZDFheute Nachrichten",
          "WELT",
          "taz",
          "tagesschau",
          "Junge Freiheit",
          "ZEIT ONLINE",
          "ZDF",
          "NachDenkSeiten",
          "Bayerischer Rundfunk",
          "Süddeutsche Zeitung",
          "Der Tagesspiegel",
          "junge Welt",
          "ZDFinfo Dokus & Reportagen",
          "faz",
          "ARD",
          "FOCUS Online",
          "BILD",
          "RTL",
          "ntv Nachrichten",
          "DER SPIEGEL"
         ]
        },
        {
         "hoverinfo": "text",
         "hovertext": [
          "<b>Topic 8</b><br>Words: euro, prozent, geld, krise, deutschland",
          "<b>Topic 8</b><br>Words: euro, rente, geld, bulgarien, renate",
          "<b>Topic 8</b><br>Words: schweiz, anleger, unternehmen, geld, aktien",
          "<b>Topic 8</b><br>Words: euro, geld, unternehmen, prozent, rente",
          "<b>Topic 8</b><br>Words: prozent, euro, unternehmen, geld, milliarden",
          "<b>Topic 8</b><br>Words: rente, mieter, mietenpolitik, menschen, cdu fdp",
          "<b>Topic 8</b><br>Words: euro, geld, grundeinkommen, teilzeit, prozent",
          "<b>Topic 8</b><br>Words: tampons, unbezahlte arbeit, unbezahlte, arbeit, binden",
          "<b>Topic 8</b><br>Words: sozialwohnungen, sozialwohnung, 000 sozialwohnungen, wohnung, wohnungen",
          "<b>Topic 8</b><br>Words: euro, prozent, geld, milliarden, unternehmen",
          "<b>Topic 8</b><br>Words: euro, geld, unternehmen, deutschland, prozent",
          "<b>Topic 8</b><br>Words: geld, euro, zinsen, wirecard, prozent",
          "<b>Topic 8</b><br>Words: stadt, firmen wohnungen, klassen, yuppies, wohnungen",
          "<b>Topic 8</b><br>Words: 1000 arbeiter, tageszeitung welt, welt, tageszeitung, unverzichtbares platz",
          "<b>Topic 8</b><br>Words: wirecard, prüfer, unternehmen, arbeit, abschlussprüfer",
          "<b>Topic 8</b><br>Words: euro, geld, prozent, unternehmen, milliarden",
          "<b>Topic 8</b><br>Words: euro, geld, mieter, bank, wohnung",
          "<b>Topic 8</b><br>Words: prozent, geld, euro, unternehmen, halt",
          "<b>Topic 8</b><br>Words: geld, euro, unternehmen, prozent, deutschland",
          "<b>Topic 8</b><br>Words: frauen, pay, männer, kaffeeservice, rente",
          "<b>Topic 8</b><br>Words: euro, prozent, unternehmen, milliarden, geld",
          "<b>Topic 8</b><br>Words: euro, geld, prozent, deutschland, haus"
         ],
         "marker": {
          "color": "#56B4E9"
         },
         "name": "8_euro_prozent_geld_unternehmen",
         "orientation": "h",
         "type": "bar",
         "visible": "legendonly",
         "x": [
          12,
          4,
          41,
          58,
          406,
          8,
          24,
          8,
          1,
          47,
          32,
          13,
          2,
          3,
          2,
          291,
          18,
          27,
          132,
          5,
          157,
          85
         ],
         "y": [
          "COMPACTTV",
          "stern TV",
          "NZZ Neue Zürcher Zeitung",
          "ZDFheute Nachrichten",
          "WELT",
          "taz",
          "tagesschau",
          "ZEIT ONLINE",
          "ZDF",
          "NachDenkSeiten",
          "Bayerischer Rundfunk",
          "Süddeutsche Zeitung",
          "Der Tagesspiegel",
          "junge Welt",
          "ZDFinfo Dokus & Reportagen",
          "faz",
          "ARD",
          "FOCUS Online",
          "BILD",
          "RTL",
          "ntv Nachrichten",
          "DER SPIEGEL"
         ]
        },
        {
         "hoverinfo": "text",
         "hovertext": [
          "<b>Topic 9</b><br>Words: flüchtlinge, deutschland, menschen, migranten, grenze",
          "<b>Topic 9</b><br>Words: natalia, natalia klitschko, menschen, grenze, türkei",
          "<b>Topic 9</b><br>Words: flüchtlinge, schweizer, europa, menschen, schweiz",
          "<b>Topic 9</b><br>Words: flüchtlinge, menschen, eu, grenze, deutschland",
          "<b>Topic 9</b><br>Words: menschen, ukraine, flüchtlinge, deutschland, grenze",
          "<b>Topic 9</b><br>Words: flüchtlinge, menschen, leute, deutschland, flüchtlingen",
          "<b>Topic 9</b><br>Words: narva, geflüchtete, eu, deutschland, europa",
          "<b>Topic 9</b><br>Words: migranten, grenze, flüchtlinge, deutschland, menschen",
          "<b>Topic 9</b><br>Words: menschen, lawanda, jouanna, flüchtlinge, geflüchteten",
          "<b>Topic 9</b><br>Words: flüchtlinge, wachleute, bundesamt, möbellager, ehemalige möbellager",
          "<b>Topic 9</b><br>Words: flüchtlinge, eu, lukaschenko, libyen, merkel",
          "<b>Topic 9</b><br>Words: flüchtlinge, menschen, grenze, deutschland, eu",
          "<b>Topic 9</b><br>Words: nsu, flüchtlinge, wort nsu, union, menschen",
          "<b>Topic 9</b><br>Words: hausbesetzung, hausbesetzungen, richtige adressatin, berlin, adressatin",
          "<b>Topic 9</b><br>Words: ausgehöhlt beschreiben, zuwanderung lügen, skandal asylrecht, asylrecht ausgehöhlt, prima regierung",
          "<b>Topic 9</b><br>Words: jugoslawien, serben, bosnien, serbischen, kroaten",
          "<b>Topic 9</b><br>Words: migranten, flüchtlinge, eu, menschen, grenze",
          "<b>Topic 9</b><br>Words: , flüchtlinge, the, 00 00, 00 02",
          "<b>Topic 9</b><br>Words: flüchtlinge, migranten, eu, grenze, deutschland",
          "<b>Topic 9</b><br>Words: flüchtlinge, menschen, grenze, deutschland, migranten",
          "<b>Topic 9</b><br>Words: nachbarländer, leute listen, grenzen, millionen flüchtlinge, türkei",
          "<b>Topic 9</b><br>Words: menschen, flüchtlinge, chemnitz, deutschland, grenze",
          "<b>Topic 9</b><br>Words: flüchtlinge, menschen, deutschland, grenze, migranten"
         ],
         "marker": {
          "color": "#009E73"
         },
         "name": "9_flüchtlinge_menschen_grenze_deutschlan...",
         "orientation": "h",
         "type": "bar",
         "visible": "legendonly",
         "x": [
          35,
          3,
          11,
          50,
          221,
          13,
          8,
          17,
          11,
          3,
          4,
          71,
          4,
          2,
          1,
          6,
          174,
          12,
          16,
          154,
          1,
          30,
          206
         ],
         "y": [
          "COMPACTTV",
          "stern TV",
          "NZZ Neue Zürcher Zeitung",
          "ZDFheute Nachrichten",
          "WELT",
          "taz",
          "tagesschau",
          "Junge Freiheit",
          "ZEIT ONLINE",
          "ZDF",
          "NachDenkSeiten",
          "Bayerischer Rundfunk",
          "Süddeutsche Zeitung",
          "Der Tagesspiegel",
          "junge Welt",
          "ZDFinfo Dokus & Reportagen",
          "faz",
          "ARD",
          "FOCUS Online",
          "BILD",
          "RTL",
          "ntv Nachrichten",
          "DER SPIEGEL"
         ]
        }
       ],
       "layout": {
        "height": 900,
        "hoverlabel": {
         "bgcolor": "white",
         "font": {
          "family": "Rockwell",
          "size": 16
         }
        },
        "legend": {
         "title": {
          "text": "<b>Global Topic Representation"
         }
        },
        "template": {
         "data": {
          "bar": [
           {
            "error_x": {
             "color": "rgb(36,36,36)"
            },
            "error_y": {
             "color": "rgb(36,36,36)"
            },
            "marker": {
             "line": {
              "color": "white",
              "width": 0.5
             },
             "pattern": {
              "fillmode": "overlay",
              "size": 10,
              "solidity": 0.2
             }
            },
            "type": "bar"
           }
          ],
          "barpolar": [
           {
            "marker": {
             "line": {
              "color": "white",
              "width": 0.5
             },
             "pattern": {
              "fillmode": "overlay",
              "size": 10,
              "solidity": 0.2
             }
            },
            "type": "barpolar"
           }
          ],
          "carpet": [
           {
            "aaxis": {
             "endlinecolor": "rgb(36,36,36)",
             "gridcolor": "white",
             "linecolor": "white",
             "minorgridcolor": "white",
             "startlinecolor": "rgb(36,36,36)"
            },
            "baxis": {
             "endlinecolor": "rgb(36,36,36)",
             "gridcolor": "white",
             "linecolor": "white",
             "minorgridcolor": "white",
             "startlinecolor": "rgb(36,36,36)"
            },
            "type": "carpet"
           }
          ],
          "choropleth": [
           {
            "colorbar": {
             "outlinewidth": 1,
             "tickcolor": "rgb(36,36,36)",
             "ticks": "outside"
            },
            "type": "choropleth"
           }
          ],
          "contour": [
           {
            "colorbar": {
             "outlinewidth": 1,
             "tickcolor": "rgb(36,36,36)",
             "ticks": "outside"
            },
            "colorscale": [
             [
              0,
              "#440154"
             ],
             [
              0.1111111111111111,
              "#482878"
             ],
             [
              0.2222222222222222,
              "#3e4989"
             ],
             [
              0.3333333333333333,
              "#31688e"
             ],
             [
              0.4444444444444444,
              "#26828e"
             ],
             [
              0.5555555555555556,
              "#1f9e89"
             ],
             [
              0.6666666666666666,
              "#35b779"
             ],
             [
              0.7777777777777778,
              "#6ece58"
             ],
             [
              0.8888888888888888,
              "#b5de2b"
             ],
             [
              1,
              "#fde725"
             ]
            ],
            "type": "contour"
           }
          ],
          "contourcarpet": [
           {
            "colorbar": {
             "outlinewidth": 1,
             "tickcolor": "rgb(36,36,36)",
             "ticks": "outside"
            },
            "type": "contourcarpet"
           }
          ],
          "heatmap": [
           {
            "colorbar": {
             "outlinewidth": 1,
             "tickcolor": "rgb(36,36,36)",
             "ticks": "outside"
            },
            "colorscale": [
             [
              0,
              "#440154"
             ],
             [
              0.1111111111111111,
              "#482878"
             ],
             [
              0.2222222222222222,
              "#3e4989"
             ],
             [
              0.3333333333333333,
              "#31688e"
             ],
             [
              0.4444444444444444,
              "#26828e"
             ],
             [
              0.5555555555555556,
              "#1f9e89"
             ],
             [
              0.6666666666666666,
              "#35b779"
             ],
             [
              0.7777777777777778,
              "#6ece58"
             ],
             [
              0.8888888888888888,
              "#b5de2b"
             ],
             [
              1,
              "#fde725"
             ]
            ],
            "type": "heatmap"
           }
          ],
          "heatmapgl": [
           {
            "colorbar": {
             "outlinewidth": 1,
             "tickcolor": "rgb(36,36,36)",
             "ticks": "outside"
            },
            "colorscale": [
             [
              0,
              "#440154"
             ],
             [
              0.1111111111111111,
              "#482878"
             ],
             [
              0.2222222222222222,
              "#3e4989"
             ],
             [
              0.3333333333333333,
              "#31688e"
             ],
             [
              0.4444444444444444,
              "#26828e"
             ],
             [
              0.5555555555555556,
              "#1f9e89"
             ],
             [
              0.6666666666666666,
              "#35b779"
             ],
             [
              0.7777777777777778,
              "#6ece58"
             ],
             [
              0.8888888888888888,
              "#b5de2b"
             ],
             [
              1,
              "#fde725"
             ]
            ],
            "type": "heatmapgl"
           }
          ],
          "histogram": [
           {
            "marker": {
             "line": {
              "color": "white",
              "width": 0.6
             }
            },
            "type": "histogram"
           }
          ],
          "histogram2d": [
           {
            "colorbar": {
             "outlinewidth": 1,
             "tickcolor": "rgb(36,36,36)",
             "ticks": "outside"
            },
            "colorscale": [
             [
              0,
              "#440154"
             ],
             [
              0.1111111111111111,
              "#482878"
             ],
             [
              0.2222222222222222,
              "#3e4989"
             ],
             [
              0.3333333333333333,
              "#31688e"
             ],
             [
              0.4444444444444444,
              "#26828e"
             ],
             [
              0.5555555555555556,
              "#1f9e89"
             ],
             [
              0.6666666666666666,
              "#35b779"
             ],
             [
              0.7777777777777778,
              "#6ece58"
             ],
             [
              0.8888888888888888,
              "#b5de2b"
             ],
             [
              1,
              "#fde725"
             ]
            ],
            "type": "histogram2d"
           }
          ],
          "histogram2dcontour": [
           {
            "colorbar": {
             "outlinewidth": 1,
             "tickcolor": "rgb(36,36,36)",
             "ticks": "outside"
            },
            "colorscale": [
             [
              0,
              "#440154"
             ],
             [
              0.1111111111111111,
              "#482878"
             ],
             [
              0.2222222222222222,
              "#3e4989"
             ],
             [
              0.3333333333333333,
              "#31688e"
             ],
             [
              0.4444444444444444,
              "#26828e"
             ],
             [
              0.5555555555555556,
              "#1f9e89"
             ],
             [
              0.6666666666666666,
              "#35b779"
             ],
             [
              0.7777777777777778,
              "#6ece58"
             ],
             [
              0.8888888888888888,
              "#b5de2b"
             ],
             [
              1,
              "#fde725"
             ]
            ],
            "type": "histogram2dcontour"
           }
          ],
          "mesh3d": [
           {
            "colorbar": {
             "outlinewidth": 1,
             "tickcolor": "rgb(36,36,36)",
             "ticks": "outside"
            },
            "type": "mesh3d"
           }
          ],
          "parcoords": [
           {
            "line": {
             "colorbar": {
              "outlinewidth": 1,
              "tickcolor": "rgb(36,36,36)",
              "ticks": "outside"
             }
            },
            "type": "parcoords"
           }
          ],
          "pie": [
           {
            "automargin": true,
            "type": "pie"
           }
          ],
          "scatter": [
           {
            "marker": {
             "colorbar": {
              "outlinewidth": 1,
              "tickcolor": "rgb(36,36,36)",
              "ticks": "outside"
             }
            },
            "type": "scatter"
           }
          ],
          "scatter3d": [
           {
            "line": {
             "colorbar": {
              "outlinewidth": 1,
              "tickcolor": "rgb(36,36,36)",
              "ticks": "outside"
             }
            },
            "marker": {
             "colorbar": {
              "outlinewidth": 1,
              "tickcolor": "rgb(36,36,36)",
              "ticks": "outside"
             }
            },
            "type": "scatter3d"
           }
          ],
          "scattercarpet": [
           {
            "marker": {
             "colorbar": {
              "outlinewidth": 1,
              "tickcolor": "rgb(36,36,36)",
              "ticks": "outside"
             }
            },
            "type": "scattercarpet"
           }
          ],
          "scattergeo": [
           {
            "marker": {
             "colorbar": {
              "outlinewidth": 1,
              "tickcolor": "rgb(36,36,36)",
              "ticks": "outside"
             }
            },
            "type": "scattergeo"
           }
          ],
          "scattergl": [
           {
            "marker": {
             "colorbar": {
              "outlinewidth": 1,
              "tickcolor": "rgb(36,36,36)",
              "ticks": "outside"
             }
            },
            "type": "scattergl"
           }
          ],
          "scattermapbox": [
           {
            "marker": {
             "colorbar": {
              "outlinewidth": 1,
              "tickcolor": "rgb(36,36,36)",
              "ticks": "outside"
             }
            },
            "type": "scattermapbox"
           }
          ],
          "scatterpolar": [
           {
            "marker": {
             "colorbar": {
              "outlinewidth": 1,
              "tickcolor": "rgb(36,36,36)",
              "ticks": "outside"
             }
            },
            "type": "scatterpolar"
           }
          ],
          "scatterpolargl": [
           {
            "marker": {
             "colorbar": {
              "outlinewidth": 1,
              "tickcolor": "rgb(36,36,36)",
              "ticks": "outside"
             }
            },
            "type": "scatterpolargl"
           }
          ],
          "scatterternary": [
           {
            "marker": {
             "colorbar": {
              "outlinewidth": 1,
              "tickcolor": "rgb(36,36,36)",
              "ticks": "outside"
             }
            },
            "type": "scatterternary"
           }
          ],
          "surface": [
           {
            "colorbar": {
             "outlinewidth": 1,
             "tickcolor": "rgb(36,36,36)",
             "ticks": "outside"
            },
            "colorscale": [
             [
              0,
              "#440154"
             ],
             [
              0.1111111111111111,
              "#482878"
             ],
             [
              0.2222222222222222,
              "#3e4989"
             ],
             [
              0.3333333333333333,
              "#31688e"
             ],
             [
              0.4444444444444444,
              "#26828e"
             ],
             [
              0.5555555555555556,
              "#1f9e89"
             ],
             [
              0.6666666666666666,
              "#35b779"
             ],
             [
              0.7777777777777778,
              "#6ece58"
             ],
             [
              0.8888888888888888,
              "#b5de2b"
             ],
             [
              1,
              "#fde725"
             ]
            ],
            "type": "surface"
           }
          ],
          "table": [
           {
            "cells": {
             "fill": {
              "color": "rgb(237,237,237)"
             },
             "line": {
              "color": "white"
             }
            },
            "header": {
             "fill": {
              "color": "rgb(217,217,217)"
             },
             "line": {
              "color": "white"
             }
            },
            "type": "table"
           }
          ]
         },
         "layout": {
          "annotationdefaults": {
           "arrowhead": 0,
           "arrowwidth": 1
          },
          "autotypenumbers": "strict",
          "coloraxis": {
           "colorbar": {
            "outlinewidth": 1,
            "tickcolor": "rgb(36,36,36)",
            "ticks": "outside"
           }
          },
          "colorscale": {
           "diverging": [
            [
             0,
             "rgb(103,0,31)"
            ],
            [
             0.1,
             "rgb(178,24,43)"
            ],
            [
             0.2,
             "rgb(214,96,77)"
            ],
            [
             0.3,
             "rgb(244,165,130)"
            ],
            [
             0.4,
             "rgb(253,219,199)"
            ],
            [
             0.5,
             "rgb(247,247,247)"
            ],
            [
             0.6,
             "rgb(209,229,240)"
            ],
            [
             0.7,
             "rgb(146,197,222)"
            ],
            [
             0.8,
             "rgb(67,147,195)"
            ],
            [
             0.9,
             "rgb(33,102,172)"
            ],
            [
             1,
             "rgb(5,48,97)"
            ]
           ],
           "sequential": [
            [
             0,
             "#440154"
            ],
            [
             0.1111111111111111,
             "#482878"
            ],
            [
             0.2222222222222222,
             "#3e4989"
            ],
            [
             0.3333333333333333,
             "#31688e"
            ],
            [
             0.4444444444444444,
             "#26828e"
            ],
            [
             0.5555555555555556,
             "#1f9e89"
            ],
            [
             0.6666666666666666,
             "#35b779"
            ],
            [
             0.7777777777777778,
             "#6ece58"
            ],
            [
             0.8888888888888888,
             "#b5de2b"
            ],
            [
             1,
             "#fde725"
            ]
           ],
           "sequentialminus": [
            [
             0,
             "#440154"
            ],
            [
             0.1111111111111111,
             "#482878"
            ],
            [
             0.2222222222222222,
             "#3e4989"
            ],
            [
             0.3333333333333333,
             "#31688e"
            ],
            [
             0.4444444444444444,
             "#26828e"
            ],
            [
             0.5555555555555556,
             "#1f9e89"
            ],
            [
             0.6666666666666666,
             "#35b779"
            ],
            [
             0.7777777777777778,
             "#6ece58"
            ],
            [
             0.8888888888888888,
             "#b5de2b"
            ],
            [
             1,
             "#fde725"
            ]
           ]
          },
          "colorway": [
           "#1F77B4",
           "#FF7F0E",
           "#2CA02C",
           "#D62728",
           "#9467BD",
           "#8C564B",
           "#E377C2",
           "#7F7F7F",
           "#BCBD22",
           "#17BECF"
          ],
          "font": {
           "color": "rgb(36,36,36)"
          },
          "geo": {
           "bgcolor": "white",
           "lakecolor": "white",
           "landcolor": "white",
           "showlakes": true,
           "showland": true,
           "subunitcolor": "white"
          },
          "hoverlabel": {
           "align": "left"
          },
          "hovermode": "closest",
          "mapbox": {
           "style": "light"
          },
          "paper_bgcolor": "white",
          "plot_bgcolor": "white",
          "polar": {
           "angularaxis": {
            "gridcolor": "rgb(232,232,232)",
            "linecolor": "rgb(36,36,36)",
            "showgrid": false,
            "showline": true,
            "ticks": "outside"
           },
           "bgcolor": "white",
           "radialaxis": {
            "gridcolor": "rgb(232,232,232)",
            "linecolor": "rgb(36,36,36)",
            "showgrid": false,
            "showline": true,
            "ticks": "outside"
           }
          },
          "scene": {
           "xaxis": {
            "backgroundcolor": "white",
            "gridcolor": "rgb(232,232,232)",
            "gridwidth": 2,
            "linecolor": "rgb(36,36,36)",
            "showbackground": true,
            "showgrid": false,
            "showline": true,
            "ticks": "outside",
            "zeroline": false,
            "zerolinecolor": "rgb(36,36,36)"
           },
           "yaxis": {
            "backgroundcolor": "white",
            "gridcolor": "rgb(232,232,232)",
            "gridwidth": 2,
            "linecolor": "rgb(36,36,36)",
            "showbackground": true,
            "showgrid": false,
            "showline": true,
            "ticks": "outside",
            "zeroline": false,
            "zerolinecolor": "rgb(36,36,36)"
           },
           "zaxis": {
            "backgroundcolor": "white",
            "gridcolor": "rgb(232,232,232)",
            "gridwidth": 2,
            "linecolor": "rgb(36,36,36)",
            "showbackground": true,
            "showgrid": false,
            "showline": true,
            "ticks": "outside",
            "zeroline": false,
            "zerolinecolor": "rgb(36,36,36)"
           }
          },
          "shapedefaults": {
           "fillcolor": "black",
           "line": {
            "width": 0
           },
           "opacity": 0.3
          },
          "ternary": {
           "aaxis": {
            "gridcolor": "rgb(232,232,232)",
            "linecolor": "rgb(36,36,36)",
            "showgrid": false,
            "showline": true,
            "ticks": "outside"
           },
           "baxis": {
            "gridcolor": "rgb(232,232,232)",
            "linecolor": "rgb(36,36,36)",
            "showgrid": false,
            "showline": true,
            "ticks": "outside"
           },
           "bgcolor": "white",
           "caxis": {
            "gridcolor": "rgb(232,232,232)",
            "linecolor": "rgb(36,36,36)",
            "showgrid": false,
            "showline": true,
            "ticks": "outside"
           }
          },
          "title": {
           "x": 0.05
          },
          "xaxis": {
           "automargin": true,
           "gridcolor": "rgb(232,232,232)",
           "linecolor": "rgb(36,36,36)",
           "showgrid": false,
           "showline": true,
           "ticks": "outside",
           "title": {
            "standoff": 15
           },
           "zeroline": false,
           "zerolinecolor": "rgb(36,36,36)"
          },
          "yaxis": {
           "automargin": true,
           "gridcolor": "rgb(232,232,232)",
           "linecolor": "rgb(36,36,36)",
           "showgrid": false,
           "showline": true,
           "ticks": "outside",
           "title": {
            "standoff": 15
           },
           "zeroline": false,
           "zerolinecolor": "rgb(36,36,36)"
          }
         }
        },
        "title": {
         "font": {
          "color": "Black",
          "size": 22
         },
         "text": "<b>Topics per Class",
         "x": 0.4,
         "xanchor": "center",
         "y": 0.95,
         "yanchor": "top"
        },
        "width": 1250,
        "xaxis": {
         "showgrid": true,
         "title": {
          "text": "Frequency"
         }
        },
        "yaxis": {
         "showgrid": true,
         "title": {
          "text": "Class"
         }
        }
       }
      }
     },
     "metadata": {},
     "output_type": "display_data"
    }
   ],
   "source": [
    "topics_per_class = topic_model.topics_per_class(docs, topics, classes=df['medium'])\n",
    "topic_model.visualize_topics_per_class(topics_per_class)"
   ]
  },
  {
   "cell_type": "code",
   "execution_count": 14,
   "metadata": {},
   "outputs": [
    {
     "name": "stderr",
     "output_type": "stream",
     "text": [
      "2022-05-16 19:51:24,313 - BERTopic - Reduced number of topics from 73 to 36\n"
     ]
    }
   ],
   "source": [
    "new_topics, new_probs = topic_model.reduce_topics(docs, topics, nr_topics='auto')\n",
    "new_topic_info = topic_model.get_topic_info()"
   ]
  },
  {
   "cell_type": "code",
   "execution_count": 15,
   "metadata": {},
   "outputs": [
    {
     "data": {
      "text/html": [
       "<div>\n",
       "<style scoped>\n",
       "    .dataframe tbody tr th:only-of-type {\n",
       "        vertical-align: middle;\n",
       "    }\n",
       "\n",
       "    .dataframe tbody tr th {\n",
       "        vertical-align: top;\n",
       "    }\n",
       "\n",
       "    .dataframe thead th {\n",
       "        text-align: right;\n",
       "    }\n",
       "</style>\n",
       "<table border=\"1\" class=\"dataframe\">\n",
       "  <thead>\n",
       "    <tr style=\"text-align: right;\">\n",
       "      <th></th>\n",
       "      <th>Topic</th>\n",
       "      <th>Count</th>\n",
       "      <th>Name</th>\n",
       "    </tr>\n",
       "  </thead>\n",
       "  <tbody>\n",
       "    <tr>\n",
       "      <th>0</th>\n",
       "      <td>0</td>\n",
       "      <td>32979</td>\n",
       "      <td>0_ukraine_menschen_deutschland_russland</td>\n",
       "    </tr>\n",
       "    <tr>\n",
       "      <th>1</th>\n",
       "      <td>-1</td>\n",
       "      <td>29568</td>\n",
       "      <td>-1_menschen_deutschland_glaube_frage</td>\n",
       "    </tr>\n",
       "    <tr>\n",
       "      <th>2</th>\n",
       "      <td>1</td>\n",
       "      <td>2002</td>\n",
       "      <td>1_impfstoff_impfung_impfpflicht_impfen</td>\n",
       "    </tr>\n",
       "    <tr>\n",
       "      <th>3</th>\n",
       "      <td>2</td>\n",
       "      <td>1919</td>\n",
       "      <td>2_auto_autos_fahrer_fahren</td>\n",
       "    </tr>\n",
       "    <tr>\n",
       "      <th>4</th>\n",
       "      <td>3</td>\n",
       "      <td>1666</td>\n",
       "      <td>3_trump_donald_donald trump_biden</td>\n",
       "    </tr>\n",
       "    <tr>\n",
       "      <th>5</th>\n",
       "      <td>4</td>\n",
       "      <td>1048</td>\n",
       "      <td>4_co2_klima_klimaschutz_deutschland</td>\n",
       "    </tr>\n",
       "    <tr>\n",
       "      <th>6</th>\n",
       "      <td>5</td>\n",
       "      <td>948</td>\n",
       "      <td>5_flughafen_flugzeug_lufthansa_maschine</td>\n",
       "    </tr>\n",
       "    <tr>\n",
       "      <th>7</th>\n",
       "      <td>6</td>\n",
       "      <td>854</td>\n",
       "      <td>6_polizei_demonstranten_menschen_demonstration</td>\n",
       "    </tr>\n",
       "    <tr>\n",
       "      <th>8</th>\n",
       "      <td>7</td>\n",
       "      <td>665</td>\n",
       "      <td>7_taliban_afghanistan_kabul_menschen</td>\n",
       "    </tr>\n",
       "    <tr>\n",
       "      <th>9</th>\n",
       "      <td>8</td>\n",
       "      <td>660</td>\n",
       "      <td>8_patienten_menschen_ärzte_krankenhaus</td>\n",
       "    </tr>\n",
       "    <tr>\n",
       "      <th>10</th>\n",
       "      <td>9</td>\n",
       "      <td>502</td>\n",
       "      <td>9_israel_hamas_palästinenser_israelische</td>\n",
       "    </tr>\n",
       "    <tr>\n",
       "      <th>11</th>\n",
       "      <td>10</td>\n",
       "      <td>499</td>\n",
       "      <td>10_zitat_venezuela_maduro_regierung</td>\n",
       "    </tr>\n",
       "    <tr>\n",
       "      <th>12</th>\n",
       "      <td>11</td>\n",
       "      <td>447</td>\n",
       "      <td>11_kirche_papst_gutachten_kardinal</td>\n",
       "    </tr>\n",
       "    <tr>\n",
       "      <th>13</th>\n",
       "      <td>12</td>\n",
       "      <td>405</td>\n",
       "      <td>12_feuerwehr_feuer_brand_explosion</td>\n",
       "    </tr>\n",
       "    <tr>\n",
       "      <th>14</th>\n",
       "      <td>13</td>\n",
       "      <td>403</td>\n",
       "      <td>13_china_hongkong_chinesischen_chinesische</td>\n",
       "    </tr>\n",
       "    <tr>\n",
       "      <th>15</th>\n",
       "      <td>14</td>\n",
       "      <td>358</td>\n",
       "      <td>14_juden_antisemitismus_israel_deutschland</td>\n",
       "    </tr>\n",
       "    <tr>\n",
       "      <th>16</th>\n",
       "      <td>15</td>\n",
       "      <td>297</td>\n",
       "      <td>15_iphone_apple_gerät_smartphone</td>\n",
       "    </tr>\n",
       "    <tr>\n",
       "      <th>17</th>\n",
       "      <td>16</td>\n",
       "      <td>292</td>\n",
       "      <td>16_masken_maske_pflicht_masken pflicht</td>\n",
       "    </tr>\n",
       "    <tr>\n",
       "      <th>18</th>\n",
       "      <td>17</td>\n",
       "      <td>258</td>\n",
       "      <td>17_prinz_queen_harry_prinz philip</td>\n",
       "    </tr>\n",
       "    <tr>\n",
       "      <th>19</th>\n",
       "      <td>18</td>\n",
       "      <td>255</td>\n",
       "      <td>18_feuer_flammen_waldbrände_brände</td>\n",
       "    </tr>\n",
       "    <tr>\n",
       "      <th>20</th>\n",
       "      <td>19</td>\n",
       "      <td>236</td>\n",
       "      <td>19_nordkorea_kim_kim jong_jong</td>\n",
       "    </tr>\n",
       "    <tr>\n",
       "      <th>21</th>\n",
       "      <td>20</td>\n",
       "      <td>230</td>\n",
       "      <td>20_instagram_model_stars_place to</td>\n",
       "    </tr>\n",
       "    <tr>\n",
       "      <th>22</th>\n",
       "      <td>21</td>\n",
       "      <td>228</td>\n",
       "      <td>21_syrien_iran_us_irak</td>\n",
       "    </tr>\n",
       "    <tr>\n",
       "      <th>23</th>\n",
       "      <td>22</td>\n",
       "      <td>223</td>\n",
       "      <td>22_virus_china_corona_corona virus</td>\n",
       "    </tr>\n",
       "    <tr>\n",
       "      <th>24</th>\n",
       "      <td>23</td>\n",
       "      <td>220</td>\n",
       "      <td>23_türkei_erdogan_türkische_türkischen</td>\n",
       "    </tr>\n",
       "    <tr>\n",
       "      <th>25</th>\n",
       "      <td>24</td>\n",
       "      <td>212</td>\n",
       "      <td>24_film_filme_kino_hollywood</td>\n",
       "    </tr>\n",
       "    <tr>\n",
       "      <th>26</th>\n",
       "      <td>25</td>\n",
       "      <td>190</td>\n",
       "      <td>25_vulkan_lava_insel_la palma</td>\n",
       "    </tr>\n",
       "    <tr>\n",
       "      <th>27</th>\n",
       "      <td>26</td>\n",
       "      <td>167</td>\n",
       "      <td>26_facebook_unternehmen_zuckerberg_nutzer</td>\n",
       "    </tr>\n",
       "    <tr>\n",
       "      <th>28</th>\n",
       "      <td>27</td>\n",
       "      <td>165</td>\n",
       "      <td>27_libyen_menschen_regierung_demonstranten</td>\n",
       "    </tr>\n",
       "    <tr>\n",
       "      <th>29</th>\n",
       "      <td>28</td>\n",
       "      <td>125</td>\n",
       "      <td>28_neuinfektionen_schauen_000_zahlen</td>\n",
       "    </tr>\n",
       "    <tr>\n",
       "      <th>30</th>\n",
       "      <td>29</td>\n",
       "      <td>120</td>\n",
       "      <td>29_elefanten_panda_tiere_zoo</td>\n",
       "    </tr>\n",
       "    <tr>\n",
       "      <th>31</th>\n",
       "      <td>30</td>\n",
       "      <td>118</td>\n",
       "      <td>30_kokain_drogen_crystal_tonnen</td>\n",
       "    </tr>\n",
       "    <tr>\n",
       "      <th>32</th>\n",
       "      <td>31</td>\n",
       "      <td>117</td>\n",
       "      <td>31_ukraine_atomkraftwerk_putin_atomkraft</td>\n",
       "    </tr>\n",
       "    <tr>\n",
       "      <th>33</th>\n",
       "      <td>32</td>\n",
       "      <td>110</td>\n",
       "      <td>32_test_tests_testen_schnelltests</td>\n",
       "    </tr>\n",
       "    <tr>\n",
       "      <th>34</th>\n",
       "      <td>33</td>\n",
       "      <td>108</td>\n",
       "      <td>33_olympischen_spiele_china_tokio</td>\n",
       "    </tr>\n",
       "    <tr>\n",
       "      <th>35</th>\n",
       "      <td>34</td>\n",
       "      <td>107</td>\n",
       "      <td>34_roboter_computer_maschine_menschen</td>\n",
       "    </tr>\n",
       "  </tbody>\n",
       "</table>\n",
       "</div>"
      ],
      "text/plain": [
       "    Topic  Count                                            Name\n",
       "0       0  32979         0_ukraine_menschen_deutschland_russland\n",
       "1      -1  29568            -1_menschen_deutschland_glaube_frage\n",
       "2       1   2002          1_impfstoff_impfung_impfpflicht_impfen\n",
       "3       2   1919                      2_auto_autos_fahrer_fahren\n",
       "4       3   1666               3_trump_donald_donald trump_biden\n",
       "5       4   1048             4_co2_klima_klimaschutz_deutschland\n",
       "6       5    948         5_flughafen_flugzeug_lufthansa_maschine\n",
       "7       6    854  6_polizei_demonstranten_menschen_demonstration\n",
       "8       7    665            7_taliban_afghanistan_kabul_menschen\n",
       "9       8    660          8_patienten_menschen_ärzte_krankenhaus\n",
       "10      9    502        9_israel_hamas_palästinenser_israelische\n",
       "11     10    499             10_zitat_venezuela_maduro_regierung\n",
       "12     11    447              11_kirche_papst_gutachten_kardinal\n",
       "13     12    405              12_feuerwehr_feuer_brand_explosion\n",
       "14     13    403      13_china_hongkong_chinesischen_chinesische\n",
       "15     14    358      14_juden_antisemitismus_israel_deutschland\n",
       "16     15    297                15_iphone_apple_gerät_smartphone\n",
       "17     16    292          16_masken_maske_pflicht_masken pflicht\n",
       "18     17    258               17_prinz_queen_harry_prinz philip\n",
       "19     18    255              18_feuer_flammen_waldbrände_brände\n",
       "20     19    236                  19_nordkorea_kim_kim jong_jong\n",
       "21     20    230               20_instagram_model_stars_place to\n",
       "22     21    228                          21_syrien_iran_us_irak\n",
       "23     22    223              22_virus_china_corona_corona virus\n",
       "24     23    220          23_türkei_erdogan_türkische_türkischen\n",
       "25     24    212                    24_film_filme_kino_hollywood\n",
       "26     25    190                   25_vulkan_lava_insel_la palma\n",
       "27     26    167       26_facebook_unternehmen_zuckerberg_nutzer\n",
       "28     27    165      27_libyen_menschen_regierung_demonstranten\n",
       "29     28    125            28_neuinfektionen_schauen_000_zahlen\n",
       "30     29    120                    29_elefanten_panda_tiere_zoo\n",
       "31     30    118                 30_kokain_drogen_crystal_tonnen\n",
       "32     31    117        31_ukraine_atomkraftwerk_putin_atomkraft\n",
       "33     32    110               32_test_tests_testen_schnelltests\n",
       "34     33    108               33_olympischen_spiele_china_tokio\n",
       "35     34    107           34_roboter_computer_maschine_menschen"
      ]
     },
     "execution_count": 15,
     "metadata": {},
     "output_type": "execute_result"
    }
   ],
   "source": [
    "new_topic_info"
   ]
  }
 ],
 "metadata": {
  "interpreter": {
   "hash": "9ae7ae13804f56b6812076ff88d4c743516b7c995d69dd5984882be015e04ad2"
  },
  "kernelspec": {
   "display_name": "Python 3.9.10 ('base')",
   "language": "python",
   "name": "python3"
  },
  "language_info": {
   "codemirror_mode": {
    "name": "ipython",
    "version": 3
   },
   "file_extension": ".py",
   "mimetype": "text/x-python",
   "name": "python",
   "nbconvert_exporter": "python",
   "pygments_lexer": "ipython3",
   "version": "3.9.10"
  },
  "orig_nbformat": 4
 },
 "nbformat": 4,
 "nbformat_minor": 2
}
