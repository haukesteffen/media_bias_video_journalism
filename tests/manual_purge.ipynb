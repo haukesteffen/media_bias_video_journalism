{
 "cells": [
  {
   "cell_type": "code",
   "execution_count": 215,
   "metadata": {},
   "outputs": [],
   "source": [
    "blacklist = {}\n",
    "for i in range(-1,83):\n",
    "    blacklist[i] = []"
   ]
  },
  {
   "cell_type": "code",
   "execution_count": 216,
   "metadata": {},
   "outputs": [],
   "source": [
    "blacklist[7] = [\n",
    "    'herz',\n",
    "    'zitat',\n",
    "    'medien',\n",
    "    'millionen',\n",
    "    'afg',\n",
    "    'stunden',\n",
    "    'pakt',\n",
    "    'partei',\n",
    "    'linken',\n",
    "    'reporter',\n",
    "    'städte',\n",
    "    'aktuell',\n",
    "    'medica',\n",
    "    'buch',\n",
    "    'angaben',\n",
    "    'packt',\n",
    "    'linke',\n",
    "    'herr',\n",
    "    'grunde',\n",
    "    'halt',\n",
    "    'schauen',\n",
    "    'kilometer',\n",
    "    'live',\n",
    "    'afd',\n",
    "    'meinung',\n",
    "    'themen',\n",
    "    'täglich',\n",
    "    'cdu',\n",
    "    'grünen',\n",
    "    'reden',\n",
    "    'stichwort',\n",
    "    'zuhause',\n",
    "    'hause',\n",
    "    'peter',\n",
    "    'passiert',\n",
    "    'lief',\n",
    "    'kritik',\n",
    "    'autos',\n",
    "    'dienstag',\n",
    "    'montag',\n",
    "    'mittwoch',\n",
    "    'donnerstag',\n",
    "    'freitag',\n",
    "    'samstag',\n",
    "    'sonntag',\n",
    "    'unterwegs',\n",
    "    'moment',\n",
    "    'arbeit',\n",
    "    'gesprochen',\n",
    "    'erzählt',\n",
    "    'prozent',\n",
    "    'spd',\n",
    "    'begriff',\n",
    "    'stunde',\n",
    "    'wähler',\n",
    "    'politischen',\n",
    "    'fragen',\n",
    "    'praktisch',\n",
    "    'unterdessen',\n",
    "    'kritische',\n",
    "    'union',\n",
    "    'stimmung',\n",
    "    'getroffen',\n",
    "    'gelangen',\n",
    "    'matthias',\n",
    "    'lohn',\n",
    "    'dringend',\n",
    "    'martin',\n",
    "    'parteien',\n",
    "    'kollegen',\n",
    "    'wissen',\n",
    "    'falsch',\n",
    "    'gefühl',\n",
    "    'versuchen',\n",
    "    'minuten',\n",
    "    'ddr',\n",
    "    'satz',\n",
    "    'treffen',\n",
    "    'richtung',\n",
    "    'rein',\n",
    "    'nachrichten',\n",
    "    'zahl',\n",
    "    'nächsten',\n",
    "    'abend',\n",
    "    'reduzieren',\n",
    "    'weise',\n",
    "    'offene',\n",
    "    'hoffnung',\n",
    "    'artikel',\n",
    "    'entfernt',\n",
    "    'geschafft',\n",
    "    'woche',\n",
    "    'herzlichen',\n",
    "    'momentan',\n",
    "    'sogenannten',\n",
    "    'geschrieben',\n",
    "    'offenbar',\n",
    "    'news',\n",
    "    'kriegen',\n",
    "    'diskutieren',\n",
    "    'halte',\n",
    "    'antwort',\n",
    "    'erklärt',\n",
    "    'geschichten',\n",
    "    'video',\n",
    "    'stellen',\n",
    "    'kolleginnen',\n",
    "    'rolle',\n",
    "    'milliarden',\n",
    "    'idee',\n",
    "    'welt',\n",
    "    'schwer',\n",
    "    'scheint',\n",
    "    'interessante',\n",
    "    'bereit',\n",
    "    'gerne',\n",
    "    'müsse',\n",
    "    'punkt',\n",
    "    'raus',\n",
    "    'klingt',\n",
    "    'länger',\n",
    "    'diskussion',\n",
    "    'warten',\n",
    "    'position',\n",
    "    'öffentlich',\n",
    "    'offiziell',\n",
    "    'zustand',\n",
    "    'sendung',\n",
    "    'nähe',\n",
    "    'foto',\n",
    "    'gemeinsame',\n",
    "    'wählen',\n",
    "    'hoffen',\n",
    "    'sowas',\n",
    "    'kopf',\n",
    "    'fielen',\n",
    "    'grüne',\n",
    "    'anschauen',\n",
    "    'the',\n",
    "    'stimmt',\n",
    "    'mitte',\n",
    "    'vorstellung',\n",
    "    'erstmal',\n",
    "    'team',\n",
    "    'alternative',\n",
    "    'folge',\n",
    "    'gründe',\n",
    "    'gehört',\n",
    "    'deutlich',\n",
    "    'lebt',\n",
    "    'landtag',\n",
    "    'bekannten',\n",
    "    'entstehen',\n",
    "    'de',\n",
    "    'open',\n",
    "    'stark',\n",
    "    'fuß',\n",
    "    'million',\n",
    "    'private',\n",
    "    'interessant',\n",
    "    'praxis',\n",
    "    'anbieten',\n",
    "    'spielt',\n",
    "    'durchgesetzt',\n",
    "    'aufgabe',\n",
    "    'verstehen',\n",
    "    'hunderttausende',\n",
    "    'wesentlichen',\n",
    "    'einzigen',\n",
    "    'aktuelle',\n",
    "    'angeblich',\n",
    "    'lösung',\n",
    "    'kollegin',\n",
    "    'kenne',\n",
    "    'teilweise',\n",
    "    'einzige',\n",
    "    'zahlt',\n",
    "    'zeigen',\n",
    "    'hieß',\n",
    "    'relativ',\n",
    "    'beobachten',\n",
    "    'interview',\n",
    "    'andreas',\n",
    "    'interessen',\n",
    "    'projekt',\n",
    "    'absolut',\n",
    "    'naja',\n",
    "    'chancen',\n",
    "    'sogenannte',\n",
    "    'fälle',\n",
    "    'michael',\n",
    "    'viertel',\n",
    "    'kontext',\n",
    "    'einstellen',\n",
    "    'wahrscheinlich',\n",
    "    'herzlich',\n",
    "    'glück',\n",
    "    'vertreten',\n",
    "    'jahres',\n",
    "    'beschreibt',\n",
    "    'aktuellen',\n",
    "    'entwicklung',\n",
    "    'mach',\n",
    "    'fühlen',\n",
    "    'rechtlichen',\n",
    "    'zehntausende',\n",
    "    'vielmehr',\n",
    "    'kennen',\n",
    "    'fdp',\n",
    "    'befinden',\n",
    "    'ängste',\n",
    "    'ordnung',\n",
    "    'gewählt',\n",
    "    'zusammenarbeit',\n",
    "    'nachricht',\n",
    "    'wochenende',\n",
    "    'rüber',\n",
    "    'funktioniert',\n",
    "    'to',\n",
    "    'presse',\n",
    "    'zahlen',\n",
    "    'gelernt',\n",
    "    'hand',\n",
    "    'versteht',\n",
    "    'sicht',\n",
    "    'nachmittag',\n",
    "    'brot',\n",
    "    'geeinigt',\n",
    "    'verhalten',\n",
    "    'betont',\n",
    "    'selten',\n",
    "    'dingen',\n",
    "    'vorstellungen',\n",
    "    'hofft',\n",
    "    'gebraucht',\n",
    "    'positionen',\n",
    "    'hört',\n",
    "    'monate',\n",
    "    'mittlerweile',\n",
    "    'zeitung',\n",
    "    'betreibt',\n",
    "    'verstehe',\n",
    "    'vermisst',\n",
    "    'glücklich',\n",
    "    'tür',\n",
    "    'reist',\n",
    "    'widerspruch',\n",
    "    'verkaufen',\n",
    "    'verloren',\n",
    "    'schön',\n",
    "    'sätze',\n",
    "    'hinsicht',\n",
    "    'kennt',\n",
    "    'sorge',\n",
    "    'papier',\n",
    "    'umsetzung',\n",
    "    'herausforderung',\n",
    "    'menschen menschen',\n",
    "    'besagt',\n",
    "    'bedeutet',\n",
    "    'verlieren',\n",
    "    'erleben',\n",
    "    'höre',\n",
    "    'aufbauen',\n",
    "    'negativ',\n",
    "    'ard',\n",
    "    'besuch',\n",
    "    'heil',\n",
    "    'konzept',\n",
    "    'gesucht',\n",
    "    'nochmal',\n",
    "    'gemeinsamen',\n",
    "    'dauert',\n",
    "    'maria',\n",
    "    'verpflichtet',\n",
    "    'ältere',\n",
    "    'extra',\n",
    "    'hoffe',\n",
    "    'interesse',\n",
    "    'wahl',\n",
    "    'jahrelang',\n",
    "    'verschiedenen',\n",
    "    'sitzen',\n",
    "    'geboren',\n",
    "    'wahnsinnig',\n",
    "    'zb',\n",
    "    'schönen',\n",
    "    'meter',\n",
    "    'redet',\n",
    "    'unternehmen',\n",
    "    'aspekt',\n",
    "    'kritisch',\n",
    "    'schnelle',\n",
    "    'einsetzen',\n",
    "    'aussage',\n",
    "    'wahrheit',\n",
    "    'wut',\n",
    "    'offiziellen',\n",
    "    'erinnern',\n",
    "    'stetig',\n",
    "    'namen',\n",
    "    'positive',\n",
    "    'schief',\n",
    "    'ignoriert',\n",
    "    'wütend',\n",
    "    'journalisten',\n",
    "    'denkt',\n",
    "    'falle',\n",
    "    'näher',\n",
    "    'fraktion',\n",
    "    'sorgen',\n",
    "    'stärker',\n",
    "    'könne',\n",
    "    'ehemaligen',\n",
    "    'negativen',\n",
    "    'verändern',\n",
    "    'traum',\n",
    "    'theorie',\n",
    "    'verletzt',\n",
    "    'gegenteil',\n",
    "    'hierher',\n",
    "    'zuvor',\n",
    "    'angebot',\n",
    "    'vorbereitet',\n",
    "    'liebe',\n",
    "    'stimme',\n",
    "    'verein',\n",
    "    'herzen',\n",
    "    'traurig',\n",
    "    'gemeinsames',\n",
    "    'verdacht',\n",
    "    'nahe',\n",
    "    'wünschen',\n",
    "    'angucken',\n",
    "    'beschäftigt',\n",
    "    'diskutiert',\n",
    "    'versucht',\n",
    "    'wort',\n",
    "    'gucken',\n",
    "    'morgens',\n",
    "    'stunde',\n",
    "    'führt',\n",
    "    'hass',\n",
    "    'liebsten',\n",
    "    'bereich',\n",
    "    'öffentlichen',\n",
    "    'beitrag',\n",
    "    'zweck',\n",
    "    'fest',\n",
    "    'josef',\n",
    "    'abspielt',\n",
    "    'wünsche',\n",
    "    'positiv',\n",
    "    'voll',\n",
    "    'ändern',\n",
    "    'pläne',\n",
    "    'ebene',\n",
    "    'forderung',\n",
    "    'spiel',\n",
    "    'aspekte',\n",
    "    'gelesen',\n",
    "    'zeigt',\n",
    "    'zynisch',\n",
    "    'aussagen',\n",
    "    'knapp',\n",
    "    'drama',\n",
    "    'person',\n",
    "    'lage',\n",
    "    'größte',\n",
    "    'entscheidung',\n",
    "    'redaktion',\n",
    "    'schaffen',\n",
    "    'kommenden',\n",
    "    'recherchen',\n",
    "    'sache',\n",
    "    'spätestens',\n",
    "    'zustimmung',\n",
    "    'bundes',\n",
    "    'behandelt',\n",
    "    'bewegt',\n",
    "    'okay',\n",
    "    'übers',\n",
    "    'frühjahr',\n",
    "    'rolle spielt',\n",
    "    'strukturen',\n",
    "    'mitglieder',\n",
    "    'gemeint',\n",
    "    'spitze',\n",
    "    'genauso',\n",
    "    'tour',\n",
    "    'vorsitzende',\n",
    "    'rasch',\n",
    "    'sanktionen',\n",
    "    'basis',\n",
    "    'ermöglicht',\n",
    "    'warnt',\n",
    "    'interessiert',\n",
    "    'patienten',\n",
    "    'vorstellen',\n",
    "    'investieren',\n",
    "    'sitzt',\n",
    "    'politikern',\n",
    "    'jahrzenten',\n",
    "    'unterschrieben',\n",
    "    'besondere',\n",
    "    'froh',\n",
    "    'vorschlag',\n",
    "    'rente',\n",
    "    'sag',\n",
    "    'druck',\n",
    "    'laufen',\n",
    "    'trotz',\n",
    "    'freue',\n",
    "    'wahnsinn',\n",
    "    'entsteht',\n",
    "    'konkurrenz',\n",
    "    'geschickt',\n",
    "    'kohl',\n",
    "    'riesige',\n",
    "    'feiern',\n",
    "    'komplett',\n",
    "    'klagen',\n",
    "    'professor',\n",
    "    'ok',\n",
    "    'entscheidungen',\n",
    "    'partner',\n",
    "    'klappt',\n",
    "    'angeht',\n",
    "    'thomas',\n",
    "    'schlimme',\n",
    "    'fehler',\n",
    "    'kanzler',\n",
    "    'glauben',\n",
    "    'kaufen',\n",
    "    'fischer',\n",
    "    'gott',\n",
    "    'zuschauer',\n",
    "    'zweitens',\n",
    "    'anti',\n",
    "    'denke',\n",
    "    'egal',\n",
    "    'gespräch',\n",
    "    'reicht',\n",
    "    'faktisch',\n",
    "    'nummer',\n",
    "    'absurd',\n",
    "    'lösen',\n",
    "    'rennen',\n",
    "    'stolz',\n",
    "    'fakten',\n",
    "    'steckt',\n",
    "    'aktiv',\n",
    "    'verhandelt',\n",
    "    'öffentliche',\n",
    "    'alternativen',\n",
    "    'demonstration',\n",
    "    'kurs',\n",
    "    'mitarbeiter',\n",
    "    'schlechte',\n",
    "    'gesamten',\n",
    "    'geredet',\n",
    "    'versuche',\n",
    "    'zusammenhang',\n",
    "    'trifft',\n",
    "    'kritischen',\n",
    "    'kontakt',\n",
    "    'abhängig',\n",
    "    'kritisiert',\n",
    "    'hölle',\n",
    "    'rede',\n",
    "    'markus',\n",
    "    'genutzt',\n",
    "    'suche',\n",
    "    'keller',\n",
    "    'kritisieren',\n",
    "    'kreuz',\n",
    "    'gefragt',\n",
    "    'formuliert',\n",
    "    'äußert',\n",
    "    'vollkommen',\n",
    "    'unglaublich',\n",
    "    'zentrale',\n",
    "    'warte',\n",
    "    'schätzungen',\n",
    "    'lasst',\n",
    "    'benötigt',\n",
    "    'erfolg',\n",
    "    'gelaufen',\n",
    "    'ansprechen',\n",
    "    'studenten',\n",
    "    'stärken',\n",
    "    'klassischen',\n",
    "    'beispiele',\n",
    "    'maßen',\n",
    "    'dame',\n",
    "    'problemen',\n",
    "    'abstand',\n",
    "    'feld',\n",
    "    'frank',\n",
    "    'reaktion',\n",
    "    'bestätigt',\n",
    "    'schritt',\n",
    "    'begriffe',\n",
    "    'dollar',\n",
    "    'chefs',\n",
    "    'geschlossen',\n",
    "    'passieren',\n",
    "    'ruhe',\n",
    "    'angesehen',\n",
    "    'geändert',\n",
    "    'schlüssel',\n",
    "    'sinn',\n",
    "    'erfährt',\n",
    "    'angekündigt',\n",
    "    'beste',\n",
    "    'genannt',\n",
    "    'holen',\n",
    "    'beklagt',\n",
    "    'ahnung',\n",
    "    'phänomen',\n",
    "    'beliebt',\n",
    "    'teils',\n",
    "    'genannten',\n",
    "    'analyse',\n",
    "    'müller',\n",
    "    'grad',\n",
    "    'kontakte',\n",
    "    'hinaus',\n",
    "    'erwähnt',\n",
    "    'betrifft',\n",
    "    'alexander',\n",
    "    'entdeckt',\n",
    "    'gedanken',\n",
    "    'betrieben',\n",
    "    'schneller',\n",
    "    'touristen',\n",
    "    'stimmen',\n",
    "    'netz',\n",
    "    'spannend',\n",
    "    'laden',\n",
    "    'jahrzehnte',\n",
    "    'klasse',\n",
    "    'aufgegriffen',\n",
    "    'fernsehen',\n",
    "    'zukunft',\n",
    "    'plan',\n",
    "    'monat',\n",
    "    'rücken',\n",
    "    'hören',\n",
    "    'strategie',\n",
    "    'wert',\n",
    "    'arzt',\n",
    "    'beschrieben',\n",
    "    'gelassen',\n",
    "    'tatsache',\n",
    "    'wirkt',\n",
    "    'gingen',\n",
    "    'standards',\n",
    "    'super',\n",
    "    'gerückt',\n",
    "    'nah',\n",
    "    'echt',\n",
    "    'amtszeit',\n",
    "    'aufmerksam',\n",
    "    'denken',\n",
    "    'gelöst',\n",
    "    'gelungen',\n",
    "    'sichtbar',\n",
    "    'ohnehin',\n",
    "    'eindeutig',\n",
    "    'angeguckt',\n",
    "    'betreut',\n",
    "    'angesprochen',\n",
    "    'entscheidet',\n",
    "    'nötig',\n",
    "    'demo',\n",
    "    'chef',\n",
    "    'telefon',\n",
    "    'punkte',\n",
    "    'erfahren',\n",
    "    'umgehen',\n",
    "    'verkauft',\n",
    "    'ressourcen',\n",
    "    'argument',\n",
    "    'weitergehen',\n",
    "    'erkenntnis',\n",
    "    'lässt',\n",
    "    'augenblick',\n",
    "    'bittet',\n",
    "    'ding',\n",
    "    'abgeordneten',\n",
    "    'verändert',\n",
    "    'dachten',\n",
    "    'film',\n",
    "    'dimension',\n",
    "    'zentralen',\n",
    "    'alt',\n",
    "    'geschaffen',\n",
    "    'schöne',\n",
    "    'ändert',\n",
    "    'parallel',\n",
    "    'bringt',\n",
    "    'bedeutung',\n",
    "    'lustig',\n",
    "    'besucht',\n",
    "    'brief',\n",
    "    'facebook',\n",
    "    'nachdenken',\n",
    "    'herrn',\n",
    "    'null',\n",
    "    'aufs',\n",
    "    'gesetzt',\n",
    "    'gespielt',\n",
    "    'stecken',\n",
    "    'möglichkeit',\n",
    "    'erklären',\n",
    "    'verdienen',\n",
    "    'anteil',\n",
    "    'schreibt',\n",
    "    'rechnen',\n",
    "    'kalt',\n",
    "    'sender',\n",
    "    'unterschiedliche',\n",
    "    'sammeln',\n",
    "    'ernst',\n",
    "    'unabhängig',\n",
    "    'unterschiedlich',\n",
    "    'umfragen',\n",
    "    'kamera',\n",
    "    'sinne',\n",
    "    'reguläre',\n",
    "    'gedreht',\n",
    "    'alten',\n",
    "    'spät',\n",
    "    'jüngste',\n",
    "    'großteil',\n",
    "    'mail',\n",
    "    'kälte',\n",
    "    'gegenwart',\n",
    "    'aussieht',\n",
    "    'schockiert',\n",
    "    'beschlossen',\n",
    "    'überblick',\n",
    "    'summe',\n",
    "    'wunsch',\n",
    "    'wichtiges',\n",
    "    'jederzeit',\n",
    "    'parteitag',\n",
    "    'verfügung',\n",
    "    'bezeichnen',\n",
    "    'worte',\n",
    "    'erleichtert',\n",
    "    'droht',\n",
    "    'christian',\n",
    "    'dr',\n",
    "    'gelingt',\n",
    "    'größeren',\n",
    "    'prinzip',\n",
    "    'schreckliche',\n",
    "    'fährt',\n",
    "    'forderungen',\n",
    "    'diskussionen',\n",
    "    'rat',\n",
    "    'behauptet',\n",
    "    'wirken',\n",
    "    'hohen',\n",
    "    'thematik',\n",
    "    'ehemalige',\n",
    "    'draußen',\n",
    "    'aufhalten',\n",
    "    'streiten',\n",
    "    'ausgehen',\n",
    "    'eingehalten',\n",
    "    'gegründet',\n",
    "    'quote',\n",
    "    'ergebnis',\n",
    "    'verstanden',\n",
    "    'rechtlich',\n",
    "    'vorschläge',\n",
    "    'bekommt',\n",
    "    'weist',\n",
    "    'berührt',\n",
    "    'name',\n",
    "    'aufgaben',\n",
    "    'sprecher',\n",
    "    'entstanden',\n",
    "    'langen',\n",
    "    'sitzung',\n",
    "    'geführt',\n",
    "    'gegangen',\n",
    "    'nennen',\n",
    "    'kurzen',\n",
    "    'behandeln',\n",
    "    'ergebnisse',\n",
    "    'hals',\n",
    "    'schlag',\n",
    "    'schönes',\n",
    "    'verschärft',\n",
    "    'schultern',\n",
    "    'abends',\n",
    "    'urlaub',\n",
    "    'aktion',\n",
    "    'politischer',\n",
    "    'freundin',\n",
    "    'stattfindet',\n",
    "    'maximal',\n",
    "    'gelegt',\n",
    "    'lisa',\n",
    "    'ernsthaft',\n",
    "    'schlimmer',\n",
    "    'angebote',\n",
    "    'bezogen',\n",
    "    'luft',\n",
    "    'vergangenheit',\n",
    "    'mitgenommen',\n",
    "    'angeles',\n",
    "    'hinzu',\n",
    "    'differenziert',\n",
    "    'arm',\n",
    "    'gering',\n",
    "    'mitarbeitern',\n",
    "    'riesen',\n",
    "    'gehandelt',\n",
    "    'aussehen',\n",
    "    'mehrmals',\n",
    "    'falsche',\n",
    "    'hintergrund',\n",
    "    'auseinander',\n",
    "    'automatisch',\n",
    "    'pflicht',\n",
    "    'größtenteils',\n",
    "    'entspannt',\n",
    "    'beurteilen',\n",
    "    'stattfinden',\n",
    "    'bitten',\n",
    "    'vorgehen',\n",
    "    'schade',\n",
    "    'trat',\n",
    "    'beantworten',\n",
    "    'antworten',\n",
    "    'gefordert',\n",
    "    'bau',\n",
    "    'details',\n",
    "    'spontan',\n",
    "    'herrscht',\n",
    "    'verschiedene',\n",
    "    'mitbekommen',\n",
    "    'gezielt',\n",
    "    'verzweifelt',\n",
    "    'wenigen',\n",
    "    'beginn',\n",
    "    'angesichts',\n",
    "    'lohnt',\n",
    "    'wirft',\n",
    "    'begegnen',\n",
    "    'twitter',\n",
    "    'starke',\n",
    "    'wirkung',\n",
    "    'wirksam',\n",
    "    'leistung',\n",
    "    'gespräche',\n",
    "    'positiven',\n",
    "    'entscheidende',\n",
    "    'sachen',\n",
    "    'umgekehrt',\n",
    "    'sport',\n",
    "    'privaten',\n",
    "    'vision',\n",
    "    'erstens',\n",
    "    'jeweils',\n",
    "    'stellte',\n",
    "    'meint',\n",
    "    'auffällig',\n",
    "    'blick',\n",
    "    'auftrag',\n",
    "    'effekt',\n",
    "    'denjenigen',\n",
    "    'innere',\n",
    "    'vorhaben',\n",
    "    'alltag',\n",
    "    'rand',\n",
    "    'gedacht',\n",
    "    'einfache',\n",
    "    'mitmachen',\n",
    "    'bank',\n",
    "    'material',\n",
    "    'erklärte',\n",
    "    'form',\n",
    "    'ruft',\n",
    "    'wusste',\n",
    "    'strom',\n",
    "    'nachvollziehbar',\n",
    "    'fehlt',\n",
    "    'leib',\n",
    "    'hingewiesen',\n",
    "    'bereichen',\n",
    "    'willen',\n",
    "    'übernehmen',\n",
    "    'landwirtschaft',\n",
    "    'rest',\n",
    "    'saßen',\n",
    "    'halben',\n",
    "    'überzeugung',\n",
    "    'ausgeben',\n",
    "    'aufruf',\n",
    "    'ausdruck',\n",
    "    'nächstes',\n",
    "    'freuen',\n",
    "    'anliegen',\n",
    "    'halbe',\n",
    "    'teilt',\n",
    "    'wichtigste',\n",
    "    'reform',\n",
    "    'produziert',\n",
    "    'merken',\n",
    "    'kräfte',\n",
    "    'anlass',\n",
    "    'zeichen',\n",
    "    'größere',\n",
    "    'erklärung',\n",
    "    'unklar',\n",
    "    'tagesordnung',\n",
    "    'berg',\n",
    "    'bewegung',\n",
    "    'leiden',\n",
    "    'ordentlich',\n",
    "    'eng',\n",
    "    'runde',\n",
    "    'wussten',\n",
    "    'de facto',\n",
    "    'dient',\n",
    "    'tätig',\n",
    "    'gezeigt',\n",
    "    'überlegen',\n",
    "    'wirklichkeit',\n",
    "    'einstellung',\n",
    "    'überwiegend',\n",
    "    'argumentation',\n",
    "    'beobachter',\n",
    "    'heißen',\n",
    "    'argumente',\n",
    "    'mehreren',\n",
    "    'lieben',\n",
    "    'kriterien',\n",
    "    'orten',\n",
    "    'nennt',\n",
    "    'raum',\n",
    "    'zuge',\n",
    "    'umständen',\n",
    "    'wohnt',\n",
    "    'erkennen',\n",
    "    'bezug',\n",
    "    'lehnen',\n",
    "    'reihen',\n",
    "    'massiven',\n",
    "    'konsens',\n",
    "    'läuft',\n",
    "    'kern',\n",
    "    'abschluss',\n",
    "    'haltung',\n",
    "    'gestellt',\n",
    "    'feststellen',\n",
    "    'fahre',\n",
    "    'betroffen',\n",
    "    'beigetragen',\n",
    "    'wende',\n",
    "    'prüfen',\n",
    "    'gewusst',\n",
    "    'fassen',\n",
    "    'wesentlich',\n",
    "    'widersprechen',\n",
    "    'zügig',\n",
    "    'erfüllen',\n",
    "    'diverse',\n",
    "    'wiederholen',\n",
    "    'abwarten',\n",
    "    'tisch',\n",
    "    'wichtigen',\n",
    "    'gefunden',\n",
    "    'brauche',\n",
    "    'abholen',\n",
    "    'seitens',\n",
    "    'starten',\n",
    "    'köpfe',\n",
    "    'zweimal',\n",
    "    'dauern',\n",
    "    'aufgebaut',\n",
    "    'erachtens',\n",
    "    'schwieriger',\n",
    "    'reihe',\n",
    "    'stelle',\n",
    "    'jetzigen',\n",
    "    'freund',\n",
    "    'alte',\n",
    "    'wächst',\n",
    "    'verbinden',\n",
    "    'anstieg',\n",
    "    'menge',\n",
    "    'sparen',\n",
    "    'versuchten',\n",
    "    'male',\n",
    "    'verabschiedet',\n",
    "    'geäußert',\n",
    "    'einzelne',\n",
    "    'roten',\n",
    "    'konfrontiert',\n",
    "    'geleistet',\n",
    "    'monatelang',\n",
    "    'ruhig',\n",
    "    'enorm',\n",
    "    'genauer',\n",
    "    'informieren',\n",
    "    'gestartet',\n",
    "    'besprochen',\n",
    "    'zeitraum',\n",
    "    'selbstverständlich',\n",
    "    'verhältnis',\n",
    "    'weitergeht',\n",
    "    'of',\n",
    "    'fragt',\n",
    "    'melden',\n",
    "    'überprüft',\n",
    "    'verständnis',\n",
    "    'gehören',\n",
    "    'geschehen',\n",
    "    'hart',\n",
    "    'holz',\n",
    "    'auge',\n",
    "    'abstimmung',\n",
    "    'beantragt',\n",
    "    'zählt',\n",
    "    'cdu csu',\n",
    "    'verursacht',\n",
    "    'bildern',\n",
    "    'angehört',\n",
    "    'untersucht',\n",
    "    'meinungen',\n",
    "    'ausnahme',\n",
    "    'dramatischen',\n",
    "    'bedanken',\n",
    "    'verweigert',\n",
    "    'erleichtern',\n",
    "    'mitglied',\n",
    "    'organisationen',\n",
    "    'halbes',\n",
    "    'strich',\n",
    "    'masse',\n",
    "    'ausgesetzt',\n",
    "    'fühlt',\n",
    "    'hcr',\n",
    "    'schickt',\n",
    "    'kriegt',\n",
    "    'glaubt',\n",
    "    'echte',\n",
    "    'frage menschen',\n",
    "    'speziell',\n",
    "    'gescheitert',\n",
    "    'friedrich',\n",
    "    'beteiligt',\n",
    "    'st',\n",
    "    'option',\n",
    "    'ließ',\n",
    "    'ansatz',\n",
    "    'vermeintlich',\n",
    "    'ergibt',\n",
    "    'wirkliche',\n",
    "    'gewinnen',\n",
    "    'markt',\n",
    "    'jeweiligen',\n",
    "    'endet',\n",
    "    'extrem',\n",
    "    'zwingt',\n",
    "    'langer',\n",
    "    'vorgestellt',\n",
    "    'treiben',\n",
    "    'offizielle',\n",
    "    'oh',\n",
    "    'zeitpunkt',\n",
    "    'geraten',\n",
    "    'trinken',\n",
    "    'scheitert',\n",
    "    'modell',\n",
    "    'lautet',\n",
    "    'einzelnen',\n",
    "    'klassen',\n",
    "    'gestiegen',\n",
    "    'erlaubt',\n",
    "    'fällt',\n",
    "    'karten',\n",
    "    'stößt',\n",
    "    'böse',\n",
    "    'richtige',\n",
    "    'furchtbar',\n",
    "    'hälfte',\n",
    "    'abgeben',\n",
    "    'erscheint',\n",
    "    'daraufhin',\n",
    "    'boden',\n",
    "    'verhindert',\n",
    "    'notwendig',\n",
    "    'behandlung',\n",
    "    'hängt',\n",
    "    'anwendung',\n",
    "    'kirche',\n",
    "    'augen',\n",
    "    'zugesagt',\n",
    "    'erinnerung',\n",
    "    'erstmals',\n",
    "    'befindet',\n",
    "    'angegangen',\n",
    "    'phase',\n",
    "    'new',\n",
    "    'bewusst',\n",
    "    'erinnert',\n",
    "    'wetter',\n",
    "    'einverstanden',\n",
    "    'fallen',\n",
    "    'konferenz',\n",
    "    'regen',\n",
    "    'gelegenheit',\n",
    "    'tue',\n",
    "    'mühe',\n",
    "    'bricht',\n",
    "    'wiederholt',\n",
    "    'funktionieren',\n",
    "    'folgt',\n",
    "    'gelten',\n",
    "    'gebaut',\n",
    "    'teilnehmer',\n",
    "    'annahme',\n",
    "    'drittens',\n",
    "    'grundsätzlich',\n",
    "    'wunderbar',\n",
    "    'aufgestellt',\n",
    "    'erschreckend',\n",
    "    'darstellen',\n",
    "    'füßen',\n",
    "    'maßnahme',\n",
    "    'entscheidend',\n",
    "    'digitalisierung',\n",
    "    'versteckt',\n",
    "    'formulierung',\n",
    "    'entschieden',\n",
    "    'quellen',\n",
    "    'vorerst',\n",
    "    'übrigen',\n",
    "    'weitem',\n",
    "    'holt',\n",
    "    'gesicht',\n",
    "    'ausgegeben',\n",
    "    'schwierige',\n",
    "    'enormen',\n",
    "    'letzter',\n",
    "    'passt',\n",
    "    'eingestellt',\n",
    "    'berühmten',\n",
    "    'sinnvoll',\n",
    "    'entscheiden',\n",
    "    'entschlossen',\n",
    "    'aufeinander',\n",
    "    'berichte',\n",
    "    'bedroht',\n",
    "    'ulrich',\n",
    "    'tragödie',\n",
    "    'behaupten',\n",
    "    'dramatisch',\n",
    "    'aufgehoben',\n",
    "    'mischung',\n",
    "    'spüren',\n",
    "    'tagelang',\n",
    "    'erkennbar',\n",
    "    'vermeiden',\n",
    "    'normalen',\n",
    "    'dienst',\n",
    "    'umgesetzt',\n",
    "    'koordiniert',\n",
    "    'beiträge',\n",
    "    'wahrscheinlichkeit',\n",
    "    'erzählen',\n",
    "    'festgestellt',\n",
    "    'worten',\n",
    "    'bemühen',\n",
    "    'dachte',\n",
    "    'überrascht',\n",
    "    'beine',\n",
    "    'szene',\n",
    "    'alter',\n",
    "    'drittel',\n",
    "    'schlechten',\n",
    "    'zurzeit',\n",
    "    'verantwortlich',\n",
    "    'sinken',\n",
    "    'verantworten',\n",
    "    'wichtigsten',\n",
    "    'schafft',\n",
    "    'fangen',\n",
    "    'last',\n",
    "    'käme',\n",
    "    'nahezu',\n",
    "    'anschließend',\n",
    "]"
   ]
  },
  {
   "cell_type": "code",
   "execution_count": 217,
   "metadata": {},
   "outputs": [],
   "source": [
    "blacklist[2] = [\n",
    "    'zitat',\n",
    "    'video',\n",
    "    'live',\n",
    "    'frank',\n",
    "    'christian',\n",
    "    'bilder',\n",
    "    'abend',\n",
    "    'medien',\n",
    "    'unternehmen',\n",
    "    'daniel',\n",
    "    'familie',\n",
    "    'schauen',\n",
    "    'damen herren',\n",
    "    'offenbar',\n",
    "    'schalten',\n",
    "    'nachrichten',\n",
    "    'naja',\n",
    "    'buch',\n",
    "    'dankeschön',\n",
    "    'sache',\n",
    "    'aktuell',\n",
    "    'schau',\n",
    "    'interessant',\n",
    "    'peter',\n",
    "    'minuten',\n",
    "    'grunde',\n",
    "    'johannes',\n",
    "    'deutlich',\n",
    "    'unterwegs',\n",
    "    'martin',\n",
    "    'jörg',\n",
    "    'artikel',\n",
    "    'gesprochen',\n",
    "    'momentan',\n",
    "    'beate',\n",
    "    'julian',\n",
    "    'zuvor',\n",
    "    'zahlen',\n",
    "    'sitzt',\n",
    "    'interessante',\n",
    "    'echt',\n",
    "    'herbert',\n",
    "    'willi',\n",
    "    'raus',\n",
    "    'bereich',\n",
    "    'spur',\n",
    "    'george',\n",
    "    'relativ',\n",
    "    'andreas',\n",
    "    'meter',\n",
    "    'to',\n",
    "    'tausende',\n",
    "    'geschrieben',\n",
    "    'sachen',\n",
    "    'nachmittag',\n",
    "    'zahl',\n",
    "    'freund',\n",
    "    'ernst',\n",
    "    'okay',\n",
    "    'gefunden',\n",
    "    'the',\n",
    "    'ok',\n",
    "    'hof',\n",
    "    'erzählt',\n",
    "    'weißt',\n",
    "    'dingen',\n",
    "    'sendung',\n",
    "    'regeln',\n",
    "    'angeblich',\n",
    "    'warnt',\n",
    "    'weise',\n",
    "    'recherche',\n",
    "    'youtube',\n",
    "    'angesprochen',\n",
    "    'kreis',\n",
    "    'inhalte',\n",
    "    'parteien',\n",
    "    'studie',\n",
    "    'bundestag',\n",
    "    'montag',\n",
    "    'dienstag',\n",
    "    'mittwoch',\n",
    "    'donnerstag',\n",
    "    'freitag',\n",
    "    'samstag',\n",
    "    'sonntag',\n",
    "    'teilt',\n",
    "    'arbeitet',\n",
    "    'angesichts',\n",
    "    'hieß',\n",
    "    'jan',\n",
    "    'dorf',\n",
    "    'sport',\n",
    "    'interessanterweise',\n",
    "    'krone',\n",
    "    'vereinigten',\n",
    "    'sogenannten',\n",
    "    'wochenende',\n",
    "    'alt',\n",
    "    'hans',\n",
    "    'aktuelle',\n",
    "    'stefan',\n",
    "    'videos',\n",
    "    'dame',\n",
    "    'michael',\n",
    "    'lage',\n",
    "    'handelt',\n",
    "    'spd',\n",
    "    'afd',\n",
    "    'afg',\n",
    "    'zeigt',\n",
    "    'stimmt',\n",
    "    'sag',\n",
    "    'kriegen',\n",
    "    'themen',\n",
    "    'bundesländern',\n",
    "    'blicken',\n",
    "    'ebene',\n",
    "    'team',\n",
    "    'begleiten',\n",
    "    'sucht',\n",
    "    'freunde',\n",
    "    'vorhin',\n",
    "    'keller',\n",
    "    'gucken',\n",
    "    'erzählen',\n",
    "    'bauer',\n",
    "    'herzlich',\n",
    "    'fahren',\n",
    "    'gerufen',\n",
    "    'bewertung',\n",
    "    'zunehmend',\n",
    "    'zeitungen',\n",
    "    'platz',\n",
    "    'autos',\n",
    "    'erklärte',\n",
    "    'stück',\n",
    "    'gelesen',\n",
    "    'boden',\n",
    "    'herzlich willkommen',\n",
    "    'grüne',\n",
    "    'matthias',\n",
    "    'begriff',\n",
    "    'erlebt',\n",
    "    'nächsten',\n",
    "    'tatsachen',\n",
    "    'aufgelöst',\n",
    "    'kamera',\n",
    "    'sebastian',\n",
    "    'kunst',\n",
    "    'film',\n",
    "    'karl',\n",
    "    'gemeinsam',\n",
    "    'fuß',\n",
    "    'museum',\n",
    "    'lebt',\n",
    "    'interview',\n",
    "    'willkommen',\n",
    "    'brief',\n",
    "    'idee',\n",
    "    'gemerkt',\n",
    "    'markus',\n",
    "    'super',\n",
    "    'zimmer',\n",
    "    'wesentlichen',\n",
    "    'helfen',\n",
    "    'praktisch',\n",
    "    'ablehnen',\n",
    "    'new',\n",
    "    'wichtigsten',\n",
    "    'form',\n",
    "    'kennt',\n",
    "    'abgespielt',\n",
    "    'rolle',\n",
    "    'hand',\n",
    "    'egal',\n",
    "    'früh',\n",
    "    'zeitung',\n",
    "    'zuschauer',\n",
    "    'rahmen',\n",
    "    'hause',\n",
    "    'hört',\n",
    "    'hände',\n",
    "    'essen',\n",
    "    'logik',\n",
    "    'einzelnen',\n",
    "    'zustände',\n",
    "    'schulen',\n",
    "    'unterschiedlichen',\n",
    "    'diesmal',\n",
    "    'handeln',\n",
    "    'telefon',\n",
    "    'tasche',\n",
    "    'bildern',\n",
    "    'material',\n",
    "    'ruhig',\n",
    "    'sabine',\n",
    "    'beziehungsweise',\n",
    "    'befinden',\n",
    "    'text',\n",
    "    'denken',\n",
    "    'serie',\n",
    "    'meinte',\n",
    "    'müller',\n",
    "    'informiert',\n",
    "    'verdienen',\n",
    "    'melden',\n",
    "    'sowas',\n",
    "    'formen',\n",
    "    'griff',\n",
    "    'blick',\n",
    "    'entschieden',\n",
    "    'sinnvoll',\n",
    "    'beschrieben',\n",
    "    'könne',\n",
    "    'druck',\n",
    "    'mund',\n",
    "    'andrea',\n",
    "    'interesse',\n",
    "    'bezug',\n",
    "    'guckt',\n",
    "    'möglichkeit',\n",
    "    'stunde',\n",
    "    'sorgen',\n",
    "    'gekriegt',\n",
    "    'aufzug',\n",
    "    'umgekehrt',\n",
    "    'treffen',\n",
    "    'gesicht',\n",
    "    'anführungszeichen',\n",
    "    'ruhe',\n",
    "    'foto',\n",
    "    'publikum',\n",
    "    'klären',\n",
    "    'draußen',\n",
    "    'sogenannte',\n",
    "    'warten',\n",
    "    'mittag',\n",
    "    'npd',\n",
    "    'jungs',\n",
    "    'instagram',\n",
    "    'job',\n",
    "    'vorstellbar',\n",
    "    'pflichten',\n",
    "    'schwierigen',\n",
    "    'bühne',\n",
    "    'bezahlt',\n",
    "    'reden',\n",
    "    'passieren',\n",
    "    'begleitet',\n",
    "    'täglich',\n",
    "    'zitiere',\n",
    "    'vertrauen',\n",
    "    'natur',\n",
    "    'namen',\n",
    "    'nähe',\n",
    "    'social media',\n",
    "    'lernt',\n",
    "    'fahrrad',\n",
    "    'jeweiligen',\n",
    "    'bedeutet',\n",
    "    'zitiert',\n",
    "    'schreibt',\n",
    "    'nummer',\n",
    "    'struktur',\n",
    "    'meinung',\n",
    "    'rufen',\n",
    "    'thomas',\n",
    "    'sagst',\n",
    "    'wusste',\n",
    "    'sekunden',\n",
    "    'zeitgleich',\n",
    "    'un',\n",
    "    'ahnung',\n",
    "    'hinaus',\n",
    "    'josef',\n",
    "    'freundin',\n",
    "    'chance',\n",
    "    'fördern',\n",
    "    'polizei polizei',\n",
    "    'bar',\n",
    "    'hohen',\n",
    "    'angeht',\n",
    "    'selten',\n",
    "    'geäußert',\n",
    "    'bestätigt',\n",
    "    'ex',\n",
    "    'wagen',\n",
    "    'stattfinden',\n",
    "    'hammer',\n",
    "    'kritische',\n",
    "    'fest',\n",
    "    'fake',\n",
    "    'gebe',\n",
    "    'prinzip',\n",
    "    'john',\n",
    "    'drittel',\n",
    "    'saßen',\n",
    "    'liebe',\n",
    "    'beruf',\n",
    "    'viertel',\n",
    "    'gedacht',\n",
    "    'rande',\n",
    "    'rechnen',\n",
    "    'übrigen',\n",
    "    'folgen',\n",
    "    'papier',\n",
    "    'spannend',\n",
    "    'umsetzung',\n",
    "    'linkspartei',\n",
    "    'nennt',\n",
    "    'david',\n",
    "    'angerufen',\n",
    "    'fallen',\n",
    "    'daraufhin',\n",
    "    'beziehung',\n",
    "    'facebook',\n",
    "    'raum',\n",
    "    'stellte',\n",
    "    'mehreren',\n",
    "    'erfahren',\n",
    "    'meint',\n",
    "    'büro',\n",
    "    'wächst',\n",
    "    'tätig',\n",
    "    'durchgeführt',\n",
    "    'winter',\n",
    "    'ralf',\n",
    "    'lisa',\n",
    "    'folge',\n",
    "    'betreut',\n",
    "    'de',\n",
    "    'partner',\n",
    "    'frühen',\n",
    "    'twitter',\n",
    "    'jahrelang',\n",
    "    'denkt',\n",
    "    'herbst',\n",
    "    'antwort',\n",
    "    'gingen',\n",
    "    'gehören',\n",
    "    'wenigen',\n",
    "    'fängt',\n",
    "    'durchzusetzen',\n",
    "    'gegangen',\n",
    "    'trainer',\n",
    "    'zaun',\n",
    "    'wohnt',\n",
    "    'komplett',\n",
    "    'öffentliche',\n",
    "    'plus',\n",
    "    'computer',\n",
    "    'last gelegt',\n",
    "    'wild',\n",
    "    'alter',\n",
    "    'verlassen',\n",
    "    'mark',\n",
    "    'firma',\n",
    "    'glaub',\n",
    "    'ärtze',\n",
    "    'schön',\n",
    "    'schritt',\n",
    "    'überwiegend',\n",
    "    'könig',\n",
    "    'rennen',\n",
    "    'leitet',\n",
    "    'fan',\n",
    "    'jahrhundert',\n",
    "    'auftrag',\n",
    "    'afrika',\n",
    "    'effektiv',\n",
    "    'stein',\n",
    "    'interessiert',\n",
    "    'plätze',\n",
    "    'wand',\n",
    "    'kindheit',\n",
    "    'verlässt',\n",
    "    'befindet',\n",
    "    'erfolg',\n",
    "    'schule',\n",
    "    'klingt',\n",
    "    'aussieht',\n",
    "    'termin',\n",
    "    'gestrigen',\n",
    "    'gemeldet',\n",
    "    'kümmern',\n",
    "    'prüfung',\n",
    "    'laufen',\n",
    "    'gespielt',\n",
    "    'vielmehr',\n",
    "    'haltung',\n",
    "    'petra',\n",
    "    'holen',\n",
    "    'fährt',\n",
    "    'dr',\n",
    "    'hose',\n",
    "    'dringend',\n",
    "    'kilometer',\n",
    "    'schneller',\n",
    "    'abwarten',\n",
    "    'spaß',\n",
    "    'teils',\n",
    "    'überlegt',\n",
    "    'wort',\n",
    "    'bemerkenswert',\n",
    "    'gelegt',\n",
    "    'gelernt',\n",
    "    'willen',\n",
    "    'ehemalige',\n",
    "    'spieler',\n",
    "    'erstens',\n",
    "    'nachvollziehbar',\n",
    "    'anrufe',\n",
    "    'versuchte',\n",
    "    'digitalen',\n",
    "    'knie',\n",
    "    'wasser',\n",
    "    'nachricht',\n",
    "    'ehemann',\n",
    "    'leiter',\n",
    "    'max',\n",
    "    'eventuell',\n",
    "    'beginnt',\n",
    "    'eingeführt',\n",
    "    'gesamten',\n",
    "    'lässt',\n",
    "    'stand',\n",
    "    'mitgenommen',\n",
    "    'erstattet',\n",
    "    'jeweils',\n",
    "    'bricht',\n",
    "    'verloren',\n",
    "    'anhand',\n",
    "    'fritz',\n",
    "    'jahres',\n",
    "    'christoph',\n",
    "    'registriert',\n",
    "    'uwe',\n",
    "    'tritt',\n",
    "    'stehe',\n",
    "    'anruf',\n",
    "    'wartet',\n",
    "    'fehlverhalten',\n",
    "    'dokumentation',\n",
    "    'wiener',\n",
    "    'wütend',\n",
    "    'bestätigen',\n",
    "    'roman',\n",
    "    'gefeiert',\n",
    "    'briefe',\n",
    "    'wunderbar',\n",
    "    'dicht',\n",
    "    'liefern',\n",
    "    'unbekannt',\n",
    "    'erhebliche',\n",
    "    'präsentiert',\n",
    "    'bank',\n",
    "    'normal',\n",
    "    'internen',\n",
    "    'otto',\n",
    "    'inneren',\n",
    "    'hauses',\n",
    "    'mieten',\n",
    "    'bücher',\n",
    "    'dreimal',\n",
    "    'unmut',\n",
    "    'reicht',\n",
    "    'alternative',\n",
    "    'schrecklich',\n",
    "    'fahrer',\n",
    "    'schönen'\n",
    "    'filmen',\n",
    "    'angucken',\n",
    "    'erhalt',\n",
    "    'wohnungen',\n",
    "    'monat',\n",
    "    'rasen',\n",
    "    'trinken',\n",
    "    'kennen',\n",
    "    'konzert',\n",
    "    'kanzlerin',\n",
    "    'geregelt',\n",
    "    'mails',\n",
    "    'gott',\n",
    "    'rüber',\n",
    "    'position',\n",
    "    'hygiene',\n",
    "    'gebiet',\n",
    "    'fdp',\n",
    "    'studiert',\n",
    "    'gelaufen',\n",
    "    'wahnsinn',\n",
    "    'unterstützen',\n",
    "    'fühlt',\n",
    "    'verzweiflung',\n",
    "    'initiativen',\n",
    "    'angeschaut',\n",
    "    'psychische',\n",
    "    'frühjahr',\n",
    "    'wirklichkeit',\n",
    "    'absolut',\n",
    "    'journalisten',\n",
    "    'erscheint',\n",
    "    'experten',\n",
    "    'shop',\n",
    "    'halte',\n",
    "    'spezial',\n",
    "    'besondere',\n",
    "    'problematisch',\n",
    "    'folgt',\n",
    "    'gelassen',\n",
    "    'aktuellen',\n",
    "    'bahn',\n",
    "    'inhaltlich',\n",
    "    'frieden',\n",
    "    'kollegin',\n",
    "    'sitzen',\n",
    "    'patienten',\n",
    "    'verschiedenen',\n",
    "    'auszugehen',\n",
    "    'arbeitgeber',\n",
    "    'kongress',\n",
    "    'verständnis',\n",
    "    'auskunft',\n",
    "    'verstanden',\n",
    "    'flughafen',\n",
    "    'verwendet',\n",
    "    'verschickt',\n",
    "    'karriere',\n",
    "    'mitmachen',\n",
    "    'spenden',\n",
    "    'panik',\n",
    "    'engagiert',\n",
    "    'risiko',\n",
    "    'cdu',\n",
    "    'saß',\n",
    "    'offiziell',\n",
    "    'enttäuschung',\n",
    "    'kurze',\n",
    "    'größe',\n",
    "    'wahlen',\n",
    "    'beispiele',\n",
    "    'verändert',\n",
    "    'begegnet',\n",
    "    'morgens',\n",
    "    'app',\n",
    "    'last',\n",
    "    'bestrebungen',\n",
    "    'lkw',\n",
    "    'entstehen',\n",
    "    'schlechte',\n",
    "    'arbeiter',\n",
    "    'fokus',\n",
    "    'massiven',\n",
    "    'meldungen',\n",
    "    'bekommt',\n",
    "    'aufgehoben',\n",
    "    'durchgesetzt',\n",
    "    'trotz',\n",
    "    'erlassen',\n",
    "    'art weise',\n",
    "    'landtag',\n",
    "    'unterstützer',\n",
    "    'fahrzeuge',\n",
    "    'ausführlich',\n",
    "    'wussten',\n",
    "    'hören',\n",
    "    'unabhängige',\n",
    "    'sommer',\n",
    "    'umgang',\n",
    "    'ausgewertet',\n",
    "    'führen',\n",
    "    'unabhängig',\n",
    "    'beendet',\n",
    "    'verlangen',\n",
    "    'hunde',\n",
    "    'masse',\n",
    "    'fühlen',\n",
    "    'franz',\n",
    "    'teppich',\n",
    "    'auge',\n",
    "    'glaubt',\n",
    "    'holt',\n",
    "    'erwähnt',\n",
    "    'zeitpunkt',\n",
    "    'spielt',\n",
    "    'rechnet',\n",
    "    'beteiligen',\n",
    "    'verkaufen',\n",
    "    'erklärt',\n",
    "    'lasst',\n",
    "    'herrn',\n",
    "    'beitrag',\n",
    "    'decke',\n",
    "    'vormittag',\n",
    "    'of',\n",
    "    'akku',\n",
    "    'hoffnung',\n",
    "    'meyer',\n",
    "    'mieter',\n",
    "    'kaufen',\n",
    "    'alltag',\n",
    "    'armut',\n",
    "    'straßen',\n",
    "    'zufällig',\n",
    "    'punkte',\n",
    "    'aufgewachsen',\n",
    "    'bergen',\n",
    "    'begründen',\n",
    "    'wetter',\n",
    "    'nix',\n",
    "    'entfernt',\n",
    "    'verantworten',\n",
    "    'gelingt',\n",
    "    'erfolgt',\n",
    "    'mut',\n",
    "    'weltweit',\n",
    "    'empfinde',\n",
    "    'menschlich',\n",
    "    'falscher',\n",
    "    'verbinden',\n",
    "    'bezeichnet',\n",
    "    'offizielle',\n",
    "    'agentur',\n",
    "    'kommentar',\n",
    "    'ehepaar',\n",
    "    'diskutieren',\n",
    "    'seitens',\n",
    "    'abgeschlossen',\n",
    "    'ließ',\n",
    "    'geräumt',\n",
    "    'arbeitsplatz',\n",
    "    'alexander',\n",
    "    'entspannt',\n",
    "    'existiert',\n",
    "    'gegründet',\n",
    "    'verstärkt',\n",
    "    'entwicklung',\n",
    "    'schöne',\n",
    "    'bekam',\n",
    "    'friedlicher',\n",
    "    'versprechen',\n",
    "    'schwerer',\n",
    "    'wesentlich',\n",
    "    'endet',\n",
    "    'direktor',\n",
    "    'bunt',\n",
    "    'traf',\n",
    "    'älter',\n",
    "    'gezeigt',\n",
    "    'krise',\n",
    "    'definiert',\n",
    "    'walter',\n",
    "    'sorgt',\n",
    "    'stark',\n",
    "    'mitnehmen',\n",
    "    'aufgestellt',\n",
    "    'blöd',\n",
    "    'hey',\n",
    "    'passt',\n",
    "    'ding',\n",
    "    'ecke',\n",
    "    'beschluss',\n",
    "    'versteckt',\n",
    "    'betreten',\n",
    "    'aktion',\n",
    "    'verwickelt',\n",
    "    'wahl',\n",
    "    'objekt',\n",
    "    'deutlicher',\n",
    "    'haustür',\n",
    "    'begrüßen',\n",
    "    'rest',\n",
    "    'dauer',\n",
    "    'todes',\n",
    "    'kannte',\n",
    "    'beschreiben',\n",
    "    'laufe',\n",
    "    'freut',\n",
    "    'echten',\n",
    "    'villa',\n",
    "    'angefasst',\n",
    "    'orte',\n",
    "    'zb',\n",
    "    'erwartet',\n",
    "    'ergebnisse',\n",
    "    'maßnahme',\n",
    "    'pflege',\n",
    "    'situationen',\n",
    "    'erleben',\n",
    "    'schlimmste',\n",
    "    'sinne',\n",
    "    'ausnahmen',\n",
    "    'helfer',\n",
    "    'ältere',\n",
    "    'freiwillig',\n",
    "    'hierher',\n",
    "    'ehemaligen',\n",
    "    'einrichtung',\n",
    "    'reale',\n",
    "    'geburtstag',\n",
    "    'rum',\n",
    "    'generell',\n",
    "    'brot',\n",
    "    'gesteckt',\n",
    "    'leid',\n",
    "    'übernimmt',\n",
    "    'füßen',\n",
    "    'hotel',\n",
    "    'theorie',\n",
    "    'geradezu',\n",
    "    'verstehe',\n",
    "    'auftakt',\n",
    "    'geschafft',\n",
    "    'vorschlag',\n",
    "    'bett',\n",
    "    'union',\n",
    "    'erfüllt',\n",
    "    'schluss',\n",
    "    'lohnt',\n",
    "    'lass',\n",
    "    'erfahrung',\n",
    "    'entsetzen',\n",
    "    'krank',\n",
    "    'nachdenken',\n",
    "    'verändern',\n",
    "    'furchtbar',\n",
    "    'gründen',\n",
    "    'thematisiert',\n",
    "    'besucht',\n",
    "    'erschienen',\n",
    "    'bezogen',\n",
    "    'internet',\n",
    "    'gründe',\n",
    "    'pause',\n",
    "    'kehrt',\n",
    "    'trauer',\n",
    "    'werte',\n",
    "    'umzusetzen',\n",
    "    'erfolgen',\n",
    "    'gespräche',\n",
    "    'el',\n",
    "    'bringt',\n",
    "    'voller',\n",
    "    'post',\n",
    "    'beamter',\n",
    "    'bewusst',\n",
    "    'rückt',\n",
    "    'friedlichen',\n",
    "    'anwendung',\n",
    "    'umstände',\n",
    "    'user',\n",
    "    'komisch',\n",
    "    'krass',\n",
    "    'balkon',\n",
    "    'hinweg',\n",
    "    'quatsch',\n",
    "    'erledigt',\n",
    "    'versagen',\n",
    "    'genauer',\n",
    "    'rainer',\n",
    "    'geld verdienen',\n",
    "    'zuständigen',\n",
    "    'grün',\n",
    "    'nachts',\n",
    "    'explizit',\n",
    "    'feld',\n",
    "    'geschlossen',\n",
    "    'dauert',\n",
    "    'mitgliedern',\n",
    "    'bauern',\n",
    "    'eingehen',\n",
    "    'anderthalb',\n",
    "    'camp',\n",
    "    'park',\n",
    "    'hauptsächlich',\n",
    "    'führt',\n",
    "    'jugend',\n",
    "    'unglaubliche',\n",
    "    'erkennen',\n",
    "    'kriegt',\n",
    "    'mitbekommen',\n",
    "    'größten',\n",
    "    'versteht',\n",
    "    'heißen',\n",
    "    'fakt',\n",
    "    'stoßen',\n",
    "    'dutzend',\n",
    "    'ausgesprochen',\n",
    "    'genutzt',\n",
    "    'politischer',\n",
    "    'internationale',\n",
    "    'debatten',\n",
    "    'ständig',\n",
    "    'these',\n",
    "    'kümmert',\n",
    "    'fotos',\n",
    "    'trend',\n",
    "    'früheren',\n",
    "    'potenziell',\n",
    "    'lautet',\n",
    "    'adresse',\n",
    "    'geschäft',\n",
    "    'schlafen',\n",
    "    'angemeldet',\n",
    "    'reichte',\n",
    "    'faust',\n",
    "    'lief',\n",
    "    'hinweisen',\n",
    "    'interessen',\n",
    "    'bus',\n",
    "    'name',\n",
    "    'ordentlich',\n",
    "    'anhängern',\n",
    "    'vertreter',\n",
    "    'endes',\n",
    "    'politisches',\n",
    "    'absurd',\n",
    "    'entwicklungen',\n",
    "    'vorliegen',\n",
    "    'welten',\n",
    "    'breite',\n",
    "    'amt',\n",
    "    'spiel',\n",
    "    'derweil',\n",
    "    'dachte',\n",
    "    'froh',\n",
    "    'stellt',\n",
    "    'hauptbahnhof',\n",
    "    'bewegen',\n",
    "    'unterschied',\n",
    "    'führte',\n",
    "    'kommenden',\n",
    "    'kosten',\n",
    "    'ablehnung',\n",
    "    'signal',\n",
    "    'aufgetaucht',\n",
    "    'fällt',\n",
    "    'einzige',\n",
    "    'bürgerlichen',\n",
    "    'kämpfen',\n",
    "    'verschiedene',\n",
    "    'inwieweit',\n",
    "    'stichwort',\n",
    "    'anliegen',\n",
    "    'greift',\n",
    "    'geworfen',\n",
    "    'rosa',\n",
    "    'csu',\n",
    "    'überzeugt',\n",
    "    'öffentlich',\n",
    "    'verbessern',\n",
    "    'police',\n",
    "    'späten',\n",
    "    'trifft',\n",
    "    'verkehr',\n",
    "    'schritte',\n",
    "    'untereinander',\n",
    "    'abstimmung',\n",
    "    'künstler',\n",
    "    'harte',\n",
    "    'vergangenheit',\n",
    "    'ressourcen',\n",
    "    'dankbar',\n",
    "    'erkennbar',\n",
    "    'kontrolliert',\n",
    "    'wirft',\n",
    "    'gegebenenfalls',\n",
    "    'umgebung',\n",
    "    'allermeisten',\n",
    "    'gucke',\n",
    "    'stufe',\n",
    "    'fazit',\n",
    "    'extra',\n",
    "    'klasse',\n",
    "    'aufsicht',\n",
    "    'symbol',\n",
    "    'erwarte',\n",
    "    'merkt',\n",
    "    'geguckt',\n",
    "    'erfährt',\n",
    "    'körper',\n",
    "    'rollstuhl',\n",
    "    'wolf',\n",
    "    'führerschein',\n",
    "    'kritisch',\n",
    "    'beschäftigen',\n",
    "    'finger',\n",
    "    'bereitet',\n",
    "    'ausgehen',\n",
    "    'satz',\n",
    "    'spannende',\n",
    "    'lehrer',\n",
    "    'siehst',\n",
    "    'trauen',\n",
    "    'gelten',\n",
    "    'häuser',\n",
    "    'kenne',\n",
    "    'kultur',\n",
    "    'nation',\n",
    "    'bittet',\n",
    "    'hoffen',\n",
    "    'hart',\n",
    "    'wichtige',\n",
    "    'verlauf',\n",
    "    'sorgte',\n",
    "    'brechen',\n",
    "    'erfahrungen',\n",
    "    'ausgeht',\n",
    "    'unbehelligt',\n",
    "    'freuen',\n",
    "    'halbe',\n",
    "    'versuche',\n",
    "    'fliegen',\n",
    "    'monaten',\n",
    "    'unterhalten',\n",
    "    'chor',\n",
    "    'geöffnet',\n",
    "    'aufgeregt',\n",
    "    'unglück',\n",
    "    'wald',\n",
    "    'kirche',\n",
    "    'zuständig',\n",
    "    'verbreiten',\n",
    "    'interviews',\n",
    "    'glauben',\n",
    "    'zähne',\n",
    "    'überlegen',\n",
    "    'nachgedacht',\n",
    "    'bäume',\n",
    "    'fußball',\n",
    "    'sitz',\n",
    "    'stören',\n",
    "    'osten',\n",
    "    'gemeint',\n",
    "    'private',\n",
    "    'vereinigung',\n",
    "    'schüler',\n",
    "    'anlässlich',\n",
    "    'zweieinhalb',\n",
    "    'funktion',\n",
    "    'umständen',\n",
    "    'wichtiger',\n",
    "    'redaktion',\n",
    "    'gezwungen',\n",
    "    'angst angst',\n",
    "    'wirkt',\n",
    "    'erstmals',\n",
    "    'anbietet',\n",
    "    'festgehalten',\n",
    "    'gewinnt',\n",
    "    'test',\n",
    "    'vorgesehen',\n",
    "    'kern',\n",
    "    'irgendwelchen',\n",
    "    'meldet',\n",
    "    'tipp',\n",
    "    'freilich',\n",
    "    'verstehen',\n",
    "    'treiben',\n",
    "    'behindert',\n",
    "    'genannt',\n",
    "    'zustimmung',\n",
    "    'grenzen',\n",
    "    'gesamte',\n",
    "    'sturm',\n",
    "    'geboren',\n",
    "    'anderswo',\n",
    "    'passen',\n",
    "    'falschen',\n",
    "    'holger',\n",
    "    'umstrittenen',\n",
    "    'training',\n",
    "    'massen',\n",
    "    'erklären',\n",
    "    'gitter',\n",
    "    'erfolgreich',\n",
    "    'fahrt',\n",
    "    'mehrzahl',\n",
    "    'lösen',\n",
    "    'hälfte',\n",
    "    'massive',\n",
    "    'müll',\n",
    "    'wohnen',\n",
    "    'aufmerksamkeit',\n",
    "    'vielfach',\n",
    "    'plakate',\n",
    "    'misstrauen',\n",
    "    'geschäftsführer',\n",
    "    'dokumente',\n",
    "    'sachlich',\n",
    "    'lehnt',\n",
    "    'zurzeit',\n",
    "    'atmosphäre',\n",
    "    'zivilen',\n",
    "    'gegenstand',\n",
    "    'beauftragt',\n",
    "    'taschen',\n",
    "    'ereignisse',\n",
    "    'roten',\n",
    "    'ausgesetzt',\n",
    "    'körperliche',\n",
    "    'worum',\n",
    "    'gerät',\n",
    "    'bedenken',\n",
    "    'gefordert',\n",
    "    'unterstützern',\n",
    "    'parkplatz',\n",
    "    'kämpft',\n",
    "    'maßen',\n",
    "    'unfassbar',\n",
    "    'sicht',\n",
    "    'nett',\n",
    "    'kompetenz',\n",
    "    'vermeintliche',\n",
    "    'kreisen',\n",
    "    'dauern',\n",
    "    'flächendeckend',\n",
    "    'systeme',\n",
    "    'nahmen',\n",
    "    'kommentiert',\n",
    "    'ändern',\n",
    "    'eingeschaltet',\n",
    "    'abgelaufen',\n",
    "    'touristen',\n",
    "    'weitergeht',\n",
    "    'lustig',\n",
    "    'karte',\n",
    "    'jagen',\n",
    "    'forschung',\n",
    "    'doktor',\n",
    "    'lasse',\n",
    "    'gerechnet',\n",
    "    'stimmen',\n",
    "    'rücken',\n",
    "    'haut',\n",
    "    'heftig',\n",
    "    'blatt',\n",
    "    'beobachter',\n",
    "    'nachfragen',\n",
    "    'laden',\n",
    "    'unsicherheit',\n",
    "    'präsenz',\n",
    "    'zwingend',\n",
    "    'verbindung',\n",
    "    'verein',\n",
    "    'seriös',\n",
    "    'kranke',\n",
    "    'grüße',\n",
    "    'ohnehin',\n",
    "    'ungerecht',\n",
    "    'fraktion',\n",
    "    'werbung',\n",
    "    'gäste',\n",
    "    'zuhause',\n",
    "    'anschauen',\n",
    "    'schwierigkeiten',\n",
    "    'falsche',\n",
    "    'kontakt',\n",
    "    'erlaubt',\n",
    "    'gedrückt',\n",
    "    'voraus',\n",
    "    'jährlich',\n",
    "    'erkrankt',\n",
    "    'einzelne',\n",
    "    'gestört',\n",
    "    'gefilmt',\n",
    "    'reisen',\n",
    "    'wert',\n",
    "    'lese',\n",
    "    'ließen',\n",
    "    'überrascht',\n",
    "    'verwenden',\n",
    "    'löste',\n",
    "    'telefoniert',\n",
    "    'erzählte',\n",
    "    'geführt',\n",
    "    'erstaunlich',\n",
    "    'lernen',\n",
    "    'ansicht',\n",
    "    'anschließend',\n",
    "    'immobilien',\n",
    "    'profil',\n",
    "    'sauer',\n",
    "    'geheim',\n",
    "    'regelrecht',\n",
    "    'worauf',\n",
    "    'aufgerufen',\n",
    "    'liegen',\n",
    "    'müsse',\n",
    "]"
   ]
  },
  {
   "cell_type": "code",
   "execution_count": 218,
   "metadata": {},
   "outputs": [],
   "source": [
    "ignore_warnings = True\n",
    "if ignore_warnings:\n",
    "    import warnings\n",
    "    warnings.filterwarnings(\"ignore\")"
   ]
  },
  {
   "cell_type": "code",
   "execution_count": 219,
   "metadata": {},
   "outputs": [],
   "source": [
    "\n",
    "from sklearn.feature_extraction.text import CountVectorizer\n",
    "from sklearn.preprocessing import StandardScaler\n",
    "from sklearn.decomposition import TruncatedSVD\n",
    "import pandas as pd\n",
    "import joblib\n",
    "import numpy as np\n",
    "\n",
    "political_spectrum_dict = {\n",
    "    'junge Welt':'left',\n",
    "    'NachDenkSeiten':'left',\n",
    "    'taz':'left leaning',\n",
    "    'Süddeutsche Zeitung':'center',\n",
    "    'stern TV':'left leaning',\n",
    "    'DER SPIEGEL':'left leaning',\n",
    "    'Der Tagesspiegel':'center',\n",
    "    'ARD':'center',\n",
    "    'ZDF':'center',\n",
    "    'ZDFheute Nachrichten':'center',\n",
    "    'Bayerischer Rundfunk':'center',\n",
    "    'ntv Nachrichten':'center',\n",
    "    'RTL':'right leaning',\n",
    "    'FOCUS Online':'right leaning',\n",
    "    'ZEIT ONLINE':'center',\n",
    "    'faz':'center',\n",
    "    'WELT':'center',\n",
    "    'BILD':'right leaning',\n",
    "    'NZZ Neue Zürcher Zeitung':'right leaning',\n",
    "    'Junge Freiheit':'right',\n",
    "    'COMPACTTV':'right'\n",
    "}\n",
    "\n",
    "media = [\n",
    "    'junge Welt',\n",
    "    \"NachDenkSeiten\",\n",
    "    'taz',\n",
    "    'Süddeutsche Zeitung',\n",
    "    'stern TV',\n",
    "    \"DER SPIEGEL\",\n",
    "    'Der Tagesspiegel',\n",
    "    'ARD',\n",
    "    'Tagesschau',\n",
    "    'ZDF',\n",
    "    \"ZDFheute Nachrichten\",\n",
    "    'Bayerischer Rundfunk',\n",
    "    'ntv Nachrichten',\n",
    "    'RTL',\n",
    "    'FOCUS Online',\n",
    "    'ZEIT ONLINE',\n",
    "    'faz',\n",
    "    'WELT',\n",
    "    \"BILD\",\n",
    "    'NZZ Neue Zürcher Zeitung',\n",
    "    \"Junge Freiheit\",\n",
    "    'COMPACTTV'\n",
    "]\n",
    "\n",
    "def define_print(verbose=True):\n",
    "    if verbose:\n",
    "        verboseprint = print\n",
    "    else:\n",
    "        verboseprint = lambda *args: None\n",
    "    return verboseprint\n",
    "\n",
    "\n",
    "def extract_topics(df, cv_model, lda_model, to_csv=True, verbose=True):\n",
    "    verboseprint = define_print(verbose=verbose)\n",
    "    df.dropna(inplace=True)\n",
    "\n",
    "    verboseprint(f\"getting topics for {df.shape[0]} videos...\")\n",
    "    lda = cv_model.transform(df[\"preprocessed\"].to_list())\n",
    "    lda = lda_model.transform(lda)\n",
    "    lda = pd.DataFrame(lda)\n",
    "    lda.rename(columns=topic_dict, inplace=True)\n",
    "    dominant_topic_list = [topic_dict[topic] for topic in np.argmax(lda.values, axis=1)]\n",
    "    dominant_topic_mask = np.max(lda.values, axis=1) < 0.3\n",
    "    lda[\"dominant topic\"] = dominant_topic_list\n",
    "    lda.loc[dominant_topic_mask, \"dominant topic\"] = \"None\"\n",
    "\n",
    "    # lda['dominant topic'] = lda.apply(lambda row: np.argmax(row.values) if np.max(row.values) > 0.3 else 'None')\n",
    "    lda[\"id\"] = df[\"id\"].to_list()\n",
    "\n",
    "    verboseprint(\"merging data...\")\n",
    "    df = df.merge(lda, how=\"outer\", on=\"id\")\n",
    "    if to_csv:\n",
    "        verboseprint(\"saving csv file...\")\n",
    "        df.to_csv(\"../data/labeled/\" + df[\"medium\"].iloc[0] + \"_labeled.csv\")\n",
    "    return df\n",
    "\n",
    "\n",
    "def sort_topics(dfs, to_csv=True, verbose=True):\n",
    "    verboseprint = define_print(verbose=verbose)\n",
    "    dfs_dict = {}\n",
    "\n",
    "    verboseprint(\"initializing dataframes...\")\n",
    "    for _, topic in topic_dict.items():\n",
    "        dfs_dict[topic] = pd.DataFrame()\n",
    "\n",
    "    dfs_dict[\"None\"] = pd.DataFrame()\n",
    "\n",
    "    verboseprint(f\"iterating through {len(dfs)} input dataframes...\")\n",
    "    for df in dfs:\n",
    "        verboseprint(\"sorting \" + df[\"medium\"].iloc[0] + \" dataframe by topic...\")\n",
    "        for _, topic in topic_dict.items():\n",
    "            dfs_dict[topic] = pd.concat(\n",
    "                [dfs_dict[topic], df[df[\"dominant topic\"] == topic]]\n",
    "            )\n",
    "        dfs_dict[\"None\"] = pd.concat(\n",
    "            [dfs_dict[\"None\"], df[df[\"dominant topic\"] == \"None\"]]\n",
    "        )\n",
    "\n",
    "    if to_csv:\n",
    "        verboseprint(\"saving csv files...\")\n",
    "        for _, topic in topic_dict.items():\n",
    "            dfs_dict[topic].to_csv(\"../data/sorted/\" + topic + \".csv\")\n",
    "        dfs_dict[\"None\"].to_csv(\"../data/sorted/None.csv\")\n",
    "\n",
    "    return dfs_dict\n",
    "\n",
    "\n",
    "def get_N_matrix(df, verbose=True, drop_subsumed=True, drop_medium_specific=True):\n",
    "    verboseprint = define_print(verbose=verbose)\n",
    "    MEDIA = media\n",
    "    cv = CountVectorizer(max_df=0.9, min_df=10, max_features=10000, ngram_range=(1, 3))\n",
    "    topic = df.iloc[0]['topic']\n",
    "    \n",
    "    #cv.fit(df[\"preprocessed\"])\n",
    "    verboseprint(\"restructuring dataframe with \" + str(len(df)) + \" transcripts...\")\n",
    "    df[\"preprocessed\"] = df[\"preprocessed\"] + \" \"\n",
    "    df = df[[\"medium\", \"preprocessed\", \"topic\"]]\n",
    "    df_grouped = df.groupby([\"medium\", \"topic\"]).sum()\n",
    "\n",
    "    df = pd.DataFrame(index=MEDIA, columns=[\"preprocessed\"])\n",
    "    empty_media = []\n",
    "    for medium in MEDIA:\n",
    "        try:\n",
    "            df.loc[medium] = df_grouped.loc[medium].loc[topic][\"preprocessed\"]\n",
    "        except:\n",
    "            print(\n",
    "                medium\n",
    "                + \" does not have any videos categorized under category '\"\n",
    "                + topic\n",
    "                + \"'.\"\n",
    "            )\n",
    "            df.drop(index=medium, inplace=True)\n",
    "            empty_media.append(medium)\n",
    "\n",
    "    for empty_medium in empty_media:\n",
    "        MEDIA.remove(empty_medium)\n",
    "\n",
    "    verboseprint(\"fitting cv model for topic \" + topic + \"...\")\n",
    "    N_matrix = cv.fit_transform(df[\"preprocessed\"].values)\n",
    "\n",
    "    verboseprint(\"counting n-gram occurences...\")\n",
    "    N_df = pd.DataFrame(\n",
    "        data=N_matrix.toarray().transpose(),\n",
    "        columns=df.index,\n",
    "        index=cv.get_feature_names_out(),\n",
    "    )\n",
    "\n",
    "    if drop_medium_specific:\n",
    "        verboseprint(\n",
    "            \"dropping medium-specific n-grams that occur in one medium at least 90% of the time...\"\n",
    "        )\n",
    "        N_sum = N_df.sum(axis=1)\n",
    "        specific_mask = np.full(len(N_df.index), False)\n",
    "        mask_df = N_df.apply(lambda x: x>0.9*N_sum)\n",
    "        for medium in MEDIA:\n",
    "            specific_mask = specific_mask | mask_df[medium].values\n",
    "        N_df.drop(N_df.index[specific_mask], inplace=True)\n",
    "\n",
    "    if drop_subsumed:\n",
    "        N_df = N_df.reset_index().rename(columns={\"index\": \"phrase\"})\n",
    "        N_df[\"n_gram\"] = N_df[\"phrase\"].apply(str.split).apply(len)\n",
    "        N_df[\"count\"] = N_df[MEDIA].sum(axis=1)\n",
    "\n",
    "        monograms = N_df[N_df[\"n_gram\"] == 1]\n",
    "        bigrams = N_df[N_df[\"n_gram\"] == 2]\n",
    "        trigrams = N_df[N_df[\"n_gram\"] == 3]\n",
    "        bigram_words = list(\n",
    "            set(\n",
    "                [\n",
    "                    word\n",
    "                    for bigram_sublist in bigrams[\"phrase\"].apply(str.split).tolist()\n",
    "                    for word in bigram_sublist\n",
    "                ]\n",
    "            )\n",
    "        )\n",
    "        trigram_words = list(\n",
    "            set(\n",
    "                [\n",
    "                    word\n",
    "                    for trigram_sublist in trigrams[\"phrase\"].apply(str.split).tolist()\n",
    "                    for word in trigram_sublist\n",
    "                ]\n",
    "            )\n",
    "        )\n",
    "\n",
    "        verboseprint(\"extracting subsumed n-grams...\")\n",
    "        monograms_in_bigrams = monograms[monograms[\"phrase\"].isin(bigram_words)]\n",
    "        monograms_in_trigrams = monograms[monograms[\"phrase\"].isin(trigram_words)]\n",
    "\n",
    "        bigrams_in_trigrams_words = list(\n",
    "            set(\n",
    "                [\n",
    "                    bigram_word\n",
    "                    for bigram_word in bigram_words\n",
    "                    if bigram_word in trigram_words\n",
    "                ]\n",
    "            )\n",
    "        )\n",
    "        bigrams_in_trigrams_mask = bigrams[\"phrase\"].apply(\n",
    "            lambda bigram: True\n",
    "            if bigram.split()[0] in bigrams_in_trigrams_words\n",
    "            or bigram.split()[1] in bigrams_in_trigrams_words\n",
    "            else False\n",
    "        )\n",
    "        bigrams_in_trigrams = bigrams[bigrams_in_trigrams_mask]\n",
    "\n",
    "        threshold = 0.7\n",
    "        verboseprint(\n",
    "            f\"filtering n-grams which are subsumed more than {int(100*threshold)}% of the time...\"\n",
    "        )\n",
    "        monograms_in_bigrams_above_threshold = list(\n",
    "            set(\n",
    "                [\n",
    "                    monogram[\"phrase\"]\n",
    "                    for _, monogram in monograms_in_bigrams.iterrows()\n",
    "                    for _, bigram in bigrams.iterrows()\n",
    "                    if monogram[\"phrase\"] in bigram[\"phrase\"].split()\n",
    "                    and bigram[\"count\"] > threshold * monogram[\"count\"]\n",
    "                ]\n",
    "            )\n",
    "        )\n",
    "        monograms_in_trigrams_above_threshold = list(\n",
    "            set(\n",
    "                [\n",
    "                    monogram[\"phrase\"]\n",
    "                    for _, monogram in monograms_in_trigrams.iterrows()\n",
    "                    for _, trigram in trigrams.iterrows()\n",
    "                    if monogram[\"phrase\"] in trigram[\"phrase\"].split()\n",
    "                    and trigram[\"count\"] > threshold * monogram[\"count\"]\n",
    "                ]\n",
    "            )\n",
    "        )\n",
    "        bigrams_in_trigrams_above_threshold = list(\n",
    "            set(\n",
    "                [\n",
    "                    bigram[\"phrase\"]\n",
    "                    for _, bigram in bigrams_in_trigrams.iterrows()\n",
    "                    for _, trigram in trigrams.iterrows()\n",
    "                    if (\n",
    "                        bigram[\"phrase\"] in \" \".join(trigram[\"phrase\"].split()[:2])\n",
    "                        or bigram[\"phrase\"] in \" \".join(trigram[\"phrase\"].split()[-2:])\n",
    "                    )\n",
    "                    and trigram[\"count\"] > threshold * bigram[\"count\"]\n",
    "                ]\n",
    "            )\n",
    "        )\n",
    "        n_grams_above_threshold = list(\n",
    "            set(\n",
    "                np.append(\n",
    "                    np.append(\n",
    "                        monograms_in_bigrams_above_threshold,\n",
    "                        monograms_in_trigrams_above_threshold,\n",
    "                    ),\n",
    "                    bigrams_in_trigrams_above_threshold,\n",
    "                )\n",
    "            )\n",
    "        )\n",
    "\n",
    "        N_df.drop(\n",
    "            N_df[N_df[\"phrase\"].isin(n_grams_above_threshold)].index, inplace=True\n",
    "        )\n",
    "        N_df.set_index(\"phrase\", inplace=True)\n",
    "        N_df.drop(columns=[\"n_gram\", \"count\"], inplace=True)\n",
    "    return N_df\n",
    "\n",
    "\n",
    "def filter_N_by_information_score(N_df, n=1000, verbose=True):\n",
    "    verboseprint = define_print(verbose=verbose)\n",
    "    verboseprint(\"filtering \" + str(n) + \" most discriminative phrases from sample...\")\n",
    "    n_i = len(N_df.index)\n",
    "    n_j = len(N_df.columns)\n",
    "    P_ij = N_df / N_df.to_numpy().sum()\n",
    "    P_i = P_ij.sum(axis=1)\n",
    "    P_j = P_ij.sum(axis=0)\n",
    "\n",
    "    I = np.zeros((n_i, n_j))\n",
    "\n",
    "    for i in range(n_i):\n",
    "        for j in range(n_j):\n",
    "            I[i][j] = P_ij.values[i][j] * np.log2(P_ij.values[i][j] / P_i[i] / P_j[j])\n",
    "\n",
    "    I = pd.DataFrame(I, index=N_df.index, columns=N_df.columns)\n",
    "    I = I.fillna(0.0)\n",
    "    I[\"sum\"] = I.sum(axis=1)\n",
    "    I.sort_values(by=\"sum\", ascending=False, inplace=True)\n",
    "    return N_df.loc[I.index[:n]]\n"
   ]
  },
  {
   "cell_type": "code",
   "execution_count": 220,
   "metadata": {},
   "outputs": [],
   "source": [
    "df = pd.read_pickle('../data/topic.pkl')\n",
    "topic_counts = df['topic'].value_counts()\n",
    "topic_dict = dict(zip(np.arange(-1,86), topic_counts.index.to_list()))"
   ]
  },
  {
   "cell_type": "code",
   "execution_count": 221,
   "metadata": {},
   "outputs": [
    {
     "name": "stdout",
     "output_type": "stream",
     "text": [
      "topic: 5_geld_unternehmen_euro_milliarden\n",
      "restructuring dataframe with 17299 transcripts...\n",
      "Tagesschau does not have any videos categorized under category '5_geld_unternehmen_euro_milliarden'.\n",
      "fitting cv model for topic 5_geld_unternehmen_euro_milliarden...\n",
      "counting n-gram occurences...\n",
      "dropping medium-specific n-grams that occur in one medium at least 90% of the time...\n",
      "extracting subsumed n-grams...\n",
      "filtering n-grams which are subsumed more than 70% of the time...\n",
      "filtering 2100 most discriminative phrases from sample...\n"
     ]
    }
   ],
   "source": [
    "topic_index=5\n",
    "topic = topic_dict[topic_index]\n",
    "print('topic: ' + topic)\n",
    "N_df = get_N_matrix(df[df['topic'] == topic])\n",
    "N_df = filter_N_by_information_score(N_df, n=2100)"
   ]
  },
  {
   "cell_type": "code",
   "execution_count": 222,
   "metadata": {},
   "outputs": [
    {
     "name": "stdout",
     "output_type": "stream",
     "text": [
      "2100\n"
     ]
    }
   ],
   "source": [
    "N = N_df[~N_df.index.isin(blacklist[topic_index])]\n",
    "#N.to_pickle('../data/N_matrices_post_purge/N_'+topic+'_post_purge.pkl')\n",
    "print(len(N.index))\n",
    "N = N.iloc[:1000]"
   ]
  },
  {
   "cell_type": "code",
   "execution_count": 230,
   "metadata": {},
   "outputs": [
    {
     "data": {
      "application/vnd.plotly.v1+json": {
       "config": {
        "plotlyServerURL": "https://plot.ly"
       },
       "data": [
        {
         "customdata": [
          [
           "junge Welt"
          ],
          [
           "NachDenkSeiten"
          ]
         ],
         "hovertemplate": "color=left<br>x=%{x}<br>y=%{y}<br>hover_data_0=%{customdata[0]}<extra></extra>",
         "legendgroup": "left",
         "marker": {
          "color": "rgb(0.0, 0.0, 255.0)",
          "symbol": "circle"
         },
         "mode": "markers",
         "name": "left",
         "orientation": "v",
         "showlegend": true,
         "type": "scatter",
         "x": [
          0.060299090692389,
          0.215731245129386
         ],
         "xaxis": "x",
         "y": [
          0,
          0
         ],
         "yaxis": "y"
        },
        {
         "customdata": [
          [
           "taz"
          ],
          [
           "stern TV"
          ],
          [
           "DER SPIEGEL"
          ]
         ],
         "hovertemplate": "color=left leaning<br>x=%{x}<br>y=%{y}<br>hover_data_0=%{customdata[0]}<extra></extra>",
         "legendgroup": "left leaning",
         "marker": {
          "color": "rgb(63.75, 0.0, 191.25)",
          "symbol": "circle"
         },
         "mode": "markers",
         "name": "left leaning",
         "orientation": "v",
         "showlegend": true,
         "type": "scatter",
         "x": [
          0.2686273252826522,
          0.13117680884082691,
          0.311164825861676
         ],
         "xaxis": "x",
         "y": [
          0,
          0,
          0
         ],
         "yaxis": "y"
        },
        {
         "customdata": [
          [
           "Süddeutsche Zeitung"
          ],
          [
           "Der Tagesspiegel"
          ],
          [
           "ARD"
          ],
          [
           "ZDF"
          ],
          [
           "ZDFheute Nachrichten"
          ],
          [
           "Bayerischer Rundfunk"
          ],
          [
           "ntv Nachrichten"
          ],
          [
           "ZEIT ONLINE"
          ],
          [
           "faz"
          ],
          [
           "WELT"
          ]
         ],
         "hovertemplate": "color=center<br>x=%{x}<br>y=%{y}<br>hover_data_0=%{customdata[0]}<extra></extra>",
         "legendgroup": "center",
         "marker": {
          "color": "rgb(127.5, 0.0, 127.5)",
          "symbol": "circle"
         },
         "mode": "markers",
         "name": "center",
         "orientation": "v",
         "showlegend": true,
         "type": "scatter",
         "x": [
          0.17221058701980738,
          0.1422772069213595,
          0.17685440314971138,
          0.09104939581072916,
          0.32545848945436884,
          0.21811720244000837,
          0.2916139023572455,
          0.10323186460214624,
          0.3083271169716252,
          0.3105249731962337
         ],
         "xaxis": "x",
         "y": [
          0,
          0,
          0,
          0,
          0,
          0,
          0,
          0,
          0,
          0
         ],
         "yaxis": "y"
        },
        {
         "customdata": [
          [
           "RTL"
          ],
          [
           "FOCUS Online"
          ],
          [
           "BILD"
          ],
          [
           "NZZ Neue Zürcher Zeitung"
          ]
         ],
         "hovertemplate": "color=right leaning<br>x=%{x}<br>y=%{y}<br>hover_data_0=%{customdata[0]}<extra></extra>",
         "legendgroup": "right leaning",
         "marker": {
          "color": "rgb(191.25, 0.0, 63.75)",
          "symbol": "circle"
         },
         "mode": "markers",
         "name": "right leaning",
         "orientation": "v",
         "showlegend": true,
         "type": "scatter",
         "x": [
          0.06141859288360059,
          0.17784034740871224,
          0.31967214560687246,
          0.10395741712438034
         ],
         "xaxis": "x",
         "y": [
          0,
          0,
          0,
          0
         ],
         "yaxis": "y"
        },
        {
         "customdata": [
          [
           "Junge Freiheit"
          ],
          [
           "COMPACTTV"
          ]
         ],
         "hovertemplate": "color=right<br>x=%{x}<br>y=%{y}<br>hover_data_0=%{customdata[0]}<extra></extra>",
         "legendgroup": "right",
         "marker": {
          "color": "rgb(255.0, 0.0, 0.0)",
          "symbol": "circle"
         },
         "mode": "markers",
         "name": "right",
         "orientation": "v",
         "showlegend": true,
         "type": "scatter",
         "x": [
          0.14847447123900612,
          0.2510757225238766
         ],
         "xaxis": "x",
         "y": [
          0,
          0
         ],
         "yaxis": "y"
        }
       ],
       "layout": {
        "legend": {
         "title": {
          "text": "color"
         },
         "tracegroupgap": 0
        },
        "template": {
         "data": {
          "bar": [
           {
            "error_x": {
             "color": "#2a3f5f"
            },
            "error_y": {
             "color": "#2a3f5f"
            },
            "marker": {
             "line": {
              "color": "#E5ECF6",
              "width": 0.5
             },
             "pattern": {
              "fillmode": "overlay",
              "size": 10,
              "solidity": 0.2
             }
            },
            "type": "bar"
           }
          ],
          "barpolar": [
           {
            "marker": {
             "line": {
              "color": "#E5ECF6",
              "width": 0.5
             },
             "pattern": {
              "fillmode": "overlay",
              "size": 10,
              "solidity": 0.2
             }
            },
            "type": "barpolar"
           }
          ],
          "carpet": [
           {
            "aaxis": {
             "endlinecolor": "#2a3f5f",
             "gridcolor": "white",
             "linecolor": "white",
             "minorgridcolor": "white",
             "startlinecolor": "#2a3f5f"
            },
            "baxis": {
             "endlinecolor": "#2a3f5f",
             "gridcolor": "white",
             "linecolor": "white",
             "minorgridcolor": "white",
             "startlinecolor": "#2a3f5f"
            },
            "type": "carpet"
           }
          ],
          "choropleth": [
           {
            "colorbar": {
             "outlinewidth": 0,
             "ticks": ""
            },
            "type": "choropleth"
           }
          ],
          "contour": [
           {
            "colorbar": {
             "outlinewidth": 0,
             "ticks": ""
            },
            "colorscale": [
             [
              0,
              "#0d0887"
             ],
             [
              0.1111111111111111,
              "#46039f"
             ],
             [
              0.2222222222222222,
              "#7201a8"
             ],
             [
              0.3333333333333333,
              "#9c179e"
             ],
             [
              0.4444444444444444,
              "#bd3786"
             ],
             [
              0.5555555555555556,
              "#d8576b"
             ],
             [
              0.6666666666666666,
              "#ed7953"
             ],
             [
              0.7777777777777778,
              "#fb9f3a"
             ],
             [
              0.8888888888888888,
              "#fdca26"
             ],
             [
              1,
              "#f0f921"
             ]
            ],
            "type": "contour"
           }
          ],
          "contourcarpet": [
           {
            "colorbar": {
             "outlinewidth": 0,
             "ticks": ""
            },
            "type": "contourcarpet"
           }
          ],
          "heatmap": [
           {
            "colorbar": {
             "outlinewidth": 0,
             "ticks": ""
            },
            "colorscale": [
             [
              0,
              "#0d0887"
             ],
             [
              0.1111111111111111,
              "#46039f"
             ],
             [
              0.2222222222222222,
              "#7201a8"
             ],
             [
              0.3333333333333333,
              "#9c179e"
             ],
             [
              0.4444444444444444,
              "#bd3786"
             ],
             [
              0.5555555555555556,
              "#d8576b"
             ],
             [
              0.6666666666666666,
              "#ed7953"
             ],
             [
              0.7777777777777778,
              "#fb9f3a"
             ],
             [
              0.8888888888888888,
              "#fdca26"
             ],
             [
              1,
              "#f0f921"
             ]
            ],
            "type": "heatmap"
           }
          ],
          "heatmapgl": [
           {
            "colorbar": {
             "outlinewidth": 0,
             "ticks": ""
            },
            "colorscale": [
             [
              0,
              "#0d0887"
             ],
             [
              0.1111111111111111,
              "#46039f"
             ],
             [
              0.2222222222222222,
              "#7201a8"
             ],
             [
              0.3333333333333333,
              "#9c179e"
             ],
             [
              0.4444444444444444,
              "#bd3786"
             ],
             [
              0.5555555555555556,
              "#d8576b"
             ],
             [
              0.6666666666666666,
              "#ed7953"
             ],
             [
              0.7777777777777778,
              "#fb9f3a"
             ],
             [
              0.8888888888888888,
              "#fdca26"
             ],
             [
              1,
              "#f0f921"
             ]
            ],
            "type": "heatmapgl"
           }
          ],
          "histogram": [
           {
            "marker": {
             "pattern": {
              "fillmode": "overlay",
              "size": 10,
              "solidity": 0.2
             }
            },
            "type": "histogram"
           }
          ],
          "histogram2d": [
           {
            "colorbar": {
             "outlinewidth": 0,
             "ticks": ""
            },
            "colorscale": [
             [
              0,
              "#0d0887"
             ],
             [
              0.1111111111111111,
              "#46039f"
             ],
             [
              0.2222222222222222,
              "#7201a8"
             ],
             [
              0.3333333333333333,
              "#9c179e"
             ],
             [
              0.4444444444444444,
              "#bd3786"
             ],
             [
              0.5555555555555556,
              "#d8576b"
             ],
             [
              0.6666666666666666,
              "#ed7953"
             ],
             [
              0.7777777777777778,
              "#fb9f3a"
             ],
             [
              0.8888888888888888,
              "#fdca26"
             ],
             [
              1,
              "#f0f921"
             ]
            ],
            "type": "histogram2d"
           }
          ],
          "histogram2dcontour": [
           {
            "colorbar": {
             "outlinewidth": 0,
             "ticks": ""
            },
            "colorscale": [
             [
              0,
              "#0d0887"
             ],
             [
              0.1111111111111111,
              "#46039f"
             ],
             [
              0.2222222222222222,
              "#7201a8"
             ],
             [
              0.3333333333333333,
              "#9c179e"
             ],
             [
              0.4444444444444444,
              "#bd3786"
             ],
             [
              0.5555555555555556,
              "#d8576b"
             ],
             [
              0.6666666666666666,
              "#ed7953"
             ],
             [
              0.7777777777777778,
              "#fb9f3a"
             ],
             [
              0.8888888888888888,
              "#fdca26"
             ],
             [
              1,
              "#f0f921"
             ]
            ],
            "type": "histogram2dcontour"
           }
          ],
          "mesh3d": [
           {
            "colorbar": {
             "outlinewidth": 0,
             "ticks": ""
            },
            "type": "mesh3d"
           }
          ],
          "parcoords": [
           {
            "line": {
             "colorbar": {
              "outlinewidth": 0,
              "ticks": ""
             }
            },
            "type": "parcoords"
           }
          ],
          "pie": [
           {
            "automargin": true,
            "type": "pie"
           }
          ],
          "scatter": [
           {
            "marker": {
             "colorbar": {
              "outlinewidth": 0,
              "ticks": ""
             }
            },
            "type": "scatter"
           }
          ],
          "scatter3d": [
           {
            "line": {
             "colorbar": {
              "outlinewidth": 0,
              "ticks": ""
             }
            },
            "marker": {
             "colorbar": {
              "outlinewidth": 0,
              "ticks": ""
             }
            },
            "type": "scatter3d"
           }
          ],
          "scattercarpet": [
           {
            "marker": {
             "colorbar": {
              "outlinewidth": 0,
              "ticks": ""
             }
            },
            "type": "scattercarpet"
           }
          ],
          "scattergeo": [
           {
            "marker": {
             "colorbar": {
              "outlinewidth": 0,
              "ticks": ""
             }
            },
            "type": "scattergeo"
           }
          ],
          "scattergl": [
           {
            "marker": {
             "colorbar": {
              "outlinewidth": 0,
              "ticks": ""
             }
            },
            "type": "scattergl"
           }
          ],
          "scattermapbox": [
           {
            "marker": {
             "colorbar": {
              "outlinewidth": 0,
              "ticks": ""
             }
            },
            "type": "scattermapbox"
           }
          ],
          "scatterpolar": [
           {
            "marker": {
             "colorbar": {
              "outlinewidth": 0,
              "ticks": ""
             }
            },
            "type": "scatterpolar"
           }
          ],
          "scatterpolargl": [
           {
            "marker": {
             "colorbar": {
              "outlinewidth": 0,
              "ticks": ""
             }
            },
            "type": "scatterpolargl"
           }
          ],
          "scatterternary": [
           {
            "marker": {
             "colorbar": {
              "outlinewidth": 0,
              "ticks": ""
             }
            },
            "type": "scatterternary"
           }
          ],
          "surface": [
           {
            "colorbar": {
             "outlinewidth": 0,
             "ticks": ""
            },
            "colorscale": [
             [
              0,
              "#0d0887"
             ],
             [
              0.1111111111111111,
              "#46039f"
             ],
             [
              0.2222222222222222,
              "#7201a8"
             ],
             [
              0.3333333333333333,
              "#9c179e"
             ],
             [
              0.4444444444444444,
              "#bd3786"
             ],
             [
              0.5555555555555556,
              "#d8576b"
             ],
             [
              0.6666666666666666,
              "#ed7953"
             ],
             [
              0.7777777777777778,
              "#fb9f3a"
             ],
             [
              0.8888888888888888,
              "#fdca26"
             ],
             [
              1,
              "#f0f921"
             ]
            ],
            "type": "surface"
           }
          ],
          "table": [
           {
            "cells": {
             "fill": {
              "color": "#EBF0F8"
             },
             "line": {
              "color": "white"
             }
            },
            "header": {
             "fill": {
              "color": "#C8D4E3"
             },
             "line": {
              "color": "white"
             }
            },
            "type": "table"
           }
          ]
         },
         "layout": {
          "annotationdefaults": {
           "arrowcolor": "#2a3f5f",
           "arrowhead": 0,
           "arrowwidth": 1
          },
          "autotypenumbers": "strict",
          "coloraxis": {
           "colorbar": {
            "outlinewidth": 0,
            "ticks": ""
           }
          },
          "colorscale": {
           "diverging": [
            [
             0,
             "#8e0152"
            ],
            [
             0.1,
             "#c51b7d"
            ],
            [
             0.2,
             "#de77ae"
            ],
            [
             0.3,
             "#f1b6da"
            ],
            [
             0.4,
             "#fde0ef"
            ],
            [
             0.5,
             "#f7f7f7"
            ],
            [
             0.6,
             "#e6f5d0"
            ],
            [
             0.7,
             "#b8e186"
            ],
            [
             0.8,
             "#7fbc41"
            ],
            [
             0.9,
             "#4d9221"
            ],
            [
             1,
             "#276419"
            ]
           ],
           "sequential": [
            [
             0,
             "#0d0887"
            ],
            [
             0.1111111111111111,
             "#46039f"
            ],
            [
             0.2222222222222222,
             "#7201a8"
            ],
            [
             0.3333333333333333,
             "#9c179e"
            ],
            [
             0.4444444444444444,
             "#bd3786"
            ],
            [
             0.5555555555555556,
             "#d8576b"
            ],
            [
             0.6666666666666666,
             "#ed7953"
            ],
            [
             0.7777777777777778,
             "#fb9f3a"
            ],
            [
             0.8888888888888888,
             "#fdca26"
            ],
            [
             1,
             "#f0f921"
            ]
           ],
           "sequentialminus": [
            [
             0,
             "#0d0887"
            ],
            [
             0.1111111111111111,
             "#46039f"
            ],
            [
             0.2222222222222222,
             "#7201a8"
            ],
            [
             0.3333333333333333,
             "#9c179e"
            ],
            [
             0.4444444444444444,
             "#bd3786"
            ],
            [
             0.5555555555555556,
             "#d8576b"
            ],
            [
             0.6666666666666666,
             "#ed7953"
            ],
            [
             0.7777777777777778,
             "#fb9f3a"
            ],
            [
             0.8888888888888888,
             "#fdca26"
            ],
            [
             1,
             "#f0f921"
            ]
           ]
          },
          "colorway": [
           "#636efa",
           "#EF553B",
           "#00cc96",
           "#ab63fa",
           "#FFA15A",
           "#19d3f3",
           "#FF6692",
           "#B6E880",
           "#FF97FF",
           "#FECB52"
          ],
          "font": {
           "color": "#2a3f5f"
          },
          "geo": {
           "bgcolor": "white",
           "lakecolor": "white",
           "landcolor": "#E5ECF6",
           "showlakes": true,
           "showland": true,
           "subunitcolor": "white"
          },
          "hoverlabel": {
           "align": "left"
          },
          "hovermode": "closest",
          "mapbox": {
           "style": "light"
          },
          "paper_bgcolor": "white",
          "plot_bgcolor": "#E5ECF6",
          "polar": {
           "angularaxis": {
            "gridcolor": "white",
            "linecolor": "white",
            "ticks": ""
           },
           "bgcolor": "#E5ECF6",
           "radialaxis": {
            "gridcolor": "white",
            "linecolor": "white",
            "ticks": ""
           }
          },
          "scene": {
           "xaxis": {
            "backgroundcolor": "#E5ECF6",
            "gridcolor": "white",
            "gridwidth": 2,
            "linecolor": "white",
            "showbackground": true,
            "ticks": "",
            "zerolinecolor": "white"
           },
           "yaxis": {
            "backgroundcolor": "#E5ECF6",
            "gridcolor": "white",
            "gridwidth": 2,
            "linecolor": "white",
            "showbackground": true,
            "ticks": "",
            "zerolinecolor": "white"
           },
           "zaxis": {
            "backgroundcolor": "#E5ECF6",
            "gridcolor": "white",
            "gridwidth": 2,
            "linecolor": "white",
            "showbackground": true,
            "ticks": "",
            "zerolinecolor": "white"
           }
          },
          "shapedefaults": {
           "line": {
            "color": "#2a3f5f"
           }
          },
          "ternary": {
           "aaxis": {
            "gridcolor": "white",
            "linecolor": "white",
            "ticks": ""
           },
           "baxis": {
            "gridcolor": "white",
            "linecolor": "white",
            "ticks": ""
           },
           "bgcolor": "#E5ECF6",
           "caxis": {
            "gridcolor": "white",
            "linecolor": "white",
            "ticks": ""
           }
          },
          "title": {
           "x": 0.05
          },
          "xaxis": {
           "automargin": true,
           "gridcolor": "white",
           "linecolor": "white",
           "ticks": "",
           "title": {
            "standoff": 15
           },
           "zerolinecolor": "white",
           "zerolinewidth": 2
          },
          "yaxis": {
           "automargin": true,
           "gridcolor": "white",
           "linecolor": "white",
           "ticks": "",
           "title": {
            "standoff": 15
           },
           "zerolinecolor": "white",
           "zerolinewidth": 2
          }
         }
        },
        "title": {
         "text": "Topic: '5_geld_unternehmen_euro_milliarden', 0. Principal Component"
        },
        "xaxis": {
         "anchor": "y",
         "domain": [
          0,
          1
         ],
         "title": {
          "text": "x"
         }
        },
        "yaxis": {
         "anchor": "x",
         "domain": [
          0,
          1
         ],
         "title": {
          "text": "y"
         }
        }
       }
      }
     },
     "metadata": {},
     "output_type": "display_data"
    },
    {
     "data": {
      "application/vnd.plotly.v1+json": {
       "config": {
        "plotlyServerURL": "https://plot.ly"
       },
       "data": [
        {
         "customdata": [
          [
           "junge Welt"
          ],
          [
           "NachDenkSeiten"
          ]
         ],
         "hovertemplate": "color=left<br>x=%{x}<br>y=%{y}<br>hover_data_0=%{customdata[0]}<extra></extra>",
         "legendgroup": "left",
         "marker": {
          "color": "rgb(0.0, 0.0, 255.0)",
          "symbol": "circle"
         },
         "mode": "markers",
         "name": "left",
         "orientation": "v",
         "showlegend": true,
         "type": "scatter",
         "x": [
          -0.11449535144871724,
          -0.06874922832261952
         ],
         "xaxis": "x",
         "y": [
          0,
          0
         ],
         "yaxis": "y"
        },
        {
         "customdata": [
          [
           "taz"
          ],
          [
           "stern TV"
          ],
          [
           "DER SPIEGEL"
          ]
         ],
         "hovertemplate": "color=left leaning<br>x=%{x}<br>y=%{y}<br>hover_data_0=%{customdata[0]}<extra></extra>",
         "legendgroup": "left leaning",
         "marker": {
          "color": "rgb(63.75, 0.0, 191.25)",
          "symbol": "circle"
         },
         "mode": "markers",
         "name": "left leaning",
         "orientation": "v",
         "showlegend": true,
         "type": "scatter",
         "x": [
          -0.09989663972427412,
          0.15929357839360297,
          -0.14805646055651286
         ],
         "xaxis": "x",
         "y": [
          0,
          0,
          0
         ],
         "yaxis": "y"
        },
        {
         "customdata": [
          [
           "Süddeutsche Zeitung"
          ],
          [
           "Der Tagesspiegel"
          ],
          [
           "ARD"
          ],
          [
           "ZDF"
          ],
          [
           "ZDFheute Nachrichten"
          ],
          [
           "Bayerischer Rundfunk"
          ],
          [
           "ntv Nachrichten"
          ],
          [
           "ZEIT ONLINE"
          ],
          [
           "faz"
          ],
          [
           "WELT"
          ]
         ],
         "hovertemplate": "color=center<br>x=%{x}<br>y=%{y}<br>hover_data_0=%{customdata[0]}<extra></extra>",
         "legendgroup": "center",
         "marker": {
          "color": "rgb(127.5, 0.0, 127.5)",
          "symbol": "circle"
         },
         "mode": "markers",
         "name": "center",
         "orientation": "v",
         "showlegend": true,
         "type": "scatter",
         "x": [
          0.35905456733750435,
          -0.12006411057115904,
          0.2840863378943527,
          0.07274946274462615,
          -0.2575605118346025,
          0.13675624528512342,
          -0.31677300191991625,
          -0.10560629723926082,
          0.16184615825424345,
          0.007592290392134401
         ],
         "xaxis": "x",
         "y": [
          0,
          0,
          0,
          0,
          0,
          0,
          0,
          0,
          0,
          0
         ],
         "yaxis": "y"
        },
        {
         "customdata": [
          [
           "RTL"
          ],
          [
           "FOCUS Online"
          ],
          [
           "BILD"
          ],
          [
           "NZZ Neue Zürcher Zeitung"
          ]
         ],
         "hovertemplate": "color=right leaning<br>x=%{x}<br>y=%{y}<br>hover_data_0=%{customdata[0]}<extra></extra>",
         "legendgroup": "right leaning",
         "marker": {
          "color": "rgb(191.25, 0.0, 63.75)",
          "symbol": "circle"
         },
         "mode": "markers",
         "name": "right leaning",
         "orientation": "v",
         "showlegend": true,
         "type": "scatter",
         "x": [
          -0.1105780344614029,
          0.3721255332492146,
          -0.15593528260799108,
          0.4814450436635103
         ],
         "xaxis": "x",
         "y": [
          0,
          0,
          0,
          0
         ],
         "yaxis": "y"
        },
        {
         "customdata": [
          [
           "Junge Freiheit"
          ],
          [
           "COMPACTTV"
          ]
         ],
         "hovertemplate": "color=right<br>x=%{x}<br>y=%{y}<br>hover_data_0=%{customdata[0]}<extra></extra>",
         "legendgroup": "right",
         "marker": {
          "color": "rgb(255.0, 0.0, 0.0)",
          "symbol": "circle"
         },
         "mode": "markers",
         "name": "right",
         "orientation": "v",
         "showlegend": true,
         "type": "scatter",
         "x": [
          0.2455390403935707,
          -0.07528574709439485
         ],
         "xaxis": "x",
         "y": [
          0,
          0
         ],
         "yaxis": "y"
        }
       ],
       "layout": {
        "legend": {
         "title": {
          "text": "color"
         },
         "tracegroupgap": 0
        },
        "template": {
         "data": {
          "bar": [
           {
            "error_x": {
             "color": "#2a3f5f"
            },
            "error_y": {
             "color": "#2a3f5f"
            },
            "marker": {
             "line": {
              "color": "#E5ECF6",
              "width": 0.5
             },
             "pattern": {
              "fillmode": "overlay",
              "size": 10,
              "solidity": 0.2
             }
            },
            "type": "bar"
           }
          ],
          "barpolar": [
           {
            "marker": {
             "line": {
              "color": "#E5ECF6",
              "width": 0.5
             },
             "pattern": {
              "fillmode": "overlay",
              "size": 10,
              "solidity": 0.2
             }
            },
            "type": "barpolar"
           }
          ],
          "carpet": [
           {
            "aaxis": {
             "endlinecolor": "#2a3f5f",
             "gridcolor": "white",
             "linecolor": "white",
             "minorgridcolor": "white",
             "startlinecolor": "#2a3f5f"
            },
            "baxis": {
             "endlinecolor": "#2a3f5f",
             "gridcolor": "white",
             "linecolor": "white",
             "minorgridcolor": "white",
             "startlinecolor": "#2a3f5f"
            },
            "type": "carpet"
           }
          ],
          "choropleth": [
           {
            "colorbar": {
             "outlinewidth": 0,
             "ticks": ""
            },
            "type": "choropleth"
           }
          ],
          "contour": [
           {
            "colorbar": {
             "outlinewidth": 0,
             "ticks": ""
            },
            "colorscale": [
             [
              0,
              "#0d0887"
             ],
             [
              0.1111111111111111,
              "#46039f"
             ],
             [
              0.2222222222222222,
              "#7201a8"
             ],
             [
              0.3333333333333333,
              "#9c179e"
             ],
             [
              0.4444444444444444,
              "#bd3786"
             ],
             [
              0.5555555555555556,
              "#d8576b"
             ],
             [
              0.6666666666666666,
              "#ed7953"
             ],
             [
              0.7777777777777778,
              "#fb9f3a"
             ],
             [
              0.8888888888888888,
              "#fdca26"
             ],
             [
              1,
              "#f0f921"
             ]
            ],
            "type": "contour"
           }
          ],
          "contourcarpet": [
           {
            "colorbar": {
             "outlinewidth": 0,
             "ticks": ""
            },
            "type": "contourcarpet"
           }
          ],
          "heatmap": [
           {
            "colorbar": {
             "outlinewidth": 0,
             "ticks": ""
            },
            "colorscale": [
             [
              0,
              "#0d0887"
             ],
             [
              0.1111111111111111,
              "#46039f"
             ],
             [
              0.2222222222222222,
              "#7201a8"
             ],
             [
              0.3333333333333333,
              "#9c179e"
             ],
             [
              0.4444444444444444,
              "#bd3786"
             ],
             [
              0.5555555555555556,
              "#d8576b"
             ],
             [
              0.6666666666666666,
              "#ed7953"
             ],
             [
              0.7777777777777778,
              "#fb9f3a"
             ],
             [
              0.8888888888888888,
              "#fdca26"
             ],
             [
              1,
              "#f0f921"
             ]
            ],
            "type": "heatmap"
           }
          ],
          "heatmapgl": [
           {
            "colorbar": {
             "outlinewidth": 0,
             "ticks": ""
            },
            "colorscale": [
             [
              0,
              "#0d0887"
             ],
             [
              0.1111111111111111,
              "#46039f"
             ],
             [
              0.2222222222222222,
              "#7201a8"
             ],
             [
              0.3333333333333333,
              "#9c179e"
             ],
             [
              0.4444444444444444,
              "#bd3786"
             ],
             [
              0.5555555555555556,
              "#d8576b"
             ],
             [
              0.6666666666666666,
              "#ed7953"
             ],
             [
              0.7777777777777778,
              "#fb9f3a"
             ],
             [
              0.8888888888888888,
              "#fdca26"
             ],
             [
              1,
              "#f0f921"
             ]
            ],
            "type": "heatmapgl"
           }
          ],
          "histogram": [
           {
            "marker": {
             "pattern": {
              "fillmode": "overlay",
              "size": 10,
              "solidity": 0.2
             }
            },
            "type": "histogram"
           }
          ],
          "histogram2d": [
           {
            "colorbar": {
             "outlinewidth": 0,
             "ticks": ""
            },
            "colorscale": [
             [
              0,
              "#0d0887"
             ],
             [
              0.1111111111111111,
              "#46039f"
             ],
             [
              0.2222222222222222,
              "#7201a8"
             ],
             [
              0.3333333333333333,
              "#9c179e"
             ],
             [
              0.4444444444444444,
              "#bd3786"
             ],
             [
              0.5555555555555556,
              "#d8576b"
             ],
             [
              0.6666666666666666,
              "#ed7953"
             ],
             [
              0.7777777777777778,
              "#fb9f3a"
             ],
             [
              0.8888888888888888,
              "#fdca26"
             ],
             [
              1,
              "#f0f921"
             ]
            ],
            "type": "histogram2d"
           }
          ],
          "histogram2dcontour": [
           {
            "colorbar": {
             "outlinewidth": 0,
             "ticks": ""
            },
            "colorscale": [
             [
              0,
              "#0d0887"
             ],
             [
              0.1111111111111111,
              "#46039f"
             ],
             [
              0.2222222222222222,
              "#7201a8"
             ],
             [
              0.3333333333333333,
              "#9c179e"
             ],
             [
              0.4444444444444444,
              "#bd3786"
             ],
             [
              0.5555555555555556,
              "#d8576b"
             ],
             [
              0.6666666666666666,
              "#ed7953"
             ],
             [
              0.7777777777777778,
              "#fb9f3a"
             ],
             [
              0.8888888888888888,
              "#fdca26"
             ],
             [
              1,
              "#f0f921"
             ]
            ],
            "type": "histogram2dcontour"
           }
          ],
          "mesh3d": [
           {
            "colorbar": {
             "outlinewidth": 0,
             "ticks": ""
            },
            "type": "mesh3d"
           }
          ],
          "parcoords": [
           {
            "line": {
             "colorbar": {
              "outlinewidth": 0,
              "ticks": ""
             }
            },
            "type": "parcoords"
           }
          ],
          "pie": [
           {
            "automargin": true,
            "type": "pie"
           }
          ],
          "scatter": [
           {
            "marker": {
             "colorbar": {
              "outlinewidth": 0,
              "ticks": ""
             }
            },
            "type": "scatter"
           }
          ],
          "scatter3d": [
           {
            "line": {
             "colorbar": {
              "outlinewidth": 0,
              "ticks": ""
             }
            },
            "marker": {
             "colorbar": {
              "outlinewidth": 0,
              "ticks": ""
             }
            },
            "type": "scatter3d"
           }
          ],
          "scattercarpet": [
           {
            "marker": {
             "colorbar": {
              "outlinewidth": 0,
              "ticks": ""
             }
            },
            "type": "scattercarpet"
           }
          ],
          "scattergeo": [
           {
            "marker": {
             "colorbar": {
              "outlinewidth": 0,
              "ticks": ""
             }
            },
            "type": "scattergeo"
           }
          ],
          "scattergl": [
           {
            "marker": {
             "colorbar": {
              "outlinewidth": 0,
              "ticks": ""
             }
            },
            "type": "scattergl"
           }
          ],
          "scattermapbox": [
           {
            "marker": {
             "colorbar": {
              "outlinewidth": 0,
              "ticks": ""
             }
            },
            "type": "scattermapbox"
           }
          ],
          "scatterpolar": [
           {
            "marker": {
             "colorbar": {
              "outlinewidth": 0,
              "ticks": ""
             }
            },
            "type": "scatterpolar"
           }
          ],
          "scatterpolargl": [
           {
            "marker": {
             "colorbar": {
              "outlinewidth": 0,
              "ticks": ""
             }
            },
            "type": "scatterpolargl"
           }
          ],
          "scatterternary": [
           {
            "marker": {
             "colorbar": {
              "outlinewidth": 0,
              "ticks": ""
             }
            },
            "type": "scatterternary"
           }
          ],
          "surface": [
           {
            "colorbar": {
             "outlinewidth": 0,
             "ticks": ""
            },
            "colorscale": [
             [
              0,
              "#0d0887"
             ],
             [
              0.1111111111111111,
              "#46039f"
             ],
             [
              0.2222222222222222,
              "#7201a8"
             ],
             [
              0.3333333333333333,
              "#9c179e"
             ],
             [
              0.4444444444444444,
              "#bd3786"
             ],
             [
              0.5555555555555556,
              "#d8576b"
             ],
             [
              0.6666666666666666,
              "#ed7953"
             ],
             [
              0.7777777777777778,
              "#fb9f3a"
             ],
             [
              0.8888888888888888,
              "#fdca26"
             ],
             [
              1,
              "#f0f921"
             ]
            ],
            "type": "surface"
           }
          ],
          "table": [
           {
            "cells": {
             "fill": {
              "color": "#EBF0F8"
             },
             "line": {
              "color": "white"
             }
            },
            "header": {
             "fill": {
              "color": "#C8D4E3"
             },
             "line": {
              "color": "white"
             }
            },
            "type": "table"
           }
          ]
         },
         "layout": {
          "annotationdefaults": {
           "arrowcolor": "#2a3f5f",
           "arrowhead": 0,
           "arrowwidth": 1
          },
          "autotypenumbers": "strict",
          "coloraxis": {
           "colorbar": {
            "outlinewidth": 0,
            "ticks": ""
           }
          },
          "colorscale": {
           "diverging": [
            [
             0,
             "#8e0152"
            ],
            [
             0.1,
             "#c51b7d"
            ],
            [
             0.2,
             "#de77ae"
            ],
            [
             0.3,
             "#f1b6da"
            ],
            [
             0.4,
             "#fde0ef"
            ],
            [
             0.5,
             "#f7f7f7"
            ],
            [
             0.6,
             "#e6f5d0"
            ],
            [
             0.7,
             "#b8e186"
            ],
            [
             0.8,
             "#7fbc41"
            ],
            [
             0.9,
             "#4d9221"
            ],
            [
             1,
             "#276419"
            ]
           ],
           "sequential": [
            [
             0,
             "#0d0887"
            ],
            [
             0.1111111111111111,
             "#46039f"
            ],
            [
             0.2222222222222222,
             "#7201a8"
            ],
            [
             0.3333333333333333,
             "#9c179e"
            ],
            [
             0.4444444444444444,
             "#bd3786"
            ],
            [
             0.5555555555555556,
             "#d8576b"
            ],
            [
             0.6666666666666666,
             "#ed7953"
            ],
            [
             0.7777777777777778,
             "#fb9f3a"
            ],
            [
             0.8888888888888888,
             "#fdca26"
            ],
            [
             1,
             "#f0f921"
            ]
           ],
           "sequentialminus": [
            [
             0,
             "#0d0887"
            ],
            [
             0.1111111111111111,
             "#46039f"
            ],
            [
             0.2222222222222222,
             "#7201a8"
            ],
            [
             0.3333333333333333,
             "#9c179e"
            ],
            [
             0.4444444444444444,
             "#bd3786"
            ],
            [
             0.5555555555555556,
             "#d8576b"
            ],
            [
             0.6666666666666666,
             "#ed7953"
            ],
            [
             0.7777777777777778,
             "#fb9f3a"
            ],
            [
             0.8888888888888888,
             "#fdca26"
            ],
            [
             1,
             "#f0f921"
            ]
           ]
          },
          "colorway": [
           "#636efa",
           "#EF553B",
           "#00cc96",
           "#ab63fa",
           "#FFA15A",
           "#19d3f3",
           "#FF6692",
           "#B6E880",
           "#FF97FF",
           "#FECB52"
          ],
          "font": {
           "color": "#2a3f5f"
          },
          "geo": {
           "bgcolor": "white",
           "lakecolor": "white",
           "landcolor": "#E5ECF6",
           "showlakes": true,
           "showland": true,
           "subunitcolor": "white"
          },
          "hoverlabel": {
           "align": "left"
          },
          "hovermode": "closest",
          "mapbox": {
           "style": "light"
          },
          "paper_bgcolor": "white",
          "plot_bgcolor": "#E5ECF6",
          "polar": {
           "angularaxis": {
            "gridcolor": "white",
            "linecolor": "white",
            "ticks": ""
           },
           "bgcolor": "#E5ECF6",
           "radialaxis": {
            "gridcolor": "white",
            "linecolor": "white",
            "ticks": ""
           }
          },
          "scene": {
           "xaxis": {
            "backgroundcolor": "#E5ECF6",
            "gridcolor": "white",
            "gridwidth": 2,
            "linecolor": "white",
            "showbackground": true,
            "ticks": "",
            "zerolinecolor": "white"
           },
           "yaxis": {
            "backgroundcolor": "#E5ECF6",
            "gridcolor": "white",
            "gridwidth": 2,
            "linecolor": "white",
            "showbackground": true,
            "ticks": "",
            "zerolinecolor": "white"
           },
           "zaxis": {
            "backgroundcolor": "#E5ECF6",
            "gridcolor": "white",
            "gridwidth": 2,
            "linecolor": "white",
            "showbackground": true,
            "ticks": "",
            "zerolinecolor": "white"
           }
          },
          "shapedefaults": {
           "line": {
            "color": "#2a3f5f"
           }
          },
          "ternary": {
           "aaxis": {
            "gridcolor": "white",
            "linecolor": "white",
            "ticks": ""
           },
           "baxis": {
            "gridcolor": "white",
            "linecolor": "white",
            "ticks": ""
           },
           "bgcolor": "#E5ECF6",
           "caxis": {
            "gridcolor": "white",
            "linecolor": "white",
            "ticks": ""
           }
          },
          "title": {
           "x": 0.05
          },
          "xaxis": {
           "automargin": true,
           "gridcolor": "white",
           "linecolor": "white",
           "ticks": "",
           "title": {
            "standoff": 15
           },
           "zerolinecolor": "white",
           "zerolinewidth": 2
          },
          "yaxis": {
           "automargin": true,
           "gridcolor": "white",
           "linecolor": "white",
           "ticks": "",
           "title": {
            "standoff": 15
           },
           "zerolinecolor": "white",
           "zerolinewidth": 2
          }
         }
        },
        "title": {
         "text": "Topic: '5_geld_unternehmen_euro_milliarden', 1. Principal Component"
        },
        "xaxis": {
         "anchor": "y",
         "domain": [
          0,
          1
         ],
         "title": {
          "text": "x"
         }
        },
        "yaxis": {
         "anchor": "x",
         "domain": [
          0,
          1
         ],
         "title": {
          "text": "y"
         }
        }
       }
      }
     },
     "metadata": {},
     "output_type": "display_data"
    },
    {
     "data": {
      "application/vnd.plotly.v1+json": {
       "config": {
        "plotlyServerURL": "https://plot.ly"
       },
       "data": [
        {
         "customdata": [
          [
           "junge Welt"
          ],
          [
           "NachDenkSeiten"
          ]
         ],
         "hovertemplate": "color=left<br>x=%{x}<br>y=%{y}<br>hover_data_0=%{customdata[0]}<extra></extra>",
         "legendgroup": "left",
         "marker": {
          "color": "rgb(0.0, 0.0, 255.0)",
          "symbol": "circle"
         },
         "mode": "markers",
         "name": "left",
         "orientation": "v",
         "showlegend": true,
         "type": "scatter",
         "x": [
          0.3391343073589844,
          0.2315475327417125
         ],
         "xaxis": "x",
         "y": [
          0,
          0
         ],
         "yaxis": "y"
        },
        {
         "customdata": [
          [
           "taz"
          ],
          [
           "stern TV"
          ],
          [
           "DER SPIEGEL"
          ]
         ],
         "hovertemplate": "color=left leaning<br>x=%{x}<br>y=%{y}<br>hover_data_0=%{customdata[0]}<extra></extra>",
         "legendgroup": "left leaning",
         "marker": {
          "color": "rgb(63.75, 0.0, 191.25)",
          "symbol": "circle"
         },
         "mode": "markers",
         "name": "left leaning",
         "orientation": "v",
         "showlegend": true,
         "type": "scatter",
         "x": [
          0.07788366325309909,
          -0.4774826418896802,
          -0.11471781522589261
         ],
         "xaxis": "x",
         "y": [
          0,
          0,
          0
         ],
         "yaxis": "y"
        },
        {
         "customdata": [
          [
           "Süddeutsche Zeitung"
          ],
          [
           "Der Tagesspiegel"
          ],
          [
           "ARD"
          ],
          [
           "ZDF"
          ],
          [
           "ZDFheute Nachrichten"
          ],
          [
           "Bayerischer Rundfunk"
          ],
          [
           "ntv Nachrichten"
          ],
          [
           "ZEIT ONLINE"
          ],
          [
           "faz"
          ],
          [
           "WELT"
          ]
         ],
         "hovertemplate": "color=center<br>x=%{x}<br>y=%{y}<br>hover_data_0=%{customdata[0]}<extra></extra>",
         "legendgroup": "center",
         "marker": {
          "color": "rgb(127.5, 0.0, 127.5)",
          "symbol": "circle"
         },
         "mode": "markers",
         "name": "center",
         "orientation": "v",
         "showlegend": true,
         "type": "scatter",
         "x": [
          -0.008672625403903641,
          -0.19166798922150063,
          -0.1482669243349405,
          -0.19239746705439684,
          0.0538935128813439,
          -0.3170090406136667,
          0.07764200595619818,
          -0.2120141911257193,
          0.02551553845195394,
          0.03946374615873138
         ],
         "xaxis": "x",
         "y": [
          0,
          0,
          0,
          0,
          0,
          0,
          0,
          0,
          0,
          0
         ],
         "yaxis": "y"
        },
        {
         "customdata": [
          [
           "RTL"
          ],
          [
           "FOCUS Online"
          ],
          [
           "BILD"
          ],
          [
           "NZZ Neue Zürcher Zeitung"
          ]
         ],
         "hovertemplate": "color=right leaning<br>x=%{x}<br>y=%{y}<br>hover_data_0=%{customdata[0]}<extra></extra>",
         "legendgroup": "right leaning",
         "marker": {
          "color": "rgb(191.25, 0.0, 63.75)",
          "symbol": "circle"
         },
         "mode": "markers",
         "name": "right leaning",
         "orientation": "v",
         "showlegend": true,
         "type": "scatter",
         "x": [
          -0.27768230441188424,
          0.048065837302453875,
          -0.06363692382647074,
          0.15602989455314026
         ],
         "xaxis": "x",
         "y": [
          0,
          0,
          0,
          0
         ],
         "yaxis": "y"
        },
        {
         "customdata": [
          [
           "Junge Freiheit"
          ],
          [
           "COMPACTTV"
          ]
         ],
         "hovertemplate": "color=right<br>x=%{x}<br>y=%{y}<br>hover_data_0=%{customdata[0]}<extra></extra>",
         "legendgroup": "right",
         "marker": {
          "color": "rgb(255.0, 0.0, 0.0)",
          "symbol": "circle"
         },
         "mode": "markers",
         "name": "right",
         "orientation": "v",
         "showlegend": true,
         "type": "scatter",
         "x": [
          0.400052884722683,
          0.25279476481200347
         ],
         "xaxis": "x",
         "y": [
          0,
          0
         ],
         "yaxis": "y"
        }
       ],
       "layout": {
        "legend": {
         "title": {
          "text": "color"
         },
         "tracegroupgap": 0
        },
        "template": {
         "data": {
          "bar": [
           {
            "error_x": {
             "color": "#2a3f5f"
            },
            "error_y": {
             "color": "#2a3f5f"
            },
            "marker": {
             "line": {
              "color": "#E5ECF6",
              "width": 0.5
             },
             "pattern": {
              "fillmode": "overlay",
              "size": 10,
              "solidity": 0.2
             }
            },
            "type": "bar"
           }
          ],
          "barpolar": [
           {
            "marker": {
             "line": {
              "color": "#E5ECF6",
              "width": 0.5
             },
             "pattern": {
              "fillmode": "overlay",
              "size": 10,
              "solidity": 0.2
             }
            },
            "type": "barpolar"
           }
          ],
          "carpet": [
           {
            "aaxis": {
             "endlinecolor": "#2a3f5f",
             "gridcolor": "white",
             "linecolor": "white",
             "minorgridcolor": "white",
             "startlinecolor": "#2a3f5f"
            },
            "baxis": {
             "endlinecolor": "#2a3f5f",
             "gridcolor": "white",
             "linecolor": "white",
             "minorgridcolor": "white",
             "startlinecolor": "#2a3f5f"
            },
            "type": "carpet"
           }
          ],
          "choropleth": [
           {
            "colorbar": {
             "outlinewidth": 0,
             "ticks": ""
            },
            "type": "choropleth"
           }
          ],
          "contour": [
           {
            "colorbar": {
             "outlinewidth": 0,
             "ticks": ""
            },
            "colorscale": [
             [
              0,
              "#0d0887"
             ],
             [
              0.1111111111111111,
              "#46039f"
             ],
             [
              0.2222222222222222,
              "#7201a8"
             ],
             [
              0.3333333333333333,
              "#9c179e"
             ],
             [
              0.4444444444444444,
              "#bd3786"
             ],
             [
              0.5555555555555556,
              "#d8576b"
             ],
             [
              0.6666666666666666,
              "#ed7953"
             ],
             [
              0.7777777777777778,
              "#fb9f3a"
             ],
             [
              0.8888888888888888,
              "#fdca26"
             ],
             [
              1,
              "#f0f921"
             ]
            ],
            "type": "contour"
           }
          ],
          "contourcarpet": [
           {
            "colorbar": {
             "outlinewidth": 0,
             "ticks": ""
            },
            "type": "contourcarpet"
           }
          ],
          "heatmap": [
           {
            "colorbar": {
             "outlinewidth": 0,
             "ticks": ""
            },
            "colorscale": [
             [
              0,
              "#0d0887"
             ],
             [
              0.1111111111111111,
              "#46039f"
             ],
             [
              0.2222222222222222,
              "#7201a8"
             ],
             [
              0.3333333333333333,
              "#9c179e"
             ],
             [
              0.4444444444444444,
              "#bd3786"
             ],
             [
              0.5555555555555556,
              "#d8576b"
             ],
             [
              0.6666666666666666,
              "#ed7953"
             ],
             [
              0.7777777777777778,
              "#fb9f3a"
             ],
             [
              0.8888888888888888,
              "#fdca26"
             ],
             [
              1,
              "#f0f921"
             ]
            ],
            "type": "heatmap"
           }
          ],
          "heatmapgl": [
           {
            "colorbar": {
             "outlinewidth": 0,
             "ticks": ""
            },
            "colorscale": [
             [
              0,
              "#0d0887"
             ],
             [
              0.1111111111111111,
              "#46039f"
             ],
             [
              0.2222222222222222,
              "#7201a8"
             ],
             [
              0.3333333333333333,
              "#9c179e"
             ],
             [
              0.4444444444444444,
              "#bd3786"
             ],
             [
              0.5555555555555556,
              "#d8576b"
             ],
             [
              0.6666666666666666,
              "#ed7953"
             ],
             [
              0.7777777777777778,
              "#fb9f3a"
             ],
             [
              0.8888888888888888,
              "#fdca26"
             ],
             [
              1,
              "#f0f921"
             ]
            ],
            "type": "heatmapgl"
           }
          ],
          "histogram": [
           {
            "marker": {
             "pattern": {
              "fillmode": "overlay",
              "size": 10,
              "solidity": 0.2
             }
            },
            "type": "histogram"
           }
          ],
          "histogram2d": [
           {
            "colorbar": {
             "outlinewidth": 0,
             "ticks": ""
            },
            "colorscale": [
             [
              0,
              "#0d0887"
             ],
             [
              0.1111111111111111,
              "#46039f"
             ],
             [
              0.2222222222222222,
              "#7201a8"
             ],
             [
              0.3333333333333333,
              "#9c179e"
             ],
             [
              0.4444444444444444,
              "#bd3786"
             ],
             [
              0.5555555555555556,
              "#d8576b"
             ],
             [
              0.6666666666666666,
              "#ed7953"
             ],
             [
              0.7777777777777778,
              "#fb9f3a"
             ],
             [
              0.8888888888888888,
              "#fdca26"
             ],
             [
              1,
              "#f0f921"
             ]
            ],
            "type": "histogram2d"
           }
          ],
          "histogram2dcontour": [
           {
            "colorbar": {
             "outlinewidth": 0,
             "ticks": ""
            },
            "colorscale": [
             [
              0,
              "#0d0887"
             ],
             [
              0.1111111111111111,
              "#46039f"
             ],
             [
              0.2222222222222222,
              "#7201a8"
             ],
             [
              0.3333333333333333,
              "#9c179e"
             ],
             [
              0.4444444444444444,
              "#bd3786"
             ],
             [
              0.5555555555555556,
              "#d8576b"
             ],
             [
              0.6666666666666666,
              "#ed7953"
             ],
             [
              0.7777777777777778,
              "#fb9f3a"
             ],
             [
              0.8888888888888888,
              "#fdca26"
             ],
             [
              1,
              "#f0f921"
             ]
            ],
            "type": "histogram2dcontour"
           }
          ],
          "mesh3d": [
           {
            "colorbar": {
             "outlinewidth": 0,
             "ticks": ""
            },
            "type": "mesh3d"
           }
          ],
          "parcoords": [
           {
            "line": {
             "colorbar": {
              "outlinewidth": 0,
              "ticks": ""
             }
            },
            "type": "parcoords"
           }
          ],
          "pie": [
           {
            "automargin": true,
            "type": "pie"
           }
          ],
          "scatter": [
           {
            "marker": {
             "colorbar": {
              "outlinewidth": 0,
              "ticks": ""
             }
            },
            "type": "scatter"
           }
          ],
          "scatter3d": [
           {
            "line": {
             "colorbar": {
              "outlinewidth": 0,
              "ticks": ""
             }
            },
            "marker": {
             "colorbar": {
              "outlinewidth": 0,
              "ticks": ""
             }
            },
            "type": "scatter3d"
           }
          ],
          "scattercarpet": [
           {
            "marker": {
             "colorbar": {
              "outlinewidth": 0,
              "ticks": ""
             }
            },
            "type": "scattercarpet"
           }
          ],
          "scattergeo": [
           {
            "marker": {
             "colorbar": {
              "outlinewidth": 0,
              "ticks": ""
             }
            },
            "type": "scattergeo"
           }
          ],
          "scattergl": [
           {
            "marker": {
             "colorbar": {
              "outlinewidth": 0,
              "ticks": ""
             }
            },
            "type": "scattergl"
           }
          ],
          "scattermapbox": [
           {
            "marker": {
             "colorbar": {
              "outlinewidth": 0,
              "ticks": ""
             }
            },
            "type": "scattermapbox"
           }
          ],
          "scatterpolar": [
           {
            "marker": {
             "colorbar": {
              "outlinewidth": 0,
              "ticks": ""
             }
            },
            "type": "scatterpolar"
           }
          ],
          "scatterpolargl": [
           {
            "marker": {
             "colorbar": {
              "outlinewidth": 0,
              "ticks": ""
             }
            },
            "type": "scatterpolargl"
           }
          ],
          "scatterternary": [
           {
            "marker": {
             "colorbar": {
              "outlinewidth": 0,
              "ticks": ""
             }
            },
            "type": "scatterternary"
           }
          ],
          "surface": [
           {
            "colorbar": {
             "outlinewidth": 0,
             "ticks": ""
            },
            "colorscale": [
             [
              0,
              "#0d0887"
             ],
             [
              0.1111111111111111,
              "#46039f"
             ],
             [
              0.2222222222222222,
              "#7201a8"
             ],
             [
              0.3333333333333333,
              "#9c179e"
             ],
             [
              0.4444444444444444,
              "#bd3786"
             ],
             [
              0.5555555555555556,
              "#d8576b"
             ],
             [
              0.6666666666666666,
              "#ed7953"
             ],
             [
              0.7777777777777778,
              "#fb9f3a"
             ],
             [
              0.8888888888888888,
              "#fdca26"
             ],
             [
              1,
              "#f0f921"
             ]
            ],
            "type": "surface"
           }
          ],
          "table": [
           {
            "cells": {
             "fill": {
              "color": "#EBF0F8"
             },
             "line": {
              "color": "white"
             }
            },
            "header": {
             "fill": {
              "color": "#C8D4E3"
             },
             "line": {
              "color": "white"
             }
            },
            "type": "table"
           }
          ]
         },
         "layout": {
          "annotationdefaults": {
           "arrowcolor": "#2a3f5f",
           "arrowhead": 0,
           "arrowwidth": 1
          },
          "autotypenumbers": "strict",
          "coloraxis": {
           "colorbar": {
            "outlinewidth": 0,
            "ticks": ""
           }
          },
          "colorscale": {
           "diverging": [
            [
             0,
             "#8e0152"
            ],
            [
             0.1,
             "#c51b7d"
            ],
            [
             0.2,
             "#de77ae"
            ],
            [
             0.3,
             "#f1b6da"
            ],
            [
             0.4,
             "#fde0ef"
            ],
            [
             0.5,
             "#f7f7f7"
            ],
            [
             0.6,
             "#e6f5d0"
            ],
            [
             0.7,
             "#b8e186"
            ],
            [
             0.8,
             "#7fbc41"
            ],
            [
             0.9,
             "#4d9221"
            ],
            [
             1,
             "#276419"
            ]
           ],
           "sequential": [
            [
             0,
             "#0d0887"
            ],
            [
             0.1111111111111111,
             "#46039f"
            ],
            [
             0.2222222222222222,
             "#7201a8"
            ],
            [
             0.3333333333333333,
             "#9c179e"
            ],
            [
             0.4444444444444444,
             "#bd3786"
            ],
            [
             0.5555555555555556,
             "#d8576b"
            ],
            [
             0.6666666666666666,
             "#ed7953"
            ],
            [
             0.7777777777777778,
             "#fb9f3a"
            ],
            [
             0.8888888888888888,
             "#fdca26"
            ],
            [
             1,
             "#f0f921"
            ]
           ],
           "sequentialminus": [
            [
             0,
             "#0d0887"
            ],
            [
             0.1111111111111111,
             "#46039f"
            ],
            [
             0.2222222222222222,
             "#7201a8"
            ],
            [
             0.3333333333333333,
             "#9c179e"
            ],
            [
             0.4444444444444444,
             "#bd3786"
            ],
            [
             0.5555555555555556,
             "#d8576b"
            ],
            [
             0.6666666666666666,
             "#ed7953"
            ],
            [
             0.7777777777777778,
             "#fb9f3a"
            ],
            [
             0.8888888888888888,
             "#fdca26"
            ],
            [
             1,
             "#f0f921"
            ]
           ]
          },
          "colorway": [
           "#636efa",
           "#EF553B",
           "#00cc96",
           "#ab63fa",
           "#FFA15A",
           "#19d3f3",
           "#FF6692",
           "#B6E880",
           "#FF97FF",
           "#FECB52"
          ],
          "font": {
           "color": "#2a3f5f"
          },
          "geo": {
           "bgcolor": "white",
           "lakecolor": "white",
           "landcolor": "#E5ECF6",
           "showlakes": true,
           "showland": true,
           "subunitcolor": "white"
          },
          "hoverlabel": {
           "align": "left"
          },
          "hovermode": "closest",
          "mapbox": {
           "style": "light"
          },
          "paper_bgcolor": "white",
          "plot_bgcolor": "#E5ECF6",
          "polar": {
           "angularaxis": {
            "gridcolor": "white",
            "linecolor": "white",
            "ticks": ""
           },
           "bgcolor": "#E5ECF6",
           "radialaxis": {
            "gridcolor": "white",
            "linecolor": "white",
            "ticks": ""
           }
          },
          "scene": {
           "xaxis": {
            "backgroundcolor": "#E5ECF6",
            "gridcolor": "white",
            "gridwidth": 2,
            "linecolor": "white",
            "showbackground": true,
            "ticks": "",
            "zerolinecolor": "white"
           },
           "yaxis": {
            "backgroundcolor": "#E5ECF6",
            "gridcolor": "white",
            "gridwidth": 2,
            "linecolor": "white",
            "showbackground": true,
            "ticks": "",
            "zerolinecolor": "white"
           },
           "zaxis": {
            "backgroundcolor": "#E5ECF6",
            "gridcolor": "white",
            "gridwidth": 2,
            "linecolor": "white",
            "showbackground": true,
            "ticks": "",
            "zerolinecolor": "white"
           }
          },
          "shapedefaults": {
           "line": {
            "color": "#2a3f5f"
           }
          },
          "ternary": {
           "aaxis": {
            "gridcolor": "white",
            "linecolor": "white",
            "ticks": ""
           },
           "baxis": {
            "gridcolor": "white",
            "linecolor": "white",
            "ticks": ""
           },
           "bgcolor": "#E5ECF6",
           "caxis": {
            "gridcolor": "white",
            "linecolor": "white",
            "ticks": ""
           }
          },
          "title": {
           "x": 0.05
          },
          "xaxis": {
           "automargin": true,
           "gridcolor": "white",
           "linecolor": "white",
           "ticks": "",
           "title": {
            "standoff": 15
           },
           "zerolinecolor": "white",
           "zerolinewidth": 2
          },
          "yaxis": {
           "automargin": true,
           "gridcolor": "white",
           "linecolor": "white",
           "ticks": "",
           "title": {
            "standoff": 15
           },
           "zerolinecolor": "white",
           "zerolinewidth": 2
          }
         }
        },
        "title": {
         "text": "Topic: '5_geld_unternehmen_euro_milliarden', 2. Principal Component"
        },
        "xaxis": {
         "anchor": "y",
         "domain": [
          0,
          1
         ],
         "title": {
          "text": "x"
         }
        },
        "yaxis": {
         "anchor": "x",
         "domain": [
          0,
          1
         ],
         "title": {
          "text": "y"
         }
        }
       }
      }
     },
     "metadata": {},
     "output_type": "display_data"
    }
   ],
   "source": [
    "import plotly.express as px\n",
    "from plotly.colors import n_colors\n",
    "import matplotlib.pyplot as plt\n",
    "%matplotlib inline\n",
    "\n",
    "n_components=3\n",
    "scale = True\n",
    "\n",
    "scaler = StandardScaler()\n",
    "model = TruncatedSVD(n_components=n_components)\n",
    "\n",
    "if scale:\n",
    "    N_scaled = scaler.fit_transform(N.values)\n",
    "    N_df_trunc = model.fit_transform(N_scaled)\n",
    "else:\n",
    "    N_df_trunc = model.fit_transform(N.values)\n",
    "\n",
    "for n in range(n_components):\n",
    "    fig = px.scatter(\n",
    "        x=model.components_[n], \n",
    "        y=[0.0 for test in model.components_[n]], \n",
    "        color=[political_spectrum_dict[medium] for medium in N.columns.to_list()],\n",
    "        color_discrete_sequence=n_colors('rgb(0, 0, 255)', 'rgb(255, 0, 0)', 5, colortype = 'rgb'),\n",
    "        hover_data=[N.columns], \n",
    "        title=f'Topic: \\'{topic}\\', {n}. Principal Component',\n",
    "        )\n",
    "    fig.show()"
   ]
  },
  {
   "cell_type": "code",
   "execution_count": 224,
   "metadata": {},
   "outputs": [
    {
     "name": "stdout",
     "output_type": "stream",
     "text": [
      "principal component: 0, most negative phrases: ['kapitals', 'statistisch', 'besagt', 'arbeitsverhältnis', 'ansprechpartner']\n",
      "principal component: 0, most positive phrases: ['krise', 'banken', 'land', 'schulden', 'deutlich']\n",
      "principal component: 1, most negative phrases: ['spd', 'milliarden euro', 'bundesregierung', 'fdp', 'krise']\n",
      "principal component: 1, most positive phrases: ['banken', 'anleger', 'aktie', 'inflation', 'börse']\n",
      "principal component: 2, most negative phrases: ['wohnung', 'bekommt', 'bezahlt', 'firma', 'verdient']\n",
      "principal component: 2, most positive phrases: ['banken', 'krise', 'inflation', 'entwicklung', 'kapital']\n"
     ]
    }
   ],
   "source": [
    "n_phrases = 5\n",
    "for axis in range(n_components):\n",
    "    ind_neg = np.argsort(N_df_trunc[:,axis])[:n_phrases]\n",
    "    ind_pos = np.argsort(N_df_trunc[:,axis])[-n_phrases:]\n",
    "    list_neg = N.index[ind_neg].to_list()\n",
    "    list_pos = N.index[ind_pos].to_list()\n",
    "    list_pos.reverse()\n",
    "    print(f'principal component: {axis}, most negative phrases: {list_neg}')\n",
    "    print(f'principal component: {axis}, most positive phrases: {list_pos}')"
   ]
  }
 ],
 "metadata": {
  "interpreter": {
   "hash": "9ae7ae13804f56b6812076ff88d4c743516b7c995d69dd5984882be015e04ad2"
  },
  "kernelspec": {
   "display_name": "Python 3.9.10 ('base')",
   "language": "python",
   "name": "python3"
  },
  "language_info": {
   "codemirror_mode": {
    "name": "ipython",
    "version": 3
   },
   "file_extension": ".py",
   "mimetype": "text/x-python",
   "name": "python",
   "nbconvert_exporter": "python",
   "pygments_lexer": "ipython3",
   "version": "3.9.10"
  },
  "orig_nbformat": 4
 },
 "nbformat": 4,
 "nbformat_minor": 2
}
