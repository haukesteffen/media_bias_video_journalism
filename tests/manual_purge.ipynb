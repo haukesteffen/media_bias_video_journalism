{
 "cells": [
  {
   "cell_type": "code",
   "execution_count": 1,
   "metadata": {},
   "outputs": [],
   "source": [
    "blacklist = {\n",
    "    2:[\n",
    "        'zitat',\n",
    "        'video',\n",
    "        'live',\n",
    "        'frank',\n",
    "        'christian',\n",
    "        'bilder',\n",
    "        'abend',\n",
    "        'medien',\n",
    "        'unternehmen',\n",
    "        'daniel',\n",
    "        'familie',\n",
    "        'schauen',\n",
    "        'damen herren',\n",
    "        'offenbar',\n",
    "        'schalten',\n",
    "        'nachrichten',\n",
    "        'naja',\n",
    "        'buch',\n",
    "        'dankeschön',\n",
    "        'sache',\n",
    "        'aktuell',\n",
    "        'schau',\n",
    "        'interessant',\n",
    "        'peter',\n",
    "        'minuten',\n",
    "        'grunde',\n",
    "        'johannes',\n",
    "        'deutlich',\n",
    "        'unterwegs',\n",
    "        'martin',\n",
    "        'jörg',\n",
    "        'artikel',\n",
    "        'gesprochen',\n",
    "        'momentan',\n",
    "        'beate',\n",
    "        'julian',\n",
    "        'zuvor',\n",
    "        'zahlen',\n",
    "        'sitzt',\n",
    "        'interessante',\n",
    "        'echt',\n",
    "        'herbert',\n",
    "        'willi',\n",
    "        'raus',\n",
    "        'bereich',\n",
    "        'spur',\n",
    "        'george',\n",
    "        'relativ',\n",
    "        'andreas',\n",
    "        'meter',\n",
    "        'to',\n",
    "        'tausende',\n",
    "        'geschrieben',\n",
    "        'sachen',\n",
    "        'nachmittag',\n",
    "        'zahl',\n",
    "        'freund',\n",
    "        'ernst',\n",
    "        'okay',\n",
    "        'gefunden',\n",
    "        'the',\n",
    "        'ok',\n",
    "        'hof',\n",
    "        'erzählt',\n",
    "        'weißt',\n",
    "        'dingen',\n",
    "        'sendung',\n",
    "        'regeln',\n",
    "        'angeblich',\n",
    "        'warnt',\n",
    "        'weise',\n",
    "        'recherche',\n",
    "        'youtube',\n",
    "        'angesprochen',\n",
    "        'kreis',\n",
    "        'inhalte',\n",
    "        'parteien',\n",
    "        'studie',\n",
    "        'bundestag',\n",
    "        'montag',\n",
    "        'dienstag',\n",
    "        'mittwoch',\n",
    "        'donnerstag',\n",
    "        'freitag',\n",
    "        'samstag',\n",
    "        'sonntag',\n",
    "        'teilt',\n",
    "        'arbeitet',\n",
    "        'angesichts',\n",
    "        'hieß',\n",
    "        'jan',\n",
    "        'dorf',\n",
    "        'sport',\n",
    "        'interessanterweise',\n",
    "        'krone',\n",
    "        'vereinigten',\n",
    "        'sogenannten',\n",
    "        'wochenende',\n",
    "        'alt',\n",
    "        'hans',\n",
    "        'aktuelle',\n",
    "        'stefan',\n",
    "        'videos',\n",
    "        'dame',\n",
    "        'michael',\n",
    "        'lage',\n",
    "        'handelt',\n",
    "        'spd',\n",
    "        'afd',\n",
    "        'afg',\n",
    "        'zeigt',\n",
    "        'stimmt',\n",
    "        'sag',\n",
    "        'kriegen',\n",
    "        'themen',\n",
    "        'bundesländern',\n",
    "        'blicken',\n",
    "        'ebene',\n",
    "        'team',\n",
    "        'begleiten',\n",
    "        'sucht',\n",
    "        'freunde',\n",
    "        'vorhin',\n",
    "        'keller',\n",
    "        'gucken',\n",
    "        'erzählen',\n",
    "        'bauer',\n",
    "        'herzlich',\n",
    "        'fahren',\n",
    "        'gerufen',\n",
    "        'bewertung',\n",
    "        'zunehmend',\n",
    "        'zeitungen',\n",
    "        'platz',\n",
    "        'autos',\n",
    "        'erklärte',\n",
    "        'stück',\n",
    "        'gelesen',\n",
    "        'boden',\n",
    "        'herzlich willkommen',\n",
    "        'grüne',\n",
    "        'matthias',\n",
    "        'begriff',\n",
    "        'erlebt',\n",
    "        'nächsten',\n",
    "        'tatsachen',\n",
    "        'aufgelöst',\n",
    "        'kamera',\n",
    "        'sebastian',\n",
    "        'kunst',\n",
    "        'film',\n",
    "        'karl',\n",
    "        'gemeinsam',\n",
    "        'fuß',\n",
    "        'museum',\n",
    "        'lebt',\n",
    "        'interview',\n",
    "        'willkommen',\n",
    "        'brief',\n",
    "        'idee',\n",
    "        'gemerkt',\n",
    "        'markus',\n",
    "        'super',\n",
    "        'zimmer',\n",
    "        'wesentlichen',\n",
    "        'helfen',\n",
    "        'praktisch',\n",
    "        'ablehnen',\n",
    "        'new',\n",
    "        'wichtigsten',\n",
    "        'form',\n",
    "        'kennt',\n",
    "        'abgespielt',\n",
    "        'rolle',\n",
    "        'hand',\n",
    "        'egal',\n",
    "        'früh',\n",
    "        'zeitung',\n",
    "        'zuschauer',\n",
    "        'rahmen',\n",
    "        'hause',\n",
    "        'hört',\n",
    "        'hände',\n",
    "        'essen',\n",
    "        'logik',\n",
    "        'einzelnen',\n",
    "        'zustände',\n",
    "        'schulen',\n",
    "        'unterschiedlichen',\n",
    "        'diesmal',\n",
    "        'handeln',\n",
    "        'telefon',\n",
    "        'tasche',\n",
    "        'bildern',\n",
    "        'material',\n",
    "        'ruhig',\n",
    "        'sabine',\n",
    "        'beziehungsweise',\n",
    "        'befinden',\n",
    "        'text',\n",
    "        'denken',\n",
    "        'serie',\n",
    "        'meinte',\n",
    "        'müller',\n",
    "        'informiert',\n",
    "        'verdienen',\n",
    "        'melden',\n",
    "        'sowas',\n",
    "        'formen',\n",
    "        'griff',\n",
    "        'blick',\n",
    "        'entschieden',\n",
    "        'sinnvoll',\n",
    "        'beschrieben',\n",
    "        'könne',\n",
    "        'druck',\n",
    "        'mund',\n",
    "        'andrea',\n",
    "        'interesse',\n",
    "        'bezug',\n",
    "        'guckt',\n",
    "        'möglichkeit',\n",
    "        'stunde',\n",
    "        'sorgen',\n",
    "        'gekriegt',\n",
    "        'aufzug',\n",
    "        'umgekehrt',\n",
    "        'treffen',\n",
    "        'gesicht',\n",
    "        'anführungszeichen',\n",
    "        'ruhe',\n",
    "        'foto',\n",
    "        'publikum',\n",
    "        'klären',\n",
    "        'draußen',\n",
    "        'sogenannte',\n",
    "        'warten',\n",
    "        'mittag',\n",
    "        'npd',\n",
    "        'jungs',\n",
    "        'instagram',\n",
    "        'job',\n",
    "        'vorstellbar',\n",
    "        'pflichten',\n",
    "        'schwierigen',\n",
    "        'bühne',\n",
    "        'bezahlt',\n",
    "        'reden',\n",
    "        'passieren',\n",
    "        'begleitet',\n",
    "        'täglich',\n",
    "        'zitiere',\n",
    "        'vertrauen',\n",
    "        'natur',\n",
    "        'namen',\n",
    "        'nähe',\n",
    "        'social media',\n",
    "        'lernt',\n",
    "        'fahrrad',\n",
    "        'jeweiligen',\n",
    "        'bedeutet',\n",
    "        'zitiert',\n",
    "        'schreibt',\n",
    "        'nummer',\n",
    "        'struktur',\n",
    "        'meinung',\n",
    "        'rufen',\n",
    "        'thomas',\n",
    "        'sagst',\n",
    "        'wusste',\n",
    "        'sekunden',\n",
    "        'zeitgleich',\n",
    "        'un',\n",
    "        'ahnung',\n",
    "        'hinaus',\n",
    "        'josef',\n",
    "        'freundin',\n",
    "        'chance',\n",
    "        'fördern',\n",
    "        'polizei polizei',\n",
    "        'bar',\n",
    "        'hohen',\n",
    "        'angeht',\n",
    "        'selten',\n",
    "        'geäußert',\n",
    "        'bestätigt',\n",
    "        'ex',\n",
    "        'wagen',\n",
    "        'stattfinden',\n",
    "        'hammer',\n",
    "        'kritische',\n",
    "        'fest',\n",
    "        'fake',\n",
    "        'gebe',\n",
    "        'prinzip',\n",
    "        'john',\n",
    "        'drittel',\n",
    "        'saßen',\n",
    "        'liebe',\n",
    "        'beruf',\n",
    "        'viertel',\n",
    "        'gedacht',\n",
    "        'rande',\n",
    "        'rechnen',\n",
    "        'übrigen',\n",
    "        'folgen',\n",
    "        'papier',\n",
    "        'spannend',\n",
    "        'umsetzung',\n",
    "        'linkspartei',\n",
    "        'nennt',\n",
    "        'david',\n",
    "        'angerufen',\n",
    "        'fallen',\n",
    "        'daraufhin',\n",
    "        'beziehung',\n",
    "        'facebook',\n",
    "        'raum',\n",
    "        'stellte',\n",
    "        'mehreren',\n",
    "        'erfahren',\n",
    "        'meint',\n",
    "        'büro',\n",
    "        'wächst',\n",
    "        'tätig',\n",
    "        'durchgeführt',\n",
    "        'winter',\n",
    "        'ralf',\n",
    "        'lisa',\n",
    "        'folge',\n",
    "        'betreut',\n",
    "        'de',\n",
    "        'partner',\n",
    "        'frühen',\n",
    "        'twitter',\n",
    "        'jahrelang',\n",
    "        'denkt',\n",
    "        'herbst',\n",
    "        'antwort',\n",
    "        'gingen',\n",
    "        'gehören',\n",
    "        'wenigen',\n",
    "        'fängt',\n",
    "        'durchzusetzen',\n",
    "        'gegangen',\n",
    "        'trainer',\n",
    "        'zaun',\n",
    "        'wohnt',\n",
    "        'komplett',\n",
    "        'öffentliche',\n",
    "        'plus',\n",
    "        'computer',\n",
    "        'last gelegt',\n",
    "        'wild',\n",
    "        'alter',\n",
    "        'verlassen',\n",
    "        'mark',\n",
    "        'firma',\n",
    "        'glaub',\n",
    "        'ärtze',\n",
    "        'schön',\n",
    "        'schritt',\n",
    "        'überwiegend',\n",
    "        'könig',\n",
    "        'rennen',\n",
    "        'leitet',\n",
    "        'fan',\n",
    "        'jahrhundert',\n",
    "        'auftrag',\n",
    "        'afrika',\n",
    "        'effektiv',\n",
    "        'stein',\n",
    "        'interessiert',\n",
    "        'plätze',\n",
    "        'wand',\n",
    "        'kindheit',\n",
    "        'verlässt',\n",
    "        'befindet',\n",
    "        'erfolg',\n",
    "        'schule',\n",
    "        'klingt',\n",
    "        'aussieht',\n",
    "        'termin',\n",
    "        'gestrigen',\n",
    "        'gemeldet',\n",
    "        'kümmern',\n",
    "        'prüfung',\n",
    "        'laufen',\n",
    "        'gespielt',\n",
    "        'vielmehr',\n",
    "        'haltung',\n",
    "        'petra',\n",
    "        'holen',\n",
    "        'fährt',\n",
    "        'dr',\n",
    "        'hose',\n",
    "        'dringend',\n",
    "        'kilometer',\n",
    "        'schneller',\n",
    "        'abwarten',\n",
    "        'spaß',\n",
    "        'teils',\n",
    "        'überlegt',\n",
    "        'wort',\n",
    "        'bemerkenswert',\n",
    "        'gelegt',\n",
    "        'gelernt',\n",
    "        'willen',\n",
    "        'ehemalige',\n",
    "        'spieler',\n",
    "        'erstens',\n",
    "        'nachvollziehbar',\n",
    "        'anrufe',\n",
    "        'versuchte',\n",
    "        'digitalen',\n",
    "        'knie',\n",
    "        'wasser',\n",
    "        'nachricht',\n",
    "        'ehemann',\n",
    "        'leiter',\n",
    "        'max',\n",
    "        'eventuell',\n",
    "        'beginnt',\n",
    "        'eingeführt',\n",
    "        'gesamten',\n",
    "        'lässt',\n",
    "        'stand',\n",
    "        'mitgenommen',\n",
    "        'erstattet',\n",
    "        'jeweils',\n",
    "        'bricht',\n",
    "        'verloren',\n",
    "        'anhand',\n",
    "        'fritz',\n",
    "        'jahres',\n",
    "        'christoph',\n",
    "        'registriert',\n",
    "        'uwe',\n",
    "        'tritt',\n",
    "        'stehe',\n",
    "        'anruf',\n",
    "        'wartet',\n",
    "        'fehlverhalten',\n",
    "        'dokumentation',\n",
    "        'wiener',\n",
    "        'wütend',\n",
    "        'bestätigen',\n",
    "        'roman',\n",
    "        'gefeiert',\n",
    "        'briefe',\n",
    "        'wunderbar',\n",
    "        'dicht',\n",
    "        'liefern',\n",
    "        'unbekannt',\n",
    "        'erhebliche',\n",
    "        'präsentiert',\n",
    "        'bank',\n",
    "        'normal',\n",
    "        'internen',\n",
    "        'otto',\n",
    "        'inneren',\n",
    "        'hauses',\n",
    "        'mieten',\n",
    "        'bücher',\n",
    "        'dreimal',\n",
    "        'unmut',\n",
    "        'reicht',\n",
    "        'alternative',\n",
    "        'schrecklich',\n",
    "        'fahrer',\n",
    "        'schönen'\n",
    "        'filmen',\n",
    "        'angucken',\n",
    "        'erhalt',\n",
    "        'wohnungen',\n",
    "        'monat',\n",
    "        'rasen',\n",
    "        'trinken',\n",
    "        'kennen',\n",
    "        'konzert',\n",
    "        'kanzlerin',\n",
    "        'geregelt',\n",
    "        'mails',\n",
    "        'gott',\n",
    "        'rüber',\n",
    "        'position',\n",
    "        'hygiene',\n",
    "        'gebiet',\n",
    "        'fdp',\n",
    "        'studiert',\n",
    "        'gelaufen',\n",
    "        'wahnsinn',\n",
    "        'unterstützen',\n",
    "        'fühlt',\n",
    "        'verzweiflung',\n",
    "        'initiativen',\n",
    "        'angeschaut',\n",
    "        'psychische',\n",
    "        'frühjahr',\n",
    "        'wirklichkeit',\n",
    "        'absolut',\n",
    "        'journalisten',\n",
    "        'erscheint',\n",
    "        'experten',\n",
    "        'shop',\n",
    "        'halte',\n",
    "        'spezial',\n",
    "        'besondere',\n",
    "        'problematisch',\n",
    "        'folgt',\n",
    "        'gelassen',\n",
    "        'aktuellen',\n",
    "        'bahn',\n",
    "        'inhaltlich',\n",
    "        'frieden',\n",
    "        'kollegin',\n",
    "        'sitzen',\n",
    "        'patienten',\n",
    "        'verschiedenen',\n",
    "        'auszugehen',\n",
    "        'arbeitgeber',\n",
    "        'kongress',\n",
    "        'verständnis',\n",
    "        'auskunft',\n",
    "        'verstanden',\n",
    "        'flughafen',\n",
    "        'verwendet',\n",
    "        'verschickt',\n",
    "        'karriere',\n",
    "        'mitmachen',\n",
    "        'spenden',\n",
    "        'panik',\n",
    "        'engagiert',\n",
    "        'risiko',\n",
    "        'cdu',\n",
    "        'saß',\n",
    "        'offiziell',\n",
    "        'enttäuschung',\n",
    "        'kurze',\n",
    "        'größe',\n",
    "        'wahlen',\n",
    "        'beispiele',\n",
    "        'verändert',\n",
    "        'begegnet',\n",
    "        'morgens',\n",
    "        'app',\n",
    "        'last',\n",
    "        'bestrebungen',\n",
    "        'lkw',\n",
    "        'entstehen',\n",
    "        'schlechte',\n",
    "        'arbeiter',\n",
    "        'fokus',\n",
    "        'massiven',\n",
    "        'meldungen',\n",
    "        'bekommt',\n",
    "        'aufgehoben',\n",
    "        'durchgesetzt',\n",
    "        'trotz',\n",
    "        'erlassen',\n",
    "        'art weise',\n",
    "        'landtag',\n",
    "        'unterstützer',\n",
    "        'fahrzeuge',\n",
    "        'ausführlich',\n",
    "        'wussten',\n",
    "        'hören',\n",
    "        'unabhängige',\n",
    "        'sommer',\n",
    "        'umgang',\n",
    "        'ausgewertet',\n",
    "        'führen',\n",
    "        'unabhängig',\n",
    "        'beendet',\n",
    "        'verlangen',\n",
    "        'hunde',\n",
    "        'masse',\n",
    "        'fühlen',\n",
    "        'franz',\n",
    "        'teppich',\n",
    "        'auge',\n",
    "        'glaubt',\n",
    "        'holt',\n",
    "        'erwähnt',\n",
    "        'zeitpunkt',\n",
    "        'spielt',\n",
    "        'rechnet',\n",
    "        'beteiligen',\n",
    "        'verkaufen',\n",
    "        'erklärt',\n",
    "        'lasst',\n",
    "        'herrn',\n",
    "        'beitrag',\n",
    "        'decke',\n",
    "        'vormittag',\n",
    "        'of',\n",
    "        'akku',\n",
    "        'hoffnung',\n",
    "        'meyer',\n",
    "        'mieter',\n",
    "        'kaufen',\n",
    "        'alltag',\n",
    "        'armut',\n",
    "        'straßen',\n",
    "        'zufällig',\n",
    "        'punkte',\n",
    "        'aufgewachsen',\n",
    "        'bergen',\n",
    "        'begründen',\n",
    "        'wetter',\n",
    "        'nix',\n",
    "        'entfernt',\n",
    "        'verantworten',\n",
    "        'gelingt',\n",
    "        'erfolgt',\n",
    "        'mut',\n",
    "        'weltweit',\n",
    "        'empfinde',\n",
    "        'menschlich',\n",
    "        'falscher',\n",
    "        'verbinden',\n",
    "        'bezeichnet',\n",
    "        'offizielle',\n",
    "        'agentur',\n",
    "        'kommentar',\n",
    "        'ehepaar',\n",
    "        'diskutieren',\n",
    "        'seitens',\n",
    "        'abgeschlossen',\n",
    "        'ließ',\n",
    "        'geräumt',\n",
    "        'arbeitsplatz',\n",
    "        'alexander',\n",
    "        'entspannt',\n",
    "        'existiert',\n",
    "        'gegründet',\n",
    "        'verstärkt',\n",
    "        'entwicklung',\n",
    "        'schöne',\n",
    "        'bekam',\n",
    "        'friedlicher',\n",
    "        'versprechen',\n",
    "        'schwerer',\n",
    "        'wesentlich',\n",
    "        'endet',\n",
    "        'direktor',\n",
    "        'bunt',\n",
    "        'traf',\n",
    "        'älter',\n",
    "        'gezeigt',\n",
    "        'krise',\n",
    "        'definiert',\n",
    "        'walter',\n",
    "        'sorgt',\n",
    "        'stark',\n",
    "        'mitnehmen',\n",
    "        'aufgestellt',\n",
    "        'blöd',\n",
    "        'hey',\n",
    "        'passt',\n",
    "        'ding',\n",
    "        'ecke',\n",
    "        'beschluss',\n",
    "        'versteckt',\n",
    "        'betreten',\n",
    "        'aktion',\n",
    "        'verwickelt',\n",
    "        'wahl',\n",
    "        'objekt',\n",
    "        'deutlicher',\n",
    "        'haustür',\n",
    "        'begrüßen',\n",
    "        'rest',\n",
    "        'dauer',\n",
    "        'todes',\n",
    "        'kannte',\n",
    "        'beschreiben',\n",
    "        'laufe',\n",
    "        'freut',\n",
    "        'echten',\n",
    "        'villa',\n",
    "        'angefasst',\n",
    "        'orte',\n",
    "        'zb',\n",
    "        'erwartet',\n",
    "        'ergebnisse',\n",
    "        'maßnahme',\n",
    "        'pflege',\n",
    "        'situationen',\n",
    "        'erleben',\n",
    "        'schlimmste',\n",
    "        'sinne',\n",
    "        'ausnahmen',\n",
    "        'helfer',\n",
    "        'ältere',\n",
    "        'freiwillig',\n",
    "        'hierher',\n",
    "        'ehemaligen',\n",
    "        'einrichtung',\n",
    "        'reale',\n",
    "        'geburtstag',\n",
    "        'rum',\n",
    "        'generell',\n",
    "        'brot',\n",
    "        'gesteckt',\n",
    "        'leid',\n",
    "        'übernimmt',\n",
    "        'füßen',\n",
    "        'hotel',\n",
    "        'theorie',\n",
    "        'geradezu',\n",
    "        'verstehe',\n",
    "        'auftakt',\n",
    "        'geschafft',\n",
    "        'vorschlag',\n",
    "        'bett',\n",
    "        'union',\n",
    "        'erfüllt',\n",
    "        'schluss',\n",
    "        'lohnt',\n",
    "        'lass',\n",
    "        'erfahrung',\n",
    "        'entsetzen',\n",
    "        'krank',\n",
    "        'nachdenken',\n",
    "        'verändern',\n",
    "        'furchtbar',\n",
    "        'gründen',\n",
    "        'thematisiert',\n",
    "        'besucht',\n",
    "        'erschienen',\n",
    "        'bezogen',\n",
    "        'internet',\n",
    "        'gründe',\n",
    "        'pause',\n",
    "        'kehrt',\n",
    "        'trauer',\n",
    "        'werte',\n",
    "        'umzusetzen',\n",
    "        'erfolgen',\n",
    "        'gespräche',\n",
    "        'el',\n",
    "        'bringt',\n",
    "        'voller',\n",
    "        'post',\n",
    "        'beamter',\n",
    "        'bewusst',\n",
    "        'rückt',\n",
    "        'friedlichen',\n",
    "        'anwendung',\n",
    "        'umstände',\n",
    "        'user',\n",
    "        'komisch',\n",
    "        'krass',\n",
    "        'balkon',\n",
    "        'hinweg',\n",
    "        'quatsch',\n",
    "        'erledigt',\n",
    "        'versagen',\n",
    "        'genauer',\n",
    "        'rainer',\n",
    "        'geld verdienen',\n",
    "        'zuständigen',\n",
    "        'grün',\n",
    "        'nachts',\n",
    "        'explizit',\n",
    "        'feld',\n",
    "        'geschlossen',\n",
    "        'dauert',\n",
    "        'mitgliedern',\n",
    "        'bauern',\n",
    "        'eingehen',\n",
    "        'anderthalb',\n",
    "        'camp',\n",
    "        'park',\n",
    "        'hauptsächlich',\n",
    "        'führt',\n",
    "        'jugend',\n",
    "        'unglaubliche',\n",
    "        'erkennen',\n",
    "        'kriegt',\n",
    "        'mitbekommen',\n",
    "        'größten',\n",
    "        'versteht',\n",
    "        'heißen',\n",
    "        'fakt',\n",
    "        'stoßen',\n",
    "        'dutzend',\n",
    "        'ausgesprochen',\n",
    "        'genutzt',\n",
    "        'politischer',\n",
    "        'internationale',\n",
    "        'debatten',\n",
    "        'ständig',\n",
    "        'these',\n",
    "        'kümmert',\n",
    "        'fotos',\n",
    "        'trend',\n",
    "        'früheren',\n",
    "        'potenziell',\n",
    "        'lautet',\n",
    "        'adresse',\n",
    "        'geschäft',\n",
    "        'schlafen',\n",
    "        'angemeldet',\n",
    "        'reichte',\n",
    "        'faust',\n",
    "        'lief',\n",
    "        'hinweisen',\n",
    "        'interessen',\n",
    "        'bus',\n",
    "        'name',\n",
    "        'ordentlich',\n",
    "        'anhängern',\n",
    "        'vertreter',\n",
    "        'endes',\n",
    "        'politisches',\n",
    "        'absurd',\n",
    "        'entwicklungen',\n",
    "        'vorliegen',\n",
    "        'welten',\n",
    "        'breite',\n",
    "        'amt',\n",
    "        'spiel',\n",
    "        'derweil',\n",
    "        'dachte',\n",
    "        'froh',\n",
    "        'stellt',\n",
    "        'hauptbahnhof',\n",
    "        'bewegen',\n",
    "        'unterschied',\n",
    "        'führte',\n",
    "        'kommenden',\n",
    "        'kosten',\n",
    "        'ablehnung',\n",
    "        'signal',\n",
    "        'aufgetaucht',\n",
    "        'fällt',\n",
    "        'einzige',\n",
    "        'bürgerlichen',\n",
    "        'kämpfen',\n",
    "        'verschiedene',\n",
    "        'inwieweit',\n",
    "        'stichwort',\n",
    "        'anliegen',\n",
    "        'greift',\n",
    "        'geworfen',\n",
    "        'rosa',\n",
    "        'csu',\n",
    "        'überzeugt',\n",
    "        'öffentlich',\n",
    "        'verbessern',\n",
    "        'police',\n",
    "        'späten',\n",
    "        'trifft',\n",
    "        'verkehr',\n",
    "        'schritte',\n",
    "        'untereinander',\n",
    "        'abstimmung',\n",
    "        'künstler',\n",
    "        'harte',\n",
    "        'vergangenheit',\n",
    "        'ressourcen',\n",
    "        'dankbar',\n",
    "        'erkennbar',\n",
    "        'kontrolliert',\n",
    "        'wirft',\n",
    "        'gegebenenfalls',\n",
    "        'umgebung',\n",
    "        'allermeisten',\n",
    "        'gucke',\n",
    "        'stufe',\n",
    "        'fazit',\n",
    "        'extra',\n",
    "        'klasse',\n",
    "        'aufsicht',\n",
    "        'symbol',\n",
    "        'erwarte',\n",
    "        'merkt',\n",
    "        'geguckt',\n",
    "        'erfährt',\n",
    "        'körper',\n",
    "        'rollstuhl',\n",
    "        'wolf',\n",
    "        'führerschein',\n",
    "        'kritisch',\n",
    "        'beschäftigen',\n",
    "        'finger',\n",
    "        'bereitet',\n",
    "        'ausgehen',\n",
    "        'satz',\n",
    "        'spannende',\n",
    "        'lehrer',\n",
    "        'siehst',\n",
    "        'trauen',\n",
    "        'gelten',\n",
    "        'häuser',\n",
    "        'kenne',\n",
    "        'kultur',\n",
    "        'nation',\n",
    "        'bittet',\n",
    "        'hoffen',\n",
    "        'hart',\n",
    "        'wichtige',\n",
    "        'verlauf',\n",
    "        'sorgte',\n",
    "        'brechen',\n",
    "        'erfahrungen',\n",
    "        'ausgeht',\n",
    "        'unbehelligt',\n",
    "        'freuen',\n",
    "        'halbe',\n",
    "        'versuche',\n",
    "        'fliegen',\n",
    "        'monaten',\n",
    "        'unterhalten',\n",
    "        'chor',\n",
    "        'geöffnet',\n",
    "        'aufgeregt',\n",
    "        'unglück',\n",
    "        'wald',\n",
    "        'kirche',\n",
    "        'zuständig',\n",
    "        'verbreiten',\n",
    "        'interviews',\n",
    "        'glauben',\n",
    "        'zähne',\n",
    "        'überlegen',\n",
    "        'nachgedacht',\n",
    "        'bäume',\n",
    "        'fußball',\n",
    "        'sitz',\n",
    "        'stören',\n",
    "        'osten',\n",
    "        'gemeint',\n",
    "        'private',\n",
    "        'vereinigung',\n",
    "        'schüler',\n",
    "        'anlässlich',\n",
    "        'zweieinhalb',\n",
    "        'funktion',\n",
    "        'umständen',\n",
    "        'wichtiger',\n",
    "        'redaktion',\n",
    "        'gezwungen',\n",
    "        'angst angst',\n",
    "        'wirkt',\n",
    "        'erstmals',\n",
    "        'anbietet',\n",
    "        'festgehalten',\n",
    "        'gewinnt',\n",
    "        'test',\n",
    "        'vorgesehen',\n",
    "        'kern',\n",
    "        'irgendwelchen',\n",
    "        'meldet',\n",
    "        'tipp',\n",
    "        'freilich',\n",
    "        'verstehen',\n",
    "        'treiben',\n",
    "        'behindert',\n",
    "        'genannt',\n",
    "        'zustimmung',\n",
    "        'grenzen',\n",
    "        'gesamte',\n",
    "        'sturm',\n",
    "        'geboren',\n",
    "        'anderswo',\n",
    "        'passen',\n",
    "        'falschen',\n",
    "        'holger',\n",
    "        'umstrittenen',\n",
    "        'training',\n",
    "        'massen',\n",
    "        'erklären',\n",
    "        'gitter',\n",
    "        'erfolgreich',\n",
    "        'fahrt',\n",
    "        'mehrzahl',\n",
    "        'lösen',\n",
    "        'hälfte',\n",
    "        'massive',\n",
    "        'müll',\n",
    "        'wohnen',\n",
    "        'aufmerksamkeit',\n",
    "        'vielfach',\n",
    "        'plakate',\n",
    "        'misstrauen',\n",
    "        'geschäftsführer',\n",
    "        'dokumente',\n",
    "        'sachlich',\n",
    "        'lehnt',\n",
    "        'zurzeit',\n",
    "        'atmosphäre',\n",
    "        'zivilen',\n",
    "        'gegenstand',\n",
    "        'beauftragt',\n",
    "        'taschen',\n",
    "        'ereignisse',\n",
    "        'roten',\n",
    "        'ausgesetzt',\n",
    "        'körperliche',\n",
    "        'worum',\n",
    "        'gerät',\n",
    "        'bedenken',\n",
    "        'gefordert',\n",
    "        'unterstützern',\n",
    "        'parkplatz',\n",
    "        'kämpft',\n",
    "        'maßen',\n",
    "        'unfassbar',\n",
    "        'sicht',\n",
    "        'nett',\n",
    "        'kompetenz',\n",
    "        'vermeintliche',\n",
    "        'kreisen',\n",
    "        'dauern',\n",
    "        'flächendeckend',\n",
    "        'systeme',\n",
    "        'nahmen',\n",
    "        'kommentiert',\n",
    "        'ändern',\n",
    "        'eingeschaltet',\n",
    "        'abgelaufen',\n",
    "        'touristen',\n",
    "        'weitergeht',\n",
    "        'lustig',\n",
    "        'karte',\n",
    "        'jagen',\n",
    "        'forschung',\n",
    "        'doktor',\n",
    "        'lasse',\n",
    "        'gerechnet',\n",
    "        'stimmen',\n",
    "        'rücken',\n",
    "        'haut',\n",
    "        'heftig',\n",
    "        'blatt',\n",
    "        'beobachter',\n",
    "        'nachfragen',\n",
    "        'laden',\n",
    "        'unsicherheit',\n",
    "        'präsenz',\n",
    "        'zwingend',\n",
    "        'verbindung',\n",
    "        'verein',\n",
    "        'seriös',\n",
    "        'kranke',\n",
    "        'grüße',\n",
    "        'ohnehin',\n",
    "        'ungerecht',\n",
    "        'fraktion',\n",
    "        'werbung',\n",
    "        'gäste',\n",
    "        'zuhause',\n",
    "        'anschauen',\n",
    "        'schwierigkeiten',\n",
    "        'falsche',\n",
    "        'kontakt',\n",
    "        'erlaubt',\n",
    "        'gedrückt',\n",
    "        'voraus',\n",
    "        'jährlich',\n",
    "        'erkrankt',\n",
    "        'einzelne',\n",
    "        'gestört',\n",
    "        'gefilmt',\n",
    "        'reisen',\n",
    "        'wert',\n",
    "        'lese',\n",
    "        'ließen',\n",
    "        'überrascht',\n",
    "        'verwenden',\n",
    "        'löste',\n",
    "        'telefoniert',\n",
    "        'erzählte',\n",
    "        'geführt',\n",
    "        'erstaunlich',\n",
    "        'lernen',\n",
    "        'ansicht',\n",
    "        'anschließend',\n",
    "        'immobilien',\n",
    "        'profil',\n",
    "        'sauer',\n",
    "        'geheim',\n",
    "        'regelrecht',\n",
    "        'worauf',\n",
    "        'aufgerufen',\n",
    "        'liegen',\n",
    "        'müsse',\n",
    "    ]\n",
    "}"
   ]
  },
  {
   "cell_type": "code",
   "execution_count": 2,
   "metadata": {},
   "outputs": [],
   "source": [
    "\n",
    "from sklearn.feature_extraction.text import CountVectorizer\n",
    "from sklearn.preprocessing import StandardScaler\n",
    "from sklearn.decomposition import TruncatedSVD\n",
    "import pandas as pd\n",
    "\n",
    "import joblib\n",
    "import numpy as np\n",
    "\n",
    "political_spectrum_dict = {\n",
    "    'junge Welt':'left',\n",
    "    'NachDenkSeiten':'left',\n",
    "    'taz':'left leaning',\n",
    "    'Süddeutsche Zeitung':'center',\n",
    "    'stern TV':'left leaning',\n",
    "    'DER SPIEGEL':'left leaning',\n",
    "    'Der Tagesspiegel':'center',\n",
    "    'ARD':'center',\n",
    "    'ZDF':'center',\n",
    "    'ZDFheute Nachrichten':'center',\n",
    "    'Bayerischer Rundfunk':'center',\n",
    "    'ntv Nachrichten':'center',\n",
    "    'RTL':'right leaning',\n",
    "    'FOCUS Online':'right leaning',\n",
    "    'ZEIT ONLINE':'center',\n",
    "    'faz':'center',\n",
    "    'WELT':'center',\n",
    "    'BILD':'right leaning',\n",
    "    'NZZ Neue Zürcher Zeitung':'right leaning',\n",
    "    'Junge Freiheit':'right',\n",
    "    'COMPACTTV':'right'\n",
    "}\n",
    "\n",
    "media = [\n",
    "    'junge Welt',\n",
    "    \"NachDenkSeiten\",\n",
    "    'taz',\n",
    "    'Süddeutsche Zeitung',\n",
    "    'stern TV',\n",
    "    \"DER SPIEGEL\",\n",
    "    'Der Tagesspiegel',\n",
    "    'ARD',\n",
    "    'Tagesschau',\n",
    "    'ZDF',\n",
    "    \"ZDFheute Nachrichten\",\n",
    "    'Bayerischer Rundfunk',\n",
    "    'ntv Nachrichten',\n",
    "    'RTL',\n",
    "    'FOCUS Online',\n",
    "    'ZEIT ONLINE',\n",
    "    'faz',\n",
    "    'WELT',\n",
    "    \"BILD\",\n",
    "    'NZZ Neue Zürcher Zeitung',\n",
    "    \"Junge Freiheit\",\n",
    "    'COMPACTTV'\n",
    "]\n",
    "\n",
    "def define_print(verbose=True):\n",
    "    if verbose:\n",
    "        verboseprint = print\n",
    "    else:\n",
    "        verboseprint = lambda *args: None\n",
    "    return verboseprint\n",
    "\n",
    "\n",
    "def extract_topics(df, cv_model, lda_model, to_csv=True, verbose=True):\n",
    "    verboseprint = define_print(verbose=verbose)\n",
    "    df.dropna(inplace=True)\n",
    "\n",
    "    verboseprint(f\"getting topics for {df.shape[0]} videos...\")\n",
    "    lda = cv_model.transform(df[\"preprocessed\"].to_list())\n",
    "    lda = lda_model.transform(lda)\n",
    "    lda = pd.DataFrame(lda)\n",
    "    lda.rename(columns=topic_dict, inplace=True)\n",
    "    dominant_topic_list = [topic_dict[topic] for topic in np.argmax(lda.values, axis=1)]\n",
    "    dominant_topic_mask = np.max(lda.values, axis=1) < 0.3\n",
    "    lda[\"dominant topic\"] = dominant_topic_list\n",
    "    lda.loc[dominant_topic_mask, \"dominant topic\"] = \"None\"\n",
    "\n",
    "    # lda['dominant topic'] = lda.apply(lambda row: np.argmax(row.values) if np.max(row.values) > 0.3 else 'None')\n",
    "    lda[\"id\"] = df[\"id\"].to_list()\n",
    "\n",
    "    verboseprint(\"merging data...\")\n",
    "    df = df.merge(lda, how=\"outer\", on=\"id\")\n",
    "    if to_csv:\n",
    "        verboseprint(\"saving csv file...\")\n",
    "        df.to_csv(\"../data/labeled/\" + df[\"medium\"].iloc[0] + \"_labeled.csv\")\n",
    "    return df\n",
    "\n",
    "\n",
    "def sort_topics(dfs, to_csv=True, verbose=True):\n",
    "    verboseprint = define_print(verbose=verbose)\n",
    "    dfs_dict = {}\n",
    "\n",
    "    verboseprint(\"initializing dataframes...\")\n",
    "    for _, topic in topic_dict.items():\n",
    "        dfs_dict[topic] = pd.DataFrame()\n",
    "\n",
    "    dfs_dict[\"None\"] = pd.DataFrame()\n",
    "\n",
    "    verboseprint(f\"iterating through {len(dfs)} input dataframes...\")\n",
    "    for df in dfs:\n",
    "        verboseprint(\"sorting \" + df[\"medium\"].iloc[0] + \" dataframe by topic...\")\n",
    "        for _, topic in topic_dict.items():\n",
    "            dfs_dict[topic] = pd.concat(\n",
    "                [dfs_dict[topic], df[df[\"dominant topic\"] == topic]]\n",
    "            )\n",
    "        dfs_dict[\"None\"] = pd.concat(\n",
    "            [dfs_dict[\"None\"], df[df[\"dominant topic\"] == \"None\"]]\n",
    "        )\n",
    "\n",
    "    if to_csv:\n",
    "        verboseprint(\"saving csv files...\")\n",
    "        for _, topic in topic_dict.items():\n",
    "            dfs_dict[topic].to_csv(\"../data/sorted/\" + topic + \".csv\")\n",
    "        dfs_dict[\"None\"].to_csv(\"../data/sorted/None.csv\")\n",
    "\n",
    "    return dfs_dict\n",
    "\n",
    "\n",
    "def get_N_matrix(df, verbose=True, drop_subsumed=True, drop_medium_specific=True):\n",
    "    verboseprint = define_print(verbose=verbose)\n",
    "    MEDIA = media\n",
    "    cv = CountVectorizer(max_df=0.9, min_df=10, max_features=10000, ngram_range=(1, 3))\n",
    "    topic = df.iloc[0]['topic']\n",
    "    \n",
    "    #cv.fit(df[\"preprocessed\"])\n",
    "    verboseprint(\"restructuring dataframe with \" + str(len(df)) + \" transcripts...\")\n",
    "    df[\"preprocessed\"] = df[\"preprocessed\"] + \" \"\n",
    "    df = df[[\"medium\", \"preprocessed\", \"topic\"]]\n",
    "    df_grouped = df.groupby([\"medium\", \"topic\"]).sum()\n",
    "\n",
    "    df = pd.DataFrame(index=MEDIA, columns=[\"preprocessed\"])\n",
    "    empty_media = []\n",
    "    for medium in MEDIA:\n",
    "        try:\n",
    "            df.loc[medium] = df_grouped.loc[medium].loc[topic][\"preprocessed\"]\n",
    "        except:\n",
    "            print(\n",
    "                medium\n",
    "                + \" does not have any videos categorized under category '\"\n",
    "                + topic\n",
    "                + \"'.\"\n",
    "            )\n",
    "            df.drop(index=medium, inplace=True)\n",
    "            empty_media.append(medium)\n",
    "\n",
    "    for empty_medium in empty_media:\n",
    "        MEDIA.remove(empty_medium)\n",
    "\n",
    "    verboseprint(\"fitting cv model for topic \" + topic + \"...\")\n",
    "    N_matrix = cv.fit_transform(df[\"preprocessed\"].values)\n",
    "\n",
    "    verboseprint(\"counting n-gram occurences...\")\n",
    "    N_df = pd.DataFrame(\n",
    "        data=N_matrix.toarray().transpose(),\n",
    "        columns=df.index,\n",
    "        index=cv.get_feature_names_out(),\n",
    "    )\n",
    "\n",
    "    if drop_medium_specific:\n",
    "        verboseprint(\n",
    "            \"dropping medium-specific n-grams that occur in one medium at least 90% of the time...\"\n",
    "        )\n",
    "        N_sum = N_df.sum(axis=1)\n",
    "        specific_mask = np.full(len(N_df.index), False)\n",
    "        mask_df = N_df.apply(lambda x: x>0.9*N_sum)\n",
    "        for medium in MEDIA:\n",
    "            specific_mask = specific_mask | mask_df[medium].values\n",
    "        N_df.drop(N_df.index[specific_mask], inplace=True)\n",
    "\n",
    "    if drop_subsumed:\n",
    "        N_df = N_df.reset_index().rename(columns={\"index\": \"phrase\"})\n",
    "        N_df[\"n_gram\"] = N_df[\"phrase\"].apply(str.split).apply(len)\n",
    "        N_df[\"count\"] = N_df[MEDIA].sum(axis=1)\n",
    "\n",
    "        monograms = N_df[N_df[\"n_gram\"] == 1]\n",
    "        bigrams = N_df[N_df[\"n_gram\"] == 2]\n",
    "        trigrams = N_df[N_df[\"n_gram\"] == 3]\n",
    "        bigram_words = list(\n",
    "            set(\n",
    "                [\n",
    "                    word\n",
    "                    for bigram_sublist in bigrams[\"phrase\"].apply(str.split).tolist()\n",
    "                    for word in bigram_sublist\n",
    "                ]\n",
    "            )\n",
    "        )\n",
    "        trigram_words = list(\n",
    "            set(\n",
    "                [\n",
    "                    word\n",
    "                    for trigram_sublist in trigrams[\"phrase\"].apply(str.split).tolist()\n",
    "                    for word in trigram_sublist\n",
    "                ]\n",
    "            )\n",
    "        )\n",
    "\n",
    "        verboseprint(\"extracting subsumed n-grams...\")\n",
    "        monograms_in_bigrams = monograms[monograms[\"phrase\"].isin(bigram_words)]\n",
    "        monograms_in_trigrams = monograms[monograms[\"phrase\"].isin(trigram_words)]\n",
    "\n",
    "        bigrams_in_trigrams_words = list(\n",
    "            set(\n",
    "                [\n",
    "                    bigram_word\n",
    "                    for bigram_word in bigram_words\n",
    "                    if bigram_word in trigram_words\n",
    "                ]\n",
    "            )\n",
    "        )\n",
    "        bigrams_in_trigrams_mask = bigrams[\"phrase\"].apply(\n",
    "            lambda bigram: True\n",
    "            if bigram.split()[0] in bigrams_in_trigrams_words\n",
    "            or bigram.split()[1] in bigrams_in_trigrams_words\n",
    "            else False\n",
    "        )\n",
    "        bigrams_in_trigrams = bigrams[bigrams_in_trigrams_mask]\n",
    "\n",
    "        threshold = 0.7\n",
    "        verboseprint(\n",
    "            f\"filtering n-grams which are subsumed more than {int(100*threshold)}% of the time...\"\n",
    "        )\n",
    "        monograms_in_bigrams_above_threshold = list(\n",
    "            set(\n",
    "                [\n",
    "                    monogram[\"phrase\"]\n",
    "                    for _, monogram in monograms_in_bigrams.iterrows()\n",
    "                    for _, bigram in bigrams.iterrows()\n",
    "                    if monogram[\"phrase\"] in bigram[\"phrase\"].split()\n",
    "                    and bigram[\"count\"] > threshold * monogram[\"count\"]\n",
    "                ]\n",
    "            )\n",
    "        )\n",
    "        monograms_in_trigrams_above_threshold = list(\n",
    "            set(\n",
    "                [\n",
    "                    monogram[\"phrase\"]\n",
    "                    for _, monogram in monograms_in_trigrams.iterrows()\n",
    "                    for _, trigram in trigrams.iterrows()\n",
    "                    if monogram[\"phrase\"] in trigram[\"phrase\"].split()\n",
    "                    and trigram[\"count\"] > threshold * monogram[\"count\"]\n",
    "                ]\n",
    "            )\n",
    "        )\n",
    "        bigrams_in_trigrams_above_threshold = list(\n",
    "            set(\n",
    "                [\n",
    "                    bigram[\"phrase\"]\n",
    "                    for _, bigram in bigrams_in_trigrams.iterrows()\n",
    "                    for _, trigram in trigrams.iterrows()\n",
    "                    if (\n",
    "                        bigram[\"phrase\"] in \" \".join(trigram[\"phrase\"].split()[:2])\n",
    "                        or bigram[\"phrase\"] in \" \".join(trigram[\"phrase\"].split()[-2:])\n",
    "                    )\n",
    "                    and trigram[\"count\"] > threshold * bigram[\"count\"]\n",
    "                ]\n",
    "            )\n",
    "        )\n",
    "        n_grams_above_threshold = list(\n",
    "            set(\n",
    "                np.append(\n",
    "                    np.append(\n",
    "                        monograms_in_bigrams_above_threshold,\n",
    "                        monograms_in_trigrams_above_threshold,\n",
    "                    ),\n",
    "                    bigrams_in_trigrams_above_threshold,\n",
    "                )\n",
    "            )\n",
    "        )\n",
    "\n",
    "        N_df.drop(\n",
    "            N_df[N_df[\"phrase\"].isin(n_grams_above_threshold)].index, inplace=True\n",
    "        )\n",
    "        N_df.set_index(\"phrase\", inplace=True)\n",
    "        N_df.drop(columns=[\"n_gram\", \"count\"], inplace=True)\n",
    "    return N_df\n",
    "\n",
    "\n",
    "def filter_N_by_information_score(N_df, n=1000, verbose=True):\n",
    "    verboseprint = define_print(verbose=verbose)\n",
    "    verboseprint(\"filtering \" + str(n) + \" most discriminative phrases from sample...\")\n",
    "    n_i = len(N_df.index)\n",
    "    n_j = len(N_df.columns)\n",
    "    P_ij = N_df / N_df.to_numpy().sum()\n",
    "    P_i = P_ij.sum(axis=1)\n",
    "    P_j = P_ij.sum(axis=0)\n",
    "\n",
    "    I = np.zeros((n_i, n_j))\n",
    "\n",
    "    for i in range(n_i):\n",
    "        for j in range(n_j):\n",
    "            I[i][j] = P_ij.values[i][j] * np.log2(P_ij.values[i][j] / P_i[i] / P_j[j])\n",
    "\n",
    "    I = pd.DataFrame(I, index=N_df.index, columns=N_df.columns)\n",
    "    I = I.fillna(0.0)\n",
    "    I[\"sum\"] = I.sum(axis=1)\n",
    "    I.sort_values(by=\"sum\", ascending=False, inplace=True)\n",
    "    return N_df.loc[I.index[:n]]\n"
   ]
  },
  {
   "cell_type": "code",
   "execution_count": 3,
   "metadata": {},
   "outputs": [],
   "source": [
    "df = pd.read_pickle('../data/topic.pkl')\n",
    "topic_counts = df['topic'].value_counts()\n",
    "topic_dict = dict(zip(np.arange(-1,86), topic_counts.index.to_list()))"
   ]
  },
  {
   "cell_type": "code",
   "execution_count": 4,
   "metadata": {},
   "outputs": [
    {
     "name": "stdout",
     "output_type": "stream",
     "text": [
      "topic: 2_polizei_polizisten_täter_staatsanwaltschaft\n",
      "restructuring dataframe with 29167 transcripts...\n"
     ]
    },
    {
     "name": "stderr",
     "output_type": "stream",
     "text": [
      "/var/folders/k5/jm1h82sn2vd8d4f_0f1091r00000gn/T/ipykernel_3380/3040750743.py:129: SettingWithCopyWarning: \n",
      "A value is trying to be set on a copy of a slice from a DataFrame.\n",
      "Try using .loc[row_indexer,col_indexer] = value instead\n",
      "\n",
      "See the caveats in the documentation: https://pandas.pydata.org/pandas-docs/stable/user_guide/indexing.html#returning-a-view-versus-a-copy\n",
      "  df[\"preprocessed\"] = df[\"preprocessed\"] + \" \"\n"
     ]
    },
    {
     "name": "stdout",
     "output_type": "stream",
     "text": [
      "Tagesschau does not have any videos categorized under category '2_polizei_polizisten_täter_staatsanwaltschaft'.\n",
      "fitting cv model for topic 2_polizei_polizisten_täter_staatsanwaltschaft...\n",
      "counting n-gram occurences...\n",
      "dropping medium-specific n-grams that occur in one medium at least 90% of the time...\n",
      "extracting subsumed n-grams...\n",
      "filtering n-grams which are subsumed more than 70% of the time...\n",
      "filtering 2100 most discriminative phrases from sample...\n"
     ]
    },
    {
     "name": "stderr",
     "output_type": "stream",
     "text": [
      "/var/folders/k5/jm1h82sn2vd8d4f_0f1091r00000gn/T/ipykernel_3380/3040750743.py:293: RuntimeWarning: divide by zero encountered in log2\n",
      "  I[i][j] = P_ij.values[i][j] * np.log2(P_ij.values[i][j] / P_i[i] / P_j[j])\n",
      "/var/folders/k5/jm1h82sn2vd8d4f_0f1091r00000gn/T/ipykernel_3380/3040750743.py:293: RuntimeWarning: invalid value encountered in double_scalars\n",
      "  I[i][j] = P_ij.values[i][j] * np.log2(P_ij.values[i][j] / P_i[i] / P_j[j])\n"
     ]
    }
   ],
   "source": [
    "topic_index=2\n",
    "topic = topic_dict[topic_index]\n",
    "print('topic: ' + topic)\n",
    "N_df = get_N_matrix(df[df['topic'] == topic])\n",
    "N_df = filter_N_by_information_score(N_df, n=2100)"
   ]
  },
  {
   "cell_type": "code",
   "execution_count": 5,
   "metadata": {},
   "outputs": [
    {
     "name": "stdout",
     "output_type": "stream",
     "text": [
      "1015\n"
     ]
    }
   ],
   "source": [
    "N = N_df[~N_df.index.isin(blacklist[topic_index])]\n",
    "#N.to_pickle('../data/N_matrices_post_purge/N_'+topic+'_post_purge.pkl')\n",
    "print(len(N.index))\n",
    "N = N.iloc[:1000]"
   ]
  },
  {
   "cell_type": "code",
   "execution_count": 52,
   "metadata": {},
   "outputs": [
    {
     "data": {
      "application/vnd.plotly.v1+json": {
       "config": {
        "plotlyServerURL": "https://plot.ly"
       },
       "data": [
        {
         "customdata": [
          [
           "junge Welt"
          ],
          [
           "NachDenkSeiten"
          ]
         ],
         "hovertemplate": "color=left<br>x=%{x}<br>y=%{y}<br>hover_data_0=%{customdata[0]}<extra></extra>",
         "legendgroup": "left",
         "marker": {
          "color": "rgb(103,0,31)",
          "symbol": "circle"
         },
         "mode": "markers",
         "name": "left",
         "orientation": "v",
         "showlegend": true,
         "type": "scatter",
         "x": [
          0.053759995389258276,
          0.18611518576821676
         ],
         "xaxis": "x",
         "y": [
          0,
          0
         ],
         "yaxis": "y"
        },
        {
         "customdata": [
          [
           "taz"
          ],
          [
           "stern TV"
          ],
          [
           "DER SPIEGEL"
          ]
         ],
         "hovertemplate": "color=left leaning<br>x=%{x}<br>y=%{y}<br>hover_data_0=%{customdata[0]}<extra></extra>",
         "legendgroup": "left leaning",
         "marker": {
          "color": "rgb(178,24,43)",
          "symbol": "circle"
         },
         "mode": "markers",
         "name": "left leaning",
         "orientation": "v",
         "showlegend": true,
         "type": "scatter",
         "x": [
          0.21341460970446952,
          0.25665086395591563,
          0.29580697576850185
         ],
         "xaxis": "x",
         "y": [
          0,
          0,
          0
         ],
         "yaxis": "y"
        },
        {
         "customdata": [
          [
           "Süddeutsche Zeitung"
          ],
          [
           "Der Tagesspiegel"
          ],
          [
           "ARD"
          ],
          [
           "ZDF"
          ],
          [
           "ZDFheute Nachrichten"
          ],
          [
           "Bayerischer Rundfunk"
          ],
          [
           "ntv Nachrichten"
          ],
          [
           "ZEIT ONLINE"
          ],
          [
           "faz"
          ],
          [
           "WELT"
          ]
         ],
         "hovertemplate": "color=center<br>x=%{x}<br>y=%{y}<br>hover_data_0=%{customdata[0]}<extra></extra>",
         "legendgroup": "center",
         "marker": {
          "color": "rgb(214,96,77)",
          "symbol": "circle"
         },
         "mode": "markers",
         "name": "center",
         "orientation": "v",
         "showlegend": true,
         "type": "scatter",
         "x": [
          0.1330603110089585,
          0.03431281352965699,
          0.22948971605718632,
          0.13602306126890457,
          0.3064787378425371,
          0.25897041758123807,
          0.26549355382572465,
          0.2104259566899208,
          0.2731920690686453,
          0.29529812889313833
         ],
         "xaxis": "x",
         "y": [
          0,
          0,
          0,
          0,
          0,
          0,
          0,
          0,
          0,
          0
         ],
         "yaxis": "y"
        },
        {
         "customdata": [
          [
           "RTL"
          ],
          [
           "FOCUS Online"
          ],
          [
           "BILD"
          ],
          [
           "NZZ Neue Zürcher Zeitung"
          ]
         ],
         "hovertemplate": "color=right leaning<br>x=%{x}<br>y=%{y}<br>hover_data_0=%{customdata[0]}<extra></extra>",
         "legendgroup": "right leaning",
         "marker": {
          "color": "rgb(244,165,130)",
          "symbol": "circle"
         },
         "mode": "markers",
         "name": "right leaning",
         "orientation": "v",
         "showlegend": true,
         "type": "scatter",
         "x": [
          0.09201355332560082,
          0.18789507638861608,
          0.30514177136150406,
          0.09608855547745071
         ],
         "xaxis": "x",
         "y": [
          0,
          0,
          0,
          0
         ],
         "yaxis": "y"
        },
        {
         "customdata": [
          [
           "Junge Freiheit"
          ],
          [
           "COMPACTTV"
          ]
         ],
         "hovertemplate": "color=right<br>x=%{x}<br>y=%{y}<br>hover_data_0=%{customdata[0]}<extra></extra>",
         "legendgroup": "right",
         "marker": {
          "color": "rgb(253,219,199)",
          "symbol": "circle"
         },
         "mode": "markers",
         "name": "right",
         "orientation": "v",
         "showlegend": true,
         "type": "scatter",
         "x": [
          0.1924716265974791,
          0.22966707592643743
         ],
         "xaxis": "x",
         "y": [
          0,
          0
         ],
         "yaxis": "y"
        }
       ],
       "layout": {
        "legend": {
         "title": {
          "text": "color"
         },
         "tracegroupgap": 0
        },
        "template": {
         "data": {
          "bar": [
           {
            "error_x": {
             "color": "#2a3f5f"
            },
            "error_y": {
             "color": "#2a3f5f"
            },
            "marker": {
             "line": {
              "color": "#E5ECF6",
              "width": 0.5
             },
             "pattern": {
              "fillmode": "overlay",
              "size": 10,
              "solidity": 0.2
             }
            },
            "type": "bar"
           }
          ],
          "barpolar": [
           {
            "marker": {
             "line": {
              "color": "#E5ECF6",
              "width": 0.5
             },
             "pattern": {
              "fillmode": "overlay",
              "size": 10,
              "solidity": 0.2
             }
            },
            "type": "barpolar"
           }
          ],
          "carpet": [
           {
            "aaxis": {
             "endlinecolor": "#2a3f5f",
             "gridcolor": "white",
             "linecolor": "white",
             "minorgridcolor": "white",
             "startlinecolor": "#2a3f5f"
            },
            "baxis": {
             "endlinecolor": "#2a3f5f",
             "gridcolor": "white",
             "linecolor": "white",
             "minorgridcolor": "white",
             "startlinecolor": "#2a3f5f"
            },
            "type": "carpet"
           }
          ],
          "choropleth": [
           {
            "colorbar": {
             "outlinewidth": 0,
             "ticks": ""
            },
            "type": "choropleth"
           }
          ],
          "contour": [
           {
            "colorbar": {
             "outlinewidth": 0,
             "ticks": ""
            },
            "colorscale": [
             [
              0,
              "#0d0887"
             ],
             [
              0.1111111111111111,
              "#46039f"
             ],
             [
              0.2222222222222222,
              "#7201a8"
             ],
             [
              0.3333333333333333,
              "#9c179e"
             ],
             [
              0.4444444444444444,
              "#bd3786"
             ],
             [
              0.5555555555555556,
              "#d8576b"
             ],
             [
              0.6666666666666666,
              "#ed7953"
             ],
             [
              0.7777777777777778,
              "#fb9f3a"
             ],
             [
              0.8888888888888888,
              "#fdca26"
             ],
             [
              1,
              "#f0f921"
             ]
            ],
            "type": "contour"
           }
          ],
          "contourcarpet": [
           {
            "colorbar": {
             "outlinewidth": 0,
             "ticks": ""
            },
            "type": "contourcarpet"
           }
          ],
          "heatmap": [
           {
            "colorbar": {
             "outlinewidth": 0,
             "ticks": ""
            },
            "colorscale": [
             [
              0,
              "#0d0887"
             ],
             [
              0.1111111111111111,
              "#46039f"
             ],
             [
              0.2222222222222222,
              "#7201a8"
             ],
             [
              0.3333333333333333,
              "#9c179e"
             ],
             [
              0.4444444444444444,
              "#bd3786"
             ],
             [
              0.5555555555555556,
              "#d8576b"
             ],
             [
              0.6666666666666666,
              "#ed7953"
             ],
             [
              0.7777777777777778,
              "#fb9f3a"
             ],
             [
              0.8888888888888888,
              "#fdca26"
             ],
             [
              1,
              "#f0f921"
             ]
            ],
            "type": "heatmap"
           }
          ],
          "heatmapgl": [
           {
            "colorbar": {
             "outlinewidth": 0,
             "ticks": ""
            },
            "colorscale": [
             [
              0,
              "#0d0887"
             ],
             [
              0.1111111111111111,
              "#46039f"
             ],
             [
              0.2222222222222222,
              "#7201a8"
             ],
             [
              0.3333333333333333,
              "#9c179e"
             ],
             [
              0.4444444444444444,
              "#bd3786"
             ],
             [
              0.5555555555555556,
              "#d8576b"
             ],
             [
              0.6666666666666666,
              "#ed7953"
             ],
             [
              0.7777777777777778,
              "#fb9f3a"
             ],
             [
              0.8888888888888888,
              "#fdca26"
             ],
             [
              1,
              "#f0f921"
             ]
            ],
            "type": "heatmapgl"
           }
          ],
          "histogram": [
           {
            "marker": {
             "pattern": {
              "fillmode": "overlay",
              "size": 10,
              "solidity": 0.2
             }
            },
            "type": "histogram"
           }
          ],
          "histogram2d": [
           {
            "colorbar": {
             "outlinewidth": 0,
             "ticks": ""
            },
            "colorscale": [
             [
              0,
              "#0d0887"
             ],
             [
              0.1111111111111111,
              "#46039f"
             ],
             [
              0.2222222222222222,
              "#7201a8"
             ],
             [
              0.3333333333333333,
              "#9c179e"
             ],
             [
              0.4444444444444444,
              "#bd3786"
             ],
             [
              0.5555555555555556,
              "#d8576b"
             ],
             [
              0.6666666666666666,
              "#ed7953"
             ],
             [
              0.7777777777777778,
              "#fb9f3a"
             ],
             [
              0.8888888888888888,
              "#fdca26"
             ],
             [
              1,
              "#f0f921"
             ]
            ],
            "type": "histogram2d"
           }
          ],
          "histogram2dcontour": [
           {
            "colorbar": {
             "outlinewidth": 0,
             "ticks": ""
            },
            "colorscale": [
             [
              0,
              "#0d0887"
             ],
             [
              0.1111111111111111,
              "#46039f"
             ],
             [
              0.2222222222222222,
              "#7201a8"
             ],
             [
              0.3333333333333333,
              "#9c179e"
             ],
             [
              0.4444444444444444,
              "#bd3786"
             ],
             [
              0.5555555555555556,
              "#d8576b"
             ],
             [
              0.6666666666666666,
              "#ed7953"
             ],
             [
              0.7777777777777778,
              "#fb9f3a"
             ],
             [
              0.8888888888888888,
              "#fdca26"
             ],
             [
              1,
              "#f0f921"
             ]
            ],
            "type": "histogram2dcontour"
           }
          ],
          "mesh3d": [
           {
            "colorbar": {
             "outlinewidth": 0,
             "ticks": ""
            },
            "type": "mesh3d"
           }
          ],
          "parcoords": [
           {
            "line": {
             "colorbar": {
              "outlinewidth": 0,
              "ticks": ""
             }
            },
            "type": "parcoords"
           }
          ],
          "pie": [
           {
            "automargin": true,
            "type": "pie"
           }
          ],
          "scatter": [
           {
            "marker": {
             "colorbar": {
              "outlinewidth": 0,
              "ticks": ""
             }
            },
            "type": "scatter"
           }
          ],
          "scatter3d": [
           {
            "line": {
             "colorbar": {
              "outlinewidth": 0,
              "ticks": ""
             }
            },
            "marker": {
             "colorbar": {
              "outlinewidth": 0,
              "ticks": ""
             }
            },
            "type": "scatter3d"
           }
          ],
          "scattercarpet": [
           {
            "marker": {
             "colorbar": {
              "outlinewidth": 0,
              "ticks": ""
             }
            },
            "type": "scattercarpet"
           }
          ],
          "scattergeo": [
           {
            "marker": {
             "colorbar": {
              "outlinewidth": 0,
              "ticks": ""
             }
            },
            "type": "scattergeo"
           }
          ],
          "scattergl": [
           {
            "marker": {
             "colorbar": {
              "outlinewidth": 0,
              "ticks": ""
             }
            },
            "type": "scattergl"
           }
          ],
          "scattermapbox": [
           {
            "marker": {
             "colorbar": {
              "outlinewidth": 0,
              "ticks": ""
             }
            },
            "type": "scattermapbox"
           }
          ],
          "scatterpolar": [
           {
            "marker": {
             "colorbar": {
              "outlinewidth": 0,
              "ticks": ""
             }
            },
            "type": "scatterpolar"
           }
          ],
          "scatterpolargl": [
           {
            "marker": {
             "colorbar": {
              "outlinewidth": 0,
              "ticks": ""
             }
            },
            "type": "scatterpolargl"
           }
          ],
          "scatterternary": [
           {
            "marker": {
             "colorbar": {
              "outlinewidth": 0,
              "ticks": ""
             }
            },
            "type": "scatterternary"
           }
          ],
          "surface": [
           {
            "colorbar": {
             "outlinewidth": 0,
             "ticks": ""
            },
            "colorscale": [
             [
              0,
              "#0d0887"
             ],
             [
              0.1111111111111111,
              "#46039f"
             ],
             [
              0.2222222222222222,
              "#7201a8"
             ],
             [
              0.3333333333333333,
              "#9c179e"
             ],
             [
              0.4444444444444444,
              "#bd3786"
             ],
             [
              0.5555555555555556,
              "#d8576b"
             ],
             [
              0.6666666666666666,
              "#ed7953"
             ],
             [
              0.7777777777777778,
              "#fb9f3a"
             ],
             [
              0.8888888888888888,
              "#fdca26"
             ],
             [
              1,
              "#f0f921"
             ]
            ],
            "type": "surface"
           }
          ],
          "table": [
           {
            "cells": {
             "fill": {
              "color": "#EBF0F8"
             },
             "line": {
              "color": "white"
             }
            },
            "header": {
             "fill": {
              "color": "#C8D4E3"
             },
             "line": {
              "color": "white"
             }
            },
            "type": "table"
           }
          ]
         },
         "layout": {
          "annotationdefaults": {
           "arrowcolor": "#2a3f5f",
           "arrowhead": 0,
           "arrowwidth": 1
          },
          "autotypenumbers": "strict",
          "coloraxis": {
           "colorbar": {
            "outlinewidth": 0,
            "ticks": ""
           }
          },
          "colorscale": {
           "diverging": [
            [
             0,
             "#8e0152"
            ],
            [
             0.1,
             "#c51b7d"
            ],
            [
             0.2,
             "#de77ae"
            ],
            [
             0.3,
             "#f1b6da"
            ],
            [
             0.4,
             "#fde0ef"
            ],
            [
             0.5,
             "#f7f7f7"
            ],
            [
             0.6,
             "#e6f5d0"
            ],
            [
             0.7,
             "#b8e186"
            ],
            [
             0.8,
             "#7fbc41"
            ],
            [
             0.9,
             "#4d9221"
            ],
            [
             1,
             "#276419"
            ]
           ],
           "sequential": [
            [
             0,
             "#0d0887"
            ],
            [
             0.1111111111111111,
             "#46039f"
            ],
            [
             0.2222222222222222,
             "#7201a8"
            ],
            [
             0.3333333333333333,
             "#9c179e"
            ],
            [
             0.4444444444444444,
             "#bd3786"
            ],
            [
             0.5555555555555556,
             "#d8576b"
            ],
            [
             0.6666666666666666,
             "#ed7953"
            ],
            [
             0.7777777777777778,
             "#fb9f3a"
            ],
            [
             0.8888888888888888,
             "#fdca26"
            ],
            [
             1,
             "#f0f921"
            ]
           ],
           "sequentialminus": [
            [
             0,
             "#0d0887"
            ],
            [
             0.1111111111111111,
             "#46039f"
            ],
            [
             0.2222222222222222,
             "#7201a8"
            ],
            [
             0.3333333333333333,
             "#9c179e"
            ],
            [
             0.4444444444444444,
             "#bd3786"
            ],
            [
             0.5555555555555556,
             "#d8576b"
            ],
            [
             0.6666666666666666,
             "#ed7953"
            ],
            [
             0.7777777777777778,
             "#fb9f3a"
            ],
            [
             0.8888888888888888,
             "#fdca26"
            ],
            [
             1,
             "#f0f921"
            ]
           ]
          },
          "colorway": [
           "#636efa",
           "#EF553B",
           "#00cc96",
           "#ab63fa",
           "#FFA15A",
           "#19d3f3",
           "#FF6692",
           "#B6E880",
           "#FF97FF",
           "#FECB52"
          ],
          "font": {
           "color": "#2a3f5f"
          },
          "geo": {
           "bgcolor": "white",
           "lakecolor": "white",
           "landcolor": "#E5ECF6",
           "showlakes": true,
           "showland": true,
           "subunitcolor": "white"
          },
          "hoverlabel": {
           "align": "left"
          },
          "hovermode": "closest",
          "mapbox": {
           "style": "light"
          },
          "paper_bgcolor": "white",
          "plot_bgcolor": "#E5ECF6",
          "polar": {
           "angularaxis": {
            "gridcolor": "white",
            "linecolor": "white",
            "ticks": ""
           },
           "bgcolor": "#E5ECF6",
           "radialaxis": {
            "gridcolor": "white",
            "linecolor": "white",
            "ticks": ""
           }
          },
          "scene": {
           "xaxis": {
            "backgroundcolor": "#E5ECF6",
            "gridcolor": "white",
            "gridwidth": 2,
            "linecolor": "white",
            "showbackground": true,
            "ticks": "",
            "zerolinecolor": "white"
           },
           "yaxis": {
            "backgroundcolor": "#E5ECF6",
            "gridcolor": "white",
            "gridwidth": 2,
            "linecolor": "white",
            "showbackground": true,
            "ticks": "",
            "zerolinecolor": "white"
           },
           "zaxis": {
            "backgroundcolor": "#E5ECF6",
            "gridcolor": "white",
            "gridwidth": 2,
            "linecolor": "white",
            "showbackground": true,
            "ticks": "",
            "zerolinecolor": "white"
           }
          },
          "shapedefaults": {
           "line": {
            "color": "#2a3f5f"
           }
          },
          "ternary": {
           "aaxis": {
            "gridcolor": "white",
            "linecolor": "white",
            "ticks": ""
           },
           "baxis": {
            "gridcolor": "white",
            "linecolor": "white",
            "ticks": ""
           },
           "bgcolor": "#E5ECF6",
           "caxis": {
            "gridcolor": "white",
            "linecolor": "white",
            "ticks": ""
           }
          },
          "title": {
           "x": 0.05
          },
          "xaxis": {
           "automargin": true,
           "gridcolor": "white",
           "linecolor": "white",
           "ticks": "",
           "title": {
            "standoff": 15
           },
           "zerolinecolor": "white",
           "zerolinewidth": 2
          },
          "yaxis": {
           "automargin": true,
           "gridcolor": "white",
           "linecolor": "white",
           "ticks": "",
           "title": {
            "standoff": 15
           },
           "zerolinecolor": "white",
           "zerolinewidth": 2
          }
         }
        },
        "title": {
         "text": "Topic: '2_polizei_polizisten_täter_staatsanwaltschaft', 0. Principal Component"
        },
        "xaxis": {
         "anchor": "y",
         "domain": [
          0,
          1
         ],
         "title": {
          "text": "x"
         }
        },
        "yaxis": {
         "anchor": "x",
         "domain": [
          0,
          1
         ],
         "title": {
          "text": "y"
         }
        }
       }
      }
     },
     "metadata": {},
     "output_type": "display_data"
    },
    {
     "data": {
      "application/vnd.plotly.v1+json": {
       "config": {
        "plotlyServerURL": "https://plot.ly"
       },
       "data": [
        {
         "customdata": [
          [
           "junge Welt"
          ],
          [
           "NachDenkSeiten"
          ]
         ],
         "hovertemplate": "color=left<br>x=%{x}<br>y=%{y}<br>hover_data_0=%{customdata[0]}<extra></extra>",
         "legendgroup": "left",
         "marker": {
          "color": "rgb(103,0,31)",
          "symbol": "circle"
         },
         "mode": "markers",
         "name": "left",
         "orientation": "v",
         "showlegend": true,
         "type": "scatter",
         "x": [
          -0.3389376649081452,
          -0.4304287933671849
         ],
         "xaxis": "x",
         "y": [
          0,
          0
         ],
         "yaxis": "y"
        },
        {
         "customdata": [
          [
           "taz"
          ],
          [
           "stern TV"
          ],
          [
           "DER SPIEGEL"
          ]
         ],
         "hovertemplate": "color=left leaning<br>x=%{x}<br>y=%{y}<br>hover_data_0=%{customdata[0]}<extra></extra>",
         "legendgroup": "left leaning",
         "marker": {
          "color": "rgb(178,24,43)",
          "symbol": "circle"
         },
         "mode": "markers",
         "name": "left leaning",
         "orientation": "v",
         "showlegend": true,
         "type": "scatter",
         "x": [
          -0.21343017513305715,
          0.17671424086356038,
          0.09976672192183914
         ],
         "xaxis": "x",
         "y": [
          0,
          0,
          0
         ],
         "yaxis": "y"
        },
        {
         "customdata": [
          [
           "Süddeutsche Zeitung"
          ],
          [
           "Der Tagesspiegel"
          ],
          [
           "ARD"
          ],
          [
           "ZDF"
          ],
          [
           "ZDFheute Nachrichten"
          ],
          [
           "Bayerischer Rundfunk"
          ],
          [
           "ntv Nachrichten"
          ],
          [
           "ZEIT ONLINE"
          ],
          [
           "faz"
          ],
          [
           "WELT"
          ]
         ],
         "hovertemplate": "color=center<br>x=%{x}<br>y=%{y}<br>hover_data_0=%{customdata[0]}<extra></extra>",
         "legendgroup": "center",
         "marker": {
          "color": "rgb(214,96,77)",
          "symbol": "circle"
         },
         "mode": "markers",
         "name": "center",
         "orientation": "v",
         "showlegend": true,
         "type": "scatter",
         "x": [
          0.03429201224870861,
          -0.20206005504788327,
          0.2212900594975123,
          0.29685317805886785,
          -0.07085051207757069,
          0.14128600595267934,
          0.10629167230047253,
          0.17109476280407251,
          0.02449581877926451,
          0.07160578456896033
         ],
         "xaxis": "x",
         "y": [
          0,
          0,
          0,
          0,
          0,
          0,
          0,
          0,
          0,
          0
         ],
         "yaxis": "y"
        },
        {
         "customdata": [
          [
           "RTL"
          ],
          [
           "FOCUS Online"
          ],
          [
           "BILD"
          ],
          [
           "NZZ Neue Zürcher Zeitung"
          ]
         ],
         "hovertemplate": "color=right leaning<br>x=%{x}<br>y=%{y}<br>hover_data_0=%{customdata[0]}<extra></extra>",
         "legendgroup": "right leaning",
         "marker": {
          "color": "rgb(244,165,130)",
          "symbol": "circle"
         },
         "mode": "markers",
         "name": "right leaning",
         "orientation": "v",
         "showlegend": true,
         "type": "scatter",
         "x": [
          0.060591867493203055,
          -0.052958235779382155,
          0.16883012501467734,
          -0.30774370823355685
         ],
         "xaxis": "x",
         "y": [
          0,
          0,
          0,
          0
         ],
         "yaxis": "y"
        },
        {
         "customdata": [
          [
           "Junge Freiheit"
          ],
          [
           "COMPACTTV"
          ]
         ],
         "hovertemplate": "color=right<br>x=%{x}<br>y=%{y}<br>hover_data_0=%{customdata[0]}<extra></extra>",
         "legendgroup": "right",
         "marker": {
          "color": "rgb(253,219,199)",
          "symbol": "circle"
         },
         "mode": "markers",
         "name": "right",
         "orientation": "v",
         "showlegend": true,
         "type": "scatter",
         "x": [
          -0.3359741678807255,
          -0.3466677816584518
         ],
         "xaxis": "x",
         "y": [
          0,
          0
         ],
         "yaxis": "y"
        }
       ],
       "layout": {
        "legend": {
         "title": {
          "text": "color"
         },
         "tracegroupgap": 0
        },
        "template": {
         "data": {
          "bar": [
           {
            "error_x": {
             "color": "#2a3f5f"
            },
            "error_y": {
             "color": "#2a3f5f"
            },
            "marker": {
             "line": {
              "color": "#E5ECF6",
              "width": 0.5
             },
             "pattern": {
              "fillmode": "overlay",
              "size": 10,
              "solidity": 0.2
             }
            },
            "type": "bar"
           }
          ],
          "barpolar": [
           {
            "marker": {
             "line": {
              "color": "#E5ECF6",
              "width": 0.5
             },
             "pattern": {
              "fillmode": "overlay",
              "size": 10,
              "solidity": 0.2
             }
            },
            "type": "barpolar"
           }
          ],
          "carpet": [
           {
            "aaxis": {
             "endlinecolor": "#2a3f5f",
             "gridcolor": "white",
             "linecolor": "white",
             "minorgridcolor": "white",
             "startlinecolor": "#2a3f5f"
            },
            "baxis": {
             "endlinecolor": "#2a3f5f",
             "gridcolor": "white",
             "linecolor": "white",
             "minorgridcolor": "white",
             "startlinecolor": "#2a3f5f"
            },
            "type": "carpet"
           }
          ],
          "choropleth": [
           {
            "colorbar": {
             "outlinewidth": 0,
             "ticks": ""
            },
            "type": "choropleth"
           }
          ],
          "contour": [
           {
            "colorbar": {
             "outlinewidth": 0,
             "ticks": ""
            },
            "colorscale": [
             [
              0,
              "#0d0887"
             ],
             [
              0.1111111111111111,
              "#46039f"
             ],
             [
              0.2222222222222222,
              "#7201a8"
             ],
             [
              0.3333333333333333,
              "#9c179e"
             ],
             [
              0.4444444444444444,
              "#bd3786"
             ],
             [
              0.5555555555555556,
              "#d8576b"
             ],
             [
              0.6666666666666666,
              "#ed7953"
             ],
             [
              0.7777777777777778,
              "#fb9f3a"
             ],
             [
              0.8888888888888888,
              "#fdca26"
             ],
             [
              1,
              "#f0f921"
             ]
            ],
            "type": "contour"
           }
          ],
          "contourcarpet": [
           {
            "colorbar": {
             "outlinewidth": 0,
             "ticks": ""
            },
            "type": "contourcarpet"
           }
          ],
          "heatmap": [
           {
            "colorbar": {
             "outlinewidth": 0,
             "ticks": ""
            },
            "colorscale": [
             [
              0,
              "#0d0887"
             ],
             [
              0.1111111111111111,
              "#46039f"
             ],
             [
              0.2222222222222222,
              "#7201a8"
             ],
             [
              0.3333333333333333,
              "#9c179e"
             ],
             [
              0.4444444444444444,
              "#bd3786"
             ],
             [
              0.5555555555555556,
              "#d8576b"
             ],
             [
              0.6666666666666666,
              "#ed7953"
             ],
             [
              0.7777777777777778,
              "#fb9f3a"
             ],
             [
              0.8888888888888888,
              "#fdca26"
             ],
             [
              1,
              "#f0f921"
             ]
            ],
            "type": "heatmap"
           }
          ],
          "heatmapgl": [
           {
            "colorbar": {
             "outlinewidth": 0,
             "ticks": ""
            },
            "colorscale": [
             [
              0,
              "#0d0887"
             ],
             [
              0.1111111111111111,
              "#46039f"
             ],
             [
              0.2222222222222222,
              "#7201a8"
             ],
             [
              0.3333333333333333,
              "#9c179e"
             ],
             [
              0.4444444444444444,
              "#bd3786"
             ],
             [
              0.5555555555555556,
              "#d8576b"
             ],
             [
              0.6666666666666666,
              "#ed7953"
             ],
             [
              0.7777777777777778,
              "#fb9f3a"
             ],
             [
              0.8888888888888888,
              "#fdca26"
             ],
             [
              1,
              "#f0f921"
             ]
            ],
            "type": "heatmapgl"
           }
          ],
          "histogram": [
           {
            "marker": {
             "pattern": {
              "fillmode": "overlay",
              "size": 10,
              "solidity": 0.2
             }
            },
            "type": "histogram"
           }
          ],
          "histogram2d": [
           {
            "colorbar": {
             "outlinewidth": 0,
             "ticks": ""
            },
            "colorscale": [
             [
              0,
              "#0d0887"
             ],
             [
              0.1111111111111111,
              "#46039f"
             ],
             [
              0.2222222222222222,
              "#7201a8"
             ],
             [
              0.3333333333333333,
              "#9c179e"
             ],
             [
              0.4444444444444444,
              "#bd3786"
             ],
             [
              0.5555555555555556,
              "#d8576b"
             ],
             [
              0.6666666666666666,
              "#ed7953"
             ],
             [
              0.7777777777777778,
              "#fb9f3a"
             ],
             [
              0.8888888888888888,
              "#fdca26"
             ],
             [
              1,
              "#f0f921"
             ]
            ],
            "type": "histogram2d"
           }
          ],
          "histogram2dcontour": [
           {
            "colorbar": {
             "outlinewidth": 0,
             "ticks": ""
            },
            "colorscale": [
             [
              0,
              "#0d0887"
             ],
             [
              0.1111111111111111,
              "#46039f"
             ],
             [
              0.2222222222222222,
              "#7201a8"
             ],
             [
              0.3333333333333333,
              "#9c179e"
             ],
             [
              0.4444444444444444,
              "#bd3786"
             ],
             [
              0.5555555555555556,
              "#d8576b"
             ],
             [
              0.6666666666666666,
              "#ed7953"
             ],
             [
              0.7777777777777778,
              "#fb9f3a"
             ],
             [
              0.8888888888888888,
              "#fdca26"
             ],
             [
              1,
              "#f0f921"
             ]
            ],
            "type": "histogram2dcontour"
           }
          ],
          "mesh3d": [
           {
            "colorbar": {
             "outlinewidth": 0,
             "ticks": ""
            },
            "type": "mesh3d"
           }
          ],
          "parcoords": [
           {
            "line": {
             "colorbar": {
              "outlinewidth": 0,
              "ticks": ""
             }
            },
            "type": "parcoords"
           }
          ],
          "pie": [
           {
            "automargin": true,
            "type": "pie"
           }
          ],
          "scatter": [
           {
            "marker": {
             "colorbar": {
              "outlinewidth": 0,
              "ticks": ""
             }
            },
            "type": "scatter"
           }
          ],
          "scatter3d": [
           {
            "line": {
             "colorbar": {
              "outlinewidth": 0,
              "ticks": ""
             }
            },
            "marker": {
             "colorbar": {
              "outlinewidth": 0,
              "ticks": ""
             }
            },
            "type": "scatter3d"
           }
          ],
          "scattercarpet": [
           {
            "marker": {
             "colorbar": {
              "outlinewidth": 0,
              "ticks": ""
             }
            },
            "type": "scattercarpet"
           }
          ],
          "scattergeo": [
           {
            "marker": {
             "colorbar": {
              "outlinewidth": 0,
              "ticks": ""
             }
            },
            "type": "scattergeo"
           }
          ],
          "scattergl": [
           {
            "marker": {
             "colorbar": {
              "outlinewidth": 0,
              "ticks": ""
             }
            },
            "type": "scattergl"
           }
          ],
          "scattermapbox": [
           {
            "marker": {
             "colorbar": {
              "outlinewidth": 0,
              "ticks": ""
             }
            },
            "type": "scattermapbox"
           }
          ],
          "scatterpolar": [
           {
            "marker": {
             "colorbar": {
              "outlinewidth": 0,
              "ticks": ""
             }
            },
            "type": "scatterpolar"
           }
          ],
          "scatterpolargl": [
           {
            "marker": {
             "colorbar": {
              "outlinewidth": 0,
              "ticks": ""
             }
            },
            "type": "scatterpolargl"
           }
          ],
          "scatterternary": [
           {
            "marker": {
             "colorbar": {
              "outlinewidth": 0,
              "ticks": ""
             }
            },
            "type": "scatterternary"
           }
          ],
          "surface": [
           {
            "colorbar": {
             "outlinewidth": 0,
             "ticks": ""
            },
            "colorscale": [
             [
              0,
              "#0d0887"
             ],
             [
              0.1111111111111111,
              "#46039f"
             ],
             [
              0.2222222222222222,
              "#7201a8"
             ],
             [
              0.3333333333333333,
              "#9c179e"
             ],
             [
              0.4444444444444444,
              "#bd3786"
             ],
             [
              0.5555555555555556,
              "#d8576b"
             ],
             [
              0.6666666666666666,
              "#ed7953"
             ],
             [
              0.7777777777777778,
              "#fb9f3a"
             ],
             [
              0.8888888888888888,
              "#fdca26"
             ],
             [
              1,
              "#f0f921"
             ]
            ],
            "type": "surface"
           }
          ],
          "table": [
           {
            "cells": {
             "fill": {
              "color": "#EBF0F8"
             },
             "line": {
              "color": "white"
             }
            },
            "header": {
             "fill": {
              "color": "#C8D4E3"
             },
             "line": {
              "color": "white"
             }
            },
            "type": "table"
           }
          ]
         },
         "layout": {
          "annotationdefaults": {
           "arrowcolor": "#2a3f5f",
           "arrowhead": 0,
           "arrowwidth": 1
          },
          "autotypenumbers": "strict",
          "coloraxis": {
           "colorbar": {
            "outlinewidth": 0,
            "ticks": ""
           }
          },
          "colorscale": {
           "diverging": [
            [
             0,
             "#8e0152"
            ],
            [
             0.1,
             "#c51b7d"
            ],
            [
             0.2,
             "#de77ae"
            ],
            [
             0.3,
             "#f1b6da"
            ],
            [
             0.4,
             "#fde0ef"
            ],
            [
             0.5,
             "#f7f7f7"
            ],
            [
             0.6,
             "#e6f5d0"
            ],
            [
             0.7,
             "#b8e186"
            ],
            [
             0.8,
             "#7fbc41"
            ],
            [
             0.9,
             "#4d9221"
            ],
            [
             1,
             "#276419"
            ]
           ],
           "sequential": [
            [
             0,
             "#0d0887"
            ],
            [
             0.1111111111111111,
             "#46039f"
            ],
            [
             0.2222222222222222,
             "#7201a8"
            ],
            [
             0.3333333333333333,
             "#9c179e"
            ],
            [
             0.4444444444444444,
             "#bd3786"
            ],
            [
             0.5555555555555556,
             "#d8576b"
            ],
            [
             0.6666666666666666,
             "#ed7953"
            ],
            [
             0.7777777777777778,
             "#fb9f3a"
            ],
            [
             0.8888888888888888,
             "#fdca26"
            ],
            [
             1,
             "#f0f921"
            ]
           ],
           "sequentialminus": [
            [
             0,
             "#0d0887"
            ],
            [
             0.1111111111111111,
             "#46039f"
            ],
            [
             0.2222222222222222,
             "#7201a8"
            ],
            [
             0.3333333333333333,
             "#9c179e"
            ],
            [
             0.4444444444444444,
             "#bd3786"
            ],
            [
             0.5555555555555556,
             "#d8576b"
            ],
            [
             0.6666666666666666,
             "#ed7953"
            ],
            [
             0.7777777777777778,
             "#fb9f3a"
            ],
            [
             0.8888888888888888,
             "#fdca26"
            ],
            [
             1,
             "#f0f921"
            ]
           ]
          },
          "colorway": [
           "#636efa",
           "#EF553B",
           "#00cc96",
           "#ab63fa",
           "#FFA15A",
           "#19d3f3",
           "#FF6692",
           "#B6E880",
           "#FF97FF",
           "#FECB52"
          ],
          "font": {
           "color": "#2a3f5f"
          },
          "geo": {
           "bgcolor": "white",
           "lakecolor": "white",
           "landcolor": "#E5ECF6",
           "showlakes": true,
           "showland": true,
           "subunitcolor": "white"
          },
          "hoverlabel": {
           "align": "left"
          },
          "hovermode": "closest",
          "mapbox": {
           "style": "light"
          },
          "paper_bgcolor": "white",
          "plot_bgcolor": "#E5ECF6",
          "polar": {
           "angularaxis": {
            "gridcolor": "white",
            "linecolor": "white",
            "ticks": ""
           },
           "bgcolor": "#E5ECF6",
           "radialaxis": {
            "gridcolor": "white",
            "linecolor": "white",
            "ticks": ""
           }
          },
          "scene": {
           "xaxis": {
            "backgroundcolor": "#E5ECF6",
            "gridcolor": "white",
            "gridwidth": 2,
            "linecolor": "white",
            "showbackground": true,
            "ticks": "",
            "zerolinecolor": "white"
           },
           "yaxis": {
            "backgroundcolor": "#E5ECF6",
            "gridcolor": "white",
            "gridwidth": 2,
            "linecolor": "white",
            "showbackground": true,
            "ticks": "",
            "zerolinecolor": "white"
           },
           "zaxis": {
            "backgroundcolor": "#E5ECF6",
            "gridcolor": "white",
            "gridwidth": 2,
            "linecolor": "white",
            "showbackground": true,
            "ticks": "",
            "zerolinecolor": "white"
           }
          },
          "shapedefaults": {
           "line": {
            "color": "#2a3f5f"
           }
          },
          "ternary": {
           "aaxis": {
            "gridcolor": "white",
            "linecolor": "white",
            "ticks": ""
           },
           "baxis": {
            "gridcolor": "white",
            "linecolor": "white",
            "ticks": ""
           },
           "bgcolor": "#E5ECF6",
           "caxis": {
            "gridcolor": "white",
            "linecolor": "white",
            "ticks": ""
           }
          },
          "title": {
           "x": 0.05
          },
          "xaxis": {
           "automargin": true,
           "gridcolor": "white",
           "linecolor": "white",
           "ticks": "",
           "title": {
            "standoff": 15
           },
           "zerolinecolor": "white",
           "zerolinewidth": 2
          },
          "yaxis": {
           "automargin": true,
           "gridcolor": "white",
           "linecolor": "white",
           "ticks": "",
           "title": {
            "standoff": 15
           },
           "zerolinecolor": "white",
           "zerolinewidth": 2
          }
         }
        },
        "title": {
         "text": "Topic: '2_polizei_polizisten_täter_staatsanwaltschaft', 1. Principal Component"
        },
        "xaxis": {
         "anchor": "y",
         "domain": [
          0,
          1
         ],
         "title": {
          "text": "x"
         }
        },
        "yaxis": {
         "anchor": "x",
         "domain": [
          0,
          1
         ],
         "title": {
          "text": "y"
         }
        }
       }
      }
     },
     "metadata": {},
     "output_type": "display_data"
    },
    {
     "data": {
      "application/vnd.plotly.v1+json": {
       "config": {
        "plotlyServerURL": "https://plot.ly"
       },
       "data": [
        {
         "customdata": [
          [
           "junge Welt"
          ],
          [
           "NachDenkSeiten"
          ]
         ],
         "hovertemplate": "color=left<br>x=%{x}<br>y=%{y}<br>hover_data_0=%{customdata[0]}<extra></extra>",
         "legendgroup": "left",
         "marker": {
          "color": "rgb(103,0,31)",
          "symbol": "circle"
         },
         "mode": "markers",
         "name": "left",
         "orientation": "v",
         "showlegend": true,
         "type": "scatter",
         "x": [
          0.2987273238999929,
          0.18396937775676409
         ],
         "xaxis": "x",
         "y": [
          0,
          0
         ],
         "yaxis": "y"
        },
        {
         "customdata": [
          [
           "taz"
          ],
          [
           "stern TV"
          ],
          [
           "DER SPIEGEL"
          ]
         ],
         "hovertemplate": "color=left leaning<br>x=%{x}<br>y=%{y}<br>hover_data_0=%{customdata[0]}<extra></extra>",
         "legendgroup": "left leaning",
         "marker": {
          "color": "rgb(178,24,43)",
          "symbol": "circle"
         },
         "mode": "markers",
         "name": "left leaning",
         "orientation": "v",
         "showlegend": true,
         "type": "scatter",
         "x": [
          0.29756950677461635,
          -0.022798523199199353,
          -0.0786293975482834
         ],
         "xaxis": "x",
         "y": [
          0,
          0,
          0
         ],
         "yaxis": "y"
        },
        {
         "customdata": [
          [
           "Süddeutsche Zeitung"
          ],
          [
           "Der Tagesspiegel"
          ],
          [
           "ARD"
          ],
          [
           "ZDF"
          ],
          [
           "ZDFheute Nachrichten"
          ],
          [
           "Bayerischer Rundfunk"
          ],
          [
           "ntv Nachrichten"
          ],
          [
           "ZEIT ONLINE"
          ],
          [
           "faz"
          ],
          [
           "WELT"
          ]
         ],
         "hovertemplate": "color=center<br>x=%{x}<br>y=%{y}<br>hover_data_0=%{customdata[0]}<extra></extra>",
         "legendgroup": "center",
         "marker": {
          "color": "rgb(214,96,77)",
          "symbol": "circle"
         },
         "mode": "markers",
         "name": "center",
         "orientation": "v",
         "showlegend": true,
         "type": "scatter",
         "x": [
          0.4289361878217283,
          -0.17596661956854084,
          0.11703577662268826,
          -0.04323970693758404,
          -0.09306372993466736,
          0.06549338680750913,
          -0.11707075068827527,
          0.3991796111144826,
          0.21444731887681878,
          -0.24000141411542278
         ],
         "xaxis": "x",
         "y": [
          0,
          0,
          0,
          0,
          0,
          0,
          0,
          0,
          0,
          0
         ],
         "yaxis": "y"
        },
        {
         "customdata": [
          [
           "RTL"
          ],
          [
           "FOCUS Online"
          ],
          [
           "BILD"
          ],
          [
           "NZZ Neue Zürcher Zeitung"
          ]
         ],
         "hovertemplate": "color=right leaning<br>x=%{x}<br>y=%{y}<br>hover_data_0=%{customdata[0]}<extra></extra>",
         "legendgroup": "right leaning",
         "marker": {
          "color": "rgb(244,165,130)",
          "symbol": "circle"
         },
         "mode": "markers",
         "name": "right leaning",
         "orientation": "v",
         "showlegend": true,
         "type": "scatter",
         "x": [
          -0.37197511387186455,
          -0.04221101121615229,
          -0.1449701988128908,
          -0.11859482553695297
         ],
         "xaxis": "x",
         "y": [
          0,
          0,
          0,
          0
         ],
         "yaxis": "y"
        },
        {
         "customdata": [
          [
           "Junge Freiheit"
          ],
          [
           "COMPACTTV"
          ]
         ],
         "hovertemplate": "color=right<br>x=%{x}<br>y=%{y}<br>hover_data_0=%{customdata[0]}<extra></extra>",
         "legendgroup": "right",
         "marker": {
          "color": "rgb(253,219,199)",
          "symbol": "circle"
         },
         "mode": "markers",
         "name": "right",
         "orientation": "v",
         "showlegend": true,
         "type": "scatter",
         "x": [
          -0.18031793469860896,
          -0.23198779939782332
         ],
         "xaxis": "x",
         "y": [
          0,
          0
         ],
         "yaxis": "y"
        }
       ],
       "layout": {
        "legend": {
         "title": {
          "text": "color"
         },
         "tracegroupgap": 0
        },
        "template": {
         "data": {
          "bar": [
           {
            "error_x": {
             "color": "#2a3f5f"
            },
            "error_y": {
             "color": "#2a3f5f"
            },
            "marker": {
             "line": {
              "color": "#E5ECF6",
              "width": 0.5
             },
             "pattern": {
              "fillmode": "overlay",
              "size": 10,
              "solidity": 0.2
             }
            },
            "type": "bar"
           }
          ],
          "barpolar": [
           {
            "marker": {
             "line": {
              "color": "#E5ECF6",
              "width": 0.5
             },
             "pattern": {
              "fillmode": "overlay",
              "size": 10,
              "solidity": 0.2
             }
            },
            "type": "barpolar"
           }
          ],
          "carpet": [
           {
            "aaxis": {
             "endlinecolor": "#2a3f5f",
             "gridcolor": "white",
             "linecolor": "white",
             "minorgridcolor": "white",
             "startlinecolor": "#2a3f5f"
            },
            "baxis": {
             "endlinecolor": "#2a3f5f",
             "gridcolor": "white",
             "linecolor": "white",
             "minorgridcolor": "white",
             "startlinecolor": "#2a3f5f"
            },
            "type": "carpet"
           }
          ],
          "choropleth": [
           {
            "colorbar": {
             "outlinewidth": 0,
             "ticks": ""
            },
            "type": "choropleth"
           }
          ],
          "contour": [
           {
            "colorbar": {
             "outlinewidth": 0,
             "ticks": ""
            },
            "colorscale": [
             [
              0,
              "#0d0887"
             ],
             [
              0.1111111111111111,
              "#46039f"
             ],
             [
              0.2222222222222222,
              "#7201a8"
             ],
             [
              0.3333333333333333,
              "#9c179e"
             ],
             [
              0.4444444444444444,
              "#bd3786"
             ],
             [
              0.5555555555555556,
              "#d8576b"
             ],
             [
              0.6666666666666666,
              "#ed7953"
             ],
             [
              0.7777777777777778,
              "#fb9f3a"
             ],
             [
              0.8888888888888888,
              "#fdca26"
             ],
             [
              1,
              "#f0f921"
             ]
            ],
            "type": "contour"
           }
          ],
          "contourcarpet": [
           {
            "colorbar": {
             "outlinewidth": 0,
             "ticks": ""
            },
            "type": "contourcarpet"
           }
          ],
          "heatmap": [
           {
            "colorbar": {
             "outlinewidth": 0,
             "ticks": ""
            },
            "colorscale": [
             [
              0,
              "#0d0887"
             ],
             [
              0.1111111111111111,
              "#46039f"
             ],
             [
              0.2222222222222222,
              "#7201a8"
             ],
             [
              0.3333333333333333,
              "#9c179e"
             ],
             [
              0.4444444444444444,
              "#bd3786"
             ],
             [
              0.5555555555555556,
              "#d8576b"
             ],
             [
              0.6666666666666666,
              "#ed7953"
             ],
             [
              0.7777777777777778,
              "#fb9f3a"
             ],
             [
              0.8888888888888888,
              "#fdca26"
             ],
             [
              1,
              "#f0f921"
             ]
            ],
            "type": "heatmap"
           }
          ],
          "heatmapgl": [
           {
            "colorbar": {
             "outlinewidth": 0,
             "ticks": ""
            },
            "colorscale": [
             [
              0,
              "#0d0887"
             ],
             [
              0.1111111111111111,
              "#46039f"
             ],
             [
              0.2222222222222222,
              "#7201a8"
             ],
             [
              0.3333333333333333,
              "#9c179e"
             ],
             [
              0.4444444444444444,
              "#bd3786"
             ],
             [
              0.5555555555555556,
              "#d8576b"
             ],
             [
              0.6666666666666666,
              "#ed7953"
             ],
             [
              0.7777777777777778,
              "#fb9f3a"
             ],
             [
              0.8888888888888888,
              "#fdca26"
             ],
             [
              1,
              "#f0f921"
             ]
            ],
            "type": "heatmapgl"
           }
          ],
          "histogram": [
           {
            "marker": {
             "pattern": {
              "fillmode": "overlay",
              "size": 10,
              "solidity": 0.2
             }
            },
            "type": "histogram"
           }
          ],
          "histogram2d": [
           {
            "colorbar": {
             "outlinewidth": 0,
             "ticks": ""
            },
            "colorscale": [
             [
              0,
              "#0d0887"
             ],
             [
              0.1111111111111111,
              "#46039f"
             ],
             [
              0.2222222222222222,
              "#7201a8"
             ],
             [
              0.3333333333333333,
              "#9c179e"
             ],
             [
              0.4444444444444444,
              "#bd3786"
             ],
             [
              0.5555555555555556,
              "#d8576b"
             ],
             [
              0.6666666666666666,
              "#ed7953"
             ],
             [
              0.7777777777777778,
              "#fb9f3a"
             ],
             [
              0.8888888888888888,
              "#fdca26"
             ],
             [
              1,
              "#f0f921"
             ]
            ],
            "type": "histogram2d"
           }
          ],
          "histogram2dcontour": [
           {
            "colorbar": {
             "outlinewidth": 0,
             "ticks": ""
            },
            "colorscale": [
             [
              0,
              "#0d0887"
             ],
             [
              0.1111111111111111,
              "#46039f"
             ],
             [
              0.2222222222222222,
              "#7201a8"
             ],
             [
              0.3333333333333333,
              "#9c179e"
             ],
             [
              0.4444444444444444,
              "#bd3786"
             ],
             [
              0.5555555555555556,
              "#d8576b"
             ],
             [
              0.6666666666666666,
              "#ed7953"
             ],
             [
              0.7777777777777778,
              "#fb9f3a"
             ],
             [
              0.8888888888888888,
              "#fdca26"
             ],
             [
              1,
              "#f0f921"
             ]
            ],
            "type": "histogram2dcontour"
           }
          ],
          "mesh3d": [
           {
            "colorbar": {
             "outlinewidth": 0,
             "ticks": ""
            },
            "type": "mesh3d"
           }
          ],
          "parcoords": [
           {
            "line": {
             "colorbar": {
              "outlinewidth": 0,
              "ticks": ""
             }
            },
            "type": "parcoords"
           }
          ],
          "pie": [
           {
            "automargin": true,
            "type": "pie"
           }
          ],
          "scatter": [
           {
            "marker": {
             "colorbar": {
              "outlinewidth": 0,
              "ticks": ""
             }
            },
            "type": "scatter"
           }
          ],
          "scatter3d": [
           {
            "line": {
             "colorbar": {
              "outlinewidth": 0,
              "ticks": ""
             }
            },
            "marker": {
             "colorbar": {
              "outlinewidth": 0,
              "ticks": ""
             }
            },
            "type": "scatter3d"
           }
          ],
          "scattercarpet": [
           {
            "marker": {
             "colorbar": {
              "outlinewidth": 0,
              "ticks": ""
             }
            },
            "type": "scattercarpet"
           }
          ],
          "scattergeo": [
           {
            "marker": {
             "colorbar": {
              "outlinewidth": 0,
              "ticks": ""
             }
            },
            "type": "scattergeo"
           }
          ],
          "scattergl": [
           {
            "marker": {
             "colorbar": {
              "outlinewidth": 0,
              "ticks": ""
             }
            },
            "type": "scattergl"
           }
          ],
          "scattermapbox": [
           {
            "marker": {
             "colorbar": {
              "outlinewidth": 0,
              "ticks": ""
             }
            },
            "type": "scattermapbox"
           }
          ],
          "scatterpolar": [
           {
            "marker": {
             "colorbar": {
              "outlinewidth": 0,
              "ticks": ""
             }
            },
            "type": "scatterpolar"
           }
          ],
          "scatterpolargl": [
           {
            "marker": {
             "colorbar": {
              "outlinewidth": 0,
              "ticks": ""
             }
            },
            "type": "scatterpolargl"
           }
          ],
          "scatterternary": [
           {
            "marker": {
             "colorbar": {
              "outlinewidth": 0,
              "ticks": ""
             }
            },
            "type": "scatterternary"
           }
          ],
          "surface": [
           {
            "colorbar": {
             "outlinewidth": 0,
             "ticks": ""
            },
            "colorscale": [
             [
              0,
              "#0d0887"
             ],
             [
              0.1111111111111111,
              "#46039f"
             ],
             [
              0.2222222222222222,
              "#7201a8"
             ],
             [
              0.3333333333333333,
              "#9c179e"
             ],
             [
              0.4444444444444444,
              "#bd3786"
             ],
             [
              0.5555555555555556,
              "#d8576b"
             ],
             [
              0.6666666666666666,
              "#ed7953"
             ],
             [
              0.7777777777777778,
              "#fb9f3a"
             ],
             [
              0.8888888888888888,
              "#fdca26"
             ],
             [
              1,
              "#f0f921"
             ]
            ],
            "type": "surface"
           }
          ],
          "table": [
           {
            "cells": {
             "fill": {
              "color": "#EBF0F8"
             },
             "line": {
              "color": "white"
             }
            },
            "header": {
             "fill": {
              "color": "#C8D4E3"
             },
             "line": {
              "color": "white"
             }
            },
            "type": "table"
           }
          ]
         },
         "layout": {
          "annotationdefaults": {
           "arrowcolor": "#2a3f5f",
           "arrowhead": 0,
           "arrowwidth": 1
          },
          "autotypenumbers": "strict",
          "coloraxis": {
           "colorbar": {
            "outlinewidth": 0,
            "ticks": ""
           }
          },
          "colorscale": {
           "diverging": [
            [
             0,
             "#8e0152"
            ],
            [
             0.1,
             "#c51b7d"
            ],
            [
             0.2,
             "#de77ae"
            ],
            [
             0.3,
             "#f1b6da"
            ],
            [
             0.4,
             "#fde0ef"
            ],
            [
             0.5,
             "#f7f7f7"
            ],
            [
             0.6,
             "#e6f5d0"
            ],
            [
             0.7,
             "#b8e186"
            ],
            [
             0.8,
             "#7fbc41"
            ],
            [
             0.9,
             "#4d9221"
            ],
            [
             1,
             "#276419"
            ]
           ],
           "sequential": [
            [
             0,
             "#0d0887"
            ],
            [
             0.1111111111111111,
             "#46039f"
            ],
            [
             0.2222222222222222,
             "#7201a8"
            ],
            [
             0.3333333333333333,
             "#9c179e"
            ],
            [
             0.4444444444444444,
             "#bd3786"
            ],
            [
             0.5555555555555556,
             "#d8576b"
            ],
            [
             0.6666666666666666,
             "#ed7953"
            ],
            [
             0.7777777777777778,
             "#fb9f3a"
            ],
            [
             0.8888888888888888,
             "#fdca26"
            ],
            [
             1,
             "#f0f921"
            ]
           ],
           "sequentialminus": [
            [
             0,
             "#0d0887"
            ],
            [
             0.1111111111111111,
             "#46039f"
            ],
            [
             0.2222222222222222,
             "#7201a8"
            ],
            [
             0.3333333333333333,
             "#9c179e"
            ],
            [
             0.4444444444444444,
             "#bd3786"
            ],
            [
             0.5555555555555556,
             "#d8576b"
            ],
            [
             0.6666666666666666,
             "#ed7953"
            ],
            [
             0.7777777777777778,
             "#fb9f3a"
            ],
            [
             0.8888888888888888,
             "#fdca26"
            ],
            [
             1,
             "#f0f921"
            ]
           ]
          },
          "colorway": [
           "#636efa",
           "#EF553B",
           "#00cc96",
           "#ab63fa",
           "#FFA15A",
           "#19d3f3",
           "#FF6692",
           "#B6E880",
           "#FF97FF",
           "#FECB52"
          ],
          "font": {
           "color": "#2a3f5f"
          },
          "geo": {
           "bgcolor": "white",
           "lakecolor": "white",
           "landcolor": "#E5ECF6",
           "showlakes": true,
           "showland": true,
           "subunitcolor": "white"
          },
          "hoverlabel": {
           "align": "left"
          },
          "hovermode": "closest",
          "mapbox": {
           "style": "light"
          },
          "paper_bgcolor": "white",
          "plot_bgcolor": "#E5ECF6",
          "polar": {
           "angularaxis": {
            "gridcolor": "white",
            "linecolor": "white",
            "ticks": ""
           },
           "bgcolor": "#E5ECF6",
           "radialaxis": {
            "gridcolor": "white",
            "linecolor": "white",
            "ticks": ""
           }
          },
          "scene": {
           "xaxis": {
            "backgroundcolor": "#E5ECF6",
            "gridcolor": "white",
            "gridwidth": 2,
            "linecolor": "white",
            "showbackground": true,
            "ticks": "",
            "zerolinecolor": "white"
           },
           "yaxis": {
            "backgroundcolor": "#E5ECF6",
            "gridcolor": "white",
            "gridwidth": 2,
            "linecolor": "white",
            "showbackground": true,
            "ticks": "",
            "zerolinecolor": "white"
           },
           "zaxis": {
            "backgroundcolor": "#E5ECF6",
            "gridcolor": "white",
            "gridwidth": 2,
            "linecolor": "white",
            "showbackground": true,
            "ticks": "",
            "zerolinecolor": "white"
           }
          },
          "shapedefaults": {
           "line": {
            "color": "#2a3f5f"
           }
          },
          "ternary": {
           "aaxis": {
            "gridcolor": "white",
            "linecolor": "white",
            "ticks": ""
           },
           "baxis": {
            "gridcolor": "white",
            "linecolor": "white",
            "ticks": ""
           },
           "bgcolor": "#E5ECF6",
           "caxis": {
            "gridcolor": "white",
            "linecolor": "white",
            "ticks": ""
           }
          },
          "title": {
           "x": 0.05
          },
          "xaxis": {
           "automargin": true,
           "gridcolor": "white",
           "linecolor": "white",
           "ticks": "",
           "title": {
            "standoff": 15
           },
           "zerolinecolor": "white",
           "zerolinewidth": 2
          },
          "yaxis": {
           "automargin": true,
           "gridcolor": "white",
           "linecolor": "white",
           "ticks": "",
           "title": {
            "standoff": 15
           },
           "zerolinecolor": "white",
           "zerolinewidth": 2
          }
         }
        },
        "title": {
         "text": "Topic: '2_polizei_polizisten_täter_staatsanwaltschaft', 2. Principal Component"
        },
        "xaxis": {
         "anchor": "y",
         "domain": [
          0,
          1
         ],
         "title": {
          "text": "x"
         }
        },
        "yaxis": {
         "anchor": "x",
         "domain": [
          0,
          1
         ],
         "title": {
          "text": "y"
         }
        }
       }
      }
     },
     "metadata": {},
     "output_type": "display_data"
    }
   ],
   "source": [
    "import plotly.express as px\n",
    "import matplotlib.pyplot as plt\n",
    "%matplotlib qt\n",
    "\n",
    "n_components=3\n",
    "scale = True\n",
    "\n",
    "scaler = StandardScaler()\n",
    "model = TruncatedSVD(n_components=n_components)\n",
    "\n",
    "if scale:\n",
    "    N_scaled = scaler.fit_transform(N.values)\n",
    "    N_df_trunc = model.fit_transform(N_scaled)\n",
    "else:\n",
    "    N_df_trunc = model.fit_transform(N.values)\n",
    "\n",
    "for n in range(n_components):\n",
    "    fig = px.scatter(\n",
    "        x=model.components_[n], \n",
    "        y=[0.0 for test in model.components_[n]], \n",
    "        color=political_spectrum_dict.values(), \n",
    "        color_discrete_sequence=px.colors.diverging.RdBu,\n",
    "        hover_data=[N_df.columns], \n",
    "        title=f'Topic: \\'{topic}\\', {n}. Principal Component',\n",
    "        )\n",
    "    fig.show()"
   ]
  },
  {
   "cell_type": "code",
   "execution_count": 50,
   "metadata": {},
   "outputs": [
    {
     "name": "stdout",
     "output_type": "stream",
     "text": [
      "principal component: 0, first 10 phrases: ['paragraph', 'mord serie', 'hinreichend', 'verdächtiges', 'strafrechts', 'tests', 'gerechten', 'abgeschoben', 'repression', 'strafgerichtshof']\n",
      "principal component: 0, last 10 phrases: ['urteil', 'frauen', 'einsatz', 'beamten', 'ermittlungen', 'kinder', 'ort', 'demonstranten', 'staatsanwaltschaft', 'täter']\n",
      "principal component: 1, first 10 phrases: ['usa', 'demonstranten', 'demonstrationen', 'politik', 'bürger', 'proteste', 'nsu', 'protest', 'demo', 'politischen']\n",
      "principal component: 1, last 10 phrases: ['festgenommen', 'auto', 'ermittler', 'mutter', 'anzeige', 'ermittlungen', 'haus', 'beamten', 'staatsanwaltschaft', 'täter']\n",
      "principal component: 2, first 10 phrases: ['demonstranten', 'beamten', 'ort', 'becker', 'täter', 'stimmung', 'berliner', 'einsatz', 'dresden', 'corona']\n",
      "principal component: 2, last 10 phrases: ['justiz', 'richter', 'unschuldsvermutung', 'verurteilt', 'urteil', 'prozess', 'verbrechen', 'geldstrafe', 'strafe', 'usa']\n"
     ]
    }
   ],
   "source": [
    "n_phrases = 10\n",
    "for axis in range(n_components):\n",
    "    ind_last = np.argsort(N_df_trunc[:,axis])[-n_phrases:]\n",
    "    ind_first = np.argsort(N_df_trunc[:,axis])[:n_phrases]\n",
    "    print(f'principal component: {axis}, first {n_phrases} phrases: {N.index[ind_first].to_list()}')\n",
    "    print(f'principal component: {axis}, last {n_phrases} phrases: {N.index[ind_last].to_list()}')"
   ]
  }
 ],
 "metadata": {
  "interpreter": {
   "hash": "9ae7ae13804f56b6812076ff88d4c743516b7c995d69dd5984882be015e04ad2"
  },
  "kernelspec": {
   "display_name": "Python 3.9.10 ('base')",
   "language": "python",
   "name": "python3"
  },
  "language_info": {
   "codemirror_mode": {
    "name": "ipython",
    "version": 3
   },
   "file_extension": ".py",
   "mimetype": "text/x-python",
   "name": "python",
   "nbconvert_exporter": "python",
   "pygments_lexer": "ipython3",
   "version": "3.9.10"
  },
  "orig_nbformat": 4
 },
 "nbformat": 4,
 "nbformat_minor": 2
}
