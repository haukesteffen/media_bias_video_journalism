{
 "cells": [
  {
   "cell_type": "code",
   "execution_count": 1,
   "metadata": {},
   "outputs": [],
   "source": [
    "\n",
    "from sklearn.feature_extraction.text import CountVectorizer\n",
    "from sklearn.preprocessing import StandardScaler\n",
    "from sklearn.decomposition import TruncatedSVD\n",
    "import pandas as pd\n",
    "\n",
    "import joblib\n",
    "import numpy as np\n",
    "\n",
    "topic_dict = {\n",
    "    0: 'Tech',\n",
    "    1: 'Internationale Wahlen',\n",
    "    2: 'Kunst & Literatur',\n",
    "    3: 'Wetter & Fußball',\n",
    "    4: 'Wirtschaft',\n",
    "    5: 'Justiz',\n",
    "    6: 'International',\n",
    "    7: 'Ukrainekonflikt',\n",
    "    8: 'Familie',\n",
    "    9: 'Impfung',\n",
    "    10: 'Interview',\n",
    "    11: 'Innenpolitik',\n",
    "    12: 'Wahlen in Deutschland',\n",
    "    13: 'Parteienpolitik',\n",
    "    14: 'Coronamaßnahmen',\n",
    "}\n",
    "\n",
    "media = [\n",
    "    'junge Welt',\n",
    "    \"NachDenkSeiten\",\n",
    "    'taz',\n",
    "    'Süddeutsche Zeitung',\n",
    "    'stern TV',\n",
    "    \"DER SPIEGEL\",\n",
    "    'Der Tagesspiegel',\n",
    "    'ARD',\n",
    "    'Tagesschau',\n",
    "    'ZDF',\n",
    "    \"ZDFheute Nachrichten\",\n",
    "    'Bayerischer Rundfunk',\n",
    "    'ntv Nachrichten',\n",
    "    'RTL',\n",
    "    'FOCUS Online',\n",
    "    'ZEIT ONLINE',\n",
    "    'faz',\n",
    "    'WELT',\n",
    "    \"BILD\",\n",
    "    'NZZ Neue Zürcher Zeitung',\n",
    "    \"Junge Freiheit\",\n",
    "    'COMPACTTV'\n",
    "]\n",
    "\n",
    "def define_print(verbose=True):\n",
    "    if verbose:\n",
    "        verboseprint = print\n",
    "    else:\n",
    "        verboseprint = lambda *args: None\n",
    "    return verboseprint\n",
    "\n",
    "\n",
    "def extract_topics(df, cv_model, lda_model, to_csv=True, verbose=True):\n",
    "    verboseprint = define_print(verbose=verbose)\n",
    "    df.dropna(inplace=True)\n",
    "\n",
    "    verboseprint(f\"getting topics for {df.shape[0]} videos...\")\n",
    "    lda = cv_model.transform(df[\"preprocessed\"].to_list())\n",
    "    lda = lda_model.transform(lda)\n",
    "    lda = pd.DataFrame(lda)\n",
    "    lda.rename(columns=topic_dict, inplace=True)\n",
    "    dominant_topic_list = [topic_dict[topic] for topic in np.argmax(lda.values, axis=1)]\n",
    "    dominant_topic_mask = np.max(lda.values, axis=1) < 0.3\n",
    "    lda[\"dominant topic\"] = dominant_topic_list\n",
    "    lda.loc[dominant_topic_mask, \"dominant topic\"] = \"None\"\n",
    "\n",
    "    # lda['dominant topic'] = lda.apply(lambda row: np.argmax(row.values) if np.max(row.values) > 0.3 else 'None')\n",
    "    lda[\"id\"] = df[\"id\"].to_list()\n",
    "\n",
    "    verboseprint(\"merging data...\")\n",
    "    df = df.merge(lda, how=\"outer\", on=\"id\")\n",
    "    if to_csv:\n",
    "        verboseprint(\"saving csv file...\")\n",
    "        df.to_csv(\"../data/labeled/\" + df[\"medium\"].iloc[0] + \"_labeled.csv\")\n",
    "    return df\n",
    "\n",
    "\n",
    "def sort_topics(dfs, to_csv=True, verbose=True):\n",
    "    verboseprint = define_print(verbose=verbose)\n",
    "    dfs_dict = {}\n",
    "\n",
    "    verboseprint(\"initializing dataframes...\")\n",
    "    for _, topic in topic_dict.items():\n",
    "        dfs_dict[topic] = pd.DataFrame()\n",
    "\n",
    "    dfs_dict[\"None\"] = pd.DataFrame()\n",
    "\n",
    "    verboseprint(f\"iterating through {len(dfs)} input dataframes...\")\n",
    "    for df in dfs:\n",
    "        verboseprint(\"sorting \" + df[\"medium\"].iloc[0] + \" dataframe by topic...\")\n",
    "        for _, topic in topic_dict.items():\n",
    "            dfs_dict[topic] = pd.concat(\n",
    "                [dfs_dict[topic], df[df[\"dominant topic\"] == topic]]\n",
    "            )\n",
    "        dfs_dict[\"None\"] = pd.concat(\n",
    "            [dfs_dict[\"None\"], df[df[\"dominant topic\"] == \"None\"]]\n",
    "        )\n",
    "\n",
    "    if to_csv:\n",
    "        verboseprint(\"saving csv files...\")\n",
    "        for _, topic in topic_dict.items():\n",
    "            dfs_dict[topic].to_csv(\"../data/sorted/\" + topic + \".csv\")\n",
    "        dfs_dict[\"None\"].to_csv(\"../data/sorted/None.csv\")\n",
    "\n",
    "    return dfs_dict\n",
    "\n",
    "\n",
    "def get_N_matrix(topic, verbose=True, drop_subsumed=True, drop_medium_specific=True):\n",
    "    verboseprint = define_print(verbose=verbose)\n",
    "    MEDIA = media\n",
    "    cv = CountVectorizer(max_df=0.9, min_df=10, max_features=10000, ngram_range=(1, 3))\n",
    "\n",
    "    verboseprint(\"importing dataframe with topic \" + topic + \" and fitting model...\")\n",
    "    df = pd.read_csv(\"../data/sorted/\" + topic + \".csv\", index_col=0)\n",
    "    cv.fit(df[\"preprocessed\"])\n",
    "\n",
    "    verboseprint(\"restructuring dataframe with \" + str(len(df)) + \" transcripts...\")\n",
    "    df[\"preprocessed\"] = df[\"preprocessed\"] + \" \"\n",
    "    df = df[[\"medium\", \"preprocessed\", \"dominant topic\"]]\n",
    "    df_grouped = df.groupby([\"medium\", \"dominant topic\"]).sum()\n",
    "\n",
    "    df = pd.DataFrame(index=MEDIA, columns=[\"preprocessed\"])\n",
    "    empty_media = []\n",
    "    for medium in MEDIA:\n",
    "        try:\n",
    "            df.loc[medium] = df_grouped.loc[medium].loc[topic][\"preprocessed\"]\n",
    "        except:\n",
    "            print(\n",
    "                medium\n",
    "                + \" does not have any videos categorized under category '\"\n",
    "                + topic\n",
    "                + \"'.\"\n",
    "            )\n",
    "            df.drop(index=medium, inplace=True)\n",
    "            empty_media.append(medium)\n",
    "\n",
    "    for empty_medium in empty_media:\n",
    "        MEDIA.remove(empty_medium)\n",
    "\n",
    "    verboseprint(\"counting n-gram occurences...\")\n",
    "    N_matrix = cv.transform(df[\"preprocessed\"].values)\n",
    "    N_df = pd.DataFrame(\n",
    "        data=N_matrix.toarray().transpose(),\n",
    "        columns=df.index,\n",
    "        index=cv.get_feature_names_out(),\n",
    "    )\n",
    "\n",
    "    if drop_medium_specific:\n",
    "        verboseprint(\n",
    "            \"dropping medium-specific n-grams that occur in one medium at least 90% of the time...\"\n",
    "        )\n",
    "        N_sum = N_df.sum(axis=1)\n",
    "        mask = {}\n",
    "        specific_mask = np.full(len(N_df.index), False)\n",
    "        mask_df = N_df.apply(lambda x: x>0.9*N_sum)\n",
    "        for medium in MEDIA:\n",
    "            specific_mask = specific_mask | mask_df[medium].values\n",
    "        N_df.drop(N_df.index[specific_mask], inplace=True)\n",
    "\n",
    "    if drop_subsumed:\n",
    "        N_df = N_df.reset_index().rename(columns={\"index\": \"phrase\"})\n",
    "        N_df[\"n_gram\"] = N_df[\"phrase\"].apply(str.split).apply(len)\n",
    "        N_df[\"count\"] = N_df[MEDIA].sum(axis=1)\n",
    "\n",
    "        monograms = N_df[N_df[\"n_gram\"] == 1]\n",
    "        bigrams = N_df[N_df[\"n_gram\"] == 2]\n",
    "        trigrams = N_df[N_df[\"n_gram\"] == 3]\n",
    "        bigram_words = list(\n",
    "            set(\n",
    "                [\n",
    "                    word\n",
    "                    for bigram_sublist in bigrams[\"phrase\"].apply(str.split).tolist()\n",
    "                    for word in bigram_sublist\n",
    "                ]\n",
    "            )\n",
    "        )\n",
    "        trigram_words = list(\n",
    "            set(\n",
    "                [\n",
    "                    word\n",
    "                    for trigram_sublist in trigrams[\"phrase\"].apply(str.split).tolist()\n",
    "                    for word in trigram_sublist\n",
    "                ]\n",
    "            )\n",
    "        )\n",
    "\n",
    "        verboseprint(\"extracting subsumed n-grams...\")\n",
    "        monograms_in_bigrams = monograms[monograms[\"phrase\"].isin(bigram_words)]\n",
    "        monograms_in_trigrams = monograms[monograms[\"phrase\"].isin(trigram_words)]\n",
    "\n",
    "        bigrams_in_trigrams_words = list(\n",
    "            set(\n",
    "                [\n",
    "                    bigram_word\n",
    "                    for bigram_word in bigram_words\n",
    "                    if bigram_word in trigram_words\n",
    "                ]\n",
    "            )\n",
    "        )\n",
    "        bigrams_in_trigrams_mask = bigrams[\"phrase\"].apply(\n",
    "            lambda bigram: True\n",
    "            if bigram.split()[0] in bigrams_in_trigrams_words\n",
    "            or bigram.split()[1] in bigrams_in_trigrams_words\n",
    "            else False\n",
    "        )\n",
    "        bigrams_in_trigrams = bigrams[bigrams_in_trigrams_mask]\n",
    "\n",
    "        threshold = 0.7\n",
    "        verboseprint(\n",
    "            f\"filtering n-grams which are subsumed more than {int(100*threshold)}% of the time...\"\n",
    "        )\n",
    "        monograms_in_bigrams_above_threshold = list(\n",
    "            set(\n",
    "                [\n",
    "                    monogram[\"phrase\"]\n",
    "                    for _, monogram in monograms_in_bigrams.iterrows()\n",
    "                    for _, bigram in bigrams.iterrows()\n",
    "                    if monogram[\"phrase\"] in bigram[\"phrase\"].split()\n",
    "                    and bigram[\"count\"] > threshold * monogram[\"count\"]\n",
    "                ]\n",
    "            )\n",
    "        )\n",
    "        monograms_in_trigrams_above_threshold = list(\n",
    "            set(\n",
    "                [\n",
    "                    monogram[\"phrase\"]\n",
    "                    for _, monogram in monograms_in_trigrams.iterrows()\n",
    "                    for _, trigram in trigrams.iterrows()\n",
    "                    if monogram[\"phrase\"] in trigram[\"phrase\"].split()\n",
    "                    and trigram[\"count\"] > threshold * monogram[\"count\"]\n",
    "                ]\n",
    "            )\n",
    "        )\n",
    "        bigrams_in_trigrams_above_threshold = list(\n",
    "            set(\n",
    "                [\n",
    "                    bigram[\"phrase\"]\n",
    "                    for _, bigram in bigrams_in_trigrams.iterrows()\n",
    "                    for _, trigram in trigrams.iterrows()\n",
    "                    if (\n",
    "                        bigram[\"phrase\"] in \" \".join(trigram[\"phrase\"].split()[:2])\n",
    "                        or bigram[\"phrase\"] in \" \".join(trigram[\"phrase\"].split()[-2:])\n",
    "                    )\n",
    "                    and trigram[\"count\"] > threshold * bigram[\"count\"]\n",
    "                ]\n",
    "            )\n",
    "        )\n",
    "        n_grams_above_threshold = list(\n",
    "            set(\n",
    "                np.append(\n",
    "                    np.append(\n",
    "                        monograms_in_bigrams_above_threshold,\n",
    "                        monograms_in_trigrams_above_threshold,\n",
    "                    ),\n",
    "                    bigrams_in_trigrams_above_threshold,\n",
    "                )\n",
    "            )\n",
    "        )\n",
    "\n",
    "        N_df.drop(\n",
    "            N_df[N_df[\"phrase\"].isin(n_grams_above_threshold)].index, inplace=True\n",
    "        )\n",
    "        N_df.set_index(\"phrase\", inplace=True)\n",
    "        N_df.drop(columns=[\"n_gram\", \"count\"], inplace=True)\n",
    "    return N_df\n",
    "\n",
    "\n",
    "def filter_N_by_information_score(N_df, n=1000, verbose=True):\n",
    "    verboseprint = define_print(verbose=verbose)\n",
    "    verboseprint(\"filtering \" + str(n) + \" most discriminative phrases from sample...\")\n",
    "    n_i = len(N_df.index)\n",
    "    n_j = len(N_df.columns)\n",
    "    P_ij = N_df / N_df.to_numpy().sum()\n",
    "    P_i = P_ij.sum(axis=1)\n",
    "    P_j = P_ij.sum(axis=0)\n",
    "\n",
    "    I = np.zeros((n_i, n_j))\n",
    "\n",
    "    for i in range(n_i):\n",
    "        for j in range(n_j):\n",
    "            I[i][j] = P_ij.values[i][j] * np.log2(P_ij.values[i][j] / P_i[i] / P_j[j])\n",
    "\n",
    "    I = pd.DataFrame(I, index=N_df.index, columns=N_df.columns)\n",
    "    I = I.fillna(0.0)\n",
    "    I[\"sum\"] = I.sum(axis=1)\n",
    "    I.sort_values(by=\"sum\", ascending=False, inplace=True)\n",
    "    return N_df.loc[I.index[:n]]\n"
   ]
  },
  {
   "cell_type": "code",
   "execution_count": 2,
   "metadata": {},
   "outputs": [
    {
     "name": "stdout",
     "output_type": "stream",
     "text": [
      "0_ukraine_russland_russischen_putin\n",
      "filtering 1000 most discriminative phrases from sample...\n"
     ]
    },
    {
     "name": "stderr",
     "output_type": "stream",
     "text": [
      "/var/folders/k5/jm1h82sn2vd8d4f_0f1091r00000gn/T/ipykernel_18955/2369764404.py:288: RuntimeWarning: divide by zero encountered in log2\n",
      "  I[i][j] = P_ij.values[i][j] * np.log2(P_ij.values[i][j] / P_i[i] / P_j[j])\n",
      "/var/folders/k5/jm1h82sn2vd8d4f_0f1091r00000gn/T/ipykernel_18955/2369764404.py:288: RuntimeWarning: invalid value encountered in double_scalars\n",
      "  I[i][j] = P_ij.values[i][j] * np.log2(P_ij.values[i][j] / P_i[i] / P_j[j])\n"
     ]
    }
   ],
   "source": [
    "topic_info = pd.read_pickle('topic_info.pkl')\n",
    "topic = topic_info.iloc[1]['Name']\n",
    "print(topic)\n",
    "\n",
    "N_df = pd.read_pickle(f'../data/N_matrices_pre_purge/N_{topic}.pkl')\n",
    "#N_df = get_N_matrix(topic=topic)\n",
    "N_df = filter_N_by_information_score(N_df)\n",
    "\n",
    "#N = pd.read_csv('../data/N_matrices_pre_purge/N_'+topic+'_pre_purge.csv', index_col=0)"
   ]
  },
  {
   "cell_type": "code",
   "execution_count": 3,
   "metadata": {},
   "outputs": [],
   "source": [
    "blacklist = [\n",
    "    'the',\n",
    "    'to',\n",
    "    'that',\n",
    "    'of',\n",
    "    'uh',\n",
    "    'we',\n",
    "    'is',\n",
    "    'you',\n",
    "    'this',\n",
    "    'peter',\n",
    "    'are',\n",
    "    'it',\n",
    "    'have',\n",
    "    'like',\n",
    "    'with',\n",
    "    'on',\n",
    "    'our',\n",
    "    'but',\n",
    "    'what',\n",
    "    'they',\n",
    "    'be',\n",
    "    'sozusagen',\n",
    "    'from',\n",
    "    'people',\n",
    "    'not',\n",
    "    'philipp',\n",
    "    'as',\n",
    "    'there',\n",
    "    'because',\n",
    "    'of the',\n",
    "    'can',\n",
    "    'has',\n",
    "    'about',\n",
    "    'or',\n",
    "    'julian',\n",
    "    'now',\n",
    "    'very',\n",
    "    'do',\n",
    "    'who',\n",
    "    'think',\n",
    "    'at',\n",
    "    'if',\n",
    "    'by',\n",
    "    'their',\n",
    "    'my',\n",
    "    'just',\n",
    "    'yeah',\n",
    "    'would',\n",
    "    'this is',\n",
    "    'more',\n",
    "    'we have',\n",
    "    'he',\n",
    "    'when',\n",
    "    'we are',\n",
    "    'to the',\n",
    "    'vitali',\n",
    "    'were',\n",
    "    'katrin',\n",
    "    'how',\n",
    "    'going',\n",
    "    'thank you',\n",
    "    'support',\n",
    "    'on the',\n",
    "    'them',\n",
    "    'mr',\n",
    "    'then',\n",
    "    'that we',\n",
    "    'one',\n",
    "    'which',\n",
    "    'say',\n",
    "    'other',\n",
    "    'united',\n",
    "    'time',\n",
    "    'these',\n",
    "    'you know',\n",
    "    'against',\n",
    "    'some',\n",
    "    'many',\n",
    "    'glaube',\n",
    "    'today',\n",
    "    'its',\n",
    "    'any',\n",
    "    'right',\n",
    "    'to be',\n",
    "    'even',\n",
    "    'said',\n",
    "    'something',\n",
    "    'why',\n",
    "    'that the',\n",
    "    'could',\n",
    "    'your',\n",
    "    'well',\n",
    "    'world',\n",
    "    'go',\n",
    "    'albrecht',\n",
    "    'go',\n",
    "    'from the',\n",
    "    'really',\n",
    "    'course',\n",
    "    'country',\n",
    "    'going to',\n",
    "    'here',\n",
    "    'into',\n",
    "    'no',\n",
    "    'with the',\n",
    "    'want',\n",
    "    'only',\n",
    "    'had',\n",
    "    'those',\n",
    "    'his',\n",
    "    'it is',\n",
    "    'is the',\n",
    "    'lot',\n",
    "    'way',\n",
    "    'clear',\n",
    "    'should',\n",
    "    'much',\n",
    "    'me',\n",
    "    'theo',\n",
    "    'continue',\n",
    "    'need',\n",
    "    'where',\n",
    "    'question',\n",
    "    'button',\n",
    "    'montag',\n",
    "    'dienstag',\n",
    "    'mittwoch',\n",
    "    'donnerstag',\n",
    "    'freitag',\n",
    "    'samstag',\n",
    "    'sonntag',\n",
    "    'norbert',\n",
    "    'okay',\n",
    "    'over',\n",
    "    'up',\n",
    "    'than',\n",
    "    'again',\n",
    "    'out',\n",
    "    'axel',\n",
    "    'make',\n",
    "    'abonnieren',\n",
    "    'to do',\n",
    "    'get',\n",
    "    'schreibt',\n",
    "    'exklusiv',\n",
    "    'most',\n",
    "    'denke',\n",
    "    'see',\n",
    "    'take',\n",
    "    'first',\n",
    "    'januar',\n",
    "    'februar',\n",
    "    'märz',\n",
    "    'april',\n",
    "    'mai',\n",
    "    'juni',\n",
    "    'juli',\n",
    "    'august',\n",
    "    'september',\n",
    "    'oktober',\n",
    "    'november',\n",
    "    'dezember',\n",
    "    'come',\n",
    "    'tobias',\n",
    "    'florian',\n",
    "    'part',\n",
    "    'gerne',\n",
    "    'jump',\n",
    "    'gucken',\n",
    "    'two',\n",
    "    'made',\n",
    "    'barbara',\n",
    "    'wochen',\n",
    "    'film',\n",
    "    'back',\n",
    "    'nadja',\n",
    "    'name',\n",
    "    'gabriel',\n",
    "    'vorhin',\n",
    "    'use',\n",
    "    'sebastian',\n",
    "    'leuten',\n",
    "    'vater',\n",
    "    'andreas',\n",
    "    'stefan',\n",
    "    'life',\n",
    "    'johnny depp',\n",
    "    'stop',\n",
    "    'heinz',\n",
    "    'helmut',\n",
    "    'mutter',\n",
    "    'fußball',\n",
    "    'rainer',\n",
    "    'community',\n",
    "    'claudia',\n",
    "    'instagram',\n",
    "    'response',\n",
    "    'jens',\n",
    "    'day',\n",
    "    'know',\n",
    "]"
   ]
  },
  {
   "cell_type": "code",
   "execution_count": 4,
   "metadata": {},
   "outputs": [
    {
     "data": {
      "text/plain": [
       "21"
      ]
     },
     "execution_count": 4,
     "metadata": {},
     "output_type": "execute_result"
    }
   ],
   "source": [
    "N = N_df[~N_df.index.isin(blacklist)]\n",
    "N.to_pickle('../data/N_matrices_post_purge/N_'+topic+'_post_purge.pkl')\n",
    "len(N.columns)"
   ]
  },
  {
   "cell_type": "code",
   "execution_count": 5,
   "metadata": {},
   "outputs": [
    {
     "name": "stderr",
     "output_type": "stream",
     "text": [
      "/Users/hs/miniforge3/lib/python3.9/site-packages/seaborn/_decorators.py:36: FutureWarning: Pass the following variables as keyword args: x, y. From version 0.12, the only valid positional argument will be `data`, and passing other arguments without an explicit keyword will result in an error or misinterpretation.\n",
      "  warnings.warn(\n",
      "/Users/hs/miniforge3/lib/python3.9/site-packages/seaborn/_decorators.py:36: FutureWarning: Pass the following variables as keyword args: x, y. From version 0.12, the only valid positional argument will be `data`, and passing other arguments without an explicit keyword will result in an error or misinterpretation.\n",
      "  warnings.warn(\n"
     ]
    }
   ],
   "source": [
    "import seaborn as sns\n",
    "import matplotlib.pyplot as plt\n",
    "%matplotlib qt\n",
    "\n",
    "scaler = StandardScaler()\n",
    "model = TruncatedSVD(n_components=3)\n",
    "\n",
    "N_scaled = scaler.fit_transform(N.values)\n",
    "N_df_trunc = model.fit_transform(N_scaled)\n",
    "\n",
    "sns.set(palette=\"coolwarm\", style='whitegrid')\n",
    "sns.scatterplot(\n",
    "    model.components_[0], \n",
    "    model.components_[1], \n",
    "    hue=N_df.columns,\n",
    "    palette='coolwarm',\n",
    "    ).set(title=f'Thema \"{topic}\" - Hauptachsen 0 und 1')\n",
    "plt.figure()\n",
    "sns.scatterplot(\n",
    "    model.components_[1], \n",
    "    model.components_[2], \n",
    "    hue=N_df.columns,\n",
    "    palette='coolwarm',\n",
    "    ).set(title=f'Thema \"{topic}\" - Hauptachsen 1 und 2')\n",
    "plt.show()"
   ]
  },
  {
   "cell_type": "code",
   "execution_count": 6,
   "metadata": {},
   "outputs": [],
   "source": [
    "political_spectrum_dict = {\n",
    "    'junge Welt':'left',\n",
    "    'NachDenkSeiten':'left',\n",
    "    'taz':'left leaning',\n",
    "    'Süddeutsche Zeitung':'center',\n",
    "    'stern TV':'left leaning',\n",
    "    'DER SPIEGEL':'left leaning',\n",
    "    'Der Tagesspiegel':'center',\n",
    "    'ARD':'center',\n",
    "    'ZDF':'center',\n",
    "    'ZDFheute Nachrichten':'center',\n",
    "    'Bayerischer Rundfunk':'center',\n",
    "    'ntv Nachrichten':'center',\n",
    "    'RTL':'right leaning',\n",
    "    'FOCUS Online':'right leaning',\n",
    "    'ZEIT ONLINE':'center',\n",
    "    'faz':'center',\n",
    "    'WELT':'center',\n",
    "    'BILD':'right leaning',\n",
    "    'NZZ Neue Zürcher Zeitung':'right leaning',\n",
    "    'Junge Freiheit':'right',\n",
    "    'COMPACTTV':'right'\n",
    "}"
   ]
  },
  {
   "cell_type": "code",
   "execution_count": 14,
   "metadata": {},
   "outputs": [
    {
     "data": {
      "application/vnd.plotly.v1+json": {
       "config": {
        "plotlyServerURL": "https://plot.ly"
       },
       "data": [
        {
         "customdata": [
          [
           "junge Welt"
          ],
          [
           "NachDenkSeiten"
          ]
         ],
         "hovertemplate": "color=left<br>x=%{x}<br>y=%{y}<br>hover_data_0=%{customdata[0]}<extra></extra>",
         "legendgroup": "left",
         "marker": {
          "color": "#636efa",
          "symbol": "circle"
         },
         "mode": "markers",
         "name": "left",
         "orientation": "v",
         "showlegend": true,
         "type": "scatter",
         "x": [
          0.0003511775894189384,
          0.022887149377752356
         ],
         "xaxis": "x",
         "y": [
          0,
          0
         ],
         "yaxis": "y"
        },
        {
         "customdata": [
          [
           "taz"
          ],
          [
           "stern TV"
          ],
          [
           "DER SPIEGEL"
          ]
         ],
         "hovertemplate": "color=left leaning<br>x=%{x}<br>y=%{y}<br>hover_data_0=%{customdata[0]}<extra></extra>",
         "legendgroup": "left leaning",
         "marker": {
          "color": "#EF553B",
          "symbol": "circle"
         },
         "mode": "markers",
         "name": "left leaning",
         "orientation": "v",
         "showlegend": true,
         "type": "scatter",
         "x": [
          0.004879109043695753,
          0.0007258641923961004,
          0.015369529407029596
         ],
         "xaxis": "x",
         "y": [
          0,
          0,
          0
         ],
         "yaxis": "y"
        },
        {
         "customdata": [
          [
           "Süddeutsche Zeitung"
          ],
          [
           "Der Tagesspiegel"
          ],
          [
           "ARD"
          ],
          [
           "ZDF"
          ],
          [
           "ZDFheute Nachrichten"
          ],
          [
           "Bayerischer Rundfunk"
          ],
          [
           "ntv Nachrichten"
          ],
          [
           "ZEIT ONLINE"
          ],
          [
           "faz"
          ],
          [
           "WELT"
          ]
         ],
         "hovertemplate": "color=center<br>x=%{x}<br>y=%{y}<br>hover_data_0=%{customdata[0]}<extra></extra>",
         "legendgroup": "center",
         "marker": {
          "color": "#00cc96",
          "symbol": "circle"
         },
         "mode": "markers",
         "name": "center",
         "orientation": "v",
         "showlegend": true,
         "type": "scatter",
         "x": [
          0.0013847989950422138,
          0.0006367316922086261,
          0.00033643279930540746,
          0.000023267142092070375,
          0.12006790609053009,
          0.001718870498294787,
          0.021054318035110826,
          0.0030066448012513163,
          0.026739796670351413,
          0.9501278665225247
         ],
         "xaxis": "x",
         "y": [
          0,
          0,
          0,
          0,
          0,
          0,
          0,
          0,
          0,
          0
         ],
         "yaxis": "y"
        },
        {
         "customdata": [
          [
           "RTL"
          ],
          [
           "FOCUS Online"
          ],
          [
           "BILD"
          ],
          [
           "NZZ Neue Zürcher Zeitung"
          ]
         ],
         "hovertemplate": "color=right leaning<br>x=%{x}<br>y=%{y}<br>hover_data_0=%{customdata[0]}<extra></extra>",
         "legendgroup": "right leaning",
         "marker": {
          "color": "#ab63fa",
          "symbol": "circle"
         },
         "mode": "markers",
         "name": "right leaning",
         "orientation": "v",
         "showlegend": true,
         "type": "scatter",
         "x": [
          0.0001944277332091265,
          0.0018206960300505524,
          0.2842339136211174,
          0.0010555185026107894
         ],
         "xaxis": "x",
         "y": [
          0,
          0,
          0,
          0
         ],
         "yaxis": "y"
        },
        {
         "customdata": [
          [
           "Junge Freiheit"
          ],
          [
           "COMPACTTV"
          ]
         ],
         "hovertemplate": "color=right<br>x=%{x}<br>y=%{y}<br>hover_data_0=%{customdata[0]}<extra></extra>",
         "legendgroup": "right",
         "marker": {
          "color": "#FFA15A",
          "symbol": "circle"
         },
         "mode": "markers",
         "name": "right",
         "orientation": "v",
         "showlegend": true,
         "type": "scatter",
         "x": [
          0.0014690154289706827,
          0.009378722367122479
         ],
         "xaxis": "x",
         "y": [
          0,
          0
         ],
         "yaxis": "y"
        }
       ],
       "layout": {
        "legend": {
         "title": {
          "text": "color"
         },
         "tracegroupgap": 0
        },
        "template": {
         "data": {
          "bar": [
           {
            "error_x": {
             "color": "#2a3f5f"
            },
            "error_y": {
             "color": "#2a3f5f"
            },
            "marker": {
             "line": {
              "color": "#E5ECF6",
              "width": 0.5
             },
             "pattern": {
              "fillmode": "overlay",
              "size": 10,
              "solidity": 0.2
             }
            },
            "type": "bar"
           }
          ],
          "barpolar": [
           {
            "marker": {
             "line": {
              "color": "#E5ECF6",
              "width": 0.5
             },
             "pattern": {
              "fillmode": "overlay",
              "size": 10,
              "solidity": 0.2
             }
            },
            "type": "barpolar"
           }
          ],
          "carpet": [
           {
            "aaxis": {
             "endlinecolor": "#2a3f5f",
             "gridcolor": "white",
             "linecolor": "white",
             "minorgridcolor": "white",
             "startlinecolor": "#2a3f5f"
            },
            "baxis": {
             "endlinecolor": "#2a3f5f",
             "gridcolor": "white",
             "linecolor": "white",
             "minorgridcolor": "white",
             "startlinecolor": "#2a3f5f"
            },
            "type": "carpet"
           }
          ],
          "choropleth": [
           {
            "colorbar": {
             "outlinewidth": 0,
             "ticks": ""
            },
            "type": "choropleth"
           }
          ],
          "contour": [
           {
            "colorbar": {
             "outlinewidth": 0,
             "ticks": ""
            },
            "colorscale": [
             [
              0,
              "#0d0887"
             ],
             [
              0.1111111111111111,
              "#46039f"
             ],
             [
              0.2222222222222222,
              "#7201a8"
             ],
             [
              0.3333333333333333,
              "#9c179e"
             ],
             [
              0.4444444444444444,
              "#bd3786"
             ],
             [
              0.5555555555555556,
              "#d8576b"
             ],
             [
              0.6666666666666666,
              "#ed7953"
             ],
             [
              0.7777777777777778,
              "#fb9f3a"
             ],
             [
              0.8888888888888888,
              "#fdca26"
             ],
             [
              1,
              "#f0f921"
             ]
            ],
            "type": "contour"
           }
          ],
          "contourcarpet": [
           {
            "colorbar": {
             "outlinewidth": 0,
             "ticks": ""
            },
            "type": "contourcarpet"
           }
          ],
          "heatmap": [
           {
            "colorbar": {
             "outlinewidth": 0,
             "ticks": ""
            },
            "colorscale": [
             [
              0,
              "#0d0887"
             ],
             [
              0.1111111111111111,
              "#46039f"
             ],
             [
              0.2222222222222222,
              "#7201a8"
             ],
             [
              0.3333333333333333,
              "#9c179e"
             ],
             [
              0.4444444444444444,
              "#bd3786"
             ],
             [
              0.5555555555555556,
              "#d8576b"
             ],
             [
              0.6666666666666666,
              "#ed7953"
             ],
             [
              0.7777777777777778,
              "#fb9f3a"
             ],
             [
              0.8888888888888888,
              "#fdca26"
             ],
             [
              1,
              "#f0f921"
             ]
            ],
            "type": "heatmap"
           }
          ],
          "heatmapgl": [
           {
            "colorbar": {
             "outlinewidth": 0,
             "ticks": ""
            },
            "colorscale": [
             [
              0,
              "#0d0887"
             ],
             [
              0.1111111111111111,
              "#46039f"
             ],
             [
              0.2222222222222222,
              "#7201a8"
             ],
             [
              0.3333333333333333,
              "#9c179e"
             ],
             [
              0.4444444444444444,
              "#bd3786"
             ],
             [
              0.5555555555555556,
              "#d8576b"
             ],
             [
              0.6666666666666666,
              "#ed7953"
             ],
             [
              0.7777777777777778,
              "#fb9f3a"
             ],
             [
              0.8888888888888888,
              "#fdca26"
             ],
             [
              1,
              "#f0f921"
             ]
            ],
            "type": "heatmapgl"
           }
          ],
          "histogram": [
           {
            "marker": {
             "pattern": {
              "fillmode": "overlay",
              "size": 10,
              "solidity": 0.2
             }
            },
            "type": "histogram"
           }
          ],
          "histogram2d": [
           {
            "colorbar": {
             "outlinewidth": 0,
             "ticks": ""
            },
            "colorscale": [
             [
              0,
              "#0d0887"
             ],
             [
              0.1111111111111111,
              "#46039f"
             ],
             [
              0.2222222222222222,
              "#7201a8"
             ],
             [
              0.3333333333333333,
              "#9c179e"
             ],
             [
              0.4444444444444444,
              "#bd3786"
             ],
             [
              0.5555555555555556,
              "#d8576b"
             ],
             [
              0.6666666666666666,
              "#ed7953"
             ],
             [
              0.7777777777777778,
              "#fb9f3a"
             ],
             [
              0.8888888888888888,
              "#fdca26"
             ],
             [
              1,
              "#f0f921"
             ]
            ],
            "type": "histogram2d"
           }
          ],
          "histogram2dcontour": [
           {
            "colorbar": {
             "outlinewidth": 0,
             "ticks": ""
            },
            "colorscale": [
             [
              0,
              "#0d0887"
             ],
             [
              0.1111111111111111,
              "#46039f"
             ],
             [
              0.2222222222222222,
              "#7201a8"
             ],
             [
              0.3333333333333333,
              "#9c179e"
             ],
             [
              0.4444444444444444,
              "#bd3786"
             ],
             [
              0.5555555555555556,
              "#d8576b"
             ],
             [
              0.6666666666666666,
              "#ed7953"
             ],
             [
              0.7777777777777778,
              "#fb9f3a"
             ],
             [
              0.8888888888888888,
              "#fdca26"
             ],
             [
              1,
              "#f0f921"
             ]
            ],
            "type": "histogram2dcontour"
           }
          ],
          "mesh3d": [
           {
            "colorbar": {
             "outlinewidth": 0,
             "ticks": ""
            },
            "type": "mesh3d"
           }
          ],
          "parcoords": [
           {
            "line": {
             "colorbar": {
              "outlinewidth": 0,
              "ticks": ""
             }
            },
            "type": "parcoords"
           }
          ],
          "pie": [
           {
            "automargin": true,
            "type": "pie"
           }
          ],
          "scatter": [
           {
            "marker": {
             "colorbar": {
              "outlinewidth": 0,
              "ticks": ""
             }
            },
            "type": "scatter"
           }
          ],
          "scatter3d": [
           {
            "line": {
             "colorbar": {
              "outlinewidth": 0,
              "ticks": ""
             }
            },
            "marker": {
             "colorbar": {
              "outlinewidth": 0,
              "ticks": ""
             }
            },
            "type": "scatter3d"
           }
          ],
          "scattercarpet": [
           {
            "marker": {
             "colorbar": {
              "outlinewidth": 0,
              "ticks": ""
             }
            },
            "type": "scattercarpet"
           }
          ],
          "scattergeo": [
           {
            "marker": {
             "colorbar": {
              "outlinewidth": 0,
              "ticks": ""
             }
            },
            "type": "scattergeo"
           }
          ],
          "scattergl": [
           {
            "marker": {
             "colorbar": {
              "outlinewidth": 0,
              "ticks": ""
             }
            },
            "type": "scattergl"
           }
          ],
          "scattermapbox": [
           {
            "marker": {
             "colorbar": {
              "outlinewidth": 0,
              "ticks": ""
             }
            },
            "type": "scattermapbox"
           }
          ],
          "scatterpolar": [
           {
            "marker": {
             "colorbar": {
              "outlinewidth": 0,
              "ticks": ""
             }
            },
            "type": "scatterpolar"
           }
          ],
          "scatterpolargl": [
           {
            "marker": {
             "colorbar": {
              "outlinewidth": 0,
              "ticks": ""
             }
            },
            "type": "scatterpolargl"
           }
          ],
          "scatterternary": [
           {
            "marker": {
             "colorbar": {
              "outlinewidth": 0,
              "ticks": ""
             }
            },
            "type": "scatterternary"
           }
          ],
          "surface": [
           {
            "colorbar": {
             "outlinewidth": 0,
             "ticks": ""
            },
            "colorscale": [
             [
              0,
              "#0d0887"
             ],
             [
              0.1111111111111111,
              "#46039f"
             ],
             [
              0.2222222222222222,
              "#7201a8"
             ],
             [
              0.3333333333333333,
              "#9c179e"
             ],
             [
              0.4444444444444444,
              "#bd3786"
             ],
             [
              0.5555555555555556,
              "#d8576b"
             ],
             [
              0.6666666666666666,
              "#ed7953"
             ],
             [
              0.7777777777777778,
              "#fb9f3a"
             ],
             [
              0.8888888888888888,
              "#fdca26"
             ],
             [
              1,
              "#f0f921"
             ]
            ],
            "type": "surface"
           }
          ],
          "table": [
           {
            "cells": {
             "fill": {
              "color": "#EBF0F8"
             },
             "line": {
              "color": "white"
             }
            },
            "header": {
             "fill": {
              "color": "#C8D4E3"
             },
             "line": {
              "color": "white"
             }
            },
            "type": "table"
           }
          ]
         },
         "layout": {
          "annotationdefaults": {
           "arrowcolor": "#2a3f5f",
           "arrowhead": 0,
           "arrowwidth": 1
          },
          "autotypenumbers": "strict",
          "coloraxis": {
           "colorbar": {
            "outlinewidth": 0,
            "ticks": ""
           }
          },
          "colorscale": {
           "diverging": [
            [
             0,
             "#8e0152"
            ],
            [
             0.1,
             "#c51b7d"
            ],
            [
             0.2,
             "#de77ae"
            ],
            [
             0.3,
             "#f1b6da"
            ],
            [
             0.4,
             "#fde0ef"
            ],
            [
             0.5,
             "#f7f7f7"
            ],
            [
             0.6,
             "#e6f5d0"
            ],
            [
             0.7,
             "#b8e186"
            ],
            [
             0.8,
             "#7fbc41"
            ],
            [
             0.9,
             "#4d9221"
            ],
            [
             1,
             "#276419"
            ]
           ],
           "sequential": [
            [
             0,
             "#0d0887"
            ],
            [
             0.1111111111111111,
             "#46039f"
            ],
            [
             0.2222222222222222,
             "#7201a8"
            ],
            [
             0.3333333333333333,
             "#9c179e"
            ],
            [
             0.4444444444444444,
             "#bd3786"
            ],
            [
             0.5555555555555556,
             "#d8576b"
            ],
            [
             0.6666666666666666,
             "#ed7953"
            ],
            [
             0.7777777777777778,
             "#fb9f3a"
            ],
            [
             0.8888888888888888,
             "#fdca26"
            ],
            [
             1,
             "#f0f921"
            ]
           ],
           "sequentialminus": [
            [
             0,
             "#0d0887"
            ],
            [
             0.1111111111111111,
             "#46039f"
            ],
            [
             0.2222222222222222,
             "#7201a8"
            ],
            [
             0.3333333333333333,
             "#9c179e"
            ],
            [
             0.4444444444444444,
             "#bd3786"
            ],
            [
             0.5555555555555556,
             "#d8576b"
            ],
            [
             0.6666666666666666,
             "#ed7953"
            ],
            [
             0.7777777777777778,
             "#fb9f3a"
            ],
            [
             0.8888888888888888,
             "#fdca26"
            ],
            [
             1,
             "#f0f921"
            ]
           ]
          },
          "colorway": [
           "#636efa",
           "#EF553B",
           "#00cc96",
           "#ab63fa",
           "#FFA15A",
           "#19d3f3",
           "#FF6692",
           "#B6E880",
           "#FF97FF",
           "#FECB52"
          ],
          "font": {
           "color": "#2a3f5f"
          },
          "geo": {
           "bgcolor": "white",
           "lakecolor": "white",
           "landcolor": "#E5ECF6",
           "showlakes": true,
           "showland": true,
           "subunitcolor": "white"
          },
          "hoverlabel": {
           "align": "left"
          },
          "hovermode": "closest",
          "mapbox": {
           "style": "light"
          },
          "paper_bgcolor": "white",
          "plot_bgcolor": "#E5ECF6",
          "polar": {
           "angularaxis": {
            "gridcolor": "white",
            "linecolor": "white",
            "ticks": ""
           },
           "bgcolor": "#E5ECF6",
           "radialaxis": {
            "gridcolor": "white",
            "linecolor": "white",
            "ticks": ""
           }
          },
          "scene": {
           "xaxis": {
            "backgroundcolor": "#E5ECF6",
            "gridcolor": "white",
            "gridwidth": 2,
            "linecolor": "white",
            "showbackground": true,
            "ticks": "",
            "zerolinecolor": "white"
           },
           "yaxis": {
            "backgroundcolor": "#E5ECF6",
            "gridcolor": "white",
            "gridwidth": 2,
            "linecolor": "white",
            "showbackground": true,
            "ticks": "",
            "zerolinecolor": "white"
           },
           "zaxis": {
            "backgroundcolor": "#E5ECF6",
            "gridcolor": "white",
            "gridwidth": 2,
            "linecolor": "white",
            "showbackground": true,
            "ticks": "",
            "zerolinecolor": "white"
           }
          },
          "shapedefaults": {
           "line": {
            "color": "#2a3f5f"
           }
          },
          "ternary": {
           "aaxis": {
            "gridcolor": "white",
            "linecolor": "white",
            "ticks": ""
           },
           "baxis": {
            "gridcolor": "white",
            "linecolor": "white",
            "ticks": ""
           },
           "bgcolor": "#E5ECF6",
           "caxis": {
            "gridcolor": "white",
            "linecolor": "white",
            "ticks": ""
           }
          },
          "title": {
           "x": 0.05
          },
          "xaxis": {
           "automargin": true,
           "gridcolor": "white",
           "linecolor": "white",
           "ticks": "",
           "title": {
            "standoff": 15
           },
           "zerolinecolor": "white",
           "zerolinewidth": 2
          },
          "yaxis": {
           "automargin": true,
           "gridcolor": "white",
           "linecolor": "white",
           "ticks": "",
           "title": {
            "standoff": 15
           },
           "zerolinecolor": "white",
           "zerolinewidth": 2
          }
         }
        },
        "title": {
         "text": "0. Principal Component"
        },
        "xaxis": {
         "anchor": "y",
         "domain": [
          0,
          1
         ],
         "title": {
          "text": "x"
         }
        },
        "yaxis": {
         "anchor": "x",
         "domain": [
          0,
          1
         ],
         "title": {
          "text": "y"
         }
        }
       }
      }
     },
     "metadata": {},
     "output_type": "display_data"
    },
    {
     "data": {
      "application/vnd.plotly.v1+json": {
       "config": {
        "plotlyServerURL": "https://plot.ly"
       },
       "data": [
        {
         "customdata": [
          [
           "junge Welt"
          ],
          [
           "NachDenkSeiten"
          ]
         ],
         "hovertemplate": "color=left<br>x=%{x}<br>y=%{y}<br>hover_data_0=%{customdata[0]}<extra></extra>",
         "legendgroup": "left",
         "marker": {
          "color": "#636efa",
          "symbol": "circle"
         },
         "mode": "markers",
         "name": "left",
         "orientation": "v",
         "showlegend": true,
         "type": "scatter",
         "x": [
          0.0005765213883665136,
          0.0146580926255323
         ],
         "xaxis": "x",
         "y": [
          0,
          0
         ],
         "yaxis": "y"
        },
        {
         "customdata": [
          [
           "taz"
          ],
          [
           "stern TV"
          ],
          [
           "DER SPIEGEL"
          ]
         ],
         "hovertemplate": "color=left leaning<br>x=%{x}<br>y=%{y}<br>hover_data_0=%{customdata[0]}<extra></extra>",
         "legendgroup": "left leaning",
         "marker": {
          "color": "#EF553B",
          "symbol": "circle"
         },
         "mode": "markers",
         "name": "left leaning",
         "orientation": "v",
         "showlegend": true,
         "type": "scatter",
         "x": [
          0.012746156279234947,
          0.0024435659750356316,
          0.032684831792683965
         ],
         "xaxis": "x",
         "y": [
          0,
          0,
          0
         ],
         "yaxis": "y"
        },
        {
         "customdata": [
          [
           "Süddeutsche Zeitung"
          ],
          [
           "Der Tagesspiegel"
          ],
          [
           "ARD"
          ],
          [
           "ZDF"
          ],
          [
           "ZDFheute Nachrichten"
          ],
          [
           "Bayerischer Rundfunk"
          ],
          [
           "ntv Nachrichten"
          ],
          [
           "ZEIT ONLINE"
          ],
          [
           "faz"
          ],
          [
           "WELT"
          ]
         ],
         "hovertemplate": "color=center<br>x=%{x}<br>y=%{y}<br>hover_data_0=%{customdata[0]}<extra></extra>",
         "legendgroup": "center",
         "marker": {
          "color": "#00cc96",
          "symbol": "circle"
         },
         "mode": "markers",
         "name": "center",
         "orientation": "v",
         "showlegend": true,
         "type": "scatter",
         "x": [
          0.0027392373512508863,
          0.0013848533230322554,
          0.0010562624623535685,
          0.00016621205048813643,
          0.13709440945058643,
          0.004971837020010941,
          0.008801642884509287,
          -0.003171687056682976,
          -0.0044274747291374785,
          -0.3005829411831269
         ],
         "xaxis": "x",
         "y": [
          0,
          0,
          0,
          0,
          0,
          0,
          0,
          0,
          0,
          0
         ],
         "yaxis": "y"
        },
        {
         "customdata": [
          [
           "RTL"
          ],
          [
           "FOCUS Online"
          ],
          [
           "BILD"
          ],
          [
           "NZZ Neue Zürcher Zeitung"
          ]
         ],
         "hovertemplate": "color=right leaning<br>x=%{x}<br>y=%{y}<br>hover_data_0=%{customdata[0]}<extra></extra>",
         "legendgroup": "right leaning",
         "marker": {
          "color": "#ab63fa",
          "symbol": "circle"
         },
         "mode": "markers",
         "name": "right leaning",
         "orientation": "v",
         "showlegend": true,
         "type": "scatter",
         "x": [
          0.0011570123219560961,
          0.0018711946108210923,
          0.9428370486947186,
          0.001592802915688991
         ],
         "xaxis": "x",
         "y": [
          0,
          0,
          0,
          0
         ],
         "yaxis": "y"
        },
        {
         "customdata": [
          [
           "Junge Freiheit"
          ],
          [
           "COMPACTTV"
          ]
         ],
         "hovertemplate": "color=right<br>x=%{x}<br>y=%{y}<br>hover_data_0=%{customdata[0]}<extra></extra>",
         "legendgroup": "right",
         "marker": {
          "color": "#FFA15A",
          "symbol": "circle"
         },
         "mode": "markers",
         "name": "right",
         "orientation": "v",
         "showlegend": true,
         "type": "scatter",
         "x": [
          0.004104336137443227,
          0.01716842344426943
         ],
         "xaxis": "x",
         "y": [
          0,
          0
         ],
         "yaxis": "y"
        }
       ],
       "layout": {
        "legend": {
         "title": {
          "text": "color"
         },
         "tracegroupgap": 0
        },
        "template": {
         "data": {
          "bar": [
           {
            "error_x": {
             "color": "#2a3f5f"
            },
            "error_y": {
             "color": "#2a3f5f"
            },
            "marker": {
             "line": {
              "color": "#E5ECF6",
              "width": 0.5
             },
             "pattern": {
              "fillmode": "overlay",
              "size": 10,
              "solidity": 0.2
             }
            },
            "type": "bar"
           }
          ],
          "barpolar": [
           {
            "marker": {
             "line": {
              "color": "#E5ECF6",
              "width": 0.5
             },
             "pattern": {
              "fillmode": "overlay",
              "size": 10,
              "solidity": 0.2
             }
            },
            "type": "barpolar"
           }
          ],
          "carpet": [
           {
            "aaxis": {
             "endlinecolor": "#2a3f5f",
             "gridcolor": "white",
             "linecolor": "white",
             "minorgridcolor": "white",
             "startlinecolor": "#2a3f5f"
            },
            "baxis": {
             "endlinecolor": "#2a3f5f",
             "gridcolor": "white",
             "linecolor": "white",
             "minorgridcolor": "white",
             "startlinecolor": "#2a3f5f"
            },
            "type": "carpet"
           }
          ],
          "choropleth": [
           {
            "colorbar": {
             "outlinewidth": 0,
             "ticks": ""
            },
            "type": "choropleth"
           }
          ],
          "contour": [
           {
            "colorbar": {
             "outlinewidth": 0,
             "ticks": ""
            },
            "colorscale": [
             [
              0,
              "#0d0887"
             ],
             [
              0.1111111111111111,
              "#46039f"
             ],
             [
              0.2222222222222222,
              "#7201a8"
             ],
             [
              0.3333333333333333,
              "#9c179e"
             ],
             [
              0.4444444444444444,
              "#bd3786"
             ],
             [
              0.5555555555555556,
              "#d8576b"
             ],
             [
              0.6666666666666666,
              "#ed7953"
             ],
             [
              0.7777777777777778,
              "#fb9f3a"
             ],
             [
              0.8888888888888888,
              "#fdca26"
             ],
             [
              1,
              "#f0f921"
             ]
            ],
            "type": "contour"
           }
          ],
          "contourcarpet": [
           {
            "colorbar": {
             "outlinewidth": 0,
             "ticks": ""
            },
            "type": "contourcarpet"
           }
          ],
          "heatmap": [
           {
            "colorbar": {
             "outlinewidth": 0,
             "ticks": ""
            },
            "colorscale": [
             [
              0,
              "#0d0887"
             ],
             [
              0.1111111111111111,
              "#46039f"
             ],
             [
              0.2222222222222222,
              "#7201a8"
             ],
             [
              0.3333333333333333,
              "#9c179e"
             ],
             [
              0.4444444444444444,
              "#bd3786"
             ],
             [
              0.5555555555555556,
              "#d8576b"
             ],
             [
              0.6666666666666666,
              "#ed7953"
             ],
             [
              0.7777777777777778,
              "#fb9f3a"
             ],
             [
              0.8888888888888888,
              "#fdca26"
             ],
             [
              1,
              "#f0f921"
             ]
            ],
            "type": "heatmap"
           }
          ],
          "heatmapgl": [
           {
            "colorbar": {
             "outlinewidth": 0,
             "ticks": ""
            },
            "colorscale": [
             [
              0,
              "#0d0887"
             ],
             [
              0.1111111111111111,
              "#46039f"
             ],
             [
              0.2222222222222222,
              "#7201a8"
             ],
             [
              0.3333333333333333,
              "#9c179e"
             ],
             [
              0.4444444444444444,
              "#bd3786"
             ],
             [
              0.5555555555555556,
              "#d8576b"
             ],
             [
              0.6666666666666666,
              "#ed7953"
             ],
             [
              0.7777777777777778,
              "#fb9f3a"
             ],
             [
              0.8888888888888888,
              "#fdca26"
             ],
             [
              1,
              "#f0f921"
             ]
            ],
            "type": "heatmapgl"
           }
          ],
          "histogram": [
           {
            "marker": {
             "pattern": {
              "fillmode": "overlay",
              "size": 10,
              "solidity": 0.2
             }
            },
            "type": "histogram"
           }
          ],
          "histogram2d": [
           {
            "colorbar": {
             "outlinewidth": 0,
             "ticks": ""
            },
            "colorscale": [
             [
              0,
              "#0d0887"
             ],
             [
              0.1111111111111111,
              "#46039f"
             ],
             [
              0.2222222222222222,
              "#7201a8"
             ],
             [
              0.3333333333333333,
              "#9c179e"
             ],
             [
              0.4444444444444444,
              "#bd3786"
             ],
             [
              0.5555555555555556,
              "#d8576b"
             ],
             [
              0.6666666666666666,
              "#ed7953"
             ],
             [
              0.7777777777777778,
              "#fb9f3a"
             ],
             [
              0.8888888888888888,
              "#fdca26"
             ],
             [
              1,
              "#f0f921"
             ]
            ],
            "type": "histogram2d"
           }
          ],
          "histogram2dcontour": [
           {
            "colorbar": {
             "outlinewidth": 0,
             "ticks": ""
            },
            "colorscale": [
             [
              0,
              "#0d0887"
             ],
             [
              0.1111111111111111,
              "#46039f"
             ],
             [
              0.2222222222222222,
              "#7201a8"
             ],
             [
              0.3333333333333333,
              "#9c179e"
             ],
             [
              0.4444444444444444,
              "#bd3786"
             ],
             [
              0.5555555555555556,
              "#d8576b"
             ],
             [
              0.6666666666666666,
              "#ed7953"
             ],
             [
              0.7777777777777778,
              "#fb9f3a"
             ],
             [
              0.8888888888888888,
              "#fdca26"
             ],
             [
              1,
              "#f0f921"
             ]
            ],
            "type": "histogram2dcontour"
           }
          ],
          "mesh3d": [
           {
            "colorbar": {
             "outlinewidth": 0,
             "ticks": ""
            },
            "type": "mesh3d"
           }
          ],
          "parcoords": [
           {
            "line": {
             "colorbar": {
              "outlinewidth": 0,
              "ticks": ""
             }
            },
            "type": "parcoords"
           }
          ],
          "pie": [
           {
            "automargin": true,
            "type": "pie"
           }
          ],
          "scatter": [
           {
            "marker": {
             "colorbar": {
              "outlinewidth": 0,
              "ticks": ""
             }
            },
            "type": "scatter"
           }
          ],
          "scatter3d": [
           {
            "line": {
             "colorbar": {
              "outlinewidth": 0,
              "ticks": ""
             }
            },
            "marker": {
             "colorbar": {
              "outlinewidth": 0,
              "ticks": ""
             }
            },
            "type": "scatter3d"
           }
          ],
          "scattercarpet": [
           {
            "marker": {
             "colorbar": {
              "outlinewidth": 0,
              "ticks": ""
             }
            },
            "type": "scattercarpet"
           }
          ],
          "scattergeo": [
           {
            "marker": {
             "colorbar": {
              "outlinewidth": 0,
              "ticks": ""
             }
            },
            "type": "scattergeo"
           }
          ],
          "scattergl": [
           {
            "marker": {
             "colorbar": {
              "outlinewidth": 0,
              "ticks": ""
             }
            },
            "type": "scattergl"
           }
          ],
          "scattermapbox": [
           {
            "marker": {
             "colorbar": {
              "outlinewidth": 0,
              "ticks": ""
             }
            },
            "type": "scattermapbox"
           }
          ],
          "scatterpolar": [
           {
            "marker": {
             "colorbar": {
              "outlinewidth": 0,
              "ticks": ""
             }
            },
            "type": "scatterpolar"
           }
          ],
          "scatterpolargl": [
           {
            "marker": {
             "colorbar": {
              "outlinewidth": 0,
              "ticks": ""
             }
            },
            "type": "scatterpolargl"
           }
          ],
          "scatterternary": [
           {
            "marker": {
             "colorbar": {
              "outlinewidth": 0,
              "ticks": ""
             }
            },
            "type": "scatterternary"
           }
          ],
          "surface": [
           {
            "colorbar": {
             "outlinewidth": 0,
             "ticks": ""
            },
            "colorscale": [
             [
              0,
              "#0d0887"
             ],
             [
              0.1111111111111111,
              "#46039f"
             ],
             [
              0.2222222222222222,
              "#7201a8"
             ],
             [
              0.3333333333333333,
              "#9c179e"
             ],
             [
              0.4444444444444444,
              "#bd3786"
             ],
             [
              0.5555555555555556,
              "#d8576b"
             ],
             [
              0.6666666666666666,
              "#ed7953"
             ],
             [
              0.7777777777777778,
              "#fb9f3a"
             ],
             [
              0.8888888888888888,
              "#fdca26"
             ],
             [
              1,
              "#f0f921"
             ]
            ],
            "type": "surface"
           }
          ],
          "table": [
           {
            "cells": {
             "fill": {
              "color": "#EBF0F8"
             },
             "line": {
              "color": "white"
             }
            },
            "header": {
             "fill": {
              "color": "#C8D4E3"
             },
             "line": {
              "color": "white"
             }
            },
            "type": "table"
           }
          ]
         },
         "layout": {
          "annotationdefaults": {
           "arrowcolor": "#2a3f5f",
           "arrowhead": 0,
           "arrowwidth": 1
          },
          "autotypenumbers": "strict",
          "coloraxis": {
           "colorbar": {
            "outlinewidth": 0,
            "ticks": ""
           }
          },
          "colorscale": {
           "diverging": [
            [
             0,
             "#8e0152"
            ],
            [
             0.1,
             "#c51b7d"
            ],
            [
             0.2,
             "#de77ae"
            ],
            [
             0.3,
             "#f1b6da"
            ],
            [
             0.4,
             "#fde0ef"
            ],
            [
             0.5,
             "#f7f7f7"
            ],
            [
             0.6,
             "#e6f5d0"
            ],
            [
             0.7,
             "#b8e186"
            ],
            [
             0.8,
             "#7fbc41"
            ],
            [
             0.9,
             "#4d9221"
            ],
            [
             1,
             "#276419"
            ]
           ],
           "sequential": [
            [
             0,
             "#0d0887"
            ],
            [
             0.1111111111111111,
             "#46039f"
            ],
            [
             0.2222222222222222,
             "#7201a8"
            ],
            [
             0.3333333333333333,
             "#9c179e"
            ],
            [
             0.4444444444444444,
             "#bd3786"
            ],
            [
             0.5555555555555556,
             "#d8576b"
            ],
            [
             0.6666666666666666,
             "#ed7953"
            ],
            [
             0.7777777777777778,
             "#fb9f3a"
            ],
            [
             0.8888888888888888,
             "#fdca26"
            ],
            [
             1,
             "#f0f921"
            ]
           ],
           "sequentialminus": [
            [
             0,
             "#0d0887"
            ],
            [
             0.1111111111111111,
             "#46039f"
            ],
            [
             0.2222222222222222,
             "#7201a8"
            ],
            [
             0.3333333333333333,
             "#9c179e"
            ],
            [
             0.4444444444444444,
             "#bd3786"
            ],
            [
             0.5555555555555556,
             "#d8576b"
            ],
            [
             0.6666666666666666,
             "#ed7953"
            ],
            [
             0.7777777777777778,
             "#fb9f3a"
            ],
            [
             0.8888888888888888,
             "#fdca26"
            ],
            [
             1,
             "#f0f921"
            ]
           ]
          },
          "colorway": [
           "#636efa",
           "#EF553B",
           "#00cc96",
           "#ab63fa",
           "#FFA15A",
           "#19d3f3",
           "#FF6692",
           "#B6E880",
           "#FF97FF",
           "#FECB52"
          ],
          "font": {
           "color": "#2a3f5f"
          },
          "geo": {
           "bgcolor": "white",
           "lakecolor": "white",
           "landcolor": "#E5ECF6",
           "showlakes": true,
           "showland": true,
           "subunitcolor": "white"
          },
          "hoverlabel": {
           "align": "left"
          },
          "hovermode": "closest",
          "mapbox": {
           "style": "light"
          },
          "paper_bgcolor": "white",
          "plot_bgcolor": "#E5ECF6",
          "polar": {
           "angularaxis": {
            "gridcolor": "white",
            "linecolor": "white",
            "ticks": ""
           },
           "bgcolor": "#E5ECF6",
           "radialaxis": {
            "gridcolor": "white",
            "linecolor": "white",
            "ticks": ""
           }
          },
          "scene": {
           "xaxis": {
            "backgroundcolor": "#E5ECF6",
            "gridcolor": "white",
            "gridwidth": 2,
            "linecolor": "white",
            "showbackground": true,
            "ticks": "",
            "zerolinecolor": "white"
           },
           "yaxis": {
            "backgroundcolor": "#E5ECF6",
            "gridcolor": "white",
            "gridwidth": 2,
            "linecolor": "white",
            "showbackground": true,
            "ticks": "",
            "zerolinecolor": "white"
           },
           "zaxis": {
            "backgroundcolor": "#E5ECF6",
            "gridcolor": "white",
            "gridwidth": 2,
            "linecolor": "white",
            "showbackground": true,
            "ticks": "",
            "zerolinecolor": "white"
           }
          },
          "shapedefaults": {
           "line": {
            "color": "#2a3f5f"
           }
          },
          "ternary": {
           "aaxis": {
            "gridcolor": "white",
            "linecolor": "white",
            "ticks": ""
           },
           "baxis": {
            "gridcolor": "white",
            "linecolor": "white",
            "ticks": ""
           },
           "bgcolor": "#E5ECF6",
           "caxis": {
            "gridcolor": "white",
            "linecolor": "white",
            "ticks": ""
           }
          },
          "title": {
           "x": 0.05
          },
          "xaxis": {
           "automargin": true,
           "gridcolor": "white",
           "linecolor": "white",
           "ticks": "",
           "title": {
            "standoff": 15
           },
           "zerolinecolor": "white",
           "zerolinewidth": 2
          },
          "yaxis": {
           "automargin": true,
           "gridcolor": "white",
           "linecolor": "white",
           "ticks": "",
           "title": {
            "standoff": 15
           },
           "zerolinecolor": "white",
           "zerolinewidth": 2
          }
         }
        },
        "title": {
         "text": "1. Principal Component"
        },
        "xaxis": {
         "anchor": "y",
         "domain": [
          0,
          1
         ],
         "title": {
          "text": "x"
         }
        },
        "yaxis": {
         "anchor": "x",
         "domain": [
          0,
          1
         ],
         "title": {
          "text": "y"
         }
        }
       }
      }
     },
     "metadata": {},
     "output_type": "display_data"
    },
    {
     "data": {
      "application/vnd.plotly.v1+json": {
       "config": {
        "plotlyServerURL": "https://plot.ly"
       },
       "data": [
        {
         "customdata": [
          [
           "junge Welt"
          ],
          [
           "NachDenkSeiten"
          ]
         ],
         "hovertemplate": "color=left<br>x=%{x}<br>y=%{y}<br>hover_data_0=%{customdata[0]}<extra></extra>",
         "legendgroup": "left",
         "marker": {
          "color": "#636efa",
          "symbol": "circle"
         },
         "mode": "markers",
         "name": "left",
         "orientation": "v",
         "showlegend": true,
         "type": "scatter",
         "x": [
          0.008407198516738712,
          0.4672071344253102
         ],
         "xaxis": "x",
         "y": [
          0,
          0
         ],
         "yaxis": "y"
        },
        {
         "customdata": [
          [
           "taz"
          ],
          [
           "stern TV"
          ],
          [
           "DER SPIEGEL"
          ]
         ],
         "hovertemplate": "color=left leaning<br>x=%{x}<br>y=%{y}<br>hover_data_0=%{customdata[0]}<extra></extra>",
         "legendgroup": "left leaning",
         "marker": {
          "color": "#EF553B",
          "symbol": "circle"
         },
         "mode": "markers",
         "name": "left leaning",
         "orientation": "v",
         "showlegend": true,
         "type": "scatter",
         "x": [
          0.040135728387819626,
          -0.0010564878051881642,
          0.08645223780897594
         ],
         "xaxis": "x",
         "y": [
          0,
          0,
          0
         ],
         "yaxis": "y"
        },
        {
         "customdata": [
          [
           "Süddeutsche Zeitung"
          ],
          [
           "Der Tagesspiegel"
          ],
          [
           "ARD"
          ],
          [
           "ZDF"
          ],
          [
           "ZDFheute Nachrichten"
          ],
          [
           "Bayerischer Rundfunk"
          ],
          [
           "ntv Nachrichten"
          ],
          [
           "ZEIT ONLINE"
          ],
          [
           "faz"
          ],
          [
           "WELT"
          ]
         ],
         "hovertemplate": "color=center<br>x=%{x}<br>y=%{y}<br>hover_data_0=%{customdata[0]}<extra></extra>",
         "legendgroup": "center",
         "marker": {
          "color": "#00cc96",
          "symbol": "circle"
         },
         "mode": "markers",
         "name": "center",
         "orientation": "v",
         "showlegend": true,
         "type": "scatter",
         "x": [
          0.013545679568493344,
          0.004510582414015379,
          0.0035045595033145974,
          0.0006522675745989723,
          0.8181656443564759,
          0.02170108623398568,
          0.17461702280983754,
          0.006224518648477964,
          0.16377462569274645,
          -0.07872499658113945
         ],
         "xaxis": "x",
         "y": [
          0,
          0,
          0,
          0,
          0,
          0,
          0,
          0,
          0,
          0
         ],
         "yaxis": "y"
        },
        {
         "customdata": [
          [
           "RTL"
          ],
          [
           "FOCUS Online"
          ],
          [
           "BILD"
          ],
          [
           "NZZ Neue Zürcher Zeitung"
          ]
         ],
         "hovertemplate": "color=right leaning<br>x=%{x}<br>y=%{y}<br>hover_data_0=%{customdata[0]}<extra></extra>",
         "legendgroup": "right leaning",
         "marker": {
          "color": "#ab63fa",
          "symbol": "circle"
         },
         "mode": "markers",
         "name": "right leaning",
         "orientation": "v",
         "showlegend": true,
         "type": "scatter",
         "x": [
          0.001951636531908931,
          0.018957871989021314,
          -0.1580992961028534,
          0.0074002086860787035
         ],
         "xaxis": "x",
         "y": [
          0,
          0,
          0,
          0
         ],
         "yaxis": "y"
        },
        {
         "customdata": [
          [
           "Junge Freiheit"
          ],
          [
           "COMPACTTV"
          ]
         ],
         "hovertemplate": "color=right<br>x=%{x}<br>y=%{y}<br>hover_data_0=%{customdata[0]}<extra></extra>",
         "legendgroup": "right",
         "marker": {
          "color": "#FFA15A",
          "symbol": "circle"
         },
         "mode": "markers",
         "name": "right",
         "orientation": "v",
         "showlegend": true,
         "type": "scatter",
         "x": [
          0.019792108641951394,
          0.11455847010869691
         ],
         "xaxis": "x",
         "y": [
          0,
          0
         ],
         "yaxis": "y"
        }
       ],
       "layout": {
        "legend": {
         "title": {
          "text": "color"
         },
         "tracegroupgap": 0
        },
        "template": {
         "data": {
          "bar": [
           {
            "error_x": {
             "color": "#2a3f5f"
            },
            "error_y": {
             "color": "#2a3f5f"
            },
            "marker": {
             "line": {
              "color": "#E5ECF6",
              "width": 0.5
             },
             "pattern": {
              "fillmode": "overlay",
              "size": 10,
              "solidity": 0.2
             }
            },
            "type": "bar"
           }
          ],
          "barpolar": [
           {
            "marker": {
             "line": {
              "color": "#E5ECF6",
              "width": 0.5
             },
             "pattern": {
              "fillmode": "overlay",
              "size": 10,
              "solidity": 0.2
             }
            },
            "type": "barpolar"
           }
          ],
          "carpet": [
           {
            "aaxis": {
             "endlinecolor": "#2a3f5f",
             "gridcolor": "white",
             "linecolor": "white",
             "minorgridcolor": "white",
             "startlinecolor": "#2a3f5f"
            },
            "baxis": {
             "endlinecolor": "#2a3f5f",
             "gridcolor": "white",
             "linecolor": "white",
             "minorgridcolor": "white",
             "startlinecolor": "#2a3f5f"
            },
            "type": "carpet"
           }
          ],
          "choropleth": [
           {
            "colorbar": {
             "outlinewidth": 0,
             "ticks": ""
            },
            "type": "choropleth"
           }
          ],
          "contour": [
           {
            "colorbar": {
             "outlinewidth": 0,
             "ticks": ""
            },
            "colorscale": [
             [
              0,
              "#0d0887"
             ],
             [
              0.1111111111111111,
              "#46039f"
             ],
             [
              0.2222222222222222,
              "#7201a8"
             ],
             [
              0.3333333333333333,
              "#9c179e"
             ],
             [
              0.4444444444444444,
              "#bd3786"
             ],
             [
              0.5555555555555556,
              "#d8576b"
             ],
             [
              0.6666666666666666,
              "#ed7953"
             ],
             [
              0.7777777777777778,
              "#fb9f3a"
             ],
             [
              0.8888888888888888,
              "#fdca26"
             ],
             [
              1,
              "#f0f921"
             ]
            ],
            "type": "contour"
           }
          ],
          "contourcarpet": [
           {
            "colorbar": {
             "outlinewidth": 0,
             "ticks": ""
            },
            "type": "contourcarpet"
           }
          ],
          "heatmap": [
           {
            "colorbar": {
             "outlinewidth": 0,
             "ticks": ""
            },
            "colorscale": [
             [
              0,
              "#0d0887"
             ],
             [
              0.1111111111111111,
              "#46039f"
             ],
             [
              0.2222222222222222,
              "#7201a8"
             ],
             [
              0.3333333333333333,
              "#9c179e"
             ],
             [
              0.4444444444444444,
              "#bd3786"
             ],
             [
              0.5555555555555556,
              "#d8576b"
             ],
             [
              0.6666666666666666,
              "#ed7953"
             ],
             [
              0.7777777777777778,
              "#fb9f3a"
             ],
             [
              0.8888888888888888,
              "#fdca26"
             ],
             [
              1,
              "#f0f921"
             ]
            ],
            "type": "heatmap"
           }
          ],
          "heatmapgl": [
           {
            "colorbar": {
             "outlinewidth": 0,
             "ticks": ""
            },
            "colorscale": [
             [
              0,
              "#0d0887"
             ],
             [
              0.1111111111111111,
              "#46039f"
             ],
             [
              0.2222222222222222,
              "#7201a8"
             ],
             [
              0.3333333333333333,
              "#9c179e"
             ],
             [
              0.4444444444444444,
              "#bd3786"
             ],
             [
              0.5555555555555556,
              "#d8576b"
             ],
             [
              0.6666666666666666,
              "#ed7953"
             ],
             [
              0.7777777777777778,
              "#fb9f3a"
             ],
             [
              0.8888888888888888,
              "#fdca26"
             ],
             [
              1,
              "#f0f921"
             ]
            ],
            "type": "heatmapgl"
           }
          ],
          "histogram": [
           {
            "marker": {
             "pattern": {
              "fillmode": "overlay",
              "size": 10,
              "solidity": 0.2
             }
            },
            "type": "histogram"
           }
          ],
          "histogram2d": [
           {
            "colorbar": {
             "outlinewidth": 0,
             "ticks": ""
            },
            "colorscale": [
             [
              0,
              "#0d0887"
             ],
             [
              0.1111111111111111,
              "#46039f"
             ],
             [
              0.2222222222222222,
              "#7201a8"
             ],
             [
              0.3333333333333333,
              "#9c179e"
             ],
             [
              0.4444444444444444,
              "#bd3786"
             ],
             [
              0.5555555555555556,
              "#d8576b"
             ],
             [
              0.6666666666666666,
              "#ed7953"
             ],
             [
              0.7777777777777778,
              "#fb9f3a"
             ],
             [
              0.8888888888888888,
              "#fdca26"
             ],
             [
              1,
              "#f0f921"
             ]
            ],
            "type": "histogram2d"
           }
          ],
          "histogram2dcontour": [
           {
            "colorbar": {
             "outlinewidth": 0,
             "ticks": ""
            },
            "colorscale": [
             [
              0,
              "#0d0887"
             ],
             [
              0.1111111111111111,
              "#46039f"
             ],
             [
              0.2222222222222222,
              "#7201a8"
             ],
             [
              0.3333333333333333,
              "#9c179e"
             ],
             [
              0.4444444444444444,
              "#bd3786"
             ],
             [
              0.5555555555555556,
              "#d8576b"
             ],
             [
              0.6666666666666666,
              "#ed7953"
             ],
             [
              0.7777777777777778,
              "#fb9f3a"
             ],
             [
              0.8888888888888888,
              "#fdca26"
             ],
             [
              1,
              "#f0f921"
             ]
            ],
            "type": "histogram2dcontour"
           }
          ],
          "mesh3d": [
           {
            "colorbar": {
             "outlinewidth": 0,
             "ticks": ""
            },
            "type": "mesh3d"
           }
          ],
          "parcoords": [
           {
            "line": {
             "colorbar": {
              "outlinewidth": 0,
              "ticks": ""
             }
            },
            "type": "parcoords"
           }
          ],
          "pie": [
           {
            "automargin": true,
            "type": "pie"
           }
          ],
          "scatter": [
           {
            "marker": {
             "colorbar": {
              "outlinewidth": 0,
              "ticks": ""
             }
            },
            "type": "scatter"
           }
          ],
          "scatter3d": [
           {
            "line": {
             "colorbar": {
              "outlinewidth": 0,
              "ticks": ""
             }
            },
            "marker": {
             "colorbar": {
              "outlinewidth": 0,
              "ticks": ""
             }
            },
            "type": "scatter3d"
           }
          ],
          "scattercarpet": [
           {
            "marker": {
             "colorbar": {
              "outlinewidth": 0,
              "ticks": ""
             }
            },
            "type": "scattercarpet"
           }
          ],
          "scattergeo": [
           {
            "marker": {
             "colorbar": {
              "outlinewidth": 0,
              "ticks": ""
             }
            },
            "type": "scattergeo"
           }
          ],
          "scattergl": [
           {
            "marker": {
             "colorbar": {
              "outlinewidth": 0,
              "ticks": ""
             }
            },
            "type": "scattergl"
           }
          ],
          "scattermapbox": [
           {
            "marker": {
             "colorbar": {
              "outlinewidth": 0,
              "ticks": ""
             }
            },
            "type": "scattermapbox"
           }
          ],
          "scatterpolar": [
           {
            "marker": {
             "colorbar": {
              "outlinewidth": 0,
              "ticks": ""
             }
            },
            "type": "scatterpolar"
           }
          ],
          "scatterpolargl": [
           {
            "marker": {
             "colorbar": {
              "outlinewidth": 0,
              "ticks": ""
             }
            },
            "type": "scatterpolargl"
           }
          ],
          "scatterternary": [
           {
            "marker": {
             "colorbar": {
              "outlinewidth": 0,
              "ticks": ""
             }
            },
            "type": "scatterternary"
           }
          ],
          "surface": [
           {
            "colorbar": {
             "outlinewidth": 0,
             "ticks": ""
            },
            "colorscale": [
             [
              0,
              "#0d0887"
             ],
             [
              0.1111111111111111,
              "#46039f"
             ],
             [
              0.2222222222222222,
              "#7201a8"
             ],
             [
              0.3333333333333333,
              "#9c179e"
             ],
             [
              0.4444444444444444,
              "#bd3786"
             ],
             [
              0.5555555555555556,
              "#d8576b"
             ],
             [
              0.6666666666666666,
              "#ed7953"
             ],
             [
              0.7777777777777778,
              "#fb9f3a"
             ],
             [
              0.8888888888888888,
              "#fdca26"
             ],
             [
              1,
              "#f0f921"
             ]
            ],
            "type": "surface"
           }
          ],
          "table": [
           {
            "cells": {
             "fill": {
              "color": "#EBF0F8"
             },
             "line": {
              "color": "white"
             }
            },
            "header": {
             "fill": {
              "color": "#C8D4E3"
             },
             "line": {
              "color": "white"
             }
            },
            "type": "table"
           }
          ]
         },
         "layout": {
          "annotationdefaults": {
           "arrowcolor": "#2a3f5f",
           "arrowhead": 0,
           "arrowwidth": 1
          },
          "autotypenumbers": "strict",
          "coloraxis": {
           "colorbar": {
            "outlinewidth": 0,
            "ticks": ""
           }
          },
          "colorscale": {
           "diverging": [
            [
             0,
             "#8e0152"
            ],
            [
             0.1,
             "#c51b7d"
            ],
            [
             0.2,
             "#de77ae"
            ],
            [
             0.3,
             "#f1b6da"
            ],
            [
             0.4,
             "#fde0ef"
            ],
            [
             0.5,
             "#f7f7f7"
            ],
            [
             0.6,
             "#e6f5d0"
            ],
            [
             0.7,
             "#b8e186"
            ],
            [
             0.8,
             "#7fbc41"
            ],
            [
             0.9,
             "#4d9221"
            ],
            [
             1,
             "#276419"
            ]
           ],
           "sequential": [
            [
             0,
             "#0d0887"
            ],
            [
             0.1111111111111111,
             "#46039f"
            ],
            [
             0.2222222222222222,
             "#7201a8"
            ],
            [
             0.3333333333333333,
             "#9c179e"
            ],
            [
             0.4444444444444444,
             "#bd3786"
            ],
            [
             0.5555555555555556,
             "#d8576b"
            ],
            [
             0.6666666666666666,
             "#ed7953"
            ],
            [
             0.7777777777777778,
             "#fb9f3a"
            ],
            [
             0.8888888888888888,
             "#fdca26"
            ],
            [
             1,
             "#f0f921"
            ]
           ],
           "sequentialminus": [
            [
             0,
             "#0d0887"
            ],
            [
             0.1111111111111111,
             "#46039f"
            ],
            [
             0.2222222222222222,
             "#7201a8"
            ],
            [
             0.3333333333333333,
             "#9c179e"
            ],
            [
             0.4444444444444444,
             "#bd3786"
            ],
            [
             0.5555555555555556,
             "#d8576b"
            ],
            [
             0.6666666666666666,
             "#ed7953"
            ],
            [
             0.7777777777777778,
             "#fb9f3a"
            ],
            [
             0.8888888888888888,
             "#fdca26"
            ],
            [
             1,
             "#f0f921"
            ]
           ]
          },
          "colorway": [
           "#636efa",
           "#EF553B",
           "#00cc96",
           "#ab63fa",
           "#FFA15A",
           "#19d3f3",
           "#FF6692",
           "#B6E880",
           "#FF97FF",
           "#FECB52"
          ],
          "font": {
           "color": "#2a3f5f"
          },
          "geo": {
           "bgcolor": "white",
           "lakecolor": "white",
           "landcolor": "#E5ECF6",
           "showlakes": true,
           "showland": true,
           "subunitcolor": "white"
          },
          "hoverlabel": {
           "align": "left"
          },
          "hovermode": "closest",
          "mapbox": {
           "style": "light"
          },
          "paper_bgcolor": "white",
          "plot_bgcolor": "#E5ECF6",
          "polar": {
           "angularaxis": {
            "gridcolor": "white",
            "linecolor": "white",
            "ticks": ""
           },
           "bgcolor": "#E5ECF6",
           "radialaxis": {
            "gridcolor": "white",
            "linecolor": "white",
            "ticks": ""
           }
          },
          "scene": {
           "xaxis": {
            "backgroundcolor": "#E5ECF6",
            "gridcolor": "white",
            "gridwidth": 2,
            "linecolor": "white",
            "showbackground": true,
            "ticks": "",
            "zerolinecolor": "white"
           },
           "yaxis": {
            "backgroundcolor": "#E5ECF6",
            "gridcolor": "white",
            "gridwidth": 2,
            "linecolor": "white",
            "showbackground": true,
            "ticks": "",
            "zerolinecolor": "white"
           },
           "zaxis": {
            "backgroundcolor": "#E5ECF6",
            "gridcolor": "white",
            "gridwidth": 2,
            "linecolor": "white",
            "showbackground": true,
            "ticks": "",
            "zerolinecolor": "white"
           }
          },
          "shapedefaults": {
           "line": {
            "color": "#2a3f5f"
           }
          },
          "ternary": {
           "aaxis": {
            "gridcolor": "white",
            "linecolor": "white",
            "ticks": ""
           },
           "baxis": {
            "gridcolor": "white",
            "linecolor": "white",
            "ticks": ""
           },
           "bgcolor": "#E5ECF6",
           "caxis": {
            "gridcolor": "white",
            "linecolor": "white",
            "ticks": ""
           }
          },
          "title": {
           "x": 0.05
          },
          "xaxis": {
           "automargin": true,
           "gridcolor": "white",
           "linecolor": "white",
           "ticks": "",
           "title": {
            "standoff": 15
           },
           "zerolinecolor": "white",
           "zerolinewidth": 2
          },
          "yaxis": {
           "automargin": true,
           "gridcolor": "white",
           "linecolor": "white",
           "ticks": "",
           "title": {
            "standoff": 15
           },
           "zerolinecolor": "white",
           "zerolinewidth": 2
          }
         }
        },
        "title": {
         "text": "2. Principal Component"
        },
        "xaxis": {
         "anchor": "y",
         "domain": [
          0,
          1
         ],
         "title": {
          "text": "x"
         }
        },
        "yaxis": {
         "anchor": "x",
         "domain": [
          0,
          1
         ],
         "title": {
          "text": "y"
         }
        }
       }
      }
     },
     "metadata": {},
     "output_type": "display_data"
    }
   ],
   "source": [
    "import plotly.express as px\n",
    "import matplotlib.pyplot as plt\n",
    "%matplotlib qt\n",
    "\n",
    "n_components=3\n",
    "scale = False\n",
    "\n",
    "scaler = StandardScaler()\n",
    "model = TruncatedSVD(n_components=n_components)\n",
    "\n",
    "if scale:\n",
    "    N_scaled = scaler.fit_transform(N.values)\n",
    "    N_df_trunc = model.fit_transform(N_scaled)\n",
    "else:\n",
    "    N_df_trunc = model.fit_transform(N.values)\n",
    "\n",
    "for n in range(n_components):\n",
    "    fig = px.scatter(x=model.components_[n], y=[0.0 for test in model.components_[n]], color=political_spectrum_dict.values(), hover_data=[N_df.columns], title=f'{n}. Principal Component')\n",
    "    fig.show()"
   ]
  }
 ],
 "metadata": {
  "interpreter": {
   "hash": "9ae7ae13804f56b6812076ff88d4c743516b7c995d69dd5984882be015e04ad2"
  },
  "kernelspec": {
   "display_name": "Python 3.9.10 ('base')",
   "language": "python",
   "name": "python3"
  },
  "language_info": {
   "codemirror_mode": {
    "name": "ipython",
    "version": 3
   },
   "file_extension": ".py",
   "mimetype": "text/x-python",
   "name": "python",
   "nbconvert_exporter": "python",
   "pygments_lexer": "ipython3",
   "version": "3.9.10"
  },
  "orig_nbformat": 4
 },
 "nbformat": 4,
 "nbformat_minor": 2
}
