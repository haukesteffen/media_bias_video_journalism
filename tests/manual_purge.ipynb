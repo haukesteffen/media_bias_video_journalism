{
 "cells": [
  {
   "cell_type": "code",
   "execution_count": 253,
   "metadata": {},
   "outputs": [],
   "source": [
    "whitelist = {}\n",
    "for i in range(-1,89):\n",
    "    whitelist[i] = []"
   ]
  },
  {
   "cell_type": "code",
   "execution_count": 254,
   "metadata": {},
   "outputs": [],
   "source": [
    "whitelist[10] = [\n",
    "    'windräder',\n",
    "    'ausbau',\n",
    "    'solar',\n",
    "    'energiewende',\n",
    "    'wetter',\n",
    "    'ausbau erneuerbaren energien',\n",
    "    'pflanzen',\n",
    "    'windrad',\n",
    "    'klimakatastrophe',\n",
    "    'klimabewegung',\n",
    "    'studie',\n",
    "    'climate',\n",
    "    'photovoltaik',\n",
    "    'wasserstoff',\n",
    "    'erwärmung',\n",
    "    'wissenschaftler',\n",
    "    'erderwärmung',\n",
    "    'kohlendioxid',\n",
    "    'wind',\n",
    "    'eeg',\n",
    "    'elektroauto',\n",
    "    'ökostrom',\n",
    "    'klimaneutralität',\n",
    "    'klimapolitik',\n",
    "    'tempolimit',\n",
    "    'klimadebatte',\n",
    "    'öko',\n",
    "    'infrastruktur',\n",
    "    'atmosphäre',\n",
    "    'heizung',\n",
    "    'nachhaltigkeit',\n",
    "    'treibhausgase',\n",
    "    'kohleausstieg',\n",
    "    'rwe',\n",
    "    'stromerzeugung',\n",
    "    'verkehr',\n",
    "    'energiepreise',\n",
    "    'solaranlage',\n",
    "    'windkraft',\n",
    "    'fleisch',\n",
    "    'gerechtigkeit',\n",
    "    'windpark',\n",
    "    'temperatur',\n",
    "    'kernenergie',\n",
    "    'offshore',\n",
    "    'windkraftanlagen',\n",
    "    'industrie',\n",
    "    'windenergie',\n",
    "    'energieversorgung',\n",
    "    'klimaziele',\n",
    "    'zertifikate',\n",
    "    'wasserkraft',\n",
    "    'klimapaket',\n",
    "    'umweltschutz',\n",
    "    'emissionshandel',\n",
    "    'weltklimarat',\n",
    "    'braunkohle',\n",
    "    'kernkraft',\n",
    "    'kraftwerke',\n",
    "    'klimaneutral',\n",
    "    'strompreis',\n",
    "    'solarzellen',\n",
    "    'photovoltaikanlagen',\n",
    "    'solaranlagen',\n",
    "    'technologie',\n",
    "    'windparks',\n",
    "    'fußabdruck',\n",
    "    'meeresspiegel',\n",
    "    'methan',\n",
    "    'fracking',\n",
    "    'erwärmt',\n",
    "    'kraftwerk',\n",
    "    'solarenergie',\n",
    "    'diesel',\n",
    "    'erneuerbare energien',\n",
    "    'folgen klimawandels',\n",
    "    'energiepolitik',\n",
    "    'pariser klimaabkommen',\n",
    "    'atomkraft',\n",
    "    'stromnetz',\n",
    "    'energieträger',\n",
    "    'klimaschutzgesetz',\n",
    "    'klimagipfel',\n",
    "    'klima thema',\n",
    "    'klima paket',\n",
    "    'klimaaktivisten',\n",
    "    'klimafreundlicher',\n",
    "    'erdgas',\n",
    "    'stromversorgung',\n",
    "    'grad celsius',\n",
    "    'kampf klimawandel',\n",
    "    'ausbau windenergie',\n",
    "    'biomasse',\n",
    "    'klimaschutzziele',\n",
    "    'klimafrage',\n",
    "    'treibhausgasen',\n",
    "    'naturschutz',\n",
    "    'strombedarf',\n",
    "    'atomkraftwerke',\n",
    "    'klimakonferenz',\n",
    "    'weltklimakonferenz',\n",
    "    'windstrom',\n",
    "    'eeg umlage',\n",
    "    'klimaziele erreichen',\n",
    "    'erneuerbarer energien',\n",
    "    'treibhausgas',\n",
    "    'erneuerbaren strom',\n",
    "    'klimaforscher',\n",
    "    'greta thunberg',\n",
    "    'erwärmung grad',\n",
    "    'fossilen energien',\n",
    "    'menschengemachten klimawandel',\n",
    "    'windrädern',\n",
    "    'geothermie',\n",
    "    'dekarbonisierung',\n",
    "    'sonnenenergie',\n",
    "    'strom produzieren',\n",
    "    'brennstoffe',\n",
    "    'kraftwerken',\n",
    "    'grad ziel',\n",
    "    'erderwärmung grad',\n",
    "]"
   ]
  },
  {
   "cell_type": "code",
   "execution_count": 255,
   "metadata": {},
   "outputs": [],
   "source": [
    "whitelist[3] = [\n",
    "    'täter',\n",
    "    'einsatz',\n",
    "    'urteil',\n",
    "    'anklage',\n",
    "    'antifa',\n",
    "    'nsu',\n",
    "    'protest',\n",
    "    'landgericht',\n",
    "    'verfassungsschutz',\n",
    "    'tatverdächtigen',\n",
    "    'strafbar',\n",
    "    'akten',\n",
    "    'leiche',\n",
    "    'staatsanwaltschaft',\n",
    "    'beamte',\n",
    "    'kundgebung',\n",
    "    'kapitol',\n",
    "    'bundesgerichtshof',\n",
    "    'ermittlungen',\n",
    "    'verurteilt',\n",
    "    'prozess',\n",
    "    'verletzt',\n",
    "    'geldstrafe',\n",
    "    'strafmaß',\n",
    "    'strafe',\n",
    "    'proteste',\n",
    "    'polizistinnen polizisten',\n",
    "    'einsatzkräfte',\n",
    "    'ermittler',\n",
    "    'anwälte',\n",
    "    'mörder',\n",
    "    'kinderpornografie',\n",
    "    'demonstrationen',\n",
    "    'demo',\n",
    "    'festgenommen',\n",
    "    'staatsanwälte',\n",
    "    'angeklagten',\n",
    "    'strafrecht',\n",
    "    'haft',\n",
    "    'missbrauch',\n",
    "    'unfall',\n",
    "    'rassismus',\n",
    "    'sexualisierter gewalt',\n",
    "    'strafverfahren',\n",
    "    'richterin',\n",
    "    'beschuldigten',\n",
    "    'verteidigung',\n",
    "    'zeugen',\n",
    "    'unschuldsvermutung',\n",
    "    'verteidiger',\n",
    "    'tatort',\n",
    "    'sexualisierte gewalt',\n",
    "    'motiv',\n",
    "    'verdächtige',\n",
    "    'waffen',\n",
    "    'bundespolizei',\n",
    "    'tatverdächtige',\n",
    "    'gegendemonstranten',\n",
    "    'drogen',\n",
    "    'messer',\n",
    "    'aktivisten',\n",
    "    'tatbestand',\n",
    "    'justiz',\n",
    "    'flucht',\n",
    "    'betroffenen',\n",
    "    'angaben polizei',\n",
    "    'straftaten',\n",
    "    'schüsse',\n",
    "    'bundesanwaltschaft',\n",
    "    'kriminell',\n",
    "    'todesstrafe',\n",
    "    'gerichtssaal',\n",
    "    'geschossen',\n",
    "    'dna',\n",
    "    'polizeibeamten',\n",
    "    'kindesmissbrauch',\n",
    "    'knast',\n",
    "    'widerstand',\n",
    "    'erschossen',\n",
    "    'querdenken',\n",
    "    'rechtsextremen',\n",
    "    'mord',\n",
    "    'waffe',\n",
    "    'berufung',\n",
    "    'staatsanwalt',\n",
    "    'amtsgericht',\n",
    "    'munition',\n",
    "    'verletzungen',\n",
    "    'querdenker',\n",
    "    'sicherheitsbehörden',\n",
    "    'berliner polizei',\n",
    "    'rechtsprechung',\n",
    "    'festnahme',\n",
    "    'protesten',\n",
    "    'rechtsextremismus',\n",
    "    'migranten',\n",
    "    'beihilfe',\n",
    "    'bewaffnet',\n",
    "    'angeklagt',\n",
    "    'verdächtigen',\n",
    "    'oberlandesgericht',\n",
    "    'bewährung',\n",
    "    'staatsanwaltschaften',\n",
    "    'demonstriert',\n",
    "    'angeklagte',\n",
    "    'paragraf',\n",
    "    'block',\n",
    "    'krimi',\n",
    "    'morde',\n",
    "    'schuld',\n",
    "    'betroffene',\n",
    "    'geheimdienst',\n",
    "    'durchsucht',\n",
    "    'jury',\n",
    "    'schuldig',\n",
    "    'rechtsextreme',\n",
    "    'ausschreitungen',\n",
    "    'straftat',\n",
    "    'polizeisprecher',\n",
    "    'demonstrieren',\n",
    "    'eskaliert',\n",
    "    'gutachten',\n",
    "    'haftstrafe',\n",
    "    'raub',\n",
    "    'mandanten',\n",
    "    'strafrechtlichen',\n",
    "    'freigesprochen',\n",
    "    'vorgeworfen',\n",
    "    'besitz',\n",
    "    'räumung',\n",
    "    'sexuelle gewalt',\n",
    "    'taten',\n",
    "    'spuren',\n",
    "    'verstöße',\n",
    "    'ermittelt',\n",
    "    'betrüger',\n",
    "    'hauptverhandlung',\n",
    "    'auflagen',\n",
    "    'attentat',\n",
    "    'haftbefehl',\n",
    "    'aussage',\n",
    "    'tot',\n",
    "    'straftatbestand',\n",
    "    'sichergestellt',\n",
    "    'polizistin',\n",
    "    'polizeibeamte',\n",
    "    'streifenwagen',\n",
    "    'dealer',\n",
    "    'juristisch',\n",
    "    'freiheitsstrafe',\n",
    "    'einsatzkräften',\n",
    "    'klage',\n",
    "    'unschuldig',\n",
    "    'leichen',\n",
    "    'mordes',\n",
    "    'vergewaltigung',\n",
    "    'angreifer',\n",
    "    'polizeigewalt',\n",
    "    'aufklärung',\n",
    "    'zugriff',\n",
    "    'korruption',\n",
    "    'kinderpornografische',\n",
    "    'asyl',\n",
    "    'sexueller gewalt',\n",
    "    'schuss',\n",
    "    'körperverletzung',\n",
    "    'sexuellen missbrauch',\n",
    "    'pistole',\n",
    "    'polizeiwache',\n",
    "    'verletzte',\n",
    "    'auseinandersetzungen',\n",
    "    'rechtskräftig',\n",
    "    'schwer verletzt',\n",
    "    'gerecht',\n",
    "    'tätern',\n",
    "    'mordfall',\n",
    "    'gerichte',\n",
    "    'neonazis',\n",
    "    'juristischen',\n",
    "    'bundeskriminalamt',\n",
    "    'protestieren',\n",
    "    'polizeigewerkschaft',\n",
    "    'polizisten einsatz',\n",
    "    'vorwurf',\n",
    "    'rassistische',\n",
    "    'verhandlung',\n",
    "    'eingestellt',\n",
    "    'polizeilichen',\n",
    "    'tötung',\n",
    "    'strafgesetzbuch',\n",
    "    'rechtsanwalt',\n",
    "    'hass',\n",
    "    'lka',\n",
    "    'spezialeinheiten',\n",
    "    'polizeiliche',\n",
    "    'zeuge',\n",
    "    'gewehr',\n",
    "    'töten',\n",
    "    'randalierer',\n",
    "    'untergrund',\n",
    "    'sexuellen missbrauchs',\n",
    "    'kriminalpolizei',\n",
    "    'verbrecher',\n",
    "    'missbraucht',\n",
    "    'getötet',\n",
    "    'überfall',\n",
    "    'missstände',\n",
    "    'verurteilung',\n",
    "    'angegriffen',\n",
    "    'schwarze',\n",
    "    'berufen',\n",
    "    'beschuldigte',\n",
    "    'spurensicherung',\n",
    "    'festnehmen',\n",
    "    'kriminalität',\n",
    "    'gestanden',\n",
    "    'wasserwerfer',\n",
    "    'mutmaßliche täter',\n",
    "    'polizei einsatz',\n",
    "    'ermordet',\n",
    "    'ermittlungsverfahren',\n",
    "    'festnahmen',\n",
    "    'zeugenaussage',\n",
    "    'anwältin',\n",
    "    'haftbefehle',\n",
    "    'gefasst',\n",
    "    'beweisen',\n",
    "    'schusswaffe',\n",
    "    'kontrolle'\n",
    "]"
   ]
  },
  {
   "cell_type": "code",
   "execution_count": 256,
   "metadata": {},
   "outputs": [],
   "source": [
    "ignore_warnings = True\n",
    "if ignore_warnings:\n",
    "    import warnings\n",
    "    warnings.filterwarnings(\"ignore\")"
   ]
  },
  {
   "cell_type": "code",
   "execution_count": 257,
   "metadata": {},
   "outputs": [],
   "source": [
    "from sklearn.feature_extraction.text import CountVectorizer\n",
    "from sklearn.preprocessing import StandardScaler\n",
    "from sklearn.decomposition import TruncatedSVD\n",
    "from sklearn.decomposition import PCA\n",
    "import pandas as pd\n",
    "import joblib\n",
    "import numpy as np\n",
    "\n",
    "political_spectrum_dict = {\n",
    "    'junge Welt':'left',\n",
    "    'NachDenkSeiten':'left',\n",
    "    'taz':'left leaning',\n",
    "    'Süddeutsche Zeitung':'left leaning',\n",
    "    'stern TV':'left leaning',\n",
    "    'DER SPIEGEL':'left leaning',\n",
    "    'Der Tagesspiegel':'center',\n",
    "    'ARD':'center',\n",
    "    'ZDF':'center',\n",
    "    'ZDFheute Nachrichten':'center',\n",
    "    'Bayerischer Rundfunk':'center',\n",
    "    'ntv Nachrichten':'center',\n",
    "    'RTL':'right leaning',\n",
    "    'FOCUS Online':'right leaning',\n",
    "    'ZEIT ONLINE':'center',\n",
    "    'faz':'center',\n",
    "    'WELT':'center',\n",
    "    'BILD':'right leaning',\n",
    "    'NZZ Neue Zürcher Zeitung':'right leaning',\n",
    "    'Junge Freiheit':'right',\n",
    "    'COMPACTTV':'right'\n",
    "}\n",
    "\n",
    "media = [\n",
    "    'junge Welt',\n",
    "    \"NachDenkSeiten\",\n",
    "    'taz',\n",
    "    'Süddeutsche Zeitung',\n",
    "    'stern TV',\n",
    "    \"DER SPIEGEL\",\n",
    "    'Der Tagesspiegel',\n",
    "    'ARD',\n",
    "    'Tagesschau',\n",
    "    'ZDF',\n",
    "    \"ZDFheute Nachrichten\",\n",
    "    'Bayerischer Rundfunk',\n",
    "    'ntv Nachrichten',\n",
    "    'RTL',\n",
    "    'FOCUS Online',\n",
    "    'ZEIT ONLINE',\n",
    "    'faz',\n",
    "    'WELT',\n",
    "    \"BILD\",\n",
    "    'NZZ Neue Zürcher Zeitung',\n",
    "    \"Junge Freiheit\",\n",
    "    'COMPACTTV'\n",
    "]\n",
    "\n",
    "def define_print(verbose=True):\n",
    "    if verbose:\n",
    "        verboseprint = print\n",
    "    else:\n",
    "        verboseprint = lambda *args: None\n",
    "    return verboseprint\n",
    "\n",
    "def extract_topics(df, cv_model, lda_model, to_csv=True, verbose=True):\n",
    "    verboseprint = define_print(verbose=verbose)\n",
    "    df.dropna(inplace=True)\n",
    "\n",
    "    verboseprint(f\"getting topics for {df.shape[0]} videos...\")\n",
    "    lda = cv_model.transform(df[\"preprocessed\"].to_list())\n",
    "    lda = lda_model.transform(lda)\n",
    "    lda = pd.DataFrame(lda)\n",
    "    lda.rename(columns=topic_dict, inplace=True)\n",
    "    dominant_topic_list = [topic_dict[topic] for topic in np.argmax(lda.values, axis=1)]\n",
    "    dominant_topic_mask = np.max(lda.values, axis=1) < 0.3\n",
    "    lda[\"dominant topic\"] = dominant_topic_list\n",
    "    lda.loc[dominant_topic_mask, \"dominant topic\"] = \"None\"\n",
    "\n",
    "    # lda['dominant topic'] = lda.apply(lambda row: np.argmax(row.values) if np.max(row.values) > 0.3 else 'None')\n",
    "    lda[\"id\"] = df[\"id\"].to_list()\n",
    "\n",
    "    verboseprint(\"merging data...\")\n",
    "    df = df.merge(lda, how=\"outer\", on=\"id\")\n",
    "    if to_csv:\n",
    "        verboseprint(\"saving csv file...\")\n",
    "        df.to_csv(\"../data/labeled/\" + df[\"medium\"].iloc[0] + \"_labeled.csv\")\n",
    "    return df\n",
    "\n",
    "def sort_topics(dfs, to_csv=True, verbose=True):\n",
    "    verboseprint = define_print(verbose=verbose)\n",
    "    dfs_dict = {}\n",
    "\n",
    "    verboseprint(\"initializing dataframes...\")\n",
    "    for _, topic in topic_dict.items():\n",
    "        dfs_dict[topic] = pd.DataFrame()\n",
    "\n",
    "    dfs_dict[\"None\"] = pd.DataFrame()\n",
    "\n",
    "    verboseprint(f\"iterating through {len(dfs)} input dataframes...\")\n",
    "    for df in dfs:\n",
    "        verboseprint(\"sorting \" + df[\"medium\"].iloc[0] + \" dataframe by topic...\")\n",
    "        for _, topic in topic_dict.items():\n",
    "            dfs_dict[topic] = pd.concat(\n",
    "                [dfs_dict[topic], df[df[\"dominant topic\"] == topic]]\n",
    "            )\n",
    "        dfs_dict[\"None\"] = pd.concat(\n",
    "            [dfs_dict[\"None\"], df[df[\"dominant topic\"] == \"None\"]]\n",
    "        )\n",
    "\n",
    "    if to_csv:\n",
    "        verboseprint(\"saving csv files...\")\n",
    "        for _, topic in topic_dict.items():\n",
    "            dfs_dict[topic].to_csv(\"../data/sorted/\" + topic + \".csv\")\n",
    "        dfs_dict[\"None\"].to_csv(\"../data/sorted/None.csv\")\n",
    "\n",
    "    return dfs_dict\n",
    "\n",
    "def get_N_matrix(df, verbose=True, drop_subsumed=True, drop_medium_specific=True):\n",
    "    verboseprint = define_print(verbose=verbose)\n",
    "    MEDIA = media\n",
    "    cv = CountVectorizer(max_df=0.9, min_df=10, max_features=10000, ngram_range=(1, 3))\n",
    "    topic = df.iloc[0]['topic']\n",
    "    \n",
    "    #cv.fit(df[\"preprocessed\"])\n",
    "    verboseprint(\"restructuring dataframe with \" + str(len(df)) + \" transcripts...\")\n",
    "    df[\"preprocessed\"] = df[\"preprocessed\"] + \" \"\n",
    "    df = df[[\"medium\", \"preprocessed\", \"topic\"]]\n",
    "    df_grouped = df.groupby([\"medium\", \"topic\"]).sum()\n",
    "\n",
    "    df = pd.DataFrame(index=MEDIA, columns=[\"preprocessed\"])\n",
    "    empty_media = []\n",
    "    for medium in MEDIA:\n",
    "        try:\n",
    "            df.loc[medium] = df_grouped.loc[medium].loc[topic][\"preprocessed\"]\n",
    "        except:\n",
    "            print(\n",
    "                medium\n",
    "                + \" does not have any videos categorized under category '\"\n",
    "                + topic\n",
    "                + \"'.\"\n",
    "            )\n",
    "            df.drop(index=medium, inplace=True)\n",
    "            empty_media.append(medium)\n",
    "\n",
    "    for empty_medium in empty_media:\n",
    "        MEDIA.remove(empty_medium)\n",
    "\n",
    "    verboseprint(\"fitting cv model for topic \" + topic + \"...\")\n",
    "    N_matrix = cv.fit_transform(df[\"preprocessed\"].values)\n",
    "\n",
    "    verboseprint(\"counting n-gram occurences...\")\n",
    "    N_df = pd.DataFrame(\n",
    "        data=N_matrix.toarray().transpose(),\n",
    "        columns=df.index,\n",
    "        index=cv.get_feature_names_out(),\n",
    "    )\n",
    "\n",
    "    if drop_medium_specific:\n",
    "        verboseprint(\n",
    "            \"dropping medium-specific n-grams that occur in one medium at least 90% of the time...\"\n",
    "        )\n",
    "        N_sum = N_df.sum(axis=1)\n",
    "        specific_mask = np.full(len(N_df.index), False)\n",
    "        mask_df = N_df.apply(lambda x: x>0.9*N_sum)\n",
    "        for medium in MEDIA:\n",
    "            specific_mask = specific_mask | mask_df[medium].values\n",
    "        N_df.drop(N_df.index[specific_mask], inplace=True)\n",
    "\n",
    "    if drop_subsumed:\n",
    "        N_df = N_df.reset_index().rename(columns={\"index\": \"phrase\"})\n",
    "        N_df[\"n_gram\"] = N_df[\"phrase\"].apply(str.split).apply(len)\n",
    "        N_df[\"count\"] = N_df[MEDIA].sum(axis=1)\n",
    "\n",
    "        monograms = N_df[N_df[\"n_gram\"] == 1]\n",
    "        bigrams = N_df[N_df[\"n_gram\"] == 2]\n",
    "        trigrams = N_df[N_df[\"n_gram\"] == 3]\n",
    "        bigram_words = list(\n",
    "            set(\n",
    "                [\n",
    "                    word\n",
    "                    for bigram_sublist in bigrams[\"phrase\"].apply(str.split).tolist()\n",
    "                    for word in bigram_sublist\n",
    "                ]\n",
    "            )\n",
    "        )\n",
    "        trigram_words = list(\n",
    "            set(\n",
    "                [\n",
    "                    word\n",
    "                    for trigram_sublist in trigrams[\"phrase\"].apply(str.split).tolist()\n",
    "                    for word in trigram_sublist\n",
    "                ]\n",
    "            )\n",
    "        )\n",
    "\n",
    "        verboseprint(\"extracting subsumed n-grams...\")\n",
    "        monograms_in_bigrams = monograms[monograms[\"phrase\"].isin(bigram_words)]\n",
    "        monograms_in_trigrams = monograms[monograms[\"phrase\"].isin(trigram_words)]\n",
    "\n",
    "        bigrams_in_trigrams_words = list(\n",
    "            set(\n",
    "                [\n",
    "                    bigram_word\n",
    "                    for bigram_word in bigram_words\n",
    "                    if bigram_word in trigram_words\n",
    "                ]\n",
    "            )\n",
    "        )\n",
    "        bigrams_in_trigrams_mask = bigrams[\"phrase\"].apply(\n",
    "            lambda bigram: True\n",
    "            if bigram.split()[0] in bigrams_in_trigrams_words\n",
    "            or bigram.split()[1] in bigrams_in_trigrams_words\n",
    "            else False\n",
    "        )\n",
    "        bigrams_in_trigrams = bigrams[bigrams_in_trigrams_mask]\n",
    "\n",
    "        threshold = 0.7\n",
    "        verboseprint(\n",
    "            f\"filtering n-grams which are subsumed more than {int(100*threshold)}% of the time...\"\n",
    "        )\n",
    "        monograms_in_bigrams_above_threshold = list(\n",
    "            set(\n",
    "                [\n",
    "                    monogram[\"phrase\"]\n",
    "                    for _, monogram in monograms_in_bigrams.iterrows()\n",
    "                    for _, bigram in bigrams.iterrows()\n",
    "                    if monogram[\"phrase\"] in bigram[\"phrase\"].split()\n",
    "                    and bigram[\"count\"] > threshold * monogram[\"count\"]\n",
    "                ]\n",
    "            )\n",
    "        )\n",
    "        monograms_in_trigrams_above_threshold = list(\n",
    "            set(\n",
    "                [\n",
    "                    monogram[\"phrase\"]\n",
    "                    for _, monogram in monograms_in_trigrams.iterrows()\n",
    "                    for _, trigram in trigrams.iterrows()\n",
    "                    if monogram[\"phrase\"] in trigram[\"phrase\"].split()\n",
    "                    and trigram[\"count\"] > threshold * monogram[\"count\"]\n",
    "                ]\n",
    "            )\n",
    "        )\n",
    "        bigrams_in_trigrams_above_threshold = list(\n",
    "            set(\n",
    "                [\n",
    "                    bigram[\"phrase\"]\n",
    "                    for _, bigram in bigrams_in_trigrams.iterrows()\n",
    "                    for _, trigram in trigrams.iterrows()\n",
    "                    if (\n",
    "                        bigram[\"phrase\"] in \" \".join(trigram[\"phrase\"].split()[:2])\n",
    "                        or bigram[\"phrase\"] in \" \".join(trigram[\"phrase\"].split()[-2:])\n",
    "                    )\n",
    "                    and trigram[\"count\"] > threshold * bigram[\"count\"]\n",
    "                ]\n",
    "            )\n",
    "        )\n",
    "        n_grams_above_threshold = list(\n",
    "            set(\n",
    "                np.append(\n",
    "                    np.append(\n",
    "                        monograms_in_bigrams_above_threshold,\n",
    "                        monograms_in_trigrams_above_threshold,\n",
    "                    ),\n",
    "                    bigrams_in_trigrams_above_threshold,\n",
    "                )\n",
    "            )\n",
    "        )\n",
    "\n",
    "        N_df.drop(\n",
    "            N_df[N_df[\"phrase\"].isin(n_grams_above_threshold)].index, inplace=True\n",
    "        )\n",
    "        N_df.set_index(\"phrase\", inplace=True)\n",
    "        N_df.drop(columns=[\"n_gram\", \"count\"], inplace=True)\n",
    "    return N_df\n",
    "\n",
    "def filter_N_by_information_score(N_df, n=1000, verbose=True):\n",
    "    verboseprint = define_print(verbose=verbose)\n",
    "    verboseprint(\"filtering \" + str(n) + \" most discriminative phrases from sample...\")\n",
    "    n_i = len(N_df.index)\n",
    "    n_j = len(N_df.columns)\n",
    "    P_ij = N_df / N_df.to_numpy().sum()\n",
    "    P_i = P_ij.sum(axis=1)\n",
    "    P_j = P_ij.sum(axis=0)\n",
    "\n",
    "    I = np.zeros((n_i, n_j))\n",
    "\n",
    "    for i in range(n_i):\n",
    "        for j in range(n_j):\n",
    "            I[i][j] = P_ij.values[i][j] * np.log2(P_ij.values[i][j] / P_i[i] / P_j[j])\n",
    "\n",
    "    I = pd.DataFrame(I, index=N_df.index, columns=N_df.columns)\n",
    "    I = I.fillna(0.0)\n",
    "    I[\"sum\"] = I.sum(axis=1)\n",
    "    I.sort_values(by=\"sum\", ascending=False, inplace=True)\n",
    "    return N_df.loc[I.index[:n]]"
   ]
  },
  {
   "cell_type": "code",
   "execution_count": 258,
   "metadata": {},
   "outputs": [],
   "source": [
    "#df = pd.read_pickle('../data/topic.pkl')\n",
    "df = pd.read_pickle('../data/topics_combined.pkl')\n",
    "topic_counts = df['topic'].value_counts()\n",
    "topic_dict = dict(zip(np.arange(-1,89), topic_counts.index.to_list()))"
   ]
  },
  {
   "cell_type": "code",
   "execution_count": 259,
   "metadata": {},
   "outputs": [
    {
     "name": "stdout",
     "output_type": "stream",
     "text": [
      "topic: 7_flüchtlinge_menschen_ukraine_grenze\n",
      "restructuring dataframe with 16891 transcripts...\n",
      "Tagesschau does not have any videos categorized under category '7_flüchtlinge_menschen_ukraine_grenze'.\n",
      "fitting cv model for topic 7_flüchtlinge_menschen_ukraine_grenze...\n",
      "counting n-gram occurences...\n",
      "dropping medium-specific n-grams that occur in one medium at least 90% of the time...\n",
      "extracting subsumed n-grams...\n",
      "filtering n-grams which are subsumed more than 70% of the time...\n",
      "filtering 3000 most discriminative phrases from sample...\n"
     ]
    }
   ],
   "source": [
    "topic_index=7\n",
    "topic = topic_dict[topic_index]\n",
    "print('topic: ' + topic)\n",
    "N_df = get_N_matrix(df[df['topic'] == topic])\n",
    "N_df = filter_N_by_information_score(N_df, n=3000)"
   ]
  },
  {
   "cell_type": "code",
   "execution_count": 260,
   "metadata": {},
   "outputs": [
    {
     "name": "stdout",
     "output_type": "stream",
     "text": [
      "0\n"
     ]
    }
   ],
   "source": [
    "#N = N_df[~N_df.index.isin(blacklist[topic_index])]\n",
    "N = N_df[N_df.index.isin(whitelist[topic_index])]\n",
    "print(len(N.index))\n",
    "#N = N.iloc[:1000]"
   ]
  },
  {
   "cell_type": "code",
   "execution_count": 261,
   "metadata": {},
   "outputs": [],
   "source": [
    "N = N_df.iloc[:1000]"
   ]
  },
  {
   "cell_type": "code",
   "execution_count": 262,
   "metadata": {},
   "outputs": [
    {
     "data": {
      "application/vnd.plotly.v1+json": {
       "config": {
        "plotlyServerURL": "https://plot.ly"
       },
       "data": [
        {
         "customdata": [
          [
           "junge Welt"
          ],
          [
           "NachDenkSeiten"
          ]
         ],
         "hovertemplate": "color=left<br>x=%{x}<br>y=%{y}<br>hover_data_0=%{customdata[0]}<extra></extra>",
         "legendgroup": "left",
         "marker": {
          "color": "rgb(20.0, 20.0, 255.0)",
          "symbol": "circle"
         },
         "mode": "markers",
         "name": "left",
         "orientation": "v",
         "showlegend": true,
         "type": "scatter",
         "x": [
          0.07761740592588187,
          0.1658252111455881
         ],
         "xaxis": "x",
         "y": [
          0,
          0
         ],
         "yaxis": "y"
        },
        {
         "customdata": [
          [
           "taz"
          ],
          [
           "Süddeutsche Zeitung"
          ],
          [
           "stern TV"
          ],
          [
           "DER SPIEGEL"
          ]
         ],
         "hovertemplate": "color=left leaning<br>x=%{x}<br>y=%{y}<br>hover_data_0=%{customdata[0]}<extra></extra>",
         "legendgroup": "left leaning",
         "marker": {
          "color": "rgb(50.0, 0.0, 170.0)",
          "symbol": "circle"
         },
         "mode": "markers",
         "name": "left leaning",
         "orientation": "v",
         "showlegend": true,
         "type": "scatter",
         "x": [
          0.22897554086994396,
          0.13815368271492803,
          0.13201064084338954,
          0.3031029154418827
         ],
         "xaxis": "x",
         "y": [
          0,
          0,
          0,
          0
         ],
         "yaxis": "y"
        },
        {
         "customdata": [
          [
           "Der Tagesspiegel"
          ],
          [
           "ARD"
          ],
          [
           "ZDF"
          ],
          [
           "ZDFheute Nachrichten"
          ],
          [
           "Bayerischer Rundfunk"
          ],
          [
           "ntv Nachrichten"
          ],
          [
           "ZEIT ONLINE"
          ],
          [
           "faz"
          ],
          [
           "WELT"
          ]
         ],
         "hovertemplate": "color=center<br>x=%{x}<br>y=%{y}<br>hover_data_0=%{customdata[0]}<extra></extra>",
         "legendgroup": "center",
         "marker": {
          "color": "rgb(120.0, 120.0, 120.0)",
          "symbol": "circle"
         },
         "mode": "markers",
         "name": "center",
         "orientation": "v",
         "showlegend": true,
         "type": "scatter",
         "x": [
          0.11525684159183767,
          0.20577787796366823,
          0.2598091263922985,
          0.31619441444241253,
          0.21796915174020262,
          0.28268713667081896,
          0.12577508621285682,
          0.27233974300858854,
          0.2468974747682016
         ],
         "xaxis": "x",
         "y": [
          0,
          0,
          0,
          0,
          0,
          0,
          0,
          0,
          0
         ],
         "yaxis": "y"
        },
        {
         "customdata": [
          [
           "RTL"
          ],
          [
           "FOCUS Online"
          ],
          [
           "BILD"
          ],
          [
           "NZZ Neue Zürcher Zeitung"
          ]
         ],
         "hovertemplate": "color=right leaning<br>x=%{x}<br>y=%{y}<br>hover_data_0=%{customdata[0]}<extra></extra>",
         "legendgroup": "right leaning",
         "marker": {
          "color": "rgb(170.0, 0.0, 50.0)",
          "symbol": "circle"
         },
         "mode": "markers",
         "name": "right leaning",
         "orientation": "v",
         "showlegend": true,
         "type": "scatter",
         "x": [
          0.028291326572008155,
          0.22381210137961266,
          0.29709273515214757,
          0.1707636693441429
         ],
         "xaxis": "x",
         "y": [
          0,
          0,
          0,
          0
         ],
         "yaxis": "y"
        },
        {
         "customdata": [
          [
           "Junge Freiheit"
          ],
          [
           "COMPACTTV"
          ]
         ],
         "hovertemplate": "color=right<br>x=%{x}<br>y=%{y}<br>hover_data_0=%{customdata[0]}<extra></extra>",
         "legendgroup": "right",
         "marker": {
          "color": "rgb(255.0, 20.0, 20.0)",
          "symbol": "circle"
         },
         "mode": "markers",
         "name": "right",
         "orientation": "v",
         "showlegend": true,
         "type": "scatter",
         "x": [
          0.2368340327499247,
          0.24449656404928471
         ],
         "xaxis": "x",
         "y": [
          0,
          0
         ],
         "yaxis": "y"
        }
       ],
       "layout": {
        "legend": {
         "title": {
          "text": "color"
         },
         "tracegroupgap": 0
        },
        "template": {
         "data": {
          "bar": [
           {
            "error_x": {
             "color": "#2a3f5f"
            },
            "error_y": {
             "color": "#2a3f5f"
            },
            "marker": {
             "line": {
              "color": "#E5ECF6",
              "width": 0.5
             },
             "pattern": {
              "fillmode": "overlay",
              "size": 10,
              "solidity": 0.2
             }
            },
            "type": "bar"
           }
          ],
          "barpolar": [
           {
            "marker": {
             "line": {
              "color": "#E5ECF6",
              "width": 0.5
             },
             "pattern": {
              "fillmode": "overlay",
              "size": 10,
              "solidity": 0.2
             }
            },
            "type": "barpolar"
           }
          ],
          "carpet": [
           {
            "aaxis": {
             "endlinecolor": "#2a3f5f",
             "gridcolor": "white",
             "linecolor": "white",
             "minorgridcolor": "white",
             "startlinecolor": "#2a3f5f"
            },
            "baxis": {
             "endlinecolor": "#2a3f5f",
             "gridcolor": "white",
             "linecolor": "white",
             "minorgridcolor": "white",
             "startlinecolor": "#2a3f5f"
            },
            "type": "carpet"
           }
          ],
          "choropleth": [
           {
            "colorbar": {
             "outlinewidth": 0,
             "ticks": ""
            },
            "type": "choropleth"
           }
          ],
          "contour": [
           {
            "colorbar": {
             "outlinewidth": 0,
             "ticks": ""
            },
            "colorscale": [
             [
              0,
              "#0d0887"
             ],
             [
              0.1111111111111111,
              "#46039f"
             ],
             [
              0.2222222222222222,
              "#7201a8"
             ],
             [
              0.3333333333333333,
              "#9c179e"
             ],
             [
              0.4444444444444444,
              "#bd3786"
             ],
             [
              0.5555555555555556,
              "#d8576b"
             ],
             [
              0.6666666666666666,
              "#ed7953"
             ],
             [
              0.7777777777777778,
              "#fb9f3a"
             ],
             [
              0.8888888888888888,
              "#fdca26"
             ],
             [
              1,
              "#f0f921"
             ]
            ],
            "type": "contour"
           }
          ],
          "contourcarpet": [
           {
            "colorbar": {
             "outlinewidth": 0,
             "ticks": ""
            },
            "type": "contourcarpet"
           }
          ],
          "heatmap": [
           {
            "colorbar": {
             "outlinewidth": 0,
             "ticks": ""
            },
            "colorscale": [
             [
              0,
              "#0d0887"
             ],
             [
              0.1111111111111111,
              "#46039f"
             ],
             [
              0.2222222222222222,
              "#7201a8"
             ],
             [
              0.3333333333333333,
              "#9c179e"
             ],
             [
              0.4444444444444444,
              "#bd3786"
             ],
             [
              0.5555555555555556,
              "#d8576b"
             ],
             [
              0.6666666666666666,
              "#ed7953"
             ],
             [
              0.7777777777777778,
              "#fb9f3a"
             ],
             [
              0.8888888888888888,
              "#fdca26"
             ],
             [
              1,
              "#f0f921"
             ]
            ],
            "type": "heatmap"
           }
          ],
          "heatmapgl": [
           {
            "colorbar": {
             "outlinewidth": 0,
             "ticks": ""
            },
            "colorscale": [
             [
              0,
              "#0d0887"
             ],
             [
              0.1111111111111111,
              "#46039f"
             ],
             [
              0.2222222222222222,
              "#7201a8"
             ],
             [
              0.3333333333333333,
              "#9c179e"
             ],
             [
              0.4444444444444444,
              "#bd3786"
             ],
             [
              0.5555555555555556,
              "#d8576b"
             ],
             [
              0.6666666666666666,
              "#ed7953"
             ],
             [
              0.7777777777777778,
              "#fb9f3a"
             ],
             [
              0.8888888888888888,
              "#fdca26"
             ],
             [
              1,
              "#f0f921"
             ]
            ],
            "type": "heatmapgl"
           }
          ],
          "histogram": [
           {
            "marker": {
             "pattern": {
              "fillmode": "overlay",
              "size": 10,
              "solidity": 0.2
             }
            },
            "type": "histogram"
           }
          ],
          "histogram2d": [
           {
            "colorbar": {
             "outlinewidth": 0,
             "ticks": ""
            },
            "colorscale": [
             [
              0,
              "#0d0887"
             ],
             [
              0.1111111111111111,
              "#46039f"
             ],
             [
              0.2222222222222222,
              "#7201a8"
             ],
             [
              0.3333333333333333,
              "#9c179e"
             ],
             [
              0.4444444444444444,
              "#bd3786"
             ],
             [
              0.5555555555555556,
              "#d8576b"
             ],
             [
              0.6666666666666666,
              "#ed7953"
             ],
             [
              0.7777777777777778,
              "#fb9f3a"
             ],
             [
              0.8888888888888888,
              "#fdca26"
             ],
             [
              1,
              "#f0f921"
             ]
            ],
            "type": "histogram2d"
           }
          ],
          "histogram2dcontour": [
           {
            "colorbar": {
             "outlinewidth": 0,
             "ticks": ""
            },
            "colorscale": [
             [
              0,
              "#0d0887"
             ],
             [
              0.1111111111111111,
              "#46039f"
             ],
             [
              0.2222222222222222,
              "#7201a8"
             ],
             [
              0.3333333333333333,
              "#9c179e"
             ],
             [
              0.4444444444444444,
              "#bd3786"
             ],
             [
              0.5555555555555556,
              "#d8576b"
             ],
             [
              0.6666666666666666,
              "#ed7953"
             ],
             [
              0.7777777777777778,
              "#fb9f3a"
             ],
             [
              0.8888888888888888,
              "#fdca26"
             ],
             [
              1,
              "#f0f921"
             ]
            ],
            "type": "histogram2dcontour"
           }
          ],
          "mesh3d": [
           {
            "colorbar": {
             "outlinewidth": 0,
             "ticks": ""
            },
            "type": "mesh3d"
           }
          ],
          "parcoords": [
           {
            "line": {
             "colorbar": {
              "outlinewidth": 0,
              "ticks": ""
             }
            },
            "type": "parcoords"
           }
          ],
          "pie": [
           {
            "automargin": true,
            "type": "pie"
           }
          ],
          "scatter": [
           {
            "marker": {
             "colorbar": {
              "outlinewidth": 0,
              "ticks": ""
             }
            },
            "type": "scatter"
           }
          ],
          "scatter3d": [
           {
            "line": {
             "colorbar": {
              "outlinewidth": 0,
              "ticks": ""
             }
            },
            "marker": {
             "colorbar": {
              "outlinewidth": 0,
              "ticks": ""
             }
            },
            "type": "scatter3d"
           }
          ],
          "scattercarpet": [
           {
            "marker": {
             "colorbar": {
              "outlinewidth": 0,
              "ticks": ""
             }
            },
            "type": "scattercarpet"
           }
          ],
          "scattergeo": [
           {
            "marker": {
             "colorbar": {
              "outlinewidth": 0,
              "ticks": ""
             }
            },
            "type": "scattergeo"
           }
          ],
          "scattergl": [
           {
            "marker": {
             "colorbar": {
              "outlinewidth": 0,
              "ticks": ""
             }
            },
            "type": "scattergl"
           }
          ],
          "scattermapbox": [
           {
            "marker": {
             "colorbar": {
              "outlinewidth": 0,
              "ticks": ""
             }
            },
            "type": "scattermapbox"
           }
          ],
          "scatterpolar": [
           {
            "marker": {
             "colorbar": {
              "outlinewidth": 0,
              "ticks": ""
             }
            },
            "type": "scatterpolar"
           }
          ],
          "scatterpolargl": [
           {
            "marker": {
             "colorbar": {
              "outlinewidth": 0,
              "ticks": ""
             }
            },
            "type": "scatterpolargl"
           }
          ],
          "scatterternary": [
           {
            "marker": {
             "colorbar": {
              "outlinewidth": 0,
              "ticks": ""
             }
            },
            "type": "scatterternary"
           }
          ],
          "surface": [
           {
            "colorbar": {
             "outlinewidth": 0,
             "ticks": ""
            },
            "colorscale": [
             [
              0,
              "#0d0887"
             ],
             [
              0.1111111111111111,
              "#46039f"
             ],
             [
              0.2222222222222222,
              "#7201a8"
             ],
             [
              0.3333333333333333,
              "#9c179e"
             ],
             [
              0.4444444444444444,
              "#bd3786"
             ],
             [
              0.5555555555555556,
              "#d8576b"
             ],
             [
              0.6666666666666666,
              "#ed7953"
             ],
             [
              0.7777777777777778,
              "#fb9f3a"
             ],
             [
              0.8888888888888888,
              "#fdca26"
             ],
             [
              1,
              "#f0f921"
             ]
            ],
            "type": "surface"
           }
          ],
          "table": [
           {
            "cells": {
             "fill": {
              "color": "#EBF0F8"
             },
             "line": {
              "color": "white"
             }
            },
            "header": {
             "fill": {
              "color": "#C8D4E3"
             },
             "line": {
              "color": "white"
             }
            },
            "type": "table"
           }
          ]
         },
         "layout": {
          "annotationdefaults": {
           "arrowcolor": "#2a3f5f",
           "arrowhead": 0,
           "arrowwidth": 1
          },
          "autotypenumbers": "strict",
          "coloraxis": {
           "colorbar": {
            "outlinewidth": 0,
            "ticks": ""
           }
          },
          "colorscale": {
           "diverging": [
            [
             0,
             "#8e0152"
            ],
            [
             0.1,
             "#c51b7d"
            ],
            [
             0.2,
             "#de77ae"
            ],
            [
             0.3,
             "#f1b6da"
            ],
            [
             0.4,
             "#fde0ef"
            ],
            [
             0.5,
             "#f7f7f7"
            ],
            [
             0.6,
             "#e6f5d0"
            ],
            [
             0.7,
             "#b8e186"
            ],
            [
             0.8,
             "#7fbc41"
            ],
            [
             0.9,
             "#4d9221"
            ],
            [
             1,
             "#276419"
            ]
           ],
           "sequential": [
            [
             0,
             "#0d0887"
            ],
            [
             0.1111111111111111,
             "#46039f"
            ],
            [
             0.2222222222222222,
             "#7201a8"
            ],
            [
             0.3333333333333333,
             "#9c179e"
            ],
            [
             0.4444444444444444,
             "#bd3786"
            ],
            [
             0.5555555555555556,
             "#d8576b"
            ],
            [
             0.6666666666666666,
             "#ed7953"
            ],
            [
             0.7777777777777778,
             "#fb9f3a"
            ],
            [
             0.8888888888888888,
             "#fdca26"
            ],
            [
             1,
             "#f0f921"
            ]
           ],
           "sequentialminus": [
            [
             0,
             "#0d0887"
            ],
            [
             0.1111111111111111,
             "#46039f"
            ],
            [
             0.2222222222222222,
             "#7201a8"
            ],
            [
             0.3333333333333333,
             "#9c179e"
            ],
            [
             0.4444444444444444,
             "#bd3786"
            ],
            [
             0.5555555555555556,
             "#d8576b"
            ],
            [
             0.6666666666666666,
             "#ed7953"
            ],
            [
             0.7777777777777778,
             "#fb9f3a"
            ],
            [
             0.8888888888888888,
             "#fdca26"
            ],
            [
             1,
             "#f0f921"
            ]
           ]
          },
          "colorway": [
           "#636efa",
           "#EF553B",
           "#00cc96",
           "#ab63fa",
           "#FFA15A",
           "#19d3f3",
           "#FF6692",
           "#B6E880",
           "#FF97FF",
           "#FECB52"
          ],
          "font": {
           "color": "#2a3f5f"
          },
          "geo": {
           "bgcolor": "white",
           "lakecolor": "white",
           "landcolor": "#E5ECF6",
           "showlakes": true,
           "showland": true,
           "subunitcolor": "white"
          },
          "hoverlabel": {
           "align": "left"
          },
          "hovermode": "closest",
          "mapbox": {
           "style": "light"
          },
          "paper_bgcolor": "white",
          "plot_bgcolor": "#E5ECF6",
          "polar": {
           "angularaxis": {
            "gridcolor": "white",
            "linecolor": "white",
            "ticks": ""
           },
           "bgcolor": "#E5ECF6",
           "radialaxis": {
            "gridcolor": "white",
            "linecolor": "white",
            "ticks": ""
           }
          },
          "scene": {
           "xaxis": {
            "backgroundcolor": "#E5ECF6",
            "gridcolor": "white",
            "gridwidth": 2,
            "linecolor": "white",
            "showbackground": true,
            "ticks": "",
            "zerolinecolor": "white"
           },
           "yaxis": {
            "backgroundcolor": "#E5ECF6",
            "gridcolor": "white",
            "gridwidth": 2,
            "linecolor": "white",
            "showbackground": true,
            "ticks": "",
            "zerolinecolor": "white"
           },
           "zaxis": {
            "backgroundcolor": "#E5ECF6",
            "gridcolor": "white",
            "gridwidth": 2,
            "linecolor": "white",
            "showbackground": true,
            "ticks": "",
            "zerolinecolor": "white"
           }
          },
          "shapedefaults": {
           "line": {
            "color": "#2a3f5f"
           }
          },
          "ternary": {
           "aaxis": {
            "gridcolor": "white",
            "linecolor": "white",
            "ticks": ""
           },
           "baxis": {
            "gridcolor": "white",
            "linecolor": "white",
            "ticks": ""
           },
           "bgcolor": "#E5ECF6",
           "caxis": {
            "gridcolor": "white",
            "linecolor": "white",
            "ticks": ""
           }
          },
          "title": {
           "x": 0.05
          },
          "xaxis": {
           "automargin": true,
           "gridcolor": "white",
           "linecolor": "white",
           "ticks": "",
           "title": {
            "standoff": 15
           },
           "zerolinecolor": "white",
           "zerolinewidth": 2
          },
          "yaxis": {
           "automargin": true,
           "gridcolor": "white",
           "linecolor": "white",
           "ticks": "",
           "title": {
            "standoff": 15
           },
           "zerolinecolor": "white",
           "zerolinewidth": 2
          }
         }
        },
        "title": {
         "text": "Topic: '7_flüchtlinge_menschen_ukraine_grenze', 0. Principal Component"
        },
        "xaxis": {
         "anchor": "y",
         "domain": [
          0,
          1
         ],
         "title": {
          "text": "x"
         }
        },
        "yaxis": {
         "anchor": "x",
         "domain": [
          0,
          1
         ],
         "title": {
          "text": "y"
         }
        }
       }
      }
     },
     "metadata": {},
     "output_type": "display_data"
    },
    {
     "data": {
      "application/vnd.plotly.v1+json": {
       "config": {
        "plotlyServerURL": "https://plot.ly"
       },
       "data": [
        {
         "customdata": [
          [
           "junge Welt"
          ],
          [
           "NachDenkSeiten"
          ]
         ],
         "hovertemplate": "color=left<br>x=%{x}<br>y=%{y}<br>hover_data_0=%{customdata[0]}<extra></extra>",
         "legendgroup": "left",
         "marker": {
          "color": "rgb(20.0, 20.0, 255.0)",
          "symbol": "circle"
         },
         "mode": "markers",
         "name": "left",
         "orientation": "v",
         "showlegend": true,
         "type": "scatter",
         "x": [
          0.21981732797534065,
          0.32665014409198734
         ],
         "xaxis": "x",
         "y": [
          0,
          0
         ],
         "yaxis": "y"
        },
        {
         "customdata": [
          [
           "taz"
          ],
          [
           "Süddeutsche Zeitung"
          ],
          [
           "stern TV"
          ],
          [
           "DER SPIEGEL"
          ]
         ],
         "hovertemplate": "color=left leaning<br>x=%{x}<br>y=%{y}<br>hover_data_0=%{customdata[0]}<extra></extra>",
         "legendgroup": "left leaning",
         "marker": {
          "color": "rgb(50.0, 0.0, 170.0)",
          "symbol": "circle"
         },
         "mode": "markers",
         "name": "left leaning",
         "orientation": "v",
         "showlegend": true,
         "type": "scatter",
         "x": [
          0.20124771964717908,
          0.08220220665631507,
          -0.3345375175659182,
          0.06929779329642967
         ],
         "xaxis": "x",
         "y": [
          0,
          0,
          0,
          0
         ],
         "yaxis": "y"
        },
        {
         "customdata": [
          [
           "Der Tagesspiegel"
          ],
          [
           "ARD"
          ],
          [
           "ZDF"
          ],
          [
           "ZDFheute Nachrichten"
          ],
          [
           "Bayerischer Rundfunk"
          ],
          [
           "ntv Nachrichten"
          ],
          [
           "ZEIT ONLINE"
          ],
          [
           "faz"
          ],
          [
           "WELT"
          ]
         ],
         "hovertemplate": "color=center<br>x=%{x}<br>y=%{y}<br>hover_data_0=%{customdata[0]}<extra></extra>",
         "legendgroup": "center",
         "marker": {
          "color": "rgb(120.0, 120.0, 120.0)",
          "symbol": "circle"
         },
         "mode": "markers",
         "name": "center",
         "orientation": "v",
         "showlegend": true,
         "type": "scatter",
         "x": [
          -0.13830055341069936,
          -0.16472178969993131,
          -0.21839881093233404,
          -0.21830941177257598,
          0.030562749721705335,
          -0.038991320116440895,
          0.10443132995936398,
          0.14072125471283994,
          -0.40114427958770543
         ],
         "xaxis": "x",
         "y": [
          0,
          0,
          0,
          0,
          0,
          0,
          0,
          0,
          0
         ],
         "yaxis": "y"
        },
        {
         "customdata": [
          [
           "RTL"
          ],
          [
           "FOCUS Online"
          ],
          [
           "BILD"
          ],
          [
           "NZZ Neue Zürcher Zeitung"
          ]
         ],
         "hovertemplate": "color=right leaning<br>x=%{x}<br>y=%{y}<br>hover_data_0=%{customdata[0]}<extra></extra>",
         "legendgroup": "right leaning",
         "marker": {
          "color": "rgb(170.0, 0.0, 50.0)",
          "symbol": "circle"
         },
         "mode": "markers",
         "name": "right leaning",
         "orientation": "v",
         "showlegend": true,
         "type": "scatter",
         "x": [
          -0.03624563616829601,
          -0.05420806919956951,
          -0.23090734203501465,
          0.21174118913169201
         ],
         "xaxis": "x",
         "y": [
          0,
          0,
          0,
          0
         ],
         "yaxis": "y"
        },
        {
         "customdata": [
          [
           "Junge Freiheit"
          ],
          [
           "COMPACTTV"
          ]
         ],
         "hovertemplate": "color=right<br>x=%{x}<br>y=%{y}<br>hover_data_0=%{customdata[0]}<extra></extra>",
         "legendgroup": "right",
         "marker": {
          "color": "rgb(255.0, 20.0, 20.0)",
          "symbol": "circle"
         },
         "mode": "markers",
         "name": "right",
         "orientation": "v",
         "showlegend": true,
         "type": "scatter",
         "x": [
          0.3561239712371444,
          0.34070325053417716
         ],
         "xaxis": "x",
         "y": [
          0,
          0
         ],
         "yaxis": "y"
        }
       ],
       "layout": {
        "legend": {
         "title": {
          "text": "color"
         },
         "tracegroupgap": 0
        },
        "template": {
         "data": {
          "bar": [
           {
            "error_x": {
             "color": "#2a3f5f"
            },
            "error_y": {
             "color": "#2a3f5f"
            },
            "marker": {
             "line": {
              "color": "#E5ECF6",
              "width": 0.5
             },
             "pattern": {
              "fillmode": "overlay",
              "size": 10,
              "solidity": 0.2
             }
            },
            "type": "bar"
           }
          ],
          "barpolar": [
           {
            "marker": {
             "line": {
              "color": "#E5ECF6",
              "width": 0.5
             },
             "pattern": {
              "fillmode": "overlay",
              "size": 10,
              "solidity": 0.2
             }
            },
            "type": "barpolar"
           }
          ],
          "carpet": [
           {
            "aaxis": {
             "endlinecolor": "#2a3f5f",
             "gridcolor": "white",
             "linecolor": "white",
             "minorgridcolor": "white",
             "startlinecolor": "#2a3f5f"
            },
            "baxis": {
             "endlinecolor": "#2a3f5f",
             "gridcolor": "white",
             "linecolor": "white",
             "minorgridcolor": "white",
             "startlinecolor": "#2a3f5f"
            },
            "type": "carpet"
           }
          ],
          "choropleth": [
           {
            "colorbar": {
             "outlinewidth": 0,
             "ticks": ""
            },
            "type": "choropleth"
           }
          ],
          "contour": [
           {
            "colorbar": {
             "outlinewidth": 0,
             "ticks": ""
            },
            "colorscale": [
             [
              0,
              "#0d0887"
             ],
             [
              0.1111111111111111,
              "#46039f"
             ],
             [
              0.2222222222222222,
              "#7201a8"
             ],
             [
              0.3333333333333333,
              "#9c179e"
             ],
             [
              0.4444444444444444,
              "#bd3786"
             ],
             [
              0.5555555555555556,
              "#d8576b"
             ],
             [
              0.6666666666666666,
              "#ed7953"
             ],
             [
              0.7777777777777778,
              "#fb9f3a"
             ],
             [
              0.8888888888888888,
              "#fdca26"
             ],
             [
              1,
              "#f0f921"
             ]
            ],
            "type": "contour"
           }
          ],
          "contourcarpet": [
           {
            "colorbar": {
             "outlinewidth": 0,
             "ticks": ""
            },
            "type": "contourcarpet"
           }
          ],
          "heatmap": [
           {
            "colorbar": {
             "outlinewidth": 0,
             "ticks": ""
            },
            "colorscale": [
             [
              0,
              "#0d0887"
             ],
             [
              0.1111111111111111,
              "#46039f"
             ],
             [
              0.2222222222222222,
              "#7201a8"
             ],
             [
              0.3333333333333333,
              "#9c179e"
             ],
             [
              0.4444444444444444,
              "#bd3786"
             ],
             [
              0.5555555555555556,
              "#d8576b"
             ],
             [
              0.6666666666666666,
              "#ed7953"
             ],
             [
              0.7777777777777778,
              "#fb9f3a"
             ],
             [
              0.8888888888888888,
              "#fdca26"
             ],
             [
              1,
              "#f0f921"
             ]
            ],
            "type": "heatmap"
           }
          ],
          "heatmapgl": [
           {
            "colorbar": {
             "outlinewidth": 0,
             "ticks": ""
            },
            "colorscale": [
             [
              0,
              "#0d0887"
             ],
             [
              0.1111111111111111,
              "#46039f"
             ],
             [
              0.2222222222222222,
              "#7201a8"
             ],
             [
              0.3333333333333333,
              "#9c179e"
             ],
             [
              0.4444444444444444,
              "#bd3786"
             ],
             [
              0.5555555555555556,
              "#d8576b"
             ],
             [
              0.6666666666666666,
              "#ed7953"
             ],
             [
              0.7777777777777778,
              "#fb9f3a"
             ],
             [
              0.8888888888888888,
              "#fdca26"
             ],
             [
              1,
              "#f0f921"
             ]
            ],
            "type": "heatmapgl"
           }
          ],
          "histogram": [
           {
            "marker": {
             "pattern": {
              "fillmode": "overlay",
              "size": 10,
              "solidity": 0.2
             }
            },
            "type": "histogram"
           }
          ],
          "histogram2d": [
           {
            "colorbar": {
             "outlinewidth": 0,
             "ticks": ""
            },
            "colorscale": [
             [
              0,
              "#0d0887"
             ],
             [
              0.1111111111111111,
              "#46039f"
             ],
             [
              0.2222222222222222,
              "#7201a8"
             ],
             [
              0.3333333333333333,
              "#9c179e"
             ],
             [
              0.4444444444444444,
              "#bd3786"
             ],
             [
              0.5555555555555556,
              "#d8576b"
             ],
             [
              0.6666666666666666,
              "#ed7953"
             ],
             [
              0.7777777777777778,
              "#fb9f3a"
             ],
             [
              0.8888888888888888,
              "#fdca26"
             ],
             [
              1,
              "#f0f921"
             ]
            ],
            "type": "histogram2d"
           }
          ],
          "histogram2dcontour": [
           {
            "colorbar": {
             "outlinewidth": 0,
             "ticks": ""
            },
            "colorscale": [
             [
              0,
              "#0d0887"
             ],
             [
              0.1111111111111111,
              "#46039f"
             ],
             [
              0.2222222222222222,
              "#7201a8"
             ],
             [
              0.3333333333333333,
              "#9c179e"
             ],
             [
              0.4444444444444444,
              "#bd3786"
             ],
             [
              0.5555555555555556,
              "#d8576b"
             ],
             [
              0.6666666666666666,
              "#ed7953"
             ],
             [
              0.7777777777777778,
              "#fb9f3a"
             ],
             [
              0.8888888888888888,
              "#fdca26"
             ],
             [
              1,
              "#f0f921"
             ]
            ],
            "type": "histogram2dcontour"
           }
          ],
          "mesh3d": [
           {
            "colorbar": {
             "outlinewidth": 0,
             "ticks": ""
            },
            "type": "mesh3d"
           }
          ],
          "parcoords": [
           {
            "line": {
             "colorbar": {
              "outlinewidth": 0,
              "ticks": ""
             }
            },
            "type": "parcoords"
           }
          ],
          "pie": [
           {
            "automargin": true,
            "type": "pie"
           }
          ],
          "scatter": [
           {
            "marker": {
             "colorbar": {
              "outlinewidth": 0,
              "ticks": ""
             }
            },
            "type": "scatter"
           }
          ],
          "scatter3d": [
           {
            "line": {
             "colorbar": {
              "outlinewidth": 0,
              "ticks": ""
             }
            },
            "marker": {
             "colorbar": {
              "outlinewidth": 0,
              "ticks": ""
             }
            },
            "type": "scatter3d"
           }
          ],
          "scattercarpet": [
           {
            "marker": {
             "colorbar": {
              "outlinewidth": 0,
              "ticks": ""
             }
            },
            "type": "scattercarpet"
           }
          ],
          "scattergeo": [
           {
            "marker": {
             "colorbar": {
              "outlinewidth": 0,
              "ticks": ""
             }
            },
            "type": "scattergeo"
           }
          ],
          "scattergl": [
           {
            "marker": {
             "colorbar": {
              "outlinewidth": 0,
              "ticks": ""
             }
            },
            "type": "scattergl"
           }
          ],
          "scattermapbox": [
           {
            "marker": {
             "colorbar": {
              "outlinewidth": 0,
              "ticks": ""
             }
            },
            "type": "scattermapbox"
           }
          ],
          "scatterpolar": [
           {
            "marker": {
             "colorbar": {
              "outlinewidth": 0,
              "ticks": ""
             }
            },
            "type": "scatterpolar"
           }
          ],
          "scatterpolargl": [
           {
            "marker": {
             "colorbar": {
              "outlinewidth": 0,
              "ticks": ""
             }
            },
            "type": "scatterpolargl"
           }
          ],
          "scatterternary": [
           {
            "marker": {
             "colorbar": {
              "outlinewidth": 0,
              "ticks": ""
             }
            },
            "type": "scatterternary"
           }
          ],
          "surface": [
           {
            "colorbar": {
             "outlinewidth": 0,
             "ticks": ""
            },
            "colorscale": [
             [
              0,
              "#0d0887"
             ],
             [
              0.1111111111111111,
              "#46039f"
             ],
             [
              0.2222222222222222,
              "#7201a8"
             ],
             [
              0.3333333333333333,
              "#9c179e"
             ],
             [
              0.4444444444444444,
              "#bd3786"
             ],
             [
              0.5555555555555556,
              "#d8576b"
             ],
             [
              0.6666666666666666,
              "#ed7953"
             ],
             [
              0.7777777777777778,
              "#fb9f3a"
             ],
             [
              0.8888888888888888,
              "#fdca26"
             ],
             [
              1,
              "#f0f921"
             ]
            ],
            "type": "surface"
           }
          ],
          "table": [
           {
            "cells": {
             "fill": {
              "color": "#EBF0F8"
             },
             "line": {
              "color": "white"
             }
            },
            "header": {
             "fill": {
              "color": "#C8D4E3"
             },
             "line": {
              "color": "white"
             }
            },
            "type": "table"
           }
          ]
         },
         "layout": {
          "annotationdefaults": {
           "arrowcolor": "#2a3f5f",
           "arrowhead": 0,
           "arrowwidth": 1
          },
          "autotypenumbers": "strict",
          "coloraxis": {
           "colorbar": {
            "outlinewidth": 0,
            "ticks": ""
           }
          },
          "colorscale": {
           "diverging": [
            [
             0,
             "#8e0152"
            ],
            [
             0.1,
             "#c51b7d"
            ],
            [
             0.2,
             "#de77ae"
            ],
            [
             0.3,
             "#f1b6da"
            ],
            [
             0.4,
             "#fde0ef"
            ],
            [
             0.5,
             "#f7f7f7"
            ],
            [
             0.6,
             "#e6f5d0"
            ],
            [
             0.7,
             "#b8e186"
            ],
            [
             0.8,
             "#7fbc41"
            ],
            [
             0.9,
             "#4d9221"
            ],
            [
             1,
             "#276419"
            ]
           ],
           "sequential": [
            [
             0,
             "#0d0887"
            ],
            [
             0.1111111111111111,
             "#46039f"
            ],
            [
             0.2222222222222222,
             "#7201a8"
            ],
            [
             0.3333333333333333,
             "#9c179e"
            ],
            [
             0.4444444444444444,
             "#bd3786"
            ],
            [
             0.5555555555555556,
             "#d8576b"
            ],
            [
             0.6666666666666666,
             "#ed7953"
            ],
            [
             0.7777777777777778,
             "#fb9f3a"
            ],
            [
             0.8888888888888888,
             "#fdca26"
            ],
            [
             1,
             "#f0f921"
            ]
           ],
           "sequentialminus": [
            [
             0,
             "#0d0887"
            ],
            [
             0.1111111111111111,
             "#46039f"
            ],
            [
             0.2222222222222222,
             "#7201a8"
            ],
            [
             0.3333333333333333,
             "#9c179e"
            ],
            [
             0.4444444444444444,
             "#bd3786"
            ],
            [
             0.5555555555555556,
             "#d8576b"
            ],
            [
             0.6666666666666666,
             "#ed7953"
            ],
            [
             0.7777777777777778,
             "#fb9f3a"
            ],
            [
             0.8888888888888888,
             "#fdca26"
            ],
            [
             1,
             "#f0f921"
            ]
           ]
          },
          "colorway": [
           "#636efa",
           "#EF553B",
           "#00cc96",
           "#ab63fa",
           "#FFA15A",
           "#19d3f3",
           "#FF6692",
           "#B6E880",
           "#FF97FF",
           "#FECB52"
          ],
          "font": {
           "color": "#2a3f5f"
          },
          "geo": {
           "bgcolor": "white",
           "lakecolor": "white",
           "landcolor": "#E5ECF6",
           "showlakes": true,
           "showland": true,
           "subunitcolor": "white"
          },
          "hoverlabel": {
           "align": "left"
          },
          "hovermode": "closest",
          "mapbox": {
           "style": "light"
          },
          "paper_bgcolor": "white",
          "plot_bgcolor": "#E5ECF6",
          "polar": {
           "angularaxis": {
            "gridcolor": "white",
            "linecolor": "white",
            "ticks": ""
           },
           "bgcolor": "#E5ECF6",
           "radialaxis": {
            "gridcolor": "white",
            "linecolor": "white",
            "ticks": ""
           }
          },
          "scene": {
           "xaxis": {
            "backgroundcolor": "#E5ECF6",
            "gridcolor": "white",
            "gridwidth": 2,
            "linecolor": "white",
            "showbackground": true,
            "ticks": "",
            "zerolinecolor": "white"
           },
           "yaxis": {
            "backgroundcolor": "#E5ECF6",
            "gridcolor": "white",
            "gridwidth": 2,
            "linecolor": "white",
            "showbackground": true,
            "ticks": "",
            "zerolinecolor": "white"
           },
           "zaxis": {
            "backgroundcolor": "#E5ECF6",
            "gridcolor": "white",
            "gridwidth": 2,
            "linecolor": "white",
            "showbackground": true,
            "ticks": "",
            "zerolinecolor": "white"
           }
          },
          "shapedefaults": {
           "line": {
            "color": "#2a3f5f"
           }
          },
          "ternary": {
           "aaxis": {
            "gridcolor": "white",
            "linecolor": "white",
            "ticks": ""
           },
           "baxis": {
            "gridcolor": "white",
            "linecolor": "white",
            "ticks": ""
           },
           "bgcolor": "#E5ECF6",
           "caxis": {
            "gridcolor": "white",
            "linecolor": "white",
            "ticks": ""
           }
          },
          "title": {
           "x": 0.05
          },
          "xaxis": {
           "automargin": true,
           "gridcolor": "white",
           "linecolor": "white",
           "ticks": "",
           "title": {
            "standoff": 15
           },
           "zerolinecolor": "white",
           "zerolinewidth": 2
          },
          "yaxis": {
           "automargin": true,
           "gridcolor": "white",
           "linecolor": "white",
           "ticks": "",
           "title": {
            "standoff": 15
           },
           "zerolinecolor": "white",
           "zerolinewidth": 2
          }
         }
        },
        "title": {
         "text": "Topic: '7_flüchtlinge_menschen_ukraine_grenze', 1. Principal Component"
        },
        "xaxis": {
         "anchor": "y",
         "domain": [
          0,
          1
         ],
         "title": {
          "text": "x"
         }
        },
        "yaxis": {
         "anchor": "x",
         "domain": [
          0,
          1
         ],
         "title": {
          "text": "y"
         }
        }
       }
      }
     },
     "metadata": {},
     "output_type": "display_data"
    },
    {
     "data": {
      "application/vnd.plotly.v1+json": {
       "config": {
        "plotlyServerURL": "https://plot.ly"
       },
       "data": [
        {
         "customdata": [
          [
           "junge Welt"
          ],
          [
           "NachDenkSeiten"
          ]
         ],
         "hovertemplate": "color=left<br>x=%{x}<br>y=%{y}<br>hover_data_0=%{customdata[0]}<extra></extra>",
         "legendgroup": "left",
         "marker": {
          "color": "rgb(20.0, 20.0, 255.0)",
          "symbol": "circle"
         },
         "mode": "markers",
         "name": "left",
         "orientation": "v",
         "showlegend": true,
         "type": "scatter",
         "x": [
          0.6807652604946692,
          -0.04599007098576985
         ],
         "xaxis": "x",
         "y": [
          0,
          0
         ],
         "yaxis": "y"
        },
        {
         "customdata": [
          [
           "taz"
          ],
          [
           "Süddeutsche Zeitung"
          ],
          [
           "stern TV"
          ],
          [
           "DER SPIEGEL"
          ]
         ],
         "hovertemplate": "color=left leaning<br>x=%{x}<br>y=%{y}<br>hover_data_0=%{customdata[0]}<extra></extra>",
         "legendgroup": "left leaning",
         "marker": {
          "color": "rgb(50.0, 0.0, 170.0)",
          "symbol": "circle"
         },
         "mode": "markers",
         "name": "left leaning",
         "orientation": "v",
         "showlegend": true,
         "type": "scatter",
         "x": [
          -0.027123299042761752,
          -0.1988580380400178,
          -0.06152930684858816,
          0.016993366086143016
         ],
         "xaxis": "x",
         "y": [
          0,
          0,
          0,
          0
         ],
         "yaxis": "y"
        },
        {
         "customdata": [
          [
           "Der Tagesspiegel"
          ],
          [
           "ARD"
          ],
          [
           "ZDF"
          ],
          [
           "ZDFheute Nachrichten"
          ],
          [
           "Bayerischer Rundfunk"
          ],
          [
           "ntv Nachrichten"
          ],
          [
           "ZEIT ONLINE"
          ],
          [
           "faz"
          ],
          [
           "WELT"
          ]
         ],
         "hovertemplate": "color=center<br>x=%{x}<br>y=%{y}<br>hover_data_0=%{customdata[0]}<extra></extra>",
         "legendgroup": "center",
         "marker": {
          "color": "rgb(120.0, 120.0, 120.0)",
          "symbol": "circle"
         },
         "mode": "markers",
         "name": "center",
         "orientation": "v",
         "showlegend": true,
         "type": "scatter",
         "x": [
          0.5043486336260096,
          0.41657945921473344,
          -0.09414000076188658,
          -0.0580943041537696,
          -0.003481902728133884,
          -0.02892612587860737,
          -0.05380797359339882,
          0.06146199824904917,
          -0.023867740605528445
         ],
         "xaxis": "x",
         "y": [
          0,
          0,
          0,
          0,
          0,
          0,
          0,
          0,
          0
         ],
         "yaxis": "y"
        },
        {
         "customdata": [
          [
           "RTL"
          ],
          [
           "FOCUS Online"
          ],
          [
           "BILD"
          ],
          [
           "NZZ Neue Zürcher Zeitung"
          ]
         ],
         "hovertemplate": "color=right leaning<br>x=%{x}<br>y=%{y}<br>hover_data_0=%{customdata[0]}<extra></extra>",
         "legendgroup": "right leaning",
         "marker": {
          "color": "rgb(170.0, 0.0, 50.0)",
          "symbol": "circle"
         },
         "mode": "markers",
         "name": "right leaning",
         "orientation": "v",
         "showlegend": true,
         "type": "scatter",
         "x": [
          0.029608763928312323,
          -0.11215130873527489,
          -0.09887210871126956,
          -0.07513665088353114
         ],
         "xaxis": "x",
         "y": [
          0,
          0,
          0,
          0
         ],
         "yaxis": "y"
        },
        {
         "customdata": [
          [
           "Junge Freiheit"
          ],
          [
           "COMPACTTV"
          ]
         ],
         "hovertemplate": "color=right<br>x=%{x}<br>y=%{y}<br>hover_data_0=%{customdata[0]}<extra></extra>",
         "legendgroup": "right",
         "marker": {
          "color": "rgb(255.0, 20.0, 20.0)",
          "symbol": "circle"
         },
         "mode": "markers",
         "name": "right",
         "orientation": "v",
         "showlegend": true,
         "type": "scatter",
         "x": [
          -0.06481436309098013,
          -0.09368765788288304
         ],
         "xaxis": "x",
         "y": [
          0,
          0
         ],
         "yaxis": "y"
        }
       ],
       "layout": {
        "legend": {
         "title": {
          "text": "color"
         },
         "tracegroupgap": 0
        },
        "template": {
         "data": {
          "bar": [
           {
            "error_x": {
             "color": "#2a3f5f"
            },
            "error_y": {
             "color": "#2a3f5f"
            },
            "marker": {
             "line": {
              "color": "#E5ECF6",
              "width": 0.5
             },
             "pattern": {
              "fillmode": "overlay",
              "size": 10,
              "solidity": 0.2
             }
            },
            "type": "bar"
           }
          ],
          "barpolar": [
           {
            "marker": {
             "line": {
              "color": "#E5ECF6",
              "width": 0.5
             },
             "pattern": {
              "fillmode": "overlay",
              "size": 10,
              "solidity": 0.2
             }
            },
            "type": "barpolar"
           }
          ],
          "carpet": [
           {
            "aaxis": {
             "endlinecolor": "#2a3f5f",
             "gridcolor": "white",
             "linecolor": "white",
             "minorgridcolor": "white",
             "startlinecolor": "#2a3f5f"
            },
            "baxis": {
             "endlinecolor": "#2a3f5f",
             "gridcolor": "white",
             "linecolor": "white",
             "minorgridcolor": "white",
             "startlinecolor": "#2a3f5f"
            },
            "type": "carpet"
           }
          ],
          "choropleth": [
           {
            "colorbar": {
             "outlinewidth": 0,
             "ticks": ""
            },
            "type": "choropleth"
           }
          ],
          "contour": [
           {
            "colorbar": {
             "outlinewidth": 0,
             "ticks": ""
            },
            "colorscale": [
             [
              0,
              "#0d0887"
             ],
             [
              0.1111111111111111,
              "#46039f"
             ],
             [
              0.2222222222222222,
              "#7201a8"
             ],
             [
              0.3333333333333333,
              "#9c179e"
             ],
             [
              0.4444444444444444,
              "#bd3786"
             ],
             [
              0.5555555555555556,
              "#d8576b"
             ],
             [
              0.6666666666666666,
              "#ed7953"
             ],
             [
              0.7777777777777778,
              "#fb9f3a"
             ],
             [
              0.8888888888888888,
              "#fdca26"
             ],
             [
              1,
              "#f0f921"
             ]
            ],
            "type": "contour"
           }
          ],
          "contourcarpet": [
           {
            "colorbar": {
             "outlinewidth": 0,
             "ticks": ""
            },
            "type": "contourcarpet"
           }
          ],
          "heatmap": [
           {
            "colorbar": {
             "outlinewidth": 0,
             "ticks": ""
            },
            "colorscale": [
             [
              0,
              "#0d0887"
             ],
             [
              0.1111111111111111,
              "#46039f"
             ],
             [
              0.2222222222222222,
              "#7201a8"
             ],
             [
              0.3333333333333333,
              "#9c179e"
             ],
             [
              0.4444444444444444,
              "#bd3786"
             ],
             [
              0.5555555555555556,
              "#d8576b"
             ],
             [
              0.6666666666666666,
              "#ed7953"
             ],
             [
              0.7777777777777778,
              "#fb9f3a"
             ],
             [
              0.8888888888888888,
              "#fdca26"
             ],
             [
              1,
              "#f0f921"
             ]
            ],
            "type": "heatmap"
           }
          ],
          "heatmapgl": [
           {
            "colorbar": {
             "outlinewidth": 0,
             "ticks": ""
            },
            "colorscale": [
             [
              0,
              "#0d0887"
             ],
             [
              0.1111111111111111,
              "#46039f"
             ],
             [
              0.2222222222222222,
              "#7201a8"
             ],
             [
              0.3333333333333333,
              "#9c179e"
             ],
             [
              0.4444444444444444,
              "#bd3786"
             ],
             [
              0.5555555555555556,
              "#d8576b"
             ],
             [
              0.6666666666666666,
              "#ed7953"
             ],
             [
              0.7777777777777778,
              "#fb9f3a"
             ],
             [
              0.8888888888888888,
              "#fdca26"
             ],
             [
              1,
              "#f0f921"
             ]
            ],
            "type": "heatmapgl"
           }
          ],
          "histogram": [
           {
            "marker": {
             "pattern": {
              "fillmode": "overlay",
              "size": 10,
              "solidity": 0.2
             }
            },
            "type": "histogram"
           }
          ],
          "histogram2d": [
           {
            "colorbar": {
             "outlinewidth": 0,
             "ticks": ""
            },
            "colorscale": [
             [
              0,
              "#0d0887"
             ],
             [
              0.1111111111111111,
              "#46039f"
             ],
             [
              0.2222222222222222,
              "#7201a8"
             ],
             [
              0.3333333333333333,
              "#9c179e"
             ],
             [
              0.4444444444444444,
              "#bd3786"
             ],
             [
              0.5555555555555556,
              "#d8576b"
             ],
             [
              0.6666666666666666,
              "#ed7953"
             ],
             [
              0.7777777777777778,
              "#fb9f3a"
             ],
             [
              0.8888888888888888,
              "#fdca26"
             ],
             [
              1,
              "#f0f921"
             ]
            ],
            "type": "histogram2d"
           }
          ],
          "histogram2dcontour": [
           {
            "colorbar": {
             "outlinewidth": 0,
             "ticks": ""
            },
            "colorscale": [
             [
              0,
              "#0d0887"
             ],
             [
              0.1111111111111111,
              "#46039f"
             ],
             [
              0.2222222222222222,
              "#7201a8"
             ],
             [
              0.3333333333333333,
              "#9c179e"
             ],
             [
              0.4444444444444444,
              "#bd3786"
             ],
             [
              0.5555555555555556,
              "#d8576b"
             ],
             [
              0.6666666666666666,
              "#ed7953"
             ],
             [
              0.7777777777777778,
              "#fb9f3a"
             ],
             [
              0.8888888888888888,
              "#fdca26"
             ],
             [
              1,
              "#f0f921"
             ]
            ],
            "type": "histogram2dcontour"
           }
          ],
          "mesh3d": [
           {
            "colorbar": {
             "outlinewidth": 0,
             "ticks": ""
            },
            "type": "mesh3d"
           }
          ],
          "parcoords": [
           {
            "line": {
             "colorbar": {
              "outlinewidth": 0,
              "ticks": ""
             }
            },
            "type": "parcoords"
           }
          ],
          "pie": [
           {
            "automargin": true,
            "type": "pie"
           }
          ],
          "scatter": [
           {
            "marker": {
             "colorbar": {
              "outlinewidth": 0,
              "ticks": ""
             }
            },
            "type": "scatter"
           }
          ],
          "scatter3d": [
           {
            "line": {
             "colorbar": {
              "outlinewidth": 0,
              "ticks": ""
             }
            },
            "marker": {
             "colorbar": {
              "outlinewidth": 0,
              "ticks": ""
             }
            },
            "type": "scatter3d"
           }
          ],
          "scattercarpet": [
           {
            "marker": {
             "colorbar": {
              "outlinewidth": 0,
              "ticks": ""
             }
            },
            "type": "scattercarpet"
           }
          ],
          "scattergeo": [
           {
            "marker": {
             "colorbar": {
              "outlinewidth": 0,
              "ticks": ""
             }
            },
            "type": "scattergeo"
           }
          ],
          "scattergl": [
           {
            "marker": {
             "colorbar": {
              "outlinewidth": 0,
              "ticks": ""
             }
            },
            "type": "scattergl"
           }
          ],
          "scattermapbox": [
           {
            "marker": {
             "colorbar": {
              "outlinewidth": 0,
              "ticks": ""
             }
            },
            "type": "scattermapbox"
           }
          ],
          "scatterpolar": [
           {
            "marker": {
             "colorbar": {
              "outlinewidth": 0,
              "ticks": ""
             }
            },
            "type": "scatterpolar"
           }
          ],
          "scatterpolargl": [
           {
            "marker": {
             "colorbar": {
              "outlinewidth": 0,
              "ticks": ""
             }
            },
            "type": "scatterpolargl"
           }
          ],
          "scatterternary": [
           {
            "marker": {
             "colorbar": {
              "outlinewidth": 0,
              "ticks": ""
             }
            },
            "type": "scatterternary"
           }
          ],
          "surface": [
           {
            "colorbar": {
             "outlinewidth": 0,
             "ticks": ""
            },
            "colorscale": [
             [
              0,
              "#0d0887"
             ],
             [
              0.1111111111111111,
              "#46039f"
             ],
             [
              0.2222222222222222,
              "#7201a8"
             ],
             [
              0.3333333333333333,
              "#9c179e"
             ],
             [
              0.4444444444444444,
              "#bd3786"
             ],
             [
              0.5555555555555556,
              "#d8576b"
             ],
             [
              0.6666666666666666,
              "#ed7953"
             ],
             [
              0.7777777777777778,
              "#fb9f3a"
             ],
             [
              0.8888888888888888,
              "#fdca26"
             ],
             [
              1,
              "#f0f921"
             ]
            ],
            "type": "surface"
           }
          ],
          "table": [
           {
            "cells": {
             "fill": {
              "color": "#EBF0F8"
             },
             "line": {
              "color": "white"
             }
            },
            "header": {
             "fill": {
              "color": "#C8D4E3"
             },
             "line": {
              "color": "white"
             }
            },
            "type": "table"
           }
          ]
         },
         "layout": {
          "annotationdefaults": {
           "arrowcolor": "#2a3f5f",
           "arrowhead": 0,
           "arrowwidth": 1
          },
          "autotypenumbers": "strict",
          "coloraxis": {
           "colorbar": {
            "outlinewidth": 0,
            "ticks": ""
           }
          },
          "colorscale": {
           "diverging": [
            [
             0,
             "#8e0152"
            ],
            [
             0.1,
             "#c51b7d"
            ],
            [
             0.2,
             "#de77ae"
            ],
            [
             0.3,
             "#f1b6da"
            ],
            [
             0.4,
             "#fde0ef"
            ],
            [
             0.5,
             "#f7f7f7"
            ],
            [
             0.6,
             "#e6f5d0"
            ],
            [
             0.7,
             "#b8e186"
            ],
            [
             0.8,
             "#7fbc41"
            ],
            [
             0.9,
             "#4d9221"
            ],
            [
             1,
             "#276419"
            ]
           ],
           "sequential": [
            [
             0,
             "#0d0887"
            ],
            [
             0.1111111111111111,
             "#46039f"
            ],
            [
             0.2222222222222222,
             "#7201a8"
            ],
            [
             0.3333333333333333,
             "#9c179e"
            ],
            [
             0.4444444444444444,
             "#bd3786"
            ],
            [
             0.5555555555555556,
             "#d8576b"
            ],
            [
             0.6666666666666666,
             "#ed7953"
            ],
            [
             0.7777777777777778,
             "#fb9f3a"
            ],
            [
             0.8888888888888888,
             "#fdca26"
            ],
            [
             1,
             "#f0f921"
            ]
           ],
           "sequentialminus": [
            [
             0,
             "#0d0887"
            ],
            [
             0.1111111111111111,
             "#46039f"
            ],
            [
             0.2222222222222222,
             "#7201a8"
            ],
            [
             0.3333333333333333,
             "#9c179e"
            ],
            [
             0.4444444444444444,
             "#bd3786"
            ],
            [
             0.5555555555555556,
             "#d8576b"
            ],
            [
             0.6666666666666666,
             "#ed7953"
            ],
            [
             0.7777777777777778,
             "#fb9f3a"
            ],
            [
             0.8888888888888888,
             "#fdca26"
            ],
            [
             1,
             "#f0f921"
            ]
           ]
          },
          "colorway": [
           "#636efa",
           "#EF553B",
           "#00cc96",
           "#ab63fa",
           "#FFA15A",
           "#19d3f3",
           "#FF6692",
           "#B6E880",
           "#FF97FF",
           "#FECB52"
          ],
          "font": {
           "color": "#2a3f5f"
          },
          "geo": {
           "bgcolor": "white",
           "lakecolor": "white",
           "landcolor": "#E5ECF6",
           "showlakes": true,
           "showland": true,
           "subunitcolor": "white"
          },
          "hoverlabel": {
           "align": "left"
          },
          "hovermode": "closest",
          "mapbox": {
           "style": "light"
          },
          "paper_bgcolor": "white",
          "plot_bgcolor": "#E5ECF6",
          "polar": {
           "angularaxis": {
            "gridcolor": "white",
            "linecolor": "white",
            "ticks": ""
           },
           "bgcolor": "#E5ECF6",
           "radialaxis": {
            "gridcolor": "white",
            "linecolor": "white",
            "ticks": ""
           }
          },
          "scene": {
           "xaxis": {
            "backgroundcolor": "#E5ECF6",
            "gridcolor": "white",
            "gridwidth": 2,
            "linecolor": "white",
            "showbackground": true,
            "ticks": "",
            "zerolinecolor": "white"
           },
           "yaxis": {
            "backgroundcolor": "#E5ECF6",
            "gridcolor": "white",
            "gridwidth": 2,
            "linecolor": "white",
            "showbackground": true,
            "ticks": "",
            "zerolinecolor": "white"
           },
           "zaxis": {
            "backgroundcolor": "#E5ECF6",
            "gridcolor": "white",
            "gridwidth": 2,
            "linecolor": "white",
            "showbackground": true,
            "ticks": "",
            "zerolinecolor": "white"
           }
          },
          "shapedefaults": {
           "line": {
            "color": "#2a3f5f"
           }
          },
          "ternary": {
           "aaxis": {
            "gridcolor": "white",
            "linecolor": "white",
            "ticks": ""
           },
           "baxis": {
            "gridcolor": "white",
            "linecolor": "white",
            "ticks": ""
           },
           "bgcolor": "#E5ECF6",
           "caxis": {
            "gridcolor": "white",
            "linecolor": "white",
            "ticks": ""
           }
          },
          "title": {
           "x": 0.05
          },
          "xaxis": {
           "automargin": true,
           "gridcolor": "white",
           "linecolor": "white",
           "ticks": "",
           "title": {
            "standoff": 15
           },
           "zerolinecolor": "white",
           "zerolinewidth": 2
          },
          "yaxis": {
           "automargin": true,
           "gridcolor": "white",
           "linecolor": "white",
           "ticks": "",
           "title": {
            "standoff": 15
           },
           "zerolinecolor": "white",
           "zerolinewidth": 2
          }
         }
        },
        "title": {
         "text": "Topic: '7_flüchtlinge_menschen_ukraine_grenze', 2. Principal Component"
        },
        "xaxis": {
         "anchor": "y",
         "domain": [
          0,
          1
         ],
         "title": {
          "text": "x"
         }
        },
        "yaxis": {
         "anchor": "x",
         "domain": [
          0,
          1
         ],
         "title": {
          "text": "y"
         }
        }
       }
      }
     },
     "metadata": {},
     "output_type": "display_data"
    }
   ],
   "source": [
    "import plotly.express as px\n",
    "#import matplotlib.pyplot as plt\n",
    "%matplotlib inline\n",
    "\n",
    "color_palette = [\n",
    "    'rgb(20.0, 20.0, 255.0)',\n",
    "    'rgb(50.0, 0.0, 170.0)',\n",
    "    'rgb(120.0, 120.0, 120.0)',\n",
    "    'rgb(170.0, 0.0, 50.0)',\n",
    "    'rgb(255.0, 20.0, 20.0)'\n",
    "]\n",
    "\n",
    "n_components=3\n",
    "scale = True\n",
    "\n",
    "scaler = StandardScaler()\n",
    "model = TruncatedSVD(n_components=n_components)\n",
    "#model = PCA(n_components=n_components)\n",
    "\n",
    "if scale:\n",
    "    N_scaled = scaler.fit_transform(N.values)\n",
    "    N_df_trunc = model.fit_transform(N_scaled)\n",
    "else:\n",
    "    N_df_trunc = model.fit_transform(N.values)\n",
    "\n",
    "for n in range(n_components):\n",
    "    fig = px.scatter(\n",
    "        x=model.components_[n], \n",
    "        y=[0.0 for test in model.components_[n]], \n",
    "        color=[political_spectrum_dict[medium] for medium in N.columns.to_list()],\n",
    "        color_discrete_sequence=color_palette,\n",
    "        hover_data=[N.columns.to_list()], \n",
    "        title=f'Topic: \\'{topic}\\', {n}. Principal Component',\n",
    "        )\n",
    "    fig.show()"
   ]
  },
  {
   "cell_type": "code",
   "execution_count": 263,
   "metadata": {},
   "outputs": [
    {
     "name": "stdout",
     "output_type": "stream",
     "text": [
      "principal component: 0, most negative phrases: ['besonderes', 'strömen', 'militärischen', 'militärische', 'illegale einwanderer']\n",
      "principal component: 0, most positive phrases: ['migranten', 'polen', 'helfen', 'deutschen', 'frauen']\n",
      "principal component: 1, most negative phrases: ['polen', 'helfen', 'ukrainischen', 'kiew', 'kindern']\n",
      "principal component: 1, most positive phrases: ['migranten', 'merkel', 'migrations', 'medien', 'prozent']\n",
      "principal component: 2, most negative phrases: ['prozent', 'migrationshintergrund', 'merkel', 'männer', 'moment']\n",
      "principal component: 2, most positive phrases: ['libyen', 'menschen ukraine', 'reduzieren', 'koalitionsvertrag', 'küstenwache']\n"
     ]
    }
   ],
   "source": [
    "n_phrases = 5\n",
    "for axis in range(n_components):\n",
    "    ind_neg = np.argsort(N_df_trunc[:,axis])[:n_phrases]\n",
    "    ind_pos = np.argsort(N_df_trunc[:,axis])[-n_phrases:]\n",
    "    list_neg = N.index[ind_neg].to_list()\n",
    "    list_pos = N.index[ind_pos].to_list()\n",
    "    list_pos.reverse()\n",
    "    print(f'principal component: {axis}, most negative phrases: {list_neg}')\n",
    "    print(f'principal component: {axis}, most positive phrases: {list_pos}')"
   ]
  },
  {
   "cell_type": "code",
   "execution_count": 264,
   "metadata": {},
   "outputs": [
    {
     "data": {
      "application/vnd.plotly.v1+json": {
       "config": {
        "plotlyServerURL": "https://plot.ly"
       },
       "data": [
        {
         "customdata": [
          [
           "junge Welt"
          ],
          [
           "NachDenkSeiten"
          ]
         ],
         "hovertemplate": "color=left<br>1. Principal Component=%{x}<br>2. Principal Component=%{y}<br>hover_data_0=%{customdata[0]}<extra></extra>",
         "legendgroup": "left",
         "marker": {
          "color": "rgb(20.0, 20.0, 255.0)",
          "symbol": "circle"
         },
         "mode": "markers",
         "name": "left",
         "orientation": "v",
         "showlegend": true,
         "type": "scatter",
         "x": [
          0.21981732797534065,
          0.32665014409198734
         ],
         "xaxis": "x",
         "y": [
          0.6807652604946692,
          -0.04599007098576985
         ],
         "yaxis": "y"
        },
        {
         "customdata": [
          [
           "taz"
          ],
          [
           "Süddeutsche Zeitung"
          ],
          [
           "stern TV"
          ],
          [
           "DER SPIEGEL"
          ]
         ],
         "hovertemplate": "color=left leaning<br>1. Principal Component=%{x}<br>2. Principal Component=%{y}<br>hover_data_0=%{customdata[0]}<extra></extra>",
         "legendgroup": "left leaning",
         "marker": {
          "color": "rgb(50.0, 0.0, 170.0)",
          "symbol": "circle"
         },
         "mode": "markers",
         "name": "left leaning",
         "orientation": "v",
         "showlegend": true,
         "type": "scatter",
         "x": [
          0.20124771964717908,
          0.08220220665631507,
          -0.3345375175659182,
          0.06929779329642967
         ],
         "xaxis": "x",
         "y": [
          -0.027123299042761752,
          -0.1988580380400178,
          -0.06152930684858816,
          0.016993366086143016
         ],
         "yaxis": "y"
        },
        {
         "customdata": [
          [
           "Der Tagesspiegel"
          ],
          [
           "ARD"
          ],
          [
           "ZDF"
          ],
          [
           "ZDFheute Nachrichten"
          ],
          [
           "Bayerischer Rundfunk"
          ],
          [
           "ntv Nachrichten"
          ],
          [
           "ZEIT ONLINE"
          ],
          [
           "faz"
          ],
          [
           "WELT"
          ]
         ],
         "hovertemplate": "color=center<br>1. Principal Component=%{x}<br>2. Principal Component=%{y}<br>hover_data_0=%{customdata[0]}<extra></extra>",
         "legendgroup": "center",
         "marker": {
          "color": "rgb(120.0, 120.0, 120.0)",
          "symbol": "circle"
         },
         "mode": "markers",
         "name": "center",
         "orientation": "v",
         "showlegend": true,
         "type": "scatter",
         "x": [
          -0.13830055341069936,
          -0.16472178969993131,
          -0.21839881093233404,
          -0.21830941177257598,
          0.030562749721705335,
          -0.038991320116440895,
          0.10443132995936398,
          0.14072125471283994,
          -0.40114427958770543
         ],
         "xaxis": "x",
         "y": [
          0.5043486336260096,
          0.41657945921473344,
          -0.09414000076188658,
          -0.0580943041537696,
          -0.003481902728133884,
          -0.02892612587860737,
          -0.05380797359339882,
          0.06146199824904917,
          -0.023867740605528445
         ],
         "yaxis": "y"
        },
        {
         "customdata": [
          [
           "RTL"
          ],
          [
           "FOCUS Online"
          ],
          [
           "BILD"
          ],
          [
           "NZZ Neue Zürcher Zeitung"
          ]
         ],
         "hovertemplate": "color=right leaning<br>1. Principal Component=%{x}<br>2. Principal Component=%{y}<br>hover_data_0=%{customdata[0]}<extra></extra>",
         "legendgroup": "right leaning",
         "marker": {
          "color": "rgb(170.0, 0.0, 50.0)",
          "symbol": "circle"
         },
         "mode": "markers",
         "name": "right leaning",
         "orientation": "v",
         "showlegend": true,
         "type": "scatter",
         "x": [
          -0.03624563616829601,
          -0.05420806919956951,
          -0.23090734203501465,
          0.21174118913169201
         ],
         "xaxis": "x",
         "y": [
          0.029608763928312323,
          -0.11215130873527489,
          -0.09887210871126956,
          -0.07513665088353114
         ],
         "yaxis": "y"
        },
        {
         "customdata": [
          [
           "Junge Freiheit"
          ],
          [
           "COMPACTTV"
          ]
         ],
         "hovertemplate": "color=right<br>1. Principal Component=%{x}<br>2. Principal Component=%{y}<br>hover_data_0=%{customdata[0]}<extra></extra>",
         "legendgroup": "right",
         "marker": {
          "color": "rgb(255.0, 20.0, 20.0)",
          "symbol": "circle"
         },
         "mode": "markers",
         "name": "right",
         "orientation": "v",
         "showlegend": true,
         "type": "scatter",
         "x": [
          0.3561239712371444,
          0.34070325053417716
         ],
         "xaxis": "x",
         "y": [
          -0.06481436309098013,
          -0.09368765788288304
         ],
         "yaxis": "y"
        }
       ],
       "layout": {
        "height": 600,
        "legend": {
         "title": {
          "text": "color"
         },
         "tracegroupgap": 0
        },
        "template": {
         "data": {
          "bar": [
           {
            "error_x": {
             "color": "#2a3f5f"
            },
            "error_y": {
             "color": "#2a3f5f"
            },
            "marker": {
             "line": {
              "color": "#E5ECF6",
              "width": 0.5
             },
             "pattern": {
              "fillmode": "overlay",
              "size": 10,
              "solidity": 0.2
             }
            },
            "type": "bar"
           }
          ],
          "barpolar": [
           {
            "marker": {
             "line": {
              "color": "#E5ECF6",
              "width": 0.5
             },
             "pattern": {
              "fillmode": "overlay",
              "size": 10,
              "solidity": 0.2
             }
            },
            "type": "barpolar"
           }
          ],
          "carpet": [
           {
            "aaxis": {
             "endlinecolor": "#2a3f5f",
             "gridcolor": "white",
             "linecolor": "white",
             "minorgridcolor": "white",
             "startlinecolor": "#2a3f5f"
            },
            "baxis": {
             "endlinecolor": "#2a3f5f",
             "gridcolor": "white",
             "linecolor": "white",
             "minorgridcolor": "white",
             "startlinecolor": "#2a3f5f"
            },
            "type": "carpet"
           }
          ],
          "choropleth": [
           {
            "colorbar": {
             "outlinewidth": 0,
             "ticks": ""
            },
            "type": "choropleth"
           }
          ],
          "contour": [
           {
            "colorbar": {
             "outlinewidth": 0,
             "ticks": ""
            },
            "colorscale": [
             [
              0,
              "#0d0887"
             ],
             [
              0.1111111111111111,
              "#46039f"
             ],
             [
              0.2222222222222222,
              "#7201a8"
             ],
             [
              0.3333333333333333,
              "#9c179e"
             ],
             [
              0.4444444444444444,
              "#bd3786"
             ],
             [
              0.5555555555555556,
              "#d8576b"
             ],
             [
              0.6666666666666666,
              "#ed7953"
             ],
             [
              0.7777777777777778,
              "#fb9f3a"
             ],
             [
              0.8888888888888888,
              "#fdca26"
             ],
             [
              1,
              "#f0f921"
             ]
            ],
            "type": "contour"
           }
          ],
          "contourcarpet": [
           {
            "colorbar": {
             "outlinewidth": 0,
             "ticks": ""
            },
            "type": "contourcarpet"
           }
          ],
          "heatmap": [
           {
            "colorbar": {
             "outlinewidth": 0,
             "ticks": ""
            },
            "colorscale": [
             [
              0,
              "#0d0887"
             ],
             [
              0.1111111111111111,
              "#46039f"
             ],
             [
              0.2222222222222222,
              "#7201a8"
             ],
             [
              0.3333333333333333,
              "#9c179e"
             ],
             [
              0.4444444444444444,
              "#bd3786"
             ],
             [
              0.5555555555555556,
              "#d8576b"
             ],
             [
              0.6666666666666666,
              "#ed7953"
             ],
             [
              0.7777777777777778,
              "#fb9f3a"
             ],
             [
              0.8888888888888888,
              "#fdca26"
             ],
             [
              1,
              "#f0f921"
             ]
            ],
            "type": "heatmap"
           }
          ],
          "heatmapgl": [
           {
            "colorbar": {
             "outlinewidth": 0,
             "ticks": ""
            },
            "colorscale": [
             [
              0,
              "#0d0887"
             ],
             [
              0.1111111111111111,
              "#46039f"
             ],
             [
              0.2222222222222222,
              "#7201a8"
             ],
             [
              0.3333333333333333,
              "#9c179e"
             ],
             [
              0.4444444444444444,
              "#bd3786"
             ],
             [
              0.5555555555555556,
              "#d8576b"
             ],
             [
              0.6666666666666666,
              "#ed7953"
             ],
             [
              0.7777777777777778,
              "#fb9f3a"
             ],
             [
              0.8888888888888888,
              "#fdca26"
             ],
             [
              1,
              "#f0f921"
             ]
            ],
            "type": "heatmapgl"
           }
          ],
          "histogram": [
           {
            "marker": {
             "pattern": {
              "fillmode": "overlay",
              "size": 10,
              "solidity": 0.2
             }
            },
            "type": "histogram"
           }
          ],
          "histogram2d": [
           {
            "colorbar": {
             "outlinewidth": 0,
             "ticks": ""
            },
            "colorscale": [
             [
              0,
              "#0d0887"
             ],
             [
              0.1111111111111111,
              "#46039f"
             ],
             [
              0.2222222222222222,
              "#7201a8"
             ],
             [
              0.3333333333333333,
              "#9c179e"
             ],
             [
              0.4444444444444444,
              "#bd3786"
             ],
             [
              0.5555555555555556,
              "#d8576b"
             ],
             [
              0.6666666666666666,
              "#ed7953"
             ],
             [
              0.7777777777777778,
              "#fb9f3a"
             ],
             [
              0.8888888888888888,
              "#fdca26"
             ],
             [
              1,
              "#f0f921"
             ]
            ],
            "type": "histogram2d"
           }
          ],
          "histogram2dcontour": [
           {
            "colorbar": {
             "outlinewidth": 0,
             "ticks": ""
            },
            "colorscale": [
             [
              0,
              "#0d0887"
             ],
             [
              0.1111111111111111,
              "#46039f"
             ],
             [
              0.2222222222222222,
              "#7201a8"
             ],
             [
              0.3333333333333333,
              "#9c179e"
             ],
             [
              0.4444444444444444,
              "#bd3786"
             ],
             [
              0.5555555555555556,
              "#d8576b"
             ],
             [
              0.6666666666666666,
              "#ed7953"
             ],
             [
              0.7777777777777778,
              "#fb9f3a"
             ],
             [
              0.8888888888888888,
              "#fdca26"
             ],
             [
              1,
              "#f0f921"
             ]
            ],
            "type": "histogram2dcontour"
           }
          ],
          "mesh3d": [
           {
            "colorbar": {
             "outlinewidth": 0,
             "ticks": ""
            },
            "type": "mesh3d"
           }
          ],
          "parcoords": [
           {
            "line": {
             "colorbar": {
              "outlinewidth": 0,
              "ticks": ""
             }
            },
            "type": "parcoords"
           }
          ],
          "pie": [
           {
            "automargin": true,
            "type": "pie"
           }
          ],
          "scatter": [
           {
            "marker": {
             "colorbar": {
              "outlinewidth": 0,
              "ticks": ""
             }
            },
            "type": "scatter"
           }
          ],
          "scatter3d": [
           {
            "line": {
             "colorbar": {
              "outlinewidth": 0,
              "ticks": ""
             }
            },
            "marker": {
             "colorbar": {
              "outlinewidth": 0,
              "ticks": ""
             }
            },
            "type": "scatter3d"
           }
          ],
          "scattercarpet": [
           {
            "marker": {
             "colorbar": {
              "outlinewidth": 0,
              "ticks": ""
             }
            },
            "type": "scattercarpet"
           }
          ],
          "scattergeo": [
           {
            "marker": {
             "colorbar": {
              "outlinewidth": 0,
              "ticks": ""
             }
            },
            "type": "scattergeo"
           }
          ],
          "scattergl": [
           {
            "marker": {
             "colorbar": {
              "outlinewidth": 0,
              "ticks": ""
             }
            },
            "type": "scattergl"
           }
          ],
          "scattermapbox": [
           {
            "marker": {
             "colorbar": {
              "outlinewidth": 0,
              "ticks": ""
             }
            },
            "type": "scattermapbox"
           }
          ],
          "scatterpolar": [
           {
            "marker": {
             "colorbar": {
              "outlinewidth": 0,
              "ticks": ""
             }
            },
            "type": "scatterpolar"
           }
          ],
          "scatterpolargl": [
           {
            "marker": {
             "colorbar": {
              "outlinewidth": 0,
              "ticks": ""
             }
            },
            "type": "scatterpolargl"
           }
          ],
          "scatterternary": [
           {
            "marker": {
             "colorbar": {
              "outlinewidth": 0,
              "ticks": ""
             }
            },
            "type": "scatterternary"
           }
          ],
          "surface": [
           {
            "colorbar": {
             "outlinewidth": 0,
             "ticks": ""
            },
            "colorscale": [
             [
              0,
              "#0d0887"
             ],
             [
              0.1111111111111111,
              "#46039f"
             ],
             [
              0.2222222222222222,
              "#7201a8"
             ],
             [
              0.3333333333333333,
              "#9c179e"
             ],
             [
              0.4444444444444444,
              "#bd3786"
             ],
             [
              0.5555555555555556,
              "#d8576b"
             ],
             [
              0.6666666666666666,
              "#ed7953"
             ],
             [
              0.7777777777777778,
              "#fb9f3a"
             ],
             [
              0.8888888888888888,
              "#fdca26"
             ],
             [
              1,
              "#f0f921"
             ]
            ],
            "type": "surface"
           }
          ],
          "table": [
           {
            "cells": {
             "fill": {
              "color": "#EBF0F8"
             },
             "line": {
              "color": "white"
             }
            },
            "header": {
             "fill": {
              "color": "#C8D4E3"
             },
             "line": {
              "color": "white"
             }
            },
            "type": "table"
           }
          ]
         },
         "layout": {
          "annotationdefaults": {
           "arrowcolor": "#2a3f5f",
           "arrowhead": 0,
           "arrowwidth": 1
          },
          "autotypenumbers": "strict",
          "coloraxis": {
           "colorbar": {
            "outlinewidth": 0,
            "ticks": ""
           }
          },
          "colorscale": {
           "diverging": [
            [
             0,
             "#8e0152"
            ],
            [
             0.1,
             "#c51b7d"
            ],
            [
             0.2,
             "#de77ae"
            ],
            [
             0.3,
             "#f1b6da"
            ],
            [
             0.4,
             "#fde0ef"
            ],
            [
             0.5,
             "#f7f7f7"
            ],
            [
             0.6,
             "#e6f5d0"
            ],
            [
             0.7,
             "#b8e186"
            ],
            [
             0.8,
             "#7fbc41"
            ],
            [
             0.9,
             "#4d9221"
            ],
            [
             1,
             "#276419"
            ]
           ],
           "sequential": [
            [
             0,
             "#0d0887"
            ],
            [
             0.1111111111111111,
             "#46039f"
            ],
            [
             0.2222222222222222,
             "#7201a8"
            ],
            [
             0.3333333333333333,
             "#9c179e"
            ],
            [
             0.4444444444444444,
             "#bd3786"
            ],
            [
             0.5555555555555556,
             "#d8576b"
            ],
            [
             0.6666666666666666,
             "#ed7953"
            ],
            [
             0.7777777777777778,
             "#fb9f3a"
            ],
            [
             0.8888888888888888,
             "#fdca26"
            ],
            [
             1,
             "#f0f921"
            ]
           ],
           "sequentialminus": [
            [
             0,
             "#0d0887"
            ],
            [
             0.1111111111111111,
             "#46039f"
            ],
            [
             0.2222222222222222,
             "#7201a8"
            ],
            [
             0.3333333333333333,
             "#9c179e"
            ],
            [
             0.4444444444444444,
             "#bd3786"
            ],
            [
             0.5555555555555556,
             "#d8576b"
            ],
            [
             0.6666666666666666,
             "#ed7953"
            ],
            [
             0.7777777777777778,
             "#fb9f3a"
            ],
            [
             0.8888888888888888,
             "#fdca26"
            ],
            [
             1,
             "#f0f921"
            ]
           ]
          },
          "colorway": [
           "#636efa",
           "#EF553B",
           "#00cc96",
           "#ab63fa",
           "#FFA15A",
           "#19d3f3",
           "#FF6692",
           "#B6E880",
           "#FF97FF",
           "#FECB52"
          ],
          "font": {
           "color": "#2a3f5f"
          },
          "geo": {
           "bgcolor": "white",
           "lakecolor": "white",
           "landcolor": "#E5ECF6",
           "showlakes": true,
           "showland": true,
           "subunitcolor": "white"
          },
          "hoverlabel": {
           "align": "left"
          },
          "hovermode": "closest",
          "mapbox": {
           "style": "light"
          },
          "paper_bgcolor": "white",
          "plot_bgcolor": "#E5ECF6",
          "polar": {
           "angularaxis": {
            "gridcolor": "white",
            "linecolor": "white",
            "ticks": ""
           },
           "bgcolor": "#E5ECF6",
           "radialaxis": {
            "gridcolor": "white",
            "linecolor": "white",
            "ticks": ""
           }
          },
          "scene": {
           "xaxis": {
            "backgroundcolor": "#E5ECF6",
            "gridcolor": "white",
            "gridwidth": 2,
            "linecolor": "white",
            "showbackground": true,
            "ticks": "",
            "zerolinecolor": "white"
           },
           "yaxis": {
            "backgroundcolor": "#E5ECF6",
            "gridcolor": "white",
            "gridwidth": 2,
            "linecolor": "white",
            "showbackground": true,
            "ticks": "",
            "zerolinecolor": "white"
           },
           "zaxis": {
            "backgroundcolor": "#E5ECF6",
            "gridcolor": "white",
            "gridwidth": 2,
            "linecolor": "white",
            "showbackground": true,
            "ticks": "",
            "zerolinecolor": "white"
           }
          },
          "shapedefaults": {
           "line": {
            "color": "#2a3f5f"
           }
          },
          "ternary": {
           "aaxis": {
            "gridcolor": "white",
            "linecolor": "white",
            "ticks": ""
           },
           "baxis": {
            "gridcolor": "white",
            "linecolor": "white",
            "ticks": ""
           },
           "bgcolor": "#E5ECF6",
           "caxis": {
            "gridcolor": "white",
            "linecolor": "white",
            "ticks": ""
           }
          },
          "title": {
           "x": 0.05
          },
          "xaxis": {
           "automargin": true,
           "gridcolor": "white",
           "linecolor": "white",
           "ticks": "",
           "title": {
            "standoff": 15
           },
           "zerolinecolor": "white",
           "zerolinewidth": 2
          },
          "yaxis": {
           "automargin": true,
           "gridcolor": "white",
           "linecolor": "white",
           "ticks": "",
           "title": {
            "standoff": 15
           },
           "zerolinecolor": "white",
           "zerolinewidth": 2
          }
         }
        },
        "title": {
         "text": "Topic: '7_flüchtlinge_menschen_ukraine_grenze', 1. and 2. Principal Components"
        },
        "width": 800,
        "xaxis": {
         "anchor": "y",
         "domain": [
          0,
          1
         ],
         "title": {
          "text": "1. Principal Component"
         }
        },
        "yaxis": {
         "anchor": "x",
         "domain": [
          0,
          1
         ],
         "title": {
          "text": "2. Principal Component"
         }
        }
       }
      }
     },
     "metadata": {},
     "output_type": "display_data"
    }
   ],
   "source": [
    "if n_components>2:\n",
    "    fig = px.scatter(\n",
    "        x=model.components_[1], \n",
    "        y=model.components_[2], \n",
    "        color=[political_spectrum_dict[medium] for medium in N.columns.to_list()],\n",
    "        color_discrete_sequence=color_palette,\n",
    "        hover_data=[N.columns.to_list()], \n",
    "        title=f'Topic: \\'{topic}\\', 1. and 2. Principal Components',\n",
    "        labels={\n",
    "            \"x\": \"1. Principal Component\",\n",
    "            \"y\": \"2. Principal Component\",\n",
    "        },\n",
    "        #text=N.columns.to_list(),\n",
    "        width=800,\n",
    "        height=600,\n",
    "        )\n",
    "    fig.show()"
   ]
  },
  {
   "cell_type": "code",
   "execution_count": 265,
   "metadata": {},
   "outputs": [
    {
     "data": {
      "application/vnd.plotly.v1+json": {
       "config": {
        "plotlyServerURL": "https://plot.ly"
       },
       "data": [
        {
         "customdata": [
          [
           "junge Welt"
          ],
          [
           "NachDenkSeiten"
          ]
         ],
         "hovertemplate": "color=left<br>0. Principal Component=%{x}<br>1. Principal Component=%{y}<br>hover_data_0=%{customdata[0]}<extra></extra>",
         "legendgroup": "left",
         "marker": {
          "color": "rgb(20.0, 20.0, 255.0)",
          "symbol": "circle"
         },
         "mode": "markers",
         "name": "left",
         "orientation": "v",
         "showlegend": true,
         "type": "scatter",
         "x": [
          0.07761740592588187,
          0.1658252111455881
         ],
         "xaxis": "x",
         "y": [
          0.21981732797534065,
          0.32665014409198734
         ],
         "yaxis": "y"
        },
        {
         "customdata": [
          [
           "taz"
          ],
          [
           "Süddeutsche Zeitung"
          ],
          [
           "stern TV"
          ],
          [
           "DER SPIEGEL"
          ]
         ],
         "hovertemplate": "color=left leaning<br>0. Principal Component=%{x}<br>1. Principal Component=%{y}<br>hover_data_0=%{customdata[0]}<extra></extra>",
         "legendgroup": "left leaning",
         "marker": {
          "color": "rgb(50.0, 0.0, 170.0)",
          "symbol": "circle"
         },
         "mode": "markers",
         "name": "left leaning",
         "orientation": "v",
         "showlegend": true,
         "type": "scatter",
         "x": [
          0.22897554086994396,
          0.13815368271492803,
          0.13201064084338954,
          0.3031029154418827
         ],
         "xaxis": "x",
         "y": [
          0.20124771964717908,
          0.08220220665631507,
          -0.3345375175659182,
          0.06929779329642967
         ],
         "yaxis": "y"
        },
        {
         "customdata": [
          [
           "Der Tagesspiegel"
          ],
          [
           "ARD"
          ],
          [
           "ZDF"
          ],
          [
           "ZDFheute Nachrichten"
          ],
          [
           "Bayerischer Rundfunk"
          ],
          [
           "ntv Nachrichten"
          ],
          [
           "ZEIT ONLINE"
          ],
          [
           "faz"
          ],
          [
           "WELT"
          ]
         ],
         "hovertemplate": "color=center<br>0. Principal Component=%{x}<br>1. Principal Component=%{y}<br>hover_data_0=%{customdata[0]}<extra></extra>",
         "legendgroup": "center",
         "marker": {
          "color": "rgb(120.0, 120.0, 120.0)",
          "symbol": "circle"
         },
         "mode": "markers",
         "name": "center",
         "orientation": "v",
         "showlegend": true,
         "type": "scatter",
         "x": [
          0.11525684159183767,
          0.20577787796366823,
          0.2598091263922985,
          0.31619441444241253,
          0.21796915174020262,
          0.28268713667081896,
          0.12577508621285682,
          0.27233974300858854,
          0.2468974747682016
         ],
         "xaxis": "x",
         "y": [
          -0.13830055341069936,
          -0.16472178969993131,
          -0.21839881093233404,
          -0.21830941177257598,
          0.030562749721705335,
          -0.038991320116440895,
          0.10443132995936398,
          0.14072125471283994,
          -0.40114427958770543
         ],
         "yaxis": "y"
        },
        {
         "customdata": [
          [
           "RTL"
          ],
          [
           "FOCUS Online"
          ],
          [
           "BILD"
          ],
          [
           "NZZ Neue Zürcher Zeitung"
          ]
         ],
         "hovertemplate": "color=right leaning<br>0. Principal Component=%{x}<br>1. Principal Component=%{y}<br>hover_data_0=%{customdata[0]}<extra></extra>",
         "legendgroup": "right leaning",
         "marker": {
          "color": "rgb(170.0, 0.0, 50.0)",
          "symbol": "circle"
         },
         "mode": "markers",
         "name": "right leaning",
         "orientation": "v",
         "showlegend": true,
         "type": "scatter",
         "x": [
          0.028291326572008155,
          0.22381210137961266,
          0.29709273515214757,
          0.1707636693441429
         ],
         "xaxis": "x",
         "y": [
          -0.03624563616829601,
          -0.05420806919956951,
          -0.23090734203501465,
          0.21174118913169201
         ],
         "yaxis": "y"
        },
        {
         "customdata": [
          [
           "Junge Freiheit"
          ],
          [
           "COMPACTTV"
          ]
         ],
         "hovertemplate": "color=right<br>0. Principal Component=%{x}<br>1. Principal Component=%{y}<br>hover_data_0=%{customdata[0]}<extra></extra>",
         "legendgroup": "right",
         "marker": {
          "color": "rgb(255.0, 20.0, 20.0)",
          "symbol": "circle"
         },
         "mode": "markers",
         "name": "right",
         "orientation": "v",
         "showlegend": true,
         "type": "scatter",
         "x": [
          0.2368340327499247,
          0.24449656404928471
         ],
         "xaxis": "x",
         "y": [
          0.3561239712371444,
          0.34070325053417716
         ],
         "yaxis": "y"
        }
       ],
       "layout": {
        "legend": {
         "title": {
          "text": "color"
         },
         "tracegroupgap": 0
        },
        "template": {
         "data": {
          "bar": [
           {
            "error_x": {
             "color": "#2a3f5f"
            },
            "error_y": {
             "color": "#2a3f5f"
            },
            "marker": {
             "line": {
              "color": "#E5ECF6",
              "width": 0.5
             },
             "pattern": {
              "fillmode": "overlay",
              "size": 10,
              "solidity": 0.2
             }
            },
            "type": "bar"
           }
          ],
          "barpolar": [
           {
            "marker": {
             "line": {
              "color": "#E5ECF6",
              "width": 0.5
             },
             "pattern": {
              "fillmode": "overlay",
              "size": 10,
              "solidity": 0.2
             }
            },
            "type": "barpolar"
           }
          ],
          "carpet": [
           {
            "aaxis": {
             "endlinecolor": "#2a3f5f",
             "gridcolor": "white",
             "linecolor": "white",
             "minorgridcolor": "white",
             "startlinecolor": "#2a3f5f"
            },
            "baxis": {
             "endlinecolor": "#2a3f5f",
             "gridcolor": "white",
             "linecolor": "white",
             "minorgridcolor": "white",
             "startlinecolor": "#2a3f5f"
            },
            "type": "carpet"
           }
          ],
          "choropleth": [
           {
            "colorbar": {
             "outlinewidth": 0,
             "ticks": ""
            },
            "type": "choropleth"
           }
          ],
          "contour": [
           {
            "colorbar": {
             "outlinewidth": 0,
             "ticks": ""
            },
            "colorscale": [
             [
              0,
              "#0d0887"
             ],
             [
              0.1111111111111111,
              "#46039f"
             ],
             [
              0.2222222222222222,
              "#7201a8"
             ],
             [
              0.3333333333333333,
              "#9c179e"
             ],
             [
              0.4444444444444444,
              "#bd3786"
             ],
             [
              0.5555555555555556,
              "#d8576b"
             ],
             [
              0.6666666666666666,
              "#ed7953"
             ],
             [
              0.7777777777777778,
              "#fb9f3a"
             ],
             [
              0.8888888888888888,
              "#fdca26"
             ],
             [
              1,
              "#f0f921"
             ]
            ],
            "type": "contour"
           }
          ],
          "contourcarpet": [
           {
            "colorbar": {
             "outlinewidth": 0,
             "ticks": ""
            },
            "type": "contourcarpet"
           }
          ],
          "heatmap": [
           {
            "colorbar": {
             "outlinewidth": 0,
             "ticks": ""
            },
            "colorscale": [
             [
              0,
              "#0d0887"
             ],
             [
              0.1111111111111111,
              "#46039f"
             ],
             [
              0.2222222222222222,
              "#7201a8"
             ],
             [
              0.3333333333333333,
              "#9c179e"
             ],
             [
              0.4444444444444444,
              "#bd3786"
             ],
             [
              0.5555555555555556,
              "#d8576b"
             ],
             [
              0.6666666666666666,
              "#ed7953"
             ],
             [
              0.7777777777777778,
              "#fb9f3a"
             ],
             [
              0.8888888888888888,
              "#fdca26"
             ],
             [
              1,
              "#f0f921"
             ]
            ],
            "type": "heatmap"
           }
          ],
          "heatmapgl": [
           {
            "colorbar": {
             "outlinewidth": 0,
             "ticks": ""
            },
            "colorscale": [
             [
              0,
              "#0d0887"
             ],
             [
              0.1111111111111111,
              "#46039f"
             ],
             [
              0.2222222222222222,
              "#7201a8"
             ],
             [
              0.3333333333333333,
              "#9c179e"
             ],
             [
              0.4444444444444444,
              "#bd3786"
             ],
             [
              0.5555555555555556,
              "#d8576b"
             ],
             [
              0.6666666666666666,
              "#ed7953"
             ],
             [
              0.7777777777777778,
              "#fb9f3a"
             ],
             [
              0.8888888888888888,
              "#fdca26"
             ],
             [
              1,
              "#f0f921"
             ]
            ],
            "type": "heatmapgl"
           }
          ],
          "histogram": [
           {
            "marker": {
             "pattern": {
              "fillmode": "overlay",
              "size": 10,
              "solidity": 0.2
             }
            },
            "type": "histogram"
           }
          ],
          "histogram2d": [
           {
            "colorbar": {
             "outlinewidth": 0,
             "ticks": ""
            },
            "colorscale": [
             [
              0,
              "#0d0887"
             ],
             [
              0.1111111111111111,
              "#46039f"
             ],
             [
              0.2222222222222222,
              "#7201a8"
             ],
             [
              0.3333333333333333,
              "#9c179e"
             ],
             [
              0.4444444444444444,
              "#bd3786"
             ],
             [
              0.5555555555555556,
              "#d8576b"
             ],
             [
              0.6666666666666666,
              "#ed7953"
             ],
             [
              0.7777777777777778,
              "#fb9f3a"
             ],
             [
              0.8888888888888888,
              "#fdca26"
             ],
             [
              1,
              "#f0f921"
             ]
            ],
            "type": "histogram2d"
           }
          ],
          "histogram2dcontour": [
           {
            "colorbar": {
             "outlinewidth": 0,
             "ticks": ""
            },
            "colorscale": [
             [
              0,
              "#0d0887"
             ],
             [
              0.1111111111111111,
              "#46039f"
             ],
             [
              0.2222222222222222,
              "#7201a8"
             ],
             [
              0.3333333333333333,
              "#9c179e"
             ],
             [
              0.4444444444444444,
              "#bd3786"
             ],
             [
              0.5555555555555556,
              "#d8576b"
             ],
             [
              0.6666666666666666,
              "#ed7953"
             ],
             [
              0.7777777777777778,
              "#fb9f3a"
             ],
             [
              0.8888888888888888,
              "#fdca26"
             ],
             [
              1,
              "#f0f921"
             ]
            ],
            "type": "histogram2dcontour"
           }
          ],
          "mesh3d": [
           {
            "colorbar": {
             "outlinewidth": 0,
             "ticks": ""
            },
            "type": "mesh3d"
           }
          ],
          "parcoords": [
           {
            "line": {
             "colorbar": {
              "outlinewidth": 0,
              "ticks": ""
             }
            },
            "type": "parcoords"
           }
          ],
          "pie": [
           {
            "automargin": true,
            "type": "pie"
           }
          ],
          "scatter": [
           {
            "marker": {
             "colorbar": {
              "outlinewidth": 0,
              "ticks": ""
             }
            },
            "type": "scatter"
           }
          ],
          "scatter3d": [
           {
            "line": {
             "colorbar": {
              "outlinewidth": 0,
              "ticks": ""
             }
            },
            "marker": {
             "colorbar": {
              "outlinewidth": 0,
              "ticks": ""
             }
            },
            "type": "scatter3d"
           }
          ],
          "scattercarpet": [
           {
            "marker": {
             "colorbar": {
              "outlinewidth": 0,
              "ticks": ""
             }
            },
            "type": "scattercarpet"
           }
          ],
          "scattergeo": [
           {
            "marker": {
             "colorbar": {
              "outlinewidth": 0,
              "ticks": ""
             }
            },
            "type": "scattergeo"
           }
          ],
          "scattergl": [
           {
            "marker": {
             "colorbar": {
              "outlinewidth": 0,
              "ticks": ""
             }
            },
            "type": "scattergl"
           }
          ],
          "scattermapbox": [
           {
            "marker": {
             "colorbar": {
              "outlinewidth": 0,
              "ticks": ""
             }
            },
            "type": "scattermapbox"
           }
          ],
          "scatterpolar": [
           {
            "marker": {
             "colorbar": {
              "outlinewidth": 0,
              "ticks": ""
             }
            },
            "type": "scatterpolar"
           }
          ],
          "scatterpolargl": [
           {
            "marker": {
             "colorbar": {
              "outlinewidth": 0,
              "ticks": ""
             }
            },
            "type": "scatterpolargl"
           }
          ],
          "scatterternary": [
           {
            "marker": {
             "colorbar": {
              "outlinewidth": 0,
              "ticks": ""
             }
            },
            "type": "scatterternary"
           }
          ],
          "surface": [
           {
            "colorbar": {
             "outlinewidth": 0,
             "ticks": ""
            },
            "colorscale": [
             [
              0,
              "#0d0887"
             ],
             [
              0.1111111111111111,
              "#46039f"
             ],
             [
              0.2222222222222222,
              "#7201a8"
             ],
             [
              0.3333333333333333,
              "#9c179e"
             ],
             [
              0.4444444444444444,
              "#bd3786"
             ],
             [
              0.5555555555555556,
              "#d8576b"
             ],
             [
              0.6666666666666666,
              "#ed7953"
             ],
             [
              0.7777777777777778,
              "#fb9f3a"
             ],
             [
              0.8888888888888888,
              "#fdca26"
             ],
             [
              1,
              "#f0f921"
             ]
            ],
            "type": "surface"
           }
          ],
          "table": [
           {
            "cells": {
             "fill": {
              "color": "#EBF0F8"
             },
             "line": {
              "color": "white"
             }
            },
            "header": {
             "fill": {
              "color": "#C8D4E3"
             },
             "line": {
              "color": "white"
             }
            },
            "type": "table"
           }
          ]
         },
         "layout": {
          "annotationdefaults": {
           "arrowcolor": "#2a3f5f",
           "arrowhead": 0,
           "arrowwidth": 1
          },
          "autotypenumbers": "strict",
          "coloraxis": {
           "colorbar": {
            "outlinewidth": 0,
            "ticks": ""
           }
          },
          "colorscale": {
           "diverging": [
            [
             0,
             "#8e0152"
            ],
            [
             0.1,
             "#c51b7d"
            ],
            [
             0.2,
             "#de77ae"
            ],
            [
             0.3,
             "#f1b6da"
            ],
            [
             0.4,
             "#fde0ef"
            ],
            [
             0.5,
             "#f7f7f7"
            ],
            [
             0.6,
             "#e6f5d0"
            ],
            [
             0.7,
             "#b8e186"
            ],
            [
             0.8,
             "#7fbc41"
            ],
            [
             0.9,
             "#4d9221"
            ],
            [
             1,
             "#276419"
            ]
           ],
           "sequential": [
            [
             0,
             "#0d0887"
            ],
            [
             0.1111111111111111,
             "#46039f"
            ],
            [
             0.2222222222222222,
             "#7201a8"
            ],
            [
             0.3333333333333333,
             "#9c179e"
            ],
            [
             0.4444444444444444,
             "#bd3786"
            ],
            [
             0.5555555555555556,
             "#d8576b"
            ],
            [
             0.6666666666666666,
             "#ed7953"
            ],
            [
             0.7777777777777778,
             "#fb9f3a"
            ],
            [
             0.8888888888888888,
             "#fdca26"
            ],
            [
             1,
             "#f0f921"
            ]
           ],
           "sequentialminus": [
            [
             0,
             "#0d0887"
            ],
            [
             0.1111111111111111,
             "#46039f"
            ],
            [
             0.2222222222222222,
             "#7201a8"
            ],
            [
             0.3333333333333333,
             "#9c179e"
            ],
            [
             0.4444444444444444,
             "#bd3786"
            ],
            [
             0.5555555555555556,
             "#d8576b"
            ],
            [
             0.6666666666666666,
             "#ed7953"
            ],
            [
             0.7777777777777778,
             "#fb9f3a"
            ],
            [
             0.8888888888888888,
             "#fdca26"
            ],
            [
             1,
             "#f0f921"
            ]
           ]
          },
          "colorway": [
           "#636efa",
           "#EF553B",
           "#00cc96",
           "#ab63fa",
           "#FFA15A",
           "#19d3f3",
           "#FF6692",
           "#B6E880",
           "#FF97FF",
           "#FECB52"
          ],
          "font": {
           "color": "#2a3f5f"
          },
          "geo": {
           "bgcolor": "white",
           "lakecolor": "white",
           "landcolor": "#E5ECF6",
           "showlakes": true,
           "showland": true,
           "subunitcolor": "white"
          },
          "hoverlabel": {
           "align": "left"
          },
          "hovermode": "closest",
          "mapbox": {
           "style": "light"
          },
          "paper_bgcolor": "white",
          "plot_bgcolor": "#E5ECF6",
          "polar": {
           "angularaxis": {
            "gridcolor": "white",
            "linecolor": "white",
            "ticks": ""
           },
           "bgcolor": "#E5ECF6",
           "radialaxis": {
            "gridcolor": "white",
            "linecolor": "white",
            "ticks": ""
           }
          },
          "scene": {
           "xaxis": {
            "backgroundcolor": "#E5ECF6",
            "gridcolor": "white",
            "gridwidth": 2,
            "linecolor": "white",
            "showbackground": true,
            "ticks": "",
            "zerolinecolor": "white"
           },
           "yaxis": {
            "backgroundcolor": "#E5ECF6",
            "gridcolor": "white",
            "gridwidth": 2,
            "linecolor": "white",
            "showbackground": true,
            "ticks": "",
            "zerolinecolor": "white"
           },
           "zaxis": {
            "backgroundcolor": "#E5ECF6",
            "gridcolor": "white",
            "gridwidth": 2,
            "linecolor": "white",
            "showbackground": true,
            "ticks": "",
            "zerolinecolor": "white"
           }
          },
          "shapedefaults": {
           "line": {
            "color": "#2a3f5f"
           }
          },
          "ternary": {
           "aaxis": {
            "gridcolor": "white",
            "linecolor": "white",
            "ticks": ""
           },
           "baxis": {
            "gridcolor": "white",
            "linecolor": "white",
            "ticks": ""
           },
           "bgcolor": "#E5ECF6",
           "caxis": {
            "gridcolor": "white",
            "linecolor": "white",
            "ticks": ""
           }
          },
          "title": {
           "x": 0.05
          },
          "xaxis": {
           "automargin": true,
           "gridcolor": "white",
           "linecolor": "white",
           "ticks": "",
           "title": {
            "standoff": 15
           },
           "zerolinecolor": "white",
           "zerolinewidth": 2
          },
          "yaxis": {
           "automargin": true,
           "gridcolor": "white",
           "linecolor": "white",
           "ticks": "",
           "title": {
            "standoff": 15
           },
           "zerolinecolor": "white",
           "zerolinewidth": 2
          }
         }
        },
        "title": {
         "text": "Topic: '7_flüchtlinge_menschen_ukraine_grenze', 0. and 1. Principal Components"
        },
        "xaxis": {
         "anchor": "y",
         "domain": [
          0,
          1
         ],
         "title": {
          "text": "0. Principal Component"
         }
        },
        "yaxis": {
         "anchor": "x",
         "domain": [
          0,
          1
         ],
         "title": {
          "text": "1. Principal Component"
         }
        }
       }
      }
     },
     "metadata": {},
     "output_type": "display_data"
    }
   ],
   "source": [
    "fig = px.scatter(\n",
    "    x=model.components_[0], \n",
    "    y=model.components_[1], \n",
    "    color=[political_spectrum_dict[medium] for medium in N.columns.to_list()],\n",
    "    color_discrete_sequence=color_palette,\n",
    "    hover_data=[N.columns.to_list()], \n",
    "    title=f'Topic: \\'{topic}\\', 0. and 1. Principal Components',\n",
    "    labels={\n",
    "        \"x\": \"0. Principal Component\",\n",
    "        \"y\": \"1. Principal Component\",\n",
    "    },\n",
    "    )\n",
    "fig.show()"
   ]
  },
  {
   "cell_type": "code",
   "execution_count": 266,
   "metadata": {},
   "outputs": [
    {
     "data": {
      "application/vnd.plotly.v1+json": {
       "config": {
        "plotlyServerURL": "https://plot.ly"
       },
       "data": [
        {
         "customdata": [
          [
           "junge Welt"
          ],
          [
           "NachDenkSeiten"
          ]
         ],
         "hovertemplate": "color=left<br>0. Principal Component=%{x}<br>2. Principal Component=%{y}<br>hover_data_0=%{customdata[0]}<extra></extra>",
         "legendgroup": "left",
         "marker": {
          "color": "rgb(20.0, 20.0, 255.0)",
          "symbol": "circle"
         },
         "mode": "markers",
         "name": "left",
         "orientation": "v",
         "showlegend": true,
         "type": "scatter",
         "x": [
          0.07761740592588187,
          0.1658252111455881
         ],
         "xaxis": "x",
         "y": [
          0.6807652604946692,
          -0.04599007098576985
         ],
         "yaxis": "y"
        },
        {
         "customdata": [
          [
           "taz"
          ],
          [
           "Süddeutsche Zeitung"
          ],
          [
           "stern TV"
          ],
          [
           "DER SPIEGEL"
          ]
         ],
         "hovertemplate": "color=left leaning<br>0. Principal Component=%{x}<br>2. Principal Component=%{y}<br>hover_data_0=%{customdata[0]}<extra></extra>",
         "legendgroup": "left leaning",
         "marker": {
          "color": "rgb(50.0, 0.0, 170.0)",
          "symbol": "circle"
         },
         "mode": "markers",
         "name": "left leaning",
         "orientation": "v",
         "showlegend": true,
         "type": "scatter",
         "x": [
          0.22897554086994396,
          0.13815368271492803,
          0.13201064084338954,
          0.3031029154418827
         ],
         "xaxis": "x",
         "y": [
          -0.027123299042761752,
          -0.1988580380400178,
          -0.06152930684858816,
          0.016993366086143016
         ],
         "yaxis": "y"
        },
        {
         "customdata": [
          [
           "Der Tagesspiegel"
          ],
          [
           "ARD"
          ],
          [
           "ZDF"
          ],
          [
           "ZDFheute Nachrichten"
          ],
          [
           "Bayerischer Rundfunk"
          ],
          [
           "ntv Nachrichten"
          ],
          [
           "ZEIT ONLINE"
          ],
          [
           "faz"
          ],
          [
           "WELT"
          ]
         ],
         "hovertemplate": "color=center<br>0. Principal Component=%{x}<br>2. Principal Component=%{y}<br>hover_data_0=%{customdata[0]}<extra></extra>",
         "legendgroup": "center",
         "marker": {
          "color": "rgb(120.0, 120.0, 120.0)",
          "symbol": "circle"
         },
         "mode": "markers",
         "name": "center",
         "orientation": "v",
         "showlegend": true,
         "type": "scatter",
         "x": [
          0.11525684159183767,
          0.20577787796366823,
          0.2598091263922985,
          0.31619441444241253,
          0.21796915174020262,
          0.28268713667081896,
          0.12577508621285682,
          0.27233974300858854,
          0.2468974747682016
         ],
         "xaxis": "x",
         "y": [
          0.5043486336260096,
          0.41657945921473344,
          -0.09414000076188658,
          -0.0580943041537696,
          -0.003481902728133884,
          -0.02892612587860737,
          -0.05380797359339882,
          0.06146199824904917,
          -0.023867740605528445
         ],
         "yaxis": "y"
        },
        {
         "customdata": [
          [
           "RTL"
          ],
          [
           "FOCUS Online"
          ],
          [
           "BILD"
          ],
          [
           "NZZ Neue Zürcher Zeitung"
          ]
         ],
         "hovertemplate": "color=right leaning<br>0. Principal Component=%{x}<br>2. Principal Component=%{y}<br>hover_data_0=%{customdata[0]}<extra></extra>",
         "legendgroup": "right leaning",
         "marker": {
          "color": "rgb(170.0, 0.0, 50.0)",
          "symbol": "circle"
         },
         "mode": "markers",
         "name": "right leaning",
         "orientation": "v",
         "showlegend": true,
         "type": "scatter",
         "x": [
          0.028291326572008155,
          0.22381210137961266,
          0.29709273515214757,
          0.1707636693441429
         ],
         "xaxis": "x",
         "y": [
          0.029608763928312323,
          -0.11215130873527489,
          -0.09887210871126956,
          -0.07513665088353114
         ],
         "yaxis": "y"
        },
        {
         "customdata": [
          [
           "Junge Freiheit"
          ],
          [
           "COMPACTTV"
          ]
         ],
         "hovertemplate": "color=right<br>0. Principal Component=%{x}<br>2. Principal Component=%{y}<br>hover_data_0=%{customdata[0]}<extra></extra>",
         "legendgroup": "right",
         "marker": {
          "color": "rgb(255.0, 20.0, 20.0)",
          "symbol": "circle"
         },
         "mode": "markers",
         "name": "right",
         "orientation": "v",
         "showlegend": true,
         "type": "scatter",
         "x": [
          0.2368340327499247,
          0.24449656404928471
         ],
         "xaxis": "x",
         "y": [
          -0.06481436309098013,
          -0.09368765788288304
         ],
         "yaxis": "y"
        }
       ],
       "layout": {
        "legend": {
         "title": {
          "text": "color"
         },
         "tracegroupgap": 0
        },
        "template": {
         "data": {
          "bar": [
           {
            "error_x": {
             "color": "#2a3f5f"
            },
            "error_y": {
             "color": "#2a3f5f"
            },
            "marker": {
             "line": {
              "color": "#E5ECF6",
              "width": 0.5
             },
             "pattern": {
              "fillmode": "overlay",
              "size": 10,
              "solidity": 0.2
             }
            },
            "type": "bar"
           }
          ],
          "barpolar": [
           {
            "marker": {
             "line": {
              "color": "#E5ECF6",
              "width": 0.5
             },
             "pattern": {
              "fillmode": "overlay",
              "size": 10,
              "solidity": 0.2
             }
            },
            "type": "barpolar"
           }
          ],
          "carpet": [
           {
            "aaxis": {
             "endlinecolor": "#2a3f5f",
             "gridcolor": "white",
             "linecolor": "white",
             "minorgridcolor": "white",
             "startlinecolor": "#2a3f5f"
            },
            "baxis": {
             "endlinecolor": "#2a3f5f",
             "gridcolor": "white",
             "linecolor": "white",
             "minorgridcolor": "white",
             "startlinecolor": "#2a3f5f"
            },
            "type": "carpet"
           }
          ],
          "choropleth": [
           {
            "colorbar": {
             "outlinewidth": 0,
             "ticks": ""
            },
            "type": "choropleth"
           }
          ],
          "contour": [
           {
            "colorbar": {
             "outlinewidth": 0,
             "ticks": ""
            },
            "colorscale": [
             [
              0,
              "#0d0887"
             ],
             [
              0.1111111111111111,
              "#46039f"
             ],
             [
              0.2222222222222222,
              "#7201a8"
             ],
             [
              0.3333333333333333,
              "#9c179e"
             ],
             [
              0.4444444444444444,
              "#bd3786"
             ],
             [
              0.5555555555555556,
              "#d8576b"
             ],
             [
              0.6666666666666666,
              "#ed7953"
             ],
             [
              0.7777777777777778,
              "#fb9f3a"
             ],
             [
              0.8888888888888888,
              "#fdca26"
             ],
             [
              1,
              "#f0f921"
             ]
            ],
            "type": "contour"
           }
          ],
          "contourcarpet": [
           {
            "colorbar": {
             "outlinewidth": 0,
             "ticks": ""
            },
            "type": "contourcarpet"
           }
          ],
          "heatmap": [
           {
            "colorbar": {
             "outlinewidth": 0,
             "ticks": ""
            },
            "colorscale": [
             [
              0,
              "#0d0887"
             ],
             [
              0.1111111111111111,
              "#46039f"
             ],
             [
              0.2222222222222222,
              "#7201a8"
             ],
             [
              0.3333333333333333,
              "#9c179e"
             ],
             [
              0.4444444444444444,
              "#bd3786"
             ],
             [
              0.5555555555555556,
              "#d8576b"
             ],
             [
              0.6666666666666666,
              "#ed7953"
             ],
             [
              0.7777777777777778,
              "#fb9f3a"
             ],
             [
              0.8888888888888888,
              "#fdca26"
             ],
             [
              1,
              "#f0f921"
             ]
            ],
            "type": "heatmap"
           }
          ],
          "heatmapgl": [
           {
            "colorbar": {
             "outlinewidth": 0,
             "ticks": ""
            },
            "colorscale": [
             [
              0,
              "#0d0887"
             ],
             [
              0.1111111111111111,
              "#46039f"
             ],
             [
              0.2222222222222222,
              "#7201a8"
             ],
             [
              0.3333333333333333,
              "#9c179e"
             ],
             [
              0.4444444444444444,
              "#bd3786"
             ],
             [
              0.5555555555555556,
              "#d8576b"
             ],
             [
              0.6666666666666666,
              "#ed7953"
             ],
             [
              0.7777777777777778,
              "#fb9f3a"
             ],
             [
              0.8888888888888888,
              "#fdca26"
             ],
             [
              1,
              "#f0f921"
             ]
            ],
            "type": "heatmapgl"
           }
          ],
          "histogram": [
           {
            "marker": {
             "pattern": {
              "fillmode": "overlay",
              "size": 10,
              "solidity": 0.2
             }
            },
            "type": "histogram"
           }
          ],
          "histogram2d": [
           {
            "colorbar": {
             "outlinewidth": 0,
             "ticks": ""
            },
            "colorscale": [
             [
              0,
              "#0d0887"
             ],
             [
              0.1111111111111111,
              "#46039f"
             ],
             [
              0.2222222222222222,
              "#7201a8"
             ],
             [
              0.3333333333333333,
              "#9c179e"
             ],
             [
              0.4444444444444444,
              "#bd3786"
             ],
             [
              0.5555555555555556,
              "#d8576b"
             ],
             [
              0.6666666666666666,
              "#ed7953"
             ],
             [
              0.7777777777777778,
              "#fb9f3a"
             ],
             [
              0.8888888888888888,
              "#fdca26"
             ],
             [
              1,
              "#f0f921"
             ]
            ],
            "type": "histogram2d"
           }
          ],
          "histogram2dcontour": [
           {
            "colorbar": {
             "outlinewidth": 0,
             "ticks": ""
            },
            "colorscale": [
             [
              0,
              "#0d0887"
             ],
             [
              0.1111111111111111,
              "#46039f"
             ],
             [
              0.2222222222222222,
              "#7201a8"
             ],
             [
              0.3333333333333333,
              "#9c179e"
             ],
             [
              0.4444444444444444,
              "#bd3786"
             ],
             [
              0.5555555555555556,
              "#d8576b"
             ],
             [
              0.6666666666666666,
              "#ed7953"
             ],
             [
              0.7777777777777778,
              "#fb9f3a"
             ],
             [
              0.8888888888888888,
              "#fdca26"
             ],
             [
              1,
              "#f0f921"
             ]
            ],
            "type": "histogram2dcontour"
           }
          ],
          "mesh3d": [
           {
            "colorbar": {
             "outlinewidth": 0,
             "ticks": ""
            },
            "type": "mesh3d"
           }
          ],
          "parcoords": [
           {
            "line": {
             "colorbar": {
              "outlinewidth": 0,
              "ticks": ""
             }
            },
            "type": "parcoords"
           }
          ],
          "pie": [
           {
            "automargin": true,
            "type": "pie"
           }
          ],
          "scatter": [
           {
            "marker": {
             "colorbar": {
              "outlinewidth": 0,
              "ticks": ""
             }
            },
            "type": "scatter"
           }
          ],
          "scatter3d": [
           {
            "line": {
             "colorbar": {
              "outlinewidth": 0,
              "ticks": ""
             }
            },
            "marker": {
             "colorbar": {
              "outlinewidth": 0,
              "ticks": ""
             }
            },
            "type": "scatter3d"
           }
          ],
          "scattercarpet": [
           {
            "marker": {
             "colorbar": {
              "outlinewidth": 0,
              "ticks": ""
             }
            },
            "type": "scattercarpet"
           }
          ],
          "scattergeo": [
           {
            "marker": {
             "colorbar": {
              "outlinewidth": 0,
              "ticks": ""
             }
            },
            "type": "scattergeo"
           }
          ],
          "scattergl": [
           {
            "marker": {
             "colorbar": {
              "outlinewidth": 0,
              "ticks": ""
             }
            },
            "type": "scattergl"
           }
          ],
          "scattermapbox": [
           {
            "marker": {
             "colorbar": {
              "outlinewidth": 0,
              "ticks": ""
             }
            },
            "type": "scattermapbox"
           }
          ],
          "scatterpolar": [
           {
            "marker": {
             "colorbar": {
              "outlinewidth": 0,
              "ticks": ""
             }
            },
            "type": "scatterpolar"
           }
          ],
          "scatterpolargl": [
           {
            "marker": {
             "colorbar": {
              "outlinewidth": 0,
              "ticks": ""
             }
            },
            "type": "scatterpolargl"
           }
          ],
          "scatterternary": [
           {
            "marker": {
             "colorbar": {
              "outlinewidth": 0,
              "ticks": ""
             }
            },
            "type": "scatterternary"
           }
          ],
          "surface": [
           {
            "colorbar": {
             "outlinewidth": 0,
             "ticks": ""
            },
            "colorscale": [
             [
              0,
              "#0d0887"
             ],
             [
              0.1111111111111111,
              "#46039f"
             ],
             [
              0.2222222222222222,
              "#7201a8"
             ],
             [
              0.3333333333333333,
              "#9c179e"
             ],
             [
              0.4444444444444444,
              "#bd3786"
             ],
             [
              0.5555555555555556,
              "#d8576b"
             ],
             [
              0.6666666666666666,
              "#ed7953"
             ],
             [
              0.7777777777777778,
              "#fb9f3a"
             ],
             [
              0.8888888888888888,
              "#fdca26"
             ],
             [
              1,
              "#f0f921"
             ]
            ],
            "type": "surface"
           }
          ],
          "table": [
           {
            "cells": {
             "fill": {
              "color": "#EBF0F8"
             },
             "line": {
              "color": "white"
             }
            },
            "header": {
             "fill": {
              "color": "#C8D4E3"
             },
             "line": {
              "color": "white"
             }
            },
            "type": "table"
           }
          ]
         },
         "layout": {
          "annotationdefaults": {
           "arrowcolor": "#2a3f5f",
           "arrowhead": 0,
           "arrowwidth": 1
          },
          "autotypenumbers": "strict",
          "coloraxis": {
           "colorbar": {
            "outlinewidth": 0,
            "ticks": ""
           }
          },
          "colorscale": {
           "diverging": [
            [
             0,
             "#8e0152"
            ],
            [
             0.1,
             "#c51b7d"
            ],
            [
             0.2,
             "#de77ae"
            ],
            [
             0.3,
             "#f1b6da"
            ],
            [
             0.4,
             "#fde0ef"
            ],
            [
             0.5,
             "#f7f7f7"
            ],
            [
             0.6,
             "#e6f5d0"
            ],
            [
             0.7,
             "#b8e186"
            ],
            [
             0.8,
             "#7fbc41"
            ],
            [
             0.9,
             "#4d9221"
            ],
            [
             1,
             "#276419"
            ]
           ],
           "sequential": [
            [
             0,
             "#0d0887"
            ],
            [
             0.1111111111111111,
             "#46039f"
            ],
            [
             0.2222222222222222,
             "#7201a8"
            ],
            [
             0.3333333333333333,
             "#9c179e"
            ],
            [
             0.4444444444444444,
             "#bd3786"
            ],
            [
             0.5555555555555556,
             "#d8576b"
            ],
            [
             0.6666666666666666,
             "#ed7953"
            ],
            [
             0.7777777777777778,
             "#fb9f3a"
            ],
            [
             0.8888888888888888,
             "#fdca26"
            ],
            [
             1,
             "#f0f921"
            ]
           ],
           "sequentialminus": [
            [
             0,
             "#0d0887"
            ],
            [
             0.1111111111111111,
             "#46039f"
            ],
            [
             0.2222222222222222,
             "#7201a8"
            ],
            [
             0.3333333333333333,
             "#9c179e"
            ],
            [
             0.4444444444444444,
             "#bd3786"
            ],
            [
             0.5555555555555556,
             "#d8576b"
            ],
            [
             0.6666666666666666,
             "#ed7953"
            ],
            [
             0.7777777777777778,
             "#fb9f3a"
            ],
            [
             0.8888888888888888,
             "#fdca26"
            ],
            [
             1,
             "#f0f921"
            ]
           ]
          },
          "colorway": [
           "#636efa",
           "#EF553B",
           "#00cc96",
           "#ab63fa",
           "#FFA15A",
           "#19d3f3",
           "#FF6692",
           "#B6E880",
           "#FF97FF",
           "#FECB52"
          ],
          "font": {
           "color": "#2a3f5f"
          },
          "geo": {
           "bgcolor": "white",
           "lakecolor": "white",
           "landcolor": "#E5ECF6",
           "showlakes": true,
           "showland": true,
           "subunitcolor": "white"
          },
          "hoverlabel": {
           "align": "left"
          },
          "hovermode": "closest",
          "mapbox": {
           "style": "light"
          },
          "paper_bgcolor": "white",
          "plot_bgcolor": "#E5ECF6",
          "polar": {
           "angularaxis": {
            "gridcolor": "white",
            "linecolor": "white",
            "ticks": ""
           },
           "bgcolor": "#E5ECF6",
           "radialaxis": {
            "gridcolor": "white",
            "linecolor": "white",
            "ticks": ""
           }
          },
          "scene": {
           "xaxis": {
            "backgroundcolor": "#E5ECF6",
            "gridcolor": "white",
            "gridwidth": 2,
            "linecolor": "white",
            "showbackground": true,
            "ticks": "",
            "zerolinecolor": "white"
           },
           "yaxis": {
            "backgroundcolor": "#E5ECF6",
            "gridcolor": "white",
            "gridwidth": 2,
            "linecolor": "white",
            "showbackground": true,
            "ticks": "",
            "zerolinecolor": "white"
           },
           "zaxis": {
            "backgroundcolor": "#E5ECF6",
            "gridcolor": "white",
            "gridwidth": 2,
            "linecolor": "white",
            "showbackground": true,
            "ticks": "",
            "zerolinecolor": "white"
           }
          },
          "shapedefaults": {
           "line": {
            "color": "#2a3f5f"
           }
          },
          "ternary": {
           "aaxis": {
            "gridcolor": "white",
            "linecolor": "white",
            "ticks": ""
           },
           "baxis": {
            "gridcolor": "white",
            "linecolor": "white",
            "ticks": ""
           },
           "bgcolor": "#E5ECF6",
           "caxis": {
            "gridcolor": "white",
            "linecolor": "white",
            "ticks": ""
           }
          },
          "title": {
           "x": 0.05
          },
          "xaxis": {
           "automargin": true,
           "gridcolor": "white",
           "linecolor": "white",
           "ticks": "",
           "title": {
            "standoff": 15
           },
           "zerolinecolor": "white",
           "zerolinewidth": 2
          },
          "yaxis": {
           "automargin": true,
           "gridcolor": "white",
           "linecolor": "white",
           "ticks": "",
           "title": {
            "standoff": 15
           },
           "zerolinecolor": "white",
           "zerolinewidth": 2
          }
         }
        },
        "title": {
         "text": "Topic: '7_flüchtlinge_menschen_ukraine_grenze', 0. and 2. Principal Components"
        },
        "xaxis": {
         "anchor": "y",
         "domain": [
          0,
          1
         ],
         "title": {
          "text": "0. Principal Component"
         }
        },
        "yaxis": {
         "anchor": "x",
         "domain": [
          0,
          1
         ],
         "title": {
          "text": "2. Principal Component"
         }
        }
       }
      }
     },
     "metadata": {},
     "output_type": "display_data"
    }
   ],
   "source": [
    "if n_components>2:\n",
    "    fig = px.scatter(\n",
    "        x=model.components_[0], \n",
    "        y=model.components_[2], \n",
    "        color=[political_spectrum_dict[medium] for medium in N.columns.to_list()],\n",
    "        color_discrete_sequence=color_palette,\n",
    "        hover_data=[N.columns.to_list()], \n",
    "        title=f'Topic: \\'{topic}\\', 0. and 2. Principal Components',\n",
    "        labels={\n",
    "            \"x\": \"0. Principal Component\",\n",
    "            \"y\": \"2. Principal Component\",\n",
    "        },\n",
    "        )\n",
    "    fig.show()"
   ]
  },
  {
   "cell_type": "code",
   "execution_count": 267,
   "metadata": {},
   "outputs": [
    {
     "data": {
      "application/vnd.plotly.v1+json": {
       "config": {
        "plotlyServerURL": "https://plot.ly"
       },
       "data": [
        {
         "customdata": [
          [
           "junge Welt"
          ],
          [
           "NachDenkSeiten"
          ]
         ],
         "hovertemplate": "color=left<br>1. Generalized Principal Component=%{x}<br>2. Generalized Principal Component=%{y}<br>hover_data_0=%{customdata[0]}<extra></extra>",
         "legendgroup": "left",
         "marker": {
          "color": "rgb(20.0, 20.0, 255.0)",
          "symbol": "circle"
         },
         "mode": "markers",
         "name": "left",
         "orientation": "v",
         "showlegend": true,
         "type": "scatter",
         "x": [
          21.21387525795581,
          16.04296587122015
         ],
         "xaxis": "x",
         "y": [
          3.130734825464547,
          1.5048609596406335
         ],
         "yaxis": "y"
        },
        {
         "customdata": [
          [
           "taz"
          ],
          [
           "Süddeutsche Zeitung"
          ],
          [
           "stern TV"
          ],
          [
           "DER SPIEGEL"
          ]
         ],
         "hovertemplate": "color=left leaning<br>1. Generalized Principal Component=%{x}<br>2. Generalized Principal Component=%{y}<br>hover_data_0=%{customdata[0]}<extra></extra>",
         "legendgroup": "left leaning",
         "marker": {
          "color": "rgb(50.0, 0.0, 170.0)",
          "symbol": "circle"
         },
         "mode": "markers",
         "name": "left leaning",
         "orientation": "v",
         "showlegend": true,
         "type": "scatter",
         "x": [
          -5.004897597035652,
          -3.6073555895093365,
          -14.20534963494405,
          0.683425239795502
         ],
         "xaxis": "x",
         "y": [
          9.068980331471664,
          3.1132495432304483,
          -4.241224400119482,
          8.562069683873197
         ],
         "yaxis": "y"
        },
        {
         "customdata": [
          [
           "Der Tagesspiegel"
          ],
          [
           "ARD"
          ],
          [
           "ZDF"
          ],
          [
           "ZDFheute Nachrichten"
          ],
          [
           "Bayerischer Rundfunk"
          ],
          [
           "ntv Nachrichten"
          ],
          [
           "ZEIT ONLINE"
          ],
          [
           "faz"
          ],
          [
           "WELT"
          ]
         ],
         "hovertemplate": "color=center<br>1. Generalized Principal Component=%{x}<br>2. Generalized Principal Component=%{y}<br>hover_data_0=%{customdata[0]}<extra></extra>",
         "legendgroup": "center",
         "marker": {
          "color": "rgb(120.0, 120.0, 120.0)",
          "symbol": "circle"
         },
         "mode": "markers",
         "name": "center",
         "orientation": "v",
         "showlegend": true,
         "type": "scatter",
         "x": [
          1.9844201310570035,
          5.0469816267089325,
          -7.630104814971319,
          -4.480452281952817,
          -1.3336262571054442,
          -1.8462046435413904,
          -0.6841697930164412,
          15.245266837528725,
          -15.370493352528447
         ],
         "xaxis": "x",
         "y": [
          -4.967453421863822,
          -0.47275769543246327,
          0.9409391880862147,
          -7.20485870355776,
          11.033930697391765,
          -3.2731723138215276,
          3.3764974689231493,
          -2.297482051252705,
          -36.41645789278647
         ],
         "yaxis": "y"
        },
        {
         "customdata": [
          [
           "RTL"
          ],
          [
           "FOCUS Online"
          ],
          [
           "BILD"
          ],
          [
           "NZZ Neue Zürcher Zeitung"
          ]
         ],
         "hovertemplate": "color=right leaning<br>1. Generalized Principal Component=%{x}<br>2. Generalized Principal Component=%{y}<br>hover_data_0=%{customdata[0]}<extra></extra>",
         "legendgroup": "right leaning",
         "marker": {
          "color": "rgb(170.0, 0.0, 50.0)",
          "symbol": "circle"
         },
         "mode": "markers",
         "name": "right leaning",
         "orientation": "v",
         "showlegend": true,
         "type": "scatter",
         "x": [
          -10.671605764235759,
          0.6527935688465492,
          -19.999039425812008,
          6.531577967223516
         ],
         "xaxis": "x",
         "y": [
          -3.4307236929245817,
          -5.648855107466848,
          -1.1083670938049073,
          9.61228973117814
         ],
         "yaxis": "y"
        },
        {
         "customdata": [
          [
           "Junge Freiheit"
          ],
          [
           "COMPACTTV"
          ]
         ],
         "hovertemplate": "color=right<br>1. Generalized Principal Component=%{x}<br>2. Generalized Principal Component=%{y}<br>hover_data_0=%{customdata[0]}<extra></extra>",
         "legendgroup": "right",
         "marker": {
          "color": "rgb(255.0, 20.0, 20.0)",
          "symbol": "circle"
         },
         "mode": "markers",
         "name": "right",
         "orientation": "v",
         "showlegend": true,
         "type": "scatter",
         "x": [
          8.252067749605596,
          9.179924904710886
         ],
         "xaxis": "x",
         "y": [
          9.917668858454117,
          8.800131085316679
         ],
         "yaxis": "y"
        }
       ],
       "layout": {
        "legend": {
         "title": {
          "text": "color"
         },
         "tracegroupgap": 0
        },
        "template": {
         "data": {
          "bar": [
           {
            "error_x": {
             "color": "#2a3f5f"
            },
            "error_y": {
             "color": "#2a3f5f"
            },
            "marker": {
             "line": {
              "color": "#E5ECF6",
              "width": 0.5
             },
             "pattern": {
              "fillmode": "overlay",
              "size": 10,
              "solidity": 0.2
             }
            },
            "type": "bar"
           }
          ],
          "barpolar": [
           {
            "marker": {
             "line": {
              "color": "#E5ECF6",
              "width": 0.5
             },
             "pattern": {
              "fillmode": "overlay",
              "size": 10,
              "solidity": 0.2
             }
            },
            "type": "barpolar"
           }
          ],
          "carpet": [
           {
            "aaxis": {
             "endlinecolor": "#2a3f5f",
             "gridcolor": "white",
             "linecolor": "white",
             "minorgridcolor": "white",
             "startlinecolor": "#2a3f5f"
            },
            "baxis": {
             "endlinecolor": "#2a3f5f",
             "gridcolor": "white",
             "linecolor": "white",
             "minorgridcolor": "white",
             "startlinecolor": "#2a3f5f"
            },
            "type": "carpet"
           }
          ],
          "choropleth": [
           {
            "colorbar": {
             "outlinewidth": 0,
             "ticks": ""
            },
            "type": "choropleth"
           }
          ],
          "contour": [
           {
            "colorbar": {
             "outlinewidth": 0,
             "ticks": ""
            },
            "colorscale": [
             [
              0,
              "#0d0887"
             ],
             [
              0.1111111111111111,
              "#46039f"
             ],
             [
              0.2222222222222222,
              "#7201a8"
             ],
             [
              0.3333333333333333,
              "#9c179e"
             ],
             [
              0.4444444444444444,
              "#bd3786"
             ],
             [
              0.5555555555555556,
              "#d8576b"
             ],
             [
              0.6666666666666666,
              "#ed7953"
             ],
             [
              0.7777777777777778,
              "#fb9f3a"
             ],
             [
              0.8888888888888888,
              "#fdca26"
             ],
             [
              1,
              "#f0f921"
             ]
            ],
            "type": "contour"
           }
          ],
          "contourcarpet": [
           {
            "colorbar": {
             "outlinewidth": 0,
             "ticks": ""
            },
            "type": "contourcarpet"
           }
          ],
          "heatmap": [
           {
            "colorbar": {
             "outlinewidth": 0,
             "ticks": ""
            },
            "colorscale": [
             [
              0,
              "#0d0887"
             ],
             [
              0.1111111111111111,
              "#46039f"
             ],
             [
              0.2222222222222222,
              "#7201a8"
             ],
             [
              0.3333333333333333,
              "#9c179e"
             ],
             [
              0.4444444444444444,
              "#bd3786"
             ],
             [
              0.5555555555555556,
              "#d8576b"
             ],
             [
              0.6666666666666666,
              "#ed7953"
             ],
             [
              0.7777777777777778,
              "#fb9f3a"
             ],
             [
              0.8888888888888888,
              "#fdca26"
             ],
             [
              1,
              "#f0f921"
             ]
            ],
            "type": "heatmap"
           }
          ],
          "heatmapgl": [
           {
            "colorbar": {
             "outlinewidth": 0,
             "ticks": ""
            },
            "colorscale": [
             [
              0,
              "#0d0887"
             ],
             [
              0.1111111111111111,
              "#46039f"
             ],
             [
              0.2222222222222222,
              "#7201a8"
             ],
             [
              0.3333333333333333,
              "#9c179e"
             ],
             [
              0.4444444444444444,
              "#bd3786"
             ],
             [
              0.5555555555555556,
              "#d8576b"
             ],
             [
              0.6666666666666666,
              "#ed7953"
             ],
             [
              0.7777777777777778,
              "#fb9f3a"
             ],
             [
              0.8888888888888888,
              "#fdca26"
             ],
             [
              1,
              "#f0f921"
             ]
            ],
            "type": "heatmapgl"
           }
          ],
          "histogram": [
           {
            "marker": {
             "pattern": {
              "fillmode": "overlay",
              "size": 10,
              "solidity": 0.2
             }
            },
            "type": "histogram"
           }
          ],
          "histogram2d": [
           {
            "colorbar": {
             "outlinewidth": 0,
             "ticks": ""
            },
            "colorscale": [
             [
              0,
              "#0d0887"
             ],
             [
              0.1111111111111111,
              "#46039f"
             ],
             [
              0.2222222222222222,
              "#7201a8"
             ],
             [
              0.3333333333333333,
              "#9c179e"
             ],
             [
              0.4444444444444444,
              "#bd3786"
             ],
             [
              0.5555555555555556,
              "#d8576b"
             ],
             [
              0.6666666666666666,
              "#ed7953"
             ],
             [
              0.7777777777777778,
              "#fb9f3a"
             ],
             [
              0.8888888888888888,
              "#fdca26"
             ],
             [
              1,
              "#f0f921"
             ]
            ],
            "type": "histogram2d"
           }
          ],
          "histogram2dcontour": [
           {
            "colorbar": {
             "outlinewidth": 0,
             "ticks": ""
            },
            "colorscale": [
             [
              0,
              "#0d0887"
             ],
             [
              0.1111111111111111,
              "#46039f"
             ],
             [
              0.2222222222222222,
              "#7201a8"
             ],
             [
              0.3333333333333333,
              "#9c179e"
             ],
             [
              0.4444444444444444,
              "#bd3786"
             ],
             [
              0.5555555555555556,
              "#d8576b"
             ],
             [
              0.6666666666666666,
              "#ed7953"
             ],
             [
              0.7777777777777778,
              "#fb9f3a"
             ],
             [
              0.8888888888888888,
              "#fdca26"
             ],
             [
              1,
              "#f0f921"
             ]
            ],
            "type": "histogram2dcontour"
           }
          ],
          "mesh3d": [
           {
            "colorbar": {
             "outlinewidth": 0,
             "ticks": ""
            },
            "type": "mesh3d"
           }
          ],
          "parcoords": [
           {
            "line": {
             "colorbar": {
              "outlinewidth": 0,
              "ticks": ""
             }
            },
            "type": "parcoords"
           }
          ],
          "pie": [
           {
            "automargin": true,
            "type": "pie"
           }
          ],
          "scatter": [
           {
            "marker": {
             "colorbar": {
              "outlinewidth": 0,
              "ticks": ""
             }
            },
            "type": "scatter"
           }
          ],
          "scatter3d": [
           {
            "line": {
             "colorbar": {
              "outlinewidth": 0,
              "ticks": ""
             }
            },
            "marker": {
             "colorbar": {
              "outlinewidth": 0,
              "ticks": ""
             }
            },
            "type": "scatter3d"
           }
          ],
          "scattercarpet": [
           {
            "marker": {
             "colorbar": {
              "outlinewidth": 0,
              "ticks": ""
             }
            },
            "type": "scattercarpet"
           }
          ],
          "scattergeo": [
           {
            "marker": {
             "colorbar": {
              "outlinewidth": 0,
              "ticks": ""
             }
            },
            "type": "scattergeo"
           }
          ],
          "scattergl": [
           {
            "marker": {
             "colorbar": {
              "outlinewidth": 0,
              "ticks": ""
             }
            },
            "type": "scattergl"
           }
          ],
          "scattermapbox": [
           {
            "marker": {
             "colorbar": {
              "outlinewidth": 0,
              "ticks": ""
             }
            },
            "type": "scattermapbox"
           }
          ],
          "scatterpolar": [
           {
            "marker": {
             "colorbar": {
              "outlinewidth": 0,
              "ticks": ""
             }
            },
            "type": "scatterpolar"
           }
          ],
          "scatterpolargl": [
           {
            "marker": {
             "colorbar": {
              "outlinewidth": 0,
              "ticks": ""
             }
            },
            "type": "scatterpolargl"
           }
          ],
          "scatterternary": [
           {
            "marker": {
             "colorbar": {
              "outlinewidth": 0,
              "ticks": ""
             }
            },
            "type": "scatterternary"
           }
          ],
          "surface": [
           {
            "colorbar": {
             "outlinewidth": 0,
             "ticks": ""
            },
            "colorscale": [
             [
              0,
              "#0d0887"
             ],
             [
              0.1111111111111111,
              "#46039f"
             ],
             [
              0.2222222222222222,
              "#7201a8"
             ],
             [
              0.3333333333333333,
              "#9c179e"
             ],
             [
              0.4444444444444444,
              "#bd3786"
             ],
             [
              0.5555555555555556,
              "#d8576b"
             ],
             [
              0.6666666666666666,
              "#ed7953"
             ],
             [
              0.7777777777777778,
              "#fb9f3a"
             ],
             [
              0.8888888888888888,
              "#fdca26"
             ],
             [
              1,
              "#f0f921"
             ]
            ],
            "type": "surface"
           }
          ],
          "table": [
           {
            "cells": {
             "fill": {
              "color": "#EBF0F8"
             },
             "line": {
              "color": "white"
             }
            },
            "header": {
             "fill": {
              "color": "#C8D4E3"
             },
             "line": {
              "color": "white"
             }
            },
            "type": "table"
           }
          ]
         },
         "layout": {
          "annotationdefaults": {
           "arrowcolor": "#2a3f5f",
           "arrowhead": 0,
           "arrowwidth": 1
          },
          "autotypenumbers": "strict",
          "coloraxis": {
           "colorbar": {
            "outlinewidth": 0,
            "ticks": ""
           }
          },
          "colorscale": {
           "diverging": [
            [
             0,
             "#8e0152"
            ],
            [
             0.1,
             "#c51b7d"
            ],
            [
             0.2,
             "#de77ae"
            ],
            [
             0.3,
             "#f1b6da"
            ],
            [
             0.4,
             "#fde0ef"
            ],
            [
             0.5,
             "#f7f7f7"
            ],
            [
             0.6,
             "#e6f5d0"
            ],
            [
             0.7,
             "#b8e186"
            ],
            [
             0.8,
             "#7fbc41"
            ],
            [
             0.9,
             "#4d9221"
            ],
            [
             1,
             "#276419"
            ]
           ],
           "sequential": [
            [
             0,
             "#0d0887"
            ],
            [
             0.1111111111111111,
             "#46039f"
            ],
            [
             0.2222222222222222,
             "#7201a8"
            ],
            [
             0.3333333333333333,
             "#9c179e"
            ],
            [
             0.4444444444444444,
             "#bd3786"
            ],
            [
             0.5555555555555556,
             "#d8576b"
            ],
            [
             0.6666666666666666,
             "#ed7953"
            ],
            [
             0.7777777777777778,
             "#fb9f3a"
            ],
            [
             0.8888888888888888,
             "#fdca26"
            ],
            [
             1,
             "#f0f921"
            ]
           ],
           "sequentialminus": [
            [
             0,
             "#0d0887"
            ],
            [
             0.1111111111111111,
             "#46039f"
            ],
            [
             0.2222222222222222,
             "#7201a8"
            ],
            [
             0.3333333333333333,
             "#9c179e"
            ],
            [
             0.4444444444444444,
             "#bd3786"
            ],
            [
             0.5555555555555556,
             "#d8576b"
            ],
            [
             0.6666666666666666,
             "#ed7953"
            ],
            [
             0.7777777777777778,
             "#fb9f3a"
            ],
            [
             0.8888888888888888,
             "#fdca26"
            ],
            [
             1,
             "#f0f921"
            ]
           ]
          },
          "colorway": [
           "#636efa",
           "#EF553B",
           "#00cc96",
           "#ab63fa",
           "#FFA15A",
           "#19d3f3",
           "#FF6692",
           "#B6E880",
           "#FF97FF",
           "#FECB52"
          ],
          "font": {
           "color": "#2a3f5f"
          },
          "geo": {
           "bgcolor": "white",
           "lakecolor": "white",
           "landcolor": "#E5ECF6",
           "showlakes": true,
           "showland": true,
           "subunitcolor": "white"
          },
          "hoverlabel": {
           "align": "left"
          },
          "hovermode": "closest",
          "mapbox": {
           "style": "light"
          },
          "paper_bgcolor": "white",
          "plot_bgcolor": "#E5ECF6",
          "polar": {
           "angularaxis": {
            "gridcolor": "white",
            "linecolor": "white",
            "ticks": ""
           },
           "bgcolor": "#E5ECF6",
           "radialaxis": {
            "gridcolor": "white",
            "linecolor": "white",
            "ticks": ""
           }
          },
          "scene": {
           "xaxis": {
            "backgroundcolor": "#E5ECF6",
            "gridcolor": "white",
            "gridwidth": 2,
            "linecolor": "white",
            "showbackground": true,
            "ticks": "",
            "zerolinecolor": "white"
           },
           "yaxis": {
            "backgroundcolor": "#E5ECF6",
            "gridcolor": "white",
            "gridwidth": 2,
            "linecolor": "white",
            "showbackground": true,
            "ticks": "",
            "zerolinecolor": "white"
           },
           "zaxis": {
            "backgroundcolor": "#E5ECF6",
            "gridcolor": "white",
            "gridwidth": 2,
            "linecolor": "white",
            "showbackground": true,
            "ticks": "",
            "zerolinecolor": "white"
           }
          },
          "shapedefaults": {
           "line": {
            "color": "#2a3f5f"
           }
          },
          "ternary": {
           "aaxis": {
            "gridcolor": "white",
            "linecolor": "white",
            "ticks": ""
           },
           "baxis": {
            "gridcolor": "white",
            "linecolor": "white",
            "ticks": ""
           },
           "bgcolor": "#E5ECF6",
           "caxis": {
            "gridcolor": "white",
            "linecolor": "white",
            "ticks": ""
           }
          },
          "title": {
           "x": 0.05
          },
          "xaxis": {
           "automargin": true,
           "gridcolor": "white",
           "linecolor": "white",
           "ticks": "",
           "title": {
            "standoff": 15
           },
           "zerolinecolor": "white",
           "zerolinewidth": 2
          },
          "yaxis": {
           "automargin": true,
           "gridcolor": "white",
           "linecolor": "white",
           "ticks": "",
           "title": {
            "standoff": 15
           },
           "zerolinecolor": "white",
           "zerolinewidth": 2
          }
         }
        },
        "title": {
         "text": "Topic: '7_flüchtlinge_menschen_ukraine_grenze', 1. and 2. Generalized Principal Components"
        },
        "xaxis": {
         "anchor": "y",
         "domain": [
          0,
          1
         ],
         "title": {
          "text": "1. Generalized Principal Component"
         }
        },
        "yaxis": {
         "anchor": "x",
         "domain": [
          0,
          1
         ],
         "title": {
          "text": "2. Generalized Principal Component"
         }
        }
       }
      }
     },
     "metadata": {},
     "output_type": "display_data"
    }
   ],
   "source": [
    "from glmpca import glmpca\n",
    "res = glmpca.glmpca(N.values, 3)\n",
    "factors= res[\"factors\"]\n",
    "fig = px.scatter(\n",
    "    x=factors[:,1], \n",
    "    y=factors[:,2], \n",
    "    color=[political_spectrum_dict[medium] for medium in N.columns.to_list()],\n",
    "    color_discrete_sequence=color_palette,\n",
    "    hover_data=[N.columns.to_list()], \n",
    "    title=f'Topic: \\'{topic}\\', 1. and 2. Generalized Principal Components',\n",
    "        labels={\n",
    "            \"x\": \"1. Generalized Principal Component\",\n",
    "            \"y\": \"2. Generalized Principal Component\",\n",
    "        },\n",
    "    )\n",
    "fig.show()"
   ]
  }
 ],
 "metadata": {
  "interpreter": {
   "hash": "9ae7ae13804f56b6812076ff88d4c743516b7c995d69dd5984882be015e04ad2"
  },
  "kernelspec": {
   "display_name": "Python 3.9.10 ('base')",
   "language": "python",
   "name": "python3"
  },
  "language_info": {
   "codemirror_mode": {
    "name": "ipython",
    "version": 3
   },
   "file_extension": ".py",
   "mimetype": "text/x-python",
   "name": "python",
   "nbconvert_exporter": "python",
   "pygments_lexer": "ipython3",
   "version": "3.9.10"
  },
  "orig_nbformat": 4
 },
 "nbformat": 4,
 "nbformat_minor": 2
}
