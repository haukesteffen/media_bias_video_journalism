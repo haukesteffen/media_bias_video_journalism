{
 "cells": [
  {
   "cell_type": "code",
   "execution_count": 2,
   "metadata": {},
   "outputs": [],
   "source": [
    "import pandas as pd\n",
    "import numpy as np\n",
    "import spacy\n",
    "nlp = spacy.load('de_core_news_sm')\n",
    "\n",
    "parties = {\n",
    "       'afd':[],\n",
    "       'cdu_csu':[],\n",
    "       'fdp':[],\n",
    "       'spd':[],\n",
    "       'grüne':[],\n",
    "       'linke':[],\n",
    "}"
   ]
  },
  {
   "cell_type": "code",
   "execution_count": 3,
   "metadata": {},
   "outputs": [],
   "source": [
    "for party in parties.keys():\n",
    "    with open(f\"../assets/manifests/{party}_manifest.txt\", encoding=\"utf-8\", errors=\"ignore\") as d:\n",
    "        manifest = d.read()\n",
    "    manifest = manifest.replace(\"0\", \"\")\n",
    "    manifest = manifest.replace(\"1\", \"\")\n",
    "    manifest = manifest.replace(\"2\", \"\")\n",
    "    manifest = manifest.replace(\"3\", \"\")\n",
    "    manifest = manifest.replace(\"4\", \"\")\n",
    "    manifest = manifest.replace(\"5\", \"\")\n",
    "    manifest = manifest.replace(\"6\", \"\")\n",
    "    manifest = manifest.replace(\"7\", \"\")\n",
    "    manifest = manifest.replace(\"8\", \"\")\n",
    "    manifest = manifest.replace(\"9\", \"\")\n",
    "    manifest = manifest.replace(\"-\\n\\n\", \"\")\n",
    "    manifest = manifest.replace(\"-\\n\", \"\")\n",
    "    manifest = manifest.replace(\"\\n\", \" \")\n",
    "    manifest = manifest.replace(\"\\x0c\", \" \")\n",
    "    manifest = manifest.replace(\".\", \" \")\n",
    "    manifest = manifest.replace(\",\", \" \")\n",
    "    manifest = manifest.replace(\"-\", \"\")\n",
    "    manifest = manifest.replace(\"•\", \"\")\n",
    "    manifest = manifest.replace(\"–\", \"\")\n",
    "    manifest = manifest.replace(\":\", \"\")\n",
    "    manifest = manifest.replace(\"%\", \"\")\n",
    "    manifest = manifest.replace(\"\\\"\", \"\")\n",
    "    manifest = manifest.replace(\">\", \"\")\n",
    "    manifest = manifest.replace(\"\\t\", \" \")\n",
    "    manifest = manifest.replace(\"\\x07\", \"\")\n",
    "    manifest = manifest.replace(\"\\x08\", \"\")\n",
    "    manifest = manifest.replace(\"\\xad\", \"\")\n",
    "    manifest = manifest.replace(\"\\xa0\", \"\")\n",
    "    manifest = manifest.replace(\"\\u200a\", \"\")\n",
    "    manifest = manifest.replace(\"?\", \"\")\n",
    "    manifest = manifest.replace(\"!\", \"\")\n",
    "    manifest = manifest.replace(\"(\", \"\")\n",
    "    manifest = manifest.replace(\")\", \"\")\n",
    "    manifest = manifest.replace(\"/\", \" \")\n",
    "    manifest = manifest.replace(\"�\", \"\")\n",
    "    manifest = manifest.replace(\"“\", \"\")\n",
    "    manifest = manifest.replace(\"„\", \"\")\n",
    "    manifest = manifest.replace(\"€\", \"\")\n",
    "    manifest = manifest.replace(\"K APITE L\", \" \")\n",
    "    manifest = manifest.replace(\"»\", \"\")\n",
    "    manifest = manifest.replace(\"«\", \"\")\n",
    "    with nlp.select_pipes(enable=\"lemmatizer\"):\n",
    "        doc = nlp(manifest)\n",
    "    lemmas = [token.lemma_.lower() for token in doc]\n",
    "    parties[party] = [lemma for lemma in lemmas if lemma.isalpha()]"
   ]
  },
  {
   "cell_type": "code",
   "execution_count": 4,
   "metadata": {},
   "outputs": [],
   "source": [
    "from sklearn.feature_extraction.text import TfidfVectorizer\n",
    "vec = TfidfVectorizer(min_df=2, max_df=5)\n",
    "test = vec.fit_transform([\" \".join(i) for _, i in parties.items()])"
   ]
  },
  {
   "cell_type": "code",
   "execution_count": 13,
   "metadata": {},
   "outputs": [
    {
     "name": "stdout",
     "output_type": "stream",
     "text": [
      "party: afd\n",
      "discriminative phrases:\n",
      "['afd' 'fordert' 'lehnt' 'bürger' 'gescheitert' 'familienpolitik' 'seit'\n",
      " 'zuwanderung' 'ezb' 'nationaler' 'islam' 'bundesbank' 'tritt'\n",
      " 'verteidigungspolitik' 'bzw' 'parteien' 'sozialpolitik'\n",
      " 'gesundheitspolitik' 'verbraucherschutz' 'rentenkonzept']\n",
      "\n",
      "party: cdu_csu\n",
      "discriminative phrases:\n",
      "['bürger' 'bürgerinnen' 'schnell' 'verbraucherinnen' 'chancen'\n",
      " 'verbraucher' 'partnern' 'bevölkerungsschutz' 'beschleunigen'\n",
      " 'modernisieren' 'klimaschutz' 'ordnung' 'wachstum' 'ideen' 'enge'\n",
      " 'prozent' 'fähigkeiten' 'bekennen' 'einfacher' 'vorantreiben']\n",
      "\n",
      "party: fdp\n",
      "discriminative phrases:\n",
      "['demokraten' 'bundestagswahl' 'chancen' 'bürgerinnen' 'bürger' 'prozent'\n",
      " 'quelle' 'menschenrechte' 'beziehungsweise' 'bürokratie' 'innovation'\n",
      " 'selbstständige' 'klare' 'innovative' 'liberalen' 'marktwirtschaft'\n",
      " 'faire' 'klimaschutz' 'schnell' 'arbeitnehmer']\n",
      "\n",
      "party: spd\n",
      "discriminative phrases:\n",
      "['zukunftsprogramm' 'spd' 'kapitel' 'respekt' 'solidarität' 'jugendliche'\n",
      " 'krise' 'chancen' 'prozent' 'engagement' 'gewerkschaften' 'zusammen'\n",
      " 'bürgergeld' 'gesorgt' 'sozialökologischen' 'ebenen' 'nachhaltigen'\n",
      " 'zivilgesellschaft' 'gleichstellung' 'wirtschaften']\n",
      "\n",
      "party: grüne\n",
      "discriminative phrases:\n",
      "['grünen' 'bündnis' 'kapitel' 'bereit' 'ff' 'klimaschutz' 'menschenrechte'\n",
      " 'klimakrise' 'prozent' 'faire' 'sozialökologische' 'überall' 'klare'\n",
      " 'zivilgesellschaft' 'geflüchteten' 'jugendliche' 'chancen' 'schnell'\n",
      " 'klimaneutralität' 'vorantreiben']\n",
      "\n",
      "party: linke\n",
      "discriminative phrases:\n",
      "['linke' 'kapitel' 'prozent' 'ver' 'solidarische' 'beschäftigte' 'umbau'\n",
      " 'gewerkschaften' 'konzerne' 'gerechtigkeit' 'stoppen' 'wohnungen'\n",
      " 'gerechte' 'nen' 'liche' 'löhne' 'krieg' 'un' 'klimagerechtigkeit' 'seit']\n",
      "\n"
     ]
    }
   ],
   "source": [
    "n = 20\n",
    "features = vec.get_feature_names_out()\n",
    "for i in range(6):\n",
    "    sorted = np.argsort(test[i,:].toarray()).flatten()[::-1]\n",
    "    top_n = features[sorted][:n]\n",
    "    print(f\"party: {list(parties.keys())[i]}\\ndiscriminative phrases:\\n{top_n}\\n\")"
   ]
  }
 ],
 "metadata": {
  "kernelspec": {
   "display_name": "Python 3.9.10 ('base')",
   "language": "python",
   "name": "python3"
  },
  "language_info": {
   "codemirror_mode": {
    "name": "ipython",
    "version": 3
   },
   "file_extension": ".py",
   "mimetype": "text/x-python",
   "name": "python",
   "nbconvert_exporter": "python",
   "pygments_lexer": "ipython3",
   "version": "3.9.10"
  },
  "orig_nbformat": 4,
  "vscode": {
   "interpreter": {
    "hash": "9ae7ae13804f56b6812076ff88d4c743516b7c995d69dd5984882be015e04ad2"
   }
  }
 },
 "nbformat": 4,
 "nbformat_minor": 2
}
