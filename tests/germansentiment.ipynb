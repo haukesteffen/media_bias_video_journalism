{
 "cells": [
  {
   "cell_type": "code",
   "execution_count": 1,
   "metadata": {},
   "outputs": [],
   "source": [
    "from transformers import AutoTokenizer, AutoModelForSequenceClassification, pipeline\n",
    "import pandas as pd\n",
    "\n",
    "df = pd.read_pickle('../data/topic.pkl')"
   ]
  },
  {
   "cell_type": "code",
   "execution_count": 2,
   "metadata": {},
   "outputs": [
    {
     "data": {
      "text/plain": [
       "[{'label': 'negative', 'score': 0.988132655620575}]"
      ]
     },
     "execution_count": 2,
     "metadata": {},
     "output_type": "execute_result"
    }
   ],
   "source": [
    "tokenizer = AutoTokenizer.from_pretrained(\"mdraw/german-news-sentiment-bert\")\n",
    "model = AutoModelForSequenceClassification.from_pretrained(\"mdraw/german-news-sentiment-bert\")\n",
    "classifier = pipeline(\"sentiment-analysis\", model=model, tokenizer=tokenizer)\n",
    "classifier(\"Dies ist ein schlechter Test.\")"
   ]
  },
  {
   "cell_type": "code",
   "execution_count": 3,
   "metadata": {},
   "outputs": [],
   "source": [
    "df['contains_cdu'] = df['preprocessed'].str.contains('cdu')\n",
    "df['contains_csu'] = df['preprocessed'].str.contains('csu')\n",
    "df['contains_fdp'] = df['preprocessed'].str.contains('fdp')\n",
    "df['contains_gr'] = df['preprocessed'].str.contains('grüne') | df['preprocessed'].str.contains('grünen')\n",
    "df['contains_li'] = df['preprocessed'].str.contains('linke') | df['preprocessed'].str.contains('linken')\n",
    "df['contains_afd'] = df['preprocessed'].str.contains('afd') | df['preprocessed'].str.contains('afg')\n",
    "df['contains_spd'] = df['preprocessed'].str.contains('spd')"
   ]
  },
  {
   "cell_type": "code",
   "execution_count": 4,
   "metadata": {},
   "outputs": [
    {
     "name": "stdout",
     "output_type": "stream",
     "text": [
      "String: bewegungen durch kämpfe auf den straßen im rahmen der proteste dass wir es sind die die forderung stellen und auch fordern müssen wir müssen die fragen richtig stellen und wir müssen auch die richtigen antworten geben darauf danket über meine nächste frage geht ein juhu kurz vor der bundestagswahl gab es ja noch mal einen großen streit tag bei future nun sind die grünen in der bundesregierung wenn es nach der ampel geht soll die klimakatastrophe gelöst werden durch innovationen in industrie technologie und wirtschaft unterstützt durch staatliche unterstützung unterstützungsprogramme es wird immer mehr produziert ohne dabei auf die bedürfnisse der bevölkerung einzugehen so sollen zb bis 20.30 mindestens 15 millionen e-autos auf deutschen straßen rollen ein radikales umdenken in sachen klimaschutz blieb wie zu erwarten war aus viele jugendliche sehen in den grünen jedoch ein fortschritt wie geht \n",
      "Classification: [{'label': 'neutral', 'score': 0.5348684191703796}]\n"
     ]
    }
   ],
   "source": [
    "ind = 4\n",
    "subset = 'contains_gr'\n",
    "\n",
    "teststring = df.loc[df[subset]].iloc[ind]['transcript']\n",
    "print(f'String: {teststring}')\n",
    "print(f'Classification: {classifier(teststring)}')"
   ]
  }
 ],
 "metadata": {
  "kernelspec": {
   "display_name": "Python 3.9.10 ('base')",
   "language": "python",
   "name": "python3"
  },
  "language_info": {
   "codemirror_mode": {
    "name": "ipython",
    "version": 3
   },
   "file_extension": ".py",
   "mimetype": "text/x-python",
   "name": "python",
   "nbconvert_exporter": "python",
   "pygments_lexer": "ipython3",
   "version": "3.9.10"
  },
  "orig_nbformat": 4,
  "vscode": {
   "interpreter": {
    "hash": "9ae7ae13804f56b6812076ff88d4c743516b7c995d69dd5984882be015e04ad2"
   }
  }
 },
 "nbformat": 4,
 "nbformat_minor": 2
}
