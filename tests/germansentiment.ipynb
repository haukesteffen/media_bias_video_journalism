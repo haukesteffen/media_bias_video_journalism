{
 "cells": [
  {
   "cell_type": "code",
   "execution_count": 1,
   "metadata": {},
   "outputs": [],
   "source": [
    "from transformers import AutoTokenizer, AutoModelForSequenceClassification, pipeline\n",
    "import pandas as pd\n",
    "import numpy as np\n",
    "\n",
    "df = pd.read_pickle('../data/topic.pkl')"
   ]
  },
  {
   "cell_type": "code",
   "execution_count": 2,
   "metadata": {},
   "outputs": [
    {
     "data": {
      "text/plain": [
       "[{'label': 'negative', 'score': 0.988132655620575}]"
      ]
     },
     "execution_count": 2,
     "metadata": {},
     "output_type": "execute_result"
    }
   ],
   "source": [
    "tokenizer = AutoTokenizer.from_pretrained(\"mdraw/german-news-sentiment-bert\")\n",
    "model = AutoModelForSequenceClassification.from_pretrained(\"mdraw/german-news-sentiment-bert\")\n",
    "classifier = pipeline(\"sentiment-analysis\", model=model, tokenizer=tokenizer)\n",
    "classifier(\"Dies ist ein schlechter Test.\")"
   ]
  },
  {
   "cell_type": "code",
   "execution_count": 3,
   "metadata": {},
   "outputs": [],
   "source": [
    "df['contains_cdu'] = df['preprocessed'].str.contains('cdu')\n",
    "df['contains_csu'] = df['preprocessed'].str.contains('csu')\n",
    "df['contains_fdp'] = df['preprocessed'].str.contains('fdp')\n",
    "df['contains_grüne'] = df['preprocessed'].str.contains('grüne') \n",
    "df['contains_linke'] = df['preprocessed'].str.contains('linke')\n",
    "df['contains_afd'] = df['preprocessed'].str.contains('afd') \n",
    "df['contains_afg'] = df['preprocessed'].str.contains('afg')\n",
    "df['contains_spd'] = df['preprocessed'].str.contains('spd')"
   ]
  },
  {
   "cell_type": "code",
   "execution_count": 4,
   "metadata": {},
   "outputs": [
    {
     "name": "stdout",
     "output_type": "stream",
     "text": [
      "String: bewegungen durch kämpfe auf den straßen im rahmen der proteste dass wir es sind die die forderung stellen und auch fordern müssen wir müssen die fragen richtig stellen und wir müssen auch die richtigen antworten geben darauf danket über meine nächste frage geht ein juhu kurz vor der bundestagswahl gab es ja noch mal einen großen streit tag bei future nun sind die grünen in der bundesregierung wenn es nach der ampel geht soll die klimakatastrophe gelöst werden durch innovationen in industrie technologie und wirtschaft unterstützt durch staatliche unterstützung unterstützungsprogramme es wird immer mehr produziert ohne dabei auf die bedürfnisse der bevölkerung einzugehen so sollen zb bis 20.30 mindestens 15 millionen e-autos auf deutschen straßen rollen ein radikales umdenken in sachen klimaschutz blieb wie zu erwarten war aus viele jugendliche sehen in den grünen jedoch ein fortschritt wie geht \n",
      "Classification: [{'label': 'neutral', 'score': 0.5348684191703796}]\n"
     ]
    }
   ],
   "source": [
    "ind = 4\n",
    "subset = 'contains_grüne'\n",
    "\n",
    "teststring = df.loc[df[subset]].iloc[ind]['transcript']\n",
    "print(f'String: {teststring}')\n",
    "print(f'Classification: {classifier(teststring)}')"
   ]
  },
  {
   "cell_type": "code",
   "execution_count": 20,
   "metadata": {},
   "outputs": [],
   "source": [
    "def extract_party_mentions(input_string, party_strings, n_words=10):\n",
    "    party_boolean = [False for i in input_string.split()]\n",
    "    for p in party_strings:\n",
    "        temp = [True if string == p else False for string in input_string.split()]\n",
    "        party_boolean = [party_boolean|temp for (party_boolean,temp) in zip(party_boolean, temp)]\n",
    "    party_index = np.where(party_boolean)[0]\n",
    "    return [\" \".join(input_string.split()[party_index[i]-n_words:party_index[i]+(n_words+1)]) for i in range(len(party_index))]"
   ]
  },
  {
   "cell_type": "code",
   "execution_count": 21,
   "metadata": {},
   "outputs": [
    {
     "data": {
      "text/plain": [
       "['mal einen großen streit tag bei future nun sind die grünen in der bundesregierung wenn es nach der ampel geht soll',\n",
       " 'wie zu erwarten war aus viele jugendliche sehen in den grünen jedoch ein fortschritt wie geht']"
      ]
     },
     "execution_count": 21,
     "metadata": {},
     "output_type": "execute_result"
    }
   ],
   "source": [
    "extract_party_mentions(input_string=teststring, party_strings=['grüne', 'grünen'])"
   ]
  },
  {
   "cell_type": "code",
   "execution_count": 36,
   "metadata": {},
   "outputs": [],
   "source": [
    "res_series = df['transcript'].loc[df['contains_fdp']].apply(lambda transcript: extract_party_mentions(input_string=transcript, party_strings=['fdp'], n_words=10))\n",
    "res_df = pd.DataFrame(res_series).explode(column='transcript')\n",
    "res_df.reset_index(inplace=True)\n",
    "res_df.dropna(inplace=True)"
   ]
  },
  {
   "cell_type": "code",
   "execution_count": 37,
   "metadata": {},
   "outputs": [],
   "source": [
    "res_df['sentiment'] = res_df['transcript'].apply(classifier)"
   ]
  },
  {
   "cell_type": "code",
   "execution_count": 60,
   "metadata": {},
   "outputs": [
    {
     "name": "stdout",
     "output_type": "stream",
     "text": [
      "Phrase: der wahl hat die neue regierung aus spd grüne und fdp den koalitionsvertrag vorgestellt das bündnis für freiheit gerechtigkeit und\n",
      "Sentiment: positive\n",
      "Score: 0.9217967987060547\n"
     ]
    }
   ],
   "source": [
    "sentiment_index = 0\n",
    "print(f\"Phrase: {res_df['transcript'].iloc[sentiment_index]}\")\n",
    "print(f\"Sentiment: {res_df['sentiment'].iloc[sentiment_index][0]['label']}\")\n",
    "print(f\"Score: {res_df['sentiment'].iloc[sentiment_index][0]['score']}\")"
   ]
  }
 ],
 "metadata": {
  "kernelspec": {
   "display_name": "Python 3.9.10 ('base')",
   "language": "python",
   "name": "python3"
  },
  "language_info": {
   "codemirror_mode": {
    "name": "ipython",
    "version": 3
   },
   "file_extension": ".py",
   "mimetype": "text/x-python",
   "name": "python",
   "nbconvert_exporter": "python",
   "pygments_lexer": "ipython3",
   "version": "3.9.10"
  },
  "orig_nbformat": 4,
  "vscode": {
   "interpreter": {
    "hash": "9ae7ae13804f56b6812076ff88d4c743516b7c995d69dd5984882be015e04ad2"
   }
  }
 },
 "nbformat": 4,
 "nbformat_minor": 2
}
