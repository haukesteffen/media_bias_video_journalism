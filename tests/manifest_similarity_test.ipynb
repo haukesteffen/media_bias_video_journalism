{
 "cells": [
  {
   "cell_type": "code",
   "execution_count": 1,
   "metadata": {},
   "outputs": [],
   "source": [
    "import spacy\n",
    "import pandas as pd\n",
    "from sklearn.metrics.pairwise import cosine_similarity\n",
    "nlp = spacy.load('de_core_news_sm')\n",
    "\n",
    "political_vocabulary = [\n",
    "    'freiheit',\n",
    "    'gleich',\n",
    "    'solidar',\n",
    "    'sozial',\n",
    "    'privatisierung',\n",
    "    'leistung',\n",
    "    'heimat',\n",
    "    'mitbestimmung',\n",
    "    'nachhaltig',\n",
    "    'umwelt',\n",
    "    'armut',\n",
    "    'diskriminier',\n",
    "    'demokratisier',\n",
    "    'digital',\n",
    "]\n",
    "\n",
    "parties = [\n",
    "    'afd',\n",
    "    'cdu_csu',\n",
    "    'fdp',\n",
    "    'spd',\n",
    "    'grüne',\n",
    "    'linke',\n",
    "]\n",
    "\n",
    "media = [\n",
    "    'junge Welt',\n",
    "    \"NachDenkSeiten\",\n",
    "    'taz',\n",
    "    'Süddeutsche Zeitung',\n",
    "    'stern TV',\n",
    "    \"DER SPIEGEL\",\n",
    "    'Der Tagesspiegel',\n",
    "    'ARD',\n",
    "    'Tagesschau',\n",
    "    'ZDF',\n",
    "    \"ZDFheute Nachrichten\",\n",
    "    'Bayerischer Rundfunk',\n",
    "    'ntv Nachrichten',\n",
    "    'RTL',\n",
    "    'FOCUS Online',\n",
    "    'ZEIT ONLINE',\n",
    "    'faz',\n",
    "    'WELT',\n",
    "    \"BILD\",\n",
    "    'NZZ Neue Zürcher Zeitung',\n",
    "    \"Junge Freiheit\",\n",
    "    'COMPACTTV'\n",
    "]"
   ]
  },
  {
   "cell_type": "code",
   "execution_count": 2,
   "metadata": {},
   "outputs": [],
   "source": [
    "def extract_party_phrase_counts(party):\n",
    "    with open(f\"../assets/manifests/{party}_manifest.txt\", encoding=\"utf-8\", errors=\"ignore\") as d:\n",
    "        manifest = d.read()\n",
    "    manifest = manifest.replace(\"0\", \"\")\n",
    "    manifest = manifest.replace(\"1\", \"\")\n",
    "    manifest = manifest.replace(\"2\", \"\")\n",
    "    manifest = manifest.replace(\"3\", \"\")\n",
    "    manifest = manifest.replace(\"4\", \"\")\n",
    "    manifest = manifest.replace(\"5\", \"\")\n",
    "    manifest = manifest.replace(\"6\", \"\")\n",
    "    manifest = manifest.replace(\"7\", \"\")\n",
    "    manifest = manifest.replace(\"8\", \"\")\n",
    "    manifest = manifest.replace(\"9\", \"\")\n",
    "    manifest = manifest.replace(\"-\\n\\n\", \"\")\n",
    "    manifest = manifest.replace(\"-\\n\", \"\")\n",
    "    manifest = manifest.replace(\"\\n\", \" \")\n",
    "    manifest = manifest.replace(\"\\x0c\", \" \")\n",
    "    manifest = manifest.replace(\".\", \" \")\n",
    "    manifest = manifest.replace(\",\", \" \")\n",
    "    manifest = manifest.replace(\"-\", \"\")\n",
    "    manifest = manifest.replace(\"•\", \"\")\n",
    "    manifest = manifest.replace(\"–\", \"\")\n",
    "    manifest = manifest.replace(\":\", \"\")\n",
    "    manifest = manifest.replace(\"%\", \"\")\n",
    "    manifest = manifest.replace(\"\\\"\", \"\")\n",
    "    manifest = manifest.replace(\">\", \"\")\n",
    "    manifest = manifest.replace(\"\\t\", \" \")\n",
    "    manifest = manifest.replace(\"\\x07\", \"\")\n",
    "    manifest = manifest.replace(\"\\x08\", \"\")\n",
    "    manifest = manifest.replace(\"\\xad\", \"\")\n",
    "    manifest = manifest.replace(\"\\xa0\", \"\")\n",
    "    manifest = manifest.replace(\"\\u200a\", \"\")\n",
    "    manifest = manifest.replace(\"?\", \"\")\n",
    "    manifest = manifest.replace(\"!\", \"\")\n",
    "    manifest = manifest.replace(\"(\", \"\")\n",
    "    manifest = manifest.replace(\")\", \"\")\n",
    "    manifest = manifest.replace(\"/\", \" \")\n",
    "    manifest = manifest.replace(\"�\", \"\")\n",
    "    manifest = manifest.replace(\"“\", \"\")\n",
    "    manifest = manifest.replace(\"„\", \"\")\n",
    "    manifest = manifest.replace(\"€\", \"\")\n",
    "    manifest = manifest.replace(\"K APITE L\", \" \")\n",
    "    manifest = manifest.replace(\"»\", \"\")\n",
    "    manifest = manifest.replace(\"«\", \"\")\n",
    "    with nlp.select_pipes(enable=\"lemmatizer\"):\n",
    "        doc = nlp(manifest)\n",
    "    lemmas = [token.lemma_.lower() for token in doc]\n",
    "    manifest_vocabulary = [lemma for lemma in lemmas if lemma.isalpha()]\n",
    "    phrase_counts = {phrase: 0 for phrase in political_vocabulary}\n",
    "    for political_phrase in political_vocabulary:\n",
    "        for manifest_phrase in manifest_vocabulary:\n",
    "            if manifest_phrase.__contains__(political_phrase):\n",
    "                phrase_counts[political_phrase] += 1\n",
    "    phrase_counts['total'] = len(manifest_vocabulary)\n",
    "    return pd.Series(phrase_counts)"
   ]
  },
  {
   "cell_type": "code",
   "execution_count": 3,
   "metadata": {},
   "outputs": [],
   "source": [
    "def extract_medium_phrase_counts(df, medium):\n",
    "    phrase_counts = {phrase: 0 for phrase in political_vocabulary}\n",
    "    for doc in df[df['medium'] == medium]['transcript']:\n",
    "        with nlp.select_pipes(enable=\"lemmatizer\"):\n",
    "            preprocessed = nlp(doc)\n",
    "        lemmas = [token.lemma_.lower() for token in preprocessed]\n",
    "        medium_vocabulary = [lemma for lemma in lemmas if lemma.isalpha()]\n",
    "        for political_phrase in political_vocabulary:\n",
    "            for medium_phrase in medium_vocabulary:\n",
    "                if medium_phrase.__contains__(political_phrase):\n",
    "                    phrase_counts[political_phrase] += 1\n",
    "    return pd.Series(phrase_counts)"
   ]
  },
  {
   "cell_type": "code",
   "execution_count": 4,
   "metadata": {},
   "outputs": [],
   "source": [
    "phrase_dict = {\n",
    "    party:extract_party_phrase_counts(party) for party in parties\n",
    "}\n",
    "party_df = pd.DataFrame(phrase_dict)"
   ]
  },
  {
   "cell_type": "code",
   "execution_count": 5,
   "metadata": {},
   "outputs": [],
   "source": [
    "df = pd.read_pickle('../data/topic.pkl')\n",
    "phrase_dict = {\n",
    "    medium:extract_medium_phrase_counts(df, medium) for medium in media\n",
    "}\n",
    "media_df = pd.DataFrame(phrase_dict)"
   ]
  },
  {
   "cell_type": "code",
   "execution_count": null,
   "metadata": {},
   "outputs": [],
   "source": [
    "party_similarity_dict = {}\n",
    "for party in parties:\n",
    "    medium_similarity_dict = {}\n",
    "    for medium in media:\n",
    "        medium_similarity_dict[medium] = cosine_similarity([party_df[party].iloc[:-1].to_list(), media_df[medium].to_list()])[0, 1]\n",
    "    medium_series = pd.Series(medium_similarity_dict) \n",
    "    party_similarity_dict[party] = medium_series\n",
    "similarity_df = pd.DataFrame(party_similarity_dict)"
   ]
  },
  {
   "cell_type": "code",
   "execution_count": null,
   "metadata": {},
   "outputs": [],
   "source": [
    "import seaborn as sns\n",
    "import matplotlib.pyplot as plt\n",
    "f, ax = plt.subplots(figsize=(9, 8))\n",
    "sns.heatmap(similarity_df, annot=True, fmt=\".2\", linewidths=.5, ax=ax)\n",
    "ax.set(xlabel='party', ylabel='medium', title='cosine similarity between party manifests and media vocabulary')"
   ]
  },
  {
   "cell_type": "code",
   "execution_count": null,
   "metadata": {},
   "outputs": [],
   "source": [
    "from sklearn.preprocessing import StandardScaler\n",
    "scaler = StandardScaler()\n",
    "scaler.fit(similarity_df)\n",
    "similarity_df_scaled = pd.DataFrame(scaler.transform(similarity_df), columns = similarity_df.columns, index=similarity_df.index)\n",
    "\n",
    "f, ax = plt.subplots(figsize=(9, 8))\n",
    "sns.heatmap(similarity_df_scaled, annot=True, fmt=\".2\", linewidths=.5, ax=ax)\n",
    "ax.set(xlabel='party', ylabel='medium', title='cosine similarity between party manifests and media vocabulary, standard scaler')"
   ]
  }
 ],
 "metadata": {
  "kernelspec": {
   "display_name": "Python 3.9.10 ('base')",
   "language": "python",
   "name": "python3"
  },
  "language_info": {
   "codemirror_mode": {
    "name": "ipython",
    "version": 3
   },
   "file_extension": ".py",
   "mimetype": "text/x-python",
   "name": "python",
   "nbconvert_exporter": "python",
   "pygments_lexer": "ipython3",
   "version": "3.9.10"
  },
  "orig_nbformat": 4,
  "vscode": {
   "interpreter": {
    "hash": "9ae7ae13804f56b6812076ff88d4c743516b7c995d69dd5984882be015e04ad2"
   }
  }
 },
 "nbformat": 4,
 "nbformat_minor": 2
}
